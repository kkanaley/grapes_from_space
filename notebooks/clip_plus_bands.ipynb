{
 "cells": [
  {
   "cell_type": "code",
   "execution_count": 17,
   "id": "7872d13b",
   "metadata": {},
   "outputs": [],
   "source": [
    "import os\n",
    "import glob\n",
    "import rasterio as rio\n",
    "from rasterio.mask import raster_geometry_mask\n",
    "from rasterio import plot\n",
    "import numpy as np\n",
    "import pandas as pd\n",
    "import matplotlib.pyplot as plt\n",
    "import json\n",
    "import copy\n",
    "import seaborn as sns\n",
    "\n",
    "import pyproj\n",
    "from scipy.interpolate import griddata\n",
    "from shapely.geometry import shape, MultiPolygon\n",
    "from shapely.ops import transform\n",
    "import geopandas as gpd"
   ]
  },
  {
   "cell_type": "code",
   "execution_count": 106,
   "id": "942dbf86",
   "metadata": {},
   "outputs": [],
   "source": [
    "# Clip all images to the desired aoi.\n",
    "\n",
    "def clip_to_aoi(path_to_aoi, img_path_list):\n",
    "    '''This function clips images to an area of interest.\n",
    "    Inputs:\n",
    "    path_to_aoi: the absolute path to a geojson file for the aoi - this needs to be in EPSG 4326\n",
    "    img_path_list: list of absolute path names for the images to clip.\n",
    "    \n",
    "    Output: saves the clipped images as .tif files to the same directory where the original images are stored'''\n",
    "    \n",
    "    with open(path_to_aoi, 'r') as f:\n",
    "        aoi = json.load(f)\n",
    "    aoi_geom = aoi['features'][0]['geometry']\n",
    "    \n",
    "    # find the coordinate reference system of the image\n",
    "    for i in img_path_list:\n",
    "        with rio.open(i) as src:\n",
    "            dst_crs = src.crs\n",
    "            wgs84 = pyproj.CRS('EPSG:4326')\n",
    "            project = pyproj.Transformer.from_crs(wgs84, dst_crs, always_xy=True).transform\n",
    "            proj_aoi = transform(project, shape(aoi_geom))\n",
    "            \n",
    "            mask, mask_transform = rio.mask.mask(src, [proj_aoi], crop=True)\n",
    "            mask_meta = src.meta\n",
    "            mask_meta.update({\"driver\": \"GTiff\",\n",
    "                 \"height\": mask.shape[1],\n",
    "                 \"width\": mask.shape[2],\n",
    "                 \"transform\": mask_transform})\n",
    "        \n",
    "        with rio.open(str(os.path.abspath(i).split('.tif')[0])+\"_clipped.tif\", \"w\", **mask_meta) as dest:\n",
    "            dest.write(mask)   "
   ]
  },
  {
   "cell_type": "code",
   "execution_count": 9,
   "id": "ea971214",
   "metadata": {},
   "outputs": [],
   "source": [
    "path_to_aoi = '../data/chardonnay_2020.geojson'"
   ]
  },
  {
   "cell_type": "code",
   "execution_count": 10,
   "id": "5fdff001",
   "metadata": {},
   "outputs": [
    {
     "data": {
      "text/plain": [
       "['../data/images/2020/SkySat/Coregistered_Scenes/20200812_153924_ssc3d2_0013_analytic_SR_corg_cor.tif',\n",
       " '../data/images/2020/SkySat/Coregistered_Scenes/20200805_154044_ssc13d2_0013_analytic_SR_corg_cor.tif',\n",
       " '../data/images/2020/SkySat/Coregistered_Scenes/20200618_160058_ssc3d2_0013_analytic_SR_corg_cor.tif',\n",
       " '../data/images/2020/SkySat/Coregistered_Scenes/20200710_155028_ssc3d2_0012_analytic_SR_corg_cor.tif',\n",
       " '../data/images/2020/SkySat/Coregistered_Scenes/20200625_154704_ssc12d2_0013_analytic_SR_corg_cor.tif']"
      ]
     },
     "execution_count": 10,
     "metadata": {},
     "output_type": "execute_result"
    }
   ],
   "source": [
    "ss_20 = glob.glob('../data/images/2020/SkySat/C*/*corg_cor.tif')\n",
    "ss_20"
   ]
  },
  {
   "cell_type": "code",
   "execution_count": 11,
   "id": "031211d5",
   "metadata": {},
   "outputs": [],
   "source": [
    "#clip_to_aoi(path_to_aoi, ss_20)"
   ]
  },
  {
   "cell_type": "code",
   "execution_count": 13,
   "id": "04a3e9f6",
   "metadata": {},
   "outputs": [],
   "source": [
    "ps_20 = glob.glob('../data/images/2020/PScope/2*.tif')\n",
    "ps_20\n",
    "#clip_to_aoi(path_to_aoi, ps_20)"
   ]
  },
  {
   "cell_type": "code",
   "execution_count": 22,
   "id": "dc98bc3f",
   "metadata": {},
   "outputs": [],
   "source": [
    "# 2021 - use geojson for all 20 rows\n",
    "\n",
    "path_20row = '../data/chardonnay_for_dora_EPSG4326.geojson'\n",
    "ss_21 = glob.glob('../data/images/2021/SkySat/2*.tif')\n",
    "ss_21\n",
    "#clip_to_aoi(path_20row, ss_21)"
   ]
  },
  {
   "cell_type": "code",
   "execution_count": 24,
   "id": "7a92c7eb",
   "metadata": {},
   "outputs": [],
   "source": [
    "ps_21 = glob.glob('../data/images/2021/PScope/2*.tif')\n",
    "ps_21\n",
    "#clip_to_aoi(path_20row, ps_21)"
   ]
  },
  {
   "cell_type": "code",
   "execution_count": 28,
   "id": "05cdbf59",
   "metadata": {},
   "outputs": [],
   "source": [
    "# 2022 - use geojson for all 20 rows\n",
    "\n",
    "ss_22 = glob.glob('../data/images/2022/SkySat/coreg/*.tif')\n",
    "ss_22\n",
    "#clip_to_aoi(path_20row, ss_22)"
   ]
  },
  {
   "cell_type": "code",
   "execution_count": 34,
   "id": "f43dd96f",
   "metadata": {},
   "outputs": [],
   "source": [
    "ps_22 = glob.glob('../data/images/2022/PScope/2*_3B_AnalyticMS_SR_8b_*.tif')\n",
    "ps_22\n",
    "#clip_to_aoi(path_20row, ps_22)"
   ]
  },
  {
   "cell_type": "code",
   "execution_count": 108,
   "id": "5f7a201e",
   "metadata": {},
   "outputs": [],
   "source": [
    "path_20row = '../data/chardonnay_for_dora_EPSG4326.geojson'\n",
    "ps_0828 = '../data/images/2022/PScope/20220828_151645_10_2262_3B_AnalyticMS_SR_8b_harmonized_clip.tif'\n",
    "clip_to_aoi(path_20row, [ps_0828])"
   ]
  },
  {
   "cell_type": "code",
   "execution_count": 98,
   "id": "8a2a1a86",
   "metadata": {},
   "outputs": [],
   "source": [
    "# Add interpolated disease bands - sev and incidence, dm and pm\n",
    "\n",
    "def get_centroids(scout_fp, centroids_fp):\n",
    "    # Drop panel geometries so gpd doesn't get confused\n",
    "    scout_data = pd.read_csv(scout_fp)\n",
    "    scout_data_points = scout_data.drop(['geometry'], axis=1)\n",
    "    # Convert to gdf\n",
    "    scout_data_points = gpd.GeoDataFrame(data=scout_data_points)\n",
    "    \n",
    "    centroids = gpd.read_file(centroids_fp)\n",
    "    \n",
    "    to_concat = centroids[['Row','Panel','xcoord','ycoord']]\n",
    "    #to_concat = to_concat.rename(columns={'row':'Row', 'panel':'Panel'})\n",
    "    to_concat['Row'] = pd.to_numeric(to_concat['Row'])\n",
    "    to_concat['Panel']=pd.to_numeric(to_concat['Panel'])\n",
    "    \n",
    "    concatted = scout_data_points.merge(to_concat, on=['Row','Panel'])\n",
    "    \n",
    "    return concatted\n",
    "\n",
    "def disease_grid(scout_gdf, epsg_crs, ras_fp, res, out_dir):\n",
    "    from pyproj import Transformer\n",
    "    from pyproj import CRS\n",
    "    \n",
    "    crs = CRS.from_epsg(epsg_crs)\n",
    "    \n",
    "    proj = Transformer.from_crs(crs.geodetic_crs, crs)\n",
    "    \n",
    "    x,y = proj.transform(scout_gdf.ycoord,scout_gdf.xcoord) # yes, x and y must be reversed\n",
    "    \n",
    "    points = list(zip(x,y))\n",
    "    dis_sev = scout_gdf.total_dis.values\n",
    "    dm_sev = scout_gdf.DM_severity.values\n",
    "    dm_inc = scout_gdf.DM_inc.values\n",
    "#     pm_sev = scout_gdf.PM_severity.values\n",
    "#     pm_inc = scout_gdf.PM_inc.values\n",
    "\n",
    "\n",
    "    \n",
    "    with rio.open(ras_fp) as src:\n",
    "        x_min= src.bounds[0]\n",
    "        x_max = src.bounds[2]\n",
    "        y_min = src.bounds[1]\n",
    "        y_max = src.bounds[3]\n",
    "        \n",
    "        ras_array = src.read()\n",
    "    \n",
    "    xRange = np.arange(x_min,x_max,res)\n",
    "    yRange = np.arange(y_max,y_min,-res)\n",
    "    \n",
    "    #create arrays of x,y over the raster extension\n",
    "    gridX,gridY = np.meshgrid(xRange, yRange)\n",
    "    \n",
    "    #interpolate over the grid\n",
    "    \n",
    "    #Total disease\n",
    "    grid_dis_sev = griddata(points, dis_sev, (gridX,gridY), method='cubic')\n",
    "    grid_dis_sev = np.reshape(grid_dis_sev, (1,grid_dis_sev.shape[0], grid_dis_sev.shape[1]))\n",
    "    \n",
    "    #DM\n",
    "    grid_dm_sev = griddata(points, dm_sev, (gridX,gridY), method='cubic')\n",
    "    grid_dm_sev = np.reshape(grid_dm_sev, (1,grid_dm_sev.shape[0], grid_dm_sev.shape[1]))\n",
    "    \n",
    "    grid_dm_inc = griddata(points, dm_inc, (gridX,gridY), method='cubic')\n",
    "    grid_dm_inc = np.reshape(grid_dm_inc, (1,grid_dm_inc.shape[0], grid_dm_inc.shape[1]))\n",
    "    \n",
    "    #PM\n",
    "#     grid_pm_sev = griddata(points, pm_sev, (gridX,gridY), method='cubic')\n",
    "#     grid_pm_sev = np.reshape(grid_pm_sev, (1,grid_pm_sev.shape[0], grid_pm_sev.shape[1]))\n",
    "    \n",
    "#     grid_pm_inc = griddata(points, pm_inc, (gridX,gridY), method='cubic')\n",
    "#     grid_pm_inc = np.reshape(grid_pm_inc, (1,grid_pm_inc.shape[0], grid_pm_inc.shape[1]))\n",
    "    \n",
    "    merged = np.vstack([ras_array, grid_dis_sev, grid_dm_sev, grid_dm_inc])#, grid_pm_sev, grid_pm_inc])\n",
    "    \n",
    "    from rasterio.transform import Affine\n",
    "    from rasterio.crs import CRS\n",
    "    \n",
    "    transform = Affine.translation(gridX[0][0], gridY[0][0])*Affine.scale(res,-res)\n",
    "    rasterCrs = CRS.from_epsg(32618)\n",
    "    \n",
    "    \n",
    "    with rio.open(ras_fp) as src:\n",
    "        kwargs = src.meta\n",
    "        band_ct = merged.shape[0]\n",
    "        kwargs.update(dtype=rio.float32, count=band_ct, crs=rasterCrs, transform=transform)\n",
    "        \n",
    "        with rio.open(out_dir+str(os.path.basename(ras_fp))+'_disease.tif', 'w', **kwargs) as dst:\n",
    "            for b in range(merged.shape[0]):\n",
    "                dst.write_band(b+1, merged[b].astype(rio.float32))\n"
   ]
  },
  {
   "cell_type": "code",
   "execution_count": 57,
   "id": "78b409bc",
   "metadata": {
    "collapsed": true
   },
   "outputs": [
    {
     "name": "stderr",
     "output_type": "stream",
     "text": [
      "/var/folders/hg/02pmwyy14wvgdv7n1gzwlx1w0000gn/T/ipykernel_1207/2828525534.py:14: SettingWithCopyWarning: \n",
      "A value is trying to be set on a copy of a slice from a DataFrame.\n",
      "Try using .loc[row_indexer,col_indexer] = value instead\n",
      "\n",
      "See the caveats in the documentation: https://pandas.pydata.org/pandas-docs/stable/user_guide/indexing.html#returning-a-view-versus-a-copy\n",
      "  to_concat['row'] = pd.to_numeric(to_concat['row'])\n",
      "/var/folders/hg/02pmwyy14wvgdv7n1gzwlx1w0000gn/T/ipykernel_1207/2828525534.py:15: SettingWithCopyWarning: \n",
      "A value is trying to be set on a copy of a slice from a DataFrame.\n",
      "Try using .loc[row_indexer,col_indexer] = value instead\n",
      "\n",
      "See the caveats in the documentation: https://pandas.pydata.org/pandas-docs/stable/user_guide/indexing.html#returning-a-view-versus-a-copy\n",
      "  to_concat['panel']=pd.to_numeric(to_concat['panel'])\n"
     ]
    },
    {
     "data": {
      "text/html": [
       "<div>\n",
       "<style scoped>\n",
       "    .dataframe tbody tr th:only-of-type {\n",
       "        vertical-align: middle;\n",
       "    }\n",
       "\n",
       "    .dataframe tbody tr th {\n",
       "        vertical-align: top;\n",
       "    }\n",
       "\n",
       "    .dataframe thead th {\n",
       "        text-align: right;\n",
       "    }\n",
       "</style>\n",
       "<table border=\"1\" class=\"dataframe\">\n",
       "  <thead>\n",
       "    <tr style=\"text-align: right;\">\n",
       "      <th></th>\n",
       "      <th>acquired</th>\n",
       "      <th>plot</th>\n",
       "      <th>blue</th>\n",
       "      <th>green</th>\n",
       "      <th>red</th>\n",
       "      <th>nir</th>\n",
       "      <th>row</th>\n",
       "      <th>panel</th>\n",
       "      <th>Date</th>\n",
       "      <th>Treatment</th>\n",
       "      <th>Block</th>\n",
       "      <th>PM_severity</th>\n",
       "      <th>DM_severity</th>\n",
       "      <th>total_dis</th>\n",
       "      <th>centroid</th>\n",
       "      <th>PM_inc</th>\n",
       "      <th>DM_inc</th>\n",
       "      <th>xcoord</th>\n",
       "      <th>ycoord</th>\n",
       "    </tr>\n",
       "  </thead>\n",
       "  <tbody>\n",
       "    <tr>\n",
       "      <th>0</th>\n",
       "      <td>20200618</td>\n",
       "      <td>1</td>\n",
       "      <td>0.040044</td>\n",
       "      <td>0.077491</td>\n",
       "      <td>0.071216</td>\n",
       "      <td>0.353575</td>\n",
       "      <td>1</td>\n",
       "      <td>1</td>\n",
       "      <td>2020-06-18</td>\n",
       "      <td>5.0</td>\n",
       "      <td>PM</td>\n",
       "      <td>0.0</td>\n",
       "      <td>0.00</td>\n",
       "      <td>0.00</td>\n",
       "      <td>POINT (-77.0153084903025 42.8783140936145)</td>\n",
       "      <td>0.0</td>\n",
       "      <td>0.0</td>\n",
       "      <td>-77.01530849</td>\n",
       "      <td>42.87831409</td>\n",
       "    </tr>\n",
       "    <tr>\n",
       "      <th>1</th>\n",
       "      <td>20200618</td>\n",
       "      <td>2</td>\n",
       "      <td>0.044693</td>\n",
       "      <td>0.081807</td>\n",
       "      <td>0.077133</td>\n",
       "      <td>0.336587</td>\n",
       "      <td>1</td>\n",
       "      <td>2</td>\n",
       "      <td>2020-06-18</td>\n",
       "      <td>9.0</td>\n",
       "      <td>PM</td>\n",
       "      <td>0.0</td>\n",
       "      <td>0.05</td>\n",
       "      <td>5.05</td>\n",
       "      <td>POINT (-77.0153965503027 42.87833067861654)</td>\n",
       "      <td>0.0</td>\n",
       "      <td>5.0</td>\n",
       "      <td>-77.01539655</td>\n",
       "      <td>42.87833068</td>\n",
       "    </tr>\n",
       "    <tr>\n",
       "      <th>2</th>\n",
       "      <td>20200625</td>\n",
       "      <td>2</td>\n",
       "      <td>0.053707</td>\n",
       "      <td>0.071710</td>\n",
       "      <td>0.059907</td>\n",
       "      <td>0.272707</td>\n",
       "      <td>1</td>\n",
       "      <td>2</td>\n",
       "      <td>2020-06-25</td>\n",
       "      <td>9.0</td>\n",
       "      <td>PM</td>\n",
       "      <td>0.0</td>\n",
       "      <td>0.00</td>\n",
       "      <td>0.15</td>\n",
       "      <td>POINT (-77.0153965503027 42.87833067861654)</td>\n",
       "      <td>0.0</td>\n",
       "      <td>0.0</td>\n",
       "      <td>-77.01539655</td>\n",
       "      <td>42.87833068</td>\n",
       "    </tr>\n",
       "    <tr>\n",
       "      <th>3</th>\n",
       "      <td>20200710</td>\n",
       "      <td>2</td>\n",
       "      <td>0.048067</td>\n",
       "      <td>0.066793</td>\n",
       "      <td>0.062333</td>\n",
       "      <td>0.252887</td>\n",
       "      <td>1</td>\n",
       "      <td>2</td>\n",
       "      <td>2020-07-09</td>\n",
       "      <td>9.0</td>\n",
       "      <td>PM</td>\n",
       "      <td>0.0</td>\n",
       "      <td>0.00</td>\n",
       "      <td>0.05</td>\n",
       "      <td>POINT (-77.0153965503027 42.87833067861654)</td>\n",
       "      <td>0.0</td>\n",
       "      <td>0.0</td>\n",
       "      <td>-77.01539655</td>\n",
       "      <td>42.87833068</td>\n",
       "    </tr>\n",
       "    <tr>\n",
       "      <th>4</th>\n",
       "      <td>20200710</td>\n",
       "      <td>2</td>\n",
       "      <td>0.048067</td>\n",
       "      <td>0.066793</td>\n",
       "      <td>0.062333</td>\n",
       "      <td>0.252887</td>\n",
       "      <td>1</td>\n",
       "      <td>2</td>\n",
       "      <td>2020-07-09</td>\n",
       "      <td>9.0</td>\n",
       "      <td>PM</td>\n",
       "      <td>0.0</td>\n",
       "      <td>0.00</td>\n",
       "      <td>15.00</td>\n",
       "      <td>POINT (-77.0153965503027 42.87833067861654)</td>\n",
       "      <td>NaN</td>\n",
       "      <td>NaN</td>\n",
       "      <td>-77.01539655</td>\n",
       "      <td>42.87833068</td>\n",
       "    </tr>\n",
       "  </tbody>\n",
       "</table>\n",
       "</div>"
      ],
      "text/plain": [
       "   acquired  plot      blue     green       red       nir  row  panel  \\\n",
       "0  20200618     1  0.040044  0.077491  0.071216  0.353575    1      1   \n",
       "1  20200618     2  0.044693  0.081807  0.077133  0.336587    1      2   \n",
       "2  20200625     2  0.053707  0.071710  0.059907  0.272707    1      2   \n",
       "3  20200710     2  0.048067  0.066793  0.062333  0.252887    1      2   \n",
       "4  20200710     2  0.048067  0.066793  0.062333  0.252887    1      2   \n",
       "\n",
       "         Date  Treatment Block  PM_severity  DM_severity  total_dis  \\\n",
       "0  2020-06-18        5.0    PM          0.0         0.00       0.00   \n",
       "1  2020-06-18        9.0    PM          0.0         0.05       5.05   \n",
       "2  2020-06-25        9.0    PM          0.0         0.00       0.15   \n",
       "3  2020-07-09        9.0    PM          0.0         0.00       0.05   \n",
       "4  2020-07-09        9.0    PM          0.0         0.00      15.00   \n",
       "\n",
       "                                      centroid  PM_inc  DM_inc        xcoord  \\\n",
       "0   POINT (-77.0153084903025 42.8783140936145)     0.0     0.0  -77.01530849   \n",
       "1  POINT (-77.0153965503027 42.87833067861654)     0.0     5.0  -77.01539655   \n",
       "2  POINT (-77.0153965503027 42.87833067861654)     0.0     0.0  -77.01539655   \n",
       "3  POINT (-77.0153965503027 42.87833067861654)     0.0     0.0  -77.01539655   \n",
       "4  POINT (-77.0153965503027 42.87833067861654)     NaN     NaN  -77.01539655   \n",
       "\n",
       "        ycoord  \n",
       "0  42.87831409  \n",
       "1  42.87833068  \n",
       "2  42.87833068  \n",
       "3  42.87833068  \n",
       "4  42.87833068  "
      ]
     },
     "execution_count": 57,
     "metadata": {},
     "output_type": "execute_result"
    }
   ],
   "source": [
    "# Test adding interpolated dis. bands to a set of clipped images\n",
    "\n",
    "# 2020\n",
    "\n",
    "clipped_2020 = glob.glob('../data/images/2020/PScope/clipped*/*.tif')\n",
    "clipped_2020\n",
    "\n",
    "gdf_2020 = '../data/img_scout_dfs/2020/INC_coreg_skysat_scout_2020.csv'\n",
    "cent_path = '../data/panels_xy.csv'\n",
    "xy_2020 = get_centroids(gdf_2020, cent_path)\n",
    "xy_2020.head()"
   ]
  },
  {
   "cell_type": "code",
   "execution_count": 58,
   "id": "600b571c",
   "metadata": {},
   "outputs": [
    {
     "data": {
      "text/plain": [
       "['../data/images/2020/PScope/clipped_2020/20200801_151354_03_2212_3B_AnalyticMS_SR_8b_harmonized_clip_clipped.tif',\n",
       " '../data/images/2020/PScope/clipped_2020/20200616_151605_21_2304_3B_AnalyticMS_SR_8b_harmonized_clip_clipped.tif',\n",
       " '../data/images/2020/PScope/clipped_2020/20200713_151457_44_2278_3B_AnalyticMS_SR_8b_harmonized_clip_clipped.tif']"
      ]
     },
     "execution_count": 58,
     "metadata": {},
     "output_type": "execute_result"
    }
   ],
   "source": [
    "clipped_2020"
   ]
  },
  {
   "cell_type": "code",
   "execution_count": 60,
   "id": "3531a4a5",
   "metadata": {},
   "outputs": [
    {
     "data": {
      "text/plain": [
       "array([20200618, 20200625, 20200710, 20200805, 20200812])"
      ]
     },
     "execution_count": 60,
     "metadata": {},
     "output_type": "execute_result"
    }
   ],
   "source": [
    "# Split xy_2020 into daily dfs\n",
    "dates = xy_2020.acquired.unique()\n",
    "\n",
    "daily_dfs =[]\n",
    "for date in dates:\n",
    "    daily_df = xy_2020[xy_2020['acquired']==date]\n",
    "    daily_dfs.append(daily_df)\n",
    "\n",
    "dates"
   ]
  },
  {
   "cell_type": "code",
   "execution_count": 62,
   "id": "32d174a5",
   "metadata": {},
   "outputs": [],
   "source": [
    "# Fill DM_inc and severity NAN with zero\n",
    "\n",
    "for df in daily_dfs:\n",
    "    values = {\"DM_inc\": 0, \"DM_severity\":0}\n",
    "    df = df.fillna(value=values)"
   ]
  },
  {
   "cell_type": "code",
   "execution_count": 63,
   "id": "bef2139d",
   "metadata": {},
   "outputs": [],
   "source": [
    "epsg_crs = 32618\n",
    "out_dir = '../data/images/2020/PScope/dis_band_2020/'\n",
    "\n",
    "# # 20200618 image\n",
    "# disease_grid(daily_dfs[0], epsg_crs, clipped_2020[1], 3, out_dir)"
   ]
  },
  {
   "cell_type": "code",
   "execution_count": 64,
   "id": "8775c7a2",
   "metadata": {},
   "outputs": [],
   "source": [
    "# 20200710\n",
    "# disease_grid(daily_dfs[2], epsg_crs, clipped_2020[2], 3, out_dir)\n",
    "# #20200805\n",
    "# disease_grid(daily_dfs[3], epsg_crs, clipped_2020[0], 3, out_dir)"
   ]
  },
  {
   "cell_type": "code",
   "execution_count": 67,
   "id": "4db3f8dc",
   "metadata": {},
   "outputs": [],
   "source": [
    "# Add dis. sev. and inc. bands for 2020 SkySat\n",
    "\n",
    "ss_clipped_2020 = glob.glob('../data/images/2020/SkySat/clipped*/*.tif')\n",
    "out_dir = '../data/images/2020/SkySat/dis_band_2020/'"
   ]
  },
  {
   "cell_type": "code",
   "execution_count": 68,
   "id": "79e7c05e",
   "metadata": {},
   "outputs": [
    {
     "data": {
      "text/plain": [
       "['../data/images/2020/SkySat/clipped_2020/20200618_160058_ssc3d2_0013_analytic_SR_corg_cor_clipped.tif',\n",
       " '../data/images/2020/SkySat/clipped_2020/20200625_154704_ssc12d2_0013_analytic_SR_corg_cor_clipped.tif',\n",
       " '../data/images/2020/SkySat/clipped_2020/20200812_153924_ssc3d2_0013_analytic_SR_corg_cor_clipped.tif',\n",
       " '../data/images/2020/SkySat/clipped_2020/20200805_154044_ssc13d2_0013_analytic_SR_corg_cor_clipped.tif',\n",
       " '../data/images/2020/SkySat/clipped_2020/20200710_155028_ssc3d2_0012_analytic_SR_corg_cor_clipped.tif']"
      ]
     },
     "execution_count": 68,
     "metadata": {},
     "output_type": "execute_result"
    }
   ],
   "source": [
    "ss_clipped_2020"
   ]
  },
  {
   "cell_type": "code",
   "execution_count": 69,
   "id": "51bd5570",
   "metadata": {},
   "outputs": [
    {
     "data": {
      "text/plain": [
       "array([20200618, 20200625, 20200710, 20200805, 20200812])"
      ]
     },
     "execution_count": 69,
     "metadata": {},
     "output_type": "execute_result"
    }
   ],
   "source": [
    "dates"
   ]
  },
  {
   "cell_type": "code",
   "execution_count": 70,
   "id": "322a6bec",
   "metadata": {},
   "outputs": [],
   "source": [
    "# 20200618 \n",
    "\n",
    "# disease_grid(daily_dfs[0], epsg_crs, ss_clipped_2020[0], 0.5, out_dir)\n",
    "\n",
    "# #20200625\n",
    "# disease_grid(daily_dfs[1], epsg_crs, ss_clipped_2020[1], 0.5, out_dir)\n",
    "\n",
    "# #20200710\n",
    "# disease_grid(daily_dfs[2], epsg_crs, ss_clipped_2020[4], 0.5, out_dir)\n",
    "\n",
    "# #20200805\n",
    "# disease_grid(daily_dfs[3], epsg_crs, ss_clipped_2020[3], 0.5, out_dir)\n",
    "\n",
    "# #20200812\n",
    "# disease_grid(daily_dfs[4], epsg_crs, ss_clipped_2020[2], 0.5, out_dir)\n"
   ]
  },
  {
   "cell_type": "code",
   "execution_count": 77,
   "id": "9c50c88e",
   "metadata": {
    "collapsed": true
   },
   "outputs": [
    {
     "name": "stdout",
     "output_type": "stream",
     "text": [
      "<class 'pandas.core.frame.DataFrame'>\n",
      "Int64Index: 1195 entries, 0 to 1194\n",
      "Data columns (total 19 columns):\n",
      " #   Column       Non-Null Count  Dtype  \n",
      "---  ------       --------------  -----  \n",
      " 0   acquired     1195 non-null   int64  \n",
      " 1   plot         1195 non-null   int64  \n",
      " 2   blue         1195 non-null   float64\n",
      " 3   green        1195 non-null   float64\n",
      " 4   red          1195 non-null   float64\n",
      " 5   nir          1195 non-null   float64\n",
      " 6   row          1195 non-null   int64  \n",
      " 7   panel        1195 non-null   int64  \n",
      " 8   Date         1195 non-null   object \n",
      " 9   Treatment    1195 non-null   float64\n",
      " 10  Block        1195 non-null   object \n",
      " 11  PM_severity  1195 non-null   float64\n",
      " 12  DM_severity  1195 non-null   float64\n",
      " 13  total_dis    1195 non-null   float64\n",
      " 14  centroid     1195 non-null   object \n",
      " 15  PM_inc       1195 non-null   float64\n",
      " 16  DM_inc       1195 non-null   float64\n",
      " 17  xcoord       1195 non-null   object \n",
      " 18  ycoord       1195 non-null   object \n",
      "dtypes: float64(10), int64(4), object(5)\n",
      "memory usage: 186.7+ KB\n"
     ]
    },
    {
     "name": "stderr",
     "output_type": "stream",
     "text": [
      "/var/folders/hg/02pmwyy14wvgdv7n1gzwlx1w0000gn/T/ipykernel_1207/2828525534.py:14: SettingWithCopyWarning: \n",
      "A value is trying to be set on a copy of a slice from a DataFrame.\n",
      "Try using .loc[row_indexer,col_indexer] = value instead\n",
      "\n",
      "See the caveats in the documentation: https://pandas.pydata.org/pandas-docs/stable/user_guide/indexing.html#returning-a-view-versus-a-copy\n",
      "  to_concat['row'] = pd.to_numeric(to_concat['row'])\n",
      "/var/folders/hg/02pmwyy14wvgdv7n1gzwlx1w0000gn/T/ipykernel_1207/2828525534.py:15: SettingWithCopyWarning: \n",
      "A value is trying to be set on a copy of a slice from a DataFrame.\n",
      "Try using .loc[row_indexer,col_indexer] = value instead\n",
      "\n",
      "See the caveats in the documentation: https://pandas.pydata.org/pandas-docs/stable/user_guide/indexing.html#returning-a-view-versus-a-copy\n",
      "  to_concat['panel']=pd.to_numeric(to_concat['panel'])\n"
     ]
    }
   ],
   "source": [
    "# Add dis. inc. and sev. to 2021 PS and SS\n",
    "\n",
    "ps_2021 = glob.glob(\"../data/images/2021/PScope/clipped_2021/*.tif\")\n",
    "ps_2021\n",
    "ss_2021 = glob.glob(\"../data/images/2021/SkySat/clipped_2021/*.tif\")\n",
    "ss_2021\n",
    "gdf_2021 = '../data/img_scout_dfs/2021/INC_skysat_scout_2021.csv'\n",
    "cent_path = '../data/panels_xy.csv'\n",
    "xy_2021 = get_centroids(gdf_2021, cent_path)\n",
    "xy_2021.info()\n",
    "out_dir_ps = '../data/images/2021/PScope/dis_band_2021/'\n",
    "out_dir_ss = '../data/images/2021/SkySat/dis_band_2021/'"
   ]
  },
  {
   "cell_type": "code",
   "execution_count": 78,
   "id": "013acc7b",
   "metadata": {},
   "outputs": [
    {
     "data": {
      "text/plain": [
       "array([20210707, 20210726, 20210802, 20210809, 20210816])"
      ]
     },
     "execution_count": 78,
     "metadata": {},
     "output_type": "execute_result"
    }
   ],
   "source": [
    "# Split xy_2021 into daily dfs\n",
    "dates_2021 = xy_2021.acquired.unique()\n",
    "\n",
    "daily_dfs_2021 =[]\n",
    "for date in dates_2021:\n",
    "    daily_df = xy_2021[xy_2021['acquired']==date]\n",
    "    daily_dfs_2021.append(daily_df)\n",
    "\n",
    "dates_2021"
   ]
  },
  {
   "cell_type": "code",
   "execution_count": 79,
   "id": "14e3d658",
   "metadata": {},
   "outputs": [],
   "source": [
    "# Fill DM_inc and severity NAN with zero\n",
    "\n",
    "for df in daily_dfs_2021:\n",
    "    values = {\"DM_inc\": 0, \"DM_severity\":0}\n",
    "    df = df.fillna(value=values)"
   ]
  },
  {
   "cell_type": "code",
   "execution_count": 82,
   "id": "ed81cb68",
   "metadata": {},
   "outputs": [
    {
     "data": {
      "text/plain": [
       "['../data/images/2021/SkySat/clipped_2021/20210809_185329_ssc9d2_0014_ar_clipped.tif',\n",
       " '../data/images/2021/SkySat/clipped_2021/20210816_171007_ssc18d2_0015_ar_clipped.tif',\n",
       " '../data/images/2021/SkySat/clipped_2021/20210707_150122_ssc19d2_0016_ar_clipped.tif',\n",
       " '../data/images/2021/SkySat/clipped_2021/20210726_160338_ssc1d2_0013_ar_clipped.tif',\n",
       " '../data/images/2021/SkySat/clipped_2021/20210802_184019_ssc10d2_0005_ar_clipped.tif']"
      ]
     },
     "execution_count": 82,
     "metadata": {},
     "output_type": "execute_result"
    }
   ],
   "source": [
    "ss_2021"
   ]
  },
  {
   "cell_type": "code",
   "execution_count": 81,
   "id": "9754bc86",
   "metadata": {},
   "outputs": [],
   "source": [
    "#PS\n",
    "# 20210707 \n",
    "# disease_grid(daily_dfs_2021[0], epsg_crs, ps_2021[0], 3, out_dir_ps)\n",
    "\n",
    "# # 20210726\n",
    "# disease_grid(daily_dfs_2021[1], epsg_crs, ps_2021[4], 3, out_dir_ps)\n",
    "\n",
    "# # 20210802\n",
    "# disease_grid(daily_dfs_2021[2], epsg_crs, ps_2021[1], 3, out_dir_ps)\n",
    "\n",
    "# #20210809\n",
    "# disease_grid(daily_dfs_2021[3], epsg_crs, ps_2021[2], 3, out_dir_ps)\n",
    "\n"
   ]
  },
  {
   "cell_type": "code",
   "execution_count": 83,
   "id": "d0b8b100",
   "metadata": {},
   "outputs": [],
   "source": [
    "#SS\n",
    "# 20210707 \n",
    "# disease_grid(daily_dfs_2021[0], epsg_crs, ss_2021[2], 0.5, out_dir_ss)\n",
    "\n",
    "# # # 20210726\n",
    "# disease_grid(daily_dfs_2021[1], epsg_crs, ss_2021[3], 0.5, out_dir_ss)\n",
    "\n",
    "# # # 20210802\n",
    "# disease_grid(daily_dfs_2021[2], epsg_crs, ss_2021[4], 0.5, out_dir_ss)\n",
    "\n",
    "# # #20210809\n",
    "# disease_grid(daily_dfs_2021[3], epsg_crs, ss_2021[0], 0.5, out_dir_ss)\n",
    "\n",
    "# #20210816\n",
    "# disease_grid(daily_dfs_2021[4], epsg_crs, ss_2021[1], 0.5, out_dir_ss)"
   ]
  },
  {
   "cell_type": "code",
   "execution_count": 109,
   "id": "aa6ed06f",
   "metadata": {},
   "outputs": [
    {
     "name": "stdout",
     "output_type": "stream",
     "text": [
      "<class 'pandas.core.frame.DataFrame'>\n",
      "Int64Index: 1871 entries, 0 to 1870\n",
      "Data columns (total 13 columns):\n",
      " #   Column       Non-Null Count  Dtype  \n",
      "---  ------       --------------  -----  \n",
      " 0   Date         1871 non-null   object \n",
      " 1   Row          1871 non-null   int64  \n",
      " 2   Panel        1871 non-null   int64  \n",
      " 3   Treatment    1871 non-null   int64  \n",
      " 4   Block        1871 non-null   object \n",
      " 5   PM_severity  1679 non-null   float64\n",
      " 6   DM_severity  1871 non-null   float64\n",
      " 7   total_dis    1679 non-null   float64\n",
      " 8   centroid     1871 non-null   object \n",
      " 9   DM_inc       1871 non-null   float64\n",
      " 10  PM_inc       1679 non-null   float64\n",
      " 11  xcoord       1871 non-null   object \n",
      " 12  ycoord       1871 non-null   object \n",
      "dtypes: float64(5), int64(3), object(5)\n",
      "memory usage: 204.6+ KB\n"
     ]
    },
    {
     "name": "stderr",
     "output_type": "stream",
     "text": [
      "/var/folders/hg/02pmwyy14wvgdv7n1gzwlx1w0000gn/T/ipykernel_1207/2850047741.py:14: SettingWithCopyWarning: \n",
      "A value is trying to be set on a copy of a slice from a DataFrame.\n",
      "Try using .loc[row_indexer,col_indexer] = value instead\n",
      "\n",
      "See the caveats in the documentation: https://pandas.pydata.org/pandas-docs/stable/user_guide/indexing.html#returning-a-view-versus-a-copy\n",
      "  to_concat['Row'] = pd.to_numeric(to_concat['Row'])\n",
      "/var/folders/hg/02pmwyy14wvgdv7n1gzwlx1w0000gn/T/ipykernel_1207/2850047741.py:15: SettingWithCopyWarning: \n",
      "A value is trying to be set on a copy of a slice from a DataFrame.\n",
      "Try using .loc[row_indexer,col_indexer] = value instead\n",
      "\n",
      "See the caveats in the documentation: https://pandas.pydata.org/pandas-docs/stable/user_guide/indexing.html#returning-a-view-versus-a-copy\n",
      "  to_concat['Panel']=pd.to_numeric(to_concat['Panel'])\n"
     ]
    }
   ],
   "source": [
    "# Add dis. inc. and sev. to 2022 PS and SS\n",
    "\n",
    "ps_2022 = glob.glob(\"../data/images/2022/PScope/clipped_2022/*.tif\")\n",
    "ps_2022\n",
    "ss_2022 = glob.glob(\"../data/images/2022/SkySat/clipped_2022/*.tif\")\n",
    "ss_2022\n",
    "gdf_2022 = '../data/scout/scout_incidence/scout_inc_2022.csv'\n",
    "cent_path = '../data/panels_xy.csv'\n",
    "xy_2022 = get_centroids(gdf_2022, cent_path)\n",
    "xy_2022.info()\n",
    "out_dir_ps = '../data/images/2022/PScope/dis_band_2022/'\n",
    "out_dir_ss = '../data/images/2022/SkySat/dis_band_2022/'"
   ]
  },
  {
   "cell_type": "code",
   "execution_count": 110,
   "id": "db20da19",
   "metadata": {},
   "outputs": [
    {
     "data": {
      "text/plain": [
       "array(['2022-06-22', '2022-06-29', '2022-07-06', '2022-07-14',\n",
       "       '2022-07-20', '2022-07-27', '2022-08-02', '2022-08-09',\n",
       "       '2022-08-29'], dtype=object)"
      ]
     },
     "execution_count": 110,
     "metadata": {},
     "output_type": "execute_result"
    }
   ],
   "source": [
    "# Split xy_2022 into daily dfs\n",
    "dates_2022 = xy_2022.Date.unique()\n",
    "\n",
    "daily_dfs_2022 =[]\n",
    "for date in dates_2022:\n",
    "    daily_df = xy_2022[xy_2022['Date']==date]\n",
    "    daily_dfs_2022.append(daily_df)\n",
    "\n",
    "dates_2022"
   ]
  },
  {
   "cell_type": "code",
   "execution_count": 111,
   "id": "6f70a9fa",
   "metadata": {},
   "outputs": [],
   "source": [
    "# Fill DM_inc and severity NAN with zero\n",
    "\n",
    "for df in daily_dfs_2022:\n",
    "    values = {\"DM_inc\": 0, \"DM_severity\":0}\n",
    "    df = df.fillna(value=values)"
   ]
  },
  {
   "cell_type": "code",
   "execution_count": 114,
   "id": "f0b527ca",
   "metadata": {},
   "outputs": [
    {
     "data": {
      "text/plain": [
       "['../data/images/2022/SkySat/clipped_2022/20220801_151508_ssc13d2_0011_analytic_SR_corg_clipped.tif',\n",
       " '../data/images/2022/SkySat/clipped_2022/20220622_160829_ssc15d2_0014_analytic_SR_corg_clipped.tif',\n",
       " '../data/images/2022/SkySat/clipped_2022/20220720_153112_ssc4d2_0013_analytic_SR_clipped_clipped.tif']"
      ]
     },
     "execution_count": 114,
     "metadata": {},
     "output_type": "execute_result"
    }
   ],
   "source": [
    "ss_2022"
   ]
  },
  {
   "cell_type": "code",
   "execution_count": 113,
   "id": "630172ba",
   "metadata": {},
   "outputs": [],
   "source": [
    "#PS\n",
    "# 2022-06-22 \n",
    "# disease_grid(daily_dfs_2022[0], epsg_crs, ps_2022[5], 3, out_dir_ps)\n",
    "\n",
    "# # 2022-06-29\n",
    "# disease_grid(daily_dfs_2022[1], epsg_crs, ps_2022[0], 3, out_dir_ps)\n",
    "\n",
    "# # 2022-07-06\n",
    "# disease_grid(daily_dfs_2022[2], epsg_crs, ps_2022[8], 3, out_dir_ps)\n",
    "\n",
    "# #2022-07-27\n",
    "# disease_grid(daily_dfs_2022[5], epsg_crs, ps_2022[9], 3, out_dir_ps)\n",
    "\n",
    "# #2022-08-02\n",
    "# disease_grid(daily_dfs_2022[6], epsg_crs, ps_2022[11], 3, out_dir_ps)\n",
    "\n",
    "# #2022-08-29\n",
    "# disease_grid(daily_dfs_2022[8], epsg_crs, ps_2022[3], 3, out_dir_ps)\n"
   ]
  },
  {
   "cell_type": "code",
   "execution_count": 115,
   "id": "12ecfec9",
   "metadata": {},
   "outputs": [],
   "source": [
    "#SS\n",
    "# # 20220622 \n",
    "# disease_grid(daily_dfs_2022[0], epsg_crs, ss_2022[1], 0.5, out_dir_ss)\n",
    "\n",
    "# # 20220720\n",
    "# disease_grid(daily_dfs_2022[4], epsg_crs, ss_2022[2], 0.5, out_dir_ss)\n",
    "\n",
    "# # 20220801\n",
    "# disease_grid(daily_dfs_2022[6], epsg_crs, ss_2022[0], 0.5, out_dir_ss)"
   ]
  },
  {
   "cell_type": "code",
   "execution_count": 21,
   "id": "81db2def",
   "metadata": {},
   "outputs": [],
   "source": [
    "# Add smr band\n",
    "endmember_file = '../data/endmembers_msi_noSwir.csv'\n",
    "\n",
    "# Next: array to raster\n",
    "\n",
    "def smr_weights_raster(image, em_file) :\n",
    "    '''Calculates the spectral mixture residual (smr) weights for each pixel\n",
    "    in an image based on input endmember file.\n",
    "    \n",
    "    image: (string) path to raster \n",
    "    em_file: (string) path to .csv with reflectance values for each endmember\n",
    "    \n",
    "    returns: array with original image bands + endmembers'''\n",
    "       \n",
    "\n",
    "    # ATTENTION, MAKE SURE ENDMEMBER FILE IS ACCESSIBLE\n",
    "    \n",
    "    endmembers = endmember_file\n",
    "    \n",
    "    with rio.open(image) as src:\n",
    "        raster_arr = np.array(src.read())\n",
    "        raster_arr = raster_arr/10000 #scale reflectance values\n",
    "   \n",
    "\n",
    "    w = 1 # sum constraint weight\n",
    "    D = raster_arr # numpy-nD array\n",
    "    d = np.reshape(D, [D.shape[0], D.shape[1]*D.shape[2]]) # dimensions\n",
    "    G = pd.read_csv(endmembers, sep='[,|\\t]', header = None).to_numpy()\n",
    "    \n",
    "    wavelength = G[:,0]\n",
    "    G = G[:, 1:G.shape[1]].astype(np.float64)\n",
    "\n",
    "    d_constraint = np.array(w*np.ones(d.shape[1]))\n",
    "    G_constraint = np.array(w*np.ones(G.shape[1]))\n",
    "\n",
    "    d = np.vstack([d, d_constraint])\n",
    "    G = np.vstack([G, G_constraint])\n",
    "\n",
    "    mixtureResidual_alt = d-(G.dot(np.linalg.inv(G.transpose().dot(G)).dot(G.transpose()))).dot(d)\n",
    "    mixtureResidual_alt_reShp = np.reshape(mixtureResidual_alt,[d.shape[0],D.shape[1],D.shape[2]])\n",
    "    \n",
    "    M = np.linalg.inv(G.transpose().dot(G)).dot(G.transpose().dot(d))\n",
    "    M_reShp = np.reshape(M,[M.shape[0], D.shape[1], D.shape[2]])\n",
    "    \n",
    "    w1 = M_reShp[0]\n",
    "    w2 = M_reShp[1]\n",
    "    \n",
    "    em_ratio = np.divide(w1,\\\n",
    "                         w1+w2,\\\n",
    "                         out=np.zeros_like(w1),\\\n",
    "                         where=(w1+w2)!=0)\n",
    "    \n",
    "    #Reshape em_ratio to enable stacking with original 3D img array\n",
    "    \n",
    "    em_ratio_rs = em_ratio.reshape(1,em_ratio.shape[0],em_ratio.shape[1])\n",
    "    \n",
    "    stacked_arr = np.vstack([raster_arr, em_ratio_rs])\n",
    "    \n",
    "    # Save stacked array as raster\n",
    "    with rio.open(image) as src:\n",
    "        kwargs = src.meta\n",
    "        band_ct = stacked_arr.shape[0]\n",
    "        kwargs.update(dtype=rio.float32, count=band_ct)\n",
    "        \n",
    "        with rio.open(str(os.path.split(image)[0])+'/SMR_'+str(os.path.basename(image)), 'w', **kwargs) as dst:\n",
    "            for b in range(stacked_arr.shape[0]):\n",
    "                dst.write_band(b+1, stacked_arr[b].astype(rio.float32))"
   ]
  }
 ],
 "metadata": {
  "kernelspec": {
   "display_name": "Python 3 (ipykernel)",
   "language": "python",
   "name": "python3"
  },
  "language_info": {
   "codemirror_mode": {
    "name": "ipython",
    "version": 3
   },
   "file_extension": ".py",
   "mimetype": "text/x-python",
   "name": "python",
   "nbconvert_exporter": "python",
   "pygments_lexer": "ipython3",
   "version": "3.10.6"
  }
 },
 "nbformat": 4,
 "nbformat_minor": 5
}
