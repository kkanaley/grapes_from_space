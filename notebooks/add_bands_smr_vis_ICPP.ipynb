{
 "cells": [
  {
   "cell_type": "code",
   "execution_count": 1,
   "id": "7c5b34ad",
   "metadata": {},
   "outputs": [],
   "source": [
    "import os\n",
    "import glob\n",
    "import rasterio as rio\n",
    "from rasterio.mask import raster_geometry_mask\n",
    "from rasterio import plot\n",
    "import numpy as np\n",
    "import pandas as pd\n",
    "import matplotlib.pyplot as plt\n",
    "import json\n",
    "import copy\n",
    "import seaborn as sns"
   ]
  },
  {
   "cell_type": "code",
   "execution_count": 2,
   "id": "9bf366fd",
   "metadata": {},
   "outputs": [],
   "source": [
    "# Add smr veg. weight band to raster\n",
    "\n",
    "def smr_weights_raster(image, em_file) :\n",
    "    '''Calculates the spectral mixture residual (smr) weights for each pixel\n",
    "    in an image based on input endmember file.\n",
    "    \n",
    "    image: (string) path to raster \n",
    "    em_file: (string) path to .csv with reflectance values for each endmember\n",
    "    \n",
    "    returns: array with original image bands + endmembers'''\n",
    "       \n",
    "\n",
    "    # ATTENTION, MAKE SURE ENDMEMBER FILE IS ACCESSIBLE\n",
    "    \n",
    "    endmembers = endmember_file\n",
    "    \n",
    "    with rio.open(image) as src:\n",
    "        raster_arr = np.array(src.read())\n",
    "        raster_arr = raster_arr/10000 #scale reflectance values\n",
    "   \n",
    "\n",
    "    w = 1 # sum constraint weight\n",
    "    D = raster_arr # numpy-nD array\n",
    "    d = np.reshape(D, [D.shape[0], D.shape[1]*D.shape[2]]) # dimensions\n",
    "    G = pd.read_csv(endmembers, sep='[,|\\t]', header = None).to_numpy()\n",
    "    \n",
    "    wavelength = G[:,0]\n",
    "    G = G[:, 1:G.shape[1]].astype(np.float64)\n",
    "\n",
    "    d_constraint = np.array(w*np.ones(d.shape[1]))\n",
    "    G_constraint = np.array(w*np.ones(G.shape[1]))\n",
    "\n",
    "    d = np.vstack([d, d_constraint])\n",
    "    G = np.vstack([G, G_constraint])\n",
    "\n",
    "    mixtureResidual_alt = d-(G.dot(np.linalg.inv(G.transpose().dot(G)).dot(G.transpose()))).dot(d)\n",
    "    mixtureResidual_alt_reShp = np.reshape(mixtureResidual_alt,[d.shape[0],D.shape[1],D.shape[2]])\n",
    "    \n",
    "    M = np.linalg.inv(G.transpose().dot(G)).dot(G.transpose().dot(d))\n",
    "    M_reShp = np.reshape(M,[M.shape[0], D.shape[1], D.shape[2]])\n",
    "    \n",
    "    w1 = M_reShp[0]\n",
    "    w2 = M_reShp[1]\n",
    "    \n",
    "    em_ratio = np.divide(w1,\\\n",
    "                         w1+w2,\\\n",
    "                         out=np.zeros_like(w1),\\\n",
    "                         where=(w1+w2)!=0)\n",
    "    \n",
    "    #Reshape em_ratio to enable stacking with original 3D img array\n",
    "    \n",
    "    em_ratio_rs = em_ratio.reshape(1,em_ratio.shape[0],em_ratio.shape[1])\n",
    "    \n",
    "    stacked_arr = np.vstack([raster_arr, em_ratio_rs])\n",
    "    \n",
    "    # Save stacked array as raster\n",
    "    with rio.open(image) as src:\n",
    "        kwargs = src.meta\n",
    "        band_ct = stacked_arr.shape[0]\n",
    "        kwargs.update(dtype=rio.float32, count=band_ct)\n",
    "        \n",
    "        with rio.open(str(os.path.split(image)[0])+'/SMR_'+str(os.path.basename(image)), 'w', **kwargs) as dst:\n",
    "            for b in range(stacked_arr.shape[0]):\n",
    "                dst.write_band(b+1, stacked_arr[b].astype(rio.float32))"
   ]
  },
  {
   "cell_type": "code",
   "execution_count": 8,
   "id": "8558db20",
   "metadata": {},
   "outputs": [],
   "source": [
    "# Add smr veg. weight AND VI bands to raster\n",
    "\n",
    "def smr_vis_raster(image, endmember_file) :\n",
    "    '''Calculates the spectral mixture residual (smr) weights for each pixel\n",
    "    in an image based on input endmember file.\n",
    "    \n",
    "    image: (string) path to raster \n",
    "    em_file: (string) path to .csv with reflectance values for each endmember\n",
    "    \n",
    "    returns: array with original image bands + endmembers'''\n",
    "       \n",
    "\n",
    "    # ATTENTION, MAKE SURE ENDMEMBER FILE IS ACCESSIBLE\n",
    "    \n",
    "    endmembers = endmember_file\n",
    "    \n",
    "    with rio.open(image) as src:\n",
    "        raster_arr = np.array(src.read())\n",
    "        raster_arr = raster_arr/10000 #scale reflectance values\n",
    "   \n",
    "\n",
    "    w = 1 # sum constraint weight\n",
    "    D = raster_arr # numpy-nD array\n",
    "    d = np.reshape(D, [D.shape[0], D.shape[1]*D.shape[2]]) # dimensions\n",
    "    G = pd.read_csv(endmembers, sep='[,|\\t]', header = None).to_numpy()\n",
    "    \n",
    "    wavelength = G[:,0]\n",
    "    G = G[:, 1:G.shape[1]].astype(np.float64)\n",
    "\n",
    "    d_constraint = np.array(w*np.ones(d.shape[1]))\n",
    "    G_constraint = np.array(w*np.ones(G.shape[1]))\n",
    "\n",
    "    d = np.vstack([d, d_constraint])\n",
    "    G = np.vstack([G, G_constraint])\n",
    "\n",
    "    mixtureResidual_alt = d-(G.dot(np.linalg.inv(G.transpose().dot(G)).dot(G.transpose()))).dot(d)\n",
    "    mixtureResidual_alt_reShp = np.reshape(mixtureResidual_alt,[d.shape[0],D.shape[1],D.shape[2]])\n",
    "    \n",
    "    M = np.linalg.inv(G.transpose().dot(G)).dot(G.transpose().dot(d))\n",
    "    M_reShp = np.reshape(M,[M.shape[0], D.shape[1], D.shape[2]])\n",
    "    \n",
    "    w1 = M_reShp[0]\n",
    "    w2 = M_reShp[1]\n",
    "    \n",
    "    em_ratio = np.divide(w1,\\\n",
    "                         w1+w2,\\\n",
    "                         out=np.zeros_like(w1),\\\n",
    "                         where=(w1+w2)!=0)\n",
    "    \n",
    "    #Reshape em_ratio to enable stacking with original 3D img array\n",
    "    \n",
    "    veg_band = em_ratio.reshape(1,em_ratio.shape[0],em_ratio.shape[1])\n",
    "    \n",
    "    \n",
    "    # Add arrays (bands) with per-pixel VIs\n",
    "    \n",
    "    blue = raster_arr[0]\n",
    "    green = raster_arr[1]\n",
    "    red = raster_arr[2]\n",
    "    nir = raster_arr[3]\n",
    "    \n",
    "    # MSAVI with SMR\n",
    "    \n",
    "    # Matrix of ones\n",
    "    L_ones = np.ones(raster_arr[0].shape) \n",
    "    \n",
    "    # Calculate L\n",
    "    \n",
    "    L = L_ones - veg_band \n",
    "    \n",
    "    # Experimental MSAVI\n",
    "    \n",
    "    np.seterr(divide='ignore', invalid='ignore')\n",
    "    \n",
    "    savi_exp = ((nir - red) / (nir + red + L)) * (1 + L)\n",
    "    savi = (1.5*(nir-red)/(nir+red+0.5)).reshape(1,em_ratio.shape[0],em_ratio.shape[1])\n",
    "    msavi = ((2*(nir) + 1 - np.sqrt((2*nir + 1)*2 - 8*(nir - red)))/2).reshape(1,em_ratio.shape[0],em_ratio.shape[1])\n",
    "    \n",
    "    evi = (2.5*(nir-red)/(nir+6*red-7.5*blue+1)).reshape(1,em_ratio.shape[0],em_ratio.shape[1])\n",
    "    arvi=((nir-(2*red-blue))/(nir+(2*red-blue))).reshape(1,em_ratio.shape[0],em_ratio.shape[1])\n",
    "    gri = (green/red).reshape(1,em_ratio.shape[0],em_ratio.shape[1])\n",
    "\n",
    "    ndvi = ((nir - red)/(nir + red)).reshape(1,em_ratio.shape[0],em_ratio.shape[1])\n",
    "    nir_blue = ((nir-blue)/(nir+blue)).reshape(1,em_ratio.shape[0],em_ratio.shape[1])\n",
    "    nir_green = ((nir-green)/(nir+green)).reshape(1,em_ratio.shape[0],em_ratio.shape[1])\n",
    "    red_blue = ((red-blue)/(red+blue)).reshape(1,em_ratio.shape[0],em_ratio.shape[1])\n",
    "    green_red = ((green-red)/(green+red)).reshape(1,em_ratio.shape[0],em_ratio.shape[1])\n",
    "    green_blue = ((green-blue)/(green+blue)).reshape(1,em_ratio.shape[0],em_ratio.shape[1])\n",
    "    \n",
    "    stacked_arr = np.vstack([raster_arr,\n",
    "                             veg_band,\n",
    "                             savi_exp,\n",
    "                             savi,\n",
    "                             msavi,\n",
    "                             evi,\n",
    "                             arvi,\n",
    "                             gri,\n",
    "                             ndvi,\n",
    "                             nir_blue,\n",
    "                             nir_green,\n",
    "                             red_blue,\n",
    "                             green_red,\n",
    "                             green_blue\n",
    "                             ])\n",
    "    \n",
    "    # Save stacked array as raster\n",
    "    with rio.open(image) as src:\n",
    "        kwargs = src.meta\n",
    "        band_ct = stacked_arr.shape[0]\n",
    "        kwargs.update(dtype=rio.float32, count=band_ct)\n",
    "        \n",
    "        with rio.open(str(os.path.split(image)[0])+'/SMR_allVIs_'+str(os.path.basename(image)), 'w', **kwargs) as dst:\n",
    "            for b in range(stacked_arr.shape[0]):\n",
    "                dst.write_band(b+1, stacked_arr[b].astype(rio.float32))"
   ]
  },
  {
   "cell_type": "code",
   "execution_count": 9,
   "id": "5c15677a",
   "metadata": {},
   "outputs": [
    {
     "data": {
      "text/plain": [
       "['../data/images/2020/SkySat/clipped_2020/20200618_160058_ssc3d2_0013_analytic_SR_corg_cor_clipped.tif',\n",
       " '../data/images/2020/SkySat/clipped_2020/20200625_154704_ssc12d2_0013_analytic_SR_corg_cor_clipped.tif',\n",
       " '../data/images/2020/SkySat/clipped_2020/20200812_153924_ssc3d2_0013_analytic_SR_corg_cor_clipped.tif',\n",
       " '../data/images/2020/SkySat/clipped_2020/20200805_154044_ssc13d2_0013_analytic_SR_corg_cor_clipped.tif',\n",
       " '../data/images/2020/SkySat/clipped_2020/20200710_155028_ssc3d2_0012_analytic_SR_corg_cor_clipped.tif']"
      ]
     },
     "execution_count": 9,
     "metadata": {},
     "output_type": "execute_result"
    }
   ],
   "source": [
    "# Test raster stacking with SS images from 2020\n",
    "\n",
    "ss_2020 = glob.glob('../data/images/2020/SkySat/clipped_2020/20*.tif')\n",
    "ss_2020"
   ]
  },
  {
   "cell_type": "code",
   "execution_count": 10,
   "id": "bb389a0d",
   "metadata": {},
   "outputs": [
    {
     "data": {
      "text/plain": [
       "'../data/endmembers_msi_noSwir.csv'"
      ]
     },
     "execution_count": 10,
     "metadata": {},
     "output_type": "execute_result"
    }
   ],
   "source": [
    "em_file = '../data/endmembers_msi_noSwir.csv'\n",
    "em_file"
   ]
  },
  {
   "cell_type": "code",
   "execution_count": 11,
   "id": "f96ab0f0",
   "metadata": {},
   "outputs": [
    {
     "name": "stderr",
     "output_type": "stream",
     "text": [
      "/var/folders/hg/02pmwyy14wvgdv7n1gzwlx1w0000gn/T/ipykernel_6540/2401207754.py:25: ParserWarning: Falling back to the 'python' engine because the 'c' engine does not support regex separators (separators > 1 char and different from '\\s+' are interpreted as regex); you can avoid this warning by specifying engine='python'.\n",
      "  G = pd.read_csv(endmembers, sep='[,|\\t]', header = None).to_numpy()\n",
      "/var/folders/hg/02pmwyy14wvgdv7n1gzwlx1w0000gn/T/ipykernel_6540/2401207754.py:25: ParserWarning: Falling back to the 'python' engine because the 'c' engine does not support regex separators (separators > 1 char and different from '\\s+' are interpreted as regex); you can avoid this warning by specifying engine='python'.\n",
      "  G = pd.read_csv(endmembers, sep='[,|\\t]', header = None).to_numpy()\n",
      "/var/folders/hg/02pmwyy14wvgdv7n1gzwlx1w0000gn/T/ipykernel_6540/2401207754.py:25: ParserWarning: Falling back to the 'python' engine because the 'c' engine does not support regex separators (separators > 1 char and different from '\\s+' are interpreted as regex); you can avoid this warning by specifying engine='python'.\n",
      "  G = pd.read_csv(endmembers, sep='[,|\\t]', header = None).to_numpy()\n",
      "/var/folders/hg/02pmwyy14wvgdv7n1gzwlx1w0000gn/T/ipykernel_6540/2401207754.py:25: ParserWarning: Falling back to the 'python' engine because the 'c' engine does not support regex separators (separators > 1 char and different from '\\s+' are interpreted as regex); you can avoid this warning by specifying engine='python'.\n",
      "  G = pd.read_csv(endmembers, sep='[,|\\t]', header = None).to_numpy()\n",
      "/var/folders/hg/02pmwyy14wvgdv7n1gzwlx1w0000gn/T/ipykernel_6540/2401207754.py:25: ParserWarning: Falling back to the 'python' engine because the 'c' engine does not support regex separators (separators > 1 char and different from '\\s+' are interpreted as regex); you can avoid this warning by specifying engine='python'.\n",
      "  G = pd.read_csv(endmembers, sep='[,|\\t]', header = None).to_numpy()\n"
     ]
    }
   ],
   "source": [
    "for i in np.arange(len(ss_2020)):\n",
    "    smr_vis_raster(ss_2020[i], em_file)"
   ]
  },
  {
   "cell_type": "code",
   "execution_count": 12,
   "id": "677844de",
   "metadata": {},
   "outputs": [
    {
     "data": {
      "text/plain": [
       "['../data/images/2021/SkySat/clipped_2021/20210809_185329_ssc9d2_0014_ar_clipped.tif',\n",
       " '../data/images/2021/SkySat/clipped_2021/20210816_171007_ssc18d2_0015_ar_clipped.tif',\n",
       " '../data/images/2021/SkySat/clipped_2021/20210707_150122_ssc19d2_0016_ar_clipped.tif',\n",
       " '../data/images/2021/SkySat/clipped_2021/20210726_160338_ssc1d2_0013_ar_clipped.tif',\n",
       " '../data/images/2021/SkySat/clipped_2021/20210802_184019_ssc10d2_0005_ar_clipped.tif']"
      ]
     },
     "execution_count": 12,
     "metadata": {},
     "output_type": "execute_result"
    }
   ],
   "source": [
    "ss_2021 = glob.glob('../data/images/2021/SkySat/clipped_2021/20*.tif')\n",
    "ss_2021"
   ]
  },
  {
   "cell_type": "code",
   "execution_count": 16,
   "id": "20d8d647",
   "metadata": {},
   "outputs": [
    {
     "name": "stderr",
     "output_type": "stream",
     "text": [
      "/var/folders/hg/02pmwyy14wvgdv7n1gzwlx1w0000gn/T/ipykernel_6540/2401207754.py:25: ParserWarning: Falling back to the 'python' engine because the 'c' engine does not support regex separators (separators > 1 char and different from '\\s+' are interpreted as regex); you can avoid this warning by specifying engine='python'.\n",
      "  G = pd.read_csv(endmembers, sep='[,|\\t]', header = None).to_numpy()\n",
      "/var/folders/hg/02pmwyy14wvgdv7n1gzwlx1w0000gn/T/ipykernel_6540/2401207754.py:25: ParserWarning: Falling back to the 'python' engine because the 'c' engine does not support regex separators (separators > 1 char and different from '\\s+' are interpreted as regex); you can avoid this warning by specifying engine='python'.\n",
      "  G = pd.read_csv(endmembers, sep='[,|\\t]', header = None).to_numpy()\n",
      "/var/folders/hg/02pmwyy14wvgdv7n1gzwlx1w0000gn/T/ipykernel_6540/2401207754.py:25: ParserWarning: Falling back to the 'python' engine because the 'c' engine does not support regex separators (separators > 1 char and different from '\\s+' are interpreted as regex); you can avoid this warning by specifying engine='python'.\n",
      "  G = pd.read_csv(endmembers, sep='[,|\\t]', header = None).to_numpy()\n",
      "/var/folders/hg/02pmwyy14wvgdv7n1gzwlx1w0000gn/T/ipykernel_6540/2401207754.py:25: ParserWarning: Falling back to the 'python' engine because the 'c' engine does not support regex separators (separators > 1 char and different from '\\s+' are interpreted as regex); you can avoid this warning by specifying engine='python'.\n",
      "  G = pd.read_csv(endmembers, sep='[,|\\t]', header = None).to_numpy()\n",
      "/var/folders/hg/02pmwyy14wvgdv7n1gzwlx1w0000gn/T/ipykernel_6540/2401207754.py:25: ParserWarning: Falling back to the 'python' engine because the 'c' engine does not support regex separators (separators > 1 char and different from '\\s+' are interpreted as regex); you can avoid this warning by specifying engine='python'.\n",
      "  G = pd.read_csv(endmembers, sep='[,|\\t]', header = None).to_numpy()\n"
     ]
    }
   ],
   "source": [
    "for i in np.arange(len(ss_2021)):\n",
    "    smr_vis_raster(ss_2021[i], em_file)"
   ]
  },
  {
   "cell_type": "code",
   "execution_count": 17,
   "id": "aaab5d95",
   "metadata": {},
   "outputs": [
    {
     "data": {
      "text/plain": [
       "['../data/images/2022/SkySat/clipped_2022/20220622_160829_ssc15d2_0014_analytic_SR_corg_clipped.tif',\n",
       " '../data/images/2022/SkySat/clipped_2022/20220720_153112_ssc4d2_0013_analytic_SR_clipped_clipped.tif',\n",
       " '../data/images/2022/SkySat/clipped_2022/20220707_151445_ssc4d2_0006_analytic_SR_clipped_clipped.tif']"
      ]
     },
     "execution_count": 17,
     "metadata": {},
     "output_type": "execute_result"
    }
   ],
   "source": [
    "ss_2022 = glob.glob('../data/images/2022/SkySat/clipped_2022/*tif')\n",
    "ss_2022"
   ]
  },
  {
   "cell_type": "code",
   "execution_count": 18,
   "id": "d6abe946",
   "metadata": {},
   "outputs": [
    {
     "name": "stderr",
     "output_type": "stream",
     "text": [
      "/var/folders/hg/02pmwyy14wvgdv7n1gzwlx1w0000gn/T/ipykernel_6540/2401207754.py:25: ParserWarning: Falling back to the 'python' engine because the 'c' engine does not support regex separators (separators > 1 char and different from '\\s+' are interpreted as regex); you can avoid this warning by specifying engine='python'.\n",
      "  G = pd.read_csv(endmembers, sep='[,|\\t]', header = None).to_numpy()\n",
      "/var/folders/hg/02pmwyy14wvgdv7n1gzwlx1w0000gn/T/ipykernel_6540/2401207754.py:25: ParserWarning: Falling back to the 'python' engine because the 'c' engine does not support regex separators (separators > 1 char and different from '\\s+' are interpreted as regex); you can avoid this warning by specifying engine='python'.\n",
      "  G = pd.read_csv(endmembers, sep='[,|\\t]', header = None).to_numpy()\n",
      "/var/folders/hg/02pmwyy14wvgdv7n1gzwlx1w0000gn/T/ipykernel_6540/2401207754.py:25: ParserWarning: Falling back to the 'python' engine because the 'c' engine does not support regex separators (separators > 1 char and different from '\\s+' are interpreted as regex); you can avoid this warning by specifying engine='python'.\n",
      "  G = pd.read_csv(endmembers, sep='[,|\\t]', header = None).to_numpy()\n"
     ]
    }
   ],
   "source": [
    "for i in np.arange(len(ss_2022)):\n",
    "     smr_vis_raster(ss_2022[i], em_file)"
   ]
  },
  {
   "cell_type": "code",
   "execution_count": null,
   "id": "62201880",
   "metadata": {},
   "outputs": [],
   "source": []
  }
 ],
 "metadata": {
  "kernelspec": {
   "display_name": "Python 3 (ipykernel)",
   "language": "python",
   "name": "python3"
  },
  "language_info": {
   "codemirror_mode": {
    "name": "ipython",
    "version": 3
   },
   "file_extension": ".py",
   "mimetype": "text/x-python",
   "name": "python",
   "nbconvert_exporter": "python",
   "pygments_lexer": "ipython3",
   "version": "3.10.6"
  }
 },
 "nbformat": 4,
 "nbformat_minor": 5
}
