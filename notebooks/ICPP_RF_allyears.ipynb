{
 "cells": [
  {
   "cell_type": "code",
   "execution_count": 1,
   "id": "81e0e7e7",
   "metadata": {},
   "outputs": [],
   "source": [
    "import glob\n",
    "import os\n",
    "import matplotlib.pyplot as plt\n",
    "import pandas as pd\n",
    "import numpy as np\n",
    "import seaborn as sns\n",
    "\n",
    "import sklearn\n",
    "from sklearn.model_selection import train_test_split \n",
    "from sklearn.metrics import classification_report \n",
    "from sklearn.metrics import accuracy_score\n",
    "from sklearn.metrics import precision_recall_fscore_support\n",
    "\n",
    "import imblearn as imb\n",
    "from imblearn.under_sampling import RandomUnderSampler\n",
    "\n",
    "import scipy\n"
   ]
  },
  {
   "cell_type": "code",
   "execution_count": 2,
   "id": "ff8c0af3",
   "metadata": {},
   "outputs": [],
   "source": [
    "data_2020 = pd.read_csv('../data/img_scout_dfs/2020/smr_vis_skysat_scout_2020.csv')\n",
    "data_2021 = pd.read_csv('../data/img_scout_dfs/2021/smr_vis_skysat_scout_2021.csv')\n",
    "data_2022 = pd.read_csv('../data/img_scout_dfs/2022/smr_vis_skysat_scout_2022.csv')\n",
    "\n",
    "df_list = [data_2020, data_2021, data_2022]"
   ]
  },
  {
   "cell_type": "code",
   "execution_count": 3,
   "id": "8ce1cf88",
   "metadata": {},
   "outputs": [],
   "source": [
    "# Add column for total duration of DMCast events (in hours) over prior 2 weeks\n",
    "\n",
    "#2022\n",
    "data_2022['DMCast_events'] = 0\n",
    "data_2022.loc[data_2022['Date'] == '2022-06-22', 'DMCast_events'] = 9\n",
    "data_2022.loc[data_2022['Date'] == '2022-07-06', 'DMCast_events'] = 24\n",
    "data_2022.loc[data_2022['Date'] == '2022-07-20', 'DMCast_events'] = 25\n",
    "\n",
    "# 2021\n",
    "data_2021['DMCast_events'] = 0\n",
    "data_2021.loc[data_2021['Date'] == '2021-07-07', 'DMCast_events'] = 45\n",
    "data_2021.loc[data_2021['Date'] == '2021-07-27', 'DMCast_events'] = 78\n",
    "data_2021.loc[data_2021['Date'] == '2021-08-03', 'DMCast_events'] = 49\n",
    "data_2021.loc[data_2021['Date'] == '2021-08-10', 'DMCast_events'] = 78\n",
    "data_2021.loc[data_2021['Date'] == '2021-08-17', 'DMCast_events'] = 74\n",
    "\n",
    "#2020\n",
    "data_2020['DMCast_events'] = 0\n",
    "data_2020.loc[data_2020['Date'] == '2020-06-18', 'DMCast_events'] = 5\n",
    "data_2020.loc[data_2020['Date'] == '2020-06-25', 'DMCast_events'] = 25\n",
    "data_2020.loc[data_2020['Date'] == '2020-07-09', 'DMCast_events'] = 12\n",
    "data_2020.loc[data_2020['Date'] == '2020-08-06', 'DMCast_events'] = 42\n",
    "data_2020.loc[data_2020['Date'] == '2020-08-13', 'DMCast_events'] = 38\n"
   ]
  },
  {
   "cell_type": "code",
   "execution_count": 4,
   "id": "2335318f",
   "metadata": {},
   "outputs": [],
   "source": [
    "# Add columns for GDM incidence and GDM severity to each df \n",
    "for d in df_list:\n",
    "    \n",
    "    d['GDM_sev']='low'\n",
    "    d.loc[d['DM_severity'] > 10, 'GDM_sev'] = 'high'\n",
    "    \n",
    "    d['GDM_inc']='low'\n",
    "    d.loc[d['DM_inc'] > 25, 'GDM_inc'] = 'high'"
   ]
  },
  {
   "cell_type": "code",
   "execution_count": 5,
   "id": "4e4eb823",
   "metadata": {},
   "outputs": [],
   "source": [
    "# All high severity panels are clustered on later image dates\n",
    "# leaving one of these images out will make test set too small\n",
    "\n",
    "# Better idea: random forest for 2020, report accuracy metrics and kappa score\n",
    "\n",
    "# Later test global model on hold-out image from 2020\n",
    "\n",
    "master_df = pd.concat(df_list)\n",
    "training_set = master_df[master_df['Date']!='2021-08-17']"
   ]
  },
  {
   "cell_type": "code",
   "execution_count": 6,
   "id": "7911647b",
   "metadata": {},
   "outputs": [
    {
     "data": {
      "text/plain": [
       "Index(['acquired', 'plot', 'blue', 'green', 'red', 'nir', 'veg_smr',\n",
       "       'savi_exp', 'savi', 'msavi', 'evi', 'arvi', 'gri', 'ndvi', 'nir_blue',\n",
       "       'nir_green', 'red_blue', 'green_red', 'green_blue', 'row', 'panel',\n",
       "       'Date', 'Treatment', 'Block', 'PM_severity', 'DM_severity', 'total_dis',\n",
       "       'geometry', 'centroid', 'PM_inc', 'DM_inc', 'DMCast_events', 'GDM_sev',\n",
       "       'GDM_inc'],\n",
       "      dtype='object')"
      ]
     },
     "execution_count": 6,
     "metadata": {},
     "output_type": "execute_result"
    }
   ],
   "source": [
    "training_set.columns"
   ]
  },
  {
   "cell_type": "code",
   "execution_count": 7,
   "id": "d8c1ba52",
   "metadata": {},
   "outputs": [],
   "source": [
    "# First with no DMCast\n",
    "expl_vars = ['blue', 'green', 'red', 'nir','savi', 'evi', 'arvi', 'gri', 'ndvi']\n",
    "resp_var = 'GDM_sev'"
   ]
  },
  {
   "cell_type": "code",
   "execution_count": 8,
   "id": "99ccc13f",
   "metadata": {},
   "outputs": [],
   "source": [
    "def run_rf_us(df, expl_vars, resp_var, SPLIT_RND_SEED, rand_state):\n",
    "    X = df[expl_vars]\n",
    "    y = df[resp_var]\n",
    "    \n",
    "    rus = RandomUnderSampler(random_state=2020)\n",
    "    X_rus, y_rus = rus.fit_resample(X, y)\n",
    "\n",
    "# Split dataset into training set and test set\n",
    "\n",
    "    X_train, X_test, y_train, y_test = train_test_split(X_rus, y_rus,\n",
    "                                                    test_size=0.3, \n",
    "                                                    random_state=SPLIT_RND_SEED,\n",
    "                                                    stratify = y_rus)  # 70% training and 30% test\n",
    "    from sklearn.ensemble import RandomForestClassifier\n",
    "    # Create a Gaussian Classifier with 500 trees \n",
    "    rf = RandomForestClassifier(n_estimators = 500, \n",
    "                                oob_score=True, \n",
    "                                random_state=rand_state, # random number to be used, needed to reproduce the same result\n",
    "                                verbose=False)\n",
    "    \n",
    "    rf_model = rf.fit(X_train, y_train)\n",
    "    \n",
    "    y_pred = rf.predict(X_test)\n",
    "    \n",
    "    from sklearn.metrics import accuracy_score\n",
    "    accuracy = accuracy_score(y_test, y_pred)\n",
    "    \n",
    "    from sklearn.metrics import precision_recall_fscore_support\n",
    "    \n",
    "    prec, recall, fscore, support = precision_recall_fscore_support(y_test, y_pred, average='weighted')\n",
    "  \n",
    "    \n",
    "    from sklearn.metrics import cohen_kappa_score\n",
    "        \n",
    "    cohen_score = cohen_kappa_score(y_test, y_pred)    \n",
    "\n",
    "    \n",
    "    metrics = {\n",
    "        'cohen_kappa': [cohen_score], \n",
    "        'accuracy_score': [accuracy],\n",
    "        'precision': [prec],\n",
    "        'recall': [recall]\n",
    "    }\n",
    "    metrics_df = pd.DataFrame(data=metrics)\n",
    "    \n",
    "    return metrics_df\n"
   ]
  },
  {
   "cell_type": "code",
   "execution_count": 10,
   "id": "4370ac51",
   "metadata": {},
   "outputs": [],
   "source": [
    "import random\n",
    " \n",
    "rand_list=[]\n",
    "n=100\n",
    "for i in range(n):\n",
    "    rand_list.append(random.randint(100,999))"
   ]
  },
  {
   "cell_type": "code",
   "execution_count": 11,
   "id": "576337e3",
   "metadata": {},
   "outputs": [],
   "source": [
    "results_all = []\n",
    "for r in rand_list:\n",
    "    res_df = run_rf_us(master_df, expl_vars, resp_var, r, 5890)\n",
    "    \n",
    "    results_all.append(res_df)"
   ]
  },
  {
   "cell_type": "code",
   "execution_count": 12,
   "id": "f313602d",
   "metadata": {},
   "outputs": [
    {
     "data": {
      "text/plain": [
       "cohen_kappa       0.469143\n",
       "accuracy_score    0.734526\n",
       "precision         0.739744\n",
       "recall            0.734526\n",
       "dtype: float64"
      ]
     },
     "execution_count": 12,
     "metadata": {},
     "output_type": "execute_result"
    }
   ],
   "source": [
    "results_df = pd.concat(results_all)\n",
    "\n",
    "results_df.mean()"
   ]
  },
  {
   "cell_type": "code",
   "execution_count": 13,
   "id": "bfcd9a6f",
   "metadata": {},
   "outputs": [],
   "source": [
    "# For incidence\n",
    " \n",
    "rand_list=[]\n",
    "n=100\n",
    "for i in range(n):\n",
    "    rand_list.append(random.randint(100,999))"
   ]
  },
  {
   "cell_type": "code",
   "execution_count": 14,
   "id": "f7cfc3d5",
   "metadata": {},
   "outputs": [],
   "source": [
    "results_inc = []\n",
    "for r in rand_list:\n",
    "    res_df = run_rf_us(master_df, expl_vars, 'GDM_inc', r, 5050)\n",
    "    \n",
    "    results_inc.append(res_df)"
   ]
  },
  {
   "cell_type": "code",
   "execution_count": 15,
   "id": "911fd61e",
   "metadata": {},
   "outputs": [
    {
     "data": {
      "text/plain": [
       "cohen_kappa       0.628695\n",
       "accuracy_score    0.814347\n",
       "precision         0.815253\n",
       "recall            0.814347\n",
       "dtype: float64"
      ]
     },
     "execution_count": 15,
     "metadata": {},
     "output_type": "execute_result"
    }
   ],
   "source": [
    "results_inc_df = pd.concat(results_inc)\n",
    "\n",
    "results_inc_df.mean()"
   ]
  },
  {
   "cell_type": "code",
   "execution_count": 16,
   "id": "dcd1aac3",
   "metadata": {},
   "outputs": [],
   "source": [
    "# Modify function to test on hold-out date\n",
    "\n",
    "def rf_holdout(df, holdout_date, expl_vars, resp_var, rus_rand_state, rf_rand_state):\n",
    "    \n",
    "    # Split dataset into training set and test set\n",
    "    \n",
    "    training_set = df[df['Date']!=holdout_date]\n",
    "    test_set = df[df['Date']==holdout_date]\n",
    "    \n",
    "    X = training_set[expl_vars]\n",
    "    y = training_set[resp_var]\n",
    "    \n",
    "    rus = RandomUnderSampler(random_state=rus_rand_state)\n",
    "    X_train, y_train = rus.fit_resample(X, y)\n",
    "    \n",
    "    X_test = test_set[expl_vars]\n",
    "    y_test = test_set[resp_var]\n",
    "\n",
    "\n",
    "    from sklearn.ensemble import RandomForestClassifier\n",
    "    # Create a Gaussian Classifier with 500 trees \n",
    "    rf = RandomForestClassifier(n_estimators = 500, \n",
    "                                oob_score=True, \n",
    "                                random_state=rf_rand_state, # random number to be used, needed to reproduce the same result\n",
    "                                verbose=False)\n",
    "    \n",
    "    rf_model = rf.fit(X_train, y_train)\n",
    "    \n",
    "    y_pred = rf.predict(X_test)\n",
    "    \n",
    "    from sklearn.metrics import accuracy_score\n",
    "    accuracy = accuracy_score(y_test, y_pred)\n",
    "  \n",
    "    \n",
    "    from sklearn.metrics import precision_recall_fscore_support\n",
    "    \n",
    "    prec, recall, fscore, support = precision_recall_fscore_support(y_test, y_pred, average='weighted')\n",
    "  \n",
    "    \n",
    "    from sklearn.metrics import cohen_kappa_score\n",
    "        \n",
    "    cohen_score = cohen_kappa_score(y_test, y_pred)    \n",
    "\n",
    "    \n",
    "    metrics = {\n",
    "        'cohen_kappa': [cohen_score], \n",
    "        'accuracy_score': [accuracy],\n",
    "        'precision': [prec],\n",
    "        'recall': [recall]\n",
    "    }\n",
    "    metrics_df = pd.DataFrame(data=metrics)\n",
    "    \n",
    "    test_set['predicted'] = y_pred.tolist()\n",
    "    \n",
    "#     return metrics_df\n",
    "\n",
    "    return test_set\n"
   ]
  },
  {
   "cell_type": "code",
   "execution_count": 17,
   "id": "7a649bef",
   "metadata": {},
   "outputs": [
    {
     "name": "stderr",
     "output_type": "stream",
     "text": [
      "/var/folders/hg/02pmwyy14wvgdv7n1gzwlx1w0000gn/T/ipykernel_8459/616859277.py:53: SettingWithCopyWarning: \n",
      "A value is trying to be set on a copy of a slice from a DataFrame.\n",
      "Try using .loc[row_indexer,col_indexer] = value instead\n",
      "\n",
      "See the caveats in the documentation: https://pandas.pydata.org/pandas-docs/stable/user_guide/indexing.html#returning-a-view-versus-a-copy\n",
      "  test_set['predicted'] = y_pred.tolist()\n"
     ]
    }
   ],
   "source": [
    "predicted_df = rf_holdout(master_df, '2021-08-17', expl_vars, 'GDM_inc', 123, 456)\n"
   ]
  },
  {
   "cell_type": "code",
   "execution_count": 18,
   "id": "631fc1f9",
   "metadata": {},
   "outputs": [
    {
     "data": {
      "text/plain": [
       "(236, 35)"
      ]
     },
     "execution_count": 18,
     "metadata": {},
     "output_type": "execute_result"
    }
   ],
   "source": [
    "predicted_df.shape"
   ]
  },
  {
   "cell_type": "code",
   "execution_count": 19,
   "id": "9b9a2010",
   "metadata": {
    "scrolled": true
   },
   "outputs": [
    {
     "data": {
      "text/plain": [
       "Index(['acquired', 'plot', 'blue', 'green', 'red', 'nir', 'veg_smr',\n",
       "       'savi_exp', 'savi', 'msavi', 'evi', 'arvi', 'gri', 'ndvi', 'nir_blue',\n",
       "       'nir_green', 'red_blue', 'green_red', 'green_blue', 'row', 'panel',\n",
       "       'Date', 'Treatment', 'Block', 'PM_severity', 'DM_severity', 'total_dis',\n",
       "       'geometry', 'centroid', 'PM_inc', 'DM_inc', 'DMCast_events', 'GDM_sev',\n",
       "       'GDM_inc', 'predicted'],\n",
       "      dtype='object')"
      ]
     },
     "execution_count": 19,
     "metadata": {},
     "output_type": "execute_result"
    }
   ],
   "source": [
    "predicted_df.columns"
   ]
  },
  {
   "cell_type": "code",
   "execution_count": 20,
   "id": "27f3c630",
   "metadata": {},
   "outputs": [
    {
     "data": {
      "text/plain": [
       "'low'"
      ]
     },
     "execution_count": 20,
     "metadata": {},
     "output_type": "execute_result"
    }
   ],
   "source": [
    "predicted_df.iloc[0,33]"
   ]
  },
  {
   "cell_type": "code",
   "execution_count": 21,
   "id": "b0af6fc0",
   "metadata": {},
   "outputs": [
    {
     "name": "stderr",
     "output_type": "stream",
     "text": [
      "/var/folders/hg/02pmwyy14wvgdv7n1gzwlx1w0000gn/T/ipykernel_8459/2244422809.py:1: SettingWithCopyWarning: \n",
      "A value is trying to be set on a copy of a slice from a DataFrame.\n",
      "Try using .loc[row_indexer,col_indexer] = value instead\n",
      "\n",
      "See the caveats in the documentation: https://pandas.pydata.org/pandas-docs/stable/user_guide/indexing.html#returning-a-view-versus-a-copy\n",
      "  predicted_df['predict_correct'] = 'correct'\n"
     ]
    }
   ],
   "source": [
    "predicted_df['predict_correct'] = 'correct'\n",
    "\n",
    "predicted_df.loc[(predicted_df['GDM_inc'] == 'high') & (predicted_df['predicted']=='low'), \n",
    "                 'predict_correct'] = 'incorrect'\n",
    "\n",
    "predicted_df.loc[(predicted_df['GDM_inc'] == 'low') & (predicted_df['predicted']=='high'), \n",
    "                 'predict_correct'] = 'incorrect'"
   ]
  },
  {
   "cell_type": "code",
   "execution_count": 22,
   "id": "f6355489",
   "metadata": {},
   "outputs": [
    {
     "data": {
      "text/plain": [
       "array(['correct', 'incorrect'], dtype=object)"
      ]
     },
     "execution_count": 22,
     "metadata": {},
     "output_type": "execute_result"
    }
   ],
   "source": [
    "predicted_df.predict_correct.unique()"
   ]
  },
  {
   "cell_type": "code",
   "execution_count": 23,
   "id": "b712a7c2",
   "metadata": {},
   "outputs": [],
   "source": [
    "#predicted_df.to_csv('predicted_inc_20210816.csv', index=False) "
   ]
  },
  {
   "cell_type": "code",
   "execution_count": 52,
   "id": "5887cccd",
   "metadata": {},
   "outputs": [],
   "source": [
    "def rf_holdout(df, holdout_df, expl_vars, resp_var, SPLIT_RND_SEED, rand_state):\n",
    "    \n",
    "    X = df[expl_vars]\n",
    "    y = df[resp_var]\n",
    "    \n",
    "    rus = RandomUnderSampler(random_state=2022)\n",
    "    X_rus, y_rus = rus.fit_resample(X, y)\n",
    "\n",
    "# Split dataset into training set and test set\n",
    "\n",
    "    X_train, X_test, y_train, y_test = train_test_split(X_rus, y_rus,\n",
    "                                                    test_size=0.3, \n",
    "                                                    random_state=SPLIT_RND_SEED,\n",
    "                                                   stratify = y_rus)\n",
    "    \n",
    "    from sklearn.ensemble import RandomForestClassifier\n",
    "    # Create a Gaussian Classifier with 500 trees \n",
    "    rf = RandomForestClassifier(n_estimators = 500, \n",
    "                                oob_score=True, \n",
    "                                random_state=12345, # random number to be used, needed to reproduce the same result\n",
    "                                verbose=False)\n",
    "    rf_model = rf.fit(X_train, y_train)\n",
    "    \n",
    "    y_pred = rf.predict(X_test)\n",
    "    \n",
    "    from sklearn.metrics import accuracy_score\n",
    "    accuracy = accuracy_score(y_test, y_pred)\n",
    "  \n",
    "    \n",
    "    from sklearn.metrics import cohen_kappa_score\n",
    "    \n",
    "    #def kappa_statistics(X_test, y_test):\n",
    "    y_pred = rf.predict(X_test)    \n",
    "    cohen_score = cohen_kappa_score(y_test, y_pred)    \n",
    "    #print(\"Kappa score:\", cohen_score)\n",
    "    \n",
    "    # Test the model on the holdout image\n",
    "    \n",
    "    holdoutX_test = holdout_df[expl_vars]\n",
    "    holdouty_test = holdout_df[resp_var]\n",
    "    \n",
    "    holdout_pred = rf.predict(holdoutX_test)\n",
    "    \n",
    "    holdout_accuracy = accuracy_score(holdouty_test, holdout_pred)\n",
    "    \n",
    "    metrics = {'cohen_kappa': [cohen_score], 'accuracy_score': [accuracy], \n",
    "               'accuracy_score_holdout':[holdout_accuracy]}\n",
    "    \n",
    "    metrics_df = pd.DataFrame(data=metrics)\n",
    "    \n",
    "    return metrics_df\n"
   ]
  },
  {
   "cell_type": "code",
   "execution_count": 54,
   "id": "ef5f9f0d",
   "metadata": {},
   "outputs": [],
   "source": [
    "training = master_df[master_df['Date']!='2021-08-17']\n",
    "holdout_df = master_df[master_df['Date']=='2021-08-17']"
   ]
  },
  {
   "cell_type": "code",
   "execution_count": 55,
   "id": "8f602b7a",
   "metadata": {},
   "outputs": [],
   "source": [
    "rand_list=[]\n",
    "n=100\n",
    "for i in range(n):\n",
    "    rand_list.append(random.randint(100,999))\n",
    "\n",
    "results_plus_ho = []\n",
    "for r in rand_list:\n",
    "    rf_us_holdout(training, holdout_df, expl_vars, resp_var, r)\n",
    "    \n",
    "    results_plus_ho.append(res_df)"
   ]
  },
  {
   "cell_type": "code",
   "execution_count": 56,
   "id": "99db2cad",
   "metadata": {},
   "outputs": [
    {
     "data": {
      "text/plain": [
       "0.5588235294117647"
      ]
     },
     "execution_count": 56,
     "metadata": {},
     "output_type": "execute_result"
    }
   ],
   "source": [
    "results_df = pd.concat(results_plus_ho)\n",
    "\n",
    "results_df['cohen_kappa'].mean()"
   ]
  },
  {
   "cell_type": "code",
   "execution_count": 57,
   "id": "fe29702e",
   "metadata": {},
   "outputs": [
    {
     "data": {
      "text/plain": [
       "0.7794117647058825"
      ]
     },
     "execution_count": 57,
     "metadata": {},
     "output_type": "execute_result"
    }
   ],
   "source": [
    "results_df['accuracy_score'].mean()"
   ]
  },
  {
   "cell_type": "code",
   "execution_count": 59,
   "id": "79008fbd",
   "metadata": {},
   "outputs": [
    {
     "data": {
      "text/html": [
       "<div>\n",
       "<style scoped>\n",
       "    .dataframe tbody tr th:only-of-type {\n",
       "        vertical-align: middle;\n",
       "    }\n",
       "\n",
       "    .dataframe tbody tr th {\n",
       "        vertical-align: top;\n",
       "    }\n",
       "\n",
       "    .dataframe thead th {\n",
       "        text-align: right;\n",
       "    }\n",
       "</style>\n",
       "<table border=\"1\" class=\"dataframe\">\n",
       "  <thead>\n",
       "    <tr style=\"text-align: right;\">\n",
       "      <th></th>\n",
       "      <th>cohen_kappa</th>\n",
       "      <th>accuracy_score</th>\n",
       "    </tr>\n",
       "  </thead>\n",
       "  <tbody>\n",
       "    <tr>\n",
       "      <th>0</th>\n",
       "      <td>0.558824</td>\n",
       "      <td>0.779412</td>\n",
       "    </tr>\n",
       "    <tr>\n",
       "      <th>0</th>\n",
       "      <td>0.558824</td>\n",
       "      <td>0.779412</td>\n",
       "    </tr>\n",
       "    <tr>\n",
       "      <th>0</th>\n",
       "      <td>0.558824</td>\n",
       "      <td>0.779412</td>\n",
       "    </tr>\n",
       "    <tr>\n",
       "      <th>0</th>\n",
       "      <td>0.558824</td>\n",
       "      <td>0.779412</td>\n",
       "    </tr>\n",
       "    <tr>\n",
       "      <th>0</th>\n",
       "      <td>0.558824</td>\n",
       "      <td>0.779412</td>\n",
       "    </tr>\n",
       "  </tbody>\n",
       "</table>\n",
       "</div>"
      ],
      "text/plain": [
       "   cohen_kappa  accuracy_score\n",
       "0     0.558824        0.779412\n",
       "0     0.558824        0.779412\n",
       "0     0.558824        0.779412\n",
       "0     0.558824        0.779412\n",
       "0     0.558824        0.779412"
      ]
     },
     "execution_count": 59,
     "metadata": {},
     "output_type": "execute_result"
    }
   ],
   "source": [
    "results_df.head()"
   ]
  },
  {
   "cell_type": "code",
   "execution_count": 58,
   "id": "3c0c1e97",
   "metadata": {},
   "outputs": [
    {
     "ename": "KeyError",
     "evalue": "'accuracy_score_holdout'",
     "output_type": "error",
     "traceback": [
      "\u001b[0;31m---------------------------------------------------------------------------\u001b[0m",
      "\u001b[0;31mKeyError\u001b[0m                                  Traceback (most recent call last)",
      "File \u001b[0;32m~/miniconda3/envs/planetenv/lib/python3.10/site-packages/pandas/core/indexes/base.py:3803\u001b[0m, in \u001b[0;36mIndex.get_loc\u001b[0;34m(self, key, method, tolerance)\u001b[0m\n\u001b[1;32m   3802\u001b[0m \u001b[38;5;28;01mtry\u001b[39;00m:\n\u001b[0;32m-> 3803\u001b[0m     \u001b[38;5;28;01mreturn\u001b[39;00m \u001b[38;5;28;43mself\u001b[39;49m\u001b[38;5;241;43m.\u001b[39;49m\u001b[43m_engine\u001b[49m\u001b[38;5;241;43m.\u001b[39;49m\u001b[43mget_loc\u001b[49m\u001b[43m(\u001b[49m\u001b[43mcasted_key\u001b[49m\u001b[43m)\u001b[49m\n\u001b[1;32m   3804\u001b[0m \u001b[38;5;28;01mexcept\u001b[39;00m \u001b[38;5;167;01mKeyError\u001b[39;00m \u001b[38;5;28;01mas\u001b[39;00m err:\n",
      "File \u001b[0;32m~/miniconda3/envs/planetenv/lib/python3.10/site-packages/pandas/_libs/index.pyx:138\u001b[0m, in \u001b[0;36mpandas._libs.index.IndexEngine.get_loc\u001b[0;34m()\u001b[0m\n",
      "File \u001b[0;32m~/miniconda3/envs/planetenv/lib/python3.10/site-packages/pandas/_libs/index.pyx:165\u001b[0m, in \u001b[0;36mpandas._libs.index.IndexEngine.get_loc\u001b[0;34m()\u001b[0m\n",
      "File \u001b[0;32mpandas/_libs/hashtable_class_helper.pxi:5745\u001b[0m, in \u001b[0;36mpandas._libs.hashtable.PyObjectHashTable.get_item\u001b[0;34m()\u001b[0m\n",
      "File \u001b[0;32mpandas/_libs/hashtable_class_helper.pxi:5753\u001b[0m, in \u001b[0;36mpandas._libs.hashtable.PyObjectHashTable.get_item\u001b[0;34m()\u001b[0m\n",
      "\u001b[0;31mKeyError\u001b[0m: 'accuracy_score_holdout'",
      "\nThe above exception was the direct cause of the following exception:\n",
      "\u001b[0;31mKeyError\u001b[0m                                  Traceback (most recent call last)",
      "Cell \u001b[0;32mIn [58], line 1\u001b[0m\n\u001b[0;32m----> 1\u001b[0m \u001b[43mresults_df\u001b[49m\u001b[43m[\u001b[49m\u001b[38;5;124;43m'\u001b[39;49m\u001b[38;5;124;43maccuracy_score_holdout\u001b[39;49m\u001b[38;5;124;43m'\u001b[39;49m\u001b[43m]\u001b[49m\u001b[38;5;241m.\u001b[39mmean()\n",
      "File \u001b[0;32m~/miniconda3/envs/planetenv/lib/python3.10/site-packages/pandas/core/frame.py:3804\u001b[0m, in \u001b[0;36mDataFrame.__getitem__\u001b[0;34m(self, key)\u001b[0m\n\u001b[1;32m   3802\u001b[0m \u001b[38;5;28;01mif\u001b[39;00m \u001b[38;5;28mself\u001b[39m\u001b[38;5;241m.\u001b[39mcolumns\u001b[38;5;241m.\u001b[39mnlevels \u001b[38;5;241m>\u001b[39m \u001b[38;5;241m1\u001b[39m:\n\u001b[1;32m   3803\u001b[0m     \u001b[38;5;28;01mreturn\u001b[39;00m \u001b[38;5;28mself\u001b[39m\u001b[38;5;241m.\u001b[39m_getitem_multilevel(key)\n\u001b[0;32m-> 3804\u001b[0m indexer \u001b[38;5;241m=\u001b[39m \u001b[38;5;28;43mself\u001b[39;49m\u001b[38;5;241;43m.\u001b[39;49m\u001b[43mcolumns\u001b[49m\u001b[38;5;241;43m.\u001b[39;49m\u001b[43mget_loc\u001b[49m\u001b[43m(\u001b[49m\u001b[43mkey\u001b[49m\u001b[43m)\u001b[49m\n\u001b[1;32m   3805\u001b[0m \u001b[38;5;28;01mif\u001b[39;00m is_integer(indexer):\n\u001b[1;32m   3806\u001b[0m     indexer \u001b[38;5;241m=\u001b[39m [indexer]\n",
      "File \u001b[0;32m~/miniconda3/envs/planetenv/lib/python3.10/site-packages/pandas/core/indexes/base.py:3805\u001b[0m, in \u001b[0;36mIndex.get_loc\u001b[0;34m(self, key, method, tolerance)\u001b[0m\n\u001b[1;32m   3803\u001b[0m     \u001b[38;5;28;01mreturn\u001b[39;00m \u001b[38;5;28mself\u001b[39m\u001b[38;5;241m.\u001b[39m_engine\u001b[38;5;241m.\u001b[39mget_loc(casted_key)\n\u001b[1;32m   3804\u001b[0m \u001b[38;5;28;01mexcept\u001b[39;00m \u001b[38;5;167;01mKeyError\u001b[39;00m \u001b[38;5;28;01mas\u001b[39;00m err:\n\u001b[0;32m-> 3805\u001b[0m     \u001b[38;5;28;01mraise\u001b[39;00m \u001b[38;5;167;01mKeyError\u001b[39;00m(key) \u001b[38;5;28;01mfrom\u001b[39;00m \u001b[38;5;21;01merr\u001b[39;00m\n\u001b[1;32m   3806\u001b[0m \u001b[38;5;28;01mexcept\u001b[39;00m \u001b[38;5;167;01mTypeError\u001b[39;00m:\n\u001b[1;32m   3807\u001b[0m     \u001b[38;5;66;03m# If we have a listlike key, _check_indexing_error will raise\u001b[39;00m\n\u001b[1;32m   3808\u001b[0m     \u001b[38;5;66;03m#  InvalidIndexError. Otherwise we fall through and re-raise\u001b[39;00m\n\u001b[1;32m   3809\u001b[0m     \u001b[38;5;66;03m#  the TypeError.\u001b[39;00m\n\u001b[1;32m   3810\u001b[0m     \u001b[38;5;28mself\u001b[39m\u001b[38;5;241m.\u001b[39m_check_indexing_error(key)\n",
      "\u001b[0;31mKeyError\u001b[0m: 'accuracy_score_holdout'"
     ]
    }
   ],
   "source": [
    "results_df['accuracy_score_holdout'].mean()"
   ]
  },
  {
   "cell_type": "code",
   "execution_count": null,
   "id": "9c4086a3",
   "metadata": {},
   "outputs": [],
   "source": []
  }
 ],
 "metadata": {
  "kernelspec": {
   "display_name": "Python 3 (ipykernel)",
   "language": "python",
   "name": "python3"
  },
  "language_info": {
   "codemirror_mode": {
    "name": "ipython",
    "version": 3
   },
   "file_extension": ".py",
   "mimetype": "text/x-python",
   "name": "python",
   "nbconvert_exporter": "python",
   "pygments_lexer": "ipython3",
   "version": "3.10.6"
  }
 },
 "nbformat": 4,
 "nbformat_minor": 5
}
