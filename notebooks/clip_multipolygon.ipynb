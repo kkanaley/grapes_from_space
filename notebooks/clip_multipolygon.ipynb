{
 "cells": [
  {
   "cell_type": "code",
   "execution_count": 1,
   "id": "413c1374",
   "metadata": {},
   "outputs": [],
   "source": [
    "import os \n",
    "import glob\n",
    "import numpy as np\n",
    "import rasterio as rio\n",
    "import pandas as pd\n",
    "import json\n",
    "import pyproj\n",
    "from rasterio import plot\n",
    "from rasterio.mask import raster_geometry_mask\n",
    "from shapely.geometry import shape, MultiPolygon\n",
    "from shapely.ops import transform\n",
    "import geopandas as gpd"
   ]
  },
  {
   "cell_type": "code",
   "execution_count": 2,
   "id": "5fdb54fb",
   "metadata": {},
   "outputs": [],
   "source": [
    "# Try clipping using a multipolygon geojson\n",
    "\n",
    "def clip_to_multi_aoi(mask_path, rast_path):\n",
    "    \n",
    "    '''This function clips images to a multipolygon area of interest.\n",
    "    \n",
    "    Inputs:\n",
    "    mask_path: path to a geojson file for the aoi (can be a multipolygon geometry)\n",
    "    rast_path: path to the image to clip\n",
    "    \n",
    "    Output: saves the clipped image as new .tif file'''\n",
    "    \n",
    "    # Read aoi mask and update crs to match image \n",
    "    with rio.open(rast_path) as src:\n",
    "        geo = gpd.read_file(mask_path)\n",
    "        geo = geo.to_crs(src.crs)\n",
    "    \n",
    "        # Mask pixels outside the aoi\n",
    "        # For more on the rasterio mask function: https://rasterio.readthedocs.io/en/latest/api/rasterio.mask.html\n",
    "        \n",
    "        out_image, out_transform = rio.mask.mask(src, geo.geometry, filled = True)\n",
    "        #show(out_image)\n",
    "        \n",
    "        # Update output image metadata to match input image metadata\n",
    "        mask_meta = src.meta\n",
    "        mask_meta.update({\"driver\": \"GTiff\",\n",
    "                          \"height\": out_image.shape[1],\n",
    "                          \"width\": out_image.shape[2],\n",
    "                          \"transform\": out_transform})\n",
    "        \n",
    "        # Change this depending on preferred output location\n",
    "        with rio.open('/Users/kathleenkanaley/Desktop/grapes_from_space/data/images/2020/SkySat/'+\n",
    "                      str(os.path.basename(rast_path).split('.tif')[0])+\n",
    "                      \"_clipped.tif\", \n",
    "                      \"w\", \n",
    "                      **mask_meta) as dest:\n",
    "            dest.write(out_image)  "
   ]
  },
  {
   "cell_type": "code",
   "execution_count": null,
   "id": "30a1980e",
   "metadata": {},
   "outputs": [],
   "source": []
  }
 ],
 "metadata": {
  "kernelspec": {
   "display_name": "Python 3 (ipykernel)",
   "language": "python",
   "name": "python3"
  },
  "language_info": {
   "codemirror_mode": {
    "name": "ipython",
    "version": 3
   },
   "file_extension": ".py",
   "mimetype": "text/x-python",
   "name": "python",
   "nbconvert_exporter": "python",
   "pygments_lexer": "ipython3",
   "version": "3.10.6"
  }
 },
 "nbformat": 4,
 "nbformat_minor": 5
}
