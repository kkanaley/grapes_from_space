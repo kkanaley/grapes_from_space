{
 "cells": [
  {
   "cell_type": "code",
   "execution_count": 35,
   "id": "0c94b817",
   "metadata": {},
   "outputs": [],
   "source": [
    "import os \n",
    "import glob\n",
    "import numpy as np\n",
    "import rasterio as rio\n",
    "import pandas as pd\n",
    "import json\n",
    "import pyproj\n",
    "from rasterio import plot\n",
    "from rasterio.mask import raster_geometry_mask\n",
    "from shapely.geometry import shape, MultiPolygon\n",
    "from shapely.ops import transform\n",
    "import geopandas as gpd"
   ]
  },
  {
   "cell_type": "code",
   "execution_count": 36,
   "id": "17050503",
   "metadata": {},
   "outputs": [],
   "source": [
    "# Clip all images to the desired aoi.\n",
    "\n",
    "def clip_to_aoi(path_to_aoi, img_path_list):\n",
    "    '''This function clips images to an area of interest.\n",
    "    Inputs:\n",
    "    path_to_aoi: the absolute path to a geojson file for the aoi\n",
    "    img_path_list: list of absolute path names for the images to clip.\n",
    "    \n",
    "    Output: saves the clipped images as .tif files to the same directory where the original images are stored'''\n",
    "    \n",
    "    with open(path_to_aoi, 'r') as f:\n",
    "        aoi = json.load(f)\n",
    "    aoi_geom = aoi['features'][0]['geometry']\n",
    "    \n",
    "    # find the coordinate reference system of the image\n",
    "    for i in img_path_list:\n",
    "        with rio.open(i) as src:\n",
    "            dst_crs = src.crs\n",
    "            wgs84 = pyproj.CRS('EPSG:4326')\n",
    "            project = pyproj.Transformer.from_crs(wgs84, dst_crs, always_xy=True).transform\n",
    "            proj_aoi = transform(project, shape(aoi_geom))\n",
    "            \n",
    "            mask, mask_transform = rio.mask.mask(src, [proj_aoi], crop=True)\n",
    "            mask_meta = src.meta\n",
    "            mask_meta.update({\"driver\": \"GTiff\",\n",
    "                 \"height\": mask.shape[1],\n",
    "                 \"width\": mask.shape[2],\n",
    "                 \"transform\": mask_transform})\n",
    "        \n",
    "        with rio.open(str(os.path.abspath(i).split('.tif')[0])+\"_clipped.tif\", \"w\", **mask_meta) as dest:\n",
    "            dest.write(mask)   "
   ]
  },
  {
   "cell_type": "code",
   "execution_count": 37,
   "id": "ab4eeb3e",
   "metadata": {},
   "outputs": [],
   "source": [
    "img_path_list = glob.glob('../data/images/2020/SkySat/C*/*corg_cor.tif')"
   ]
  },
  {
   "cell_type": "code",
   "execution_count": 38,
   "id": "335971ce",
   "metadata": {},
   "outputs": [
    {
     "data": {
      "text/plain": [
       "['../data/images/2020/SkySat/Coregistered_Scenes/20200812_153924_ssc3d2_0013_analytic_SR_corg_cor.tif',\n",
       " '../data/images/2020/SkySat/Coregistered_Scenes/20200805_154044_ssc13d2_0013_analytic_SR_corg_cor.tif',\n",
       " '../data/images/2020/SkySat/Coregistered_Scenes/20200618_160058_ssc3d2_0013_analytic_SR_corg_cor.tif',\n",
       " '../data/images/2020/SkySat/Coregistered_Scenes/20200710_155028_ssc3d2_0012_analytic_SR_corg_cor.tif',\n",
       " '../data/images/2020/SkySat/Coregistered_Scenes/20200625_154704_ssc12d2_0013_analytic_SR_corg_cor.tif']"
      ]
     },
     "execution_count": 38,
     "metadata": {},
     "output_type": "execute_result"
    }
   ],
   "source": [
    "img_path_list"
   ]
  },
  {
   "cell_type": "code",
   "execution_count": 39,
   "id": "13a5b99f",
   "metadata": {},
   "outputs": [],
   "source": [
    "path_to_aoi = '../data/chardonnay_for_dora.geojson'"
   ]
  },
  {
   "cell_type": "code",
   "execution_count": 40,
   "id": "4514f53a",
   "metadata": {},
   "outputs": [
    {
     "name": "stdout",
     "output_type": "stream",
     "text": [
      "{'type': 'FeatureCollection', 'name': 'chardonnay_for_dora', 'crs': {'type': 'name', 'properties': {'name': 'urn:ogc:def:crs:EPSG::32618'}}, 'features': [{'type': 'Feature', 'properties': {'id': 0}, 'geometry': {'type': 'MultiPolygon', 'coordinates': [[[[335297.14384695643, 4749359.261262722], [335418.1315735193, 4749325.993600101], [335415.9217892363, 4749267.745393819], [335297.05654266535, 4749301.183861628], [335297.14384695643, 4749359.261262722]]]]}}]}\n"
     ]
    }
   ],
   "source": [
    "with open(path_to_aoi, 'r') as f:\n",
    "        aoi = json.load(f)\n",
    "        aoi_geom = aoi['features']#[0]['geometry']\n",
    "        \n",
    "        print(aoi)"
   ]
  },
  {
   "cell_type": "code",
   "execution_count": 44,
   "id": "db24229c",
   "metadata": {},
   "outputs": [],
   "source": [
    "# Try clipping using a multipolygon geojson\n",
    "\n",
    "def clip_to_multi_aoi(mask_path, rast_path):\n",
    "    \n",
    "    '''This function clips images to a multipolygon area of interest.\n",
    "    \n",
    "    Inputs:\n",
    "    mask_path: path to a geojson file for the aoi (can be a multipolygon geometry)\n",
    "    rast_path: path to the image to clip\n",
    "    \n",
    "    Output: saves the clipped image as new .tif file'''\n",
    "    \n",
    "    # Read aoi mask and update crs to match image \n",
    "    with rio.open(rast_path) as src:\n",
    "        geo = gpd.read_file(mask_path)\n",
    "        geo = geo.to_crs(src.crs)\n",
    "    \n",
    "        # Mask pixels outside the aoi\n",
    "        # For more on the rasterio mask function: https://rasterio.readthedocs.io/en/latest/api/rasterio.mask.html\n",
    "        \n",
    "        out_image, out_transform = rio.mask.mask(src, geo.geometry, filled = True)\n",
    "        #show(out_image)\n",
    "        \n",
    "        # Update output image metadata to match input image metadata\n",
    "        mask_meta = src.meta\n",
    "        mask_meta.update({\"driver\": \"GTiff\",\n",
    "                          \"height\": out_image.shape[1],\n",
    "                          \"width\": out_image.shape[2],\n",
    "                          \"transform\": out_transform})\n",
    "        \n",
    "        # Change this depending on preferred output location\n",
    "        with rio.open('/Users/kathleenkanaley/Desktop/grapes_from_space/data/images/2020/SkySat/'+\n",
    "                      str(os.path.basename(rast_path).split('.tif')[0])+\n",
    "                      \"_clipped.tif\", \n",
    "                      \"w\", \n",
    "                      **mask_meta) as dest:\n",
    "            dest.write(out_image)  "
   ]
  },
  {
   "cell_type": "code",
   "execution_count": 45,
   "id": "8bb60124",
   "metadata": {},
   "outputs": [],
   "source": [
    "for i in img_path_list:\n",
    "    clip_to_multi_aoi(path_to_aoi, i)"
   ]
  },
  {
   "cell_type": "code",
   "execution_count": 46,
   "id": "11b892cb",
   "metadata": {},
   "outputs": [],
   "source": [
    "#rast_path = '../data/images/2020/SkySat/Coregistered_Scenes/20200618_160058_ssc3d2_0013_analytic_SR_corg_cor.tif'\n",
    "#mask_path = '../data/crit_panels_geojson.geojson'\n",
    "\n",
    "#clip_to_multi_aoi(mask_path, rast_path)"
   ]
  },
  {
   "cell_type": "code",
   "execution_count": 60,
   "id": "41bdfd15",
   "metadata": {},
   "outputs": [],
   "source": [
    "# Above function adapted from: https://gis.stackexchange.com/questions/401347/masking-raster-with-a-multipolygon\n",
    "\n",
    "# import geopandas as gpd\n",
    "# import rasterio\n",
    "# from rasterio import mask\n",
    "# from rasterio.plot import show\n",
    "\n",
    "# rast_path = '../data/images/2020/SkySat/Coregistered_Scenes/20200618_160058_ssc3d2_0013_analytic_SR_corg_cor.masked.tif'\n",
    "# mask_path = '../data/crit_panels_geojson.geojson'\n",
    "\n",
    "# geo = gpd.read_file(mask_path)\n",
    "# geo = geo.to_crs(\"epsg:32618\")\n",
    "# print(geo.crs)\n",
    "\n",
    "# with rasterio.open(rast_path) as src:\n",
    "#     print(src.crs)\n",
    "#     out_image, out_transform = rasterio.mask.mask(src, geo.geometry, filled = True)\n",
    "\n",
    "# show(out_image)"
   ]
  },
  {
   "cell_type": "code",
   "execution_count": null,
   "id": "271e34d5",
   "metadata": {},
   "outputs": [],
   "source": []
  }
 ],
 "metadata": {
  "kernelspec": {
   "display_name": "Python 3 (ipykernel)",
   "language": "python",
   "name": "python3"
  },
  "language_info": {
   "codemirror_mode": {
    "name": "ipython",
    "version": 3
   },
   "file_extension": ".py",
   "mimetype": "text/x-python",
   "name": "python",
   "nbconvert_exporter": "python",
   "pygments_lexer": "ipython3",
   "version": "3.10.6"
  }
 },
 "nbformat": 4,
 "nbformat_minor": 5
}
