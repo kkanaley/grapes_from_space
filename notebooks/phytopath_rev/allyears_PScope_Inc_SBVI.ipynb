{
 "cells": [
  {
   "cell_type": "code",
   "execution_count": 1,
   "id": "19fedb74",
   "metadata": {},
   "outputs": [],
   "source": [
    "import glob\n",
    "import os\n",
    "import matplotlib.pyplot as plt\n",
    "import pandas as pd\n",
    "import numpy as np\n",
    "import seaborn as sns\n",
    "import rasterio as rio\n",
    "\n",
    "import sklearn\n",
    "from sklearn.preprocessing import MinMaxScaler\n",
    "from sklearn.model_selection import train_test_split\n",
    "from sklearn.ensemble import RandomForestClassifier\n",
    "from sklearn.model_selection import cross_val_score\n",
    "from sklearn.model_selection import RepeatedStratifiedKFold\n",
    "from sklearn.metrics import classification_report \n",
    "from sklearn.metrics import accuracy_score\n",
    "from sklearn.metrics import precision_recall_fscore_support\n",
    "from sklearn.metrics import roc_auc_score\n",
    "from sklearn.metrics import confusion_matrix\n",
    "\n",
    "import imblearn as imb\n",
    "from imblearn.under_sampling import RandomUnderSampler\n",
    "\n",
    "import scipy\n",
    "import itertools\n",
    "import random\n",
    "import ast"
   ]
  },
  {
   "cell_type": "markdown",
   "id": "a010eab2",
   "metadata": {},
   "source": [
    "## Data prep"
   ]
  },
  {
   "cell_type": "code",
   "execution_count": 2,
   "id": "0510f78a",
   "metadata": {},
   "outputs": [],
   "source": [
    "def img_to_df(img_path, cols):\n",
    "    with rio.open(img_path) as src:\n",
    "        as_array = src.read()\n",
    "        band_arrs = []\n",
    "        \n",
    "        for i in np.arange(src.count):\n",
    "            band_arr = as_array[i].flatten()\n",
    "            band_arr = band_arr/10000\n",
    "            \n",
    "            band_arrs.append(band_arr)\n",
    "        \n",
    "        df = pd.DataFrame(band_arrs,cols).T\n",
    "        df['Date'] = img_path.split('/')[-1].split('_')[0]\n",
    "        \n",
    "        # Optional: drops entries with no severity rating. Comment out if unnecessary.\n",
    "        no_nans = df.dropna(subset=['total_dis_sev']) \n",
    "        \n",
    "        return no_nans"
   ]
  },
  {
   "cell_type": "code",
   "execution_count": 3,
   "id": "ea08a792",
   "metadata": {},
   "outputs": [],
   "source": [
    "def add_vis(df):\n",
    "    df['pri']= (df['green']- df['greenI'])/(df['green']+df['greenI'])\n",
    "    df['ndre'] = (df['nir'] - df['rede']) / (df['nir'] + df['rede'])\n",
    "    df['tcari'] = 3 * (( (df['rede'] - df['red']) - 0.2 * (df['rede'] - df['green']) ) * (df['rede'] / df['red']))\n",
    "    df['ndvi']= (df['nir']-df['red'])/(df['nir']+df['red'])\n",
    "    df['evi']= 2.5*(df['nir']-df['red'])/(df['nir']+6*df['red']-7.5*df['blue']+1)\n",
    "    df['savi']= 1.5*(df['nir']-df['red'])/(df['nir']+df['red']+0.5)\n",
    "    df['arvi']=(df['nir']-(2*df['red']-df['blue']))/(df['nir']+(2*df['red']-df['blue']))\n",
    "    df['grvi'] = (df['green']-df['red'])/(df['green']+df['red'])\n",
    "\n",
    "    return df"
   ]
  },
  {
   "cell_type": "code",
   "execution_count": 4,
   "id": "196fe5df",
   "metadata": {},
   "outputs": [],
   "source": [
    "data_dir = '/Users/kathleenkanaley/Desktop/grapes_from_space/data/'\n",
    "dis_ras_20 = glob.glob(data_dir +'images/2020/PScope/dis_band_*/20*.tif')\n",
    "dis_ras_21 = glob.glob(data_dir +'images/2021/PScope/dis_band_*/20*.tif')\n",
    "dis_ras_22 = glob.glob(data_dir +'images/2022/PScope/dis_band_*/20*.tif')"
   ]
  },
  {
   "cell_type": "code",
   "execution_count": 5,
   "id": "46d77696",
   "metadata": {},
   "outputs": [],
   "source": [
    "# Get dataframes for all years\n",
    "def data_prep_ps(rasters, cols):\n",
    "    dfs = [img_to_df(rasters[i], cols) for i in np.arange(len(rasters))]\n",
    "    df = pd.concat(dfs)\n",
    "    df['total_dis_sev'] = df['total_dis_sev']*10000\n",
    "    df['dm_sev'] = df['dm_sev']*10000\n",
    "    df['dm_inc'] = df['dm_inc']*10000\n",
    "    df['inc_class'] = 0\n",
    "    df.loc[df['dm_inc']>25,'inc_class']= 1\n",
    "    df['severity_class'] = 0\n",
    "    df.loc[df['dm_sev']>10,'severity_class']= 1\n",
    "    vis = add_vis(df)\n",
    "    return vis\n",
    "    \n",
    "    \n",
    "# dfs_2020 = [img_to_df(dis_ras_20[i], cols) for i in np.arange(len(dis_ras_20))]\n",
    "# df_2020 = pd.concat(dfs_2020)\n",
    "\n",
    "# df_2020['total_dis_sev'] = df_2020['total_dis_sev']*10000\n",
    "# df_2020['dm_sev'] = df_2020['dm_sev']*10000\n",
    "# df_2020['dm_inc'] = df_2020['dm_inc']*10000\n",
    "\n",
    "# df_2020['inc_class'] = 'low'\n",
    "# df_2020.loc[df_2020['dm_inc']>25,'inc_class']= 'high'\n",
    "    \n",
    "# df_2020['severity_class'] = 'low'\n",
    "# df_2020.loc[df_2020['dm_sev']>10,'severity_class']= 'high'\n",
    "\n",
    "# vis_2020 = add_vis(df_2020)\n",
    "\n",
    "# vis_2020.columns"
   ]
  },
  {
   "cell_type": "code",
   "execution_count": 6,
   "id": "9eb56d0f",
   "metadata": {},
   "outputs": [
    {
     "data": {
      "text/plain": [
       "3"
      ]
     },
     "execution_count": 6,
     "metadata": {},
     "output_type": "execute_result"
    }
   ],
   "source": [
    "cols = ['c_blue','blue','greenI', 'green', 'yellow', 'red', 'rede', 'nir','total_dis_sev','dm_sev', 'dm_inc']\n",
    "vi_dfs = []\n",
    "\n",
    "for ras in [dis_ras_20, dis_ras_21, dis_ras_22]:\n",
    "    vi_df = data_prep_ps(ras,cols)\n",
    "    vi_dfs.append(vi_df)\n",
    "    \n",
    "len(vi_dfs)"
   ]
  },
  {
   "cell_type": "code",
   "execution_count": 7,
   "id": "42fcfb71",
   "metadata": {},
   "outputs": [
    {
     "data": {
      "text/plain": [
       "array(['20220726', '20220801', '20220630', '20220704', '20220624'],\n",
       "      dtype=object)"
      ]
     },
     "execution_count": 7,
     "metadata": {},
     "output_type": "execute_result"
    }
   ],
   "source": [
    "vi_dfs[2].Date.unique()"
   ]
  },
  {
   "cell_type": "code",
   "execution_count": 8,
   "id": "ab8bfec3",
   "metadata": {},
   "outputs": [
    {
     "name": "stdout",
     "output_type": "stream",
     "text": [
      "2022\n",
      "2022\n",
      "2022\n",
      "2022\n",
      "2022\n"
     ]
    }
   ],
   "source": [
    "for date in (vi_dfs[2].Date.unique()):\n",
    "    print(date[:4])"
   ]
  },
  {
   "cell_type": "code",
   "execution_count": 9,
   "id": "f140b46f",
   "metadata": {},
   "outputs": [
    {
     "data": {
      "text/plain": [
       "Index(['c_blue', 'blue', 'greenI', 'green', 'yellow', 'red', 'rede', 'nir',\n",
       "       'total_dis_sev', 'dm_sev', 'dm_inc', 'Date', 'inc_class',\n",
       "       'severity_class', 'pri', 'ndre', 'tcari', 'ndvi', 'evi', 'savi', 'arvi',\n",
       "       'grvi'],\n",
       "      dtype='object')"
      ]
     },
     "execution_count": 9,
     "metadata": {},
     "output_type": "execute_result"
    }
   ],
   "source": [
    "vi_dfs[0].columns"
   ]
  },
  {
   "cell_type": "code",
   "execution_count": 10,
   "id": "20255400",
   "metadata": {},
   "outputs": [],
   "source": [
    "# set up variables\n",
    "data_2022 = vi_dfs[2]\n",
    "data_2021 = vi_dfs[1]\n",
    "data_2020 = vi_dfs[0]\n",
    "data_all = pd.concat([data_2020,data_2021,data_2022])\n",
    "sev = 'severity_class'\n",
    "inc = 'inc_class'\n",
    "#sbs = ['c_blue', 'blue', 'greenI', 'green', 'yellow', 'red', 'rede', 'nir']\n",
    "vis = ['pri', 'ndre', 'tcari', 'ndvi', 'evi', 'savi', 'arvi',\n",
    "       'grvi']"
   ]
  },
  {
   "cell_type": "markdown",
   "id": "313c9613",
   "metadata": {},
   "source": [
    "## Find best set of VIs"
   ]
  },
  {
   "cell_type": "code",
   "execution_count": 11,
   "id": "88d019c8",
   "metadata": {},
   "outputs": [],
   "source": [
    "def get_combinations(lst): # creating a user-defined method\n",
    "    combination = [] # empty list \n",
    "    for r in range(1, len(lst) + 1):\n",
    "      # to generate combination\n",
    "      combination += itertools.combinations(lst, r)\n",
    "    return combination"
   ]
  },
  {
   "cell_type": "code",
   "execution_count": 12,
   "id": "51732069",
   "metadata": {
    "scrolled": true
   },
   "outputs": [
    {
     "name": "stdout",
     "output_type": "stream",
     "text": [
      "[('pri',), ('ndre',), ('tcari',), ('ndvi',), ('evi',), ('savi',), ('arvi',), ('grvi',), ('pri', 'ndre'), ('pri', 'tcari'), ('pri', 'ndvi'), ('pri', 'evi'), ('pri', 'savi'), ('pri', 'arvi'), ('pri', 'grvi'), ('ndre', 'tcari'), ('ndre', 'ndvi'), ('ndre', 'evi'), ('ndre', 'savi'), ('ndre', 'arvi'), ('ndre', 'grvi'), ('tcari', 'ndvi'), ('tcari', 'evi'), ('tcari', 'savi'), ('tcari', 'arvi'), ('tcari', 'grvi'), ('ndvi', 'evi'), ('ndvi', 'savi'), ('ndvi', 'arvi'), ('ndvi', 'grvi'), ('evi', 'savi'), ('evi', 'arvi'), ('evi', 'grvi'), ('savi', 'arvi'), ('savi', 'grvi'), ('arvi', 'grvi'), ('pri', 'ndre', 'tcari'), ('pri', 'ndre', 'ndvi'), ('pri', 'ndre', 'evi'), ('pri', 'ndre', 'savi'), ('pri', 'ndre', 'arvi'), ('pri', 'ndre', 'grvi'), ('pri', 'tcari', 'ndvi'), ('pri', 'tcari', 'evi'), ('pri', 'tcari', 'savi'), ('pri', 'tcari', 'arvi'), ('pri', 'tcari', 'grvi'), ('pri', 'ndvi', 'evi'), ('pri', 'ndvi', 'savi'), ('pri', 'ndvi', 'arvi'), ('pri', 'ndvi', 'grvi'), ('pri', 'evi', 'savi'), ('pri', 'evi', 'arvi'), ('pri', 'evi', 'grvi'), ('pri', 'savi', 'arvi'), ('pri', 'savi', 'grvi'), ('pri', 'arvi', 'grvi'), ('ndre', 'tcari', 'ndvi'), ('ndre', 'tcari', 'evi'), ('ndre', 'tcari', 'savi'), ('ndre', 'tcari', 'arvi'), ('ndre', 'tcari', 'grvi'), ('ndre', 'ndvi', 'evi'), ('ndre', 'ndvi', 'savi'), ('ndre', 'ndvi', 'arvi'), ('ndre', 'ndvi', 'grvi'), ('ndre', 'evi', 'savi'), ('ndre', 'evi', 'arvi'), ('ndre', 'evi', 'grvi'), ('ndre', 'savi', 'arvi'), ('ndre', 'savi', 'grvi'), ('ndre', 'arvi', 'grvi'), ('tcari', 'ndvi', 'evi'), ('tcari', 'ndvi', 'savi'), ('tcari', 'ndvi', 'arvi'), ('tcari', 'ndvi', 'grvi'), ('tcari', 'evi', 'savi'), ('tcari', 'evi', 'arvi'), ('tcari', 'evi', 'grvi'), ('tcari', 'savi', 'arvi'), ('tcari', 'savi', 'grvi'), ('tcari', 'arvi', 'grvi'), ('ndvi', 'evi', 'savi'), ('ndvi', 'evi', 'arvi'), ('ndvi', 'evi', 'grvi'), ('ndvi', 'savi', 'arvi'), ('ndvi', 'savi', 'grvi'), ('ndvi', 'arvi', 'grvi'), ('evi', 'savi', 'arvi'), ('evi', 'savi', 'grvi'), ('evi', 'arvi', 'grvi'), ('savi', 'arvi', 'grvi'), ('pri', 'ndre', 'tcari', 'ndvi'), ('pri', 'ndre', 'tcari', 'evi'), ('pri', 'ndre', 'tcari', 'savi'), ('pri', 'ndre', 'tcari', 'arvi'), ('pri', 'ndre', 'tcari', 'grvi'), ('pri', 'ndre', 'ndvi', 'evi'), ('pri', 'ndre', 'ndvi', 'savi'), ('pri', 'ndre', 'ndvi', 'arvi'), ('pri', 'ndre', 'ndvi', 'grvi'), ('pri', 'ndre', 'evi', 'savi'), ('pri', 'ndre', 'evi', 'arvi'), ('pri', 'ndre', 'evi', 'grvi'), ('pri', 'ndre', 'savi', 'arvi'), ('pri', 'ndre', 'savi', 'grvi'), ('pri', 'ndre', 'arvi', 'grvi'), ('pri', 'tcari', 'ndvi', 'evi'), ('pri', 'tcari', 'ndvi', 'savi'), ('pri', 'tcari', 'ndvi', 'arvi'), ('pri', 'tcari', 'ndvi', 'grvi'), ('pri', 'tcari', 'evi', 'savi'), ('pri', 'tcari', 'evi', 'arvi'), ('pri', 'tcari', 'evi', 'grvi'), ('pri', 'tcari', 'savi', 'arvi'), ('pri', 'tcari', 'savi', 'grvi'), ('pri', 'tcari', 'arvi', 'grvi'), ('pri', 'ndvi', 'evi', 'savi'), ('pri', 'ndvi', 'evi', 'arvi'), ('pri', 'ndvi', 'evi', 'grvi'), ('pri', 'ndvi', 'savi', 'arvi'), ('pri', 'ndvi', 'savi', 'grvi'), ('pri', 'ndvi', 'arvi', 'grvi'), ('pri', 'evi', 'savi', 'arvi'), ('pri', 'evi', 'savi', 'grvi'), ('pri', 'evi', 'arvi', 'grvi'), ('pri', 'savi', 'arvi', 'grvi'), ('ndre', 'tcari', 'ndvi', 'evi'), ('ndre', 'tcari', 'ndvi', 'savi'), ('ndre', 'tcari', 'ndvi', 'arvi'), ('ndre', 'tcari', 'ndvi', 'grvi'), ('ndre', 'tcari', 'evi', 'savi'), ('ndre', 'tcari', 'evi', 'arvi'), ('ndre', 'tcari', 'evi', 'grvi'), ('ndre', 'tcari', 'savi', 'arvi'), ('ndre', 'tcari', 'savi', 'grvi'), ('ndre', 'tcari', 'arvi', 'grvi'), ('ndre', 'ndvi', 'evi', 'savi'), ('ndre', 'ndvi', 'evi', 'arvi'), ('ndre', 'ndvi', 'evi', 'grvi'), ('ndre', 'ndvi', 'savi', 'arvi'), ('ndre', 'ndvi', 'savi', 'grvi'), ('ndre', 'ndvi', 'arvi', 'grvi'), ('ndre', 'evi', 'savi', 'arvi'), ('ndre', 'evi', 'savi', 'grvi'), ('ndre', 'evi', 'arvi', 'grvi'), ('ndre', 'savi', 'arvi', 'grvi'), ('tcari', 'ndvi', 'evi', 'savi'), ('tcari', 'ndvi', 'evi', 'arvi'), ('tcari', 'ndvi', 'evi', 'grvi'), ('tcari', 'ndvi', 'savi', 'arvi'), ('tcari', 'ndvi', 'savi', 'grvi'), ('tcari', 'ndvi', 'arvi', 'grvi'), ('tcari', 'evi', 'savi', 'arvi'), ('tcari', 'evi', 'savi', 'grvi'), ('tcari', 'evi', 'arvi', 'grvi'), ('tcari', 'savi', 'arvi', 'grvi'), ('ndvi', 'evi', 'savi', 'arvi'), ('ndvi', 'evi', 'savi', 'grvi'), ('ndvi', 'evi', 'arvi', 'grvi'), ('ndvi', 'savi', 'arvi', 'grvi'), ('evi', 'savi', 'arvi', 'grvi'), ('pri', 'ndre', 'tcari', 'ndvi', 'evi'), ('pri', 'ndre', 'tcari', 'ndvi', 'savi'), ('pri', 'ndre', 'tcari', 'ndvi', 'arvi'), ('pri', 'ndre', 'tcari', 'ndvi', 'grvi'), ('pri', 'ndre', 'tcari', 'evi', 'savi'), ('pri', 'ndre', 'tcari', 'evi', 'arvi'), ('pri', 'ndre', 'tcari', 'evi', 'grvi'), ('pri', 'ndre', 'tcari', 'savi', 'arvi'), ('pri', 'ndre', 'tcari', 'savi', 'grvi'), ('pri', 'ndre', 'tcari', 'arvi', 'grvi'), ('pri', 'ndre', 'ndvi', 'evi', 'savi'), ('pri', 'ndre', 'ndvi', 'evi', 'arvi'), ('pri', 'ndre', 'ndvi', 'evi', 'grvi'), ('pri', 'ndre', 'ndvi', 'savi', 'arvi'), ('pri', 'ndre', 'ndvi', 'savi', 'grvi'), ('pri', 'ndre', 'ndvi', 'arvi', 'grvi'), ('pri', 'ndre', 'evi', 'savi', 'arvi'), ('pri', 'ndre', 'evi', 'savi', 'grvi'), ('pri', 'ndre', 'evi', 'arvi', 'grvi'), ('pri', 'ndre', 'savi', 'arvi', 'grvi'), ('pri', 'tcari', 'ndvi', 'evi', 'savi'), ('pri', 'tcari', 'ndvi', 'evi', 'arvi'), ('pri', 'tcari', 'ndvi', 'evi', 'grvi'), ('pri', 'tcari', 'ndvi', 'savi', 'arvi'), ('pri', 'tcari', 'ndvi', 'savi', 'grvi'), ('pri', 'tcari', 'ndvi', 'arvi', 'grvi'), ('pri', 'tcari', 'evi', 'savi', 'arvi'), ('pri', 'tcari', 'evi', 'savi', 'grvi'), ('pri', 'tcari', 'evi', 'arvi', 'grvi'), ('pri', 'tcari', 'savi', 'arvi', 'grvi'), ('pri', 'ndvi', 'evi', 'savi', 'arvi'), ('pri', 'ndvi', 'evi', 'savi', 'grvi'), ('pri', 'ndvi', 'evi', 'arvi', 'grvi'), ('pri', 'ndvi', 'savi', 'arvi', 'grvi'), ('pri', 'evi', 'savi', 'arvi', 'grvi'), ('ndre', 'tcari', 'ndvi', 'evi', 'savi'), ('ndre', 'tcari', 'ndvi', 'evi', 'arvi'), ('ndre', 'tcari', 'ndvi', 'evi', 'grvi'), ('ndre', 'tcari', 'ndvi', 'savi', 'arvi'), ('ndre', 'tcari', 'ndvi', 'savi', 'grvi'), ('ndre', 'tcari', 'ndvi', 'arvi', 'grvi'), ('ndre', 'tcari', 'evi', 'savi', 'arvi'), ('ndre', 'tcari', 'evi', 'savi', 'grvi'), ('ndre', 'tcari', 'evi', 'arvi', 'grvi'), ('ndre', 'tcari', 'savi', 'arvi', 'grvi'), ('ndre', 'ndvi', 'evi', 'savi', 'arvi'), ('ndre', 'ndvi', 'evi', 'savi', 'grvi'), ('ndre', 'ndvi', 'evi', 'arvi', 'grvi'), ('ndre', 'ndvi', 'savi', 'arvi', 'grvi'), ('ndre', 'evi', 'savi', 'arvi', 'grvi'), ('tcari', 'ndvi', 'evi', 'savi', 'arvi'), ('tcari', 'ndvi', 'evi', 'savi', 'grvi'), ('tcari', 'ndvi', 'evi', 'arvi', 'grvi'), ('tcari', 'ndvi', 'savi', 'arvi', 'grvi'), ('tcari', 'evi', 'savi', 'arvi', 'grvi'), ('ndvi', 'evi', 'savi', 'arvi', 'grvi'), ('pri', 'ndre', 'tcari', 'ndvi', 'evi', 'savi'), ('pri', 'ndre', 'tcari', 'ndvi', 'evi', 'arvi'), ('pri', 'ndre', 'tcari', 'ndvi', 'evi', 'grvi'), ('pri', 'ndre', 'tcari', 'ndvi', 'savi', 'arvi'), ('pri', 'ndre', 'tcari', 'ndvi', 'savi', 'grvi'), ('pri', 'ndre', 'tcari', 'ndvi', 'arvi', 'grvi'), ('pri', 'ndre', 'tcari', 'evi', 'savi', 'arvi'), ('pri', 'ndre', 'tcari', 'evi', 'savi', 'grvi'), ('pri', 'ndre', 'tcari', 'evi', 'arvi', 'grvi'), ('pri', 'ndre', 'tcari', 'savi', 'arvi', 'grvi'), ('pri', 'ndre', 'ndvi', 'evi', 'savi', 'arvi'), ('pri', 'ndre', 'ndvi', 'evi', 'savi', 'grvi'), ('pri', 'ndre', 'ndvi', 'evi', 'arvi', 'grvi'), ('pri', 'ndre', 'ndvi', 'savi', 'arvi', 'grvi'), ('pri', 'ndre', 'evi', 'savi', 'arvi', 'grvi'), ('pri', 'tcari', 'ndvi', 'evi', 'savi', 'arvi'), ('pri', 'tcari', 'ndvi', 'evi', 'savi', 'grvi'), ('pri', 'tcari', 'ndvi', 'evi', 'arvi', 'grvi'), ('pri', 'tcari', 'ndvi', 'savi', 'arvi', 'grvi'), ('pri', 'tcari', 'evi', 'savi', 'arvi', 'grvi'), ('pri', 'ndvi', 'evi', 'savi', 'arvi', 'grvi'), ('ndre', 'tcari', 'ndvi', 'evi', 'savi', 'arvi'), ('ndre', 'tcari', 'ndvi', 'evi', 'savi', 'grvi'), ('ndre', 'tcari', 'ndvi', 'evi', 'arvi', 'grvi'), ('ndre', 'tcari', 'ndvi', 'savi', 'arvi', 'grvi'), ('ndre', 'tcari', 'evi', 'savi', 'arvi', 'grvi'), ('ndre', 'ndvi', 'evi', 'savi', 'arvi', 'grvi'), ('tcari', 'ndvi', 'evi', 'savi', 'arvi', 'grvi'), ('pri', 'ndre', 'tcari', 'ndvi', 'evi', 'savi', 'arvi'), ('pri', 'ndre', 'tcari', 'ndvi', 'evi', 'savi', 'grvi'), ('pri', 'ndre', 'tcari', 'ndvi', 'evi', 'arvi', 'grvi'), ('pri', 'ndre', 'tcari', 'ndvi', 'savi', 'arvi', 'grvi'), ('pri', 'ndre', 'tcari', 'evi', 'savi', 'arvi', 'grvi'), ('pri', 'ndre', 'ndvi', 'evi', 'savi', 'arvi', 'grvi'), ('pri', 'tcari', 'ndvi', 'evi', 'savi', 'arvi', 'grvi'), ('ndre', 'tcari', 'ndvi', 'evi', 'savi', 'arvi', 'grvi'), ('pri', 'ndre', 'tcari', 'ndvi', 'evi', 'savi', 'arvi', 'grvi')]\n"
     ]
    }
   ],
   "source": [
    "all_combinations = get_combinations(vis) # method call\n",
    "print(all_combinations)"
   ]
  },
  {
   "cell_type": "code",
   "execution_count": 13,
   "id": "f68b00fd",
   "metadata": {},
   "outputs": [],
   "source": [
    "# Append all possible combinations of vis to the spectral bands\n",
    "# Result = list of potential explanatory variables\n",
    "\n",
    "exp_vars = []\n",
    "for combo in all_combinations:\n",
    "    combo = list(combo)\n",
    "    sb = ['c_blue', 'blue', 'greenI', 'green', 'yellow', 'red', 'rede', 'nir']\n",
    "    sb_plus_vi = sb + combo\n",
    "    exp_vars.append(sb_plus_vi)\n",
    "#exp_vars"
   ]
  },
  {
   "cell_type": "code",
   "execution_count": 14,
   "id": "cd2a96cc",
   "metadata": {},
   "outputs": [],
   "source": [
    "# Prep the dataset: balance the data and scale\n",
    "## no need to split into train/test\n",
    "\n",
    "def data_prep(data, expl_vars, resp_var, state, seed):\n",
    "    X = data[expl_vars]\n",
    "    y = data[resp_var]\n",
    "\n",
    "    rus = RandomUnderSampler(random_state=state)\n",
    "    X_rus, y_rus = rus.fit_resample(X, y)\n",
    "\n",
    "    mm = MinMaxScaler()\n",
    "    X_scaled = mm.fit_transform(X_rus)\n",
    "    \n",
    "    return X_scaled, y_rus #features (scaled) and labels (unscaled)"
   ]
  },
  {
   "cell_type": "code",
   "execution_count": 15,
   "id": "c4eb19b2",
   "metadata": {},
   "outputs": [],
   "source": [
    "# Get a dictionary of models for each set of explanatory variables\n",
    "\n",
    "def get_models(explanatory_vars):\n",
    "    models = dict()\n",
    "    for i in exp_vars:\n",
    "        model = RandomForestClassifier()\n",
    "        models[str(i)] = model\n",
    "    return models"
   ]
  },
  {
   "cell_type": "code",
   "execution_count": 16,
   "id": "0f7de768",
   "metadata": {},
   "outputs": [],
   "source": [
    "# evaluate a given model using cross-validation\n",
    "\n",
    "def evaluate_model(model, X, y,scoring):\n",
    "    cv = RepeatedStratifiedKFold(n_splits=10, n_repeats=3, random_state=1) # will get 30 (10x3) different results\n",
    "    scores = cross_val_score(model, X, y, scoring=scoring, cv=cv, n_jobs=-1, error_score='raise')\n",
    "    return scores"
   ]
  },
  {
   "cell_type": "code",
   "execution_count": 19,
   "id": "11aaa7ea",
   "metadata": {},
   "outputs": [],
   "source": [
    "def F1_df(df, models, resp_var):\n",
    "    results = pd.DataFrame(columns=['name','F1', 'features'])\n",
    "    F1 = []\n",
    "    features = []\n",
    "    year = []\n",
    "    for name, model in models.items():\n",
    "        X,y = data_prep(df,ast.literal_eval(name),resp_var,2024,16)\n",
    "        scores = evaluate_model(model, X, y,'f1')\n",
    "        F1.append(np.mean(scores))\n",
    "        features.append(name)\n",
    "        year.append(df.Date.unique()[0][:4])\n",
    "\n",
    "    results['name'] = year\n",
    "    results['F1']=F1\n",
    "    results['features']=features\n",
    "    \n",
    "    return results"
   ]
  },
  {
   "cell_type": "code",
   "execution_count": 20,
   "id": "2412dc89",
   "metadata": {},
   "outputs": [
    {
     "data": {
      "text/plain": [
       "3"
      ]
     },
     "execution_count": 20,
     "metadata": {},
     "output_type": "execute_result"
    }
   ],
   "source": [
    "# get dataframes of average F1 scores for models with different combinations of explanatory variables\n",
    "models = get_models(exp_vars)\n",
    "\n",
    "F1_dfs = []\n",
    "\n",
    "for df in [data_2020, data_2021, data_2022]:\n",
    "    F1_scores = F1_df(df, models, inc)\n",
    "    F1_dfs.append(F1_scores)\n",
    "\n",
    "len(F1_dfs)"
   ]
  },
  {
   "cell_type": "code",
   "execution_count": 23,
   "id": "bea0b6aa",
   "metadata": {},
   "outputs": [
    {
     "data": {
      "text/html": [
       "<div>\n",
       "<style scoped>\n",
       "    .dataframe tbody tr th:only-of-type {\n",
       "        vertical-align: middle;\n",
       "    }\n",
       "\n",
       "    .dataframe tbody tr th {\n",
       "        vertical-align: top;\n",
       "    }\n",
       "\n",
       "    .dataframe thead th {\n",
       "        text-align: right;\n",
       "    }\n",
       "</style>\n",
       "<table border=\"1\" class=\"dataframe\">\n",
       "  <thead>\n",
       "    <tr style=\"text-align: right;\">\n",
       "      <th></th>\n",
       "      <th>name</th>\n",
       "      <th>F1</th>\n",
       "      <th>features</th>\n",
       "    </tr>\n",
       "  </thead>\n",
       "  <tbody>\n",
       "    <tr>\n",
       "      <th>0</th>\n",
       "      <td>2022</td>\n",
       "      <td>0.831083</td>\n",
       "      <td>['c_blue', 'blue', 'greenI', 'green', 'yellow'...</td>\n",
       "    </tr>\n",
       "    <tr>\n",
       "      <th>1</th>\n",
       "      <td>2022</td>\n",
       "      <td>0.813915</td>\n",
       "      <td>['c_blue', 'blue', 'greenI', 'green', 'yellow'...</td>\n",
       "    </tr>\n",
       "    <tr>\n",
       "      <th>2</th>\n",
       "      <td>2022</td>\n",
       "      <td>0.812679</td>\n",
       "      <td>['c_blue', 'blue', 'greenI', 'green', 'yellow'...</td>\n",
       "    </tr>\n",
       "    <tr>\n",
       "      <th>3</th>\n",
       "      <td>2022</td>\n",
       "      <td>0.808824</td>\n",
       "      <td>['c_blue', 'blue', 'greenI', 'green', 'yellow'...</td>\n",
       "    </tr>\n",
       "    <tr>\n",
       "      <th>4</th>\n",
       "      <td>2022</td>\n",
       "      <td>0.807870</td>\n",
       "      <td>['c_blue', 'blue', 'greenI', 'green', 'yellow'...</td>\n",
       "    </tr>\n",
       "    <tr>\n",
       "      <th>...</th>\n",
       "      <td>...</td>\n",
       "      <td>...</td>\n",
       "      <td>...</td>\n",
       "    </tr>\n",
       "    <tr>\n",
       "      <th>250</th>\n",
       "      <td>2022</td>\n",
       "      <td>0.817173</td>\n",
       "      <td>['c_blue', 'blue', 'greenI', 'green', 'yellow'...</td>\n",
       "    </tr>\n",
       "    <tr>\n",
       "      <th>251</th>\n",
       "      <td>2022</td>\n",
       "      <td>0.814889</td>\n",
       "      <td>['c_blue', 'blue', 'greenI', 'green', 'yellow'...</td>\n",
       "    </tr>\n",
       "    <tr>\n",
       "      <th>252</th>\n",
       "      <td>2022</td>\n",
       "      <td>0.811088</td>\n",
       "      <td>['c_blue', 'blue', 'greenI', 'green', 'yellow'...</td>\n",
       "    </tr>\n",
       "    <tr>\n",
       "      <th>253</th>\n",
       "      <td>2022</td>\n",
       "      <td>0.807344</td>\n",
       "      <td>['c_blue', 'blue', 'greenI', 'green', 'yellow'...</td>\n",
       "    </tr>\n",
       "    <tr>\n",
       "      <th>254</th>\n",
       "      <td>2022</td>\n",
       "      <td>0.809186</td>\n",
       "      <td>['c_blue', 'blue', 'greenI', 'green', 'yellow'...</td>\n",
       "    </tr>\n",
       "  </tbody>\n",
       "</table>\n",
       "<p>255 rows × 3 columns</p>\n",
       "</div>"
      ],
      "text/plain": [
       "     name        F1                                           features\n",
       "0    2022  0.831083  ['c_blue', 'blue', 'greenI', 'green', 'yellow'...\n",
       "1    2022  0.813915  ['c_blue', 'blue', 'greenI', 'green', 'yellow'...\n",
       "2    2022  0.812679  ['c_blue', 'blue', 'greenI', 'green', 'yellow'...\n",
       "3    2022  0.808824  ['c_blue', 'blue', 'greenI', 'green', 'yellow'...\n",
       "4    2022  0.807870  ['c_blue', 'blue', 'greenI', 'green', 'yellow'...\n",
       "..    ...       ...                                                ...\n",
       "250  2022  0.817173  ['c_blue', 'blue', 'greenI', 'green', 'yellow'...\n",
       "251  2022  0.814889  ['c_blue', 'blue', 'greenI', 'green', 'yellow'...\n",
       "252  2022  0.811088  ['c_blue', 'blue', 'greenI', 'green', 'yellow'...\n",
       "253  2022  0.807344  ['c_blue', 'blue', 'greenI', 'green', 'yellow'...\n",
       "254  2022  0.809186  ['c_blue', 'blue', 'greenI', 'green', 'yellow'...\n",
       "\n",
       "[255 rows x 3 columns]"
      ]
     },
     "execution_count": 23,
     "metadata": {},
     "output_type": "execute_result"
    }
   ],
   "source": [
    "F1_dfs[2]"
   ]
  },
  {
   "cell_type": "code",
   "execution_count": 24,
   "id": "51b65d84",
   "metadata": {},
   "outputs": [
    {
     "name": "stdout",
     "output_type": "stream",
     "text": [
      "Best feature combo for 2020: ['c_blue', 'blue', 'greenI', 'green', 'yellow', 'red', 'rede', 'nir', 'ndvi', 'savi', 'arvi']\n",
      "Best feature combo for 2021: ['c_blue', 'blue', 'greenI', 'green', 'yellow', 'red', 'rede', 'nir', 'pri', 'ndre', 'evi', 'savi', 'arvi']\n",
      "Best feature combo for 2022: ['c_blue', 'blue', 'greenI', 'green', 'yellow', 'red', 'rede', 'nir', 'pri']\n"
     ]
    }
   ],
   "source": [
    "# best vi combos for each year (maximizes F1)\n",
    "combo_20 = F1_dfs[0].iloc[F1_dfs[0]['F1'].idxmax()]['features']\n",
    "print(\"Best feature combo for 2020:\", combo_20)\n",
    "\n",
    "combo_21 = F1_dfs[1].iloc[F1_dfs[1]['F1'].idxmax()]['features']\n",
    "print(\"Best feature combo for 2021:\", combo_21)\n",
    "\n",
    "combo_22 = F1_dfs[2].iloc[F1_dfs[2]['F1'].idxmax()]['features']\n",
    "print(\"Best feature combo for 2022:\", combo_22)"
   ]
  },
  {
   "cell_type": "markdown",
   "id": "faa62db3",
   "metadata": {},
   "source": [
    "## Balance, split, normalize"
   ]
  },
  {
   "cell_type": "code",
   "execution_count": 25,
   "id": "a0095140",
   "metadata": {},
   "outputs": [],
   "source": [
    "def bal_split_norm(data, expl_vars, resp_var, state, seed):\n",
    "    X = data[expl_vars]\n",
    "    y = data[resp_var]\n",
    "\n",
    "    rus = RandomUnderSampler(random_state=state)\n",
    "    X_rus, y_rus = rus.fit_resample(X, y)\n",
    "\n",
    "    # Split dataset into training set and test set\n",
    "    X_train, X_test, y_train, y_test = train_test_split(X_rus, y_rus,\n",
    "                                                        test_size=0.3, \n",
    "                                                        random_state=seed,\n",
    "                                                        stratify = y_rus)  # 70% training and 30% test\n",
    "    mm = MinMaxScaler()\n",
    "    X_train_scaled = mm.fit_transform(X_train)\n",
    "    X_test_scaled = mm.transform(X_test)\n",
    "    \n",
    "    return X_train_scaled, y_train, X_test_scaled, y_test"
   ]
  },
  {
   "cell_type": "markdown",
   "id": "823eb541",
   "metadata": {},
   "source": [
    "## For 2020"
   ]
  },
  {
   "cell_type": "code",
   "execution_count": 27,
   "id": "0c9f91be",
   "metadata": {},
   "outputs": [],
   "source": [
    "# X_train, y_train, X_test, y_test = bal_split_norm(data_2020,\n",
    "#                                                   ast.literal_eval(combo_20), #convert string to list\n",
    "#                                                  inc,\n",
    "#                                                  2020,\n",
    "#                                                  14)"
   ]
  },
  {
   "cell_type": "markdown",
   "id": "075be4cc",
   "metadata": {},
   "source": [
    "## Hyperparameter tuning (training set only)"
   ]
  },
  {
   "cell_type": "code",
   "execution_count": 28,
   "id": "3f0db2b6",
   "metadata": {},
   "outputs": [],
   "source": [
    "# # Create dictionary of parameters to test with randomizedCV\n",
    "\n",
    "# from sklearn.model_selection import RandomizedSearchCV\n",
    "\n",
    "# n_estimators = [int(x) for x in np.linspace(start = 100, stop = 1000,\n",
    "# num = 10)]\n",
    "# max_features = ['log2', 'sqrt']\n",
    "# max_depth = [int(x) for x in np.linspace(start = 1, stop = 15, num =\n",
    "# 15)]\n",
    "# min_samples_split = [int(x) for x in np.linspace(start = 2, stop = 50,\n",
    "# num = 10)]\n",
    "# min_samples_leaf = [int(x) for x in np.linspace(start = 1, stop = 50,\n",
    "# num = 5)]\n",
    "# bootstrap = [True, False]\n",
    "# param_dist = {'n_estimators': n_estimators,\n",
    "# 'max_features': max_features,\n",
    "# 'max_depth': max_depth,\n",
    "# 'min_samples_split': min_samples_split,\n",
    "# 'min_samples_leaf': min_samples_leaf,\n",
    "# 'bootstrap': bootstrap}"
   ]
  },
  {
   "cell_type": "code",
   "execution_count": 29,
   "id": "34cad011",
   "metadata": {},
   "outputs": [],
   "source": [
    "# rfc = RandomForestClassifier()"
   ]
  },
  {
   "cell_type": "code",
   "execution_count": 30,
   "id": "226ec1d8",
   "metadata": {},
   "outputs": [
    {
     "name": "stdout",
     "output_type": "stream",
     "text": [
      "Fitting 3 folds for each of 100 candidates, totalling 300 fits\n"
     ]
    },
    {
     "data": {
      "text/plain": [
       "{'n_estimators': 300,\n",
       " 'min_samples_split': 18,\n",
       " 'min_samples_leaf': 25,\n",
       " 'max_features': 'sqrt',\n",
       " 'max_depth': 3,\n",
       " 'bootstrap': True}"
      ]
     },
     "execution_count": 30,
     "metadata": {},
     "output_type": "execute_result"
    }
   ],
   "source": [
    "# rs = RandomizedSearchCV(rfc,\n",
    "# param_dist,\n",
    "# n_iter = 100,\n",
    "# scoring = 'f1',\n",
    "# cv = 3,\n",
    "# verbose = 1,\n",
    "# n_jobs=-1,\n",
    "# random_state=0)\n",
    "\n",
    "# rs.fit(X_train, y_train)\n",
    "# rs.best_params_"
   ]
  },
  {
   "cell_type": "code",
   "execution_count": 31,
   "id": "3424dbad",
   "metadata": {},
   "outputs": [
    {
     "data": {
      "text/html": [
       "<div>\n",
       "<style scoped>\n",
       "    .dataframe tbody tr th:only-of-type {\n",
       "        vertical-align: middle;\n",
       "    }\n",
       "\n",
       "    .dataframe tbody tr th {\n",
       "        vertical-align: top;\n",
       "    }\n",
       "\n",
       "    .dataframe thead th {\n",
       "        text-align: right;\n",
       "    }\n",
       "</style>\n",
       "<table border=\"1\" class=\"dataframe\">\n",
       "  <thead>\n",
       "    <tr style=\"text-align: right;\">\n",
       "      <th></th>\n",
       "      <th>param_n_estimators</th>\n",
       "      <th>param_min_samples_split</th>\n",
       "      <th>param_min_samples_leaf</th>\n",
       "      <th>param_max_features</th>\n",
       "      <th>param_max_depth</th>\n",
       "      <th>param_bootstrap</th>\n",
       "      <th>mean_test_score</th>\n",
       "      <th>rank_test_score</th>\n",
       "    </tr>\n",
       "  </thead>\n",
       "  <tbody>\n",
       "    <tr>\n",
       "      <th>0</th>\n",
       "      <td>300</td>\n",
       "      <td>18</td>\n",
       "      <td>25</td>\n",
       "      <td>sqrt</td>\n",
       "      <td>3</td>\n",
       "      <td>True</td>\n",
       "      <td>0.954178</td>\n",
       "      <td>1</td>\n",
       "    </tr>\n",
       "    <tr>\n",
       "      <th>1</th>\n",
       "      <td>300</td>\n",
       "      <td>18</td>\n",
       "      <td>37</td>\n",
       "      <td>log2</td>\n",
       "      <td>11</td>\n",
       "      <td>False</td>\n",
       "      <td>0.954178</td>\n",
       "      <td>1</td>\n",
       "    </tr>\n",
       "    <tr>\n",
       "      <th>2</th>\n",
       "      <td>100</td>\n",
       "      <td>34</td>\n",
       "      <td>1</td>\n",
       "      <td>sqrt</td>\n",
       "      <td>4</td>\n",
       "      <td>True</td>\n",
       "      <td>0.954178</td>\n",
       "      <td>1</td>\n",
       "    </tr>\n",
       "    <tr>\n",
       "      <th>3</th>\n",
       "      <td>600</td>\n",
       "      <td>2</td>\n",
       "      <td>13</td>\n",
       "      <td>sqrt</td>\n",
       "      <td>9</td>\n",
       "      <td>False</td>\n",
       "      <td>0.954178</td>\n",
       "      <td>1</td>\n",
       "    </tr>\n",
       "    <tr>\n",
       "      <th>4</th>\n",
       "      <td>300</td>\n",
       "      <td>28</td>\n",
       "      <td>25</td>\n",
       "      <td>sqrt</td>\n",
       "      <td>12</td>\n",
       "      <td>False</td>\n",
       "      <td>0.954178</td>\n",
       "      <td>1</td>\n",
       "    </tr>\n",
       "    <tr>\n",
       "      <th>5</th>\n",
       "      <td>900</td>\n",
       "      <td>34</td>\n",
       "      <td>37</td>\n",
       "      <td>log2</td>\n",
       "      <td>11</td>\n",
       "      <td>True</td>\n",
       "      <td>0.954178</td>\n",
       "      <td>1</td>\n",
       "    </tr>\n",
       "    <tr>\n",
       "      <th>6</th>\n",
       "      <td>900</td>\n",
       "      <td>39</td>\n",
       "      <td>37</td>\n",
       "      <td>log2</td>\n",
       "      <td>11</td>\n",
       "      <td>False</td>\n",
       "      <td>0.954178</td>\n",
       "      <td>1</td>\n",
       "    </tr>\n",
       "    <tr>\n",
       "      <th>7</th>\n",
       "      <td>300</td>\n",
       "      <td>12</td>\n",
       "      <td>13</td>\n",
       "      <td>log2</td>\n",
       "      <td>12</td>\n",
       "      <td>True</td>\n",
       "      <td>0.954178</td>\n",
       "      <td>1</td>\n",
       "    </tr>\n",
       "    <tr>\n",
       "      <th>8</th>\n",
       "      <td>400</td>\n",
       "      <td>12</td>\n",
       "      <td>25</td>\n",
       "      <td>sqrt</td>\n",
       "      <td>12</td>\n",
       "      <td>True</td>\n",
       "      <td>0.954178</td>\n",
       "      <td>1</td>\n",
       "    </tr>\n",
       "    <tr>\n",
       "      <th>9</th>\n",
       "      <td>600</td>\n",
       "      <td>23</td>\n",
       "      <td>50</td>\n",
       "      <td>sqrt</td>\n",
       "      <td>14</td>\n",
       "      <td>False</td>\n",
       "      <td>0.954178</td>\n",
       "      <td>1</td>\n",
       "    </tr>\n",
       "  </tbody>\n",
       "</table>\n",
       "</div>"
      ],
      "text/plain": [
       "  param_n_estimators param_min_samples_split param_min_samples_leaf  \\\n",
       "0                300                      18                     25   \n",
       "1                300                      18                     37   \n",
       "2                100                      34                      1   \n",
       "3                600                       2                     13   \n",
       "4                300                      28                     25   \n",
       "5                900                      34                     37   \n",
       "6                900                      39                     37   \n",
       "7                300                      12                     13   \n",
       "8                400                      12                     25   \n",
       "9                600                      23                     50   \n",
       "\n",
       "  param_max_features param_max_depth param_bootstrap  mean_test_score  \\\n",
       "0               sqrt               3            True         0.954178   \n",
       "1               log2              11           False         0.954178   \n",
       "2               sqrt               4            True         0.954178   \n",
       "3               sqrt               9           False         0.954178   \n",
       "4               sqrt              12           False         0.954178   \n",
       "5               log2              11            True         0.954178   \n",
       "6               log2              11           False         0.954178   \n",
       "7               log2              12            True         0.954178   \n",
       "8               sqrt              12            True         0.954178   \n",
       "9               sqrt              14           False         0.954178   \n",
       "\n",
       "   rank_test_score  \n",
       "0                1  \n",
       "1                1  \n",
       "2                1  \n",
       "3                1  \n",
       "4                1  \n",
       "5                1  \n",
       "6                1  \n",
       "7                1  \n",
       "8                1  \n",
       "9                1  "
      ]
     },
     "execution_count": 31,
     "metadata": {},
     "output_type": "execute_result"
    }
   ],
   "source": [
    "# rs_df = pd.DataFrame(rs.cv_results_).sort_values('rank_test_score').reset_index(drop=True)\n",
    "# rs_df = rs_df.drop([\n",
    "# 'mean_fit_time',\n",
    "# 'std_fit_time',\n",
    "# 'mean_score_time',\n",
    "# 'std_score_time',\n",
    "# 'params',\n",
    "# 'split0_test_score',\n",
    "# 'split1_test_score',\n",
    "# 'split2_test_score',\n",
    "# 'std_test_score'],\n",
    "# axis=1)\n",
    "\n",
    "# rs_df.head(10)"
   ]
  },
  {
   "cell_type": "code",
   "execution_count": 32,
   "id": "1e5325c5",
   "metadata": {},
   "outputs": [
    {
     "name": "stdout",
     "output_type": "stream",
     "text": [
      "Fitting 3 folds for each of 768 candidates, totalling 2304 fits\n"
     ]
    },
    {
     "data": {
      "text/plain": [
       "{'bootstrap': True,\n",
       " 'max_depth': 3,\n",
       " 'max_features': 'sqrt',\n",
       " 'min_samples_leaf': 1,\n",
       " 'min_samples_split': 28,\n",
       " 'n_estimators': 600}"
      ]
     },
     "execution_count": 32,
     "metadata": {},
     "output_type": "execute_result"
    }
   ],
   "source": [
    "# from sklearn.model_selection import GridSearchCV\n",
    "# n_estimators = [100,300,600]\n",
    "# max_features = ['sqrt','log2']\n",
    "# max_depth = [3,4,9,11]\n",
    "# min_samples_split = [2,18,28,34]\n",
    "# min_samples_leaf = [1,25,37,13]\n",
    "# bootstrap = [True,False]\n",
    "\n",
    "# param_grid = {'n_estimators': n_estimators,\n",
    "# 'max_features': max_features,\n",
    "# 'max_depth': max_depth,\n",
    "# 'min_samples_split': min_samples_split,\n",
    "# 'min_samples_leaf': min_samples_leaf,\n",
    "# 'bootstrap': bootstrap}\n",
    "\n",
    "# gs = GridSearchCV(rfc, param_grid, cv = 3, verbose = 1, n_jobs=-1)\n",
    "# gs.fit(X_train, y_train)\n",
    "# rfc_2 = gs.best_estimator_\n",
    "# gs.best_params_"
   ]
  },
  {
   "cell_type": "code",
   "execution_count": 33,
   "id": "77d465f2",
   "metadata": {},
   "outputs": [],
   "source": [
    "# y_pred_gs = rfc_2.predict(X_test)"
   ]
  },
  {
   "cell_type": "markdown",
   "id": "1e4597a9",
   "metadata": {},
   "source": [
    "## Plot confusion matrix and get all model metrics"
   ]
  },
  {
   "cell_type": "code",
   "execution_count": 34,
   "id": "f5ebdd22",
   "metadata": {},
   "outputs": [
    {
     "name": "stdout",
     "output_type": "stream",
     "text": [
      "[[52 10]\n",
      " [ 0 63]]\n",
      "              precision    recall  f1-score   support\n",
      "\n",
      "           0       1.00      0.84      0.91        62\n",
      "           1       0.86      1.00      0.93        63\n",
      "\n",
      "    accuracy                           0.92       125\n",
      "   macro avg       0.93      0.92      0.92       125\n",
      "weighted avg       0.93      0.92      0.92       125\n",
      "\n"
     ]
    },
    {
     "data": {
      "image/png": "[encoded data removed]",
      "text/plain": [
       "<Figure size 640x480 with 2 Axes>"
      ]
     },
     "metadata": {},
     "output_type": "display_data"
    }
   ],
   "source": [
    "# from sklearn.metrics import confusion_matrix                            \n",
    "\n",
    "\n",
    "\n",
    "# cf_matrix = confusion_matrix(y_test, y_pred_gs)\n",
    "# print(cf_matrix)\n",
    "\n",
    "# sns.set(font_scale=1)\n",
    "# sns.heatmap(cf_matrix, annot=True,\n",
    "#            vmin=0, vmax=63, center= 0,\n",
    "#            cmap= 'coolwarm', linewidths=2, linecolor='black',\n",
    "#            xticklabels=['low','high'],\n",
    "#            yticklabels=['low','high']).set(title='Predicted vs. True GDM Incidence, PlanetScope 2020 (SB+VI)');\n",
    "\n",
    "# plt.ylabel('True')\n",
    "# plt.xlabel('Predicted')\n",
    "# plt.tight_layout()\n",
    "\n",
    "# plt.savefig('/Users/kathleenkanaley/Desktop/figs_phytopath_rev/corr_matrices_RF/PScope/SB+VI/Inc_2020.jpg')\n",
    "# report = classification_report(y_test, y_pred_gs)\n",
    "\n",
    "# print(report)\n",
    "# # conf_matrix_tuned = pd.DataFrame(confusion_matrix(y_test, y_pred_gs),\n",
    "# #         index = [np.unique(y_pred)[0],np.unique(y_pred)[1]], columns = [np.unique(y_pred)[0],np.unique(y_pred)[1]])\n",
    "                                                         \n",
    "# # display(conf_matrix_tuned)\n",
    "# # display('Hyperparameter Tuned Random Forest accuracy score', accuracy_score(y_test, y_pred_gs))"
   ]
  },
  {
   "cell_type": "code",
   "execution_count": 83,
   "id": "a136cf1a",
   "metadata": {},
   "outputs": [
    {
     "data": {
      "text/plain": [
       "{0: 28, 1: 43}"
      ]
     },
     "execution_count": 83,
     "metadata": {},
     "output_type": "execute_result"
    }
   ],
   "source": [
    "# # Make sure axes are properly labeled\n",
    "# unique, counts = np.unique(y_pred_gs, return_counts=True)\n",
    "\n",
    "# dict(zip(unique, counts))"
   ]
  },
  {
   "cell_type": "markdown",
   "id": "6d70ac71",
   "metadata": {},
   "source": [
    "## Permutation importance plots"
   ]
  },
  {
   "cell_type": "code",
   "execution_count": 84,
   "id": "2b537187",
   "metadata": {},
   "outputs": [],
   "source": [
    "# Get permutation feature imp. scores\n",
    "# https://scikit-learn.org/stable/auto_examples/inspection/plot_permutation_importance.html#sphx-glr-auto-examples-inspection-plot-permutation-importance-py"
   ]
  },
  {
   "cell_type": "code",
   "execution_count": 35,
   "id": "19eccb8b",
   "metadata": {},
   "outputs": [
    {
     "data": {
      "image/png": "[encoded data removed]",
      "text/plain": [
       "<Figure size 640x480 with 1 Axes>"
      ]
     },
     "metadata": {},
     "output_type": "display_data"
    }
   ],
   "source": [
    "# from sklearn.inspection import permutation_importance\n",
    "\n",
    "# result = permutation_importance(\n",
    "#     rfc_2, X_test, y_test, n_repeats=10, random_state=16, n_jobs=2\n",
    "# )\n",
    "\n",
    "# sorted_importances_idx = result.importances_mean.argsort()\n",
    "\n",
    "# importances = pd.DataFrame(\n",
    "#     result.importances[sorted_importances_idx].T,\n",
    "#     columns=data_2020[ast.literal_eval(combo_20)].columns[sorted_importances_idx],\n",
    "# )\n",
    "# ax = importances.plot.box(vert=False, whis=10)\n",
    "# ax.set_title(\"Permutation Importances (test set)\",fontname=\"Arial\", fontsize=16)\n",
    "# #ax.axvline(x=0, color=\"k\", linestyle=\"--\")\n",
    "# ax.set_xlabel(\"Decrease in accuracy score\",fontname=\"Arial\", fontsize = 16)\n",
    "# ax.set_ylabel(\"Features\",fontname=\"Arial\", fontsize = 16)\n",
    "\n",
    "# ax.figure.tight_layout()\n",
    "# plt.savefig('/Users/kathleenkanaley/Desktop/figs_phytopath_rev/permimp_RF/PScope/SB+VI/permimp_inc20.jpg')"
   ]
  },
  {
   "cell_type": "markdown",
   "id": "676c1996",
   "metadata": {},
   "source": [
    "## 2021"
   ]
  },
  {
   "cell_type": "code",
   "execution_count": 36,
   "id": "afc42202",
   "metadata": {},
   "outputs": [],
   "source": [
    "# X_train, y_train, X_test, y_test = bal_split_norm(data_2021,\n",
    "#                                                   ast.literal_eval(combo_21),\n",
    "#                                                  inc,\n",
    "#                                                  2020,\n",
    "#                                                  14)"
   ]
  },
  {
   "cell_type": "code",
   "execution_count": 37,
   "id": "15d2425c",
   "metadata": {},
   "outputs": [],
   "source": [
    "# # Create dictionary of parameters to test with randomizedCV\n",
    "\n",
    "# from sklearn.model_selection import RandomizedSearchCV\n",
    "\n",
    "# n_estimators = [int(x) for x in np.linspace(start = 100, stop = 1000,\n",
    "# num = 10)]\n",
    "# max_features = ['log2', 'sqrt']\n",
    "# max_depth = [int(x) for x in np.linspace(start = 1, stop = 15, num =\n",
    "# 15)]\n",
    "# min_samples_split = [int(x) for x in np.linspace(start = 2, stop = 50,\n",
    "# num = 10)]\n",
    "# min_samples_leaf = [int(x) for x in np.linspace(start = 1, stop = 50,\n",
    "# num = 5)]\n",
    "# bootstrap = [True, False]\n",
    "# param_dist = {'n_estimators': n_estimators,\n",
    "# 'max_features': max_features,\n",
    "# 'max_depth': max_depth,\n",
    "# 'min_samples_split': min_samples_split,\n",
    "# 'min_samples_leaf': min_samples_leaf,\n",
    "# 'bootstrap': bootstrap}"
   ]
  },
  {
   "cell_type": "code",
   "execution_count": 38,
   "id": "94f29df7",
   "metadata": {},
   "outputs": [
    {
     "name": "stdout",
     "output_type": "stream",
     "text": [
      "Fitting 3 folds for each of 100 candidates, totalling 300 fits\n"
     ]
    },
    {
     "data": {
      "text/plain": [
       "{'n_estimators': 700,\n",
       " 'min_samples_split': 28,\n",
       " 'min_samples_leaf': 1,\n",
       " 'max_features': 'sqrt',\n",
       " 'max_depth': 8,\n",
       " 'bootstrap': False}"
      ]
     },
     "execution_count": 38,
     "metadata": {},
     "output_type": "execute_result"
    }
   ],
   "source": [
    "# rfc = RandomForestClassifier()\n",
    "# rs = RandomizedSearchCV(rfc,\n",
    "# param_dist,\n",
    "# n_iter = 100,\n",
    "# scoring = 'f1',\n",
    "# cv = 3,\n",
    "# verbose = 1,\n",
    "# n_jobs=-1,\n",
    "# random_state=0)\n",
    "\n",
    "# rs.fit(X_train, y_train)\n",
    "# rs.best_params_"
   ]
  },
  {
   "cell_type": "code",
   "execution_count": 39,
   "id": "d24688c3",
   "metadata": {},
   "outputs": [
    {
     "data": {
      "text/html": [
       "<div>\n",
       "<style scoped>\n",
       "    .dataframe tbody tr th:only-of-type {\n",
       "        vertical-align: middle;\n",
       "    }\n",
       "\n",
       "    .dataframe tbody tr th {\n",
       "        vertical-align: top;\n",
       "    }\n",
       "\n",
       "    .dataframe thead th {\n",
       "        text-align: right;\n",
       "    }\n",
       "</style>\n",
       "<table border=\"1\" class=\"dataframe\">\n",
       "  <thead>\n",
       "    <tr style=\"text-align: right;\">\n",
       "      <th></th>\n",
       "      <th>param_n_estimators</th>\n",
       "      <th>param_min_samples_split</th>\n",
       "      <th>param_min_samples_leaf</th>\n",
       "      <th>param_max_features</th>\n",
       "      <th>param_max_depth</th>\n",
       "      <th>param_bootstrap</th>\n",
       "      <th>mean_test_score</th>\n",
       "      <th>rank_test_score</th>\n",
       "    </tr>\n",
       "  </thead>\n",
       "  <tbody>\n",
       "    <tr>\n",
       "      <th>0</th>\n",
       "      <td>700</td>\n",
       "      <td>28</td>\n",
       "      <td>1</td>\n",
       "      <td>sqrt</td>\n",
       "      <td>8</td>\n",
       "      <td>False</td>\n",
       "      <td>0.908469</td>\n",
       "      <td>1</td>\n",
       "    </tr>\n",
       "    <tr>\n",
       "      <th>1</th>\n",
       "      <td>300</td>\n",
       "      <td>12</td>\n",
       "      <td>1</td>\n",
       "      <td>log2</td>\n",
       "      <td>13</td>\n",
       "      <td>False</td>\n",
       "      <td>0.908139</td>\n",
       "      <td>2</td>\n",
       "    </tr>\n",
       "    <tr>\n",
       "      <th>2</th>\n",
       "      <td>300</td>\n",
       "      <td>18</td>\n",
       "      <td>1</td>\n",
       "      <td>sqrt</td>\n",
       "      <td>12</td>\n",
       "      <td>False</td>\n",
       "      <td>0.907826</td>\n",
       "      <td>3</td>\n",
       "    </tr>\n",
       "    <tr>\n",
       "      <th>3</th>\n",
       "      <td>700</td>\n",
       "      <td>2</td>\n",
       "      <td>1</td>\n",
       "      <td>log2</td>\n",
       "      <td>6</td>\n",
       "      <td>False</td>\n",
       "      <td>0.907348</td>\n",
       "      <td>4</td>\n",
       "    </tr>\n",
       "    <tr>\n",
       "      <th>4</th>\n",
       "      <td>400</td>\n",
       "      <td>23</td>\n",
       "      <td>1</td>\n",
       "      <td>log2</td>\n",
       "      <td>5</td>\n",
       "      <td>False</td>\n",
       "      <td>0.907178</td>\n",
       "      <td>5</td>\n",
       "    </tr>\n",
       "    <tr>\n",
       "      <th>5</th>\n",
       "      <td>200</td>\n",
       "      <td>12</td>\n",
       "      <td>1</td>\n",
       "      <td>log2</td>\n",
       "      <td>7</td>\n",
       "      <td>True</td>\n",
       "      <td>0.905773</td>\n",
       "      <td>6</td>\n",
       "    </tr>\n",
       "    <tr>\n",
       "      <th>6</th>\n",
       "      <td>700</td>\n",
       "      <td>18</td>\n",
       "      <td>1</td>\n",
       "      <td>log2</td>\n",
       "      <td>7</td>\n",
       "      <td>True</td>\n",
       "      <td>0.905008</td>\n",
       "      <td>7</td>\n",
       "    </tr>\n",
       "    <tr>\n",
       "      <th>7</th>\n",
       "      <td>100</td>\n",
       "      <td>50</td>\n",
       "      <td>13</td>\n",
       "      <td>sqrt</td>\n",
       "      <td>13</td>\n",
       "      <td>False</td>\n",
       "      <td>0.904864</td>\n",
       "      <td>8</td>\n",
       "    </tr>\n",
       "    <tr>\n",
       "      <th>8</th>\n",
       "      <td>200</td>\n",
       "      <td>39</td>\n",
       "      <td>1</td>\n",
       "      <td>log2</td>\n",
       "      <td>9</td>\n",
       "      <td>False</td>\n",
       "      <td>0.904815</td>\n",
       "      <td>9</td>\n",
       "    </tr>\n",
       "    <tr>\n",
       "      <th>9</th>\n",
       "      <td>900</td>\n",
       "      <td>23</td>\n",
       "      <td>13</td>\n",
       "      <td>sqrt</td>\n",
       "      <td>5</td>\n",
       "      <td>False</td>\n",
       "      <td>0.904447</td>\n",
       "      <td>10</td>\n",
       "    </tr>\n",
       "  </tbody>\n",
       "</table>\n",
       "</div>"
      ],
      "text/plain": [
       "  param_n_estimators param_min_samples_split param_min_samples_leaf  \\\n",
       "0                700                      28                      1   \n",
       "1                300                      12                      1   \n",
       "2                300                      18                      1   \n",
       "3                700                       2                      1   \n",
       "4                400                      23                      1   \n",
       "5                200                      12                      1   \n",
       "6                700                      18                      1   \n",
       "7                100                      50                     13   \n",
       "8                200                      39                      1   \n",
       "9                900                      23                     13   \n",
       "\n",
       "  param_max_features param_max_depth param_bootstrap  mean_test_score  \\\n",
       "0               sqrt               8           False         0.908469   \n",
       "1               log2              13           False         0.908139   \n",
       "2               sqrt              12           False         0.907826   \n",
       "3               log2               6           False         0.907348   \n",
       "4               log2               5           False         0.907178   \n",
       "5               log2               7            True         0.905773   \n",
       "6               log2               7            True         0.905008   \n",
       "7               sqrt              13           False         0.904864   \n",
       "8               log2               9           False         0.904815   \n",
       "9               sqrt               5           False         0.904447   \n",
       "\n",
       "   rank_test_score  \n",
       "0                1  \n",
       "1                2  \n",
       "2                3  \n",
       "3                4  \n",
       "4                5  \n",
       "5                6  \n",
       "6                7  \n",
       "7                8  \n",
       "8                9  \n",
       "9               10  "
      ]
     },
     "execution_count": 39,
     "metadata": {},
     "output_type": "execute_result"
    }
   ],
   "source": [
    "# rs_df = pd.DataFrame(rs.cv_results_).sort_values('rank_test_score').reset_index(drop=True)\n",
    "# rs_df = rs_df.drop([\n",
    "# 'mean_fit_time',\n",
    "# 'std_fit_time',\n",
    "# 'mean_score_time',\n",
    "# 'std_score_time',\n",
    "# 'params',\n",
    "# 'split0_test_score',\n",
    "# 'split1_test_score',\n",
    "# 'split2_test_score',\n",
    "# 'std_test_score'],\n",
    "# axis=1)\n",
    "\n",
    "# rs_df.head(10)"
   ]
  },
  {
   "cell_type": "code",
   "execution_count": 40,
   "id": "e108d541",
   "metadata": {},
   "outputs": [
    {
     "name": "stdout",
     "output_type": "stream",
     "text": [
      "Fitting 3 folds for each of 192 candidates, totalling 576 fits\n"
     ]
    },
    {
     "data": {
      "text/plain": [
       "{'bootstrap': True,\n",
       " 'max_depth': 12,\n",
       " 'max_features': 'sqrt',\n",
       " 'min_samples_leaf': 1,\n",
       " 'min_samples_split': 2,\n",
       " 'n_estimators': 700}"
      ]
     },
     "execution_count": 40,
     "metadata": {},
     "output_type": "execute_result"
    }
   ],
   "source": [
    "# from sklearn.model_selection import GridSearchCV\n",
    "# n_estimators = [100,300,700]\n",
    "# max_features = ['sqrt','log2']\n",
    "# max_depth = [6,8,12,13]\n",
    "# min_samples_split = [2,12,18,28]\n",
    "# min_samples_leaf = [1]\n",
    "# bootstrap = [True,False]\n",
    "\n",
    "# param_grid = {'n_estimators': n_estimators,\n",
    "# 'max_features': max_features,\n",
    "# 'max_depth': max_depth,\n",
    "# 'min_samples_split': min_samples_split,\n",
    "# 'min_samples_leaf': min_samples_leaf,\n",
    "# 'bootstrap': bootstrap}\n",
    "\n",
    "# gs = GridSearchCV(rfc, param_grid, cv = 3, verbose = 1, n_jobs=-1)\n",
    "# gs.fit(X_train, y_train)\n",
    "# rfc_2 = gs.best_estimator_\n",
    "# gs.best_params_"
   ]
  },
  {
   "cell_type": "code",
   "execution_count": 41,
   "id": "553aa3d0",
   "metadata": {},
   "outputs": [],
   "source": [
    "# y_pred_gs = rfc_2.predict(X_test)"
   ]
  },
  {
   "cell_type": "code",
   "execution_count": 42,
   "id": "1c1f725b",
   "metadata": {},
   "outputs": [
    {
     "name": "stdout",
     "output_type": "stream",
     "text": [
      "[[240  18]\n",
      " [ 29 229]]\n",
      "              precision    recall  f1-score   support\n",
      "\n",
      "           0       0.89      0.93      0.91       258\n",
      "           1       0.93      0.89      0.91       258\n",
      "\n",
      "    accuracy                           0.91       516\n",
      "   macro avg       0.91      0.91      0.91       516\n",
      "weighted avg       0.91      0.91      0.91       516\n",
      "\n"
     ]
    },
    {
     "data": {
      "image/png": "[encoded data removed]",
      "text/plain": [
       "<Figure size 640x480 with 2 Axes>"
      ]
     },
     "metadata": {},
     "output_type": "display_data"
    }
   ],
   "source": [
    "# from sklearn.metrics import confusion_matrix                            \n",
    "\n",
    "\n",
    "# cf_matrix = confusion_matrix(y_test, y_pred_gs)\n",
    "# print(cf_matrix)\n",
    "\n",
    "# sns.set(font_scale=1)\n",
    "# sns.heatmap(cf_matrix, annot=True, fmt='.3g',\n",
    "#            vmin=0, vmax=258, center= 0,\n",
    "#            cmap= 'coolwarm', linewidths=2, linecolor='black',\n",
    "#            xticklabels=['low','high'],\n",
    "#            yticklabels=['low','high']).set(title='Predicted vs. True GDM incidence, PlanetScope 2021 (SB+VI)');\n",
    "\n",
    "# plt.ylabel('True')\n",
    "# plt.xlabel('Predicted')\n",
    "# plt.tight_layout()\n",
    "\n",
    "# plt.savefig('/Users/kathleenkanaley/Desktop/figs_phytopath_rev/corr_matrices_RF/PScope/SB+VI/Inc_2021.jpg')\n",
    "# report = classification_report(y_test, y_pred_gs)\n",
    "\n",
    "# print(report)\n",
    "# # conf_matrix_tuned = pd.DataFrame(confusion_matrix(y_test, y_pred_gs),\n",
    "# #         index = [np.unique(y_pred)[0],np.unique(y_pred)[1]], columns = [np.unique(y_pred)[0],np.unique(y_pred)[1]])\n",
    "                                                         \n",
    "# # display(conf_matrix_tuned)\n",
    "# # display('Hyperparameter Tuned Random Forest accuracy score', accuracy_score(y_test, y_pred_gs))"
   ]
  },
  {
   "cell_type": "code",
   "execution_count": 43,
   "id": "8542b145",
   "metadata": {},
   "outputs": [
    {
     "data": {
      "image/png": "[encoded data removed]",
      "text/plain": [
       "<Figure size 640x480 with 1 Axes>"
      ]
     },
     "metadata": {},
     "output_type": "display_data"
    }
   ],
   "source": [
    "# from sklearn.inspection import permutation_importance\n",
    "\n",
    "# result = permutation_importance(\n",
    "#     rfc_2, X_test, y_test, n_repeats=10, random_state=16, n_jobs=2\n",
    "# )\n",
    "\n",
    "# sorted_importances_idx = result.importances_mean.argsort()\n",
    "\n",
    "# importances = pd.DataFrame(\n",
    "#     result.importances[sorted_importances_idx].T,\n",
    "#     columns=data_2021[ast.literal_eval(combo_21)].columns[sorted_importances_idx],\n",
    "# )\n",
    "# ax = importances.plot.box(vert=False, whis=10)\n",
    "# ax.set_title(\"Permutation Importances (test set)\",fontname=\"Arial\", fontsize=16)\n",
    "# #ax.axvline(x=0, color=\"k\", linestyle=\"--\")\n",
    "# ax.set_xlabel(\"Decrease in accuracy score\",fontname=\"Arial\", fontsize = 16)\n",
    "# ax.set_ylabel(\"Features\",fontname=\"Arial\", fontsize = 16)\n",
    "\n",
    "# ax.figure.tight_layout()\n",
    "# plt.savefig('/Users/kathleenkanaley/Desktop/figs_phytopath_rev/permimp_RF/PScope/SB+VI/permimp_inc21.jpg')"
   ]
  },
  {
   "cell_type": "markdown",
   "id": "b997ec2c",
   "metadata": {},
   "source": [
    "## 2022"
   ]
  },
  {
   "cell_type": "code",
   "execution_count": 44,
   "id": "960f79fc",
   "metadata": {},
   "outputs": [],
   "source": [
    "# X_train, y_train, X_test, y_test = bal_split_norm(data_2022,\n",
    "#                                                   ast.literal_eval(combo_22), #convert string to list\n",
    "#                                                  inc,\n",
    "#                                                  2020,\n",
    "#                                                  14)"
   ]
  },
  {
   "cell_type": "code",
   "execution_count": 45,
   "id": "13e25f32",
   "metadata": {},
   "outputs": [],
   "source": [
    "# # Create dictionary of parameters to test with randomizedCV\n",
    "\n",
    "# from sklearn.model_selection import RandomizedSearchCV\n",
    "\n",
    "# n_estimators = [int(x) for x in np.linspace(start = 100, stop = 1000,\n",
    "# num = 10)]\n",
    "# max_features = ['log2', 'sqrt']\n",
    "# max_depth = [int(x) for x in np.linspace(start = 1, stop = 15, num =\n",
    "# 15)]\n",
    "# min_samples_split = [int(x) for x in np.linspace(start = 2, stop = 50,\n",
    "# num = 10)]\n",
    "# min_samples_leaf = [int(x) for x in np.linspace(start = 1, stop = 50,\n",
    "# num = 5)]\n",
    "# bootstrap = [True, False]\n",
    "# param_dist = {'n_estimators': n_estimators,\n",
    "# 'max_features': max_features,\n",
    "# 'max_depth': max_depth,\n",
    "# 'min_samples_split': min_samples_split,\n",
    "# 'min_samples_leaf': min_samples_leaf,\n",
    "# 'bootstrap': bootstrap}"
   ]
  },
  {
   "cell_type": "code",
   "execution_count": 46,
   "id": "750e394e",
   "metadata": {},
   "outputs": [
    {
     "name": "stdout",
     "output_type": "stream",
     "text": [
      "Fitting 3 folds for each of 100 candidates, totalling 300 fits\n"
     ]
    },
    {
     "data": {
      "text/plain": [
       "{'n_estimators': 700,\n",
       " 'min_samples_split': 18,\n",
       " 'min_samples_leaf': 1,\n",
       " 'max_features': 'log2',\n",
       " 'max_depth': 7,\n",
       " 'bootstrap': True}"
      ]
     },
     "execution_count": 46,
     "metadata": {},
     "output_type": "execute_result"
    }
   ],
   "source": [
    "# rfc = RandomForestClassifier()\n",
    "# rs = RandomizedSearchCV(rfc,\n",
    "# param_dist,\n",
    "# n_iter = 100,\n",
    "# scoring = 'f1',\n",
    "# cv = 3,\n",
    "# verbose = 1,\n",
    "# n_jobs=-1,\n",
    "# random_state=0)\n",
    "\n",
    "# rs.fit(X_train, y_train)\n",
    "# rs.best_params_"
   ]
  },
  {
   "cell_type": "code",
   "execution_count": 47,
   "id": "ed3855f7",
   "metadata": {},
   "outputs": [
    {
     "data": {
      "text/html": [
       "<div>\n",
       "<style scoped>\n",
       "    .dataframe tbody tr th:only-of-type {\n",
       "        vertical-align: middle;\n",
       "    }\n",
       "\n",
       "    .dataframe tbody tr th {\n",
       "        vertical-align: top;\n",
       "    }\n",
       "\n",
       "    .dataframe thead th {\n",
       "        text-align: right;\n",
       "    }\n",
       "</style>\n",
       "<table border=\"1\" class=\"dataframe\">\n",
       "  <thead>\n",
       "    <tr style=\"text-align: right;\">\n",
       "      <th></th>\n",
       "      <th>param_n_estimators</th>\n",
       "      <th>param_min_samples_split</th>\n",
       "      <th>param_min_samples_leaf</th>\n",
       "      <th>param_max_features</th>\n",
       "      <th>param_max_depth</th>\n",
       "      <th>param_bootstrap</th>\n",
       "      <th>mean_test_score</th>\n",
       "      <th>rank_test_score</th>\n",
       "    </tr>\n",
       "  </thead>\n",
       "  <tbody>\n",
       "    <tr>\n",
       "      <th>0</th>\n",
       "      <td>700</td>\n",
       "      <td>18</td>\n",
       "      <td>1</td>\n",
       "      <td>log2</td>\n",
       "      <td>7</td>\n",
       "      <td>True</td>\n",
       "      <td>0.804477</td>\n",
       "      <td>1</td>\n",
       "    </tr>\n",
       "    <tr>\n",
       "      <th>1</th>\n",
       "      <td>200</td>\n",
       "      <td>12</td>\n",
       "      <td>1</td>\n",
       "      <td>log2</td>\n",
       "      <td>7</td>\n",
       "      <td>True</td>\n",
       "      <td>0.797163</td>\n",
       "      <td>2</td>\n",
       "    </tr>\n",
       "    <tr>\n",
       "      <th>2</th>\n",
       "      <td>300</td>\n",
       "      <td>12</td>\n",
       "      <td>1</td>\n",
       "      <td>log2</td>\n",
       "      <td>13</td>\n",
       "      <td>False</td>\n",
       "      <td>0.797083</td>\n",
       "      <td>3</td>\n",
       "    </tr>\n",
       "    <tr>\n",
       "      <th>3</th>\n",
       "      <td>400</td>\n",
       "      <td>23</td>\n",
       "      <td>1</td>\n",
       "      <td>log2</td>\n",
       "      <td>5</td>\n",
       "      <td>False</td>\n",
       "      <td>0.796249</td>\n",
       "      <td>4</td>\n",
       "    </tr>\n",
       "    <tr>\n",
       "      <th>4</th>\n",
       "      <td>200</td>\n",
       "      <td>39</td>\n",
       "      <td>1</td>\n",
       "      <td>sqrt</td>\n",
       "      <td>6</td>\n",
       "      <td>False</td>\n",
       "      <td>0.795944</td>\n",
       "      <td>5</td>\n",
       "    </tr>\n",
       "    <tr>\n",
       "      <th>5</th>\n",
       "      <td>700</td>\n",
       "      <td>2</td>\n",
       "      <td>1</td>\n",
       "      <td>log2</td>\n",
       "      <td>6</td>\n",
       "      <td>False</td>\n",
       "      <td>0.794269</td>\n",
       "      <td>6</td>\n",
       "    </tr>\n",
       "    <tr>\n",
       "      <th>6</th>\n",
       "      <td>300</td>\n",
       "      <td>18</td>\n",
       "      <td>1</td>\n",
       "      <td>sqrt</td>\n",
       "      <td>12</td>\n",
       "      <td>False</td>\n",
       "      <td>0.793854</td>\n",
       "      <td>7</td>\n",
       "    </tr>\n",
       "    <tr>\n",
       "      <th>7</th>\n",
       "      <td>700</td>\n",
       "      <td>28</td>\n",
       "      <td>1</td>\n",
       "      <td>sqrt</td>\n",
       "      <td>8</td>\n",
       "      <td>False</td>\n",
       "      <td>0.788467</td>\n",
       "      <td>8</td>\n",
       "    </tr>\n",
       "    <tr>\n",
       "      <th>8</th>\n",
       "      <td>600</td>\n",
       "      <td>12</td>\n",
       "      <td>1</td>\n",
       "      <td>log2</td>\n",
       "      <td>4</td>\n",
       "      <td>False</td>\n",
       "      <td>0.788169</td>\n",
       "      <td>9</td>\n",
       "    </tr>\n",
       "    <tr>\n",
       "      <th>9</th>\n",
       "      <td>800</td>\n",
       "      <td>23</td>\n",
       "      <td>13</td>\n",
       "      <td>sqrt</td>\n",
       "      <td>14</td>\n",
       "      <td>False</td>\n",
       "      <td>0.785207</td>\n",
       "      <td>10</td>\n",
       "    </tr>\n",
       "  </tbody>\n",
       "</table>\n",
       "</div>"
      ],
      "text/plain": [
       "  param_n_estimators param_min_samples_split param_min_samples_leaf  \\\n",
       "0                700                      18                      1   \n",
       "1                200                      12                      1   \n",
       "2                300                      12                      1   \n",
       "3                400                      23                      1   \n",
       "4                200                      39                      1   \n",
       "5                700                       2                      1   \n",
       "6                300                      18                      1   \n",
       "7                700                      28                      1   \n",
       "8                600                      12                      1   \n",
       "9                800                      23                     13   \n",
       "\n",
       "  param_max_features param_max_depth param_bootstrap  mean_test_score  \\\n",
       "0               log2               7            True         0.804477   \n",
       "1               log2               7            True         0.797163   \n",
       "2               log2              13           False         0.797083   \n",
       "3               log2               5           False         0.796249   \n",
       "4               sqrt               6           False         0.795944   \n",
       "5               log2               6           False         0.794269   \n",
       "6               sqrt              12           False         0.793854   \n",
       "7               sqrt               8           False         0.788467   \n",
       "8               log2               4           False         0.788169   \n",
       "9               sqrt              14           False         0.785207   \n",
       "\n",
       "   rank_test_score  \n",
       "0                1  \n",
       "1                2  \n",
       "2                3  \n",
       "3                4  \n",
       "4                5  \n",
       "5                6  \n",
       "6                7  \n",
       "7                8  \n",
       "8                9  \n",
       "9               10  "
      ]
     },
     "execution_count": 47,
     "metadata": {},
     "output_type": "execute_result"
    }
   ],
   "source": [
    "# rs_df = pd.DataFrame(rs.cv_results_).sort_values('rank_test_score').reset_index(drop=True)\n",
    "# rs_df = rs_df.drop([\n",
    "# 'mean_fit_time',\n",
    "# 'std_fit_time',\n",
    "# 'mean_score_time',\n",
    "# 'std_score_time',\n",
    "# 'params',\n",
    "# 'split0_test_score',\n",
    "# 'split1_test_score',\n",
    "# 'split2_test_score',\n",
    "# 'std_test_score'],\n",
    "# axis=1)\n",
    "\n",
    "# rs_df.head(10)"
   ]
  },
  {
   "cell_type": "code",
   "execution_count": 48,
   "id": "ed6abc8e",
   "metadata": {},
   "outputs": [
    {
     "name": "stdout",
     "output_type": "stream",
     "text": [
      "Fitting 3 folds for each of 400 candidates, totalling 1200 fits\n"
     ]
    },
    {
     "data": {
      "text/plain": [
       "{'bootstrap': True,\n",
       " 'max_depth': 13,\n",
       " 'max_features': 'sqrt',\n",
       " 'min_samples_leaf': 1,\n",
       " 'min_samples_split': 2,\n",
       " 'n_estimators': 200}"
      ]
     },
     "execution_count": 48,
     "metadata": {},
     "output_type": "execute_result"
    }
   ],
   "source": [
    "# from sklearn.model_selection import GridSearchCV\n",
    "# n_estimators = [100, 200,300,400,700]\n",
    "# max_features = ['sqrt','log2']\n",
    "# max_depth = [3,5,6,7,13]\n",
    "# min_samples_split = [2,12,18,23]\n",
    "# min_samples_leaf = [1]\n",
    "# bootstrap = [True,False]\n",
    "\n",
    "# param_grid = {'n_estimators': n_estimators,\n",
    "# 'max_features': max_features,\n",
    "# 'max_depth': max_depth,\n",
    "# 'min_samples_split': min_samples_split,\n",
    "# 'min_samples_leaf': min_samples_leaf,\n",
    "# 'bootstrap': bootstrap}\n",
    "\n",
    "# gs = GridSearchCV(rfc, param_grid, cv = 3, verbose = 1, n_jobs=-1)\n",
    "# gs.fit(X_train, y_train)\n",
    "# rfc_2 = gs.best_estimator_\n",
    "# gs.best_params_"
   ]
  },
  {
   "cell_type": "code",
   "execution_count": 49,
   "id": "09754765",
   "metadata": {},
   "outputs": [],
   "source": [
    "# y_pred_gs = rfc_2.predict(X_test)"
   ]
  },
  {
   "cell_type": "code",
   "execution_count": 50,
   "id": "f4b4f285",
   "metadata": {},
   "outputs": [
    {
     "name": "stdout",
     "output_type": "stream",
     "text": [
      "[[49  9]\n",
      " [12 46]]\n",
      "              precision    recall  f1-score   support\n",
      "\n",
      "           0       0.80      0.84      0.82        58\n",
      "           1       0.84      0.79      0.81        58\n",
      "\n",
      "    accuracy                           0.82       116\n",
      "   macro avg       0.82      0.82      0.82       116\n",
      "weighted avg       0.82      0.82      0.82       116\n",
      "\n"
     ]
    },
    {
     "data": {
      "image/png": "[encoded data removed]",
      "text/plain": [
       "<Figure size 640x480 with 2 Axes>"
      ]
     },
     "metadata": {},
     "output_type": "display_data"
    }
   ],
   "source": [
    "# from sklearn.metrics import confusion_matrix                            \n",
    "\n",
    "\n",
    "# cf_matrix = confusion_matrix(y_test, y_pred_gs)\n",
    "# print(cf_matrix)\n",
    "\n",
    "# sns.set(font_scale=1)\n",
    "# sns.heatmap(cf_matrix, annot=True, fmt='.3g',\n",
    "#            vmin=0, vmax=58, center= 0,\n",
    "#            cmap= 'coolwarm', linewidths=2, linecolor='black', \n",
    "#            #cbar_kws={'ticks':[0,1,2,3]},\n",
    "#            xticklabels=['low','high'],\n",
    "#            yticklabels=['low','high']).set(title='Predicted vs. True GDM incidence, PlanetScope 2022 (SB+VI)');\n",
    "\n",
    "# plt.ylabel('True')\n",
    "# plt.xlabel('Predicted')\n",
    "# plt.tight_layout()\n",
    "\n",
    "# plt.savefig('/Users/kathleenkanaley/Desktop/figs_phytopath_rev/corr_matrices_RF/PScope/SB+VI/Inc_2022.jpg')\n",
    "# report = classification_report(y_test, y_pred_gs)\n",
    "\n",
    "# print(report)\n",
    "# # conf_matrix_tuned = pd.DataFrame(confusion_matrix(y_test, y_pred_gs),\n",
    "# #         index = [np.unique(y_pred)[0],np.unique(y_pred)[1]], columns = [np.unique(y_pred)[0],np.unique(y_pred)[1]])\n",
    "                                                         \n",
    "# # display(conf_matrix_tuned)\n",
    "# # display('Hyperparameter Tuned Random Forest accuracy score', accuracy_score(y_test, y_pred_gs))"
   ]
  },
  {
   "cell_type": "code",
   "execution_count": 51,
   "id": "01d64a02",
   "metadata": {},
   "outputs": [
    {
     "data": {
      "image/png": "[encoded data removed]",
      "text/plain": [
       "<Figure size 640x480 with 1 Axes>"
      ]
     },
     "metadata": {},
     "output_type": "display_data"
    }
   ],
   "source": [
    "# from sklearn.inspection import permutation_importance\n",
    "\n",
    "# result = permutation_importance(\n",
    "#     rfc_2, X_test, y_test, n_repeats=10, random_state=16, n_jobs=2\n",
    "# )\n",
    "\n",
    "# sorted_importances_idx = result.importances_mean.argsort()\n",
    "\n",
    "# importances = pd.DataFrame(\n",
    "#     result.importances[sorted_importances_idx].T,\n",
    "#     columns=data_2022[ast.literal_eval(combo_22)].columns[sorted_importances_idx],\n",
    "# )\n",
    "# ax = importances.plot.box(vert=False, whis=10)\n",
    "# ax.set_title(\"Permutation Importances (test set)\",fontname=\"Arial\", fontsize=16)\n",
    "# #ax.axvline(x=0, color=\"k\", linestyle=\"--\")\n",
    "# ax.set_xlabel(\"Decrease in accuracy score\",fontname=\"Arial\", fontsize = 16)\n",
    "# ax.set_ylabel(\"Features\",fontname=\"Arial\", fontsize = 16)\n",
    "\n",
    "# ax.figure.tight_layout()\n",
    "# plt.savefig('/Users/kathleenkanaley/Desktop/figs_phytopath_rev/permimp_RF/PScope/SB+VI/permimp_inc22.jpg')"
   ]
  },
  {
   "cell_type": "markdown",
   "id": "95796a47",
   "metadata": {},
   "source": [
    "## All years"
   ]
  },
  {
   "cell_type": "code",
   "execution_count": 52,
   "id": "4e063346",
   "metadata": {},
   "outputs": [
    {
     "data": {
      "text/html": [
       "<div>\n",
       "<style scoped>\n",
       "    .dataframe tbody tr th:only-of-type {\n",
       "        vertical-align: middle;\n",
       "    }\n",
       "\n",
       "    .dataframe tbody tr th {\n",
       "        vertical-align: top;\n",
       "    }\n",
       "\n",
       "    .dataframe thead th {\n",
       "        text-align: right;\n",
       "    }\n",
       "</style>\n",
       "<table border=\"1\" class=\"dataframe\">\n",
       "  <thead>\n",
       "    <tr style=\"text-align: right;\">\n",
       "      <th></th>\n",
       "      <th>F1</th>\n",
       "      <th>features</th>\n",
       "    </tr>\n",
       "  </thead>\n",
       "  <tbody>\n",
       "    <tr>\n",
       "      <th>0</th>\n",
       "      <td>0.891215</td>\n",
       "      <td>['c_blue', 'blue', 'greenI', 'green', 'yellow'...</td>\n",
       "    </tr>\n",
       "    <tr>\n",
       "      <th>1</th>\n",
       "      <td>0.887728</td>\n",
       "      <td>['c_blue', 'blue', 'greenI', 'green', 'yellow'...</td>\n",
       "    </tr>\n",
       "    <tr>\n",
       "      <th>2</th>\n",
       "      <td>0.891439</td>\n",
       "      <td>['c_blue', 'blue', 'greenI', 'green', 'yellow'...</td>\n",
       "    </tr>\n",
       "    <tr>\n",
       "      <th>3</th>\n",
       "      <td>0.892686</td>\n",
       "      <td>['c_blue', 'blue', 'greenI', 'green', 'yellow'...</td>\n",
       "    </tr>\n",
       "    <tr>\n",
       "      <th>4</th>\n",
       "      <td>0.890735</td>\n",
       "      <td>['c_blue', 'blue', 'greenI', 'green', 'yellow'...</td>\n",
       "    </tr>\n",
       "    <tr>\n",
       "      <th>...</th>\n",
       "      <td>...</td>\n",
       "      <td>...</td>\n",
       "    </tr>\n",
       "    <tr>\n",
       "      <th>250</th>\n",
       "      <td>0.893170</td>\n",
       "      <td>['c_blue', 'blue', 'greenI', 'green', 'yellow'...</td>\n",
       "    </tr>\n",
       "    <tr>\n",
       "      <th>251</th>\n",
       "      <td>0.895701</td>\n",
       "      <td>['c_blue', 'blue', 'greenI', 'green', 'yellow'...</td>\n",
       "    </tr>\n",
       "    <tr>\n",
       "      <th>252</th>\n",
       "      <td>0.895399</td>\n",
       "      <td>['c_blue', 'blue', 'greenI', 'green', 'yellow'...</td>\n",
       "    </tr>\n",
       "    <tr>\n",
       "      <th>253</th>\n",
       "      <td>0.892610</td>\n",
       "      <td>['c_blue', 'blue', 'greenI', 'green', 'yellow'...</td>\n",
       "    </tr>\n",
       "    <tr>\n",
       "      <th>254</th>\n",
       "      <td>0.893700</td>\n",
       "      <td>['c_blue', 'blue', 'greenI', 'green', 'yellow'...</td>\n",
       "    </tr>\n",
       "  </tbody>\n",
       "</table>\n",
       "<p>255 rows × 2 columns</p>\n",
       "</div>"
      ],
      "text/plain": [
       "           F1                                           features\n",
       "0    0.891215  ['c_blue', 'blue', 'greenI', 'green', 'yellow'...\n",
       "1    0.887728  ['c_blue', 'blue', 'greenI', 'green', 'yellow'...\n",
       "2    0.891439  ['c_blue', 'blue', 'greenI', 'green', 'yellow'...\n",
       "3    0.892686  ['c_blue', 'blue', 'greenI', 'green', 'yellow'...\n",
       "4    0.890735  ['c_blue', 'blue', 'greenI', 'green', 'yellow'...\n",
       "..        ...                                                ...\n",
       "250  0.893170  ['c_blue', 'blue', 'greenI', 'green', 'yellow'...\n",
       "251  0.895701  ['c_blue', 'blue', 'greenI', 'green', 'yellow'...\n",
       "252  0.895399  ['c_blue', 'blue', 'greenI', 'green', 'yellow'...\n",
       "253  0.892610  ['c_blue', 'blue', 'greenI', 'green', 'yellow'...\n",
       "254  0.893700  ['c_blue', 'blue', 'greenI', 'green', 'yellow'...\n",
       "\n",
       "[255 rows x 2 columns]"
      ]
     },
     "execution_count": 52,
     "metadata": {},
     "output_type": "execute_result"
    }
   ],
   "source": [
    "# get F1 scores for different VI combos\n",
    "\n",
    "models = get_models(exp_vars)\n",
    "\n",
    "F1_allyear = pd.DataFrame(columns=['F1', 'features'])\n",
    "F1 = []\n",
    "features = []\n",
    "\n",
    "for name, model in models.items():\n",
    "        X,y = data_prep(data_all,ast.literal_eval(name),inc,2024,16)\n",
    "        scores = evaluate_model(model, X, y,'f1')\n",
    "        F1.append(np.mean(scores))\n",
    "        features.append(name)\n",
    "F1_allyear['F1']=F1\n",
    "F1_allyear['features']=features\n",
    "\n",
    "F1_allyear"
   ]
  },
  {
   "cell_type": "code",
   "execution_count": 53,
   "id": "95113908",
   "metadata": {},
   "outputs": [
    {
     "name": "stdout",
     "output_type": "stream",
     "text": [
      "Best feature combo for all-year: ['c_blue', 'blue', 'greenI', 'green', 'yellow', 'red', 'rede', 'nir', 'pri', 'ndre', 'tcari', 'ndvi', 'evi', 'savi']\n"
     ]
    }
   ],
   "source": [
    "# find VI combo that maximizes F1\n",
    "\n",
    "combo_all = F1_allyear.iloc[F1_allyear['F1'].idxmax()]['features']\n",
    "print(\"Best feature combo for all-year:\", combo_all)"
   ]
  },
  {
   "cell_type": "code",
   "execution_count": 54,
   "id": "8889c2e9",
   "metadata": {},
   "outputs": [],
   "source": [
    "X_train, y_train, X_test, y_test = bal_split_norm(data_all,\n",
    "                                                  ast.literal_eval(combo_all), #convert string to list\n",
    "                                                 inc,\n",
    "                                                 2020,\n",
    "                                                 14)"
   ]
  },
  {
   "cell_type": "code",
   "execution_count": 55,
   "id": "2ba9e4da",
   "metadata": {},
   "outputs": [],
   "source": [
    "# Create dictionary of parameters to test with randomizedCV\n",
    "\n",
    "from sklearn.model_selection import RandomizedSearchCV\n",
    "\n",
    "n_estimators = [int(x) for x in np.linspace(start = 100, stop = 1000,\n",
    "num = 10)]\n",
    "max_features = ['log2', 'sqrt']\n",
    "max_depth = [int(x) for x in np.linspace(start = 1, stop = 15, num =\n",
    "15)]\n",
    "min_samples_split = [int(x) for x in np.linspace(start = 2, stop = 50,\n",
    "num = 10)]\n",
    "min_samples_leaf = [int(x) for x in np.linspace(start = 1, stop = 50,\n",
    "num = 5)]\n",
    "bootstrap = [True, False]\n",
    "param_dist = {'n_estimators': n_estimators,\n",
    "'max_features': max_features,\n",
    "'max_depth': max_depth,\n",
    "'min_samples_split': min_samples_split,\n",
    "'min_samples_leaf': min_samples_leaf,\n",
    "'bootstrap': bootstrap}"
   ]
  },
  {
   "cell_type": "code",
   "execution_count": 56,
   "id": "b7e3fc3e",
   "metadata": {},
   "outputs": [
    {
     "name": "stdout",
     "output_type": "stream",
     "text": [
      "Fitting 3 folds for each of 100 candidates, totalling 300 fits\n"
     ]
    },
    {
     "data": {
      "text/plain": [
       "{'n_estimators': 300,\n",
       " 'min_samples_split': 18,\n",
       " 'min_samples_leaf': 1,\n",
       " 'max_features': 'sqrt',\n",
       " 'max_depth': 12,\n",
       " 'bootstrap': False}"
      ]
     },
     "execution_count": 56,
     "metadata": {},
     "output_type": "execute_result"
    }
   ],
   "source": [
    "rfc = RandomForestClassifier()\n",
    "rs = RandomizedSearchCV(rfc,\n",
    "param_dist,\n",
    "n_iter = 100,\n",
    "scoring = 'f1',\n",
    "cv = 3,\n",
    "verbose = 1,\n",
    "n_jobs=-1,\n",
    "random_state=0)\n",
    "\n",
    "rs.fit(X_train, y_train)\n",
    "rs.best_params_"
   ]
  },
  {
   "cell_type": "code",
   "execution_count": 57,
   "id": "0d5047ed",
   "metadata": {},
   "outputs": [
    {
     "data": {
      "text/html": [
       "<div>\n",
       "<style scoped>\n",
       "    .dataframe tbody tr th:only-of-type {\n",
       "        vertical-align: middle;\n",
       "    }\n",
       "\n",
       "    .dataframe tbody tr th {\n",
       "        vertical-align: top;\n",
       "    }\n",
       "\n",
       "    .dataframe thead th {\n",
       "        text-align: right;\n",
       "    }\n",
       "</style>\n",
       "<table border=\"1\" class=\"dataframe\">\n",
       "  <thead>\n",
       "    <tr style=\"text-align: right;\">\n",
       "      <th></th>\n",
       "      <th>param_n_estimators</th>\n",
       "      <th>param_min_samples_split</th>\n",
       "      <th>param_min_samples_leaf</th>\n",
       "      <th>param_max_features</th>\n",
       "      <th>param_max_depth</th>\n",
       "      <th>param_bootstrap</th>\n",
       "      <th>mean_test_score</th>\n",
       "      <th>rank_test_score</th>\n",
       "    </tr>\n",
       "  </thead>\n",
       "  <tbody>\n",
       "    <tr>\n",
       "      <th>0</th>\n",
       "      <td>300</td>\n",
       "      <td>18</td>\n",
       "      <td>1</td>\n",
       "      <td>sqrt</td>\n",
       "      <td>12</td>\n",
       "      <td>False</td>\n",
       "      <td>0.890977</td>\n",
       "      <td>1</td>\n",
       "    </tr>\n",
       "    <tr>\n",
       "      <th>1</th>\n",
       "      <td>300</td>\n",
       "      <td>12</td>\n",
       "      <td>1</td>\n",
       "      <td>log2</td>\n",
       "      <td>13</td>\n",
       "      <td>False</td>\n",
       "      <td>0.890432</td>\n",
       "      <td>2</td>\n",
       "    </tr>\n",
       "    <tr>\n",
       "      <th>2</th>\n",
       "      <td>300</td>\n",
       "      <td>34</td>\n",
       "      <td>1</td>\n",
       "      <td>log2</td>\n",
       "      <td>14</td>\n",
       "      <td>True</td>\n",
       "      <td>0.886895</td>\n",
       "      <td>3</td>\n",
       "    </tr>\n",
       "    <tr>\n",
       "      <th>3</th>\n",
       "      <td>200</td>\n",
       "      <td>12</td>\n",
       "      <td>1</td>\n",
       "      <td>log2</td>\n",
       "      <td>7</td>\n",
       "      <td>True</td>\n",
       "      <td>0.886794</td>\n",
       "      <td>4</td>\n",
       "    </tr>\n",
       "    <tr>\n",
       "      <th>4</th>\n",
       "      <td>300</td>\n",
       "      <td>12</td>\n",
       "      <td>13</td>\n",
       "      <td>sqrt</td>\n",
       "      <td>9</td>\n",
       "      <td>True</td>\n",
       "      <td>0.886575</td>\n",
       "      <td>5</td>\n",
       "    </tr>\n",
       "    <tr>\n",
       "      <th>5</th>\n",
       "      <td>400</td>\n",
       "      <td>12</td>\n",
       "      <td>13</td>\n",
       "      <td>log2</td>\n",
       "      <td>14</td>\n",
       "      <td>True</td>\n",
       "      <td>0.886541</td>\n",
       "      <td>6</td>\n",
       "    </tr>\n",
       "    <tr>\n",
       "      <th>6</th>\n",
       "      <td>700</td>\n",
       "      <td>18</td>\n",
       "      <td>1</td>\n",
       "      <td>log2</td>\n",
       "      <td>7</td>\n",
       "      <td>True</td>\n",
       "      <td>0.886122</td>\n",
       "      <td>7</td>\n",
       "    </tr>\n",
       "    <tr>\n",
       "      <th>7</th>\n",
       "      <td>800</td>\n",
       "      <td>12</td>\n",
       "      <td>13</td>\n",
       "      <td>sqrt</td>\n",
       "      <td>15</td>\n",
       "      <td>True</td>\n",
       "      <td>0.885897</td>\n",
       "      <td>8</td>\n",
       "    </tr>\n",
       "    <tr>\n",
       "      <th>8</th>\n",
       "      <td>700</td>\n",
       "      <td>2</td>\n",
       "      <td>1</td>\n",
       "      <td>log2</td>\n",
       "      <td>6</td>\n",
       "      <td>False</td>\n",
       "      <td>0.885711</td>\n",
       "      <td>9</td>\n",
       "    </tr>\n",
       "    <tr>\n",
       "      <th>9</th>\n",
       "      <td>300</td>\n",
       "      <td>28</td>\n",
       "      <td>13</td>\n",
       "      <td>log2</td>\n",
       "      <td>10</td>\n",
       "      <td>False</td>\n",
       "      <td>0.885656</td>\n",
       "      <td>10</td>\n",
       "    </tr>\n",
       "  </tbody>\n",
       "</table>\n",
       "</div>"
      ],
      "text/plain": [
       "  param_n_estimators param_min_samples_split param_min_samples_leaf  \\\n",
       "0                300                      18                      1   \n",
       "1                300                      12                      1   \n",
       "2                300                      34                      1   \n",
       "3                200                      12                      1   \n",
       "4                300                      12                     13   \n",
       "5                400                      12                     13   \n",
       "6                700                      18                      1   \n",
       "7                800                      12                     13   \n",
       "8                700                       2                      1   \n",
       "9                300                      28                     13   \n",
       "\n",
       "  param_max_features param_max_depth param_bootstrap  mean_test_score  \\\n",
       "0               sqrt              12           False         0.890977   \n",
       "1               log2              13           False         0.890432   \n",
       "2               log2              14            True         0.886895   \n",
       "3               log2               7            True         0.886794   \n",
       "4               sqrt               9            True         0.886575   \n",
       "5               log2              14            True         0.886541   \n",
       "6               log2               7            True         0.886122   \n",
       "7               sqrt              15            True         0.885897   \n",
       "8               log2               6           False         0.885711   \n",
       "9               log2              10           False         0.885656   \n",
       "\n",
       "   rank_test_score  \n",
       "0                1  \n",
       "1                2  \n",
       "2                3  \n",
       "3                4  \n",
       "4                5  \n",
       "5                6  \n",
       "6                7  \n",
       "7                8  \n",
       "8                9  \n",
       "9               10  "
      ]
     },
     "execution_count": 57,
     "metadata": {},
     "output_type": "execute_result"
    }
   ],
   "source": [
    "rs_df = pd.DataFrame(rs.cv_results_).sort_values('rank_test_score').reset_index(drop=True)\n",
    "rs_df = rs_df.drop([\n",
    "'mean_fit_time',\n",
    "'std_fit_time',\n",
    "'mean_score_time',\n",
    "'std_score_time',\n",
    "'params',\n",
    "'split0_test_score',\n",
    "'split1_test_score',\n",
    "'split2_test_score',\n",
    "'std_test_score'],\n",
    "axis=1)\n",
    "\n",
    "rs_df.head(10)"
   ]
  },
  {
   "cell_type": "code",
   "execution_count": 58,
   "id": "c8da4a2f",
   "metadata": {},
   "outputs": [
    {
     "name": "stdout",
     "output_type": "stream",
     "text": [
      "Fitting 3 folds for each of 576 candidates, totalling 1728 fits\n"
     ]
    },
    {
     "data": {
      "text/plain": [
       "{'bootstrap': True,\n",
       " 'max_depth': 13,\n",
       " 'max_features': 'log2',\n",
       " 'min_samples_leaf': 1,\n",
       " 'min_samples_split': 2,\n",
       " 'n_estimators': 300}"
      ]
     },
     "execution_count": 58,
     "metadata": {},
     "output_type": "execute_result"
    }
   ],
   "source": [
    "from sklearn.model_selection import GridSearchCV\n",
    "n_estimators = [100,200,300]\n",
    "max_features = ['sqrt','log2']\n",
    "max_depth = [3,7,9,12,13,14]\n",
    "min_samples_split = [2,12,18,34]\n",
    "min_samples_leaf = [1,13]\n",
    "bootstrap = [True,False]\n",
    "\n",
    "param_grid = {'n_estimators': n_estimators,\n",
    "'max_features': max_features,\n",
    "'max_depth': max_depth,\n",
    "'min_samples_split': min_samples_split,\n",
    "'min_samples_leaf': min_samples_leaf,\n",
    "'bootstrap': bootstrap}\n",
    "\n",
    "gs = GridSearchCV(rfc, param_grid, cv = 3, verbose = 1, n_jobs=-1)\n",
    "gs.fit(X_train, y_train)\n",
    "rfc_2 = gs.best_estimator_\n",
    "gs.best_params_"
   ]
  },
  {
   "cell_type": "code",
   "execution_count": 59,
   "id": "57eb87ef",
   "metadata": {},
   "outputs": [],
   "source": [
    "y_pred_gs = rfc_2.predict(X_test)"
   ]
  },
  {
   "cell_type": "code",
   "execution_count": 60,
   "id": "4a154f06",
   "metadata": {},
   "outputs": [
    {
     "name": "stdout",
     "output_type": "stream",
     "text": [
      "[[342  36]\n",
      " [ 49 329]]\n",
      "              precision    recall  f1-score   support\n",
      "\n",
      "           0       0.87      0.90      0.89       378\n",
      "           1       0.90      0.87      0.89       378\n",
      "\n",
      "    accuracy                           0.89       756\n",
      "   macro avg       0.89      0.89      0.89       756\n",
      "weighted avg       0.89      0.89      0.89       756\n",
      "\n"
     ]
    },
    {
     "data": {
      "image/png": "[encoded data removed]",
      "text/plain": [
       "<Figure size 640x480 with 2 Axes>"
      ]
     },
     "metadata": {},
     "output_type": "display_data"
    }
   ],
   "source": [
    "from sklearn.metrics import confusion_matrix                            \n",
    "\n",
    "\n",
    "cf_matrix = confusion_matrix(y_test, y_pred_gs)\n",
    "print(cf_matrix)\n",
    "\n",
    "sns.set(font_scale=1)\n",
    "sns.heatmap(cf_matrix, annot=True, fmt='.3g',\n",
    "           vmin=0, vmax=378, center= 0,\n",
    "           cmap= 'coolwarm', linewidths=2, linecolor='black',\n",
    "           xticklabels=['low','high'],\n",
    "           yticklabels=['low','high']).set(title='Predicted vs. True GDM incidence, PlanetScope 2020-22 (SB+VI)');\n",
    "\n",
    "plt.ylabel('True')\n",
    "plt.xlabel('Predicted')\n",
    "plt.tight_layout()\n",
    "\n",
    "plt.savefig('/Users/kathleenkanaley/Desktop/figs_phytopath_rev/corr_matrices_RF/PScope/SB+VI/Inc_all.jpg')\n",
    "report = classification_report(y_test, y_pred_gs)\n",
    "\n",
    "print(report)\n",
    "# conf_matrix_tuned = pd.DataFrame(confusion_matrix(y_test, y_pred_gs),\n",
    "#         index = [np.unique(y_pred)[0],np.unique(y_pred)[1]], columns = [np.unique(y_pred)[0],np.unique(y_pred)[1]])\n",
    "                                                         \n",
    "# display(conf_matrix_tuned)\n",
    "# display('Hyperparameter Tuned Random Forest accuracy score', accuracy_score(y_test, y_pred_gs))"
   ]
  },
  {
   "cell_type": "code",
   "execution_count": 61,
   "id": "2bc253a4",
   "metadata": {},
   "outputs": [
    {
     "data": {
      "image/png": "[encoded data removed]",
      "text/plain": [
       "<Figure size 640x480 with 1 Axes>"
      ]
     },
     "metadata": {},
     "output_type": "display_data"
    }
   ],
   "source": [
    "from sklearn.inspection import permutation_importance\n",
    "\n",
    "result = permutation_importance(\n",
    "    rfc_2, X_test, y_test, n_repeats=10, random_state=16, n_jobs=2\n",
    ")\n",
    "\n",
    "sorted_importances_idx = result.importances_mean.argsort()\n",
    "\n",
    "importances = pd.DataFrame(\n",
    "    result.importances[sorted_importances_idx].T,\n",
    "    columns=data_all[ast.literal_eval(combo_all)].columns[sorted_importances_idx],\n",
    ")\n",
    "ax = importances.plot.box(vert=False, whis=10)\n",
    "ax.set_title(\"Permutation Importances (test set)\",fontname=\"Arial\", fontsize=16)\n",
    "#ax.axvline(x=0, color=\"k\", linestyle=\"--\")\n",
    "ax.set_xlabel(\"Decrease in accuracy score\",fontname=\"Arial\", fontsize = 16)\n",
    "ax.set_ylabel(\"Features\",fontname=\"Arial\", fontsize = 16)\n",
    "\n",
    "ax.figure.tight_layout()\n",
    "plt.savefig('/Users/kathleenkanaley/Desktop/figs_phytopath_rev/permimp_RF/PScope/SB+VI/permimp_incall.jpg')"
   ]
  },
  {
   "cell_type": "code",
   "execution_count": null,
   "id": "39629a38",
   "metadata": {},
   "outputs": [],
   "source": []
  }
 ],
 "metadata": {
  "kernelspec": {
   "display_name": "Python 3 (ipykernel)",
   "language": "python",
   "name": "python3"
  },
  "language_info": {
   "codemirror_mode": {
    "name": "ipython",
    "version": 3
   },
   "file_extension": ".py",
   "mimetype": "text/x-python",
   "name": "python",
   "nbconvert_exporter": "python",
   "pygments_lexer": "ipython3",
   "version": "3.10.6"
  }
 },
 "nbformat": 4,
 "nbformat_minor": 5
}
