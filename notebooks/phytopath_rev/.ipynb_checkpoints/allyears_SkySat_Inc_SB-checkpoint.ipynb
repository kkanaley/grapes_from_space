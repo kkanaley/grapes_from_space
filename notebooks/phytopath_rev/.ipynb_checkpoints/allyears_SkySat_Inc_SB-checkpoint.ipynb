{
 "cells": [
  {
   "cell_type": "code",
   "execution_count": 1,
   "id": "19fedb74",
   "metadata": {},
   "outputs": [],
   "source": [
    "import glob\n",
    "import os\n",
    "import matplotlib.pyplot as plt\n",
    "import pandas as pd\n",
    "import numpy as np\n",
    "import seaborn as sns\n",
    "\n",
    "import sklearn\n",
    "from sklearn.preprocessing import MinMaxScaler\n",
    "from sklearn.model_selection import train_test_split\n",
    "from sklearn.ensemble import RandomForestClassifier\n",
    "from sklearn.model_selection import cross_val_score\n",
    "from sklearn.model_selection import RepeatedStratifiedKFold\n",
    "from sklearn.metrics import classification_report \n",
    "from sklearn.metrics import accuracy_score\n",
    "from sklearn.metrics import precision_recall_fscore_support\n",
    "from sklearn.metrics import roc_auc_score\n",
    "from sklearn.metrics import confusion_matrix\n",
    "\n",
    "import imblearn as imb\n",
    "from imblearn.under_sampling import RandomUnderSampler\n",
    "\n",
    "import scipy\n",
    "import itertools\n",
    "import random\n",
    "import ast"
   ]
  },
  {
   "cell_type": "markdown",
   "id": "a010eab2",
   "metadata": {},
   "source": [
    "## Data prep"
   ]
  },
  {
   "cell_type": "code",
   "execution_count": 2,
   "id": "25c29721",
   "metadata": {},
   "outputs": [
    {
     "data": {
      "text/plain": [
       "['/Users/kathleenkanaley/Desktop/grapes_from_space/data/img_scout_dfs/2022/smr_vis_skysat_scout_2022.csv',\n",
       " '/Users/kathleenkanaley/Desktop/grapes_from_space/data/img_scout_dfs/2021/smr_vis_skysat_scout_2021.csv',\n",
       " '/Users/kathleenkanaley/Desktop/grapes_from_space/data/img_scout_dfs/2020/smr_vis_skysat_scout_2020.csv']"
      ]
     },
     "execution_count": 2,
     "metadata": {},
     "output_type": "execute_result"
    }
   ],
   "source": [
    "data_dir = '/Users/kathleenkanaley/Desktop/grapes_from_space/data/img_scout_dfs'\n",
    "\n",
    "# all three years\n",
    "yearly_data = glob.glob(data_dir+'/*/smr_vis_skysat_scout_*.csv')\n",
    "yearly_data\n",
    "\n"
   ]
  },
  {
   "cell_type": "code",
   "execution_count": 3,
   "id": "fb51216a",
   "metadata": {},
   "outputs": [],
   "source": [
    "prepped_dfs = []\n",
    "for year in yearly_data:\n",
    "    df = pd.read_csv(year)\n",
    "    df = df.rename(columns={\"green_red\": \"grvi\"})\n",
    "    # Create binary numeric label\n",
    "    # 0 = low GDM\n",
    "    # 1 = high GDM\n",
    "\n",
    "    df['GDM_sev']=0\n",
    "    df.loc[df['DM_severity'] > 10, 'GDM_sev'] =1\n",
    "    \n",
    "    df['GDM_inc']=0\n",
    "    df.loc[df['DM_inc'] > 25, 'GDM_inc'] = 1\n",
    "    prepped_dfs.append(df)"
   ]
  },
  {
   "cell_type": "code",
   "execution_count": 4,
   "id": "d4957dc2",
   "metadata": {},
   "outputs": [],
   "source": [
    "# Check columns\n",
    "#prepped_dfs[0].columns\n",
    "# prepped_dfs[0].Date.unique()\n",
    "# prepped_dfs[1].Date.unique()\n",
    "# prepped_dfs[2].Date.unique()"
   ]
  },
  {
   "cell_type": "code",
   "execution_count": 5,
   "id": "ab8bfec3",
   "metadata": {},
   "outputs": [
    {
     "data": {
      "text/plain": [
       "'2020'"
      ]
     },
     "execution_count": 5,
     "metadata": {},
     "output_type": "execute_result"
    }
   ],
   "source": [
    "prepped_dfs[2].Date[1][:4]"
   ]
  },
  {
   "cell_type": "code",
   "execution_count": 6,
   "id": "20255400",
   "metadata": {},
   "outputs": [],
   "source": [
    "# set up variables\n",
    "data_2022 = prepped_dfs[0]\n",
    "data_2021 = prepped_dfs[1]\n",
    "data_2020 = prepped_dfs[2]\n",
    "data_all = pd.concat([data_2020,data_2021,data_2022])\n",
    "sev = 'GDM_sev'\n",
    "inc = 'GDM_inc'\n",
    "sbs = ['blue', 'green','red', 'nir']"
   ]
  },
  {
   "cell_type": "markdown",
   "id": "faa62db3",
   "metadata": {},
   "source": [
    "## Balance, split, normalize"
   ]
  },
  {
   "cell_type": "code",
   "execution_count": 7,
   "id": "a0095140",
   "metadata": {},
   "outputs": [],
   "source": [
    "def bal_split_norm(data, expl_vars, resp_var, state, seed):\n",
    "    X = data[expl_vars]\n",
    "    y = data[resp_var]\n",
    "\n",
    "    rus = RandomUnderSampler(random_state=state)\n",
    "    X_rus, y_rus = rus.fit_resample(X, y)\n",
    "\n",
    "    # Split dataset into training set and test set\n",
    "    X_train, X_test, y_train, y_test = train_test_split(X_rus, y_rus,\n",
    "                                                        test_size=0.3, \n",
    "                                                        random_state=seed,\n",
    "                                                        stratify = y_rus)  # 70% training and 30% test\n",
    "    mm = MinMaxScaler()\n",
    "    X_train_scaled = mm.fit_transform(X_train)\n",
    "    X_test_scaled = mm.transform(X_test)\n",
    "    \n",
    "    return X_train_scaled, y_train, X_test_scaled, y_test"
   ]
  },
  {
   "cell_type": "markdown",
   "id": "823eb541",
   "metadata": {},
   "source": [
    "## For 2020"
   ]
  },
  {
   "cell_type": "code",
   "execution_count": 8,
   "id": "0c9f91be",
   "metadata": {},
   "outputs": [],
   "source": [
    "# X_train, y_train, X_test, y_test = bal_split_norm(data_2020,\n",
    "#                                                   sbs,\n",
    "#                                                  inc,\n",
    "#                                                  2020,\n",
    "#                                                  14)"
   ]
  },
  {
   "cell_type": "markdown",
   "id": "075be4cc",
   "metadata": {},
   "source": [
    "## Hyperparameter tuning (training set only)"
   ]
  },
  {
   "cell_type": "code",
   "execution_count": 9,
   "id": "3f0db2b6",
   "metadata": {},
   "outputs": [],
   "source": [
    "# # Create dictionary of parameters to test with randomizedCV\n",
    "\n",
    "# from sklearn.model_selection import RandomizedSearchCV\n",
    "\n",
    "# n_estimators = [int(x) for x in np.linspace(start = 100, stop = 1000,\n",
    "# num = 10)]\n",
    "# max_features = ['log2', 'sqrt']\n",
    "# max_depth = [int(x) for x in np.linspace(start = 1, stop = 15, num =\n",
    "# 15)]\n",
    "# min_samples_split = [int(x) for x in np.linspace(start = 2, stop = 50,\n",
    "# num = 10)]\n",
    "# min_samples_leaf = [int(x) for x in np.linspace(start = 1, stop = 50,\n",
    "# num = 5)]\n",
    "# bootstrap = [True, False]\n",
    "# param_dist = {'n_estimators': n_estimators,\n",
    "# 'max_features': max_features,\n",
    "# 'max_depth': max_depth,\n",
    "# 'min_samples_split': min_samples_split,\n",
    "# 'min_samples_leaf': min_samples_leaf,\n",
    "# 'bootstrap': bootstrap}"
   ]
  },
  {
   "cell_type": "code",
   "execution_count": 10,
   "id": "34cad011",
   "metadata": {},
   "outputs": [],
   "source": [
    "# rfc = RandomForestClassifier()"
   ]
  },
  {
   "cell_type": "code",
   "execution_count": 11,
   "id": "226ec1d8",
   "metadata": {},
   "outputs": [
    {
     "name": "stdout",
     "output_type": "stream",
     "text": [
      "Fitting 3 folds for each of 100 candidates, totalling 300 fits\n"
     ]
    },
    {
     "data": {
      "text/plain": [
       "{'n_estimators': 400,\n",
       " 'min_samples_split': 12,\n",
       " 'min_samples_leaf': 13,\n",
       " 'max_features': 'log2',\n",
       " 'max_depth': 14,\n",
       " 'bootstrap': True}"
      ]
     },
     "execution_count": 11,
     "metadata": {},
     "output_type": "execute_result"
    }
   ],
   "source": [
    "# rs = RandomizedSearchCV(rfc,\n",
    "# param_dist,\n",
    "# n_iter = 100,\n",
    "# scoring = 'f1',\n",
    "# cv = 3,\n",
    "# verbose = 1,\n",
    "# n_jobs=-1,\n",
    "# random_state=0)\n",
    "\n",
    "# rs.fit(X_train, y_train)\n",
    "# rs.best_params_"
   ]
  },
  {
   "cell_type": "code",
   "execution_count": 12,
   "id": "3424dbad",
   "metadata": {},
   "outputs": [
    {
     "data": {
      "text/html": [
       "<div>\n",
       "<style scoped>\n",
       "    .dataframe tbody tr th:only-of-type {\n",
       "        vertical-align: middle;\n",
       "    }\n",
       "\n",
       "    .dataframe tbody tr th {\n",
       "        vertical-align: top;\n",
       "    }\n",
       "\n",
       "    .dataframe thead th {\n",
       "        text-align: right;\n",
       "    }\n",
       "</style>\n",
       "<table border=\"1\" class=\"dataframe\">\n",
       "  <thead>\n",
       "    <tr style=\"text-align: right;\">\n",
       "      <th></th>\n",
       "      <th>param_n_estimators</th>\n",
       "      <th>param_min_samples_split</th>\n",
       "      <th>param_min_samples_leaf</th>\n",
       "      <th>param_max_features</th>\n",
       "      <th>param_max_depth</th>\n",
       "      <th>param_bootstrap</th>\n",
       "      <th>mean_test_score</th>\n",
       "      <th>rank_test_score</th>\n",
       "    </tr>\n",
       "  </thead>\n",
       "  <tbody>\n",
       "    <tr>\n",
       "      <th>0</th>\n",
       "      <td>1000</td>\n",
       "      <td>12</td>\n",
       "      <td>13</td>\n",
       "      <td>log2</td>\n",
       "      <td>5</td>\n",
       "      <td>False</td>\n",
       "      <td>0.919883</td>\n",
       "      <td>1</td>\n",
       "    </tr>\n",
       "    <tr>\n",
       "      <th>1</th>\n",
       "      <td>300</td>\n",
       "      <td>12</td>\n",
       "      <td>13</td>\n",
       "      <td>sqrt</td>\n",
       "      <td>9</td>\n",
       "      <td>True</td>\n",
       "      <td>0.919883</td>\n",
       "      <td>1</td>\n",
       "    </tr>\n",
       "    <tr>\n",
       "      <th>2</th>\n",
       "      <td>500</td>\n",
       "      <td>18</td>\n",
       "      <td>13</td>\n",
       "      <td>log2</td>\n",
       "      <td>13</td>\n",
       "      <td>True</td>\n",
       "      <td>0.919883</td>\n",
       "      <td>1</td>\n",
       "    </tr>\n",
       "    <tr>\n",
       "      <th>3</th>\n",
       "      <td>800</td>\n",
       "      <td>12</td>\n",
       "      <td>13</td>\n",
       "      <td>sqrt</td>\n",
       "      <td>15</td>\n",
       "      <td>True</td>\n",
       "      <td>0.919883</td>\n",
       "      <td>1</td>\n",
       "    </tr>\n",
       "    <tr>\n",
       "      <th>4</th>\n",
       "      <td>200</td>\n",
       "      <td>44</td>\n",
       "      <td>13</td>\n",
       "      <td>sqrt</td>\n",
       "      <td>12</td>\n",
       "      <td>False</td>\n",
       "      <td>0.919883</td>\n",
       "      <td>1</td>\n",
       "    </tr>\n",
       "    <tr>\n",
       "      <th>5</th>\n",
       "      <td>400</td>\n",
       "      <td>34</td>\n",
       "      <td>13</td>\n",
       "      <td>log2</td>\n",
       "      <td>3</td>\n",
       "      <td>True</td>\n",
       "      <td>0.919883</td>\n",
       "      <td>1</td>\n",
       "    </tr>\n",
       "    <tr>\n",
       "      <th>6</th>\n",
       "      <td>800</td>\n",
       "      <td>23</td>\n",
       "      <td>13</td>\n",
       "      <td>sqrt</td>\n",
       "      <td>14</td>\n",
       "      <td>False</td>\n",
       "      <td>0.919883</td>\n",
       "      <td>1</td>\n",
       "    </tr>\n",
       "    <tr>\n",
       "      <th>7</th>\n",
       "      <td>100</td>\n",
       "      <td>50</td>\n",
       "      <td>13</td>\n",
       "      <td>sqrt</td>\n",
       "      <td>13</td>\n",
       "      <td>False</td>\n",
       "      <td>0.919883</td>\n",
       "      <td>1</td>\n",
       "    </tr>\n",
       "    <tr>\n",
       "      <th>8</th>\n",
       "      <td>600</td>\n",
       "      <td>39</td>\n",
       "      <td>13</td>\n",
       "      <td>sqrt</td>\n",
       "      <td>10</td>\n",
       "      <td>False</td>\n",
       "      <td>0.919883</td>\n",
       "      <td>1</td>\n",
       "    </tr>\n",
       "    <tr>\n",
       "      <th>9</th>\n",
       "      <td>100</td>\n",
       "      <td>34</td>\n",
       "      <td>1</td>\n",
       "      <td>sqrt</td>\n",
       "      <td>4</td>\n",
       "      <td>True</td>\n",
       "      <td>0.919883</td>\n",
       "      <td>1</td>\n",
       "    </tr>\n",
       "  </tbody>\n",
       "</table>\n",
       "</div>"
      ],
      "text/plain": [
       "  param_n_estimators param_min_samples_split param_min_samples_leaf  \\\n",
       "0               1000                      12                     13   \n",
       "1                300                      12                     13   \n",
       "2                500                      18                     13   \n",
       "3                800                      12                     13   \n",
       "4                200                      44                     13   \n",
       "5                400                      34                     13   \n",
       "6                800                      23                     13   \n",
       "7                100                      50                     13   \n",
       "8                600                      39                     13   \n",
       "9                100                      34                      1   \n",
       "\n",
       "  param_max_features param_max_depth param_bootstrap  mean_test_score  \\\n",
       "0               log2               5           False         0.919883   \n",
       "1               sqrt               9            True         0.919883   \n",
       "2               log2              13            True         0.919883   \n",
       "3               sqrt              15            True         0.919883   \n",
       "4               sqrt              12           False         0.919883   \n",
       "5               log2               3            True         0.919883   \n",
       "6               sqrt              14           False         0.919883   \n",
       "7               sqrt              13           False         0.919883   \n",
       "8               sqrt              10           False         0.919883   \n",
       "9               sqrt               4            True         0.919883   \n",
       "\n",
       "   rank_test_score  \n",
       "0                1  \n",
       "1                1  \n",
       "2                1  \n",
       "3                1  \n",
       "4                1  \n",
       "5                1  \n",
       "6                1  \n",
       "7                1  \n",
       "8                1  \n",
       "9                1  "
      ]
     },
     "execution_count": 12,
     "metadata": {},
     "output_type": "execute_result"
    }
   ],
   "source": [
    "# rs_df = pd.DataFrame(rs.cv_results_).sort_values('rank_test_score').reset_index(drop=True)\n",
    "# rs_df = rs_df.drop([\n",
    "# 'mean_fit_time',\n",
    "# 'std_fit_time',\n",
    "# 'mean_score_time',\n",
    "# 'std_score_time',\n",
    "# 'params',\n",
    "# 'split0_test_score',\n",
    "# 'split1_test_score',\n",
    "# 'split2_test_score',\n",
    "# 'std_test_score'],\n",
    "# axis=1)\n",
    "\n",
    "# rs_df.head(10)"
   ]
  },
  {
   "cell_type": "code",
   "execution_count": 13,
   "id": "1e5325c5",
   "metadata": {},
   "outputs": [
    {
     "name": "stdout",
     "output_type": "stream",
     "text": [
      "Fitting 3 folds for each of 1152 candidates, totalling 3456 fits\n"
     ]
    },
    {
     "data": {
      "text/plain": [
       "{'bootstrap': True,\n",
       " 'max_depth': 3,\n",
       " 'max_features': 'sqrt',\n",
       " 'min_samples_leaf': 1,\n",
       " 'min_samples_split': 34,\n",
       " 'n_estimators': 200}"
      ]
     },
     "execution_count": 13,
     "metadata": {},
     "output_type": "execute_result"
    }
   ],
   "source": [
    "# from sklearn.model_selection import GridSearchCV\n",
    "# n_estimators = [100,200,300,400,500,800]\n",
    "# max_features = ['sqrt','log2']\n",
    "# max_depth = [3,5,9,12,13,15]\n",
    "# min_samples_split = [2,12,18,34]\n",
    "# min_samples_leaf = [1,13]\n",
    "# bootstrap = [True,False]\n",
    "\n",
    "# param_grid = {'n_estimators': n_estimators,\n",
    "# 'max_features': max_features,\n",
    "# 'max_depth': max_depth,\n",
    "# 'min_samples_split': min_samples_split,\n",
    "# 'min_samples_leaf': min_samples_leaf,\n",
    "# 'bootstrap': bootstrap}\n",
    "\n",
    "# gs = GridSearchCV(rfc, param_grid, cv = 3, verbose = 1, n_jobs=-1)\n",
    "# gs.fit(X_train, y_train)\n",
    "# rfc_2 = gs.best_estimator_\n",
    "# gs.best_params_"
   ]
  },
  {
   "cell_type": "code",
   "execution_count": 14,
   "id": "77d465f2",
   "metadata": {},
   "outputs": [],
   "source": [
    "# y_pred_gs = rfc_2.predict(X_test)"
   ]
  },
  {
   "cell_type": "markdown",
   "id": "1e4597a9",
   "metadata": {},
   "source": [
    "## Plot confusion matrix and get all model metrics"
   ]
  },
  {
   "cell_type": "code",
   "execution_count": 16,
   "id": "f5ebdd22",
   "metadata": {},
   "outputs": [
    {
     "name": "stdout",
     "output_type": "stream",
     "text": [
      "[[26  9]\n",
      " [ 2 34]]\n",
      "              precision    recall  f1-score   support\n",
      "\n",
      "           0       0.93      0.74      0.83        35\n",
      "           1       0.79      0.94      0.86        36\n",
      "\n",
      "    accuracy                           0.85        71\n",
      "   macro avg       0.86      0.84      0.84        71\n",
      "weighted avg       0.86      0.85      0.84        71\n",
      "\n"
     ]
    },
    {
     "data": {
      "image/png": "[encoded data removed]",
      "text/plain": [
       "<Figure size 640x480 with 2 Axes>"
      ]
     },
     "metadata": {},
     "output_type": "display_data"
    }
   ],
   "source": [
    "# from sklearn.metrics import confusion_matrix                            \n",
    "\n",
    "\n",
    "\n",
    "# cf_matrix = confusion_matrix(y_test, y_pred_gs)\n",
    "# print(cf_matrix)\n",
    "\n",
    "# sns.set(font_scale=1)\n",
    "# sns.heatmap(cf_matrix, annot=True,\n",
    "#            vmin=0, vmax=36, center= 0,\n",
    "#            cmap= 'coolwarm', linewidths=2, linecolor='black',\n",
    "#            xticklabels=['low','high'],\n",
    "#            yticklabels=['low','high']).set(title='Predicted vs. True GDM incidence, SkySat 2020 (SB)');\n",
    "\n",
    "# plt.ylabel('True')\n",
    "# plt.xlabel('Predicted')\n",
    "# plt.tight_layout()\n",
    "\n",
    "# plt.savefig('/Users/kathleenkanaley/Desktop/figs_phytopath_rev/corr_matrices_RF/SkySat/SB/Inc_2020.jpg')\n",
    "# report = classification_report(y_test, y_pred_gs)\n",
    "\n",
    "# print(report)\n",
    "# # conf_matrix_tuned = pd.DataFrame(confusion_matrix(y_test, y_pred_gs),\n",
    "# #         index = [np.unique(y_pred)[0],np.unique(y_pred)[1]], columns = [np.unique(y_pred)[0],np.unique(y_pred)[1]])\n",
    "                                                         \n",
    "# # display(conf_matrix_tuned)\n",
    "# # display('Hyperparameter Tuned Random Forest accuracy score', accuracy_score(y_test, y_pred_gs))"
   ]
  },
  {
   "cell_type": "code",
   "execution_count": 83,
   "id": "a136cf1a",
   "metadata": {},
   "outputs": [
    {
     "data": {
      "text/plain": [
       "{0: 28, 1: 43}"
      ]
     },
     "execution_count": 83,
     "metadata": {},
     "output_type": "execute_result"
    }
   ],
   "source": [
    "# # Make sure axes are properly labeled\n",
    "# unique, counts = np.unique(y_pred_gs, return_counts=True)\n",
    "\n",
    "# dict(zip(unique, counts))"
   ]
  },
  {
   "cell_type": "markdown",
   "id": "6d70ac71",
   "metadata": {},
   "source": [
    "## Permutation importance plots"
   ]
  },
  {
   "cell_type": "code",
   "execution_count": 84,
   "id": "2b537187",
   "metadata": {},
   "outputs": [],
   "source": [
    "# Get permutation feature imp. scores\n",
    "# https://scikit-learn.org/stable/auto_examples/inspection/plot_permutation_importance.html#sphx-glr-auto-examples-inspection-plot-permutation-importance-py"
   ]
  },
  {
   "cell_type": "code",
   "execution_count": 18,
   "id": "19eccb8b",
   "metadata": {},
   "outputs": [
    {
     "data": {
      "image/png": "[encoded data removed]",
      "text/plain": [
       "<Figure size 640x480 with 1 Axes>"
      ]
     },
     "metadata": {},
     "output_type": "display_data"
    }
   ],
   "source": [
    "# from sklearn.inspection import permutation_importance\n",
    "\n",
    "# result = permutation_importance(\n",
    "#     rfc_2, X_test, y_test, n_repeats=10, random_state=16, n_jobs=2\n",
    "# )\n",
    "\n",
    "# sorted_importances_idx = result.importances_mean.argsort()\n",
    "\n",
    "# importances = pd.DataFrame(\n",
    "#     result.importances[sorted_importances_idx].T,\n",
    "#     columns=data_2020[sbs].columns[sorted_importances_idx],\n",
    "# )\n",
    "# ax = importances.plot.box(vert=False, whis=10)\n",
    "# ax.set_title(\"Permutation Importances (test set)\",fontname=\"Arial\", fontsize=16)\n",
    "# #ax.axvline(x=0, color=\"k\", linestyle=\"--\")\n",
    "# ax.set_xlabel(\"Decrease in accuracy score\",fontname=\"Arial\", fontsize = 16)\n",
    "# ax.set_ylabel(\"Features\",fontname=\"Arial\", fontsize = 16)\n",
    "\n",
    "# ax.figure.tight_layout()\n",
    "# plt.savefig('/Users/kathleenkanaley/Desktop/figs_phytopath_rev/permimp_RF/SkySat/SB/permimp_inc20.jpg')"
   ]
  },
  {
   "cell_type": "markdown",
   "id": "676c1996",
   "metadata": {},
   "source": [
    "## 2021"
   ]
  },
  {
   "cell_type": "code",
   "execution_count": 19,
   "id": "afc42202",
   "metadata": {},
   "outputs": [],
   "source": [
    "# X_train, y_train, X_test, y_test = bal_split_norm(data_2021,\n",
    "#                                                   sbs,\n",
    "#                                                  inc,\n",
    "#                                                  2020,\n",
    "#                                                  14)"
   ]
  },
  {
   "cell_type": "code",
   "execution_count": 20,
   "id": "15d2425c",
   "metadata": {},
   "outputs": [],
   "source": [
    "# # Create dictionary of parameters to test with randomizedCV\n",
    "\n",
    "# from sklearn.model_selection import RandomizedSearchCV\n",
    "\n",
    "# n_estimators = [int(x) for x in np.linspace(start = 100, stop = 1000,\n",
    "# num = 10)]\n",
    "# max_features = ['log2', 'sqrt']\n",
    "# max_depth = [int(x) for x in np.linspace(start = 1, stop = 15, num =\n",
    "# 15)]\n",
    "# min_samples_split = [int(x) for x in np.linspace(start = 2, stop = 50,\n",
    "# num = 10)]\n",
    "# min_samples_leaf = [int(x) for x in np.linspace(start = 1, stop = 50,\n",
    "# num = 5)]\n",
    "# bootstrap = [True, False]\n",
    "# param_dist = {'n_estimators': n_estimators,\n",
    "# 'max_features': max_features,\n",
    "# 'max_depth': max_depth,\n",
    "# 'min_samples_split': min_samples_split,\n",
    "# 'min_samples_leaf': min_samples_leaf,\n",
    "# 'bootstrap': bootstrap}"
   ]
  },
  {
   "cell_type": "code",
   "execution_count": 21,
   "id": "94f29df7",
   "metadata": {},
   "outputs": [
    {
     "name": "stdout",
     "output_type": "stream",
     "text": [
      "Fitting 3 folds for each of 100 candidates, totalling 300 fits\n"
     ]
    },
    {
     "data": {
      "text/plain": [
       "{'n_estimators': 700,\n",
       " 'min_samples_split': 18,\n",
       " 'min_samples_leaf': 1,\n",
       " 'max_features': 'log2',\n",
       " 'max_depth': 7,\n",
       " 'bootstrap': True}"
      ]
     },
     "execution_count": 21,
     "metadata": {},
     "output_type": "execute_result"
    }
   ],
   "source": [
    "# rfc = RandomForestClassifier()\n",
    "# rs = RandomizedSearchCV(rfc,\n",
    "# param_dist,\n",
    "# n_iter = 100,\n",
    "# scoring = 'f1',\n",
    "# cv = 3,\n",
    "# verbose = 1,\n",
    "# n_jobs=-1,\n",
    "# random_state=0)\n",
    "\n",
    "# rs.fit(X_train, y_train)\n",
    "# rs.best_params_"
   ]
  },
  {
   "cell_type": "code",
   "execution_count": 22,
   "id": "d24688c3",
   "metadata": {},
   "outputs": [
    {
     "data": {
      "text/html": [
       "<div>\n",
       "<style scoped>\n",
       "    .dataframe tbody tr th:only-of-type {\n",
       "        vertical-align: middle;\n",
       "    }\n",
       "\n",
       "    .dataframe tbody tr th {\n",
       "        vertical-align: top;\n",
       "    }\n",
       "\n",
       "    .dataframe thead th {\n",
       "        text-align: right;\n",
       "    }\n",
       "</style>\n",
       "<table border=\"1\" class=\"dataframe\">\n",
       "  <thead>\n",
       "    <tr style=\"text-align: right;\">\n",
       "      <th></th>\n",
       "      <th>param_n_estimators</th>\n",
       "      <th>param_min_samples_split</th>\n",
       "      <th>param_min_samples_leaf</th>\n",
       "      <th>param_max_features</th>\n",
       "      <th>param_max_depth</th>\n",
       "      <th>param_bootstrap</th>\n",
       "      <th>mean_test_score</th>\n",
       "      <th>rank_test_score</th>\n",
       "    </tr>\n",
       "  </thead>\n",
       "  <tbody>\n",
       "    <tr>\n",
       "      <th>0</th>\n",
       "      <td>700</td>\n",
       "      <td>18</td>\n",
       "      <td>1</td>\n",
       "      <td>log2</td>\n",
       "      <td>7</td>\n",
       "      <td>True</td>\n",
       "      <td>0.855022</td>\n",
       "      <td>1</td>\n",
       "    </tr>\n",
       "    <tr>\n",
       "      <th>1</th>\n",
       "      <td>700</td>\n",
       "      <td>28</td>\n",
       "      <td>1</td>\n",
       "      <td>sqrt</td>\n",
       "      <td>8</td>\n",
       "      <td>False</td>\n",
       "      <td>0.845255</td>\n",
       "      <td>2</td>\n",
       "    </tr>\n",
       "    <tr>\n",
       "      <th>2</th>\n",
       "      <td>200</td>\n",
       "      <td>39</td>\n",
       "      <td>1</td>\n",
       "      <td>sqrt</td>\n",
       "      <td>6</td>\n",
       "      <td>False</td>\n",
       "      <td>0.843657</td>\n",
       "      <td>3</td>\n",
       "    </tr>\n",
       "    <tr>\n",
       "      <th>3</th>\n",
       "      <td>600</td>\n",
       "      <td>44</td>\n",
       "      <td>1</td>\n",
       "      <td>sqrt</td>\n",
       "      <td>14</td>\n",
       "      <td>False</td>\n",
       "      <td>0.843060</td>\n",
       "      <td>4</td>\n",
       "    </tr>\n",
       "    <tr>\n",
       "      <th>4</th>\n",
       "      <td>200</td>\n",
       "      <td>39</td>\n",
       "      <td>1</td>\n",
       "      <td>log2</td>\n",
       "      <td>9</td>\n",
       "      <td>False</td>\n",
       "      <td>0.842993</td>\n",
       "      <td>5</td>\n",
       "    </tr>\n",
       "    <tr>\n",
       "      <th>5</th>\n",
       "      <td>300</td>\n",
       "      <td>12</td>\n",
       "      <td>13</td>\n",
       "      <td>sqrt</td>\n",
       "      <td>9</td>\n",
       "      <td>True</td>\n",
       "      <td>0.842415</td>\n",
       "      <td>6</td>\n",
       "    </tr>\n",
       "    <tr>\n",
       "      <th>6</th>\n",
       "      <td>300</td>\n",
       "      <td>12</td>\n",
       "      <td>13</td>\n",
       "      <td>log2</td>\n",
       "      <td>12</td>\n",
       "      <td>True</td>\n",
       "      <td>0.841711</td>\n",
       "      <td>7</td>\n",
       "    </tr>\n",
       "    <tr>\n",
       "      <th>7</th>\n",
       "      <td>800</td>\n",
       "      <td>12</td>\n",
       "      <td>13</td>\n",
       "      <td>sqrt</td>\n",
       "      <td>15</td>\n",
       "      <td>True</td>\n",
       "      <td>0.838274</td>\n",
       "      <td>8</td>\n",
       "    </tr>\n",
       "    <tr>\n",
       "      <th>8</th>\n",
       "      <td>300</td>\n",
       "      <td>34</td>\n",
       "      <td>1</td>\n",
       "      <td>log2</td>\n",
       "      <td>14</td>\n",
       "      <td>True</td>\n",
       "      <td>0.838239</td>\n",
       "      <td>9</td>\n",
       "    </tr>\n",
       "    <tr>\n",
       "      <th>9</th>\n",
       "      <td>300</td>\n",
       "      <td>18</td>\n",
       "      <td>1</td>\n",
       "      <td>sqrt</td>\n",
       "      <td>12</td>\n",
       "      <td>False</td>\n",
       "      <td>0.838194</td>\n",
       "      <td>10</td>\n",
       "    </tr>\n",
       "  </tbody>\n",
       "</table>\n",
       "</div>"
      ],
      "text/plain": [
       "  param_n_estimators param_min_samples_split param_min_samples_leaf  \\\n",
       "0                700                      18                      1   \n",
       "1                700                      28                      1   \n",
       "2                200                      39                      1   \n",
       "3                600                      44                      1   \n",
       "4                200                      39                      1   \n",
       "5                300                      12                     13   \n",
       "6                300                      12                     13   \n",
       "7                800                      12                     13   \n",
       "8                300                      34                      1   \n",
       "9                300                      18                      1   \n",
       "\n",
       "  param_max_features param_max_depth param_bootstrap  mean_test_score  \\\n",
       "0               log2               7            True         0.855022   \n",
       "1               sqrt               8           False         0.845255   \n",
       "2               sqrt               6           False         0.843657   \n",
       "3               sqrt              14           False         0.843060   \n",
       "4               log2               9           False         0.842993   \n",
       "5               sqrt               9            True         0.842415   \n",
       "6               log2              12            True         0.841711   \n",
       "7               sqrt              15            True         0.838274   \n",
       "8               log2              14            True         0.838239   \n",
       "9               sqrt              12           False         0.838194   \n",
       "\n",
       "   rank_test_score  \n",
       "0                1  \n",
       "1                2  \n",
       "2                3  \n",
       "3                4  \n",
       "4                5  \n",
       "5                6  \n",
       "6                7  \n",
       "7                8  \n",
       "8                9  \n",
       "9               10  "
      ]
     },
     "execution_count": 22,
     "metadata": {},
     "output_type": "execute_result"
    }
   ],
   "source": [
    "# rs_df = pd.DataFrame(rs.cv_results_).sort_values('rank_test_score').reset_index(drop=True)\n",
    "# rs_df = rs_df.drop([\n",
    "# 'mean_fit_time',\n",
    "# 'std_fit_time',\n",
    "# 'mean_score_time',\n",
    "# 'std_score_time',\n",
    "# 'params',\n",
    "# 'split0_test_score',\n",
    "# 'split1_test_score',\n",
    "# 'split2_test_score',\n",
    "# 'std_test_score'],\n",
    "# axis=1)\n",
    "\n",
    "# rs_df.head(10)"
   ]
  },
  {
   "cell_type": "code",
   "execution_count": 23,
   "id": "e108d541",
   "metadata": {},
   "outputs": [
    {
     "name": "stdout",
     "output_type": "stream",
     "text": [
      "Fitting 3 folds for each of 640 candidates, totalling 1920 fits\n"
     ]
    },
    {
     "data": {
      "text/plain": [
       "{'bootstrap': True,\n",
       " 'max_depth': 7,\n",
       " 'max_features': 'sqrt',\n",
       " 'min_samples_leaf': 1,\n",
       " 'min_samples_split': 18,\n",
       " 'n_estimators': 100}"
      ]
     },
     "execution_count": 23,
     "metadata": {},
     "output_type": "execute_result"
    }
   ],
   "source": [
    "# from sklearn.model_selection import GridSearchCV\n",
    "# n_estimators = [100,200,600,700]\n",
    "# max_features = ['sqrt','log2']\n",
    "# max_depth = [3,6,7,8,14]\n",
    "# min_samples_split = [2,18,28,39]\n",
    "# min_samples_leaf = [1,13]\n",
    "# bootstrap = [True,False]\n",
    "\n",
    "# param_grid = {'n_estimators': n_estimators,\n",
    "# 'max_features': max_features,\n",
    "# 'max_depth': max_depth,\n",
    "# 'min_samples_split': min_samples_split,\n",
    "# 'min_samples_leaf': min_samples_leaf,\n",
    "# 'bootstrap': bootstrap}\n",
    "\n",
    "# gs = GridSearchCV(rfc, param_grid, cv = 3, verbose = 1, n_jobs=-1)\n",
    "# gs.fit(X_train, y_train)\n",
    "# rfc_2 = gs.best_estimator_\n",
    "# gs.best_params_"
   ]
  },
  {
   "cell_type": "code",
   "execution_count": 24,
   "id": "553aa3d0",
   "metadata": {},
   "outputs": [],
   "source": [
    "# y_pred_gs = rfc_2.predict(X_test)"
   ]
  },
  {
   "cell_type": "code",
   "execution_count": 26,
   "id": "1c1f725b",
   "metadata": {},
   "outputs": [
    {
     "name": "stdout",
     "output_type": "stream",
     "text": [
      "[[106  15]\n",
      " [ 26  96]]\n",
      "              precision    recall  f1-score   support\n",
      "\n",
      "           0       0.80      0.88      0.84       121\n",
      "           1       0.86      0.79      0.82       122\n",
      "\n",
      "    accuracy                           0.83       243\n",
      "   macro avg       0.83      0.83      0.83       243\n",
      "weighted avg       0.83      0.83      0.83       243\n",
      "\n"
     ]
    },
    {
     "data": {
      "image/png": "[encoded data removed]",
      "text/plain": [
       "<Figure size 640x480 with 2 Axes>"
      ]
     },
     "metadata": {},
     "output_type": "display_data"
    }
   ],
   "source": [
    "# from sklearn.metrics import confusion_matrix                            \n",
    "\n",
    "\n",
    "# cf_matrix = confusion_matrix(y_test, y_pred_gs)\n",
    "# print(cf_matrix)\n",
    "\n",
    "# sns.set(font_scale=1)\n",
    "# sns.heatmap(cf_matrix, annot=True, fmt='.3g',\n",
    "#            vmin=0, vmax=122, center= 0,\n",
    "#            cmap= 'coolwarm', linewidths=2, linecolor='black',\n",
    "#            xticklabels=['low','high'],\n",
    "#            yticklabels=['low','high']).set(title='Predicted vs. True GDM incidence, SkySat 2021 (SB)');\n",
    "\n",
    "# plt.ylabel('True')\n",
    "# plt.xlabel('Predicted')\n",
    "# plt.tight_layout()\n",
    "\n",
    "# plt.savefig('/Users/kathleenkanaley/Desktop/figs_phytopath_rev/corr_matrices_RF/SkySat/SB/Inc_2021.jpg')\n",
    "# report = classification_report(y_test, y_pred_gs)\n",
    "\n",
    "# print(report)\n",
    "# # conf_matrix_tuned = pd.DataFrame(confusion_matrix(y_test, y_pred_gs),\n",
    "# #         index = [np.unique(y_pred)[0],np.unique(y_pred)[1]], columns = [np.unique(y_pred)[0],np.unique(y_pred)[1]])\n",
    "                                                         \n",
    "# # display(conf_matrix_tuned)\n",
    "# # display('Hyperparameter Tuned Random Forest accuracy score', accuracy_score(y_test, y_pred_gs))"
   ]
  },
  {
   "cell_type": "code",
   "execution_count": 27,
   "id": "8542b145",
   "metadata": {},
   "outputs": [
    {
     "data": {
      "image/png": "[encoded data removed]",
      "text/plain": [
       "<Figure size 640x480 with 1 Axes>"
      ]
     },
     "metadata": {},
     "output_type": "display_data"
    }
   ],
   "source": [
    "# from sklearn.inspection import permutation_importance\n",
    "\n",
    "# result = permutation_importance(\n",
    "#     rfc_2, X_test, y_test, n_repeats=10, random_state=16, n_jobs=2\n",
    "# )\n",
    "\n",
    "# sorted_importances_idx = result.importances_mean.argsort()\n",
    "\n",
    "# importances = pd.DataFrame(\n",
    "#     result.importances[sorted_importances_idx].T,\n",
    "#     columns=data_2021[sbs].columns[sorted_importances_idx],\n",
    "# )\n",
    "# ax = importances.plot.box(vert=False, whis=10)\n",
    "# ax.set_title(\"Permutation Importances (test set)\",fontname=\"Arial\", fontsize=16)\n",
    "# #ax.axvline(x=0, color=\"k\", linestyle=\"--\")\n",
    "# ax.set_xlabel(\"Decrease in accuracy score\",fontname=\"Arial\", fontsize = 16)\n",
    "# ax.set_ylabel(\"Features\",fontname=\"Arial\", fontsize = 16)\n",
    "\n",
    "# ax.figure.tight_layout()\n",
    "# plt.savefig('/Users/kathleenkanaley/Desktop/figs_phytopath_rev/permimp_RF/SkySat/SB/permimp_inc21.jpg')"
   ]
  },
  {
   "cell_type": "markdown",
   "id": "b997ec2c",
   "metadata": {},
   "source": [
    "## 2022"
   ]
  },
  {
   "cell_type": "code",
   "execution_count": 29,
   "id": "960f79fc",
   "metadata": {},
   "outputs": [],
   "source": [
    "# X_train, y_train, X_test, y_test = bal_split_norm(data_2022,\n",
    "#                                                   sbs, \n",
    "#                                                  inc,\n",
    "#                                                  2020,\n",
    "#                                                  14)"
   ]
  },
  {
   "cell_type": "code",
   "execution_count": 30,
   "id": "13e25f32",
   "metadata": {},
   "outputs": [],
   "source": [
    "# # Create dictionary of parameters to test with randomizedCV\n",
    "\n",
    "# from sklearn.model_selection import RandomizedSearchCV\n",
    "\n",
    "# n_estimators = [int(x) for x in np.linspace(start = 100, stop = 1000,\n",
    "# num = 10)]\n",
    "# max_features = ['log2', 'sqrt']\n",
    "# max_depth = [int(x) for x in np.linspace(start = 1, stop = 15, num =\n",
    "# 15)]\n",
    "# min_samples_split = [int(x) for x in np.linspace(start = 2, stop = 50,\n",
    "# num = 10)]\n",
    "# min_samples_leaf = [int(x) for x in np.linspace(start = 1, stop = 50,\n",
    "# num = 5)]\n",
    "# bootstrap = [True, False]\n",
    "# param_dist = {'n_estimators': n_estimators,\n",
    "# 'max_features': max_features,\n",
    "# 'max_depth': max_depth,\n",
    "# 'min_samples_split': min_samples_split,\n",
    "# 'min_samples_leaf': min_samples_leaf,\n",
    "# 'bootstrap': bootstrap}"
   ]
  },
  {
   "cell_type": "code",
   "execution_count": 31,
   "id": "750e394e",
   "metadata": {},
   "outputs": [
    {
     "name": "stdout",
     "output_type": "stream",
     "text": [
      "Fitting 3 folds for each of 100 candidates, totalling 300 fits\n"
     ]
    },
    {
     "data": {
      "text/plain": [
       "{'n_estimators': 600,\n",
       " 'min_samples_split': 23,\n",
       " 'min_samples_leaf': 37,\n",
       " 'max_features': 'sqrt',\n",
       " 'max_depth': 10,\n",
       " 'bootstrap': True}"
      ]
     },
     "execution_count": 31,
     "metadata": {},
     "output_type": "execute_result"
    }
   ],
   "source": [
    "# rfc = RandomForestClassifier()\n",
    "# rs = RandomizedSearchCV(rfc,\n",
    "# param_dist,\n",
    "# n_iter = 100,\n",
    "# scoring = 'f1',\n",
    "# cv = 3,\n",
    "# verbose = 1,\n",
    "# n_jobs=-1,\n",
    "# random_state=0)\n",
    "\n",
    "# rs.fit(X_train, y_train)\n",
    "# rs.best_params_"
   ]
  },
  {
   "cell_type": "code",
   "execution_count": 32,
   "id": "ed3855f7",
   "metadata": {},
   "outputs": [
    {
     "data": {
      "text/html": [
       "<div>\n",
       "<style scoped>\n",
       "    .dataframe tbody tr th:only-of-type {\n",
       "        vertical-align: middle;\n",
       "    }\n",
       "\n",
       "    .dataframe tbody tr th {\n",
       "        vertical-align: top;\n",
       "    }\n",
       "\n",
       "    .dataframe thead th {\n",
       "        text-align: right;\n",
       "    }\n",
       "</style>\n",
       "<table border=\"1\" class=\"dataframe\">\n",
       "  <thead>\n",
       "    <tr style=\"text-align: right;\">\n",
       "      <th></th>\n",
       "      <th>param_n_estimators</th>\n",
       "      <th>param_min_samples_split</th>\n",
       "      <th>param_min_samples_leaf</th>\n",
       "      <th>param_max_features</th>\n",
       "      <th>param_max_depth</th>\n",
       "      <th>param_bootstrap</th>\n",
       "      <th>mean_test_score</th>\n",
       "      <th>rank_test_score</th>\n",
       "    </tr>\n",
       "  </thead>\n",
       "  <tbody>\n",
       "    <tr>\n",
       "      <th>0</th>\n",
       "      <td>900</td>\n",
       "      <td>2</td>\n",
       "      <td>13</td>\n",
       "      <td>log2</td>\n",
       "      <td>8</td>\n",
       "      <td>True</td>\n",
       "      <td>0.666667</td>\n",
       "      <td>1</td>\n",
       "    </tr>\n",
       "    <tr>\n",
       "      <th>1</th>\n",
       "      <td>600</td>\n",
       "      <td>23</td>\n",
       "      <td>37</td>\n",
       "      <td>sqrt</td>\n",
       "      <td>10</td>\n",
       "      <td>True</td>\n",
       "      <td>0.666667</td>\n",
       "      <td>1</td>\n",
       "    </tr>\n",
       "    <tr>\n",
       "      <th>2</th>\n",
       "      <td>200</td>\n",
       "      <td>39</td>\n",
       "      <td>37</td>\n",
       "      <td>sqrt</td>\n",
       "      <td>2</td>\n",
       "      <td>True</td>\n",
       "      <td>0.666667</td>\n",
       "      <td>1</td>\n",
       "    </tr>\n",
       "    <tr>\n",
       "      <th>3</th>\n",
       "      <td>400</td>\n",
       "      <td>12</td>\n",
       "      <td>13</td>\n",
       "      <td>log2</td>\n",
       "      <td>14</td>\n",
       "      <td>True</td>\n",
       "      <td>0.666667</td>\n",
       "      <td>1</td>\n",
       "    </tr>\n",
       "    <tr>\n",
       "      <th>4</th>\n",
       "      <td>100</td>\n",
       "      <td>34</td>\n",
       "      <td>1</td>\n",
       "      <td>sqrt</td>\n",
       "      <td>4</td>\n",
       "      <td>True</td>\n",
       "      <td>0.666667</td>\n",
       "      <td>1</td>\n",
       "    </tr>\n",
       "    <tr>\n",
       "      <th>5</th>\n",
       "      <td>700</td>\n",
       "      <td>50</td>\n",
       "      <td>50</td>\n",
       "      <td>log2</td>\n",
       "      <td>3</td>\n",
       "      <td>True</td>\n",
       "      <td>0.666667</td>\n",
       "      <td>1</td>\n",
       "    </tr>\n",
       "    <tr>\n",
       "      <th>6</th>\n",
       "      <td>600</td>\n",
       "      <td>28</td>\n",
       "      <td>25</td>\n",
       "      <td>sqrt</td>\n",
       "      <td>1</td>\n",
       "      <td>True</td>\n",
       "      <td>0.666667</td>\n",
       "      <td>1</td>\n",
       "    </tr>\n",
       "    <tr>\n",
       "      <th>7</th>\n",
       "      <td>300</td>\n",
       "      <td>39</td>\n",
       "      <td>37</td>\n",
       "      <td>log2</td>\n",
       "      <td>13</td>\n",
       "      <td>True</td>\n",
       "      <td>0.666667</td>\n",
       "      <td>1</td>\n",
       "    </tr>\n",
       "    <tr>\n",
       "      <th>8</th>\n",
       "      <td>800</td>\n",
       "      <td>50</td>\n",
       "      <td>25</td>\n",
       "      <td>sqrt</td>\n",
       "      <td>1</td>\n",
       "      <td>True</td>\n",
       "      <td>0.666667</td>\n",
       "      <td>1</td>\n",
       "    </tr>\n",
       "    <tr>\n",
       "      <th>9</th>\n",
       "      <td>700</td>\n",
       "      <td>7</td>\n",
       "      <td>13</td>\n",
       "      <td>log2</td>\n",
       "      <td>15</td>\n",
       "      <td>True</td>\n",
       "      <td>0.666667</td>\n",
       "      <td>1</td>\n",
       "    </tr>\n",
       "  </tbody>\n",
       "</table>\n",
       "</div>"
      ],
      "text/plain": [
       "  param_n_estimators param_min_samples_split param_min_samples_leaf  \\\n",
       "0                900                       2                     13   \n",
       "1                600                      23                     37   \n",
       "2                200                      39                     37   \n",
       "3                400                      12                     13   \n",
       "4                100                      34                      1   \n",
       "5                700                      50                     50   \n",
       "6                600                      28                     25   \n",
       "7                300                      39                     37   \n",
       "8                800                      50                     25   \n",
       "9                700                       7                     13   \n",
       "\n",
       "  param_max_features param_max_depth param_bootstrap  mean_test_score  \\\n",
       "0               log2               8            True         0.666667   \n",
       "1               sqrt              10            True         0.666667   \n",
       "2               sqrt               2            True         0.666667   \n",
       "3               log2              14            True         0.666667   \n",
       "4               sqrt               4            True         0.666667   \n",
       "5               log2               3            True         0.666667   \n",
       "6               sqrt               1            True         0.666667   \n",
       "7               log2              13            True         0.666667   \n",
       "8               sqrt               1            True         0.666667   \n",
       "9               log2              15            True         0.666667   \n",
       "\n",
       "   rank_test_score  \n",
       "0                1  \n",
       "1                1  \n",
       "2                1  \n",
       "3                1  \n",
       "4                1  \n",
       "5                1  \n",
       "6                1  \n",
       "7                1  \n",
       "8                1  \n",
       "9                1  "
      ]
     },
     "execution_count": 32,
     "metadata": {},
     "output_type": "execute_result"
    }
   ],
   "source": [
    "# rs_df = pd.DataFrame(rs.cv_results_).sort_values('rank_test_score').reset_index(drop=True)\n",
    "# rs_df = rs_df.drop([\n",
    "# 'mean_fit_time',\n",
    "# 'std_fit_time',\n",
    "# 'mean_score_time',\n",
    "# 'std_score_time',\n",
    "# 'params',\n",
    "# 'split0_test_score',\n",
    "# 'split1_test_score',\n",
    "# 'split2_test_score',\n",
    "# 'std_test_score'],\n",
    "# axis=1)\n",
    "\n",
    "# rs_df.head(10)"
   ]
  },
  {
   "cell_type": "code",
   "execution_count": 33,
   "id": "ed6abc8e",
   "metadata": {},
   "outputs": [
    {
     "name": "stdout",
     "output_type": "stream",
     "text": [
      "Fitting 3 folds for each of 960 candidates, totalling 2880 fits\n"
     ]
    },
    {
     "data": {
      "text/plain": [
       "{'bootstrap': True,\n",
       " 'max_depth': 3,\n",
       " 'max_features': 'sqrt',\n",
       " 'min_samples_leaf': 1,\n",
       " 'min_samples_split': 2,\n",
       " 'n_estimators': 200}"
      ]
     },
     "execution_count": 33,
     "metadata": {},
     "output_type": "execute_result"
    }
   ],
   "source": [
    "# from sklearn.model_selection import GridSearchCV\n",
    "# n_estimators = [100,200,400,600,900]\n",
    "# max_features = ['sqrt','log2']\n",
    "# max_depth = [3,8,10,14]\n",
    "# min_samples_split = [2,12,23,39]\n",
    "# min_samples_leaf = [1,37,13]\n",
    "# bootstrap = [True,False]\n",
    "\n",
    "# param_grid = {'n_estimators': n_estimators,\n",
    "# 'max_features': max_features,\n",
    "# 'max_depth': max_depth,\n",
    "# 'min_samples_split': min_samples_split,\n",
    "# 'min_samples_leaf': min_samples_leaf,\n",
    "# 'bootstrap': bootstrap}\n",
    "\n",
    "# gs = GridSearchCV(rfc, param_grid, cv = 3, verbose = 1, n_jobs=-1)\n",
    "# gs.fit(X_train, y_train)\n",
    "# rfc_2 = gs.best_estimator_\n",
    "# gs.best_params_"
   ]
  },
  {
   "cell_type": "code",
   "execution_count": 34,
   "id": "09754765",
   "metadata": {},
   "outputs": [],
   "source": [
    "# y_pred_gs = rfc_2.predict(X_test)"
   ]
  },
  {
   "cell_type": "code",
   "execution_count": 35,
   "id": "f4b4f285",
   "metadata": {},
   "outputs": [
    {
     "name": "stdout",
     "output_type": "stream",
     "text": [
      "[[7 1]\n",
      " [5 3]]\n",
      "              precision    recall  f1-score   support\n",
      "\n",
      "           0       0.58      0.88      0.70         8\n",
      "           1       0.75      0.38      0.50         8\n",
      "\n",
      "    accuracy                           0.62        16\n",
      "   macro avg       0.67      0.62      0.60        16\n",
      "weighted avg       0.67      0.62      0.60        16\n",
      "\n"
     ]
    },
    {
     "data": {
      "image/png": "[encoded data removed]",
      "text/plain": [
       "<Figure size 640x480 with 2 Axes>"
      ]
     },
     "metadata": {},
     "output_type": "display_data"
    }
   ],
   "source": [
    "# from sklearn.metrics import confusion_matrix                            \n",
    "\n",
    "\n",
    "# cf_matrix = confusion_matrix(y_test, y_pred_gs)\n",
    "# print(cf_matrix)\n",
    "\n",
    "# sns.set(font_scale=1)\n",
    "# sns.heatmap(cf_matrix, annot=True, fmt='.3g',\n",
    "#            vmin=0, vmax=8, center= 0,\n",
    "#            cmap= 'coolwarm', linewidths=2, linecolor='black',\n",
    "#            xticklabels=['low','high'],\n",
    "#            yticklabels=['low','high']).set(title='Predicted vs. True GDM incidence, SkySat 2022 (SB)');\n",
    "\n",
    "# plt.ylabel('True')\n",
    "# plt.xlabel('Predicted')\n",
    "# plt.tight_layout()\n",
    "\n",
    "# plt.savefig('/Users/kathleenkanaley/Desktop/figs_phytopath_rev/corr_matrices_RF/SkySat/SB/Inc_2022.jpg')\n",
    "# report = classification_report(y_test, y_pred_gs)\n",
    "\n",
    "# print(report)\n",
    "# # conf_matrix_tuned = pd.DataFrame(confusion_matrix(y_test, y_pred_gs),\n",
    "# #         index = [np.unique(y_pred)[0],np.unique(y_pred)[1]], columns = [np.unique(y_pred)[0],np.unique(y_pred)[1]])\n",
    "                                                         \n",
    "# # display(conf_matrix_tuned)\n",
    "# # display('Hyperparameter Tuned Random Forest accuracy score', accuracy_score(y_test, y_pred_gs))"
   ]
  },
  {
   "cell_type": "code",
   "execution_count": 36,
   "id": "01d64a02",
   "metadata": {},
   "outputs": [
    {
     "data": {
      "image/png": "[encoded data removed]",
      "text/plain": [
       "<Figure size 640x480 with 1 Axes>"
      ]
     },
     "metadata": {},
     "output_type": "display_data"
    }
   ],
   "source": [
    "# from sklearn.inspection import permutation_importance\n",
    "\n",
    "# result = permutation_importance(\n",
    "#     rfc_2, X_test, y_test, n_repeats=10, random_state=16, n_jobs=2\n",
    "# )\n",
    "\n",
    "# sorted_importances_idx = result.importances_mean.argsort()\n",
    "\n",
    "# importances = pd.DataFrame(\n",
    "#     result.importances[sorted_importances_idx].T,\n",
    "#     columns=data_2022[sbs].columns[sorted_importances_idx],\n",
    "# )\n",
    "# ax = importances.plot.box(vert=False, whis=10)\n",
    "# ax.set_title(\"Permutation Importances (test set)\",fontname=\"Arial\", fontsize=16)\n",
    "# #ax.axvline(x=0, color=\"k\", linestyle=\"--\")\n",
    "# ax.set_xlabel(\"Decrease in accuracy score\",fontname=\"Arial\", fontsize = 16)\n",
    "# ax.set_ylabel(\"Features\",fontname=\"Arial\", fontsize = 16)\n",
    "\n",
    "# ax.figure.tight_layout()\n",
    "# plt.savefig('/Users/kathleenkanaley/Desktop/figs_phytopath_rev/permimp_RF/SkySat/SB/permimp_inc22.jpg')"
   ]
  },
  {
   "cell_type": "markdown",
   "id": "fe43c447",
   "metadata": {},
   "source": [
    "## All years"
   ]
  },
  {
   "cell_type": "code",
   "execution_count": 37,
   "id": "f257b59e",
   "metadata": {},
   "outputs": [],
   "source": [
    "X_train, y_train, X_test, y_test = bal_split_norm(data_all,\n",
    "                                                  sbs, #convert string to list\n",
    "                                                 inc,\n",
    "                                                 2020,\n",
    "                                                 14)"
   ]
  },
  {
   "cell_type": "code",
   "execution_count": 38,
   "id": "50044cd4",
   "metadata": {},
   "outputs": [],
   "source": [
    "# Create dictionary of parameters to test with randomizedCV\n",
    "\n",
    "from sklearn.model_selection import RandomizedSearchCV\n",
    "\n",
    "n_estimators = [int(x) for x in np.linspace(start = 100, stop = 1000,\n",
    "num = 10)]\n",
    "max_features = ['log2', 'sqrt']\n",
    "max_depth = [int(x) for x in np.linspace(start = 1, stop = 15, num =\n",
    "15)]\n",
    "min_samples_split = [int(x) for x in np.linspace(start = 2, stop = 50,\n",
    "num = 10)]\n",
    "min_samples_leaf = [int(x) for x in np.linspace(start = 1, stop = 50,\n",
    "num = 5)]\n",
    "bootstrap = [True, False]\n",
    "param_dist = {'n_estimators': n_estimators,\n",
    "'max_features': max_features,\n",
    "'max_depth': max_depth,\n",
    "'min_samples_split': min_samples_split,\n",
    "'min_samples_leaf': min_samples_leaf,\n",
    "'bootstrap': bootstrap}"
   ]
  },
  {
   "cell_type": "code",
   "execution_count": 39,
   "id": "5e47a865",
   "metadata": {},
   "outputs": [
    {
     "name": "stdout",
     "output_type": "stream",
     "text": [
      "Fitting 3 folds for each of 100 candidates, totalling 300 fits\n"
     ]
    },
    {
     "data": {
      "text/plain": [
       "{'n_estimators': 700,\n",
       " 'min_samples_split': 18,\n",
       " 'min_samples_leaf': 1,\n",
       " 'max_features': 'log2',\n",
       " 'max_depth': 7,\n",
       " 'bootstrap': True}"
      ]
     },
     "execution_count": 39,
     "metadata": {},
     "output_type": "execute_result"
    }
   ],
   "source": [
    "rfc = RandomForestClassifier()\n",
    "rs = RandomizedSearchCV(rfc,\n",
    "param_dist,\n",
    "n_iter = 100,\n",
    "scoring = 'f1',\n",
    "cv = 3,\n",
    "verbose = 1,\n",
    "n_jobs=-1,\n",
    "random_state=0)\n",
    "\n",
    "rs.fit(X_train, y_train)\n",
    "rs.best_params_"
   ]
  },
  {
   "cell_type": "code",
   "execution_count": 40,
   "id": "39f69783",
   "metadata": {},
   "outputs": [
    {
     "data": {
      "text/html": [
       "<div>\n",
       "<style scoped>\n",
       "    .dataframe tbody tr th:only-of-type {\n",
       "        vertical-align: middle;\n",
       "    }\n",
       "\n",
       "    .dataframe tbody tr th {\n",
       "        vertical-align: top;\n",
       "    }\n",
       "\n",
       "    .dataframe thead th {\n",
       "        text-align: right;\n",
       "    }\n",
       "</style>\n",
       "<table border=\"1\" class=\"dataframe\">\n",
       "  <thead>\n",
       "    <tr style=\"text-align: right;\">\n",
       "      <th></th>\n",
       "      <th>param_n_estimators</th>\n",
       "      <th>param_min_samples_split</th>\n",
       "      <th>param_min_samples_leaf</th>\n",
       "      <th>param_max_features</th>\n",
       "      <th>param_max_depth</th>\n",
       "      <th>param_bootstrap</th>\n",
       "      <th>mean_test_score</th>\n",
       "      <th>rank_test_score</th>\n",
       "    </tr>\n",
       "  </thead>\n",
       "  <tbody>\n",
       "    <tr>\n",
       "      <th>0</th>\n",
       "      <td>700</td>\n",
       "      <td>18</td>\n",
       "      <td>1</td>\n",
       "      <td>log2</td>\n",
       "      <td>7</td>\n",
       "      <td>True</td>\n",
       "      <td>0.814720</td>\n",
       "      <td>1</td>\n",
       "    </tr>\n",
       "    <tr>\n",
       "      <th>1</th>\n",
       "      <td>200</td>\n",
       "      <td>12</td>\n",
       "      <td>1</td>\n",
       "      <td>log2</td>\n",
       "      <td>7</td>\n",
       "      <td>True</td>\n",
       "      <td>0.808123</td>\n",
       "      <td>2</td>\n",
       "    </tr>\n",
       "    <tr>\n",
       "      <th>2</th>\n",
       "      <td>1000</td>\n",
       "      <td>7</td>\n",
       "      <td>13</td>\n",
       "      <td>log2</td>\n",
       "      <td>7</td>\n",
       "      <td>False</td>\n",
       "      <td>0.805482</td>\n",
       "      <td>3</td>\n",
       "    </tr>\n",
       "    <tr>\n",
       "      <th>3</th>\n",
       "      <td>300</td>\n",
       "      <td>28</td>\n",
       "      <td>13</td>\n",
       "      <td>log2</td>\n",
       "      <td>10</td>\n",
       "      <td>False</td>\n",
       "      <td>0.803501</td>\n",
       "      <td>4</td>\n",
       "    </tr>\n",
       "    <tr>\n",
       "      <th>4</th>\n",
       "      <td>800</td>\n",
       "      <td>23</td>\n",
       "      <td>13</td>\n",
       "      <td>sqrt</td>\n",
       "      <td>14</td>\n",
       "      <td>False</td>\n",
       "      <td>0.802963</td>\n",
       "      <td>5</td>\n",
       "    </tr>\n",
       "    <tr>\n",
       "      <th>5</th>\n",
       "      <td>600</td>\n",
       "      <td>2</td>\n",
       "      <td>13</td>\n",
       "      <td>sqrt</td>\n",
       "      <td>9</td>\n",
       "      <td>False</td>\n",
       "      <td>0.802877</td>\n",
       "      <td>6</td>\n",
       "    </tr>\n",
       "    <tr>\n",
       "      <th>6</th>\n",
       "      <td>300</td>\n",
       "      <td>34</td>\n",
       "      <td>1</td>\n",
       "      <td>log2</td>\n",
       "      <td>14</td>\n",
       "      <td>True</td>\n",
       "      <td>0.800888</td>\n",
       "      <td>7</td>\n",
       "    </tr>\n",
       "    <tr>\n",
       "      <th>7</th>\n",
       "      <td>200</td>\n",
       "      <td>39</td>\n",
       "      <td>1</td>\n",
       "      <td>log2</td>\n",
       "      <td>9</td>\n",
       "      <td>False</td>\n",
       "      <td>0.800623</td>\n",
       "      <td>8</td>\n",
       "    </tr>\n",
       "    <tr>\n",
       "      <th>8</th>\n",
       "      <td>600</td>\n",
       "      <td>44</td>\n",
       "      <td>1</td>\n",
       "      <td>sqrt</td>\n",
       "      <td>14</td>\n",
       "      <td>False</td>\n",
       "      <td>0.800409</td>\n",
       "      <td>9</td>\n",
       "    </tr>\n",
       "    <tr>\n",
       "      <th>9</th>\n",
       "      <td>500</td>\n",
       "      <td>18</td>\n",
       "      <td>13</td>\n",
       "      <td>sqrt</td>\n",
       "      <td>9</td>\n",
       "      <td>False</td>\n",
       "      <td>0.800208</td>\n",
       "      <td>10</td>\n",
       "    </tr>\n",
       "  </tbody>\n",
       "</table>\n",
       "</div>"
      ],
      "text/plain": [
       "  param_n_estimators param_min_samples_split param_min_samples_leaf  \\\n",
       "0                700                      18                      1   \n",
       "1                200                      12                      1   \n",
       "2               1000                       7                     13   \n",
       "3                300                      28                     13   \n",
       "4                800                      23                     13   \n",
       "5                600                       2                     13   \n",
       "6                300                      34                      1   \n",
       "7                200                      39                      1   \n",
       "8                600                      44                      1   \n",
       "9                500                      18                     13   \n",
       "\n",
       "  param_max_features param_max_depth param_bootstrap  mean_test_score  \\\n",
       "0               log2               7            True         0.814720   \n",
       "1               log2               7            True         0.808123   \n",
       "2               log2               7           False         0.805482   \n",
       "3               log2              10           False         0.803501   \n",
       "4               sqrt              14           False         0.802963   \n",
       "5               sqrt               9           False         0.802877   \n",
       "6               log2              14            True         0.800888   \n",
       "7               log2               9           False         0.800623   \n",
       "8               sqrt              14           False         0.800409   \n",
       "9               sqrt               9           False         0.800208   \n",
       "\n",
       "   rank_test_score  \n",
       "0                1  \n",
       "1                2  \n",
       "2                3  \n",
       "3                4  \n",
       "4                5  \n",
       "5                6  \n",
       "6                7  \n",
       "7                8  \n",
       "8                9  \n",
       "9               10  "
      ]
     },
     "execution_count": 40,
     "metadata": {},
     "output_type": "execute_result"
    }
   ],
   "source": [
    "rs_df = pd.DataFrame(rs.cv_results_).sort_values('rank_test_score').reset_index(drop=True)\n",
    "rs_df = rs_df.drop([\n",
    "'mean_fit_time',\n",
    "'std_fit_time',\n",
    "'mean_score_time',\n",
    "'std_score_time',\n",
    "'params',\n",
    "'split0_test_score',\n",
    "'split1_test_score',\n",
    "'split2_test_score',\n",
    "'std_test_score'],\n",
    "axis=1)\n",
    "\n",
    "rs_df.head(10)"
   ]
  },
  {
   "cell_type": "code",
   "execution_count": 41,
   "id": "9913c22e",
   "metadata": {},
   "outputs": [
    {
     "name": "stdout",
     "output_type": "stream",
     "text": [
      "Fitting 3 folds for each of 480 candidates, totalling 1440 fits\n"
     ]
    },
    {
     "data": {
      "text/plain": [
       "{'bootstrap': True,\n",
       " 'max_depth': 10,\n",
       " 'max_features': 'log2',\n",
       " 'min_samples_leaf': 1,\n",
       " 'min_samples_split': 18,\n",
       " 'n_estimators': 300}"
      ]
     },
     "execution_count": 41,
     "metadata": {},
     "output_type": "execute_result"
    }
   ],
   "source": [
    "from sklearn.model_selection import GridSearchCV\n",
    "n_estimators = [100,200,300,700]\n",
    "max_features = ['sqrt','log2']\n",
    "max_depth = [3,7,10]\n",
    "min_samples_split = [2,7,12,18,28]\n",
    "min_samples_leaf = [1,13]\n",
    "bootstrap = [True,False]\n",
    "\n",
    "param_grid = {'n_estimators': n_estimators,\n",
    "'max_features': max_features,\n",
    "'max_depth': max_depth,\n",
    "'min_samples_split': min_samples_split,\n",
    "'min_samples_leaf': min_samples_leaf,\n",
    "'bootstrap': bootstrap}\n",
    "\n",
    "gs = GridSearchCV(rfc, param_grid, cv = 3, verbose = 1, n_jobs=-1)\n",
    "gs.fit(X_train, y_train)\n",
    "rfc_2 = gs.best_estimator_\n",
    "gs.best_params_"
   ]
  },
  {
   "cell_type": "code",
   "execution_count": 42,
   "id": "4763ae15",
   "metadata": {},
   "outputs": [],
   "source": [
    "y_pred_gs = rfc_2.predict(X_test)"
   ]
  },
  {
   "cell_type": "code",
   "execution_count": 43,
   "id": "d35366bb",
   "metadata": {},
   "outputs": [
    {
     "name": "stdout",
     "output_type": "stream",
     "text": [
      "[[143  21]\n",
      " [ 30 135]]\n",
      "              precision    recall  f1-score   support\n",
      "\n",
      "           0       0.83      0.87      0.85       164\n",
      "           1       0.87      0.82      0.84       165\n",
      "\n",
      "    accuracy                           0.84       329\n",
      "   macro avg       0.85      0.85      0.84       329\n",
      "weighted avg       0.85      0.84      0.84       329\n",
      "\n"
     ]
    },
    {
     "data": {
      "image/png": "[encoded data removed]",
      "text/plain": [
       "<Figure size 640x480 with 2 Axes>"
      ]
     },
     "metadata": {},
     "output_type": "display_data"
    }
   ],
   "source": [
    "from sklearn.metrics import confusion_matrix                            \n",
    "\n",
    "\n",
    "cf_matrix = confusion_matrix(y_test, y_pred_gs)\n",
    "print(cf_matrix)\n",
    "\n",
    "sns.set(font_scale=1)\n",
    "sns.heatmap(cf_matrix, annot=True, fmt='.3g',\n",
    "           vmin=0, vmax=165, center= 0,\n",
    "           cmap= 'coolwarm', linewidths=2, linecolor='black',\n",
    "           xticklabels=['low','high'],\n",
    "           yticklabels=['low','high']).set(title='Predicted vs. True GDM incidence, SkySat 2020-22 (SB)');\n",
    "\n",
    "plt.ylabel('True')\n",
    "plt.xlabel('Predicted')\n",
    "plt.tight_layout()\n",
    "\n",
    "plt.savefig('/Users/kathleenkanaley/Desktop/figs_phytopath_rev/corr_matrices_RF/SkySat/SB/Inc_all.jpg')\n",
    "report = classification_report(y_test, y_pred_gs)\n",
    "\n",
    "print(report)\n",
    "# conf_matrix_tuned = pd.DataFrame(confusion_matrix(y_test, y_pred_gs),\n",
    "#         index = [np.unique(y_pred)[0],np.unique(y_pred)[1]], columns = [np.unique(y_pred)[0],np.unique(y_pred)[1]])\n",
    "                                                         \n",
    "# display(conf_matrix_tuned)\n",
    "# display('Hyperparameter Tuned Random Forest accuracy score', accuracy_score(y_test, y_pred_gs))"
   ]
  },
  {
   "cell_type": "code",
   "execution_count": 44,
   "id": "77dc69a2",
   "metadata": {},
   "outputs": [
    {
     "data": {
      "image/png": "[encoded data removed]",
      "text/plain": [
       "<Figure size 640x480 with 1 Axes>"
      ]
     },
     "metadata": {},
     "output_type": "display_data"
    }
   ],
   "source": [
    "from sklearn.inspection import permutation_importance\n",
    "\n",
    "result = permutation_importance(\n",
    "    rfc_2, X_test, y_test, n_repeats=10, random_state=16, n_jobs=2\n",
    ")\n",
    "\n",
    "sorted_importances_idx = result.importances_mean.argsort()\n",
    "\n",
    "importances = pd.DataFrame(\n",
    "    result.importances[sorted_importances_idx].T,\n",
    "    columns=data_all[sbs].columns[sorted_importances_idx],\n",
    ")\n",
    "ax = importances.plot.box(vert=False, whis=10)\n",
    "ax.set_title(\"Permutation Importances (test set)\",fontname=\"Arial\", fontsize=16)\n",
    "#ax.axvline(x=0, color=\"k\", linestyle=\"--\")\n",
    "ax.set_xlabel(\"Decrease in accuracy score\",fontname=\"Arial\", fontsize = 16)\n",
    "ax.set_ylabel(\"Features\",fontname=\"Arial\", fontsize = 16)\n",
    "\n",
    "ax.figure.tight_layout()\n",
    "plt.savefig('/Users/kathleenkanaley/Desktop/figs_phytopath_rev/permimp_RF/SkySat/SB/permimp_incall.jpg')"
   ]
  },
  {
   "cell_type": "code",
   "execution_count": null,
   "id": "129352d3",
   "metadata": {},
   "outputs": [],
   "source": []
  }
 ],
 "metadata": {
  "kernelspec": {
   "display_name": "Python 3 (ipykernel)",
   "language": "python",
   "name": "python3"
  },
  "language_info": {
   "codemirror_mode": {
    "name": "ipython",
    "version": 3
   },
   "file_extension": ".py",
   "mimetype": "text/x-python",
   "name": "python",
   "nbconvert_exporter": "python",
   "pygments_lexer": "ipython3",
   "version": "3.10.6"
  }
 },
 "nbformat": 4,
 "nbformat_minor": 5
}
