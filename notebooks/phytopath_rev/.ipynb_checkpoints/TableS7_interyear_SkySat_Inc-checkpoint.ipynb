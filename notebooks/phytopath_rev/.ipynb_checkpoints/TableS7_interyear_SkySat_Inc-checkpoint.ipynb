{
 "cells": [
  {
   "cell_type": "code",
   "execution_count": 1,
   "id": "19fedb74",
   "metadata": {},
   "outputs": [],
   "source": [
    "import glob\n",
    "import os\n",
    "import matplotlib.pyplot as plt\n",
    "import pandas as pd\n",
    "import numpy as np\n",
    "import seaborn as sns\n",
    "import rasterio as rio\n",
    "\n",
    "import sklearn\n",
    "from sklearn.preprocessing import MinMaxScaler\n",
    "from sklearn.model_selection import train_test_split\n",
    "from sklearn.ensemble import RandomForestClassifier\n",
    "from sklearn.model_selection import cross_val_score\n",
    "from sklearn.model_selection import RepeatedStratifiedKFold\n",
    "from sklearn.metrics import classification_report \n",
    "from sklearn.metrics import accuracy_score\n",
    "from sklearn.metrics import precision_recall_fscore_support\n",
    "from sklearn.metrics import roc_auc_score\n",
    "from sklearn.metrics import confusion_matrix\n",
    "\n",
    "import imblearn as imb\n",
    "from imblearn.under_sampling import RandomUnderSampler\n",
    "\n",
    "import scipy\n",
    "import itertools\n",
    "import random\n",
    "import ast"
   ]
  },
  {
   "cell_type": "markdown",
   "id": "a010eab2",
   "metadata": {},
   "source": [
    "## Data prep"
   ]
  },
  {
   "cell_type": "code",
   "execution_count": 2,
   "id": "0510f78a",
   "metadata": {},
   "outputs": [],
   "source": [
    "# Open img-scout dfs\n",
    "\n",
    "data_dir = '/Users/kathleenkanaley/Desktop/grapes_from_space/data/'\n",
    "data_20 = pd.read_csv(data_dir +'img_scout_dfs/2020/smr_vis_skysat_scout_2020.csv').dropna()\n",
    "data_21 = pd.read_csv(data_dir +'img_scout_dfs/2021/smr_vis_skysat_scout_2021.csv').dropna()\n",
    "data_22 = pd.read_csv(data_dir +'img_scout_dfs/2022/smr_vis_skysat_scout_2022.csv').dropna()\n",
    "\n",
    "data_21 = data_21[data_21['Date']!='2021-08-03']\n",
    "data_20 = data_20[data_20['Date']!='2020-09-09']\n",
    "\n",
    "img_dfs = [data_20, data_21, data_22]\n",
    "#all_years = pd.concat(img_dfs)"
   ]
  },
  {
   "cell_type": "code",
   "execution_count": 3,
   "id": "f738b0cf",
   "metadata": {},
   "outputs": [],
   "source": [
    "prepped_dfs = []\n",
    "for df in img_dfs:\n",
    "    df = df.rename(columns={\"green_red\": \"grvi\"})\n",
    "    \n",
    "    # Create binary numeric label\n",
    "    # 0 = low GDM\n",
    "    # 1 = high GDM\n",
    "\n",
    "    df['GDM_sev']=0\n",
    "    df.loc[df['DM_severity'] > 10, 'GDM_sev'] =1\n",
    "    \n",
    "    df['GDM_inc']=0\n",
    "    df.loc[df['DM_inc'] > 25, 'GDM_inc'] = 1\n",
    "    prepped_dfs.append(df)"
   ]
  },
  {
   "cell_type": "code",
   "execution_count": 4,
   "id": "20255400",
   "metadata": {},
   "outputs": [],
   "source": [
    "# set up variables\n",
    "data_2022 = prepped_dfs[2]\n",
    "data_2021 = prepped_dfs[1]\n",
    "data_2020 = prepped_dfs[0]\n",
    "#data_all = pd.concat([data_2020,data_2021,data_2022])\n",
    "#sev = 'severity_class'\n",
    "inc = 'GDM_inc'\n",
    "sbs = ['blue','green','red','nir']\n"
   ]
  },
  {
   "cell_type": "code",
   "execution_count": 5,
   "id": "64e05782",
   "metadata": {},
   "outputs": [],
   "source": [
    "def data_prep(data, expl_vars, resp_var, state, seed):\n",
    "    X = data[expl_vars]\n",
    "    y = data[resp_var]\n",
    "\n",
    "    rus = RandomUnderSampler(random_state=state)\n",
    "    X_rus, y_rus = rus.fit_resample(X, y)\n",
    "\n",
    "    mm = MinMaxScaler()\n",
    "    X_scaled = mm.fit_transform(X_rus)\n",
    "    \n",
    "    return X_scaled, y_rus #features (scaled) and labels (unscaled)"
   ]
  },
  {
   "cell_type": "code",
   "execution_count": 6,
   "id": "9b9ee2c2",
   "metadata": {},
   "outputs": [],
   "source": [
    "# def bal_split_norm(data, expl_vars, resp_var, state, seed):\n",
    "#     X = data[expl_vars]\n",
    "#     y = data[resp_var]\n",
    "\n",
    "#     rus = RandomUnderSampler(random_state=state)\n",
    "#     X_rus, y_rus = rus.fit_resample(X, y)\n",
    "\n",
    "#     # Split dataset into training set and test set\n",
    "#     X_train, X_test, y_train, y_test = train_test_split(X_rus, y_rus,\n",
    "#                                                         test_size=0.3, \n",
    "#                                                         random_state=seed,\n",
    "#                                                         stratify = y_rus)  # 70% training and 30% test\n",
    "#     mm = MinMaxScaler()\n",
    "#     X_train_scaled = mm.fit_transform(X_train)\n",
    "#     X_test_scaled = mm.transform(X_test)\n",
    "    \n",
    "#     return X_train_scaled, y_train, X_test_scaled, y_test"
   ]
  },
  {
   "cell_type": "code",
   "execution_count": 7,
   "id": "b59ff0a9",
   "metadata": {},
   "outputs": [],
   "source": [
    "# training data\n",
    "\n",
    "Xtrain_2020,ytrain_2020 = data_prep(data_2020,sbs,inc,2020,14)\n",
    "\n",
    "\n",
    "Xtrain_2021,ytrain_2021 = data_prep(data_2021,sbs,inc,2021,14)\n",
    "\n",
    "\n",
    "Xtrain_2022,ytrain_2022 = data_prep(data_2022,sbs,inc,2022,14)"
   ]
  },
  {
   "cell_type": "code",
   "execution_count": 9,
   "id": "a1c8fa31",
   "metadata": {},
   "outputs": [],
   "source": [
    "# testing data\n",
    "\n",
    "mm=MinMaxScaler()\n",
    "\n",
    "Xtest_2020all = mm.fit_transform(data_2020[sbs])\n",
    "ytest_2020all = data_2020[inc].to_numpy().reshape(-1, 1)\n",
    "\n",
    "Xtest_2021all = mm.fit_transform(data_2021[sbs])\n",
    "ytest_2021all = data_2021[inc].to_numpy().reshape(-1, 1)\n",
    "\n",
    "Xtest_2022all = mm.fit_transform(data_2022[sbs])\n",
    "ytest_2022all = data_2022[inc].to_numpy().reshape(-1, 1)"
   ]
  },
  {
   "cell_type": "code",
   "execution_count": 10,
   "id": "2ad66f27",
   "metadata": {},
   "outputs": [],
   "source": [
    "# hyperparams\n",
    "\n",
    "hp_2020 = {'bootstrap': True,\n",
    " 'max_depth': 3,\n",
    " 'max_features': 'sqrt',\n",
    " 'min_samples_leaf': 1,\n",
    " 'min_samples_split': 34,\n",
    " 'n_estimators': 200}\n",
    "\n",
    "hp_2021 = {'bootstrap': True,\n",
    " 'max_depth': 7,\n",
    " 'max_features': 'sqrt',\n",
    " 'min_samples_leaf': 1,\n",
    " 'min_samples_split': 18,\n",
    " 'n_estimators': 100}\n",
    "\n",
    "hp_2022 = {'bootstrap': True,\n",
    " 'max_depth': 3,\n",
    " 'max_features': 'sqrt',\n",
    " 'min_samples_leaf': 1,\n",
    " 'min_samples_split': 2,\n",
    " 'n_estimators': 200}\n",
    "\n",
    "hp_all = {'bootstrap': True,\n",
    " 'max_depth': 10,\n",
    " 'max_features': 'log2',\n",
    " 'min_samples_leaf': 1,\n",
    " 'min_samples_split': 18,\n",
    " 'n_estimators': 300}"
   ]
  },
  {
   "cell_type": "code",
   "execution_count": 11,
   "id": "2c06dbc4",
   "metadata": {},
   "outputs": [],
   "source": [
    "# Create RF classifiers\n",
    "rfc_2020 = RandomForestClassifier().set_params(**hp_2020)\n",
    "rfc_2021 = RandomForestClassifier().set_params(**hp_2021)\n",
    "rfc_2022 = RandomForestClassifier().set_params(**hp_2022)"
   ]
  },
  {
   "cell_type": "code",
   "execution_count": 12,
   "id": "b98be9bd",
   "metadata": {},
   "outputs": [
    {
     "data": {
      "text/html": [
       "<style>#sk-container-id-1 {color: black;background-color: white;}#sk-container-id-1 pre{padding: 0;}#sk-container-id-1 div.sk-toggleable {background-color: white;}#sk-container-id-1 label.sk-toggleable__label {cursor: pointer;display: block;width: 100%;margin-bottom: 0;padding: 0.3em;box-sizing: border-box;text-align: center;}#sk-container-id-1 label.sk-toggleable__label-arrow:before {content: \"▸\";float: left;margin-right: 0.25em;color: #696969;}#sk-container-id-1 label.sk-toggleable__label-arrow:hover:before {color: black;}#sk-container-id-1 div.sk-estimator:hover label.sk-toggleable__label-arrow:before {color: black;}#sk-container-id-1 div.sk-toggleable__content {max-height: 0;max-width: 0;overflow: hidden;text-align: left;background-color: #f0f8ff;}#sk-container-id-1 div.sk-toggleable__content pre {margin: 0.2em;color: black;border-radius: 0.25em;background-color: #f0f8ff;}#sk-container-id-1 input.sk-toggleable__control:checked~div.sk-toggleable__content {max-height: 200px;max-width: 100%;overflow: auto;}#sk-container-id-1 input.sk-toggleable__control:checked~label.sk-toggleable__label-arrow:before {content: \"▾\";}#sk-container-id-1 div.sk-estimator input.sk-toggleable__control:checked~label.sk-toggleable__label {background-color: #d4ebff;}#sk-container-id-1 div.sk-label input.sk-toggleable__control:checked~label.sk-toggleable__label {background-color: #d4ebff;}#sk-container-id-1 input.sk-hidden--visually {border: 0;clip: rect(1px 1px 1px 1px);clip: rect(1px, 1px, 1px, 1px);height: 1px;margin: -1px;overflow: hidden;padding: 0;position: absolute;width: 1px;}#sk-container-id-1 div.sk-estimator {font-family: monospace;background-color: #f0f8ff;border: 1px dotted black;border-radius: 0.25em;box-sizing: border-box;margin-bottom: 0.5em;}#sk-container-id-1 div.sk-estimator:hover {background-color: #d4ebff;}#sk-container-id-1 div.sk-parallel-item::after {content: \"\";width: 100%;border-bottom: 1px solid gray;flex-grow: 1;}#sk-container-id-1 div.sk-label:hover label.sk-toggleable__label {background-color: #d4ebff;}#sk-container-id-1 div.sk-serial::before {content: \"\";position: absolute;border-left: 1px solid gray;box-sizing: border-box;top: 0;bottom: 0;left: 50%;z-index: 0;}#sk-container-id-1 div.sk-serial {display: flex;flex-direction: column;align-items: center;background-color: white;padding-right: 0.2em;padding-left: 0.2em;position: relative;}#sk-container-id-1 div.sk-item {position: relative;z-index: 1;}#sk-container-id-1 div.sk-parallel {display: flex;align-items: stretch;justify-content: center;background-color: white;position: relative;}#sk-container-id-1 div.sk-item::before, #sk-container-id-1 div.sk-parallel-item::before {content: \"\";position: absolute;border-left: 1px solid gray;box-sizing: border-box;top: 0;bottom: 0;left: 50%;z-index: -1;}#sk-container-id-1 div.sk-parallel-item {display: flex;flex-direction: column;z-index: 1;position: relative;background-color: white;}#sk-container-id-1 div.sk-parallel-item:first-child::after {align-self: flex-end;width: 50%;}#sk-container-id-1 div.sk-parallel-item:last-child::after {align-self: flex-start;width: 50%;}#sk-container-id-1 div.sk-parallel-item:only-child::after {width: 0;}#sk-container-id-1 div.sk-dashed-wrapped {border: 1px dashed gray;margin: 0 0.4em 0.5em 0.4em;box-sizing: border-box;padding-bottom: 0.4em;background-color: white;}#sk-container-id-1 div.sk-label label {font-family: monospace;font-weight: bold;display: inline-block;line-height: 1.2em;}#sk-container-id-1 div.sk-label-container {text-align: center;}#sk-container-id-1 div.sk-container {/* jupyter's `normalize.less` sets `[hidden] { display: none; }` but bootstrap.min.css set `[hidden] { display: none !important; }` so we also need the `!important` here to be able to override the default hidden behavior on the sphinx rendered scikit-learn.org. See: https://github.com/scikit-learn/scikit-learn/issues/21755 */display: inline-block !important;position: relative;}#sk-container-id-1 div.sk-text-repr-fallback {display: none;}</style><div id=\"sk-container-id-1\" class=\"sk-top-container\"><div class=\"sk-text-repr-fallback\"><pre>RandomForestClassifier(max_depth=3, n_estimators=200)</pre><b>In a Jupyter environment, please rerun this cell to show the HTML representation or trust the notebook. <br />On GitHub, the HTML representation is unable to render, please try loading this page with nbviewer.org.</b></div><div class=\"sk-container\" hidden><div class=\"sk-item\"><div class=\"sk-estimator sk-toggleable\"><input class=\"sk-toggleable__control sk-hidden--visually\" id=\"sk-estimator-id-1\" type=\"checkbox\" checked><label for=\"sk-estimator-id-1\" class=\"sk-toggleable__label sk-toggleable__label-arrow\">RandomForestClassifier</label><div class=\"sk-toggleable__content\"><pre>RandomForestClassifier(max_depth=3, n_estimators=200)</pre></div></div></div></div></div>"
      ],
      "text/plain": [
       "RandomForestClassifier(max_depth=3, n_estimators=200)"
      ]
     },
     "execution_count": 12,
     "metadata": {},
     "output_type": "execute_result"
    }
   ],
   "source": [
    "# Fit RF classifiers\n",
    "rfc_2020.fit(Xtrain_2020, ytrain_2020)\n",
    "rfc_2021.fit(Xtrain_2021, ytrain_2021)\n",
    "rfc_2022.fit(Xtrain_2022, ytrain_2022)"
   ]
  },
  {
   "cell_type": "code",
   "execution_count": 13,
   "id": "fa821242",
   "metadata": {},
   "outputs": [
    {
     "name": "stdout",
     "output_type": "stream",
     "text": [
      "Classification metrics\n",
      " train = 2020, test=2021\n",
      "\n",
      "[[179 612]\n",
      " [ 68  97]]\n",
      "              precision    recall  f1-score   support\n",
      "\n",
      "           0       0.72      0.23      0.34       791\n",
      "           1       0.14      0.59      0.22       165\n",
      "\n",
      "    accuracy                           0.29       956\n",
      "   macro avg       0.43      0.41      0.28       956\n",
      "weighted avg       0.62      0.29      0.32       956\n",
      "\n",
      "Classification metrics\n",
      " train = 2020, test=2022\n",
      "\n",
      "[[254 440]\n",
      " [  3  23]]\n",
      "              precision    recall  f1-score   support\n",
      "\n",
      "           0       0.99      0.37      0.53       694\n",
      "           1       0.05      0.88      0.09        26\n",
      "\n",
      "    accuracy                           0.38       720\n",
      "   macro avg       0.52      0.63      0.31       720\n",
      "weighted avg       0.95      0.38      0.52       720\n",
      "\n"
     ]
    }
   ],
   "source": [
    "# 2020 applied to 2021\n",
    "ypredict_20on21 = rfc_2020.predict(Xtest_2021all)\n",
    "cf_matrix = confusion_matrix(ytest_2021all, ypredict_20on21)\n",
    "print('Classification metrics\\n train = 2020, test=2021\\n')\n",
    "print(cf_matrix)\n",
    "report = classification_report(ytest_2021all, ypredict_20on21)\n",
    "print(report)\n",
    "\n",
    "# 2020 applied to 2022\n",
    "ypredict_20on22 = rfc_2020.predict(Xtest_2022all)\n",
    "cf_matrix = confusion_matrix(ytest_2022all, ypredict_20on22)\n",
    "print('Classification metrics\\n train = 2020, test=2022\\n')\n",
    "print(cf_matrix)\n",
    "report = classification_report(ytest_2022all, ypredict_20on22)\n",
    "print(report)"
   ]
  },
  {
   "cell_type": "code",
   "execution_count": 14,
   "id": "d966fe24",
   "metadata": {},
   "outputs": [
    {
     "name": "stdout",
     "output_type": "stream",
     "text": [
      "Classification metrics\n",
      " train = 2021, test=2020\n",
      "\n",
      "[[311  45]\n",
      " [ 55  63]]\n",
      "              precision    recall  f1-score   support\n",
      "\n",
      "           0       0.85      0.87      0.86       356\n",
      "           1       0.58      0.53      0.56       118\n",
      "\n",
      "    accuracy                           0.79       474\n",
      "   macro avg       0.72      0.70      0.71       474\n",
      "weighted avg       0.78      0.79      0.79       474\n",
      "\n",
      "Classification metrics\n",
      " train = 2021, test=2022\n",
      "\n",
      "[[483 211]\n",
      " [ 14  12]]\n",
      "              precision    recall  f1-score   support\n",
      "\n",
      "           0       0.97      0.70      0.81       694\n",
      "           1       0.05      0.46      0.10        26\n",
      "\n",
      "    accuracy                           0.69       720\n",
      "   macro avg       0.51      0.58      0.45       720\n",
      "weighted avg       0.94      0.69      0.79       720\n",
      "\n"
     ]
    }
   ],
   "source": [
    "## 2021 applied to 2020\n",
    "ypredict_21on20 = rfc_2021.predict(Xtest_2020all)\n",
    "cf_matrix = confusion_matrix(ytest_2020all, ypredict_21on20)\n",
    "print('Classification metrics\\n train = 2021, test=2020\\n')\n",
    "print(cf_matrix)\n",
    "report = classification_report(ytest_2020all, ypredict_21on20)\n",
    "print(report)\n",
    "\n",
    "## 2021 applied to 2022\n",
    "ypredict_21on22 = rfc_2021.predict(Xtest_2022all)\n",
    "cf_matrix = confusion_matrix(ytest_2022all, ypredict_21on22)\n",
    "print('Classification metrics\\n train = 2021, test=2022\\n')\n",
    "print(cf_matrix)\n",
    "report = classification_report(ytest_2022all, ypredict_21on22)\n",
    "print(report)"
   ]
  },
  {
   "cell_type": "code",
   "execution_count": 15,
   "id": "089c916e",
   "metadata": {},
   "outputs": [
    {
     "name": "stdout",
     "output_type": "stream",
     "text": [
      "Classification metrics\n",
      " train = 2022, test=2020\n",
      "\n",
      "[[135 221]\n",
      " [ 62  56]]\n",
      "              precision    recall  f1-score   support\n",
      "\n",
      "           0       0.69      0.38      0.49       356\n",
      "           1       0.20      0.47      0.28       118\n",
      "\n",
      "    accuracy                           0.40       474\n",
      "   macro avg       0.44      0.43      0.39       474\n",
      "weighted avg       0.57      0.40      0.44       474\n",
      "\n",
      "Classification metrics\n",
      " train = 2022, test=2021\n",
      "\n",
      "[[361 430]\n",
      " [ 35 130]]\n",
      "              precision    recall  f1-score   support\n",
      "\n",
      "           0       0.91      0.46      0.61       791\n",
      "           1       0.23      0.79      0.36       165\n",
      "\n",
      "    accuracy                           0.51       956\n",
      "   macro avg       0.57      0.62      0.48       956\n",
      "weighted avg       0.79      0.51      0.57       956\n",
      "\n"
     ]
    }
   ],
   "source": [
    "## 2022 applied to 2020\n",
    "ypredict_22on20 = rfc_2022.predict(Xtest_2020all)\n",
    "cf_matrix = confusion_matrix(ytest_2020all, ypredict_22on20)\n",
    "print('Classification metrics\\n train = 2022, test=2020\\n')\n",
    "print(cf_matrix)\n",
    "report = classification_report(ytest_2020all, ypredict_22on20)\n",
    "print(report)\n",
    "\n",
    "## 2022 applied to 2021\n",
    "ypredict_22on21 = rfc_2022.predict(Xtest_2021all)\n",
    "cf_matrix = confusion_matrix(ytest_2021all, ypredict_22on21)\n",
    "print('Classification metrics\\n train = 2022, test=2021\\n')\n",
    "print(cf_matrix)\n",
    "report = classification_report(ytest_2021all, ypredict_22on21)\n",
    "print(report)"
   ]
  },
  {
   "cell_type": "code",
   "execution_count": null,
   "id": "53eb1a34",
   "metadata": {},
   "outputs": [],
   "source": []
  }
 ],
 "metadata": {
  "kernelspec": {
   "display_name": "Python 3 (ipykernel)",
   "language": "python",
   "name": "python3"
  },
  "language_info": {
   "codemirror_mode": {
    "name": "ipython",
    "version": 3
   },
   "file_extension": ".py",
   "mimetype": "text/x-python",
   "name": "python",
   "nbconvert_exporter": "python",
   "pygments_lexer": "ipython3",
   "version": "3.10.6"
  }
 },
 "nbformat": 4,
 "nbformat_minor": 5
}
