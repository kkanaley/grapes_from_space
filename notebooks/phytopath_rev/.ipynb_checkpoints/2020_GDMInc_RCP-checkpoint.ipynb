{
 "cells": [
  {
   "cell_type": "code",
   "execution_count": 1,
   "id": "19fedb74",
   "metadata": {},
   "outputs": [],
   "source": [
    "import glob\n",
    "import os\n",
    "import matplotlib.pyplot as plt\n",
    "import pandas as pd\n",
    "import numpy as np\n",
    "import seaborn as sns\n",
    "\n",
    "import sklearn\n",
    "from sklearn.preprocessing import MinMaxScaler\n",
    "from sklearn.model_selection import train_test_split\n",
    "from sklearn.ensemble import RandomForestClassifier\n",
    "from sklearn.model_selection import cross_val_score\n",
    "from sklearn.model_selection import RepeatedStratifiedKFold\n",
    "from sklearn.metrics import classification_report \n",
    "from sklearn.metrics import accuracy_score\n",
    "from sklearn.metrics import precision_recall_fscore_support\n",
    "from sklearn.metrics import roc_auc_score\n",
    "\n",
    "import imblearn as imb\n",
    "from imblearn.under_sampling import RandomUnderSampler\n",
    "\n",
    "import scipy\n"
   ]
  },
  {
   "cell_type": "code",
   "execution_count": 2,
   "id": "25c29721",
   "metadata": {},
   "outputs": [],
   "source": [
    "data_dir = data_dir = '/Users/kathleenkanaley/Desktop/grapes_from_space/data/'\n",
    "\n",
    "data_2020 = pd.read_csv(data_dir + 'img_scout_dfs/2020/smr_vis_skysat_scout_2020.csv')\n",
    "data_2020 = data_2020.rename(columns={\"green_red\": \"grvi\"})\n"
   ]
  },
  {
   "cell_type": "code",
   "execution_count": 3,
   "id": "fb51216a",
   "metadata": {},
   "outputs": [],
   "source": [
    "data_2020['GDM_sev']=0\n",
    "data_2020.loc[data_2020['DM_severity'] > 10, 'GDM_sev'] =1\n",
    "    \n",
    "data_2020['GDM_inc']=0\n",
    "data_2020.loc[data_2020['DM_inc'] > 25, 'GDM_inc'] = 1"
   ]
  },
  {
   "cell_type": "code",
   "execution_count": 4,
   "id": "d4957dc2",
   "metadata": {},
   "outputs": [
    {
     "data": {
      "text/plain": [
       "Index(['acquired', 'plot', 'blue', 'green', 'red', 'nir', 'veg_smr',\n",
       "       'savi_exp', 'savi', 'msavi', 'evi', 'arvi', 'gri', 'ndvi', 'nir_blue',\n",
       "       'nir_green', 'red_blue', 'grvi', 'green_blue', 'row', 'panel', 'Date',\n",
       "       'Treatment', 'Block', 'PM_severity', 'DM_severity', 'total_dis',\n",
       "       'geometry', 'centroid', 'PM_inc', 'DM_inc', 'GDM_sev', 'GDM_inc'],\n",
       "      dtype='object')"
      ]
     },
     "execution_count": 4,
     "metadata": {},
     "output_type": "execute_result"
    }
   ],
   "source": [
    "data_2020.columns"
   ]
  },
  {
   "cell_type": "code",
   "execution_count": 5,
   "id": "20255400",
   "metadata": {},
   "outputs": [],
   "source": [
    "# SB + VIs \n",
    "expl_vars = ['blue', 'green', 'red', 'nir','ndvi', 'evi','msavi', 'arvi', 'grvi']\n",
    "resp_var = 'GDM_inc'\n"
   ]
  },
  {
   "cell_type": "code",
   "execution_count": 6,
   "id": "d72f23d1",
   "metadata": {},
   "outputs": [],
   "source": [
    "vis = ['ndvi', 'evi','msavi', 'arvi', 'grvi']"
   ]
  },
  {
   "cell_type": "code",
   "execution_count": 7,
   "id": "c0a6cd50",
   "metadata": {},
   "outputs": [],
   "source": [
    "import itertools\n",
    "def get_combinations(lst): # creating a user-defined method\n",
    "    combination = [] # empty list \n",
    "    for r in range(1, len(lst) + 1):\n",
    "      # to generate combination\n",
    "      combination += itertools.combinations(lst, r)\n",
    "    return combination"
   ]
  },
  {
   "cell_type": "code",
   "execution_count": 8,
   "id": "99ddb0f3",
   "metadata": {},
   "outputs": [
    {
     "name": "stdout",
     "output_type": "stream",
     "text": [
      "[('ndvi',), ('evi',), ('msavi',), ('arvi',), ('grvi',), ('ndvi', 'evi'), ('ndvi', 'msavi'), ('ndvi', 'arvi'), ('ndvi', 'grvi'), ('evi', 'msavi'), ('evi', 'arvi'), ('evi', 'grvi'), ('msavi', 'arvi'), ('msavi', 'grvi'), ('arvi', 'grvi'), ('ndvi', 'evi', 'msavi'), ('ndvi', 'evi', 'arvi'), ('ndvi', 'evi', 'grvi'), ('ndvi', 'msavi', 'arvi'), ('ndvi', 'msavi', 'grvi'), ('ndvi', 'arvi', 'grvi'), ('evi', 'msavi', 'arvi'), ('evi', 'msavi', 'grvi'), ('evi', 'arvi', 'grvi'), ('msavi', 'arvi', 'grvi'), ('ndvi', 'evi', 'msavi', 'arvi'), ('ndvi', 'evi', 'msavi', 'grvi'), ('ndvi', 'evi', 'arvi', 'grvi'), ('ndvi', 'msavi', 'arvi', 'grvi'), ('evi', 'msavi', 'arvi', 'grvi'), ('ndvi', 'evi', 'msavi', 'arvi', 'grvi')]\n"
     ]
    }
   ],
   "source": [
    "all_combinations = get_combinations(vis) # method call\n",
    "print(all_combinations)"
   ]
  },
  {
   "cell_type": "code",
   "execution_count": 9,
   "id": "2cfc6874",
   "metadata": {},
   "outputs": [
    {
     "data": {
      "text/plain": [
       "[['blue', 'green', 'red', 'nir', 'ndvi'],\n",
       " ['blue', 'green', 'red', 'nir', 'evi'],\n",
       " ['blue', 'green', 'red', 'nir', 'msavi'],\n",
       " ['blue', 'green', 'red', 'nir', 'arvi'],\n",
       " ['blue', 'green', 'red', 'nir', 'grvi'],\n",
       " ['blue', 'green', 'red', 'nir', 'ndvi', 'evi'],\n",
       " ['blue', 'green', 'red', 'nir', 'ndvi', 'msavi'],\n",
       " ['blue', 'green', 'red', 'nir', 'ndvi', 'arvi'],\n",
       " ['blue', 'green', 'red', 'nir', 'ndvi', 'grvi'],\n",
       " ['blue', 'green', 'red', 'nir', 'evi', 'msavi'],\n",
       " ['blue', 'green', 'red', 'nir', 'evi', 'arvi'],\n",
       " ['blue', 'green', 'red', 'nir', 'evi', 'grvi'],\n",
       " ['blue', 'green', 'red', 'nir', 'msavi', 'arvi'],\n",
       " ['blue', 'green', 'red', 'nir', 'msavi', 'grvi'],\n",
       " ['blue', 'green', 'red', 'nir', 'arvi', 'grvi'],\n",
       " ['blue', 'green', 'red', 'nir', 'ndvi', 'evi', 'msavi'],\n",
       " ['blue', 'green', 'red', 'nir', 'ndvi', 'evi', 'arvi'],\n",
       " ['blue', 'green', 'red', 'nir', 'ndvi', 'evi', 'grvi'],\n",
       " ['blue', 'green', 'red', 'nir', 'ndvi', 'msavi', 'arvi'],\n",
       " ['blue', 'green', 'red', 'nir', 'ndvi', 'msavi', 'grvi'],\n",
       " ['blue', 'green', 'red', 'nir', 'ndvi', 'arvi', 'grvi'],\n",
       " ['blue', 'green', 'red', 'nir', 'evi', 'msavi', 'arvi'],\n",
       " ['blue', 'green', 'red', 'nir', 'evi', 'msavi', 'grvi'],\n",
       " ['blue', 'green', 'red', 'nir', 'evi', 'arvi', 'grvi'],\n",
       " ['blue', 'green', 'red', 'nir', 'msavi', 'arvi', 'grvi'],\n",
       " ['blue', 'green', 'red', 'nir', 'ndvi', 'evi', 'msavi', 'arvi'],\n",
       " ['blue', 'green', 'red', 'nir', 'ndvi', 'evi', 'msavi', 'grvi'],\n",
       " ['blue', 'green', 'red', 'nir', 'ndvi', 'evi', 'arvi', 'grvi'],\n",
       " ['blue', 'green', 'red', 'nir', 'ndvi', 'msavi', 'arvi', 'grvi'],\n",
       " ['blue', 'green', 'red', 'nir', 'evi', 'msavi', 'arvi', 'grvi'],\n",
       " ['blue', 'green', 'red', 'nir', 'ndvi', 'evi', 'msavi', 'arvi', 'grvi']]"
      ]
     },
     "execution_count": 9,
     "metadata": {},
     "output_type": "execute_result"
    }
   ],
   "source": [
    "exp_vars = []\n",
    "for combo in all_combinations:\n",
    "    combo = list(combo)\n",
    "    sb = ['blue', 'green', 'red', 'nir']\n",
    "    sb_plus_vi = sb + combo\n",
    "    exp_vars.append(sb_plus_vi)\n",
    "exp_vars"
   ]
  },
  {
   "cell_type": "code",
   "execution_count": 10,
   "id": "fbece1c2",
   "metadata": {},
   "outputs": [
    {
     "data": {
      "text/plain": [
       "\"['blue', 'green', 'red', 'nir', 'ndvi']\""
      ]
     },
     "execution_count": 10,
     "metadata": {},
     "output_type": "execute_result"
    }
   ],
   "source": [
    "str(exp_vars[0])"
   ]
  },
  {
   "cell_type": "code",
   "execution_count": 11,
   "id": "52770b69",
   "metadata": {},
   "outputs": [],
   "source": [
    "# Prep the dataset: balance the data, split, and scale\n",
    "def data_prep(data, expl_vars, resp_vars, state, seed):\n",
    "    X = data[expl_vars]\n",
    "    y = data[resp_var]\n",
    "\n",
    "    rus = RandomUnderSampler(random_state=state)\n",
    "    X_rus, y_rus = rus.fit_resample(X, y)\n",
    "\n",
    "    # Split dataset into training set and test set\n",
    "    X_train, X_test, y_train, y_test = train_test_split(X_rus, y_rus,\n",
    "                                                        test_size=0.3, \n",
    "                                                        random_state=seed,\n",
    "                                                        stratify = y_rus)  # 70% training and 30% test\n",
    "    mm = MinMaxScaler()\n",
    "    X_train_scaled = mm.fit_transform(X_train)\n",
    "    X_test_scaled = mm.transform(X_test)\n",
    "    \n",
    "    return X_train_scaled, y_train, X_test_scaled, y_test"
   ]
  },
  {
   "cell_type": "code",
   "execution_count": 12,
   "id": "e2d65ba4",
   "metadata": {},
   "outputs": [],
   "source": [
    "# # get a list of models to evaluate\n",
    "# def get_models():\n",
    "#     models = dict()\n",
    "#     for i in range(2, 10):\n",
    "#         rfe = RFE(estimator=RandomForestClassifier(random_state= 456), n_features_to_select=i)\n",
    "#         model = RandomForestClassifier()\n",
    "#         models[str(i)] = Pipeline(steps=[('s',rfe),('m',model)])\n",
    "#     return models\n"
   ]
  },
  {
   "cell_type": "code",
   "execution_count": 13,
   "id": "c733ef90",
   "metadata": {},
   "outputs": [],
   "source": [
    "# Get a dictionary of models for each set of explanatory variables\n",
    "def get_models(explanatory_vars):\n",
    "    models = dict()\n",
    "    for i in exp_vars:\n",
    "        model = RandomForestClassifier()\n",
    "        models[str(i)] = model\n",
    "    return models"
   ]
  },
  {
   "cell_type": "code",
   "execution_count": 14,
   "id": "2550486f",
   "metadata": {},
   "outputs": [],
   "source": [
    "# evaluate a given model using cross-validation\n",
    "def evaluate_model(model, X, y,scoring):\n",
    "    cv = RepeatedStratifiedKFold(n_splits=10, n_repeats=3, random_state=1)\n",
    "    scores = cross_val_score(model, X, y, scoring=scoring, cv=cv, n_jobs=-1, error_score='raise')\n",
    "    return scores"
   ]
  },
  {
   "cell_type": "code",
   "execution_count": 15,
   "id": "9a190c9b",
   "metadata": {},
   "outputs": [],
   "source": [
    "# Test with the first set of exp. vars(just SB + NDVI)\n",
    "X_train, y_train, X_test, y_test  = data_prep(data_2020, exp_vars[0], resp_var, 2020, 123)\n"
   ]
  },
  {
   "cell_type": "code",
   "execution_count": 16,
   "id": "118982be",
   "metadata": {},
   "outputs": [
    {
     "data": {
      "text/plain": [
       "array([0.9       , 0.94736842, 0.75      , 0.88888889, 0.93333333,\n",
       "       1.        , 0.94117647, 0.84210526, 0.85714286, 0.875     ,\n",
       "       0.73684211, 0.88888889, 0.88888889, 0.93333333, 1.        ,\n",
       "       1.        , 0.93333333, 0.875     , 0.8       , 0.875     ,\n",
       "       0.75      , 0.9       , 0.94736842, 0.875     , 1.        ,\n",
       "       0.84210526, 0.94117647, 0.93333333, 0.8       , 0.88888889])"
      ]
     },
     "execution_count": 16,
     "metadata": {},
     "output_type": "execute_result"
    }
   ],
   "source": [
    "rfm = RandomForestClassifier()\n",
    "\n",
    "evaluate_model(rfm,X_train,y_train,'f1')"
   ]
  },
  {
   "cell_type": "code",
   "execution_count": 18,
   "id": "5b289f57",
   "metadata": {},
   "outputs": [
    {
     "data": {
      "text/html": [
       "<div>\n",
       "<style scoped>\n",
       "    .dataframe tbody tr th:only-of-type {\n",
       "        vertical-align: middle;\n",
       "    }\n",
       "\n",
       "    .dataframe tbody tr th {\n",
       "        vertical-align: top;\n",
       "    }\n",
       "\n",
       "    .dataframe thead th {\n",
       "        text-align: right;\n",
       "    }\n",
       "</style>\n",
       "<table border=\"1\" class=\"dataframe\">\n",
       "  <thead>\n",
       "    <tr style=\"text-align: right;\">\n",
       "      <th></th>\n",
       "      <th>F1</th>\n",
       "      <th>features</th>\n",
       "    </tr>\n",
       "  </thead>\n",
       "  <tbody>\n",
       "    <tr>\n",
       "      <th>0</th>\n",
       "      <td>0.892012</td>\n",
       "      <td>['blue', 'green', 'red', 'nir', 'ndvi']</td>\n",
       "    </tr>\n",
       "    <tr>\n",
       "      <th>1</th>\n",
       "      <td>0.892012</td>\n",
       "      <td>['blue', 'green', 'red', 'nir', 'evi']</td>\n",
       "    </tr>\n",
       "    <tr>\n",
       "      <th>2</th>\n",
       "      <td>0.890051</td>\n",
       "      <td>['blue', 'green', 'red', 'nir', 'msavi']</td>\n",
       "    </tr>\n",
       "    <tr>\n",
       "      <th>3</th>\n",
       "      <td>0.889472</td>\n",
       "      <td>['blue', 'green', 'red', 'nir', 'arvi']</td>\n",
       "    </tr>\n",
       "    <tr>\n",
       "      <th>4</th>\n",
       "      <td>0.893571</td>\n",
       "      <td>['blue', 'green', 'red', 'nir', 'grvi']</td>\n",
       "    </tr>\n",
       "    <tr>\n",
       "      <th>5</th>\n",
       "      <td>0.891456</td>\n",
       "      <td>['blue', 'green', 'red', 'nir', 'ndvi', 'evi']</td>\n",
       "    </tr>\n",
       "    <tr>\n",
       "      <th>6</th>\n",
       "      <td>0.892763</td>\n",
       "      <td>['blue', 'green', 'red', 'nir', 'ndvi', 'msavi']</td>\n",
       "    </tr>\n",
       "    <tr>\n",
       "      <th>7</th>\n",
       "      <td>0.891889</td>\n",
       "      <td>['blue', 'green', 'red', 'nir', 'ndvi', 'arvi']</td>\n",
       "    </tr>\n",
       "    <tr>\n",
       "      <th>8</th>\n",
       "      <td>0.894212</td>\n",
       "      <td>['blue', 'green', 'red', 'nir', 'ndvi', 'grvi']</td>\n",
       "    </tr>\n",
       "    <tr>\n",
       "      <th>9</th>\n",
       "      <td>0.890541</td>\n",
       "      <td>['blue', 'green', 'red', 'nir', 'evi', 'msavi']</td>\n",
       "    </tr>\n",
       "    <tr>\n",
       "      <th>10</th>\n",
       "      <td>0.888580</td>\n",
       "      <td>['blue', 'green', 'red', 'nir', 'evi', 'arvi']</td>\n",
       "    </tr>\n",
       "    <tr>\n",
       "      <th>11</th>\n",
       "      <td>0.892486</td>\n",
       "      <td>['blue', 'green', 'red', 'nir', 'evi', 'grvi']</td>\n",
       "    </tr>\n",
       "    <tr>\n",
       "      <th>12</th>\n",
       "      <td>0.891456</td>\n",
       "      <td>['blue', 'green', 'red', 'nir', 'msavi', 'arvi']</td>\n",
       "    </tr>\n",
       "    <tr>\n",
       "      <th>13</th>\n",
       "      <td>0.888860</td>\n",
       "      <td>['blue', 'green', 'red', 'nir', 'msavi', 'grvi']</td>\n",
       "    </tr>\n",
       "    <tr>\n",
       "      <th>14</th>\n",
       "      <td>0.888580</td>\n",
       "      <td>['blue', 'green', 'red', 'nir', 'arvi', 'grvi']</td>\n",
       "    </tr>\n",
       "    <tr>\n",
       "      <th>15</th>\n",
       "      <td>0.890452</td>\n",
       "      <td>['blue', 'green', 'red', 'nir', 'ndvi', 'evi',...</td>\n",
       "    </tr>\n",
       "    <tr>\n",
       "      <th>16</th>\n",
       "      <td>0.896339</td>\n",
       "      <td>['blue', 'green', 'red', 'nir', 'ndvi', 'evi',...</td>\n",
       "    </tr>\n",
       "    <tr>\n",
       "      <th>17</th>\n",
       "      <td>0.889986</td>\n",
       "      <td>['blue', 'green', 'red', 'nir', 'ndvi', 'evi',...</td>\n",
       "    </tr>\n",
       "    <tr>\n",
       "      <th>18</th>\n",
       "      <td>0.888041</td>\n",
       "      <td>['blue', 'green', 'red', 'nir', 'ndvi', 'msavi...</td>\n",
       "    </tr>\n",
       "    <tr>\n",
       "      <th>19</th>\n",
       "      <td>0.893956</td>\n",
       "      <td>['blue', 'green', 'red', 'nir', 'ndvi', 'msavi...</td>\n",
       "    </tr>\n",
       "    <tr>\n",
       "      <th>20</th>\n",
       "      <td>0.892012</td>\n",
       "      <td>['blue', 'green', 'red', 'nir', 'ndvi', 'arvi'...</td>\n",
       "    </tr>\n",
       "    <tr>\n",
       "      <th>21</th>\n",
       "      <td>0.890263</td>\n",
       "      <td>['blue', 'green', 'red', 'nir', 'evi', 'msavi'...</td>\n",
       "    </tr>\n",
       "    <tr>\n",
       "      <th>22</th>\n",
       "      <td>0.890002</td>\n",
       "      <td>['blue', 'green', 'red', 'nir', 'evi', 'msavi'...</td>\n",
       "    </tr>\n",
       "    <tr>\n",
       "      <th>23</th>\n",
       "      <td>0.892486</td>\n",
       "      <td>['blue', 'green', 'red', 'nir', 'evi', 'arvi',...</td>\n",
       "    </tr>\n",
       "    <tr>\n",
       "      <th>24</th>\n",
       "      <td>0.889946</td>\n",
       "      <td>['blue', 'green', 'red', 'nir', 'msavi', 'arvi...</td>\n",
       "    </tr>\n",
       "    <tr>\n",
       "      <th>25</th>\n",
       "      <td>0.892486</td>\n",
       "      <td>['blue', 'green', 'red', 'nir', 'ndvi', 'evi',...</td>\n",
       "    </tr>\n",
       "    <tr>\n",
       "      <th>26</th>\n",
       "      <td>0.888041</td>\n",
       "      <td>['blue', 'green', 'red', 'nir', 'ndvi', 'evi',...</td>\n",
       "    </tr>\n",
       "    <tr>\n",
       "      <th>27</th>\n",
       "      <td>0.892012</td>\n",
       "      <td>['blue', 'green', 'red', 'nir', 'ndvi', 'evi',...</td>\n",
       "    </tr>\n",
       "    <tr>\n",
       "      <th>28</th>\n",
       "      <td>0.890541</td>\n",
       "      <td>['blue', 'green', 'red', 'nir', 'ndvi', 'msavi...</td>\n",
       "    </tr>\n",
       "    <tr>\n",
       "      <th>29</th>\n",
       "      <td>0.895421</td>\n",
       "      <td>['blue', 'green', 'red', 'nir', 'evi', 'msavi'...</td>\n",
       "    </tr>\n",
       "    <tr>\n",
       "      <th>30</th>\n",
       "      <td>0.889656</td>\n",
       "      <td>['blue', 'green', 'red', 'nir', 'ndvi', 'evi',...</td>\n",
       "    </tr>\n",
       "  </tbody>\n",
       "</table>\n",
       "</div>"
      ],
      "text/plain": [
       "          F1                                           features\n",
       "0   0.892012            ['blue', 'green', 'red', 'nir', 'ndvi']\n",
       "1   0.892012             ['blue', 'green', 'red', 'nir', 'evi']\n",
       "2   0.890051           ['blue', 'green', 'red', 'nir', 'msavi']\n",
       "3   0.889472            ['blue', 'green', 'red', 'nir', 'arvi']\n",
       "4   0.893571            ['blue', 'green', 'red', 'nir', 'grvi']\n",
       "5   0.891456     ['blue', 'green', 'red', 'nir', 'ndvi', 'evi']\n",
       "6   0.892763   ['blue', 'green', 'red', 'nir', 'ndvi', 'msavi']\n",
       "7   0.891889    ['blue', 'green', 'red', 'nir', 'ndvi', 'arvi']\n",
       "8   0.894212    ['blue', 'green', 'red', 'nir', 'ndvi', 'grvi']\n",
       "9   0.890541    ['blue', 'green', 'red', 'nir', 'evi', 'msavi']\n",
       "10  0.888580     ['blue', 'green', 'red', 'nir', 'evi', 'arvi']\n",
       "11  0.892486     ['blue', 'green', 'red', 'nir', 'evi', 'grvi']\n",
       "12  0.891456   ['blue', 'green', 'red', 'nir', 'msavi', 'arvi']\n",
       "13  0.888860   ['blue', 'green', 'red', 'nir', 'msavi', 'grvi']\n",
       "14  0.888580    ['blue', 'green', 'red', 'nir', 'arvi', 'grvi']\n",
       "15  0.890452  ['blue', 'green', 'red', 'nir', 'ndvi', 'evi',...\n",
       "16  0.896339  ['blue', 'green', 'red', 'nir', 'ndvi', 'evi',...\n",
       "17  0.889986  ['blue', 'green', 'red', 'nir', 'ndvi', 'evi',...\n",
       "18  0.888041  ['blue', 'green', 'red', 'nir', 'ndvi', 'msavi...\n",
       "19  0.893956  ['blue', 'green', 'red', 'nir', 'ndvi', 'msavi...\n",
       "20  0.892012  ['blue', 'green', 'red', 'nir', 'ndvi', 'arvi'...\n",
       "21  0.890263  ['blue', 'green', 'red', 'nir', 'evi', 'msavi'...\n",
       "22  0.890002  ['blue', 'green', 'red', 'nir', 'evi', 'msavi'...\n",
       "23  0.892486  ['blue', 'green', 'red', 'nir', 'evi', 'arvi',...\n",
       "24  0.889946  ['blue', 'green', 'red', 'nir', 'msavi', 'arvi...\n",
       "25  0.892486  ['blue', 'green', 'red', 'nir', 'ndvi', 'evi',...\n",
       "26  0.888041  ['blue', 'green', 'red', 'nir', 'ndvi', 'evi',...\n",
       "27  0.892012  ['blue', 'green', 'red', 'nir', 'ndvi', 'evi',...\n",
       "28  0.890541  ['blue', 'green', 'red', 'nir', 'ndvi', 'msavi...\n",
       "29  0.895421  ['blue', 'green', 'red', 'nir', 'evi', 'msavi'...\n",
       "30  0.889656  ['blue', 'green', 'red', 'nir', 'ndvi', 'evi',..."
      ]
     },
     "execution_count": 18,
     "metadata": {},
     "output_type": "execute_result"
    }
   ],
   "source": [
    "# plot average F1 scores for models with different combinations of explanatory variables\n",
    "models = get_models(exp_vars)\n",
    "# evaluate the models and store results\n",
    "# results, names = list(), list()\n",
    "# for name, model in models.items():\n",
    "#     scores = evaluate_model(model, X_train, y_train)\n",
    "#     results.append(scores)\n",
    "#     names.append(name)\n",
    "#     print('%s %.3f (%.3f)' % (name, np.mean(scores), np.std(scores)))\n",
    "# plot model performance for comparison\n",
    "# plt.boxplot(results, labels=names, showmeans=True)\n",
    "# plt.show()\n",
    "\n",
    "results = pd.DataFrame(columns=['F1', 'features'])\n",
    "F1 = []\n",
    "features = []\n",
    "for name, model in models.items():\n",
    "    scores = evaluate_model(model, X_train, y_train,'f1')\n",
    "    F1.append(np.mean(scores))\n",
    "    features.append(name)\n",
    "\n",
    "results['F1']=F1\n",
    "results['features']=features\n",
    "results"
   ]
  },
  {
   "cell_type": "code",
   "execution_count": 20,
   "id": "928c3b3f",
   "metadata": {},
   "outputs": [
    {
     "data": {
      "text/plain": [
       "\"['blue', 'green', 'red', 'nir', 'ndvi', 'evi', 'arvi']\""
      ]
     },
     "execution_count": 20,
     "metadata": {},
     "output_type": "execute_result"
    }
   ],
   "source": [
    "results.iloc[results['F1'].idxmax()]['features']"
   ]
  },
  {
   "cell_type": "code",
   "execution_count": 21,
   "id": "e491636f",
   "metadata": {},
   "outputs": [
    {
     "data": {
      "text/html": [
       "<div>\n",
       "<style scoped>\n",
       "    .dataframe tbody tr th:only-of-type {\n",
       "        vertical-align: middle;\n",
       "    }\n",
       "\n",
       "    .dataframe tbody tr th {\n",
       "        vertical-align: top;\n",
       "    }\n",
       "\n",
       "    .dataframe thead th {\n",
       "        text-align: right;\n",
       "    }\n",
       "</style>\n",
       "<table border=\"1\" class=\"dataframe\">\n",
       "  <thead>\n",
       "    <tr style=\"text-align: right;\">\n",
       "      <th></th>\n",
       "      <th>F1_weighted</th>\n",
       "      <th>features</th>\n",
       "    </tr>\n",
       "  </thead>\n",
       "  <tbody>\n",
       "    <tr>\n",
       "      <th>0</th>\n",
       "      <td>0.885474</td>\n",
       "      <td>['blue', 'green', 'red', 'nir', 'ndvi']</td>\n",
       "    </tr>\n",
       "    <tr>\n",
       "      <th>1</th>\n",
       "      <td>0.879431</td>\n",
       "      <td>['blue', 'green', 'red', 'nir', 'evi']</td>\n",
       "    </tr>\n",
       "    <tr>\n",
       "      <th>2</th>\n",
       "      <td>0.883614</td>\n",
       "      <td>['blue', 'green', 'red', 'nir', 'msavi']</td>\n",
       "    </tr>\n",
       "    <tr>\n",
       "      <th>3</th>\n",
       "      <td>0.883366</td>\n",
       "      <td>['blue', 'green', 'red', 'nir', 'arvi']</td>\n",
       "    </tr>\n",
       "    <tr>\n",
       "      <th>4</th>\n",
       "      <td>0.883298</td>\n",
       "      <td>['blue', 'green', 'red', 'nir', 'grvi']</td>\n",
       "    </tr>\n",
       "    <tr>\n",
       "      <th>5</th>\n",
       "      <td>0.885373</td>\n",
       "      <td>['blue', 'green', 'red', 'nir', 'ndvi', 'evi']</td>\n",
       "    </tr>\n",
       "    <tr>\n",
       "      <th>6</th>\n",
       "      <td>0.881473</td>\n",
       "      <td>['blue', 'green', 'red', 'nir', 'ndvi', 'msavi']</td>\n",
       "    </tr>\n",
       "    <tr>\n",
       "      <th>7</th>\n",
       "      <td>0.881572</td>\n",
       "      <td>['blue', 'green', 'red', 'nir', 'ndvi', 'arvi']</td>\n",
       "    </tr>\n",
       "    <tr>\n",
       "      <th>8</th>\n",
       "      <td>0.885406</td>\n",
       "      <td>['blue', 'green', 'red', 'nir', 'ndvi', 'grvi']</td>\n",
       "    </tr>\n",
       "    <tr>\n",
       "      <th>9</th>\n",
       "      <td>0.885228</td>\n",
       "      <td>['blue', 'green', 'red', 'nir', 'evi', 'msavi']</td>\n",
       "    </tr>\n",
       "    <tr>\n",
       "      <th>10</th>\n",
       "      <td>0.883400</td>\n",
       "      <td>['blue', 'green', 'red', 'nir', 'evi', 'arvi']</td>\n",
       "    </tr>\n",
       "    <tr>\n",
       "      <th>11</th>\n",
       "      <td>0.883253</td>\n",
       "      <td>['blue', 'green', 'red', 'nir', 'evi', 'grvi']</td>\n",
       "    </tr>\n",
       "    <tr>\n",
       "      <th>12</th>\n",
       "      <td>0.885474</td>\n",
       "      <td>['blue', 'green', 'red', 'nir', 'msavi', 'arvi']</td>\n",
       "    </tr>\n",
       "    <tr>\n",
       "      <th>13</th>\n",
       "      <td>0.889624</td>\n",
       "      <td>['blue', 'green', 'red', 'nir', 'msavi', 'grvi']</td>\n",
       "    </tr>\n",
       "    <tr>\n",
       "      <th>14</th>\n",
       "      <td>0.887380</td>\n",
       "      <td>['blue', 'green', 'red', 'nir', 'arvi', 'grvi']</td>\n",
       "    </tr>\n",
       "    <tr>\n",
       "      <th>15</th>\n",
       "      <td>0.881288</td>\n",
       "      <td>['blue', 'green', 'red', 'nir', 'ndvi', 'evi',...</td>\n",
       "    </tr>\n",
       "    <tr>\n",
       "      <th>16</th>\n",
       "      <td>0.885406</td>\n",
       "      <td>['blue', 'green', 'red', 'nir', 'ndvi', 'evi',...</td>\n",
       "    </tr>\n",
       "    <tr>\n",
       "      <th>17</th>\n",
       "      <td>0.883366</td>\n",
       "      <td>['blue', 'green', 'red', 'nir', 'ndvi', 'evi',...</td>\n",
       "    </tr>\n",
       "    <tr>\n",
       "      <th>18</th>\n",
       "      <td>0.883499</td>\n",
       "      <td>['blue', 'green', 'red', 'nir', 'ndvi', 'msavi...</td>\n",
       "    </tr>\n",
       "    <tr>\n",
       "      <th>19</th>\n",
       "      <td>0.885641</td>\n",
       "      <td>['blue', 'green', 'red', 'nir', 'ndvi', 'msavi...</td>\n",
       "    </tr>\n",
       "    <tr>\n",
       "      <th>20</th>\n",
       "      <td>0.883366</td>\n",
       "      <td>['blue', 'green', 'red', 'nir', 'ndvi', 'arvi'...</td>\n",
       "    </tr>\n",
       "    <tr>\n",
       "      <th>21</th>\n",
       "      <td>0.885406</td>\n",
       "      <td>['blue', 'green', 'red', 'nir', 'evi', 'msavi'...</td>\n",
       "    </tr>\n",
       "    <tr>\n",
       "      <th>22</th>\n",
       "      <td>0.885520</td>\n",
       "      <td>['blue', 'green', 'red', 'nir', 'evi', 'msavi'...</td>\n",
       "    </tr>\n",
       "    <tr>\n",
       "      <th>23</th>\n",
       "      <td>0.883319</td>\n",
       "      <td>['blue', 'green', 'red', 'nir', 'evi', 'arvi',...</td>\n",
       "    </tr>\n",
       "    <tr>\n",
       "      <th>24</th>\n",
       "      <td>0.883366</td>\n",
       "      <td>['blue', 'green', 'red', 'nir', 'msavi', 'arvi...</td>\n",
       "    </tr>\n",
       "    <tr>\n",
       "      <th>25</th>\n",
       "      <td>0.883447</td>\n",
       "      <td>['blue', 'green', 'red', 'nir', 'ndvi', 'evi',...</td>\n",
       "    </tr>\n",
       "    <tr>\n",
       "      <th>26</th>\n",
       "      <td>0.885272</td>\n",
       "      <td>['blue', 'green', 'red', 'nir', 'ndvi', 'evi',...</td>\n",
       "    </tr>\n",
       "    <tr>\n",
       "      <th>27</th>\n",
       "      <td>0.885406</td>\n",
       "      <td>['blue', 'green', 'red', 'nir', 'ndvi', 'evi',...</td>\n",
       "    </tr>\n",
       "    <tr>\n",
       "      <th>28</th>\n",
       "      <td>0.885306</td>\n",
       "      <td>['blue', 'green', 'red', 'nir', 'ndvi', 'msavi...</td>\n",
       "    </tr>\n",
       "    <tr>\n",
       "      <th>29</th>\n",
       "      <td>0.881539</td>\n",
       "      <td>['blue', 'green', 'red', 'nir', 'evi', 'msavi'...</td>\n",
       "    </tr>\n",
       "    <tr>\n",
       "      <th>30</th>\n",
       "      <td>0.877400</td>\n",
       "      <td>['blue', 'green', 'red', 'nir', 'ndvi', 'evi',...</td>\n",
       "    </tr>\n",
       "  </tbody>\n",
       "</table>\n",
       "</div>"
      ],
      "text/plain": [
       "    F1_weighted                                           features\n",
       "0      0.885474            ['blue', 'green', 'red', 'nir', 'ndvi']\n",
       "1      0.879431             ['blue', 'green', 'red', 'nir', 'evi']\n",
       "2      0.883614           ['blue', 'green', 'red', 'nir', 'msavi']\n",
       "3      0.883366            ['blue', 'green', 'red', 'nir', 'arvi']\n",
       "4      0.883298            ['blue', 'green', 'red', 'nir', 'grvi']\n",
       "5      0.885373     ['blue', 'green', 'red', 'nir', 'ndvi', 'evi']\n",
       "6      0.881473   ['blue', 'green', 'red', 'nir', 'ndvi', 'msavi']\n",
       "7      0.881572    ['blue', 'green', 'red', 'nir', 'ndvi', 'arvi']\n",
       "8      0.885406    ['blue', 'green', 'red', 'nir', 'ndvi', 'grvi']\n",
       "9      0.885228    ['blue', 'green', 'red', 'nir', 'evi', 'msavi']\n",
       "10     0.883400     ['blue', 'green', 'red', 'nir', 'evi', 'arvi']\n",
       "11     0.883253     ['blue', 'green', 'red', 'nir', 'evi', 'grvi']\n",
       "12     0.885474   ['blue', 'green', 'red', 'nir', 'msavi', 'arvi']\n",
       "13     0.889624   ['blue', 'green', 'red', 'nir', 'msavi', 'grvi']\n",
       "14     0.887380    ['blue', 'green', 'red', 'nir', 'arvi', 'grvi']\n",
       "15     0.881288  ['blue', 'green', 'red', 'nir', 'ndvi', 'evi',...\n",
       "16     0.885406  ['blue', 'green', 'red', 'nir', 'ndvi', 'evi',...\n",
       "17     0.883366  ['blue', 'green', 'red', 'nir', 'ndvi', 'evi',...\n",
       "18     0.883499  ['blue', 'green', 'red', 'nir', 'ndvi', 'msavi...\n",
       "19     0.885641  ['blue', 'green', 'red', 'nir', 'ndvi', 'msavi...\n",
       "20     0.883366  ['blue', 'green', 'red', 'nir', 'ndvi', 'arvi'...\n",
       "21     0.885406  ['blue', 'green', 'red', 'nir', 'evi', 'msavi'...\n",
       "22     0.885520  ['blue', 'green', 'red', 'nir', 'evi', 'msavi'...\n",
       "23     0.883319  ['blue', 'green', 'red', 'nir', 'evi', 'arvi',...\n",
       "24     0.883366  ['blue', 'green', 'red', 'nir', 'msavi', 'arvi...\n",
       "25     0.883447  ['blue', 'green', 'red', 'nir', 'ndvi', 'evi',...\n",
       "26     0.885272  ['blue', 'green', 'red', 'nir', 'ndvi', 'evi',...\n",
       "27     0.885406  ['blue', 'green', 'red', 'nir', 'ndvi', 'evi',...\n",
       "28     0.885306  ['blue', 'green', 'red', 'nir', 'ndvi', 'msavi...\n",
       "29     0.881539  ['blue', 'green', 'red', 'nir', 'evi', 'msavi'...\n",
       "30     0.877400  ['blue', 'green', 'red', 'nir', 'ndvi', 'evi',..."
      ]
     },
     "execution_count": 21,
     "metadata": {},
     "output_type": "execute_result"
    }
   ],
   "source": [
    "# average weighted F1 scores for models with different combinations of explanatory variables\n",
    "models = get_models(exp_vars)\n",
    "\n",
    "results_weighted = pd.DataFrame(columns=['F1_weighted', 'features'])\n",
    "F1 = []\n",
    "features = []\n",
    "for name, model in models.items():\n",
    "    scores = evaluate_model(model, X_train, y_train,'f1_weighted')\n",
    "    F1.append(np.mean(scores))\n",
    "    features.append(name)\n",
    "\n",
    "results_weighted['F1_weighted']=F1\n",
    "results_weighted['features']=features\n",
    "results_weighted"
   ]
  },
  {
   "cell_type": "code",
   "execution_count": 22,
   "id": "be7cecab",
   "metadata": {},
   "outputs": [
    {
     "data": {
      "text/plain": [
       "\"['blue', 'green', 'red', 'nir', 'msavi', 'grvi']\""
      ]
     },
     "execution_count": 22,
     "metadata": {},
     "output_type": "execute_result"
    }
   ],
   "source": [
    "results_weighted.iloc[results_weighted['F1_weighted'].idxmax()]['features']"
   ]
  },
  {
   "cell_type": "code",
   "execution_count": 24,
   "id": "5f7fb547",
   "metadata": {},
   "outputs": [
    {
     "data": {
      "text/plain": [
       "1.0"
      ]
     },
     "metadata": {},
     "output_type": "display_data"
    }
   ],
   "source": [
    "# Test new model with just the selected features - weighted F1 as scoring metric\n",
    "X_train, y_train, X_test, y_test  = data_prep(data_2020,['blue', 'green', 'red', 'nir', 'msavi', 'grvi'], \n",
    "                                              'GDM_inc', 2020, 123)\n",
    "\n",
    "rfc = RandomForestClassifier()\n",
    "rfc.fit(X_train, y_train)\n",
    "display(rfc.score(X_train, y_train))"
   ]
  },
  {
   "cell_type": "code",
   "execution_count": 25,
   "id": "6d08f899",
   "metadata": {},
   "outputs": [],
   "source": [
    "# # Prediction on test data\n",
    "y_pred = rfc.predict(X_test)"
   ]
  },
  {
   "cell_type": "code",
   "execution_count": 26,
   "id": "d0d7eeef",
   "metadata": {},
   "outputs": [
    {
     "name": "stdout",
     "output_type": "stream",
     "text": [
      "Classification report:\n",
      "\n",
      "              precision    recall  f1-score   support\n",
      "\n",
      "           0       0.90      0.75      0.82        36\n",
      "           1       0.78      0.91      0.84        35\n",
      "\n",
      "    accuracy                           0.83        71\n",
      "   macro avg       0.84      0.83      0.83        71\n",
      "weighted avg       0.84      0.83      0.83        71\n",
      "\n"
     ]
    }
   ],
   "source": [
    "# Classification report\n",
    "stats = classification_report(y_test, y_pred,\n",
    "                              labels=None,\n",
    "                              target_names=[\"low\", \"high\"],\n",
    "                              sample_weight=None,\n",
    "                              digits=2,\n",
    "                              output_dict=False)\n",
    "  \n",
    "print(\"Classification report:\\n\")\n",
    "print(stats)"
   ]
  },
  {
   "cell_type": "code",
   "execution_count": 27,
   "id": "80c971f2",
   "metadata": {},
   "outputs": [
    {
     "data": {
      "text/plain": [
       "1.0"
      ]
     },
     "metadata": {},
     "output_type": "display_data"
    }
   ],
   "source": [
    "# Test new model with just the selected features - F1 as scoring metric\n",
    "X_train, y_train, X_test, y_test  = data_prep(data_2020,['blue', 'green', 'red', 'nir', 'ndvi', 'evi', 'arvi'], \n",
    "                                              'GDM_inc', 2020, 123)\n",
    "\n",
    "rfc = RandomForestClassifier()\n",
    "rfc.fit(X_train, y_train)\n",
    "display(rfc.score(X_train, y_train))"
   ]
  },
  {
   "cell_type": "code",
   "execution_count": 28,
   "id": "fb1ba75e",
   "metadata": {},
   "outputs": [
    {
     "name": "stdout",
     "output_type": "stream",
     "text": [
      "Classification report:\n",
      "\n",
      "              precision    recall  f1-score   support\n",
      "\n",
      "         low       0.94      0.81      0.87        36\n",
      "        high       0.82      0.94      0.88        35\n",
      "\n",
      "    accuracy                           0.87        71\n",
      "   macro avg       0.88      0.87      0.87        71\n",
      "weighted avg       0.88      0.87      0.87        71\n",
      "\n"
     ]
    }
   ],
   "source": [
    "# Prediction on test data\n",
    "y_pred = rfc.predict(X_test)\n",
    "\n",
    "# Classification report\n",
    "stats = classification_report(y_test, y_pred,\n",
    "                              labels=None,\n",
    "                              target_names=[\"low\", \"high\"],\n",
    "                              sample_weight=None,\n",
    "                              digits=2,\n",
    "                              output_dict=False)\n",
    "  \n",
    "print(\"Classification report:\\n\")\n",
    "print(stats)"
   ]
  },
  {
   "cell_type": "code",
   "execution_count": 29,
   "id": "3f0db2b6",
   "metadata": {},
   "outputs": [],
   "source": [
    "from sklearn.model_selection import RandomizedSearchCV\n",
    "n_estimators = [int(x) for x in np.linspace(start = 100, stop = 1000,\n",
    "num = 10)]\n",
    "max_features = ['log2', 'sqrt']\n",
    "max_depth = [int(x) for x in np.linspace(start = 1, stop = 15, num =\n",
    "15)]\n",
    "min_samples_split = [int(x) for x in np.linspace(start = 2, stop = 50,\n",
    "num = 10)]\n",
    "min_samples_leaf = [int(x) for x in np.linspace(start = 2, stop = 50,\n",
    "num = 10)]\n",
    "bootstrap = [True, False]\n",
    "param_dist = {'n_estimators': n_estimators,\n",
    "'max_features': max_features,\n",
    "'max_depth': max_depth,\n",
    "'min_samples_split': min_samples_split,\n",
    "'min_samples_leaf': min_samples_leaf,\n",
    "'bootstrap': bootstrap}"
   ]
  },
  {
   "cell_type": "code",
   "execution_count": 31,
   "id": "226ec1d8",
   "metadata": {},
   "outputs": [
    {
     "name": "stdout",
     "output_type": "stream",
     "text": [
      "Fitting 3 folds for each of 100 candidates, totalling 300 fits\n"
     ]
    },
    {
     "data": {
      "text/plain": [
       "{'n_estimators': 800,\n",
       " 'min_samples_split': 34,\n",
       " 'min_samples_leaf': 28,\n",
       " 'max_features': 'sqrt',\n",
       " 'max_depth': 7,\n",
       " 'bootstrap': False}"
      ]
     },
     "execution_count": 31,
     "metadata": {},
     "output_type": "execute_result"
    }
   ],
   "source": [
    "rs = RandomizedSearchCV(rfc,\n",
    "param_dist,\n",
    "n_iter = 100,\n",
    "cv = 3,\n",
    "verbose = 1,\n",
    "n_jobs=-1,\n",
    "random_state=0)\n",
    "\n",
    "rs.fit(X_train, y_train)\n",
    "rs.best_params_"
   ]
  },
  {
   "cell_type": "code",
   "execution_count": 32,
   "id": "3424dbad",
   "metadata": {},
   "outputs": [
    {
     "data": {
      "text/html": [
       "<div>\n",
       "<style scoped>\n",
       "    .dataframe tbody tr th:only-of-type {\n",
       "        vertical-align: middle;\n",
       "    }\n",
       "\n",
       "    .dataframe tbody tr th {\n",
       "        vertical-align: top;\n",
       "    }\n",
       "\n",
       "    .dataframe thead th {\n",
       "        text-align: right;\n",
       "    }\n",
       "</style>\n",
       "<table border=\"1\" class=\"dataframe\">\n",
       "  <thead>\n",
       "    <tr style=\"text-align: right;\">\n",
       "      <th></th>\n",
       "      <th>param_n_estimators</th>\n",
       "      <th>param_min_samples_split</th>\n",
       "      <th>param_min_samples_leaf</th>\n",
       "      <th>param_max_features</th>\n",
       "      <th>param_max_depth</th>\n",
       "      <th>param_bootstrap</th>\n",
       "      <th>mean_test_score</th>\n",
       "      <th>rank_test_score</th>\n",
       "    </tr>\n",
       "  </thead>\n",
       "  <tbody>\n",
       "    <tr>\n",
       "      <th>0</th>\n",
       "      <td>500</td>\n",
       "      <td>23</td>\n",
       "      <td>23</td>\n",
       "      <td>sqrt</td>\n",
       "      <td>8</td>\n",
       "      <td>False</td>\n",
       "      <td>0.890909</td>\n",
       "      <td>1</td>\n",
       "    </tr>\n",
       "    <tr>\n",
       "      <th>1</th>\n",
       "      <td>400</td>\n",
       "      <td>34</td>\n",
       "      <td>7</td>\n",
       "      <td>log2</td>\n",
       "      <td>2</td>\n",
       "      <td>True</td>\n",
       "      <td>0.890909</td>\n",
       "      <td>1</td>\n",
       "    </tr>\n",
       "    <tr>\n",
       "      <th>2</th>\n",
       "      <td>300</td>\n",
       "      <td>39</td>\n",
       "      <td>2</td>\n",
       "      <td>sqrt</td>\n",
       "      <td>3</td>\n",
       "      <td>True</td>\n",
       "      <td>0.890909</td>\n",
       "      <td>1</td>\n",
       "    </tr>\n",
       "    <tr>\n",
       "      <th>3</th>\n",
       "      <td>1000</td>\n",
       "      <td>7</td>\n",
       "      <td>34</td>\n",
       "      <td>sqrt</td>\n",
       "      <td>4</td>\n",
       "      <td>False</td>\n",
       "      <td>0.890909</td>\n",
       "      <td>1</td>\n",
       "    </tr>\n",
       "    <tr>\n",
       "      <th>4</th>\n",
       "      <td>100</td>\n",
       "      <td>23</td>\n",
       "      <td>18</td>\n",
       "      <td>sqrt</td>\n",
       "      <td>10</td>\n",
       "      <td>True</td>\n",
       "      <td>0.890909</td>\n",
       "      <td>1</td>\n",
       "    </tr>\n",
       "    <tr>\n",
       "      <th>5</th>\n",
       "      <td>100</td>\n",
       "      <td>18</td>\n",
       "      <td>23</td>\n",
       "      <td>log2</td>\n",
       "      <td>10</td>\n",
       "      <td>True</td>\n",
       "      <td>0.890909</td>\n",
       "      <td>1</td>\n",
       "    </tr>\n",
       "    <tr>\n",
       "      <th>6</th>\n",
       "      <td>600</td>\n",
       "      <td>28</td>\n",
       "      <td>2</td>\n",
       "      <td>sqrt</td>\n",
       "      <td>1</td>\n",
       "      <td>False</td>\n",
       "      <td>0.890909</td>\n",
       "      <td>1</td>\n",
       "    </tr>\n",
       "    <tr>\n",
       "      <th>7</th>\n",
       "      <td>1000</td>\n",
       "      <td>50</td>\n",
       "      <td>28</td>\n",
       "      <td>sqrt</td>\n",
       "      <td>4</td>\n",
       "      <td>True</td>\n",
       "      <td>0.890909</td>\n",
       "      <td>1</td>\n",
       "    </tr>\n",
       "    <tr>\n",
       "      <th>8</th>\n",
       "      <td>700</td>\n",
       "      <td>50</td>\n",
       "      <td>23</td>\n",
       "      <td>log2</td>\n",
       "      <td>2</td>\n",
       "      <td>True</td>\n",
       "      <td>0.890909</td>\n",
       "      <td>1</td>\n",
       "    </tr>\n",
       "    <tr>\n",
       "      <th>9</th>\n",
       "      <td>300</td>\n",
       "      <td>18</td>\n",
       "      <td>18</td>\n",
       "      <td>sqrt</td>\n",
       "      <td>13</td>\n",
       "      <td>True</td>\n",
       "      <td>0.890909</td>\n",
       "      <td>1</td>\n",
       "    </tr>\n",
       "  </tbody>\n",
       "</table>\n",
       "</div>"
      ],
      "text/plain": [
       "  param_n_estimators param_min_samples_split param_min_samples_leaf  \\\n",
       "0                500                      23                     23   \n",
       "1                400                      34                      7   \n",
       "2                300                      39                      2   \n",
       "3               1000                       7                     34   \n",
       "4                100                      23                     18   \n",
       "5                100                      18                     23   \n",
       "6                600                      28                      2   \n",
       "7               1000                      50                     28   \n",
       "8                700                      50                     23   \n",
       "9                300                      18                     18   \n",
       "\n",
       "  param_max_features param_max_depth param_bootstrap  mean_test_score  \\\n",
       "0               sqrt               8           False         0.890909   \n",
       "1               log2               2            True         0.890909   \n",
       "2               sqrt               3            True         0.890909   \n",
       "3               sqrt               4           False         0.890909   \n",
       "4               sqrt              10            True         0.890909   \n",
       "5               log2              10            True         0.890909   \n",
       "6               sqrt               1           False         0.890909   \n",
       "7               sqrt               4            True         0.890909   \n",
       "8               log2               2            True         0.890909   \n",
       "9               sqrt              13            True         0.890909   \n",
       "\n",
       "   rank_test_score  \n",
       "0                1  \n",
       "1                1  \n",
       "2                1  \n",
       "3                1  \n",
       "4                1  \n",
       "5                1  \n",
       "6                1  \n",
       "7                1  \n",
       "8                1  \n",
       "9                1  "
      ]
     },
     "execution_count": 32,
     "metadata": {},
     "output_type": "execute_result"
    }
   ],
   "source": [
    "rs_df = pd.DataFrame(rs.cv_results_).sort_values('rank_test_score').reset_index(drop=True)\n",
    "rs_df = rs_df.drop([\n",
    "'mean_fit_time',\n",
    "'std_fit_time',\n",
    "'mean_score_time',\n",
    "'std_score_time',\n",
    "'params',\n",
    "'split0_test_score',\n",
    "'split1_test_score',\n",
    "'split2_test_score',\n",
    "'std_test_score'],\n",
    "axis=1)\n",
    "\n",
    "rs_df.head(10)"
   ]
  },
  {
   "cell_type": "code",
   "execution_count": 33,
   "id": "4ccda75e",
   "metadata": {},
   "outputs": [
    {
     "data": {
      "image/png": "[encoded data removed]",
      "text/plain": [
       "<Figure size 3000x2500 with 6 Axes>"
      ]
     },
     "metadata": {},
     "output_type": "display_data"
    }
   ],
   "source": [
    "fig, axs = plt.subplots(ncols=3, nrows=2)\n",
    "sns.set(style=\"whitegrid\", color_codes=True, font_scale = 2)\n",
    "fig.set_size_inches(30,25)\n",
    "sns.barplot(x='param_n_estimators', y='mean_test_score', data=rs_df,\n",
    "ax=axs[0,0], color='lightgrey')\n",
    "axs[0,0].set_ylim([.0,1])\n",
    "axs[0,0].set_title(label = 'n_estimators',\n",
    "size=30, weight='bold')\n",
    "\n",
    "sns.barplot(x='param_min_samples_split', y='mean_test_score',\n",
    "data=rs_df, ax=axs[0,1], color='coral')\n",
    "axs[0,1].set_ylim([.0,1])\n",
    "axs[0,1].set_title(label =\n",
    "'min_samples_split', size=30, weight='bold')\n",
    "\n",
    "sns.barplot(x='param_min_samples_leaf', y='mean_test_score',\n",
    "data=rs_df, ax=axs[0,2], color='lightgreen')\n",
    "axs[0,2].set_ylim([.0,1])\n",
    "axs[0,2].set_title(label =\n",
    "'min_samples_leaf', size=30, weight='bold')\n",
    "\n",
    "sns.barplot(x='param_max_features', y='mean_test_score', data=rs_df,\n",
    "ax=axs[1,0], color='wheat')\n",
    "axs[1,0].set_ylim([.0,1])\n",
    "axs[1,0].set_title(label = 'max_features',\n",
    "size=30, weight='bold')\n",
    "\n",
    "sns.barplot(x='param_max_depth', y='mean_test_score', data=rs_df,\n",
    "ax=axs[1,1], color='lightpink')\n",
    "axs[1,1].set_ylim([.0,1])\n",
    "axs[1,1].set_title(label = 'max_depth',\n",
    "size=30, weight='bold')\n",
    "\n",
    "sns.barplot(x='param_bootstrap',y='mean_test_score', data=rs_df,\n",
    "ax=axs[1,2], color='skyblue')\n",
    "axs[1,2].set_ylim([.0,1])\n",
    "axs[1,2].set_title(label = 'bootstrap', size=30, weight='bold')\n",
    "\n",
    "plt.show()"
   ]
  },
  {
   "cell_type": "code",
   "execution_count": 35,
   "id": "1e5325c5",
   "metadata": {},
   "outputs": [
    {
     "name": "stdout",
     "output_type": "stream",
     "text": [
      "Fitting 3 folds for each of 384 candidates, totalling 1152 fits\n"
     ]
    },
    {
     "data": {
      "text/plain": [
       "{'bootstrap': True,\n",
       " 'max_depth': 3,\n",
       " 'max_features': 'sqrt',\n",
       " 'min_samples_leaf': 7,\n",
       " 'min_samples_split': 2,\n",
       " 'n_estimators': 100}"
      ]
     },
     "execution_count": 35,
     "metadata": {},
     "output_type": "execute_result"
    }
   ],
   "source": [
    "from sklearn.model_selection import GridSearchCV\n",
    "n_estimators = [100,300,400,500]\n",
    "max_features = ['sqrt']\n",
    "max_depth = [3,7,8,10]\n",
    "min_samples_split = [2,7,10,23]\n",
    "min_samples_leaf = [2,7,23]\n",
    "bootstrap = [True,False]\n",
    "\n",
    "param_grid = {'n_estimators': n_estimators,\n",
    "'max_features': max_features,\n",
    "'max_depth': max_depth,\n",
    "'min_samples_split': min_samples_split,\n",
    "'min_samples_leaf': min_samples_leaf,\n",
    "'bootstrap': bootstrap}\n",
    "\n",
    "gs = GridSearchCV(rfc, param_grid, cv = 3, verbose = 1, n_jobs=-1)\n",
    "gs.fit(X_train, y_train)\n",
    "rfc_2 = gs.best_estimator_\n",
    "gs.best_params_"
   ]
  },
  {
   "cell_type": "code",
   "execution_count": 38,
   "id": "77d465f2",
   "metadata": {},
   "outputs": [],
   "source": [
    "y_pred = rfc.predict(X_test)\n",
    "\n",
    "y_pred_gs = gs.best_estimator_.predict(X_test)"
   ]
  },
  {
   "cell_type": "code",
   "execution_count": 39,
   "id": "f5ebdd22",
   "metadata": {},
   "outputs": [
    {
     "data": {
      "text/html": [
       "<div>\n",
       "<style scoped>\n",
       "    .dataframe tbody tr th:only-of-type {\n",
       "        vertical-align: middle;\n",
       "    }\n",
       "\n",
       "    .dataframe tbody tr th {\n",
       "        vertical-align: top;\n",
       "    }\n",
       "\n",
       "    .dataframe thead th {\n",
       "        text-align: right;\n",
       "    }\n",
       "</style>\n",
       "<table border=\"1\" class=\"dataframe\">\n",
       "  <thead>\n",
       "    <tr style=\"text-align: right;\">\n",
       "      <th></th>\n",
       "      <th>0</th>\n",
       "      <th>1</th>\n",
       "    </tr>\n",
       "  </thead>\n",
       "  <tbody>\n",
       "    <tr>\n",
       "      <th>0</th>\n",
       "      <td>29</td>\n",
       "      <td>7</td>\n",
       "    </tr>\n",
       "    <tr>\n",
       "      <th>1</th>\n",
       "      <td>2</td>\n",
       "      <td>33</td>\n",
       "    </tr>\n",
       "  </tbody>\n",
       "</table>\n",
       "</div>"
      ],
      "text/plain": [
       "    0   1\n",
       "0  29   7\n",
       "1   2  33"
      ]
     },
     "metadata": {},
     "output_type": "display_data"
    },
    {
     "data": {
      "text/plain": [
       "'Baseline Random Forest accuracy score'"
      ]
     },
     "metadata": {},
     "output_type": "display_data"
    },
    {
     "data": {
      "text/plain": [
       "0.8732394366197183"
      ]
     },
     "metadata": {},
     "output_type": "display_data"
    },
    {
     "data": {
      "text/html": [
       "<div>\n",
       "<style scoped>\n",
       "    .dataframe tbody tr th:only-of-type {\n",
       "        vertical-align: middle;\n",
       "    }\n",
       "\n",
       "    .dataframe tbody tr th {\n",
       "        vertical-align: top;\n",
       "    }\n",
       "\n",
       "    .dataframe thead th {\n",
       "        text-align: right;\n",
       "    }\n",
       "</style>\n",
       "<table border=\"1\" class=\"dataframe\">\n",
       "  <thead>\n",
       "    <tr style=\"text-align: right;\">\n",
       "      <th></th>\n",
       "      <th>0</th>\n",
       "      <th>1</th>\n",
       "    </tr>\n",
       "  </thead>\n",
       "  <tbody>\n",
       "    <tr>\n",
       "      <th>0</th>\n",
       "      <td>28</td>\n",
       "      <td>8</td>\n",
       "    </tr>\n",
       "    <tr>\n",
       "      <th>1</th>\n",
       "      <td>1</td>\n",
       "      <td>34</td>\n",
       "    </tr>\n",
       "  </tbody>\n",
       "</table>\n",
       "</div>"
      ],
      "text/plain": [
       "    0   1\n",
       "0  28   8\n",
       "1   1  34"
      ]
     },
     "metadata": {},
     "output_type": "display_data"
    },
    {
     "data": {
      "text/plain": [
       "'Hyperparameter Tuned Random Forest accuracy score'"
      ]
     },
     "metadata": {},
     "output_type": "display_data"
    },
    {
     "data": {
      "text/plain": [
       "0.8732394366197183"
      ]
     },
     "metadata": {},
     "output_type": "display_data"
    }
   ],
   "source": [
    "from sklearn.metrics import confusion_matrix\n",
    "\n",
    "conf_matrix_baseline = pd.DataFrame(confusion_matrix(y_test, y_pred),\n",
    "index = [np.unique(y_pred)[0],np.unique(y_pred)[1]], columns = [np.unique(y_pred)[0],np.unique(y_pred)[1]])\n",
    "                                   \n",
    "                                             \n",
    "\n",
    "conf_matrix_tuned = pd.DataFrame(confusion_matrix(y_test, y_pred_gs),\n",
    "        index = [np.unique(y_pred)[0],np.unique(y_pred)[1]], columns = [np.unique(y_pred)[0],np.unique(y_pred)[1]])\n",
    "                                                         \n",
    "display(conf_matrix_baseline)\n",
    "display('Baseline Random Forest accuracy score', accuracy_score(y_test, y_pred))\n",
    "                                                         \n",
    "\n",
    "display(conf_matrix_tuned)\n",
    "display('Hyperparameter Tuned Random Forest accuracy score', accuracy_score(y_test, y_pred_gs))"
   ]
  },
  {
   "cell_type": "code",
   "execution_count": 19,
   "id": "22a9d79e",
   "metadata": {},
   "outputs": [],
   "source": [
    "# Repeat with best performing model"
   ]
  },
  {
   "cell_type": "code",
   "execution_count": 41,
   "id": "caf393ac",
   "metadata": {},
   "outputs": [],
   "source": [
    "def run_rf(df, expl_vars, resp_var, SPLIT_RND_SEED):\n",
    "    X = df[expl_vars]\n",
    "    y = df[resp_var]\n",
    "    \n",
    "    rus = RandomUnderSampler(random_state=2020)\n",
    "    X_rus, y_rus = rus.fit_resample(X, y)\n",
    "\n",
    "# Split dataset into training set and test set\n",
    "\n",
    "    X_train, X_test, y_train, y_test = train_test_split(X_rus, y_rus,\n",
    "                                                    test_size=0.3, \n",
    "                                                    random_state=SPLIT_RND_SEED,\n",
    "                                                    stratify = y_rus)  # 70% training and 30% test\n",
    "    mm = MinMaxScaler()\n",
    "    X_train_scaled = mm.fit_transform(X_train)\n",
    "    X_test_scaled = mm.transform(X_test)\n",
    "    \n",
    "    \n",
    "    from sklearn.ensemble import RandomForestClassifier\n",
    "    \n",
    "    # Modify with best parameters  \n",
    "    rf = RandomForestClassifier(bootstrap=True,\n",
    "                                max_depth=3,\n",
    "                                max_features= 'sqrt',\n",
    "                                min_samples_leaf=7,\n",
    "                                min_samples_split=2,\n",
    "                                n_estimators= 100)\n",
    "        \n",
    "\n",
    "    rf_model = rf.fit(X_train_scaled, y_train)\n",
    "    \n",
    "    y_pred = rf_model.predict(X_test_scaled)\n",
    "    \n",
    "    from sklearn.metrics import accuracy_score\n",
    "    accuracy = accuracy_score(y_test, y_pred)\n",
    "    \n",
    "    from sklearn.metrics import precision_recall_fscore_support\n",
    "    \n",
    "    prec, recall, fscore, support = precision_recall_fscore_support(y_test, y_pred)\n",
    "  \n",
    "    \n",
    "    from sklearn.metrics import cohen_kappa_score\n",
    "        \n",
    "    cohen_score = cohen_kappa_score(y_test, y_pred)\n",
    "    \n",
    "#     from sklearn.metrics import roc_auc_score\n",
    "    \n",
    "#     roc_auc_label0 = roc_auc_score(y_test, rf_model.predict_proba(X_test_scaled)[:,0])\n",
    "#     roc_auc_label1 = roc_auc_score(y_test, rf_model.predict_proba(X_test_scaled)[:,1])\n",
    "\n",
    "    label_0 = np.unique(y_pred)[0]\n",
    "    label_1 = np.unique(y_pred)[1]\n",
    "    \n",
    "    metrics = {\n",
    "        'cohen_kappa': [cohen_score], \n",
    "        'accuracy_score': [accuracy],\n",
    "        'precision {}'.format(label_0): [prec[0]],\n",
    "        'precision {}'.format(label_1): [prec[1]],\n",
    "        'recall {}'.format(label_0): [recall[0]],\n",
    "        'recall {}'.format(label_1): [recall[1]],\n",
    "        'fscore {}'.format(label_0): [fscore[0]],\n",
    "        'fscore {}'.format(label_1): [fscore[1]],\n",
    "\n",
    "#         'ROC-AUC {}'.format(label_0): [roc_auc_label0],\n",
    "#         'ROC-AUC {}'.format(label_1): [roc_auc_label1]\n",
    "    }\n",
    "    metrics_df = pd.DataFrame(data=metrics)\n",
    "    \n",
    "    return metrics_df\n"
   ]
  },
  {
   "cell_type": "code",
   "execution_count": 48,
   "id": "b00b7fb2",
   "metadata": {},
   "outputs": [
    {
     "data": {
      "text/plain": [
       "cohen_kappa       0.778051\n",
       "accuracy_score    0.889014\n",
       "precision 0       0.954759\n",
       "precision 1       0.842553\n",
       "recall 0          0.817635\n",
       "recall 1          0.960500\n",
       "fscore 0          0.879526\n",
       "fscore 1          0.896874\n",
       "dtype: float64"
      ]
     },
     "execution_count": 48,
     "metadata": {},
     "output_type": "execute_result"
    }
   ],
   "source": [
    "# Run 100 times (100 different 70/30 train/test splits) to get average scores\n",
    "import random\n",
    " \n",
    "rand_list=[]\n",
    "n=100\n",
    "for i in range(n):\n",
    "    rand_list.append(random.randint(100,999))\n",
    "\n",
    "# RF model, GDM Inc 2020 SB + VI\n",
    "\n",
    "results_alldata = []\n",
    "for r in rand_list:\n",
    "    res_df = run_rf(data_2020, ['blue', 'green', 'red', 'nir', 'ndvi', 'evi', 'arvi'], \n",
    "                                              'GDM_inc', r)\n",
    "    \n",
    "    results_alldata.append(res_df)\n",
    "\n",
    "results_alldata_df = pd.concat(results_alldata)\n",
    "results_alldata_df.mean()"
   ]
  },
  {
   "cell_type": "code",
   "execution_count": 42,
   "id": "817dea19",
   "metadata": {},
   "outputs": [
    {
     "data": {
      "text/html": [
       "<div>\n",
       "<style scoped>\n",
       "    .dataframe tbody tr th:only-of-type {\n",
       "        vertical-align: middle;\n",
       "    }\n",
       "\n",
       "    .dataframe tbody tr th {\n",
       "        vertical-align: top;\n",
       "    }\n",
       "\n",
       "    .dataframe thead th {\n",
       "        text-align: right;\n",
       "    }\n",
       "</style>\n",
       "<table border=\"1\" class=\"dataframe\">\n",
       "  <thead>\n",
       "    <tr style=\"text-align: right;\">\n",
       "      <th></th>\n",
       "      <th>cohen_kappa</th>\n",
       "      <th>accuracy_score</th>\n",
       "      <th>precision 0</th>\n",
       "      <th>precision 1</th>\n",
       "      <th>recall 0</th>\n",
       "      <th>recall 1</th>\n",
       "      <th>fscore 0</th>\n",
       "      <th>fscore 1</th>\n",
       "    </tr>\n",
       "  </thead>\n",
       "  <tbody>\n",
       "    <tr>\n",
       "      <th>0</th>\n",
       "      <td>0.831354</td>\n",
       "      <td>0.915493</td>\n",
       "      <td>1.0</td>\n",
       "      <td>0.853659</td>\n",
       "      <td>0.833333</td>\n",
       "      <td>1.0</td>\n",
       "      <td>0.909091</td>\n",
       "      <td>0.921053</td>\n",
       "    </tr>\n",
       "  </tbody>\n",
       "</table>\n",
       "</div>"
      ],
      "text/plain": [
       "   cohen_kappa  accuracy_score  precision 0  precision 1  recall 0  recall 1  \\\n",
       "0     0.831354        0.915493          1.0     0.853659  0.833333       1.0   \n",
       "\n",
       "   fscore 0  fscore 1  \n",
       "0  0.909091  0.921053  "
      ]
     },
     "execution_count": 42,
     "metadata": {},
     "output_type": "execute_result"
    }
   ],
   "source": [
    "run_rf(data_2020, ['blue', 'green', 'red', 'nir', 'ndvi', 'evi', 'arvi'], \n",
    "                                              'GDM_inc', 2020)"
   ]
  },
  {
   "cell_type": "code",
   "execution_count": 25,
   "id": "2b537187",
   "metadata": {},
   "outputs": [],
   "source": [
    "# Get permutation feature imp. scores\n",
    "# https://scikit-learn.org/stable/auto_examples/inspection/plot_permutation_importance.html#sphx-glr-auto-examples-inspection-plot-permutation-importance-py"
   ]
  },
  {
   "cell_type": "code",
   "execution_count": 43,
   "id": "61c2cf19",
   "metadata": {},
   "outputs": [],
   "source": [
    "df = data_2020\n",
    "expl_vars = ['blue', 'green', 'red', 'nir','ndvi', 'evi', 'arvi']\n",
    "resp_var = 'GDM_inc'\n",
    "\n",
    "\n",
    "X = df[expl_vars]\n",
    "y = df[resp_var]\n",
    "    \n",
    "rus = RandomUnderSampler(random_state=2020)\n",
    "X_rus, y_rus = rus.fit_resample(X, y)\n",
    "\n",
    "# Split dataset into training set and test set\n",
    "\n",
    "X_train, X_test, y_train, y_test = train_test_split(X_rus, y_rus,\n",
    "                                                    test_size=0.3, \n",
    "                                                    random_state=123,\n",
    "                                                    stratify = y_rus)  # 70% training and 30% test\n",
    "mm = MinMaxScaler()\n",
    "X_train_scaled = mm.fit_transform(X_train)\n",
    "X_test_scaled = mm.transform(X_test)\n",
    "    \n",
    "    \n",
    "from sklearn.ensemble import RandomForestClassifier\n",
    "    \n",
    "# Modify with best parameters  \n",
    "rf = RandomForestClassifier(bootstrap=True,\n",
    "                                max_depth=3,\n",
    "                                max_features= 'sqrt',\n",
    "                                min_samples_leaf=7,\n",
    "                                min_samples_split=2,\n",
    "                                n_estimators= 100)\n",
    "        \n",
    "\n",
    "rf_model = rf.fit(X_train_scaled, y_train)\n",
    "    \n",
    "#y_pred = rf_model.predict(X_test_scaled)"
   ]
  },
  {
   "cell_type": "code",
   "execution_count": 46,
   "id": "19eccb8b",
   "metadata": {},
   "outputs": [
    {
     "data": {
      "image/png": "[encoded data removed]",
      "text/plain": [
       "<Figure size 640x480 with 1 Axes>"
      ]
     },
     "metadata": {},
     "output_type": "display_data"
    }
   ],
   "source": [
    "from sklearn.inspection import permutation_importance\n",
    "\n",
    "result = permutation_importance(\n",
    "    rf_model, X_test_scaled, y_test, n_repeats=10, random_state=16, n_jobs=2\n",
    ")\n",
    "\n",
    "sorted_importances_idx = result.importances_mean.argsort()\n",
    "importances = pd.DataFrame(\n",
    "    result.importances[sorted_importances_idx].T,\n",
    "    columns=X.columns[sorted_importances_idx],\n",
    ")\n",
    "ax = importances.plot.box(vert=False, whis=10)\n",
    "ax.set_title(\"Permutation Importances (test set)\",fontname=\"Arial\", fontsize=10)\n",
    "ax.axvline(x=0, color=\"k\", linestyle=\"--\")\n",
    "ax.set_xlabel(\"Decrease in accuracy score\",fontname=\"Arial\", fontsize = 10)\n",
    "ax.set_ylabel(\"Features\",fontname=\"Arial\", fontsize = 10)\n",
    "\n",
    "ax.figure.tight_layout()"
   ]
  },
  {
   "cell_type": "code",
   "execution_count": null,
   "id": "870fd7a5",
   "metadata": {},
   "outputs": [],
   "source": []
  }
 ],
 "metadata": {
  "kernelspec": {
   "display_name": "Python 3 (ipykernel)",
   "language": "python",
   "name": "python3"
  },
  "language_info": {
   "codemirror_mode": {
    "name": "ipython",
    "version": 3
   },
   "file_extension": ".py",
   "mimetype": "text/x-python",
   "name": "python",
   "nbconvert_exporter": "python",
   "pygments_lexer": "ipython3",
   "version": "3.10.6"
  }
 },
 "nbformat": 4,
 "nbformat_minor": 5
}
