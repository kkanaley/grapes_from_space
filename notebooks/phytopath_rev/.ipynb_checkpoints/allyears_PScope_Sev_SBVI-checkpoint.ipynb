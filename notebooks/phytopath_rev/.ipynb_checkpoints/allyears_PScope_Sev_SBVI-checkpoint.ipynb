{
 "cells": [
  {
   "cell_type": "code",
   "execution_count": 1,
   "id": "19fedb74",
   "metadata": {},
   "outputs": [],
   "source": [
    "import glob\n",
    "import os\n",
    "import matplotlib.pyplot as plt\n",
    "import pandas as pd\n",
    "import numpy as np\n",
    "import seaborn as sns\n",
    "import rasterio as rio\n",
    "\n",
    "import sklearn\n",
    "from sklearn.preprocessing import MinMaxScaler\n",
    "from sklearn.model_selection import train_test_split\n",
    "from sklearn.ensemble import RandomForestClassifier\n",
    "from sklearn.model_selection import cross_val_score\n",
    "from sklearn.model_selection import RepeatedStratifiedKFold\n",
    "from sklearn.metrics import classification_report \n",
    "from sklearn.metrics import accuracy_score\n",
    "from sklearn.metrics import precision_recall_fscore_support\n",
    "from sklearn.metrics import roc_auc_score\n",
    "from sklearn.metrics import confusion_matrix\n",
    "\n",
    "import imblearn as imb\n",
    "from imblearn.under_sampling import RandomUnderSampler\n",
    "\n",
    "import scipy\n",
    "import itertools\n",
    "import random\n",
    "import ast"
   ]
  },
  {
   "cell_type": "markdown",
   "id": "a010eab2",
   "metadata": {},
   "source": [
    "## Data prep"
   ]
  },
  {
   "cell_type": "code",
   "execution_count": 2,
   "id": "0510f78a",
   "metadata": {},
   "outputs": [],
   "source": [
    "def img_to_df(img_path, cols):\n",
    "    with rio.open(img_path) as src:\n",
    "        as_array = src.read()\n",
    "        band_arrs = []\n",
    "        \n",
    "        for i in np.arange(src.count):\n",
    "            band_arr = as_array[i].flatten()\n",
    "            band_arr = band_arr/10000\n",
    "            \n",
    "            band_arrs.append(band_arr)\n",
    "        \n",
    "        df = pd.DataFrame(band_arrs,cols).T\n",
    "        df['Date'] = img_path.split('/')[-1].split('_')[0]\n",
    "        \n",
    "        # Optional: drops entries with no severity rating. Comment out if unnecessary.\n",
    "        no_nans = df.dropna(subset=['total_dis_sev']) \n",
    "        \n",
    "        return no_nans"
   ]
  },
  {
   "cell_type": "code",
   "execution_count": 3,
   "id": "ea08a792",
   "metadata": {},
   "outputs": [],
   "source": [
    "def add_vis(df):\n",
    "    df['pri']= (df['green']- df['greenI'])/(df['green']+df['greenI'])\n",
    "    df['ndre'] = (df['nir'] - df['rede']) / (df['nir'] + df['rede'])\n",
    "    df['tcari'] = 3 * (( (df['rede'] - df['red']) - 0.2 * (df['rede'] - df['green']) ) * (df['rede'] / df['red']))\n",
    "    df['ndvi']= (df['nir']-df['red'])/(df['nir']+df['red'])\n",
    "    df['evi']= 2.5*(df['nir']-df['red'])/(df['nir']+6*df['red']-7.5*df['blue']+1)\n",
    "    df['savi']= 1.5*(df['nir']-df['red'])/(df['nir']+df['red']+0.5)\n",
    "    df['arvi']=(df['nir']-(2*df['red']-df['blue']))/(df['nir']+(2*df['red']-df['blue']))\n",
    "    df['grvi'] = (df['green']-df['red'])/(df['green']+df['red'])\n",
    "\n",
    "    return df"
   ]
  },
  {
   "cell_type": "code",
   "execution_count": 4,
   "id": "196fe5df",
   "metadata": {},
   "outputs": [],
   "source": [
    "data_dir = '/Users/kathleenkanaley/Desktop/grapes_from_space/data/'\n",
    "dis_ras_20 = glob.glob(data_dir +'images/2020/PScope/dis_band_*/20*.tif')\n",
    "dis_ras_21 = glob.glob(data_dir +'images/2021/PScope/dis_band_*/20*.tif')\n",
    "dis_ras_22 = glob.glob(data_dir +'images/2022/PScope/dis_band_*/20*.tif')"
   ]
  },
  {
   "cell_type": "code",
   "execution_count": 5,
   "id": "46d77696",
   "metadata": {},
   "outputs": [],
   "source": [
    "# Get dataframes for all years\n",
    "def data_prep_ps(rasters, cols):\n",
    "    dfs = [img_to_df(rasters[i], cols) for i in np.arange(len(rasters))]\n",
    "    df = pd.concat(dfs)\n",
    "    df['total_dis_sev'] = df['total_dis_sev']*10000\n",
    "    df['dm_sev'] = df['dm_sev']*10000\n",
    "    df['dm_inc'] = df['dm_inc']*10000\n",
    "    df['inc_class'] = 0\n",
    "    df.loc[df['dm_inc']>25,'inc_class']= 1\n",
    "    df['severity_class'] = 0\n",
    "    df.loc[df['dm_sev']>10,'severity_class']= 1\n",
    "    vis = add_vis(df)\n",
    "    return vis\n",
    "    \n",
    "    \n",
    "# dfs_2020 = [img_to_df(dis_ras_20[i], cols) for i in np.arange(len(dis_ras_20))]\n",
    "# df_2020 = pd.concat(dfs_2020)\n",
    "\n",
    "# df_2020['total_dis_sev'] = df_2020['total_dis_sev']*10000\n",
    "# df_2020['dm_sev'] = df_2020['dm_sev']*10000\n",
    "# df_2020['dm_inc'] = df_2020['dm_inc']*10000\n",
    "\n",
    "# df_2020['inc_class'] = 'low'\n",
    "# df_2020.loc[df_2020['dm_inc']>25,'inc_class']= 'high'\n",
    "    \n",
    "# df_2020['severity_class'] = 'low'\n",
    "# df_2020.loc[df_2020['dm_sev']>10,'severity_class']= 'high'\n",
    "\n",
    "# vis_2020 = add_vis(df_2020)\n",
    "\n",
    "# vis_2020.columns"
   ]
  },
  {
   "cell_type": "code",
   "execution_count": 6,
   "id": "9eb56d0f",
   "metadata": {},
   "outputs": [
    {
     "data": {
      "text/plain": [
       "3"
      ]
     },
     "execution_count": 6,
     "metadata": {},
     "output_type": "execute_result"
    }
   ],
   "source": [
    "cols = ['c_blue','blue','greenI', 'green', 'yellow', 'red', 'rede', 'nir','total_dis_sev','dm_sev', 'dm_inc']\n",
    "vi_dfs = []\n",
    "\n",
    "for ras in [dis_ras_20, dis_ras_21, dis_ras_22]:\n",
    "    vi_df = data_prep_ps(ras,cols)\n",
    "    vi_dfs.append(vi_df)\n",
    "    \n",
    "len(vi_dfs)"
   ]
  },
  {
   "cell_type": "code",
   "execution_count": 7,
   "id": "42fcfb71",
   "metadata": {},
   "outputs": [
    {
     "data": {
      "text/plain": [
       "array(['20220726', '20220801', '20220630', '20220704', '20220624'],\n",
       "      dtype=object)"
      ]
     },
     "execution_count": 7,
     "metadata": {},
     "output_type": "execute_result"
    }
   ],
   "source": [
    "vi_dfs[2].Date.unique()"
   ]
  },
  {
   "cell_type": "code",
   "execution_count": 8,
   "id": "ab8bfec3",
   "metadata": {},
   "outputs": [
    {
     "name": "stdout",
     "output_type": "stream",
     "text": [
      "2022\n",
      "2022\n",
      "2022\n",
      "2022\n",
      "2022\n"
     ]
    }
   ],
   "source": [
    "for date in (vi_dfs[2].Date.unique()):\n",
    "    print(date[:4])"
   ]
  },
  {
   "cell_type": "code",
   "execution_count": 9,
   "id": "f140b46f",
   "metadata": {},
   "outputs": [
    {
     "data": {
      "text/plain": [
       "Index(['c_blue', 'blue', 'greenI', 'green', 'yellow', 'red', 'rede', 'nir',\n",
       "       'total_dis_sev', 'dm_sev', 'dm_inc', 'Date', 'inc_class',\n",
       "       'severity_class', 'pri', 'ndre', 'tcari', 'ndvi', 'evi', 'savi', 'arvi',\n",
       "       'grvi'],\n",
       "      dtype='object')"
      ]
     },
     "execution_count": 9,
     "metadata": {},
     "output_type": "execute_result"
    }
   ],
   "source": [
    "vi_dfs[0].columns"
   ]
  },
  {
   "cell_type": "code",
   "execution_count": 10,
   "id": "20255400",
   "metadata": {},
   "outputs": [],
   "source": [
    "# set up variables\n",
    "data_2022 = vi_dfs[2]\n",
    "data_2021 = vi_dfs[1]\n",
    "data_2020 = vi_dfs[0]\n",
    "data_all = pd.concat([data_2020,data_2021,data_2022])\n",
    "sev = 'severity_class'\n",
    "inc = 'inc_class'\n",
    "#sbs = ['c_blue', 'blue', 'greenI', 'green', 'yellow', 'red', 'rede', 'nir']\n",
    "vis = ['pri', 'ndre', 'tcari', 'ndvi', 'evi', 'savi', 'arvi',\n",
    "       'grvi']"
   ]
  },
  {
   "cell_type": "markdown",
   "id": "313c9613",
   "metadata": {},
   "source": [
    "## Find best set of VIs"
   ]
  },
  {
   "cell_type": "code",
   "execution_count": 11,
   "id": "88d019c8",
   "metadata": {},
   "outputs": [],
   "source": [
    "def get_combinations(lst): # creating a user-defined method\n",
    "    combination = [] # empty list \n",
    "    for r in range(1, len(lst) + 1):\n",
    "      # to generate combination\n",
    "      combination += itertools.combinations(lst, r)\n",
    "    return combination"
   ]
  },
  {
   "cell_type": "code",
   "execution_count": 12,
   "id": "51732069",
   "metadata": {
    "scrolled": true
   },
   "outputs": [
    {
     "name": "stdout",
     "output_type": "stream",
     "text": [
      "[('pri',), ('ndre',), ('tcari',), ('ndvi',), ('evi',), ('savi',), ('arvi',), ('grvi',), ('pri', 'ndre'), ('pri', 'tcari'), ('pri', 'ndvi'), ('pri', 'evi'), ('pri', 'savi'), ('pri', 'arvi'), ('pri', 'grvi'), ('ndre', 'tcari'), ('ndre', 'ndvi'), ('ndre', 'evi'), ('ndre', 'savi'), ('ndre', 'arvi'), ('ndre', 'grvi'), ('tcari', 'ndvi'), ('tcari', 'evi'), ('tcari', 'savi'), ('tcari', 'arvi'), ('tcari', 'grvi'), ('ndvi', 'evi'), ('ndvi', 'savi'), ('ndvi', 'arvi'), ('ndvi', 'grvi'), ('evi', 'savi'), ('evi', 'arvi'), ('evi', 'grvi'), ('savi', 'arvi'), ('savi', 'grvi'), ('arvi', 'grvi'), ('pri', 'ndre', 'tcari'), ('pri', 'ndre', 'ndvi'), ('pri', 'ndre', 'evi'), ('pri', 'ndre', 'savi'), ('pri', 'ndre', 'arvi'), ('pri', 'ndre', 'grvi'), ('pri', 'tcari', 'ndvi'), ('pri', 'tcari', 'evi'), ('pri', 'tcari', 'savi'), ('pri', 'tcari', 'arvi'), ('pri', 'tcari', 'grvi'), ('pri', 'ndvi', 'evi'), ('pri', 'ndvi', 'savi'), ('pri', 'ndvi', 'arvi'), ('pri', 'ndvi', 'grvi'), ('pri', 'evi', 'savi'), ('pri', 'evi', 'arvi'), ('pri', 'evi', 'grvi'), ('pri', 'savi', 'arvi'), ('pri', 'savi', 'grvi'), ('pri', 'arvi', 'grvi'), ('ndre', 'tcari', 'ndvi'), ('ndre', 'tcari', 'evi'), ('ndre', 'tcari', 'savi'), ('ndre', 'tcari', 'arvi'), ('ndre', 'tcari', 'grvi'), ('ndre', 'ndvi', 'evi'), ('ndre', 'ndvi', 'savi'), ('ndre', 'ndvi', 'arvi'), ('ndre', 'ndvi', 'grvi'), ('ndre', 'evi', 'savi'), ('ndre', 'evi', 'arvi'), ('ndre', 'evi', 'grvi'), ('ndre', 'savi', 'arvi'), ('ndre', 'savi', 'grvi'), ('ndre', 'arvi', 'grvi'), ('tcari', 'ndvi', 'evi'), ('tcari', 'ndvi', 'savi'), ('tcari', 'ndvi', 'arvi'), ('tcari', 'ndvi', 'grvi'), ('tcari', 'evi', 'savi'), ('tcari', 'evi', 'arvi'), ('tcari', 'evi', 'grvi'), ('tcari', 'savi', 'arvi'), ('tcari', 'savi', 'grvi'), ('tcari', 'arvi', 'grvi'), ('ndvi', 'evi', 'savi'), ('ndvi', 'evi', 'arvi'), ('ndvi', 'evi', 'grvi'), ('ndvi', 'savi', 'arvi'), ('ndvi', 'savi', 'grvi'), ('ndvi', 'arvi', 'grvi'), ('evi', 'savi', 'arvi'), ('evi', 'savi', 'grvi'), ('evi', 'arvi', 'grvi'), ('savi', 'arvi', 'grvi'), ('pri', 'ndre', 'tcari', 'ndvi'), ('pri', 'ndre', 'tcari', 'evi'), ('pri', 'ndre', 'tcari', 'savi'), ('pri', 'ndre', 'tcari', 'arvi'), ('pri', 'ndre', 'tcari', 'grvi'), ('pri', 'ndre', 'ndvi', 'evi'), ('pri', 'ndre', 'ndvi', 'savi'), ('pri', 'ndre', 'ndvi', 'arvi'), ('pri', 'ndre', 'ndvi', 'grvi'), ('pri', 'ndre', 'evi', 'savi'), ('pri', 'ndre', 'evi', 'arvi'), ('pri', 'ndre', 'evi', 'grvi'), ('pri', 'ndre', 'savi', 'arvi'), ('pri', 'ndre', 'savi', 'grvi'), ('pri', 'ndre', 'arvi', 'grvi'), ('pri', 'tcari', 'ndvi', 'evi'), ('pri', 'tcari', 'ndvi', 'savi'), ('pri', 'tcari', 'ndvi', 'arvi'), ('pri', 'tcari', 'ndvi', 'grvi'), ('pri', 'tcari', 'evi', 'savi'), ('pri', 'tcari', 'evi', 'arvi'), ('pri', 'tcari', 'evi', 'grvi'), ('pri', 'tcari', 'savi', 'arvi'), ('pri', 'tcari', 'savi', 'grvi'), ('pri', 'tcari', 'arvi', 'grvi'), ('pri', 'ndvi', 'evi', 'savi'), ('pri', 'ndvi', 'evi', 'arvi'), ('pri', 'ndvi', 'evi', 'grvi'), ('pri', 'ndvi', 'savi', 'arvi'), ('pri', 'ndvi', 'savi', 'grvi'), ('pri', 'ndvi', 'arvi', 'grvi'), ('pri', 'evi', 'savi', 'arvi'), ('pri', 'evi', 'savi', 'grvi'), ('pri', 'evi', 'arvi', 'grvi'), ('pri', 'savi', 'arvi', 'grvi'), ('ndre', 'tcari', 'ndvi', 'evi'), ('ndre', 'tcari', 'ndvi', 'savi'), ('ndre', 'tcari', 'ndvi', 'arvi'), ('ndre', 'tcari', 'ndvi', 'grvi'), ('ndre', 'tcari', 'evi', 'savi'), ('ndre', 'tcari', 'evi', 'arvi'), ('ndre', 'tcari', 'evi', 'grvi'), ('ndre', 'tcari', 'savi', 'arvi'), ('ndre', 'tcari', 'savi', 'grvi'), ('ndre', 'tcari', 'arvi', 'grvi'), ('ndre', 'ndvi', 'evi', 'savi'), ('ndre', 'ndvi', 'evi', 'arvi'), ('ndre', 'ndvi', 'evi', 'grvi'), ('ndre', 'ndvi', 'savi', 'arvi'), ('ndre', 'ndvi', 'savi', 'grvi'), ('ndre', 'ndvi', 'arvi', 'grvi'), ('ndre', 'evi', 'savi', 'arvi'), ('ndre', 'evi', 'savi', 'grvi'), ('ndre', 'evi', 'arvi', 'grvi'), ('ndre', 'savi', 'arvi', 'grvi'), ('tcari', 'ndvi', 'evi', 'savi'), ('tcari', 'ndvi', 'evi', 'arvi'), ('tcari', 'ndvi', 'evi', 'grvi'), ('tcari', 'ndvi', 'savi', 'arvi'), ('tcari', 'ndvi', 'savi', 'grvi'), ('tcari', 'ndvi', 'arvi', 'grvi'), ('tcari', 'evi', 'savi', 'arvi'), ('tcari', 'evi', 'savi', 'grvi'), ('tcari', 'evi', 'arvi', 'grvi'), ('tcari', 'savi', 'arvi', 'grvi'), ('ndvi', 'evi', 'savi', 'arvi'), ('ndvi', 'evi', 'savi', 'grvi'), ('ndvi', 'evi', 'arvi', 'grvi'), ('ndvi', 'savi', 'arvi', 'grvi'), ('evi', 'savi', 'arvi', 'grvi'), ('pri', 'ndre', 'tcari', 'ndvi', 'evi'), ('pri', 'ndre', 'tcari', 'ndvi', 'savi'), ('pri', 'ndre', 'tcari', 'ndvi', 'arvi'), ('pri', 'ndre', 'tcari', 'ndvi', 'grvi'), ('pri', 'ndre', 'tcari', 'evi', 'savi'), ('pri', 'ndre', 'tcari', 'evi', 'arvi'), ('pri', 'ndre', 'tcari', 'evi', 'grvi'), ('pri', 'ndre', 'tcari', 'savi', 'arvi'), ('pri', 'ndre', 'tcari', 'savi', 'grvi'), ('pri', 'ndre', 'tcari', 'arvi', 'grvi'), ('pri', 'ndre', 'ndvi', 'evi', 'savi'), ('pri', 'ndre', 'ndvi', 'evi', 'arvi'), ('pri', 'ndre', 'ndvi', 'evi', 'grvi'), ('pri', 'ndre', 'ndvi', 'savi', 'arvi'), ('pri', 'ndre', 'ndvi', 'savi', 'grvi'), ('pri', 'ndre', 'ndvi', 'arvi', 'grvi'), ('pri', 'ndre', 'evi', 'savi', 'arvi'), ('pri', 'ndre', 'evi', 'savi', 'grvi'), ('pri', 'ndre', 'evi', 'arvi', 'grvi'), ('pri', 'ndre', 'savi', 'arvi', 'grvi'), ('pri', 'tcari', 'ndvi', 'evi', 'savi'), ('pri', 'tcari', 'ndvi', 'evi', 'arvi'), ('pri', 'tcari', 'ndvi', 'evi', 'grvi'), ('pri', 'tcari', 'ndvi', 'savi', 'arvi'), ('pri', 'tcari', 'ndvi', 'savi', 'grvi'), ('pri', 'tcari', 'ndvi', 'arvi', 'grvi'), ('pri', 'tcari', 'evi', 'savi', 'arvi'), ('pri', 'tcari', 'evi', 'savi', 'grvi'), ('pri', 'tcari', 'evi', 'arvi', 'grvi'), ('pri', 'tcari', 'savi', 'arvi', 'grvi'), ('pri', 'ndvi', 'evi', 'savi', 'arvi'), ('pri', 'ndvi', 'evi', 'savi', 'grvi'), ('pri', 'ndvi', 'evi', 'arvi', 'grvi'), ('pri', 'ndvi', 'savi', 'arvi', 'grvi'), ('pri', 'evi', 'savi', 'arvi', 'grvi'), ('ndre', 'tcari', 'ndvi', 'evi', 'savi'), ('ndre', 'tcari', 'ndvi', 'evi', 'arvi'), ('ndre', 'tcari', 'ndvi', 'evi', 'grvi'), ('ndre', 'tcari', 'ndvi', 'savi', 'arvi'), ('ndre', 'tcari', 'ndvi', 'savi', 'grvi'), ('ndre', 'tcari', 'ndvi', 'arvi', 'grvi'), ('ndre', 'tcari', 'evi', 'savi', 'arvi'), ('ndre', 'tcari', 'evi', 'savi', 'grvi'), ('ndre', 'tcari', 'evi', 'arvi', 'grvi'), ('ndre', 'tcari', 'savi', 'arvi', 'grvi'), ('ndre', 'ndvi', 'evi', 'savi', 'arvi'), ('ndre', 'ndvi', 'evi', 'savi', 'grvi'), ('ndre', 'ndvi', 'evi', 'arvi', 'grvi'), ('ndre', 'ndvi', 'savi', 'arvi', 'grvi'), ('ndre', 'evi', 'savi', 'arvi', 'grvi'), ('tcari', 'ndvi', 'evi', 'savi', 'arvi'), ('tcari', 'ndvi', 'evi', 'savi', 'grvi'), ('tcari', 'ndvi', 'evi', 'arvi', 'grvi'), ('tcari', 'ndvi', 'savi', 'arvi', 'grvi'), ('tcari', 'evi', 'savi', 'arvi', 'grvi'), ('ndvi', 'evi', 'savi', 'arvi', 'grvi'), ('pri', 'ndre', 'tcari', 'ndvi', 'evi', 'savi'), ('pri', 'ndre', 'tcari', 'ndvi', 'evi', 'arvi'), ('pri', 'ndre', 'tcari', 'ndvi', 'evi', 'grvi'), ('pri', 'ndre', 'tcari', 'ndvi', 'savi', 'arvi'), ('pri', 'ndre', 'tcari', 'ndvi', 'savi', 'grvi'), ('pri', 'ndre', 'tcari', 'ndvi', 'arvi', 'grvi'), ('pri', 'ndre', 'tcari', 'evi', 'savi', 'arvi'), ('pri', 'ndre', 'tcari', 'evi', 'savi', 'grvi'), ('pri', 'ndre', 'tcari', 'evi', 'arvi', 'grvi'), ('pri', 'ndre', 'tcari', 'savi', 'arvi', 'grvi'), ('pri', 'ndre', 'ndvi', 'evi', 'savi', 'arvi'), ('pri', 'ndre', 'ndvi', 'evi', 'savi', 'grvi'), ('pri', 'ndre', 'ndvi', 'evi', 'arvi', 'grvi'), ('pri', 'ndre', 'ndvi', 'savi', 'arvi', 'grvi'), ('pri', 'ndre', 'evi', 'savi', 'arvi', 'grvi'), ('pri', 'tcari', 'ndvi', 'evi', 'savi', 'arvi'), ('pri', 'tcari', 'ndvi', 'evi', 'savi', 'grvi'), ('pri', 'tcari', 'ndvi', 'evi', 'arvi', 'grvi'), ('pri', 'tcari', 'ndvi', 'savi', 'arvi', 'grvi'), ('pri', 'tcari', 'evi', 'savi', 'arvi', 'grvi'), ('pri', 'ndvi', 'evi', 'savi', 'arvi', 'grvi'), ('ndre', 'tcari', 'ndvi', 'evi', 'savi', 'arvi'), ('ndre', 'tcari', 'ndvi', 'evi', 'savi', 'grvi'), ('ndre', 'tcari', 'ndvi', 'evi', 'arvi', 'grvi'), ('ndre', 'tcari', 'ndvi', 'savi', 'arvi', 'grvi'), ('ndre', 'tcari', 'evi', 'savi', 'arvi', 'grvi'), ('ndre', 'ndvi', 'evi', 'savi', 'arvi', 'grvi'), ('tcari', 'ndvi', 'evi', 'savi', 'arvi', 'grvi'), ('pri', 'ndre', 'tcari', 'ndvi', 'evi', 'savi', 'arvi'), ('pri', 'ndre', 'tcari', 'ndvi', 'evi', 'savi', 'grvi'), ('pri', 'ndre', 'tcari', 'ndvi', 'evi', 'arvi', 'grvi'), ('pri', 'ndre', 'tcari', 'ndvi', 'savi', 'arvi', 'grvi'), ('pri', 'ndre', 'tcari', 'evi', 'savi', 'arvi', 'grvi'), ('pri', 'ndre', 'ndvi', 'evi', 'savi', 'arvi', 'grvi'), ('pri', 'tcari', 'ndvi', 'evi', 'savi', 'arvi', 'grvi'), ('ndre', 'tcari', 'ndvi', 'evi', 'savi', 'arvi', 'grvi'), ('pri', 'ndre', 'tcari', 'ndvi', 'evi', 'savi', 'arvi', 'grvi')]\n"
     ]
    }
   ],
   "source": [
    "all_combinations = get_combinations(vis) # method call\n",
    "print(all_combinations)"
   ]
  },
  {
   "cell_type": "code",
   "execution_count": 13,
   "id": "f68b00fd",
   "metadata": {},
   "outputs": [],
   "source": [
    "# Append all possible combinations of vis to the spectral bands\n",
    "# Result = list of potential explanatory variables\n",
    "\n",
    "exp_vars = []\n",
    "for combo in all_combinations:\n",
    "    combo = list(combo)\n",
    "    sb = ['c_blue', 'blue', 'greenI', 'green', 'yellow', 'red', 'rede', 'nir']\n",
    "    sb_plus_vi = sb + combo\n",
    "    exp_vars.append(sb_plus_vi)\n",
    "#exp_vars"
   ]
  },
  {
   "cell_type": "code",
   "execution_count": 14,
   "id": "cd2a96cc",
   "metadata": {},
   "outputs": [],
   "source": [
    "# Prep the dataset: balance the data and scale\n",
    "## no need to split into train/test\n",
    "\n",
    "def data_prep(data, expl_vars, resp_var, state, seed):\n",
    "    X = data[expl_vars]\n",
    "    y = data[resp_var]\n",
    "\n",
    "    rus = RandomUnderSampler(random_state=state)\n",
    "    X_rus, y_rus = rus.fit_resample(X, y)\n",
    "\n",
    "    mm = MinMaxScaler()\n",
    "    X_scaled = mm.fit_transform(X_rus)\n",
    "    \n",
    "    return X_scaled, y_rus #features (scaled) and labels (unscaled)"
   ]
  },
  {
   "cell_type": "code",
   "execution_count": 15,
   "id": "c4eb19b2",
   "metadata": {},
   "outputs": [],
   "source": [
    "# Get a dictionary of models for each set of explanatory variables\n",
    "\n",
    "def get_models(explanatory_vars):\n",
    "    models = dict()\n",
    "    for i in exp_vars:\n",
    "        model = RandomForestClassifier()\n",
    "        models[str(i)] = model\n",
    "    return models"
   ]
  },
  {
   "cell_type": "code",
   "execution_count": 16,
   "id": "0f7de768",
   "metadata": {},
   "outputs": [],
   "source": [
    "# evaluate a given model using cross-validation\n",
    "\n",
    "def evaluate_model(model, X, y,scoring):\n",
    "    cv = RepeatedStratifiedKFold(n_splits=10, n_repeats=3, random_state=1) # will get 30 (10x3) different results\n",
    "    scores = cross_val_score(model, X, y, scoring=scoring, cv=cv, n_jobs=-1, error_score='raise')\n",
    "    return scores"
   ]
  },
  {
   "cell_type": "code",
   "execution_count": 17,
   "id": "11aaa7ea",
   "metadata": {},
   "outputs": [],
   "source": [
    "def F1_df(df, models, resp_var):\n",
    "    results = pd.DataFrame(columns=['name','F1', 'features'])\n",
    "    F1 = []\n",
    "    features = []\n",
    "    year = []\n",
    "    for name, model in models.items():\n",
    "        X,y = data_prep(df,ast.literal_eval(name),resp_var,2024,16)\n",
    "        scores = evaluate_model(model, X, y,'f1')\n",
    "        F1.append(np.mean(scores))\n",
    "        features.append(name)\n",
    "        year.append(df.Date.unique()[0][:4])\n",
    "\n",
    "    results['name'] = year\n",
    "    results['F1']=F1\n",
    "    results['features']=features\n",
    "    \n",
    "    return results"
   ]
  },
  {
   "cell_type": "code",
   "execution_count": 18,
   "id": "2412dc89",
   "metadata": {},
   "outputs": [
    {
     "data": {
      "text/plain": [
       "3"
      ]
     },
     "execution_count": 18,
     "metadata": {},
     "output_type": "execute_result"
    }
   ],
   "source": [
    "# get dataframes of average F1 scores for models with different combinations of explanatory variables\n",
    "models = get_models(exp_vars)\n",
    "\n",
    "F1_dfs = []\n",
    "\n",
    "for df in [data_2020, data_2021, data_2022]:\n",
    "    F1_scores = F1_df(df, models, sev)\n",
    "    F1_dfs.append(F1_scores)\n",
    "\n",
    "len(F1_dfs)"
   ]
  },
  {
   "cell_type": "code",
   "execution_count": 20,
   "id": "bea0b6aa",
   "metadata": {},
   "outputs": [
    {
     "data": {
      "text/html": [
       "<div>\n",
       "<style scoped>\n",
       "    .dataframe tbody tr th:only-of-type {\n",
       "        vertical-align: middle;\n",
       "    }\n",
       "\n",
       "    .dataframe tbody tr th {\n",
       "        vertical-align: top;\n",
       "    }\n",
       "\n",
       "    .dataframe thead th {\n",
       "        text-align: right;\n",
       "    }\n",
       "</style>\n",
       "<table border=\"1\" class=\"dataframe\">\n",
       "  <thead>\n",
       "    <tr style=\"text-align: right;\">\n",
       "      <th></th>\n",
       "      <th>name</th>\n",
       "      <th>F1</th>\n",
       "      <th>features</th>\n",
       "    </tr>\n",
       "  </thead>\n",
       "  <tbody>\n",
       "    <tr>\n",
       "      <th>0</th>\n",
       "      <td>2020</td>\n",
       "      <td>0.785556</td>\n",
       "      <td>['c_blue', 'blue', 'greenI', 'green', 'yellow'...</td>\n",
       "    </tr>\n",
       "    <tr>\n",
       "      <th>1</th>\n",
       "      <td>2020</td>\n",
       "      <td>0.811111</td>\n",
       "      <td>['c_blue', 'blue', 'greenI', 'green', 'yellow'...</td>\n",
       "    </tr>\n",
       "    <tr>\n",
       "      <th>2</th>\n",
       "      <td>2020</td>\n",
       "      <td>0.806667</td>\n",
       "      <td>['c_blue', 'blue', 'greenI', 'green', 'yellow'...</td>\n",
       "    </tr>\n",
       "    <tr>\n",
       "      <th>3</th>\n",
       "      <td>2020</td>\n",
       "      <td>0.822222</td>\n",
       "      <td>['c_blue', 'blue', 'greenI', 'green', 'yellow'...</td>\n",
       "    </tr>\n",
       "    <tr>\n",
       "      <th>4</th>\n",
       "      <td>2020</td>\n",
       "      <td>0.811111</td>\n",
       "      <td>['c_blue', 'blue', 'greenI', 'green', 'yellow'...</td>\n",
       "    </tr>\n",
       "    <tr>\n",
       "      <th>...</th>\n",
       "      <td>...</td>\n",
       "      <td>...</td>\n",
       "      <td>...</td>\n",
       "    </tr>\n",
       "    <tr>\n",
       "      <th>250</th>\n",
       "      <td>2020</td>\n",
       "      <td>0.833333</td>\n",
       "      <td>['c_blue', 'blue', 'greenI', 'green', 'yellow'...</td>\n",
       "    </tr>\n",
       "    <tr>\n",
       "      <th>251</th>\n",
       "      <td>2020</td>\n",
       "      <td>0.822222</td>\n",
       "      <td>['c_blue', 'blue', 'greenI', 'green', 'yellow'...</td>\n",
       "    </tr>\n",
       "    <tr>\n",
       "      <th>252</th>\n",
       "      <td>2020</td>\n",
       "      <td>0.811111</td>\n",
       "      <td>['c_blue', 'blue', 'greenI', 'green', 'yellow'...</td>\n",
       "    </tr>\n",
       "    <tr>\n",
       "      <th>253</th>\n",
       "      <td>2020</td>\n",
       "      <td>0.833333</td>\n",
       "      <td>['c_blue', 'blue', 'greenI', 'green', 'yellow'...</td>\n",
       "    </tr>\n",
       "    <tr>\n",
       "      <th>254</th>\n",
       "      <td>2020</td>\n",
       "      <td>0.822222</td>\n",
       "      <td>['c_blue', 'blue', 'greenI', 'green', 'yellow'...</td>\n",
       "    </tr>\n",
       "  </tbody>\n",
       "</table>\n",
       "<p>255 rows × 3 columns</p>\n",
       "</div>"
      ],
      "text/plain": [
       "     name        F1                                           features\n",
       "0    2020  0.785556  ['c_blue', 'blue', 'greenI', 'green', 'yellow'...\n",
       "1    2020  0.811111  ['c_blue', 'blue', 'greenI', 'green', 'yellow'...\n",
       "2    2020  0.806667  ['c_blue', 'blue', 'greenI', 'green', 'yellow'...\n",
       "3    2020  0.822222  ['c_blue', 'blue', 'greenI', 'green', 'yellow'...\n",
       "4    2020  0.811111  ['c_blue', 'blue', 'greenI', 'green', 'yellow'...\n",
       "..    ...       ...                                                ...\n",
       "250  2020  0.833333  ['c_blue', 'blue', 'greenI', 'green', 'yellow'...\n",
       "251  2020  0.822222  ['c_blue', 'blue', 'greenI', 'green', 'yellow'...\n",
       "252  2020  0.811111  ['c_blue', 'blue', 'greenI', 'green', 'yellow'...\n",
       "253  2020  0.833333  ['c_blue', 'blue', 'greenI', 'green', 'yellow'...\n",
       "254  2020  0.822222  ['c_blue', 'blue', 'greenI', 'green', 'yellow'...\n",
       "\n",
       "[255 rows x 3 columns]"
      ]
     },
     "execution_count": 20,
     "metadata": {},
     "output_type": "execute_result"
    }
   ],
   "source": [
    "F1_dfs[0]"
   ]
  },
  {
   "cell_type": "code",
   "execution_count": 21,
   "id": "51b65d84",
   "metadata": {},
   "outputs": [
    {
     "name": "stdout",
     "output_type": "stream",
     "text": [
      "Best feature combo for 2020: ['c_blue', 'blue', 'greenI', 'green', 'yellow', 'red', 'rede', 'nir', 'ndre', 'ndvi', 'evi', 'arvi', 'grvi']\n",
      "Best feature combo for 2021: ['c_blue', 'blue', 'greenI', 'green', 'yellow', 'red', 'rede', 'nir', 'ndre', 'evi', 'savi', 'arvi', 'grvi']\n",
      "Best feature combo for 2022: ['c_blue', 'blue', 'greenI', 'green', 'yellow', 'red', 'rede', 'nir', 'ndre', 'evi', 'savi', 'arvi']\n"
     ]
    }
   ],
   "source": [
    "# best vi combos for each year (maximizes F1)\n",
    "combo_20 = F1_dfs[0].iloc[F1_dfs[0]['F1'].idxmax()]['features']\n",
    "print(\"Best feature combo for 2020:\", combo_20)\n",
    "\n",
    "combo_21 = F1_dfs[1].iloc[F1_dfs[1]['F1'].idxmax()]['features']\n",
    "print(\"Best feature combo for 2021:\", combo_21)\n",
    "\n",
    "combo_22 = F1_dfs[2].iloc[F1_dfs[2]['F1'].idxmax()]['features']\n",
    "print(\"Best feature combo for 2022:\", combo_22)"
   ]
  },
  {
   "cell_type": "markdown",
   "id": "faa62db3",
   "metadata": {},
   "source": [
    "## Balance, split, normalize"
   ]
  },
  {
   "cell_type": "code",
   "execution_count": 22,
   "id": "a0095140",
   "metadata": {},
   "outputs": [],
   "source": [
    "def bal_split_norm(data, expl_vars, resp_var, state, seed):\n",
    "    X = data[expl_vars]\n",
    "    y = data[resp_var]\n",
    "\n",
    "    rus = RandomUnderSampler(random_state=state)\n",
    "    X_rus, y_rus = rus.fit_resample(X, y)\n",
    "\n",
    "    # Split dataset into training set and test set\n",
    "    X_train, X_test, y_train, y_test = train_test_split(X_rus, y_rus,\n",
    "                                                        test_size=0.3, \n",
    "                                                        random_state=seed,\n",
    "                                                        stratify = y_rus)  # 70% training and 30% test\n",
    "    mm = MinMaxScaler()\n",
    "    X_train_scaled = mm.fit_transform(X_train)\n",
    "    X_test_scaled = mm.transform(X_test)\n",
    "    \n",
    "    return X_train_scaled, y_train, X_test_scaled, y_test"
   ]
  },
  {
   "cell_type": "markdown",
   "id": "823eb541",
   "metadata": {},
   "source": [
    "## For 2020"
   ]
  },
  {
   "cell_type": "code",
   "execution_count": 23,
   "id": "0c9f91be",
   "metadata": {},
   "outputs": [],
   "source": [
    "# X_train, y_train, X_test, y_test = bal_split_norm(data_2020,\n",
    "#                                                   ast.literal_eval(combo_20), #convert string to list\n",
    "#                                                  sev,\n",
    "#                                                  2020,\n",
    "#                                                  14)"
   ]
  },
  {
   "cell_type": "markdown",
   "id": "075be4cc",
   "metadata": {},
   "source": [
    "## Hyperparameter tuning (training set only)"
   ]
  },
  {
   "cell_type": "code",
   "execution_count": 24,
   "id": "3f0db2b6",
   "metadata": {},
   "outputs": [],
   "source": [
    "# # Create dictionary of parameters to test with randomizedCV\n",
    "\n",
    "# from sklearn.model_selection import RandomizedSearchCV\n",
    "\n",
    "# n_estimators = [int(x) for x in np.linspace(start = 100, stop = 1000,\n",
    "# num = 10)]\n",
    "# max_features = ['log2', 'sqrt']\n",
    "# max_depth = [int(x) for x in np.linspace(start = 1, stop = 15, num =\n",
    "# 15)]\n",
    "# min_samples_split = [int(x) for x in np.linspace(start = 2, stop = 50,\n",
    "# num = 10)]\n",
    "# min_samples_leaf = [int(x) for x in np.linspace(start = 1, stop = 50,\n",
    "# num = 5)]\n",
    "# bootstrap = [True, False]\n",
    "# param_dist = {'n_estimators': n_estimators,\n",
    "# 'max_features': max_features,\n",
    "# 'max_depth': max_depth,\n",
    "# 'min_samples_split': min_samples_split,\n",
    "# 'min_samples_leaf': min_samples_leaf,\n",
    "# 'bootstrap': bootstrap}"
   ]
  },
  {
   "cell_type": "code",
   "execution_count": 25,
   "id": "34cad011",
   "metadata": {},
   "outputs": [],
   "source": [
    "# rfc = RandomForestClassifier()"
   ]
  },
  {
   "cell_type": "code",
   "execution_count": 26,
   "id": "226ec1d8",
   "metadata": {},
   "outputs": [
    {
     "name": "stdout",
     "output_type": "stream",
     "text": [
      "Fitting 3 folds for each of 100 candidates, totalling 300 fits\n"
     ]
    },
    {
     "data": {
      "text/plain": [
       "{'n_estimators': 300,\n",
       " 'min_samples_split': 18,\n",
       " 'min_samples_leaf': 1,\n",
       " 'max_features': 'sqrt',\n",
       " 'max_depth': 12,\n",
       " 'bootstrap': False}"
      ]
     },
     "execution_count": 26,
     "metadata": {},
     "output_type": "execute_result"
    }
   ],
   "source": [
    "# rs = RandomizedSearchCV(rfc,\n",
    "# param_dist,\n",
    "# n_iter = 100,\n",
    "# scoring = 'f1',\n",
    "# cv = 3,\n",
    "# verbose = 1,\n",
    "# n_jobs=-1,\n",
    "# random_state=0)\n",
    "\n",
    "# rs.fit(X_train, y_train)\n",
    "# rs.best_params_"
   ]
  },
  {
   "cell_type": "code",
   "execution_count": 27,
   "id": "3424dbad",
   "metadata": {},
   "outputs": [
    {
     "data": {
      "text/html": [
       "<div>\n",
       "<style scoped>\n",
       "    .dataframe tbody tr th:only-of-type {\n",
       "        vertical-align: middle;\n",
       "    }\n",
       "\n",
       "    .dataframe tbody tr th {\n",
       "        vertical-align: top;\n",
       "    }\n",
       "\n",
       "    .dataframe thead th {\n",
       "        text-align: right;\n",
       "    }\n",
       "</style>\n",
       "<table border=\"1\" class=\"dataframe\">\n",
       "  <thead>\n",
       "    <tr style=\"text-align: right;\">\n",
       "      <th></th>\n",
       "      <th>param_n_estimators</th>\n",
       "      <th>param_min_samples_split</th>\n",
       "      <th>param_min_samples_leaf</th>\n",
       "      <th>param_max_features</th>\n",
       "      <th>param_max_depth</th>\n",
       "      <th>param_bootstrap</th>\n",
       "      <th>mean_test_score</th>\n",
       "      <th>rank_test_score</th>\n",
       "    </tr>\n",
       "  </thead>\n",
       "  <tbody>\n",
       "    <tr>\n",
       "      <th>0</th>\n",
       "      <td>300</td>\n",
       "      <td>18</td>\n",
       "      <td>1</td>\n",
       "      <td>sqrt</td>\n",
       "      <td>12</td>\n",
       "      <td>False</td>\n",
       "      <td>0.877778</td>\n",
       "      <td>1</td>\n",
       "    </tr>\n",
       "    <tr>\n",
       "      <th>1</th>\n",
       "      <td>200</td>\n",
       "      <td>12</td>\n",
       "      <td>1</td>\n",
       "      <td>log2</td>\n",
       "      <td>7</td>\n",
       "      <td>True</td>\n",
       "      <td>0.877778</td>\n",
       "      <td>1</td>\n",
       "    </tr>\n",
       "    <tr>\n",
       "      <th>2</th>\n",
       "      <td>600</td>\n",
       "      <td>12</td>\n",
       "      <td>1</td>\n",
       "      <td>log2</td>\n",
       "      <td>4</td>\n",
       "      <td>False</td>\n",
       "      <td>0.877778</td>\n",
       "      <td>1</td>\n",
       "    </tr>\n",
       "    <tr>\n",
       "      <th>3</th>\n",
       "      <td>300</td>\n",
       "      <td>12</td>\n",
       "      <td>1</td>\n",
       "      <td>log2</td>\n",
       "      <td>13</td>\n",
       "      <td>False</td>\n",
       "      <td>0.877778</td>\n",
       "      <td>1</td>\n",
       "    </tr>\n",
       "    <tr>\n",
       "      <th>4</th>\n",
       "      <td>700</td>\n",
       "      <td>2</td>\n",
       "      <td>1</td>\n",
       "      <td>log2</td>\n",
       "      <td>6</td>\n",
       "      <td>False</td>\n",
       "      <td>0.830159</td>\n",
       "      <td>5</td>\n",
       "    </tr>\n",
       "    <tr>\n",
       "      <th>5</th>\n",
       "      <td>300</td>\n",
       "      <td>18</td>\n",
       "      <td>25</td>\n",
       "      <td>sqrt</td>\n",
       "      <td>3</td>\n",
       "      <td>True</td>\n",
       "      <td>0.427350</td>\n",
       "      <td>6</td>\n",
       "    </tr>\n",
       "    <tr>\n",
       "      <th>6</th>\n",
       "      <td>700</td>\n",
       "      <td>7</td>\n",
       "      <td>25</td>\n",
       "      <td>log2</td>\n",
       "      <td>7</td>\n",
       "      <td>True</td>\n",
       "      <td>0.427350</td>\n",
       "      <td>6</td>\n",
       "    </tr>\n",
       "    <tr>\n",
       "      <th>7</th>\n",
       "      <td>400</td>\n",
       "      <td>12</td>\n",
       "      <td>25</td>\n",
       "      <td>sqrt</td>\n",
       "      <td>12</td>\n",
       "      <td>True</td>\n",
       "      <td>0.427350</td>\n",
       "      <td>6</td>\n",
       "    </tr>\n",
       "    <tr>\n",
       "      <th>8</th>\n",
       "      <td>400</td>\n",
       "      <td>34</td>\n",
       "      <td>13</td>\n",
       "      <td>log2</td>\n",
       "      <td>3</td>\n",
       "      <td>True</td>\n",
       "      <td>0.427350</td>\n",
       "      <td>6</td>\n",
       "    </tr>\n",
       "    <tr>\n",
       "      <th>9</th>\n",
       "      <td>300</td>\n",
       "      <td>39</td>\n",
       "      <td>1</td>\n",
       "      <td>log2</td>\n",
       "      <td>6</td>\n",
       "      <td>True</td>\n",
       "      <td>0.427350</td>\n",
       "      <td>6</td>\n",
       "    </tr>\n",
       "  </tbody>\n",
       "</table>\n",
       "</div>"
      ],
      "text/plain": [
       "  param_n_estimators param_min_samples_split param_min_samples_leaf  \\\n",
       "0                300                      18                      1   \n",
       "1                200                      12                      1   \n",
       "2                600                      12                      1   \n",
       "3                300                      12                      1   \n",
       "4                700                       2                      1   \n",
       "5                300                      18                     25   \n",
       "6                700                       7                     25   \n",
       "7                400                      12                     25   \n",
       "8                400                      34                     13   \n",
       "9                300                      39                      1   \n",
       "\n",
       "  param_max_features param_max_depth param_bootstrap  mean_test_score  \\\n",
       "0               sqrt              12           False         0.877778   \n",
       "1               log2               7            True         0.877778   \n",
       "2               log2               4           False         0.877778   \n",
       "3               log2              13           False         0.877778   \n",
       "4               log2               6           False         0.830159   \n",
       "5               sqrt               3            True         0.427350   \n",
       "6               log2               7            True         0.427350   \n",
       "7               sqrt              12            True         0.427350   \n",
       "8               log2               3            True         0.427350   \n",
       "9               log2               6            True         0.427350   \n",
       "\n",
       "   rank_test_score  \n",
       "0                1  \n",
       "1                1  \n",
       "2                1  \n",
       "3                1  \n",
       "4                5  \n",
       "5                6  \n",
       "6                6  \n",
       "7                6  \n",
       "8                6  \n",
       "9                6  "
      ]
     },
     "execution_count": 27,
     "metadata": {},
     "output_type": "execute_result"
    }
   ],
   "source": [
    "# rs_df = pd.DataFrame(rs.cv_results_).sort_values('rank_test_score').reset_index(drop=True)\n",
    "# rs_df = rs_df.drop([\n",
    "# 'mean_fit_time',\n",
    "# 'std_fit_time',\n",
    "# 'mean_score_time',\n",
    "# 'std_score_time',\n",
    "# 'params',\n",
    "# 'split0_test_score',\n",
    "# 'split1_test_score',\n",
    "# 'split2_test_score',\n",
    "# 'std_test_score'],\n",
    "# axis=1)\n",
    "\n",
    "# rs_df.head(10)"
   ]
  },
  {
   "cell_type": "code",
   "execution_count": 28,
   "id": "1e5325c5",
   "metadata": {},
   "outputs": [
    {
     "name": "stdout",
     "output_type": "stream",
     "text": [
      "Fitting 3 folds for each of 480 candidates, totalling 1440 fits\n"
     ]
    },
    {
     "data": {
      "text/plain": [
       "{'bootstrap': True,\n",
       " 'max_depth': 3,\n",
       " 'max_features': 'sqrt',\n",
       " 'min_samples_leaf': 1,\n",
       " 'min_samples_split': 2,\n",
       " 'n_estimators': 100}"
      ]
     },
     "execution_count": 28,
     "metadata": {},
     "output_type": "execute_result"
    }
   ],
   "source": [
    "# from sklearn.model_selection import GridSearchCV\n",
    "# n_estimators = [100,200,300,600]\n",
    "# max_features = ['sqrt','log2']\n",
    "# max_depth = [3,4,7,12,13]\n",
    "# min_samples_split = [2,12,18]\n",
    "# min_samples_leaf = [1,25]\n",
    "# bootstrap = [True,False]\n",
    "\n",
    "# param_grid = {'n_estimators': n_estimators,\n",
    "# 'max_features': max_features,\n",
    "# 'max_depth': max_depth,\n",
    "# 'min_samples_split': min_samples_split,\n",
    "# 'min_samples_leaf': min_samples_leaf,\n",
    "# 'bootstrap': bootstrap}\n",
    "\n",
    "# gs = GridSearchCV(rfc, param_grid, cv = 3, verbose = 1, n_jobs=-1)\n",
    "# gs.fit(X_train, y_train)\n",
    "# rfc_2 = gs.best_estimator_\n",
    "# gs.best_params_"
   ]
  },
  {
   "cell_type": "code",
   "execution_count": 29,
   "id": "77d465f2",
   "metadata": {},
   "outputs": [],
   "source": [
    "# y_pred_gs = rfc_2.predict(X_test)"
   ]
  },
  {
   "cell_type": "markdown",
   "id": "1e4597a9",
   "metadata": {},
   "source": [
    "## Plot confusion matrix and get all model metrics"
   ]
  },
  {
   "cell_type": "code",
   "execution_count": 31,
   "id": "f5ebdd22",
   "metadata": {},
   "outputs": [
    {
     "name": "stdout",
     "output_type": "stream",
     "text": [
      "[[5 1]\n",
      " [1 5]]\n",
      "              precision    recall  f1-score   support\n",
      "\n",
      "           0       0.83      0.83      0.83         6\n",
      "           1       0.83      0.83      0.83         6\n",
      "\n",
      "    accuracy                           0.83        12\n",
      "   macro avg       0.83      0.83      0.83        12\n",
      "weighted avg       0.83      0.83      0.83        12\n",
      "\n"
     ]
    },
    {
     "data": {
      "image/png": "[encoded data removed]",
      "text/plain": [
       "<Figure size 640x480 with 2 Axes>"
      ]
     },
     "metadata": {},
     "output_type": "display_data"
    }
   ],
   "source": [
    "# from sklearn.metrics import confusion_matrix                            \n",
    "\n",
    "\n",
    "\n",
    "# cf_matrix = confusion_matrix(y_test, y_pred_gs)\n",
    "# print(cf_matrix)\n",
    "\n",
    "# sns.set(font_scale=1)\n",
    "# sns.heatmap(cf_matrix, annot=True,\n",
    "#            vmin=0, vmax=6, center= 0,\n",
    "#            cmap= 'coolwarm', linewidths=2, linecolor='black',\n",
    "#            xticklabels=['low','high'],\n",
    "#            yticklabels=['low','high']).set(title='Predicted vs. True GDM Severity, PlanetScope 2020 (SB+VI)');\n",
    "\n",
    "# plt.ylabel('True')\n",
    "# plt.xlabel('Predicted')\n",
    "# plt.tight_layout()\n",
    "\n",
    "# plt.savefig('/Users/kathleenkanaley/Desktop/figs_phytopath_rev/corr_matrices_RF/PScope/SB+VI/Sev_2020.jpg')\n",
    "# report = classification_report(y_test, y_pred_gs)\n",
    "\n",
    "# print(report)\n",
    "# # conf_matrix_tuned = pd.DataFrame(confusion_matrix(y_test, y_pred_gs),\n",
    "# #         index = [np.unique(y_pred)[0],np.unique(y_pred)[1]], columns = [np.unique(y_pred)[0],np.unique(y_pred)[1]])\n",
    "                                                         \n",
    "# # display(conf_matrix_tuned)\n",
    "# # display('Hyperparameter Tuned Random Forest accuracy score', accuracy_score(y_test, y_pred_gs))"
   ]
  },
  {
   "cell_type": "code",
   "execution_count": 83,
   "id": "a136cf1a",
   "metadata": {},
   "outputs": [
    {
     "data": {
      "text/plain": [
       "{0: 28, 1: 43}"
      ]
     },
     "execution_count": 83,
     "metadata": {},
     "output_type": "execute_result"
    }
   ],
   "source": [
    "# # Make sure axes are properly labeled\n",
    "# unique, counts = np.unique(y_pred_gs, return_counts=True)\n",
    "\n",
    "# dict(zip(unique, counts))"
   ]
  },
  {
   "cell_type": "markdown",
   "id": "6d70ac71",
   "metadata": {},
   "source": [
    "## Permutation importance plots"
   ]
  },
  {
   "cell_type": "code",
   "execution_count": 84,
   "id": "2b537187",
   "metadata": {},
   "outputs": [],
   "source": [
    "# Get permutation feature imp. scores\n",
    "# https://scikit-learn.org/stable/auto_examples/inspection/plot_permutation_importance.html#sphx-glr-auto-examples-inspection-plot-permutation-importance-py"
   ]
  },
  {
   "cell_type": "code",
   "execution_count": 32,
   "id": "19eccb8b",
   "metadata": {},
   "outputs": [
    {
     "data": {
      "image/png": "[encoded data removed]",
      "text/plain": [
       "<Figure size 640x480 with 1 Axes>"
      ]
     },
     "metadata": {},
     "output_type": "display_data"
    }
   ],
   "source": [
    "# from sklearn.inspection import permutation_importance\n",
    "\n",
    "# result = permutation_importance(\n",
    "#     rfc_2, X_test, y_test, n_repeats=10, random_state=16, n_jobs=2\n",
    "# )\n",
    "\n",
    "# sorted_importances_idx = result.importances_mean.argsort()\n",
    "\n",
    "# importances = pd.DataFrame(\n",
    "#     result.importances[sorted_importances_idx].T,\n",
    "#     columns=data_2020[ast.literal_eval(combo_20)].columns[sorted_importances_idx],\n",
    "# )\n",
    "# ax = importances.plot.box(vert=False, whis=10)\n",
    "# ax.set_title(\"Permutation Importances (test set)\",fontname=\"Arial\", fontsize=16)\n",
    "# #ax.axvline(x=0, color=\"k\", linestyle=\"--\")\n",
    "# ax.set_xlabel(\"Decrease in accuracy score\",fontname=\"Arial\", fontsize = 16)\n",
    "# ax.set_ylabel(\"Features\",fontname=\"Arial\", fontsize = 16)\n",
    "\n",
    "# ax.figure.tight_layout()\n",
    "# plt.savefig('/Users/kathleenkanaley/Desktop/figs_phytopath_rev/permimp_RF/PScope/SB+VI/permimp_sev20.jpg')"
   ]
  },
  {
   "cell_type": "markdown",
   "id": "676c1996",
   "metadata": {},
   "source": [
    "## 2021"
   ]
  },
  {
   "cell_type": "code",
   "execution_count": 34,
   "id": "afc42202",
   "metadata": {},
   "outputs": [],
   "source": [
    "# X_train, y_train, X_test, y_test = bal_split_norm(data_2021,\n",
    "#                                                   ast.literal_eval(combo_21),\n",
    "#                                                  sev,\n",
    "#                                                  2020,\n",
    "#                                                  14)"
   ]
  },
  {
   "cell_type": "code",
   "execution_count": 35,
   "id": "15d2425c",
   "metadata": {},
   "outputs": [],
   "source": [
    "# # Create dictionary of parameters to test with randomizedCV\n",
    "\n",
    "# from sklearn.model_selection import RandomizedSearchCV\n",
    "\n",
    "# n_estimators = [int(x) for x in np.linspace(start = 100, stop = 1000,\n",
    "# num = 10)]\n",
    "# max_features = ['log2', 'sqrt']\n",
    "# max_depth = [int(x) for x in np.linspace(start = 1, stop = 15, num =\n",
    "# 15)]\n",
    "# min_samples_split = [int(x) for x in np.linspace(start = 2, stop = 50,\n",
    "# num = 10)]\n",
    "# min_samples_leaf = [int(x) for x in np.linspace(start = 1, stop = 50,\n",
    "# num = 5)]\n",
    "# bootstrap = [True, False]\n",
    "# param_dist = {'n_estimators': n_estimators,\n",
    "# 'max_features': max_features,\n",
    "# 'max_depth': max_depth,\n",
    "# 'min_samples_split': min_samples_split,\n",
    "# 'min_samples_leaf': min_samples_leaf,\n",
    "# 'bootstrap': bootstrap}"
   ]
  },
  {
   "cell_type": "code",
   "execution_count": 36,
   "id": "94f29df7",
   "metadata": {},
   "outputs": [
    {
     "name": "stdout",
     "output_type": "stream",
     "text": [
      "Fitting 3 folds for each of 100 candidates, totalling 300 fits\n"
     ]
    },
    {
     "data": {
      "text/plain": [
       "{'n_estimators': 100,\n",
       " 'min_samples_split': 28,\n",
       " 'min_samples_leaf': 13,\n",
       " 'max_features': 'sqrt',\n",
       " 'max_depth': 15,\n",
       " 'bootstrap': True}"
      ]
     },
     "execution_count": 36,
     "metadata": {},
     "output_type": "execute_result"
    }
   ],
   "source": [
    "# rfc = RandomForestClassifier()\n",
    "# rs = RandomizedSearchCV(rfc,\n",
    "# param_dist,\n",
    "# n_iter = 100,\n",
    "# scoring = 'f1',\n",
    "# cv = 3,\n",
    "# verbose = 1,\n",
    "# n_jobs=-1,\n",
    "# random_state=0)\n",
    "\n",
    "# rs.fit(X_train, y_train)\n",
    "# rs.best_params_"
   ]
  },
  {
   "cell_type": "code",
   "execution_count": 37,
   "id": "d24688c3",
   "metadata": {},
   "outputs": [
    {
     "data": {
      "text/html": [
       "<div>\n",
       "<style scoped>\n",
       "    .dataframe tbody tr th:only-of-type {\n",
       "        vertical-align: middle;\n",
       "    }\n",
       "\n",
       "    .dataframe tbody tr th {\n",
       "        vertical-align: top;\n",
       "    }\n",
       "\n",
       "    .dataframe thead th {\n",
       "        text-align: right;\n",
       "    }\n",
       "</style>\n",
       "<table border=\"1\" class=\"dataframe\">\n",
       "  <thead>\n",
       "    <tr style=\"text-align: right;\">\n",
       "      <th></th>\n",
       "      <th>param_n_estimators</th>\n",
       "      <th>param_min_samples_split</th>\n",
       "      <th>param_min_samples_leaf</th>\n",
       "      <th>param_max_features</th>\n",
       "      <th>param_max_depth</th>\n",
       "      <th>param_bootstrap</th>\n",
       "      <th>mean_test_score</th>\n",
       "      <th>rank_test_score</th>\n",
       "    </tr>\n",
       "  </thead>\n",
       "  <tbody>\n",
       "    <tr>\n",
       "      <th>0</th>\n",
       "      <td>100</td>\n",
       "      <td>28</td>\n",
       "      <td>13</td>\n",
       "      <td>sqrt</td>\n",
       "      <td>15</td>\n",
       "      <td>True</td>\n",
       "      <td>0.823519</td>\n",
       "      <td>1</td>\n",
       "    </tr>\n",
       "    <tr>\n",
       "      <th>1</th>\n",
       "      <td>300</td>\n",
       "      <td>34</td>\n",
       "      <td>1</td>\n",
       "      <td>log2</td>\n",
       "      <td>14</td>\n",
       "      <td>True</td>\n",
       "      <td>0.823349</td>\n",
       "      <td>2</td>\n",
       "    </tr>\n",
       "    <tr>\n",
       "      <th>2</th>\n",
       "      <td>800</td>\n",
       "      <td>12</td>\n",
       "      <td>25</td>\n",
       "      <td>sqrt</td>\n",
       "      <td>10</td>\n",
       "      <td>False</td>\n",
       "      <td>0.816495</td>\n",
       "      <td>3</td>\n",
       "    </tr>\n",
       "    <tr>\n",
       "      <th>3</th>\n",
       "      <td>400</td>\n",
       "      <td>23</td>\n",
       "      <td>1</td>\n",
       "      <td>log2</td>\n",
       "      <td>3</td>\n",
       "      <td>False</td>\n",
       "      <td>0.816339</td>\n",
       "      <td>4</td>\n",
       "    </tr>\n",
       "    <tr>\n",
       "      <th>4</th>\n",
       "      <td>600</td>\n",
       "      <td>18</td>\n",
       "      <td>13</td>\n",
       "      <td>sqrt</td>\n",
       "      <td>4</td>\n",
       "      <td>False</td>\n",
       "      <td>0.816117</td>\n",
       "      <td>5</td>\n",
       "    </tr>\n",
       "    <tr>\n",
       "      <th>5</th>\n",
       "      <td>1000</td>\n",
       "      <td>50</td>\n",
       "      <td>25</td>\n",
       "      <td>log2</td>\n",
       "      <td>13</td>\n",
       "      <td>False</td>\n",
       "      <td>0.813560</td>\n",
       "      <td>6</td>\n",
       "    </tr>\n",
       "    <tr>\n",
       "      <th>6</th>\n",
       "      <td>800</td>\n",
       "      <td>34</td>\n",
       "      <td>25</td>\n",
       "      <td>sqrt</td>\n",
       "      <td>13</td>\n",
       "      <td>False</td>\n",
       "      <td>0.813560</td>\n",
       "      <td>6</td>\n",
       "    </tr>\n",
       "    <tr>\n",
       "      <th>7</th>\n",
       "      <td>500</td>\n",
       "      <td>18</td>\n",
       "      <td>13</td>\n",
       "      <td>log2</td>\n",
       "      <td>13</td>\n",
       "      <td>True</td>\n",
       "      <td>0.813089</td>\n",
       "      <td>8</td>\n",
       "    </tr>\n",
       "    <tr>\n",
       "      <th>8</th>\n",
       "      <td>300</td>\n",
       "      <td>12</td>\n",
       "      <td>13</td>\n",
       "      <td>log2</td>\n",
       "      <td>12</td>\n",
       "      <td>True</td>\n",
       "      <td>0.813089</td>\n",
       "      <td>8</td>\n",
       "    </tr>\n",
       "    <tr>\n",
       "      <th>9</th>\n",
       "      <td>700</td>\n",
       "      <td>7</td>\n",
       "      <td>13</td>\n",
       "      <td>log2</td>\n",
       "      <td>15</td>\n",
       "      <td>True</td>\n",
       "      <td>0.813089</td>\n",
       "      <td>8</td>\n",
       "    </tr>\n",
       "  </tbody>\n",
       "</table>\n",
       "</div>"
      ],
      "text/plain": [
       "  param_n_estimators param_min_samples_split param_min_samples_leaf  \\\n",
       "0                100                      28                     13   \n",
       "1                300                      34                      1   \n",
       "2                800                      12                     25   \n",
       "3                400                      23                      1   \n",
       "4                600                      18                     13   \n",
       "5               1000                      50                     25   \n",
       "6                800                      34                     25   \n",
       "7                500                      18                     13   \n",
       "8                300                      12                     13   \n",
       "9                700                       7                     13   \n",
       "\n",
       "  param_max_features param_max_depth param_bootstrap  mean_test_score  \\\n",
       "0               sqrt              15            True         0.823519   \n",
       "1               log2              14            True         0.823349   \n",
       "2               sqrt              10           False         0.816495   \n",
       "3               log2               3           False         0.816339   \n",
       "4               sqrt               4           False         0.816117   \n",
       "5               log2              13           False         0.813560   \n",
       "6               sqrt              13           False         0.813560   \n",
       "7               log2              13            True         0.813089   \n",
       "8               log2              12            True         0.813089   \n",
       "9               log2              15            True         0.813089   \n",
       "\n",
       "   rank_test_score  \n",
       "0                1  \n",
       "1                2  \n",
       "2                3  \n",
       "3                4  \n",
       "4                5  \n",
       "5                6  \n",
       "6                6  \n",
       "7                8  \n",
       "8                8  \n",
       "9                8  "
      ]
     },
     "execution_count": 37,
     "metadata": {},
     "output_type": "execute_result"
    }
   ],
   "source": [
    "# rs_df = pd.DataFrame(rs.cv_results_).sort_values('rank_test_score').reset_index(drop=True)\n",
    "# rs_df = rs_df.drop([\n",
    "# 'mean_fit_time',\n",
    "# 'std_fit_time',\n",
    "# 'mean_score_time',\n",
    "# 'std_score_time',\n",
    "# 'params',\n",
    "# 'split0_test_score',\n",
    "# 'split1_test_score',\n",
    "# 'split2_test_score',\n",
    "# 'std_test_score'],\n",
    "# axis=1)\n",
    "\n",
    "# rs_df.head(10)"
   ]
  },
  {
   "cell_type": "code",
   "execution_count": 38,
   "id": "e108d541",
   "metadata": {},
   "outputs": [
    {
     "name": "stdout",
     "output_type": "stream",
     "text": [
      "Fitting 3 folds for each of 960 candidates, totalling 2880 fits\n"
     ]
    },
    {
     "data": {
      "text/plain": [
       "{'bootstrap': True,\n",
       " 'max_depth': 10,\n",
       " 'max_features': 'log2',\n",
       " 'min_samples_leaf': 1,\n",
       " 'min_samples_split': 23,\n",
       " 'n_estimators': 300}"
      ]
     },
     "execution_count": 38,
     "metadata": {},
     "output_type": "execute_result"
    }
   ],
   "source": [
    "# from sklearn.model_selection import GridSearchCV\n",
    "# n_estimators = [100,300,400,800]\n",
    "# max_features = ['sqrt','log2']\n",
    "# max_depth = [3,4,10,15]\n",
    "# min_samples_split = [2,12,23,28,34]\n",
    "# min_samples_leaf = [1,13,25]\n",
    "# bootstrap = [True,False]\n",
    "\n",
    "# param_grid = {'n_estimators': n_estimators,\n",
    "# 'max_features': max_features,\n",
    "# 'max_depth': max_depth,\n",
    "# 'min_samples_split': min_samples_split,\n",
    "# 'min_samples_leaf': min_samples_leaf,\n",
    "# 'bootstrap': bootstrap}\n",
    "\n",
    "# gs = GridSearchCV(rfc, param_grid, cv = 3, verbose = 1, n_jobs=-1)\n",
    "# gs.fit(X_train, y_train)\n",
    "# rfc_2 = gs.best_estimator_\n",
    "# gs.best_params_"
   ]
  },
  {
   "cell_type": "code",
   "execution_count": 39,
   "id": "553aa3d0",
   "metadata": {},
   "outputs": [],
   "source": [
    "# y_pred_gs = rfc_2.predict(X_test)"
   ]
  },
  {
   "cell_type": "code",
   "execution_count": 41,
   "id": "1c1f725b",
   "metadata": {},
   "outputs": [
    {
     "name": "stdout",
     "output_type": "stream",
     "text": [
      "[[40 15]\n",
      " [ 6 49]]\n",
      "              precision    recall  f1-score   support\n",
      "\n",
      "           0       0.87      0.73      0.79        55\n",
      "           1       0.77      0.89      0.82        55\n",
      "\n",
      "    accuracy                           0.81       110\n",
      "   macro avg       0.82      0.81      0.81       110\n",
      "weighted avg       0.82      0.81      0.81       110\n",
      "\n"
     ]
    },
    {
     "data": {
      "image/png": "[encoded data removed]",
      "text/plain": [
       "<Figure size 640x480 with 2 Axes>"
      ]
     },
     "metadata": {},
     "output_type": "display_data"
    }
   ],
   "source": [
    "# from sklearn.metrics import confusion_matrix                            \n",
    "\n",
    "\n",
    "# cf_matrix = confusion_matrix(y_test, y_pred_gs)\n",
    "# print(cf_matrix)\n",
    "\n",
    "# sns.set(font_scale=1)\n",
    "# sns.heatmap(cf_matrix, annot=True, fmt='.3g',\n",
    "#            vmin=0, vmax=55, center= 0,\n",
    "#            cmap= 'coolwarm', linewidths=2, linecolor='black',\n",
    "#            xticklabels=['low','high'],\n",
    "#            yticklabels=['low','high']).set(title='Predicted vs. True GDM severity, PlanetScope 2021 (SB+VI)');\n",
    "\n",
    "# plt.ylabel('True')\n",
    "# plt.xlabel('Predicted')\n",
    "# plt.tight_layout()\n",
    "\n",
    "# plt.savefig('/Users/kathleenkanaley/Desktop/figs_phytopath_rev/corr_matrices_RF/PScope/SB+VI/Sev_2021.jpg')\n",
    "# report = classification_report(y_test, y_pred_gs)\n",
    "\n",
    "# print(report)\n",
    "# # conf_matrix_tuned = pd.DataFrame(confusion_matrix(y_test, y_pred_gs),\n",
    "# #         index = [np.unique(y_pred)[0],np.unique(y_pred)[1]], columns = [np.unique(y_pred)[0],np.unique(y_pred)[1]])\n",
    "                                                         \n",
    "# # display(conf_matrix_tuned)\n",
    "# # display('Hyperparameter Tuned Random Forest accuracy score', accuracy_score(y_test, y_pred_gs))"
   ]
  },
  {
   "cell_type": "code",
   "execution_count": 42,
   "id": "8542b145",
   "metadata": {},
   "outputs": [
    {
     "data": {
      "image/png": "[encoded data removed]",
      "text/plain": [
       "<Figure size 640x480 with 1 Axes>"
      ]
     },
     "metadata": {},
     "output_type": "display_data"
    }
   ],
   "source": [
    "# from sklearn.inspection import permutation_importance\n",
    "\n",
    "# result = permutation_importance(\n",
    "#     rfc_2, X_test, y_test, n_repeats=10, random_state=16, n_jobs=2\n",
    "# )\n",
    "\n",
    "# sorted_importances_idx = result.importances_mean.argsort()\n",
    "\n",
    "# importances = pd.DataFrame(\n",
    "#     result.importances[sorted_importances_idx].T,\n",
    "#     columns=data_2021[ast.literal_eval(combo_21)].columns[sorted_importances_idx],\n",
    "# )\n",
    "# ax = importances.plot.box(vert=False, whis=10)\n",
    "# ax.set_title(\"Permutation Importances (test set)\",fontname=\"Arial\", fontsize=16)\n",
    "# #ax.axvline(x=0, color=\"k\", linestyle=\"--\")\n",
    "# ax.set_xlabel(\"Decrease in accuracy score\",fontname=\"Arial\", fontsize = 16)\n",
    "# ax.set_ylabel(\"Features\",fontname=\"Arial\", fontsize = 16)\n",
    "\n",
    "# ax.figure.tight_layout()\n",
    "# plt.savefig('/Users/kathleenkanaley/Desktop/figs_phytopath_rev/permimp_RF/PScope/SB+VI/permimp_sev21.jpg')"
   ]
  },
  {
   "cell_type": "markdown",
   "id": "b997ec2c",
   "metadata": {},
   "source": [
    "## 2022"
   ]
  },
  {
   "cell_type": "code",
   "execution_count": 43,
   "id": "960f79fc",
   "metadata": {},
   "outputs": [],
   "source": [
    "# X_train, y_train, X_test, y_test = bal_split_norm(data_2022,\n",
    "#                                                   ast.literal_eval(combo_22), #convert string to list\n",
    "#                                                  sev,\n",
    "#                                                  2020,\n",
    "#                                                  14)"
   ]
  },
  {
   "cell_type": "code",
   "execution_count": 44,
   "id": "13e25f32",
   "metadata": {},
   "outputs": [],
   "source": [
    "# # Create dictionary of parameters to test with randomizedCV\n",
    "\n",
    "# from sklearn.model_selection import RandomizedSearchCV\n",
    "\n",
    "# n_estimators = [int(x) for x in np.linspace(start = 100, stop = 1000,\n",
    "# num = 10)]\n",
    "# max_features = ['log2', 'sqrt']\n",
    "# max_depth = [int(x) for x in np.linspace(start = 1, stop = 15, num =\n",
    "# 15)]\n",
    "# min_samples_split = [int(x) for x in np.linspace(start = 2, stop = 50,\n",
    "# num = 10)]\n",
    "# min_samples_leaf = [int(x) for x in np.linspace(start = 1, stop = 50,\n",
    "# num = 5)]\n",
    "# bootstrap = [True, False]\n",
    "# param_dist = {'n_estimators': n_estimators,\n",
    "# 'max_features': max_features,\n",
    "# 'max_depth': max_depth,\n",
    "# 'min_samples_split': min_samples_split,\n",
    "# 'min_samples_leaf': min_samples_leaf,\n",
    "# 'bootstrap': bootstrap}"
   ]
  },
  {
   "cell_type": "code",
   "execution_count": 45,
   "id": "750e394e",
   "metadata": {},
   "outputs": [
    {
     "name": "stdout",
     "output_type": "stream",
     "text": [
      "Fitting 3 folds for each of 100 candidates, totalling 300 fits\n"
     ]
    },
    {
     "data": {
      "text/plain": [
       "{'n_estimators': 300,\n",
       " 'min_samples_split': 39,\n",
       " 'min_samples_leaf': 37,\n",
       " 'max_features': 'log2',\n",
       " 'max_depth': 13,\n",
       " 'bootstrap': True}"
      ]
     },
     "execution_count": 45,
     "metadata": {},
     "output_type": "execute_result"
    }
   ],
   "source": [
    "# rfc = RandomForestClassifier()\n",
    "# rs = RandomizedSearchCV(rfc,\n",
    "# param_dist,\n",
    "# n_iter = 100,\n",
    "# scoring = 'f1',\n",
    "# cv = 3,\n",
    "# verbose = 1,\n",
    "# n_jobs=-1,\n",
    "# random_state=0)\n",
    "\n",
    "# rs.fit(X_train, y_train)\n",
    "# rs.best_params_"
   ]
  },
  {
   "cell_type": "code",
   "execution_count": 46,
   "id": "ed3855f7",
   "metadata": {},
   "outputs": [
    {
     "data": {
      "text/html": [
       "<div>\n",
       "<style scoped>\n",
       "    .dataframe tbody tr th:only-of-type {\n",
       "        vertical-align: middle;\n",
       "    }\n",
       "\n",
       "    .dataframe tbody tr th {\n",
       "        vertical-align: top;\n",
       "    }\n",
       "\n",
       "    .dataframe thead th {\n",
       "        text-align: right;\n",
       "    }\n",
       "</style>\n",
       "<table border=\"1\" class=\"dataframe\">\n",
       "  <thead>\n",
       "    <tr style=\"text-align: right;\">\n",
       "      <th></th>\n",
       "      <th>param_n_estimators</th>\n",
       "      <th>param_min_samples_split</th>\n",
       "      <th>param_min_samples_leaf</th>\n",
       "      <th>param_max_features</th>\n",
       "      <th>param_max_depth</th>\n",
       "      <th>param_bootstrap</th>\n",
       "      <th>mean_test_score</th>\n",
       "      <th>rank_test_score</th>\n",
       "    </tr>\n",
       "  </thead>\n",
       "  <tbody>\n",
       "    <tr>\n",
       "      <th>0</th>\n",
       "      <td>300</td>\n",
       "      <td>39</td>\n",
       "      <td>37</td>\n",
       "      <td>log2</td>\n",
       "      <td>13</td>\n",
       "      <td>True</td>\n",
       "      <td>0.805728</td>\n",
       "      <td>1</td>\n",
       "    </tr>\n",
       "    <tr>\n",
       "      <th>1</th>\n",
       "      <td>1000</td>\n",
       "      <td>50</td>\n",
       "      <td>25</td>\n",
       "      <td>sqrt</td>\n",
       "      <td>11</td>\n",
       "      <td>True</td>\n",
       "      <td>0.802315</td>\n",
       "      <td>2</td>\n",
       "    </tr>\n",
       "    <tr>\n",
       "      <th>2</th>\n",
       "      <td>400</td>\n",
       "      <td>12</td>\n",
       "      <td>25</td>\n",
       "      <td>sqrt</td>\n",
       "      <td>12</td>\n",
       "      <td>True</td>\n",
       "      <td>0.802315</td>\n",
       "      <td>2</td>\n",
       "    </tr>\n",
       "    <tr>\n",
       "      <th>3</th>\n",
       "      <td>1000</td>\n",
       "      <td>7</td>\n",
       "      <td>25</td>\n",
       "      <td>log2</td>\n",
       "      <td>4</td>\n",
       "      <td>True</td>\n",
       "      <td>0.802315</td>\n",
       "      <td>2</td>\n",
       "    </tr>\n",
       "    <tr>\n",
       "      <th>4</th>\n",
       "      <td>700</td>\n",
       "      <td>2</td>\n",
       "      <td>1</td>\n",
       "      <td>log2</td>\n",
       "      <td>6</td>\n",
       "      <td>False</td>\n",
       "      <td>0.800866</td>\n",
       "      <td>5</td>\n",
       "    </tr>\n",
       "    <tr>\n",
       "      <th>5</th>\n",
       "      <td>500</td>\n",
       "      <td>23</td>\n",
       "      <td>25</td>\n",
       "      <td>sqrt</td>\n",
       "      <td>7</td>\n",
       "      <td>True</td>\n",
       "      <td>0.800844</td>\n",
       "      <td>6</td>\n",
       "    </tr>\n",
       "    <tr>\n",
       "      <th>6</th>\n",
       "      <td>100</td>\n",
       "      <td>12</td>\n",
       "      <td>50</td>\n",
       "      <td>log2</td>\n",
       "      <td>5</td>\n",
       "      <td>True</td>\n",
       "      <td>0.800695</td>\n",
       "      <td>7</td>\n",
       "    </tr>\n",
       "    <tr>\n",
       "      <th>7</th>\n",
       "      <td>200</td>\n",
       "      <td>28</td>\n",
       "      <td>37</td>\n",
       "      <td>sqrt</td>\n",
       "      <td>5</td>\n",
       "      <td>True</td>\n",
       "      <td>0.798985</td>\n",
       "      <td>8</td>\n",
       "    </tr>\n",
       "    <tr>\n",
       "      <th>8</th>\n",
       "      <td>800</td>\n",
       "      <td>50</td>\n",
       "      <td>25</td>\n",
       "      <td>sqrt</td>\n",
       "      <td>1</td>\n",
       "      <td>True</td>\n",
       "      <td>0.798637</td>\n",
       "      <td>9</td>\n",
       "    </tr>\n",
       "    <tr>\n",
       "      <th>9</th>\n",
       "      <td>1000</td>\n",
       "      <td>39</td>\n",
       "      <td>37</td>\n",
       "      <td>sqrt</td>\n",
       "      <td>15</td>\n",
       "      <td>True</td>\n",
       "      <td>0.798637</td>\n",
       "      <td>9</td>\n",
       "    </tr>\n",
       "  </tbody>\n",
       "</table>\n",
       "</div>"
      ],
      "text/plain": [
       "  param_n_estimators param_min_samples_split param_min_samples_leaf  \\\n",
       "0                300                      39                     37   \n",
       "1               1000                      50                     25   \n",
       "2                400                      12                     25   \n",
       "3               1000                       7                     25   \n",
       "4                700                       2                      1   \n",
       "5                500                      23                     25   \n",
       "6                100                      12                     50   \n",
       "7                200                      28                     37   \n",
       "8                800                      50                     25   \n",
       "9               1000                      39                     37   \n",
       "\n",
       "  param_max_features param_max_depth param_bootstrap  mean_test_score  \\\n",
       "0               log2              13            True         0.805728   \n",
       "1               sqrt              11            True         0.802315   \n",
       "2               sqrt              12            True         0.802315   \n",
       "3               log2               4            True         0.802315   \n",
       "4               log2               6           False         0.800866   \n",
       "5               sqrt               7            True         0.800844   \n",
       "6               log2               5            True         0.800695   \n",
       "7               sqrt               5            True         0.798985   \n",
       "8               sqrt               1            True         0.798637   \n",
       "9               sqrt              15            True         0.798637   \n",
       "\n",
       "   rank_test_score  \n",
       "0                1  \n",
       "1                2  \n",
       "2                2  \n",
       "3                2  \n",
       "4                5  \n",
       "5                6  \n",
       "6                7  \n",
       "7                8  \n",
       "8                9  \n",
       "9                9  "
      ]
     },
     "execution_count": 46,
     "metadata": {},
     "output_type": "execute_result"
    }
   ],
   "source": [
    "# rs_df = pd.DataFrame(rs.cv_results_).sort_values('rank_test_score').reset_index(drop=True)\n",
    "# rs_df = rs_df.drop([\n",
    "# 'mean_fit_time',\n",
    "# 'std_fit_time',\n",
    "# 'mean_score_time',\n",
    "# 'std_score_time',\n",
    "# 'params',\n",
    "# 'split0_test_score',\n",
    "# 'split1_test_score',\n",
    "# 'split2_test_score',\n",
    "# 'std_test_score'],\n",
    "# axis=1)\n",
    "\n",
    "# rs_df.head(10)"
   ]
  },
  {
   "cell_type": "code",
   "execution_count": 47,
   "id": "ed6abc8e",
   "metadata": {},
   "outputs": [
    {
     "name": "stdout",
     "output_type": "stream",
     "text": [
      "Fitting 3 folds for each of 900 candidates, totalling 2700 fits\n"
     ]
    },
    {
     "data": {
      "text/plain": [
       "{'bootstrap': True,\n",
       " 'max_depth': 3,\n",
       " 'max_features': 'sqrt',\n",
       " 'min_samples_leaf': 37,\n",
       " 'min_samples_split': 39,\n",
       " 'n_estimators': 100}"
      ]
     },
     "execution_count": 47,
     "metadata": {},
     "output_type": "execute_result"
    }
   ],
   "source": [
    "# from sklearn.model_selection import GridSearchCV\n",
    "# n_estimators = [100,300,400]\n",
    "# max_features = ['sqrt','log2']\n",
    "# max_depth = [3,4,11,12,13]\n",
    "# min_samples_split = [2,7,12,39,50]\n",
    "# min_samples_leaf = [1,37,25]\n",
    "# bootstrap = [True,False]\n",
    "\n",
    "# param_grid = {'n_estimators': n_estimators,\n",
    "# 'max_features': max_features,\n",
    "# 'max_depth': max_depth,\n",
    "# 'min_samples_split': min_samples_split,\n",
    "# 'min_samples_leaf': min_samples_leaf,\n",
    "# 'bootstrap': bootstrap}\n",
    "\n",
    "# gs = GridSearchCV(rfc, param_grid, cv = 3, verbose = 1, n_jobs=-1)\n",
    "# gs.fit(X_train, y_train)\n",
    "# rfc_2 = gs.best_estimator_\n",
    "# gs.best_params_"
   ]
  },
  {
   "cell_type": "code",
   "execution_count": 48,
   "id": "09754765",
   "metadata": {},
   "outputs": [],
   "source": [
    "# y_pred_gs = rfc_2.predict(X_test)"
   ]
  },
  {
   "cell_type": "code",
   "execution_count": 50,
   "id": "f4b4f285",
   "metadata": {},
   "outputs": [
    {
     "name": "stdout",
     "output_type": "stream",
     "text": [
      "[[45  4]\n",
      " [12 38]]\n",
      "              precision    recall  f1-score   support\n",
      "\n",
      "           0       0.79      0.92      0.85        49\n",
      "           1       0.90      0.76      0.83        50\n",
      "\n",
      "    accuracy                           0.84        99\n",
      "   macro avg       0.85      0.84      0.84        99\n",
      "weighted avg       0.85      0.84      0.84        99\n",
      "\n"
     ]
    },
    {
     "data": {
      "image/png": "[encoded data removed]",
      "text/plain": [
       "<Figure size 640x480 with 2 Axes>"
      ]
     },
     "metadata": {},
     "output_type": "display_data"
    }
   ],
   "source": [
    "# from sklearn.metrics import confusion_matrix                            \n",
    "\n",
    "\n",
    "# cf_matrix = confusion_matrix(y_test, y_pred_gs)\n",
    "# print(cf_matrix)\n",
    "\n",
    "# sns.set(font_scale=1)\n",
    "# sns.heatmap(cf_matrix, annot=True, fmt='.3g',\n",
    "#            vmin=0, vmax=50, center= 0,\n",
    "#            cmap= 'coolwarm', linewidths=2, linecolor='black', \n",
    "#            #cbar_kws={'ticks':[0,1,2,3]},\n",
    "#            xticklabels=['low','high'],\n",
    "#            yticklabels=['low','high']).set(title='Predicted vs. True GDM severity, PlanetScope 2022 (SB+VI)');\n",
    "\n",
    "# plt.ylabel('True')\n",
    "# plt.xlabel('Predicted')\n",
    "# plt.tight_layout()\n",
    "\n",
    "# plt.savefig('/Users/kathleenkanaley/Desktop/figs_phytopath_rev/corr_matrices_RF/PScope/SB+VI/Sev_2022.jpg')\n",
    "# report = classification_report(y_test, y_pred_gs)\n",
    "\n",
    "# print(report)\n",
    "# # conf_matrix_tuned = pd.DataFrame(confusion_matrix(y_test, y_pred_gs),\n",
    "# #         index = [np.unique(y_pred)[0],np.unique(y_pred)[1]], columns = [np.unique(y_pred)[0],np.unique(y_pred)[1]])\n",
    "                                                         \n",
    "# # display(conf_matrix_tuned)\n",
    "# # display('Hyperparameter Tuned Random Forest accuracy score', accuracy_score(y_test, y_pred_gs))"
   ]
  },
  {
   "cell_type": "code",
   "execution_count": 51,
   "id": "01d64a02",
   "metadata": {},
   "outputs": [
    {
     "data": {
      "image/png": "[encoded data removed]",
      "text/plain": [
       "<Figure size 640x480 with 1 Axes>"
      ]
     },
     "metadata": {},
     "output_type": "display_data"
    }
   ],
   "source": [
    "# from sklearn.inspection import permutation_importance\n",
    "\n",
    "# result = permutation_importance(\n",
    "#     rfc_2, X_test, y_test, n_repeats=10, random_state=16, n_jobs=2\n",
    "# )\n",
    "\n",
    "# sorted_importances_idx = result.importances_mean.argsort()\n",
    "\n",
    "# importances = pd.DataFrame(\n",
    "#     result.importances[sorted_importances_idx].T,\n",
    "#     columns=data_2022[ast.literal_eval(combo_22)].columns[sorted_importances_idx],\n",
    "# )\n",
    "# ax = importances.plot.box(vert=False, whis=10)\n",
    "# ax.set_title(\"Permutation Importances (test set)\",fontname=\"Arial\", fontsize=16)\n",
    "# #ax.axvline(x=0, color=\"k\", linestyle=\"--\")\n",
    "# ax.set_xlabel(\"Decrease in accuracy score\",fontname=\"Arial\", fontsize = 16)\n",
    "# ax.set_ylabel(\"Features\",fontname=\"Arial\", fontsize = 16)\n",
    "\n",
    "# ax.figure.tight_layout()\n",
    "# plt.savefig('/Users/kathleenkanaley/Desktop/figs_phytopath_rev/permimp_RF/PScope/SB+VI/permimp_sev22.jpg')"
   ]
  },
  {
   "cell_type": "markdown",
   "id": "95796a47",
   "metadata": {},
   "source": [
    "## All years"
   ]
  },
  {
   "cell_type": "code",
   "execution_count": 52,
   "id": "4e063346",
   "metadata": {},
   "outputs": [
    {
     "data": {
      "text/html": [
       "<div>\n",
       "<style scoped>\n",
       "    .dataframe tbody tr th:only-of-type {\n",
       "        vertical-align: middle;\n",
       "    }\n",
       "\n",
       "    .dataframe tbody tr th {\n",
       "        vertical-align: top;\n",
       "    }\n",
       "\n",
       "    .dataframe thead th {\n",
       "        text-align: right;\n",
       "    }\n",
       "</style>\n",
       "<table border=\"1\" class=\"dataframe\">\n",
       "  <thead>\n",
       "    <tr style=\"text-align: right;\">\n",
       "      <th></th>\n",
       "      <th>F1</th>\n",
       "      <th>features</th>\n",
       "    </tr>\n",
       "  </thead>\n",
       "  <tbody>\n",
       "    <tr>\n",
       "      <th>0</th>\n",
       "      <td>0.828478</td>\n",
       "      <td>['c_blue', 'blue', 'greenI', 'green', 'yellow'...</td>\n",
       "    </tr>\n",
       "    <tr>\n",
       "      <th>1</th>\n",
       "      <td>0.838952</td>\n",
       "      <td>['c_blue', 'blue', 'greenI', 'green', 'yellow'...</td>\n",
       "    </tr>\n",
       "    <tr>\n",
       "      <th>2</th>\n",
       "      <td>0.824758</td>\n",
       "      <td>['c_blue', 'blue', 'greenI', 'green', 'yellow'...</td>\n",
       "    </tr>\n",
       "    <tr>\n",
       "      <th>3</th>\n",
       "      <td>0.834154</td>\n",
       "      <td>['c_blue', 'blue', 'greenI', 'green', 'yellow'...</td>\n",
       "    </tr>\n",
       "    <tr>\n",
       "      <th>4</th>\n",
       "      <td>0.834867</td>\n",
       "      <td>['c_blue', 'blue', 'greenI', 'green', 'yellow'...</td>\n",
       "    </tr>\n",
       "    <tr>\n",
       "      <th>...</th>\n",
       "      <td>...</td>\n",
       "      <td>...</td>\n",
       "    </tr>\n",
       "    <tr>\n",
       "      <th>250</th>\n",
       "      <td>0.843321</td>\n",
       "      <td>['c_blue', 'blue', 'greenI', 'green', 'yellow'...</td>\n",
       "    </tr>\n",
       "    <tr>\n",
       "      <th>251</th>\n",
       "      <td>0.840468</td>\n",
       "      <td>['c_blue', 'blue', 'greenI', 'green', 'yellow'...</td>\n",
       "    </tr>\n",
       "    <tr>\n",
       "      <th>252</th>\n",
       "      <td>0.837061</td>\n",
       "      <td>['c_blue', 'blue', 'greenI', 'green', 'yellow'...</td>\n",
       "    </tr>\n",
       "    <tr>\n",
       "      <th>253</th>\n",
       "      <td>0.840980</td>\n",
       "      <td>['c_blue', 'blue', 'greenI', 'green', 'yellow'...</td>\n",
       "    </tr>\n",
       "    <tr>\n",
       "      <th>254</th>\n",
       "      <td>0.840448</td>\n",
       "      <td>['c_blue', 'blue', 'greenI', 'green', 'yellow'...</td>\n",
       "    </tr>\n",
       "  </tbody>\n",
       "</table>\n",
       "<p>255 rows × 2 columns</p>\n",
       "</div>"
      ],
      "text/plain": [
       "           F1                                           features\n",
       "0    0.828478  ['c_blue', 'blue', 'greenI', 'green', 'yellow'...\n",
       "1    0.838952  ['c_blue', 'blue', 'greenI', 'green', 'yellow'...\n",
       "2    0.824758  ['c_blue', 'blue', 'greenI', 'green', 'yellow'...\n",
       "3    0.834154  ['c_blue', 'blue', 'greenI', 'green', 'yellow'...\n",
       "4    0.834867  ['c_blue', 'blue', 'greenI', 'green', 'yellow'...\n",
       "..        ...                                                ...\n",
       "250  0.843321  ['c_blue', 'blue', 'greenI', 'green', 'yellow'...\n",
       "251  0.840468  ['c_blue', 'blue', 'greenI', 'green', 'yellow'...\n",
       "252  0.837061  ['c_blue', 'blue', 'greenI', 'green', 'yellow'...\n",
       "253  0.840980  ['c_blue', 'blue', 'greenI', 'green', 'yellow'...\n",
       "254  0.840448  ['c_blue', 'blue', 'greenI', 'green', 'yellow'...\n",
       "\n",
       "[255 rows x 2 columns]"
      ]
     },
     "execution_count": 52,
     "metadata": {},
     "output_type": "execute_result"
    }
   ],
   "source": [
    "# get F1 scores for different VI combos\n",
    "\n",
    "models = get_models(exp_vars)\n",
    "\n",
    "F1_allyear = pd.DataFrame(columns=['F1', 'features'])\n",
    "F1 = []\n",
    "features = []\n",
    "\n",
    "for name, model in models.items():\n",
    "        X,y = data_prep(data_all,ast.literal_eval(name),sev,2024,16)\n",
    "        scores = evaluate_model(model, X, y,'f1')\n",
    "        F1.append(np.mean(scores))\n",
    "        features.append(name)\n",
    "F1_allyear['F1']=F1\n",
    "F1_allyear['features']=features\n",
    "\n",
    "F1_allyear"
   ]
  },
  {
   "cell_type": "code",
   "execution_count": 53,
   "id": "95113908",
   "metadata": {},
   "outputs": [
    {
     "name": "stdout",
     "output_type": "stream",
     "text": [
      "Best feature combo for all-year: ['c_blue', 'blue', 'greenI', 'green', 'yellow', 'red', 'rede', 'nir', 'ndre', 'tcari', 'ndvi', 'savi']\n"
     ]
    }
   ],
   "source": [
    "# find VI combo that maximizes F1\n",
    "\n",
    "combo_all = F1_allyear.iloc[F1_allyear['F1'].idxmax()]['features']\n",
    "print(\"Best feature combo for all-year:\", combo_all)"
   ]
  },
  {
   "cell_type": "code",
   "execution_count": 54,
   "id": "8889c2e9",
   "metadata": {},
   "outputs": [],
   "source": [
    "X_train, y_train, X_test, y_test = bal_split_norm(data_all,\n",
    "                                                  ast.literal_eval(combo_all), #convert string to list\n",
    "                                                 sev,\n",
    "                                                 2020,\n",
    "                                                 14)"
   ]
  },
  {
   "cell_type": "code",
   "execution_count": 55,
   "id": "2ba9e4da",
   "metadata": {},
   "outputs": [],
   "source": [
    "# Create dictionary of parameters to test with randomizedCV\n",
    "\n",
    "from sklearn.model_selection import RandomizedSearchCV\n",
    "\n",
    "n_estimators = [int(x) for x in np.linspace(start = 100, stop = 1000,\n",
    "num = 10)]\n",
    "max_features = ['log2', 'sqrt']\n",
    "max_depth = [int(x) for x in np.linspace(start = 1, stop = 15, num =\n",
    "15)]\n",
    "min_samples_split = [int(x) for x in np.linspace(start = 2, stop = 50,\n",
    "num = 10)]\n",
    "min_samples_leaf = [int(x) for x in np.linspace(start = 1, stop = 50,\n",
    "num = 5)]\n",
    "bootstrap = [True, False]\n",
    "param_dist = {'n_estimators': n_estimators,\n",
    "'max_features': max_features,\n",
    "'max_depth': max_depth,\n",
    "'min_samples_split': min_samples_split,\n",
    "'min_samples_leaf': min_samples_leaf,\n",
    "'bootstrap': bootstrap}"
   ]
  },
  {
   "cell_type": "code",
   "execution_count": 56,
   "id": "b7e3fc3e",
   "metadata": {},
   "outputs": [
    {
     "name": "stdout",
     "output_type": "stream",
     "text": [
      "Fitting 3 folds for each of 100 candidates, totalling 300 fits\n"
     ]
    },
    {
     "data": {
      "text/plain": [
       "{'n_estimators': 300,\n",
       " 'min_samples_split': 12,\n",
       " 'min_samples_leaf': 1,\n",
       " 'max_features': 'log2',\n",
       " 'max_depth': 13,\n",
       " 'bootstrap': False}"
      ]
     },
     "execution_count": 56,
     "metadata": {},
     "output_type": "execute_result"
    }
   ],
   "source": [
    "rfc = RandomForestClassifier()\n",
    "rs = RandomizedSearchCV(rfc,\n",
    "param_dist,\n",
    "n_iter = 100,\n",
    "scoring = 'f1',\n",
    "cv = 3,\n",
    "verbose = 1,\n",
    "n_jobs=-1,\n",
    "random_state=0)\n",
    "\n",
    "rs.fit(X_train, y_train)\n",
    "rs.best_params_"
   ]
  },
  {
   "cell_type": "code",
   "execution_count": 57,
   "id": "0d5047ed",
   "metadata": {},
   "outputs": [
    {
     "data": {
      "text/html": [
       "<div>\n",
       "<style scoped>\n",
       "    .dataframe tbody tr th:only-of-type {\n",
       "        vertical-align: middle;\n",
       "    }\n",
       "\n",
       "    .dataframe tbody tr th {\n",
       "        vertical-align: top;\n",
       "    }\n",
       "\n",
       "    .dataframe thead th {\n",
       "        text-align: right;\n",
       "    }\n",
       "</style>\n",
       "<table border=\"1\" class=\"dataframe\">\n",
       "  <thead>\n",
       "    <tr style=\"text-align: right;\">\n",
       "      <th></th>\n",
       "      <th>param_n_estimators</th>\n",
       "      <th>param_min_samples_split</th>\n",
       "      <th>param_min_samples_leaf</th>\n",
       "      <th>param_max_features</th>\n",
       "      <th>param_max_depth</th>\n",
       "      <th>param_bootstrap</th>\n",
       "      <th>mean_test_score</th>\n",
       "      <th>rank_test_score</th>\n",
       "    </tr>\n",
       "  </thead>\n",
       "  <tbody>\n",
       "    <tr>\n",
       "      <th>0</th>\n",
       "      <td>300</td>\n",
       "      <td>12</td>\n",
       "      <td>1</td>\n",
       "      <td>log2</td>\n",
       "      <td>13</td>\n",
       "      <td>False</td>\n",
       "      <td>0.845711</td>\n",
       "      <td>1</td>\n",
       "    </tr>\n",
       "    <tr>\n",
       "      <th>1</th>\n",
       "      <td>700</td>\n",
       "      <td>2</td>\n",
       "      <td>1</td>\n",
       "      <td>log2</td>\n",
       "      <td>6</td>\n",
       "      <td>False</td>\n",
       "      <td>0.840133</td>\n",
       "      <td>2</td>\n",
       "    </tr>\n",
       "    <tr>\n",
       "      <th>2</th>\n",
       "      <td>300</td>\n",
       "      <td>18</td>\n",
       "      <td>1</td>\n",
       "      <td>sqrt</td>\n",
       "      <td>12</td>\n",
       "      <td>False</td>\n",
       "      <td>0.838564</td>\n",
       "      <td>3</td>\n",
       "    </tr>\n",
       "    <tr>\n",
       "      <th>3</th>\n",
       "      <td>700</td>\n",
       "      <td>28</td>\n",
       "      <td>1</td>\n",
       "      <td>sqrt</td>\n",
       "      <td>8</td>\n",
       "      <td>False</td>\n",
       "      <td>0.831516</td>\n",
       "      <td>4</td>\n",
       "    </tr>\n",
       "    <tr>\n",
       "      <th>4</th>\n",
       "      <td>200</td>\n",
       "      <td>12</td>\n",
       "      <td>1</td>\n",
       "      <td>log2</td>\n",
       "      <td>7</td>\n",
       "      <td>True</td>\n",
       "      <td>0.830824</td>\n",
       "      <td>5</td>\n",
       "    </tr>\n",
       "    <tr>\n",
       "      <th>5</th>\n",
       "      <td>700</td>\n",
       "      <td>18</td>\n",
       "      <td>1</td>\n",
       "      <td>log2</td>\n",
       "      <td>7</td>\n",
       "      <td>True</td>\n",
       "      <td>0.828794</td>\n",
       "      <td>6</td>\n",
       "    </tr>\n",
       "    <tr>\n",
       "      <th>6</th>\n",
       "      <td>600</td>\n",
       "      <td>44</td>\n",
       "      <td>1</td>\n",
       "      <td>sqrt</td>\n",
       "      <td>14</td>\n",
       "      <td>False</td>\n",
       "      <td>0.825916</td>\n",
       "      <td>7</td>\n",
       "    </tr>\n",
       "    <tr>\n",
       "      <th>7</th>\n",
       "      <td>200</td>\n",
       "      <td>39</td>\n",
       "      <td>1</td>\n",
       "      <td>log2</td>\n",
       "      <td>9</td>\n",
       "      <td>False</td>\n",
       "      <td>0.824701</td>\n",
       "      <td>8</td>\n",
       "    </tr>\n",
       "    <tr>\n",
       "      <th>8</th>\n",
       "      <td>400</td>\n",
       "      <td>23</td>\n",
       "      <td>1</td>\n",
       "      <td>log2</td>\n",
       "      <td>5</td>\n",
       "      <td>False</td>\n",
       "      <td>0.817531</td>\n",
       "      <td>9</td>\n",
       "    </tr>\n",
       "    <tr>\n",
       "      <th>9</th>\n",
       "      <td>300</td>\n",
       "      <td>34</td>\n",
       "      <td>1</td>\n",
       "      <td>log2</td>\n",
       "      <td>14</td>\n",
       "      <td>True</td>\n",
       "      <td>0.817301</td>\n",
       "      <td>10</td>\n",
       "    </tr>\n",
       "  </tbody>\n",
       "</table>\n",
       "</div>"
      ],
      "text/plain": [
       "  param_n_estimators param_min_samples_split param_min_samples_leaf  \\\n",
       "0                300                      12                      1   \n",
       "1                700                       2                      1   \n",
       "2                300                      18                      1   \n",
       "3                700                      28                      1   \n",
       "4                200                      12                      1   \n",
       "5                700                      18                      1   \n",
       "6                600                      44                      1   \n",
       "7                200                      39                      1   \n",
       "8                400                      23                      1   \n",
       "9                300                      34                      1   \n",
       "\n",
       "  param_max_features param_max_depth param_bootstrap  mean_test_score  \\\n",
       "0               log2              13           False         0.845711   \n",
       "1               log2               6           False         0.840133   \n",
       "2               sqrt              12           False         0.838564   \n",
       "3               sqrt               8           False         0.831516   \n",
       "4               log2               7            True         0.830824   \n",
       "5               log2               7            True         0.828794   \n",
       "6               sqrt              14           False         0.825916   \n",
       "7               log2               9           False         0.824701   \n",
       "8               log2               5           False         0.817531   \n",
       "9               log2              14            True         0.817301   \n",
       "\n",
       "   rank_test_score  \n",
       "0                1  \n",
       "1                2  \n",
       "2                3  \n",
       "3                4  \n",
       "4                5  \n",
       "5                6  \n",
       "6                7  \n",
       "7                8  \n",
       "8                9  \n",
       "9               10  "
      ]
     },
     "execution_count": 57,
     "metadata": {},
     "output_type": "execute_result"
    }
   ],
   "source": [
    "rs_df = pd.DataFrame(rs.cv_results_).sort_values('rank_test_score').reset_index(drop=True)\n",
    "rs_df = rs_df.drop([\n",
    "'mean_fit_time',\n",
    "'std_fit_time',\n",
    "'mean_score_time',\n",
    "'std_score_time',\n",
    "'params',\n",
    "'split0_test_score',\n",
    "'split1_test_score',\n",
    "'split2_test_score',\n",
    "'std_test_score'],\n",
    "axis=1)\n",
    "\n",
    "rs_df.head(10)"
   ]
  },
  {
   "cell_type": "code",
   "execution_count": 58,
   "id": "c8da4a2f",
   "metadata": {},
   "outputs": [
    {
     "name": "stdout",
     "output_type": "stream",
     "text": [
      "Fitting 3 folds for each of 240 candidates, totalling 720 fits\n"
     ]
    },
    {
     "data": {
      "text/plain": [
       "{'bootstrap': False,\n",
       " 'max_depth': 8,\n",
       " 'max_features': 'sqrt',\n",
       " 'min_samples_leaf': 1,\n",
       " 'min_samples_split': 2,\n",
       " 'n_estimators': 700}"
      ]
     },
     "execution_count": 58,
     "metadata": {},
     "output_type": "execute_result"
    }
   ],
   "source": [
    "from sklearn.model_selection import GridSearchCV\n",
    "n_estimators = [200,300,700]\n",
    "max_features = ['sqrt','log2']\n",
    "max_depth = [3,6,8,12,13]\n",
    "min_samples_split = [2,12,18,28]\n",
    "min_samples_leaf = [1]\n",
    "bootstrap = [True,False]\n",
    "\n",
    "param_grid = {'n_estimators': n_estimators,\n",
    "'max_features': max_features,\n",
    "'max_depth': max_depth,\n",
    "'min_samples_split': min_samples_split,\n",
    "'min_samples_leaf': min_samples_leaf,\n",
    "'bootstrap': bootstrap}\n",
    "\n",
    "gs = GridSearchCV(rfc, param_grid, cv = 3, verbose = 1, n_jobs=-1)\n",
    "gs.fit(X_train, y_train)\n",
    "rfc_2 = gs.best_estimator_\n",
    "gs.best_params_"
   ]
  },
  {
   "cell_type": "code",
   "execution_count": 59,
   "id": "57eb87ef",
   "metadata": {},
   "outputs": [],
   "source": [
    "y_pred_gs = rfc_2.predict(X_test)"
   ]
  },
  {
   "cell_type": "code",
   "execution_count": 61,
   "id": "4a154f06",
   "metadata": {},
   "outputs": [
    {
     "name": "stdout",
     "output_type": "stream",
     "text": [
      "[[86 24]\n",
      " [14 96]]\n",
      "              precision    recall  f1-score   support\n",
      "\n",
      "           0       0.86      0.78      0.82       110\n",
      "           1       0.80      0.87      0.83       110\n",
      "\n",
      "    accuracy                           0.83       220\n",
      "   macro avg       0.83      0.83      0.83       220\n",
      "weighted avg       0.83      0.83      0.83       220\n",
      "\n"
     ]
    },
    {
     "data": {
      "image/png": "[encoded data removed]",
      "text/plain": [
       "<Figure size 640x480 with 2 Axes>"
      ]
     },
     "metadata": {},
     "output_type": "display_data"
    }
   ],
   "source": [
    "from sklearn.metrics import confusion_matrix                            \n",
    "\n",
    "\n",
    "cf_matrix = confusion_matrix(y_test, y_pred_gs)\n",
    "print(cf_matrix)\n",
    "\n",
    "sns.set(font_scale=1)\n",
    "sns.heatmap(cf_matrix, annot=True, fmt='.3g',\n",
    "           vmin=0, vmax=110, center= 0,\n",
    "           cmap= 'coolwarm', linewidths=2, linecolor='black',\n",
    "           xticklabels=['low','high'],\n",
    "           yticklabels=['low','high']).set(title='Predicted vs. True GDM severity, PlanetScope 2020-22 (SB+VI)');\n",
    "\n",
    "plt.ylabel('True')\n",
    "plt.xlabel('Predicted')\n",
    "plt.tight_layout()\n",
    "\n",
    "plt.savefig('/Users/kathleenkanaley/Desktop/figs_phytopath_rev/corr_matrices_RF/PScope/SB+VI/Sev_all.jpg')\n",
    "report = classification_report(y_test, y_pred_gs)\n",
    "\n",
    "print(report)\n",
    "# conf_matrix_tuned = pd.DataFrame(confusion_matrix(y_test, y_pred_gs),\n",
    "#         index = [np.unique(y_pred)[0],np.unique(y_pred)[1]], columns = [np.unique(y_pred)[0],np.unique(y_pred)[1]])\n",
    "                                                         \n",
    "# display(conf_matrix_tuned)\n",
    "# display('Hyperparameter Tuned Random Forest accuracy score', accuracy_score(y_test, y_pred_gs))"
   ]
  },
  {
   "cell_type": "code",
   "execution_count": 62,
   "id": "2bc253a4",
   "metadata": {},
   "outputs": [
    {
     "data": {
      "image/png": "[encoded data removed]",
      "text/plain": [
       "<Figure size 640x480 with 1 Axes>"
      ]
     },
     "metadata": {},
     "output_type": "display_data"
    }
   ],
   "source": [
    "from sklearn.inspection import permutation_importance\n",
    "\n",
    "result = permutation_importance(\n",
    "    rfc_2, X_test, y_test, n_repeats=10, random_state=16, n_jobs=2\n",
    ")\n",
    "\n",
    "sorted_importances_idx = result.importances_mean.argsort()\n",
    "\n",
    "importances = pd.DataFrame(\n",
    "    result.importances[sorted_importances_idx].T,\n",
    "    columns=data_all[ast.literal_eval(combo_all)].columns[sorted_importances_idx],\n",
    ")\n",
    "ax = importances.plot.box(vert=False, whis=10)\n",
    "ax.set_title(\"Permutation Importances (test set)\",fontname=\"Arial\", fontsize=16)\n",
    "#ax.axvline(x=0, color=\"k\", linestyle=\"--\")\n",
    "ax.set_xlabel(\"Decrease in accuracy score\",fontname=\"Arial\", fontsize = 16)\n",
    "ax.set_ylabel(\"Features\",fontname=\"Arial\", fontsize = 16)\n",
    "\n",
    "ax.figure.tight_layout()\n",
    "plt.savefig('/Users/kathleenkanaley/Desktop/figs_phytopath_rev/permimp_RF/PScope/SB+VI/permimp_sevall.jpg')"
   ]
  },
  {
   "cell_type": "code",
   "execution_count": null,
   "id": "39629a38",
   "metadata": {},
   "outputs": [],
   "source": []
  }
 ],
 "metadata": {
  "kernelspec": {
   "display_name": "Python 3 (ipykernel)",
   "language": "python",
   "name": "python3"
  },
  "language_info": {
   "codemirror_mode": {
    "name": "ipython",
    "version": 3
   },
   "file_extension": ".py",
   "mimetype": "text/x-python",
   "name": "python",
   "nbconvert_exporter": "python",
   "pygments_lexer": "ipython3",
   "version": "3.10.6"
  }
 },
 "nbformat": 4,
 "nbformat_minor": 5
}
