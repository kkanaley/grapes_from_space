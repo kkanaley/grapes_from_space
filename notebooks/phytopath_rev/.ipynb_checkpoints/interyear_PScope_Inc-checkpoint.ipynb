{
 "cells": [
  {
   "cell_type": "code",
   "execution_count": 78,
   "id": "19fedb74",
   "metadata": {},
   "outputs": [],
   "source": [
    "import glob\n",
    "import os\n",
    "import matplotlib.pyplot as plt\n",
    "import pandas as pd\n",
    "import numpy as np\n",
    "import seaborn as sns\n",
    "import rasterio as rio\n",
    "\n",
    "import sklearn\n",
    "from sklearn.preprocessing import MinMaxScaler\n",
    "from sklearn.model_selection import train_test_split\n",
    "from sklearn.ensemble import RandomForestClassifier\n",
    "from sklearn.model_selection import cross_val_score\n",
    "from sklearn.model_selection import RepeatedStratifiedKFold\n",
    "from sklearn.metrics import classification_report \n",
    "from sklearn.metrics import accuracy_score\n",
    "from sklearn.metrics import precision_recall_fscore_support\n",
    "from sklearn.metrics import roc_auc_score\n",
    "from sklearn.metrics import confusion_matrix\n",
    "\n",
    "import imblearn as imb\n",
    "from imblearn.under_sampling import RandomUnderSampler\n",
    "\n",
    "import scipy\n",
    "import itertools\n",
    "import random\n",
    "import ast"
   ]
  },
  {
   "cell_type": "markdown",
   "id": "a010eab2",
   "metadata": {},
   "source": [
    "## Data prep"
   ]
  },
  {
   "cell_type": "code",
   "execution_count": 120,
   "id": "0510f78a",
   "metadata": {},
   "outputs": [],
   "source": [
    "def img_to_df(img_path, cols):\n",
    "    with rio.open(img_path) as src:\n",
    "        as_array = src.read()\n",
    "        band_arrs = []\n",
    "        \n",
    "        for i in np.arange(src.count):\n",
    "            band_arr = as_array[i].flatten()\n",
    "            band_arr = band_arr/10000\n",
    "            \n",
    "            band_arrs.append(band_arr)\n",
    "        \n",
    "        df = pd.DataFrame(band_arrs,cols).T\n",
    "        df['Date'] = img_path.split('/')[-1].split('_')[0]\n",
    "        \n",
    "        # Optional: drops entries with no severity rating. Comment out if unnecessary.\n",
    "#         df = df.dropna(subset=['total_dis_sev']) \n",
    "        \n",
    "        return df"
   ]
  },
  {
   "cell_type": "code",
   "execution_count": 121,
   "id": "ea08a792",
   "metadata": {},
   "outputs": [],
   "source": [
    "def add_vis(df):\n",
    "    df['pri']= (df['green']- df['greenI'])/(df['green']+df['greenI'])\n",
    "    df['ndre'] = (df['nir'] - df['rede']) / (df['nir'] + df['rede'])\n",
    "    df['tcari'] = 3 * (( (df['rede'] - df['red']) - 0.2 * (df['rede'] - df['green']) ) * (df['rede'] / df['red']))\n",
    "    df['ndvi']= (df['nir']-df['red'])/(df['nir']+df['red'])\n",
    "    df['evi']= 2.5*(df['nir']-df['red'])/(df['nir']+6*df['red']-7.5*df['blue']+1)\n",
    "    df['savi']= 1.5*(df['nir']-df['red'])/(df['nir']+df['red']+0.5)\n",
    "    df['arvi']=(df['nir']-(2*df['red']-df['blue']))/(df['nir']+(2*df['red']-df['blue']))\n",
    "    df['grvi'] = (df['green']-df['red'])/(df['green']+df['red'])\n",
    "\n",
    "    return df"
   ]
  },
  {
   "cell_type": "code",
   "execution_count": 122,
   "id": "196fe5df",
   "metadata": {},
   "outputs": [],
   "source": [
    "data_dir = '/Users/kathleenkanaley/Desktop/grapes_from_space/data/'\n",
    "dis_ras_20 = glob.glob(data_dir +'images/2020/PScope/dis_band_*/20*.tif')\n",
    "dis_ras_21 = glob.glob(data_dir +'images/2021/PScope/dis_band_*/20*.tif')\n",
    "dis_ras_22 = glob.glob(data_dir +'images/2022/PScope/dis_band_*/20*.tif')"
   ]
  },
  {
   "cell_type": "code",
   "execution_count": 123,
   "id": "46d77696",
   "metadata": {},
   "outputs": [],
   "source": [
    "# Get dataframes for all years\n",
    "def data_prep_ps(rasters, cols):\n",
    "    dfs = [img_to_df(rasters[i], cols) for i in np.arange(len(rasters))]\n",
    "    df = pd.concat(dfs)\n",
    "    df['total_dis_sev'] = df['total_dis_sev']*10000\n",
    "    df['dm_sev'] = df['dm_sev']*10000\n",
    "    df['dm_inc'] = df['dm_inc']*10000\n",
    "    df['inc_class'] = 0\n",
    "    df.loc[df['dm_inc']>25,'inc_class']= 1\n",
    "    df['severity_class'] = 0\n",
    "    df.loc[df['dm_sev']>10,'severity_class']= 1\n",
    "    vis = add_vis(df)\n",
    "    return vis\n",
    "    \n",
    "    \n",
    "# dfs_2020 = [img_to_df(dis_ras_20[i], cols) for i in np.arange(len(dis_ras_20))]\n",
    "# df_2020 = pd.concat(dfs_2020)\n",
    "\n",
    "# df_2020['total_dis_sev'] = df_2020['total_dis_sev']*10000\n",
    "# df_2020['dm_sev'] = df_2020['dm_sev']*10000\n",
    "# df_2020['dm_inc'] = df_2020['dm_inc']*10000\n",
    "\n",
    "# df_2020['inc_class'] = 'low'\n",
    "# df_2020.loc[df_2020['dm_inc']>25,'inc_class']= 'high'\n",
    "    \n",
    "# df_2020['severity_class'] = 'low'\n",
    "# df_2020.loc[df_2020['dm_sev']>10,'severity_class']= 'high'\n",
    "\n",
    "# vis_2020 = add_vis(df_2020)\n",
    "\n",
    "# vis_2020.columns"
   ]
  },
  {
   "cell_type": "code",
   "execution_count": 124,
   "id": "9eb56d0f",
   "metadata": {},
   "outputs": [
    {
     "data": {
      "text/plain": [
       "3"
      ]
     },
     "execution_count": 124,
     "metadata": {},
     "output_type": "execute_result"
    }
   ],
   "source": [
    "cols = ['c_blue','blue','greenI', 'green', 'yellow', 'red', 'rede', 'nir','total_dis_sev','dm_sev', 'dm_inc']\n",
    "vi_dfs = []\n",
    "\n",
    "for ras in [dis_ras_20, dis_ras_21, dis_ras_22]:\n",
    "    vi_df = data_prep_ps(ras,cols)\n",
    "    vi_dfs.append(vi_df)\n",
    "    \n",
    "len(vi_dfs)"
   ]
  },
  {
   "cell_type": "code",
   "execution_count": 125,
   "id": "b29281b0",
   "metadata": {},
   "outputs": [
    {
     "data": {
      "text/plain": [
       "array(['20200801', '20200713', '20200616'], dtype=object)"
      ]
     },
     "execution_count": 125,
     "metadata": {},
     "output_type": "execute_result"
    }
   ],
   "source": [
    "vi_dfs[0].Date.unique()"
   ]
  },
  {
   "cell_type": "code",
   "execution_count": 126,
   "id": "728237aa",
   "metadata": {},
   "outputs": [
    {
     "data": {
      "text/plain": [
       "array(['20210808', '20210804', '20210726', '20210715'], dtype=object)"
      ]
     },
     "execution_count": 126,
     "metadata": {},
     "output_type": "execute_result"
    }
   ],
   "source": [
    "vi_dfs[1].Date.unique()"
   ]
  },
  {
   "cell_type": "code",
   "execution_count": 133,
   "id": "8540b139",
   "metadata": {},
   "outputs": [],
   "source": [
    "vi_dfs[1] = vi_dfs[1][vi_dfs[1].Date !='20210804']"
   ]
  },
  {
   "cell_type": "code",
   "execution_count": 134,
   "id": "42fcfb71",
   "metadata": {},
   "outputs": [
    {
     "data": {
      "text/plain": [
       "array(['20220726', '20220801', '20220828', '20220630', '20220704',\n",
       "       '20220624'], dtype=object)"
      ]
     },
     "execution_count": 134,
     "metadata": {},
     "output_type": "execute_result"
    }
   ],
   "source": [
    "vi_dfs[2].Date.unique()"
   ]
  },
  {
   "cell_type": "code",
   "execution_count": 137,
   "id": "bde91ce1",
   "metadata": {},
   "outputs": [],
   "source": [
    "vi_dfs[2] = vi_dfs[2][vi_dfs[2].Date!='20220828']"
   ]
  },
  {
   "cell_type": "code",
   "execution_count": 138,
   "id": "ab8bfec3",
   "metadata": {},
   "outputs": [
    {
     "name": "stdout",
     "output_type": "stream",
     "text": [
      "20220726\n",
      "20220801\n",
      "20220630\n",
      "20220704\n",
      "20220624\n"
     ]
    }
   ],
   "source": [
    "for date in (vi_dfs[2].Date.unique()):\n",
    "    print(date)"
   ]
  },
  {
   "cell_type": "code",
   "execution_count": 139,
   "id": "f140b46f",
   "metadata": {},
   "outputs": [
    {
     "data": {
      "text/plain": [
       "Index(['c_blue', 'blue', 'greenI', 'green', 'yellow', 'red', 'rede', 'nir',\n",
       "       'total_dis_sev', 'dm_sev', 'dm_inc', 'Date', 'inc_class',\n",
       "       'severity_class', 'pri', 'ndre', 'tcari', 'ndvi', 'evi', 'savi', 'arvi',\n",
       "       'grvi'],\n",
       "      dtype='object')"
      ]
     },
     "execution_count": 139,
     "metadata": {},
     "output_type": "execute_result"
    }
   ],
   "source": [
    "vi_dfs[0].columns"
   ]
  },
  {
   "cell_type": "code",
   "execution_count": 140,
   "id": "20255400",
   "metadata": {},
   "outputs": [],
   "source": [
    "# set up variables\n",
    "data_2022 = vi_dfs[2]\n",
    "data_2021 = vi_dfs[1]\n",
    "data_2020 = vi_dfs[0]\n",
    "#data_all = pd.concat([data_2020,data_2021,data_2022])\n",
    "#sev = 'severity_class'\n",
    "inc = 'inc_class'\n",
    "sbs = ['c_blue', 'blue', 'greenI', 'green', 'yellow', 'red', 'rede', 'nir']\n",
    "# vis = ['pri', 'ndre', 'tcari', 'ndvi', 'evi', 'savi', 'arvi','grvi']"
   ]
  },
  {
   "cell_type": "code",
   "execution_count": 141,
   "id": "64e05782",
   "metadata": {},
   "outputs": [],
   "source": [
    "def data_prep(data, expl_vars, resp_var, state, seed):\n",
    "    X = data[expl_vars]\n",
    "    y = data[resp_var]\n",
    "\n",
    "    rus = RandomUnderSampler(random_state=state)\n",
    "    X_rus, y_rus = rus.fit_resample(X, y)\n",
    "\n",
    "    mm = MinMaxScaler()\n",
    "    X_scaled = mm.fit_transform(X_rus)\n",
    "    \n",
    "    return X_scaled, y_rus #features (scaled) and labels (unscaled)"
   ]
  },
  {
   "cell_type": "code",
   "execution_count": 142,
   "id": "9b9ee2c2",
   "metadata": {},
   "outputs": [],
   "source": [
    "def bal_split_norm(data, expl_vars, resp_var, state, seed):\n",
    "    X = data[expl_vars]\n",
    "    y = data[resp_var]\n",
    "\n",
    "    rus = RandomUnderSampler(random_state=state)\n",
    "    X_rus, y_rus = rus.fit_resample(X, y)\n",
    "\n",
    "    # Split dataset into training set and test set\n",
    "    X_train, X_test, y_train, y_test = train_test_split(X_rus, y_rus,\n",
    "                                                        test_size=0.3, \n",
    "                                                        random_state=seed,\n",
    "                                                        stratify = y_rus)  # 70% training and 30% test\n",
    "    mm = MinMaxScaler()\n",
    "    X_train_scaled = mm.fit_transform(X_train)\n",
    "    X_test_scaled = mm.transform(X_test)\n",
    "    \n",
    "    return X_train_scaled, y_train, X_test_scaled, y_test"
   ]
  },
  {
   "cell_type": "code",
   "execution_count": 143,
   "id": "e273a311",
   "metadata": {},
   "outputs": [],
   "source": [
    "# training data\n",
    "\n",
    "Xtrain_2yr,ytrain_2yr,Xtest_2yr,ytest_2yr = bal_split_norm(pd.concat([data_2020,data_2021]),sbs,inc,2020,14)"
   ]
  },
  {
   "cell_type": "code",
   "execution_count": 144,
   "id": "665ffeb3",
   "metadata": {},
   "outputs": [],
   "source": [
    "# training data\n",
    "\n",
    "# Xtrain_2020,ytrain_2020,Xtest_2020,ytest_2020 = bal_split_norm(data_2020,sbs,inc,2020,14)\n",
    "\n",
    "\n",
    "# Xtrain_2021,ytrain_2021,Xtest_2021,ytest_2021 = bal_split_norm(data_2021,sbs,inc,2021,14)\n",
    "\n",
    "\n",
    "# Xtrain_2022,ytrain_2022,Xtest_2022,ytest_2022 = bal_split_norm(data_2022,sbs,inc,2022,14)"
   ]
  },
  {
   "cell_type": "code",
   "execution_count": 145,
   "id": "b59ff0a9",
   "metadata": {},
   "outputs": [],
   "source": [
    "# # training data\n",
    "\n",
    "# Xtrain_2020,ytrain_2020 = data_prep(data_2020,sbs,inc,2020,14)\n",
    "\n",
    "\n",
    "# Xtrain_2021,ytrain_2021 = data_prep(data_2021,sbs,inc,2021,14)\n",
    "\n",
    "\n",
    "# Xtrain_2022,ytrain_2022 = data_prep(data_2022,sbs,inc,2022,14)"
   ]
  },
  {
   "cell_type": "code",
   "execution_count": 146,
   "id": "a1c8fa31",
   "metadata": {},
   "outputs": [],
   "source": [
    "# testing data\n",
    "\n",
    "mm=MinMaxScaler()\n",
    "\n",
    "Xtest_2020all = mm.fit_transform(data_2020[sbs])\n",
    "ytest_2020all = data_2020[inc].to_numpy().reshape(-1, 1)\n",
    "\n",
    "Xtest_2021all = mm.fit_transform(data_2021[sbs])\n",
    "ytest_2021all = data_2021[inc].to_numpy().reshape(-1, 1)\n",
    "\n",
    "Xtest_2022all = mm.fit_transform(data_2022[sbs])\n",
    "ytest_2022all = data_2022[inc].to_numpy().reshape(-1, 1)"
   ]
  },
  {
   "cell_type": "code",
   "execution_count": 147,
   "id": "2ad66f27",
   "metadata": {},
   "outputs": [],
   "source": [
    "# hyperparams\n",
    "\n",
    "hp_2020 = {'bootstrap': True,\n",
    " 'max_depth': 7,\n",
    " 'max_features': 'sqrt',\n",
    " 'min_samples_leaf': 1,\n",
    " 'min_samples_split': 2,\n",
    " 'n_estimators': 100}\n",
    "\n",
    "hp_2021 = {'bootstrap': True,\n",
    " 'max_depth': 13,\n",
    " 'max_features': 'sqrt',\n",
    " 'min_samples_leaf': 1,\n",
    " 'min_samples_split': 2,\n",
    " 'n_estimators': 100}\n",
    "\n",
    "hp_2022 = {'bootstrap': True,\n",
    " 'max_depth': 12,\n",
    " 'max_features': 'log2',\n",
    " 'min_samples_leaf': 1,\n",
    " 'min_samples_split': 2,\n",
    " 'n_estimators': 700}\n",
    "\n",
    "hp_all = {'bootstrap': True,\n",
    " 'max_depth': 13,\n",
    " 'max_features': 'log2',\n",
    " 'min_samples_leaf': 1,\n",
    " 'min_samples_split': 2,\n",
    " 'n_estimators': 700}"
   ]
  },
  {
   "cell_type": "code",
   "execution_count": 59,
   "id": "2c06dbc4",
   "metadata": {},
   "outputs": [
    {
     "data": {
      "text/html": [
       "<style>#sk-container-id-5 {color: black;background-color: white;}#sk-container-id-5 pre{padding: 0;}#sk-container-id-5 div.sk-toggleable {background-color: white;}#sk-container-id-5 label.sk-toggleable__label {cursor: pointer;display: block;width: 100%;margin-bottom: 0;padding: 0.3em;box-sizing: border-box;text-align: center;}#sk-container-id-5 label.sk-toggleable__label-arrow:before {content: \"▸\";float: left;margin-right: 0.25em;color: #696969;}#sk-container-id-5 label.sk-toggleable__label-arrow:hover:before {color: black;}#sk-container-id-5 div.sk-estimator:hover label.sk-toggleable__label-arrow:before {color: black;}#sk-container-id-5 div.sk-toggleable__content {max-height: 0;max-width: 0;overflow: hidden;text-align: left;background-color: #f0f8ff;}#sk-container-id-5 div.sk-toggleable__content pre {margin: 0.2em;color: black;border-radius: 0.25em;background-color: #f0f8ff;}#sk-container-id-5 input.sk-toggleable__control:checked~div.sk-toggleable__content {max-height: 200px;max-width: 100%;overflow: auto;}#sk-container-id-5 input.sk-toggleable__control:checked~label.sk-toggleable__label-arrow:before {content: \"▾\";}#sk-container-id-5 div.sk-estimator input.sk-toggleable__control:checked~label.sk-toggleable__label {background-color: #d4ebff;}#sk-container-id-5 div.sk-label input.sk-toggleable__control:checked~label.sk-toggleable__label {background-color: #d4ebff;}#sk-container-id-5 input.sk-hidden--visually {border: 0;clip: rect(1px 1px 1px 1px);clip: rect(1px, 1px, 1px, 1px);height: 1px;margin: -1px;overflow: hidden;padding: 0;position: absolute;width: 1px;}#sk-container-id-5 div.sk-estimator {font-family: monospace;background-color: #f0f8ff;border: 1px dotted black;border-radius: 0.25em;box-sizing: border-box;margin-bottom: 0.5em;}#sk-container-id-5 div.sk-estimator:hover {background-color: #d4ebff;}#sk-container-id-5 div.sk-parallel-item::after {content: \"\";width: 100%;border-bottom: 1px solid gray;flex-grow: 1;}#sk-container-id-5 div.sk-label:hover label.sk-toggleable__label {background-color: #d4ebff;}#sk-container-id-5 div.sk-serial::before {content: \"\";position: absolute;border-left: 1px solid gray;box-sizing: border-box;top: 0;bottom: 0;left: 50%;z-index: 0;}#sk-container-id-5 div.sk-serial {display: flex;flex-direction: column;align-items: center;background-color: white;padding-right: 0.2em;padding-left: 0.2em;position: relative;}#sk-container-id-5 div.sk-item {position: relative;z-index: 1;}#sk-container-id-5 div.sk-parallel {display: flex;align-items: stretch;justify-content: center;background-color: white;position: relative;}#sk-container-id-5 div.sk-item::before, #sk-container-id-5 div.sk-parallel-item::before {content: \"\";position: absolute;border-left: 1px solid gray;box-sizing: border-box;top: 0;bottom: 0;left: 50%;z-index: -1;}#sk-container-id-5 div.sk-parallel-item {display: flex;flex-direction: column;z-index: 1;position: relative;background-color: white;}#sk-container-id-5 div.sk-parallel-item:first-child::after {align-self: flex-end;width: 50%;}#sk-container-id-5 div.sk-parallel-item:last-child::after {align-self: flex-start;width: 50%;}#sk-container-id-5 div.sk-parallel-item:only-child::after {width: 0;}#sk-container-id-5 div.sk-dashed-wrapped {border: 1px dashed gray;margin: 0 0.4em 0.5em 0.4em;box-sizing: border-box;padding-bottom: 0.4em;background-color: white;}#sk-container-id-5 div.sk-label label {font-family: monospace;font-weight: bold;display: inline-block;line-height: 1.2em;}#sk-container-id-5 div.sk-label-container {text-align: center;}#sk-container-id-5 div.sk-container {/* jupyter's `normalize.less` sets `[hidden] { display: none; }` but bootstrap.min.css set `[hidden] { display: none !important; }` so we also need the `!important` here to be able to override the default hidden behavior on the sphinx rendered scikit-learn.org. See: https://github.com/scikit-learn/scikit-learn/issues/21755 */display: inline-block !important;position: relative;}#sk-container-id-5 div.sk-text-repr-fallback {display: none;}</style><div id=\"sk-container-id-5\" class=\"sk-top-container\"><div class=\"sk-text-repr-fallback\"><pre>RandomForestClassifier(max_depth=7)</pre><b>In a Jupyter environment, please rerun this cell to show the HTML representation or trust the notebook. <br />On GitHub, the HTML representation is unable to render, please try loading this page with nbviewer.org.</b></div><div class=\"sk-container\" hidden><div class=\"sk-item\"><div class=\"sk-estimator sk-toggleable\"><input class=\"sk-toggleable__control sk-hidden--visually\" id=\"sk-estimator-id-5\" type=\"checkbox\" checked><label for=\"sk-estimator-id-5\" class=\"sk-toggleable__label sk-toggleable__label-arrow\">RandomForestClassifier</label><div class=\"sk-toggleable__content\"><pre>RandomForestClassifier(max_depth=7)</pre></div></div></div></div></div>"
      ],
      "text/plain": [
       "RandomForestClassifier(max_depth=7)"
      ]
     },
     "execution_count": 59,
     "metadata": {},
     "output_type": "execute_result"
    }
   ],
   "source": [
    "# # Create RF classifiers\n",
    "# rfc_2020 = RandomForestClassifier().set_params(**hp_2020)\n",
    "# rfc_2020"
   ]
  },
  {
   "cell_type": "code",
   "execution_count": 60,
   "id": "b98be9bd",
   "metadata": {},
   "outputs": [
    {
     "data": {
      "text/html": [
       "<style>#sk-container-id-6 {color: black;background-color: white;}#sk-container-id-6 pre{padding: 0;}#sk-container-id-6 div.sk-toggleable {background-color: white;}#sk-container-id-6 label.sk-toggleable__label {cursor: pointer;display: block;width: 100%;margin-bottom: 0;padding: 0.3em;box-sizing: border-box;text-align: center;}#sk-container-id-6 label.sk-toggleable__label-arrow:before {content: \"▸\";float: left;margin-right: 0.25em;color: #696969;}#sk-container-id-6 label.sk-toggleable__label-arrow:hover:before {color: black;}#sk-container-id-6 div.sk-estimator:hover label.sk-toggleable__label-arrow:before {color: black;}#sk-container-id-6 div.sk-toggleable__content {max-height: 0;max-width: 0;overflow: hidden;text-align: left;background-color: #f0f8ff;}#sk-container-id-6 div.sk-toggleable__content pre {margin: 0.2em;color: black;border-radius: 0.25em;background-color: #f0f8ff;}#sk-container-id-6 input.sk-toggleable__control:checked~div.sk-toggleable__content {max-height: 200px;max-width: 100%;overflow: auto;}#sk-container-id-6 input.sk-toggleable__control:checked~label.sk-toggleable__label-arrow:before {content: \"▾\";}#sk-container-id-6 div.sk-estimator input.sk-toggleable__control:checked~label.sk-toggleable__label {background-color: #d4ebff;}#sk-container-id-6 div.sk-label input.sk-toggleable__control:checked~label.sk-toggleable__label {background-color: #d4ebff;}#sk-container-id-6 input.sk-hidden--visually {border: 0;clip: rect(1px 1px 1px 1px);clip: rect(1px, 1px, 1px, 1px);height: 1px;margin: -1px;overflow: hidden;padding: 0;position: absolute;width: 1px;}#sk-container-id-6 div.sk-estimator {font-family: monospace;background-color: #f0f8ff;border: 1px dotted black;border-radius: 0.25em;box-sizing: border-box;margin-bottom: 0.5em;}#sk-container-id-6 div.sk-estimator:hover {background-color: #d4ebff;}#sk-container-id-6 div.sk-parallel-item::after {content: \"\";width: 100%;border-bottom: 1px solid gray;flex-grow: 1;}#sk-container-id-6 div.sk-label:hover label.sk-toggleable__label {background-color: #d4ebff;}#sk-container-id-6 div.sk-serial::before {content: \"\";position: absolute;border-left: 1px solid gray;box-sizing: border-box;top: 0;bottom: 0;left: 50%;z-index: 0;}#sk-container-id-6 div.sk-serial {display: flex;flex-direction: column;align-items: center;background-color: white;padding-right: 0.2em;padding-left: 0.2em;position: relative;}#sk-container-id-6 div.sk-item {position: relative;z-index: 1;}#sk-container-id-6 div.sk-parallel {display: flex;align-items: stretch;justify-content: center;background-color: white;position: relative;}#sk-container-id-6 div.sk-item::before, #sk-container-id-6 div.sk-parallel-item::before {content: \"\";position: absolute;border-left: 1px solid gray;box-sizing: border-box;top: 0;bottom: 0;left: 50%;z-index: -1;}#sk-container-id-6 div.sk-parallel-item {display: flex;flex-direction: column;z-index: 1;position: relative;background-color: white;}#sk-container-id-6 div.sk-parallel-item:first-child::after {align-self: flex-end;width: 50%;}#sk-container-id-6 div.sk-parallel-item:last-child::after {align-self: flex-start;width: 50%;}#sk-container-id-6 div.sk-parallel-item:only-child::after {width: 0;}#sk-container-id-6 div.sk-dashed-wrapped {border: 1px dashed gray;margin: 0 0.4em 0.5em 0.4em;box-sizing: border-box;padding-bottom: 0.4em;background-color: white;}#sk-container-id-6 div.sk-label label {font-family: monospace;font-weight: bold;display: inline-block;line-height: 1.2em;}#sk-container-id-6 div.sk-label-container {text-align: center;}#sk-container-id-6 div.sk-container {/* jupyter's `normalize.less` sets `[hidden] { display: none; }` but bootstrap.min.css set `[hidden] { display: none !important; }` so we also need the `!important` here to be able to override the default hidden behavior on the sphinx rendered scikit-learn.org. See: https://github.com/scikit-learn/scikit-learn/issues/21755 */display: inline-block !important;position: relative;}#sk-container-id-6 div.sk-text-repr-fallback {display: none;}</style><div id=\"sk-container-id-6\" class=\"sk-top-container\"><div class=\"sk-text-repr-fallback\"><pre>RandomForestClassifier(max_depth=7)</pre><b>In a Jupyter environment, please rerun this cell to show the HTML representation or trust the notebook. <br />On GitHub, the HTML representation is unable to render, please try loading this page with nbviewer.org.</b></div><div class=\"sk-container\" hidden><div class=\"sk-item\"><div class=\"sk-estimator sk-toggleable\"><input class=\"sk-toggleable__control sk-hidden--visually\" id=\"sk-estimator-id-6\" type=\"checkbox\" checked><label for=\"sk-estimator-id-6\" class=\"sk-toggleable__label sk-toggleable__label-arrow\">RandomForestClassifier</label><div class=\"sk-toggleable__content\"><pre>RandomForestClassifier(max_depth=7)</pre></div></div></div></div></div>"
      ],
      "text/plain": [
       "RandomForestClassifier(max_depth=7)"
      ]
     },
     "execution_count": 60,
     "metadata": {},
     "output_type": "execute_result"
    }
   ],
   "source": [
    "# rfc_2020.fit(Xtrain_2020, ytrain_2020)"
   ]
  },
  {
   "cell_type": "code",
   "execution_count": 61,
   "id": "fa821242",
   "metadata": {},
   "outputs": [
    {
     "name": "stdout",
     "output_type": "stream",
     "text": [
      "[[52 10]\n",
      " [ 0 63]]\n",
      "              precision    recall  f1-score   support\n",
      "\n",
      "           0       1.00      0.84      0.91        62\n",
      "           1       0.86      1.00      0.93        63\n",
      "\n",
      "    accuracy                           0.92       125\n",
      "   macro avg       0.93      0.92      0.92       125\n",
      "weighted avg       0.93      0.92      0.92       125\n",
      "\n"
     ]
    }
   ],
   "source": [
    "# ypredict_2020 = rfc_2020.predict(Xtest_2020)\n",
    "# cf_matrix = confusion_matrix(ytest_2020, ypredict_2020)\n",
    "# print(cf_matrix)\n",
    "# report = classification_report(ytest_2020, ypredict_2020)\n",
    "# print(report)\n"
   ]
  },
  {
   "cell_type": "code",
   "execution_count": 62,
   "id": "213e7d82",
   "metadata": {},
   "outputs": [],
   "source": [
    "# ypredict_2021 = rfc_2020.predict(Xtest_2021all)"
   ]
  },
  {
   "cell_type": "code",
   "execution_count": 63,
   "id": "7ceed7cb",
   "metadata": {},
   "outputs": [
    {
     "name": "stdout",
     "output_type": "stream",
     "text": [
      "[[1633    0]\n",
      " [ 819   40]]\n",
      "              precision    recall  f1-score   support\n",
      "\n",
      "           0       0.67      1.00      0.80      1633\n",
      "           1       1.00      0.05      0.09       859\n",
      "\n",
      "    accuracy                           0.67      2492\n",
      "   macro avg       0.83      0.52      0.44      2492\n",
      "weighted avg       0.78      0.67      0.55      2492\n",
      "\n"
     ]
    },
    {
     "data": {
      "image/png": "[encoded data removed]",
      "text/plain": [
       "<Figure size 640x480 with 2 Axes>"
      ]
     },
     "metadata": {},
     "output_type": "display_data"
    }
   ],
   "source": [
    "# cf_matrix = confusion_matrix(ytest_2021all, ypredict_2021)\n",
    "# print(cf_matrix)\n",
    "\n",
    "# sns.set(font_scale=1)\n",
    "# sns.heatmap(cf_matrix, annot=True, fmt='.4g',\n",
    "#            vmin=0, vmax=1633, center= 0,\n",
    "#            cmap= 'coolwarm', linewidths=2, linecolor='black', \n",
    "#            #cbar_kws={'ticks':[0,1,2,3]},\n",
    "#            xticklabels=['low','high'],\n",
    "#            yticklabels=['low','high']).set(title='Predicted vs. True GDM incidence\\nTrain = PScope 2020, Test = PScope 2021');\n",
    "\n",
    "# plt.ylabel('True')\n",
    "# plt.xlabel('Predicted')\n",
    "# plt.tight_layout()\n",
    "\n",
    "# #plt.savefig('/Users/kathleenkanaley/Desktop/figs_phytopath_rev/corr_matrices_RF/PScope/SB/Inc_2022.jpg')\n",
    "# report = classification_report(ytest_2021all, ypredict_2021)\n",
    "\n",
    "# print(report)"
   ]
  },
  {
   "cell_type": "code",
   "execution_count": 148,
   "id": "2f9c1138",
   "metadata": {},
   "outputs": [
    {
     "name": "stdout",
     "output_type": "stream",
     "text": [
      "[[5886  431]\n",
      " [ 105   88]]\n",
      "              precision    recall  f1-score   support\n",
      "\n",
      "           0       0.98      0.93      0.96      6317\n",
      "           1       0.17      0.46      0.25       193\n",
      "\n",
      "    accuracy                           0.92      6510\n",
      "   macro avg       0.58      0.69      0.60      6510\n",
      "weighted avg       0.96      0.92      0.94      6510\n",
      "\n"
     ]
    },
    {
     "data": {
      "image/png": "[encoded data removed]",
      "text/plain": [
       "<Figure size 640x480 with 2 Axes>"
      ]
     },
     "metadata": {},
     "output_type": "display_data"
    }
   ],
   "source": [
    "# train classifier on 2 years of data (2020 + 2021)\n",
    "\n",
    "rfc_2yr = RandomForestClassifier().set_params(**hp_all)\n",
    "\n",
    "rfc_2yr.fit(Xtrain_2yr, ytrain_2yr)\n",
    "\n",
    "# predict on the 2022 images (test set)\n",
    "\n",
    "ypredict_2022all = rfc_2yr.predict(Xtest_2022all)\n",
    "\n",
    "cf_matrix = confusion_matrix(ytest_2022all, ypredict_2022all)\n",
    "print(cf_matrix)\n",
    "\n",
    "sns.set(font_scale=1)\n",
    "sns.heatmap(cf_matrix, annot=True, fmt='.4g',\n",
    "           vmin=0, vmax=1633, center= 0,\n",
    "           cmap= 'coolwarm', linewidths=2, linecolor='black', \n",
    "           #cbar_kws={'ticks':[0,1,2,3]},\n",
    "           xticklabels=['low','high'],\n",
    "           yticklabels=['low','high']).set(title='Predicted vs. True GDM incidence\\nTrain = PScope 2020-1, Test = PScope 2022');\n",
    "\n",
    "plt.ylabel('True')\n",
    "plt.xlabel('Predicted')\n",
    "plt.tight_layout()\n",
    "\n",
    "#plt.savefig('/Users/kathleenkanaley/Desktop/figs_phytopath_rev/corr_matrices_RF/PScope/SB/Inc_2022.jpg')\n",
    "report = classification_report(ytest_2022all, ypredict_2022all)\n",
    "\n",
    "print(report)"
   ]
  },
  {
   "cell_type": "code",
   "execution_count": 149,
   "id": "58df1667",
   "metadata": {},
   "outputs": [
    {
     "data": {
      "text/plain": [
       "5"
      ]
     },
     "execution_count": 149,
     "metadata": {},
     "output_type": "execute_result"
    }
   ],
   "source": [
    "# apply 2yr model to individual images from 2022\n",
    "\n",
    "\n",
    "dates_2022 = data_2022.Date.unique()\n",
    "\n",
    "imgdfs_2022 = []\n",
    "for date in dates_2022:\n",
    "    single_day = data_2022[data_2022['Date']==date]\n",
    "    imgdfs_2022.append(single_day)\n",
    "    \n",
    "len(imgdfs_2022)"
   ]
  },
  {
   "cell_type": "code",
   "execution_count": 150,
   "id": "f3ea8961",
   "metadata": {},
   "outputs": [
    {
     "name": "stderr",
     "output_type": "stream",
     "text": [
      "/var/folders/hg/02pmwyy14wvgdv7n1gzwlx1w0000gn/T/ipykernel_1125/2390034531.py:17: SettingWithCopyWarning: \n",
      "A value is trying to be set on a copy of a slice from a DataFrame.\n",
      "Try using .loc[row_indexer,col_indexer] = value instead\n",
      "\n",
      "See the caveats in the documentation: https://pandas.pydata.org/pandas-docs/stable/user_guide/indexing.html#returning-a-view-versus-a-copy\n",
      "  df['GDMInc_pred'] = y_pred.tolist()\n",
      "/var/folders/hg/02pmwyy14wvgdv7n1gzwlx1w0000gn/T/ipykernel_1125/2390034531.py:17: SettingWithCopyWarning: \n",
      "A value is trying to be set on a copy of a slice from a DataFrame.\n",
      "Try using .loc[row_indexer,col_indexer] = value instead\n",
      "\n",
      "See the caveats in the documentation: https://pandas.pydata.org/pandas-docs/stable/user_guide/indexing.html#returning-a-view-versus-a-copy\n",
      "  df['GDMInc_pred'] = y_pred.tolist()\n",
      "/var/folders/hg/02pmwyy14wvgdv7n1gzwlx1w0000gn/T/ipykernel_1125/2390034531.py:17: SettingWithCopyWarning: \n",
      "A value is trying to be set on a copy of a slice from a DataFrame.\n",
      "Try using .loc[row_indexer,col_indexer] = value instead\n",
      "\n",
      "See the caveats in the documentation: https://pandas.pydata.org/pandas-docs/stable/user_guide/indexing.html#returning-a-view-versus-a-copy\n",
      "  df['GDMInc_pred'] = y_pred.tolist()\n",
      "/var/folders/hg/02pmwyy14wvgdv7n1gzwlx1w0000gn/T/ipykernel_1125/2390034531.py:17: SettingWithCopyWarning: \n",
      "A value is trying to be set on a copy of a slice from a DataFrame.\n",
      "Try using .loc[row_indexer,col_indexer] = value instead\n",
      "\n",
      "See the caveats in the documentation: https://pandas.pydata.org/pandas-docs/stable/user_guide/indexing.html#returning-a-view-versus-a-copy\n",
      "  df['GDMInc_pred'] = y_pred.tolist()\n",
      "/var/folders/hg/02pmwyy14wvgdv7n1gzwlx1w0000gn/T/ipykernel_1125/2390034531.py:17: SettingWithCopyWarning: \n",
      "A value is trying to be set on a copy of a slice from a DataFrame.\n",
      "Try using .loc[row_indexer,col_indexer] = value instead\n",
      "\n",
      "See the caveats in the documentation: https://pandas.pydata.org/pandas-docs/stable/user_guide/indexing.html#returning-a-view-versus-a-copy\n",
      "  df['GDMInc_pred'] = y_pred.tolist()\n"
     ]
    }
   ],
   "source": [
    "# Run model on indiv. images and save results as column in image dataframes\n",
    "\n",
    "rfc_2yr = RandomForestClassifier().set_params(**hp_all)\n",
    "\n",
    "rfc_2yr.fit(Xtrain_2yr, ytrain_2yr)\n",
    "\n",
    "for df in imgdfs_2022:\n",
    "    \n",
    "    X = df[sbs]\n",
    "    y = df[inc]\n",
    "\n",
    "    mm = MinMaxScaler()\n",
    "    X_scaled = mm.fit_transform(X)\n",
    "\n",
    "    y_pred = rfc_2yr.predict(X_scaled)\n",
    "\n",
    "    df['GDMInc_pred'] = y_pred.tolist()"
   ]
  },
  {
   "cell_type": "code",
   "execution_count": 151,
   "id": "7b1ea79a",
   "metadata": {},
   "outputs": [
    {
     "data": {
      "text/html": [
       "<div>\n",
       "<style scoped>\n",
       "    .dataframe tbody tr th:only-of-type {\n",
       "        vertical-align: middle;\n",
       "    }\n",
       "\n",
       "    .dataframe tbody tr th {\n",
       "        vertical-align: top;\n",
       "    }\n",
       "\n",
       "    .dataframe thead th {\n",
       "        text-align: right;\n",
       "    }\n",
       "</style>\n",
       "<table border=\"1\" class=\"dataframe\">\n",
       "  <thead>\n",
       "    <tr style=\"text-align: right;\">\n",
       "      <th></th>\n",
       "      <th>c_blue</th>\n",
       "      <th>blue</th>\n",
       "      <th>greenI</th>\n",
       "      <th>green</th>\n",
       "      <th>yellow</th>\n",
       "      <th>red</th>\n",
       "      <th>rede</th>\n",
       "      <th>nir</th>\n",
       "      <th>total_dis_sev</th>\n",
       "      <th>dm_sev</th>\n",
       "      <th>...</th>\n",
       "      <th>severity_class</th>\n",
       "      <th>pri</th>\n",
       "      <th>ndre</th>\n",
       "      <th>tcari</th>\n",
       "      <th>ndvi</th>\n",
       "      <th>evi</th>\n",
       "      <th>savi</th>\n",
       "      <th>arvi</th>\n",
       "      <th>grvi</th>\n",
       "      <th>GDMInc_pred</th>\n",
       "    </tr>\n",
       "  </thead>\n",
       "  <tbody>\n",
       "    <tr>\n",
       "      <th>0</th>\n",
       "      <td>0.0000</td>\n",
       "      <td>0.0000</td>\n",
       "      <td>0.0000</td>\n",
       "      <td>0.0000</td>\n",
       "      <td>0.0000</td>\n",
       "      <td>0.0000</td>\n",
       "      <td>0.0000</td>\n",
       "      <td>0.0000</td>\n",
       "      <td>NaN</td>\n",
       "      <td>NaN</td>\n",
       "      <td>...</td>\n",
       "      <td>0</td>\n",
       "      <td>NaN</td>\n",
       "      <td>NaN</td>\n",
       "      <td>NaN</td>\n",
       "      <td>NaN</td>\n",
       "      <td>0.000000</td>\n",
       "      <td>0.000000</td>\n",
       "      <td>NaN</td>\n",
       "      <td>NaN</td>\n",
       "      <td>0</td>\n",
       "    </tr>\n",
       "    <tr>\n",
       "      <th>1</th>\n",
       "      <td>0.0386</td>\n",
       "      <td>0.0402</td>\n",
       "      <td>0.0615</td>\n",
       "      <td>0.0739</td>\n",
       "      <td>0.0621</td>\n",
       "      <td>0.0544</td>\n",
       "      <td>0.1336</td>\n",
       "      <td>0.4587</td>\n",
       "      <td>NaN</td>\n",
       "      <td>NaN</td>\n",
       "      <td>...</td>\n",
       "      <td>0</td>\n",
       "      <td>0.091580</td>\n",
       "      <td>0.548877</td>\n",
       "      <td>0.495548</td>\n",
       "      <td>0.787956</td>\n",
       "      <td>0.681282</td>\n",
       "      <td>0.598608</td>\n",
       "      <td>0.739807</td>\n",
       "      <td>0.151988</td>\n",
       "      <td>1</td>\n",
       "    </tr>\n",
       "    <tr>\n",
       "      <th>2</th>\n",
       "      <td>0.0000</td>\n",
       "      <td>0.0000</td>\n",
       "      <td>0.0000</td>\n",
       "      <td>0.0000</td>\n",
       "      <td>0.0000</td>\n",
       "      <td>0.0000</td>\n",
       "      <td>0.0000</td>\n",
       "      <td>0.0000</td>\n",
       "      <td>NaN</td>\n",
       "      <td>NaN</td>\n",
       "      <td>...</td>\n",
       "      <td>0</td>\n",
       "      <td>NaN</td>\n",
       "      <td>NaN</td>\n",
       "      <td>NaN</td>\n",
       "      <td>NaN</td>\n",
       "      <td>0.000000</td>\n",
       "      <td>0.000000</td>\n",
       "      <td>NaN</td>\n",
       "      <td>NaN</td>\n",
       "      <td>0</td>\n",
       "    </tr>\n",
       "    <tr>\n",
       "      <th>3</th>\n",
       "      <td>0.0000</td>\n",
       "      <td>0.0000</td>\n",
       "      <td>0.0000</td>\n",
       "      <td>0.0000</td>\n",
       "      <td>0.0000</td>\n",
       "      <td>0.0000</td>\n",
       "      <td>0.0000</td>\n",
       "      <td>0.0000</td>\n",
       "      <td>NaN</td>\n",
       "      <td>NaN</td>\n",
       "      <td>...</td>\n",
       "      <td>0</td>\n",
       "      <td>NaN</td>\n",
       "      <td>NaN</td>\n",
       "      <td>NaN</td>\n",
       "      <td>NaN</td>\n",
       "      <td>0.000000</td>\n",
       "      <td>0.000000</td>\n",
       "      <td>NaN</td>\n",
       "      <td>NaN</td>\n",
       "      <td>0</td>\n",
       "    </tr>\n",
       "    <tr>\n",
       "      <th>4</th>\n",
       "      <td>0.0000</td>\n",
       "      <td>0.0000</td>\n",
       "      <td>0.0000</td>\n",
       "      <td>0.0000</td>\n",
       "      <td>0.0000</td>\n",
       "      <td>0.0000</td>\n",
       "      <td>0.0000</td>\n",
       "      <td>0.0000</td>\n",
       "      <td>NaN</td>\n",
       "      <td>NaN</td>\n",
       "      <td>...</td>\n",
       "      <td>0</td>\n",
       "      <td>NaN</td>\n",
       "      <td>NaN</td>\n",
       "      <td>NaN</td>\n",
       "      <td>NaN</td>\n",
       "      <td>0.000000</td>\n",
       "      <td>0.000000</td>\n",
       "      <td>NaN</td>\n",
       "      <td>NaN</td>\n",
       "      <td>0</td>\n",
       "    </tr>\n",
       "    <tr>\n",
       "      <th>...</th>\n",
       "      <td>...</td>\n",
       "      <td>...</td>\n",
       "      <td>...</td>\n",
       "      <td>...</td>\n",
       "      <td>...</td>\n",
       "      <td>...</td>\n",
       "      <td>...</td>\n",
       "      <td>...</td>\n",
       "      <td>...</td>\n",
       "      <td>...</td>\n",
       "      <td>...</td>\n",
       "      <td>...</td>\n",
       "      <td>...</td>\n",
       "      <td>...</td>\n",
       "      <td>...</td>\n",
       "      <td>...</td>\n",
       "      <td>...</td>\n",
       "      <td>...</td>\n",
       "      <td>...</td>\n",
       "      <td>...</td>\n",
       "      <td>...</td>\n",
       "    </tr>\n",
       "    <tr>\n",
       "      <th>1297</th>\n",
       "      <td>0.0000</td>\n",
       "      <td>0.0000</td>\n",
       "      <td>0.0000</td>\n",
       "      <td>0.0000</td>\n",
       "      <td>0.0000</td>\n",
       "      <td>0.0000</td>\n",
       "      <td>0.0000</td>\n",
       "      <td>0.0000</td>\n",
       "      <td>NaN</td>\n",
       "      <td>NaN</td>\n",
       "      <td>...</td>\n",
       "      <td>0</td>\n",
       "      <td>NaN</td>\n",
       "      <td>NaN</td>\n",
       "      <td>NaN</td>\n",
       "      <td>NaN</td>\n",
       "      <td>0.000000</td>\n",
       "      <td>0.000000</td>\n",
       "      <td>NaN</td>\n",
       "      <td>NaN</td>\n",
       "      <td>0</td>\n",
       "    </tr>\n",
       "    <tr>\n",
       "      <th>1298</th>\n",
       "      <td>0.0000</td>\n",
       "      <td>0.0000</td>\n",
       "      <td>0.0000</td>\n",
       "      <td>0.0000</td>\n",
       "      <td>0.0000</td>\n",
       "      <td>0.0000</td>\n",
       "      <td>0.0000</td>\n",
       "      <td>0.0000</td>\n",
       "      <td>NaN</td>\n",
       "      <td>NaN</td>\n",
       "      <td>...</td>\n",
       "      <td>0</td>\n",
       "      <td>NaN</td>\n",
       "      <td>NaN</td>\n",
       "      <td>NaN</td>\n",
       "      <td>NaN</td>\n",
       "      <td>0.000000</td>\n",
       "      <td>0.000000</td>\n",
       "      <td>NaN</td>\n",
       "      <td>NaN</td>\n",
       "      <td>0</td>\n",
       "    </tr>\n",
       "    <tr>\n",
       "      <th>1299</th>\n",
       "      <td>0.0529</td>\n",
       "      <td>0.0619</td>\n",
       "      <td>0.0805</td>\n",
       "      <td>0.0970</td>\n",
       "      <td>0.0922</td>\n",
       "      <td>0.0965</td>\n",
       "      <td>0.1594</td>\n",
       "      <td>0.3990</td>\n",
       "      <td>NaN</td>\n",
       "      <td>NaN</td>\n",
       "      <td>...</td>\n",
       "      <td>0</td>\n",
       "      <td>0.092958</td>\n",
       "      <td>0.429083</td>\n",
       "      <td>0.249853</td>\n",
       "      <td>0.610494</td>\n",
       "      <td>0.499587</td>\n",
       "      <td>0.455801</td>\n",
       "      <td>0.505376</td>\n",
       "      <td>0.002584</td>\n",
       "      <td>0</td>\n",
       "    </tr>\n",
       "    <tr>\n",
       "      <th>1300</th>\n",
       "      <td>0.0000</td>\n",
       "      <td>0.0000</td>\n",
       "      <td>0.0000</td>\n",
       "      <td>0.0000</td>\n",
       "      <td>0.0000</td>\n",
       "      <td>0.0000</td>\n",
       "      <td>0.0000</td>\n",
       "      <td>0.0000</td>\n",
       "      <td>NaN</td>\n",
       "      <td>NaN</td>\n",
       "      <td>...</td>\n",
       "      <td>0</td>\n",
       "      <td>NaN</td>\n",
       "      <td>NaN</td>\n",
       "      <td>NaN</td>\n",
       "      <td>NaN</td>\n",
       "      <td>0.000000</td>\n",
       "      <td>0.000000</td>\n",
       "      <td>NaN</td>\n",
       "      <td>NaN</td>\n",
       "      <td>0</td>\n",
       "    </tr>\n",
       "    <tr>\n",
       "      <th>1301</th>\n",
       "      <td>0.0000</td>\n",
       "      <td>0.0000</td>\n",
       "      <td>0.0000</td>\n",
       "      <td>0.0000</td>\n",
       "      <td>0.0000</td>\n",
       "      <td>0.0000</td>\n",
       "      <td>0.0000</td>\n",
       "      <td>0.0000</td>\n",
       "      <td>NaN</td>\n",
       "      <td>NaN</td>\n",
       "      <td>...</td>\n",
       "      <td>0</td>\n",
       "      <td>NaN</td>\n",
       "      <td>NaN</td>\n",
       "      <td>NaN</td>\n",
       "      <td>NaN</td>\n",
       "      <td>0.000000</td>\n",
       "      <td>0.000000</td>\n",
       "      <td>NaN</td>\n",
       "      <td>NaN</td>\n",
       "      <td>0</td>\n",
       "    </tr>\n",
       "  </tbody>\n",
       "</table>\n",
       "<p>1302 rows × 23 columns</p>\n",
       "</div>"
      ],
      "text/plain": [
       "      c_blue    blue  greenI   green  yellow     red    rede     nir  \\\n",
       "0     0.0000  0.0000  0.0000  0.0000  0.0000  0.0000  0.0000  0.0000   \n",
       "1     0.0386  0.0402  0.0615  0.0739  0.0621  0.0544  0.1336  0.4587   \n",
       "2     0.0000  0.0000  0.0000  0.0000  0.0000  0.0000  0.0000  0.0000   \n",
       "3     0.0000  0.0000  0.0000  0.0000  0.0000  0.0000  0.0000  0.0000   \n",
       "4     0.0000  0.0000  0.0000  0.0000  0.0000  0.0000  0.0000  0.0000   \n",
       "...      ...     ...     ...     ...     ...     ...     ...     ...   \n",
       "1297  0.0000  0.0000  0.0000  0.0000  0.0000  0.0000  0.0000  0.0000   \n",
       "1298  0.0000  0.0000  0.0000  0.0000  0.0000  0.0000  0.0000  0.0000   \n",
       "1299  0.0529  0.0619  0.0805  0.0970  0.0922  0.0965  0.1594  0.3990   \n",
       "1300  0.0000  0.0000  0.0000  0.0000  0.0000  0.0000  0.0000  0.0000   \n",
       "1301  0.0000  0.0000  0.0000  0.0000  0.0000  0.0000  0.0000  0.0000   \n",
       "\n",
       "      total_dis_sev  dm_sev  ...  severity_class       pri      ndre  \\\n",
       "0               NaN     NaN  ...               0       NaN       NaN   \n",
       "1               NaN     NaN  ...               0  0.091580  0.548877   \n",
       "2               NaN     NaN  ...               0       NaN       NaN   \n",
       "3               NaN     NaN  ...               0       NaN       NaN   \n",
       "4               NaN     NaN  ...               0       NaN       NaN   \n",
       "...             ...     ...  ...             ...       ...       ...   \n",
       "1297            NaN     NaN  ...               0       NaN       NaN   \n",
       "1298            NaN     NaN  ...               0       NaN       NaN   \n",
       "1299            NaN     NaN  ...               0  0.092958  0.429083   \n",
       "1300            NaN     NaN  ...               0       NaN       NaN   \n",
       "1301            NaN     NaN  ...               0       NaN       NaN   \n",
       "\n",
       "         tcari      ndvi       evi      savi      arvi      grvi  GDMInc_pred  \n",
       "0          NaN       NaN  0.000000  0.000000       NaN       NaN            0  \n",
       "1     0.495548  0.787956  0.681282  0.598608  0.739807  0.151988            1  \n",
       "2          NaN       NaN  0.000000  0.000000       NaN       NaN            0  \n",
       "3          NaN       NaN  0.000000  0.000000       NaN       NaN            0  \n",
       "4          NaN       NaN  0.000000  0.000000       NaN       NaN            0  \n",
       "...        ...       ...       ...       ...       ...       ...          ...  \n",
       "1297       NaN       NaN  0.000000  0.000000       NaN       NaN            0  \n",
       "1298       NaN       NaN  0.000000  0.000000       NaN       NaN            0  \n",
       "1299  0.249853  0.610494  0.499587  0.455801  0.505376  0.002584            0  \n",
       "1300       NaN       NaN  0.000000  0.000000       NaN       NaN            0  \n",
       "1301       NaN       NaN  0.000000  0.000000       NaN       NaN            0  \n",
       "\n",
       "[1302 rows x 23 columns]"
      ]
     },
     "execution_count": 151,
     "metadata": {},
     "output_type": "execute_result"
    }
   ],
   "source": [
    "imgdfs_2022[0]"
   ]
  },
  {
   "cell_type": "code",
   "execution_count": 152,
   "id": "ad5bc30a",
   "metadata": {},
   "outputs": [
    {
     "data": {
      "text/plain": [
       "['/Users/kathleenkanaley/Desktop/grapes_from_space/data/images/2022/PScope/dis_band_2022/20220726_155410_80_2407_3B_AnalyticMS_SR_8b_clipped_clipped.tif_disease.tif',\n",
       " '/Users/kathleenkanaley/Desktop/grapes_from_space/data/images/2022/PScope/dis_band_2022/20220801_150200_56_245c_3B_AnalyticMS_SR_8b_harmonized_clip_clipped.tif_disease.tif',\n",
       " '/Users/kathleenkanaley/Desktop/grapes_from_space/data/images/2022/PScope/dis_band_2022/20220828_151645_10_2262_3B_AnalyticMS_SR_8b_harmonized_clip_clipped.tif_disease.tif',\n",
       " '/Users/kathleenkanaley/Desktop/grapes_from_space/data/images/2022/PScope/dis_band_2022/20220630_150422_85_241d_3B_AnalyticMS_SR_8b_clipped_clipped.tif_disease.tif',\n",
       " '/Users/kathleenkanaley/Desktop/grapes_from_space/data/images/2022/PScope/dis_band_2022/20220704_155057_15_240a_3B_AnalyticMS_SR_8b_clipped_clipped.tif_disease.tif',\n",
       " '/Users/kathleenkanaley/Desktop/grapes_from_space/data/images/2022/PScope/dis_band_2022/20220624_150204_01_241b_3B_AnalyticMS_SR_8b_clipped_clipped.tif_disease.tif']"
      ]
     },
     "execution_count": 152,
     "metadata": {},
     "output_type": "execute_result"
    }
   ],
   "source": [
    "# images that will now have prediction band\n",
    "dis_ras_22 = glob.glob(data_dir +'images/2022/PScope/dis_band_*/20*.tif')\n",
    "dis_ras_22"
   ]
  },
  {
   "cell_type": "code",
   "execution_count": 153,
   "id": "a33175d0",
   "metadata": {},
   "outputs": [],
   "source": [
    "disras_ordered = [ '/Users/kathleenkanaley/Desktop/grapes_from_space/data/images/2022/PScope/dis_band_2022/20220624_150204_01_241b_3B_AnalyticMS_SR_8b_clipped_clipped.tif_disease.tif',\n",
    "                 '/Users/kathleenkanaley/Desktop/grapes_from_space/data/images/2022/PScope/dis_band_2022/20220630_150422_85_241d_3B_AnalyticMS_SR_8b_clipped_clipped.tif_disease.tif',\n",
    "                  '/Users/kathleenkanaley/Desktop/grapes_from_space/data/images/2022/PScope/dis_band_2022/20220704_155057_15_240a_3B_AnalyticMS_SR_8b_clipped_clipped.tif_disease.tif',\n",
    "                 '/Users/kathleenkanaley/Desktop/grapes_from_space/data/images/2022/PScope/dis_band_2022/20220726_155410_80_2407_3B_AnalyticMS_SR_8b_clipped_clipped.tif_disease.tif',\n",
    "                 '/Users/kathleenkanaley/Desktop/grapes_from_space/data/images/2022/PScope/dis_band_2022/20220801_150200_56_245c_3B_AnalyticMS_SR_8b_harmonized_clip_clipped.tif_disease.tif']"
   ]
  },
  {
   "cell_type": "code",
   "execution_count": 92,
   "id": "9b413a0a",
   "metadata": {},
   "outputs": [],
   "source": [
    "# def img_to_df_2022(img_path, cols):\n",
    "#     with rio.open(img_path) as src:\n",
    "#         as_array = src.read()\n",
    "#         band_arrs = []\n",
    "        \n",
    "#         for i in np.arange(src.count):\n",
    "#             band_arr = as_array[i].flatten()\n",
    "#             band_arr = band_arr/10000\n",
    "            \n",
    "#             band_arrs.append(band_arr)\n",
    "        \n",
    "#         df = pd.DataFrame(band_arrs,cols).T\n",
    "#         df['Date'] = img_path.split('/')[-1].split('_')[0]\n",
    "        \n",
    "#         # Optional: drops entries with no severity rating. Comment out if unnecessary.\n",
    "#         df = df.dropna(subset=['total_dis_sev']) \n",
    "        \n",
    "#         return df"
   ]
  },
  {
   "cell_type": "code",
   "execution_count": 93,
   "id": "51d7d795",
   "metadata": {},
   "outputs": [
    {
     "data": {
      "text/plain": [
       "5"
      ]
     },
     "execution_count": 93,
     "metadata": {},
     "output_type": "execute_result"
    }
   ],
   "source": [
    "# img_dfs = []\n",
    "# for raster in disras_ordered:\n",
    "#     df = img_to_df_2022(raster, cols)\n",
    "#     df['total_dis_sev'] = df['total_dis_sev']*10000\n",
    "#     df['dm_sev'] = df['dm_sev']*10000\n",
    "#     df['dm_inc'] = df['dm_inc']*10000\n",
    "#     df['inc_class'] = 0\n",
    "#     df.loc[df['dm_inc']>25,'inc_class']= 1\n",
    "#     df['severity_class'] = 0\n",
    "#     df.loc[df['dm_sev']>10,'severity_class']= 1\n",
    "#     img_dfs.append(df)\n",
    "\n",
    "\n",
    "# len(img_dfs)"
   ]
  },
  {
   "cell_type": "code",
   "execution_count": 154,
   "id": "3cb52d04",
   "metadata": {},
   "outputs": [
    {
     "name": "stdout",
     "output_type": "stream",
     "text": [
      "['20220726']\n",
      "['20220801']\n",
      "['20220630']\n",
      "['20220704']\n",
      "['20220624']\n"
     ]
    }
   ],
   "source": [
    "# Prediction dfs\n",
    "for df in imgdfs_2022:\n",
    "    print(df.Date.unique())\n"
   ]
  },
  {
   "cell_type": "code",
   "execution_count": 155,
   "id": "757307b1",
   "metadata": {},
   "outputs": [
    {
     "data": {
      "text/plain": [
       "array(['20220726'], dtype=object)"
      ]
     },
     "execution_count": 155,
     "metadata": {},
     "output_type": "execute_result"
    }
   ],
   "source": [
    "imgdfs_2022[0].Date.unique()"
   ]
  },
  {
   "cell_type": "code",
   "execution_count": 156,
   "id": "da490b3a",
   "metadata": {},
   "outputs": [
    {
     "data": {
      "text/plain": [
       "array(['20220801'], dtype=object)"
      ]
     },
     "execution_count": 156,
     "metadata": {},
     "output_type": "execute_result"
    }
   ],
   "source": [
    "imgdfs_2022[1].Date.unique()"
   ]
  },
  {
   "cell_type": "code",
   "execution_count": 157,
   "id": "92b41b10",
   "metadata": {},
   "outputs": [
    {
     "name": "stdout",
     "output_type": "stream",
     "text": [
      "['20220624']\n",
      "['20220630']\n",
      "['20220704']\n",
      "['20220726']\n",
      "['20220801']\n"
     ]
    }
   ],
   "source": [
    "imgdfs_2022_sorted = [imgdfs_2022[4],imgdfs_2022[2],imgdfs_2022[3],imgdfs_2022[0],imgdfs_2022[1]]\n",
    "for df in imgdfs_2022_sorted:\n",
    "    print(df.Date.unique())"
   ]
  },
  {
   "cell_type": "code",
   "execution_count": 158,
   "id": "9b7214fa",
   "metadata": {},
   "outputs": [],
   "source": [
    "for i in np.arange(len(disras_ordered)):\n",
    "                   with rio.open(disras_ordered[i]) as src:\n",
    "                       raster_arr = np.array(src.read())\n",
    "                       stacked_arr = np.vstack([raster_arr,\n",
    "                                            imgdfs_2022_sorted[i]['GDMInc_pred'].values.reshape(1,raster_arr.shape[1],raster_arr.shape[2])])    \n",
    "                   # Save stacked array as raster\n",
    "                   with rio.open(disras_ordered[i]) as src:\n",
    "                       kwargs = src.meta\n",
    "                       band_ct = stacked_arr.shape[0]\n",
    "                       kwargs.update(dtype=rio.float32, count=band_ct)\n",
    "                   \n",
    "                       with rio.open(str(os.path.split(disras_ordered[i])[0])+'/preds_inc_REV'+str(os.path.basename(disras_ordered[i])), 'w', **kwargs) as dst:\n",
    "                            for b in range(stacked_arr.shape[0]):\n",
    "                                dst.write_band(b+1, stacked_arr[b].astype(rio.float32))"
   ]
  },
  {
   "cell_type": "code",
   "execution_count": 159,
   "id": "d1b334a6",
   "metadata": {},
   "outputs": [
    {
     "name": "stdout",
     "output_type": "stream",
     "text": [
      "classification metrics for ['20220624']:\n",
      "\n",
      "              precision    recall  f1-score   support\n",
      "\n",
      "           0       1.00      0.46      0.63      1299\n",
      "           1       0.00      0.33      0.00         3\n",
      "\n",
      "    accuracy                           0.46      1302\n",
      "   macro avg       0.50      0.40      0.32      1302\n",
      "weighted avg       0.99      0.46      0.63      1302\n",
      "\n",
      "classification metrics for ['20220630']:\n",
      "\n",
      "              precision    recall  f1-score   support\n",
      "\n",
      "           0       1.00      0.57      0.72      1297\n",
      "           1       0.01      1.00      0.02         5\n",
      "\n",
      "    accuracy                           0.57      1302\n",
      "   macro avg       0.50      0.78      0.37      1302\n",
      "weighted avg       1.00      0.57      0.72      1302\n",
      "\n",
      "classification metrics for ['20220704']:\n",
      "\n",
      "              precision    recall  f1-score   support\n",
      "\n",
      "           0       0.99      0.66      0.79      1286\n",
      "           1       0.02      0.69      0.05        16\n",
      "\n",
      "    accuracy                           0.66      1302\n",
      "   macro avg       0.51      0.67      0.42      1302\n",
      "weighted avg       0.98      0.66      0.78      1302\n",
      "\n",
      "classification metrics for ['20220726']:\n",
      "\n",
      "              precision    recall  f1-score   support\n",
      "\n",
      "           0       0.97      0.76      0.86      1259\n",
      "           1       0.05      0.40      0.09        43\n",
      "\n",
      "    accuracy                           0.75      1302\n",
      "   macro avg       0.51      0.58      0.48      1302\n",
      "weighted avg       0.94      0.75      0.83      1302\n",
      "\n",
      "classification metrics for ['20220801']:\n",
      "\n",
      "              precision    recall  f1-score   support\n",
      "\n",
      "           0       0.95      0.70      0.81      1176\n",
      "           1       0.19      0.65      0.29       126\n",
      "\n",
      "    accuracy                           0.70      1302\n",
      "   macro avg       0.57      0.68      0.55      1302\n",
      "weighted avg       0.88      0.70      0.76      1302\n",
      "\n"
     ]
    }
   ],
   "source": [
    "# get metrics\n",
    "\n",
    "for df in imgdfs_2022_sorted:\n",
    "    print(f\"classification metrics for {df.Date.unique()}:\\n\")\n",
    "    \n",
    "    report = classification_report(df['inc_class'], df['GDMInc_pred'])\n",
    "    print(report)\n",
    "    "
   ]
  },
  {
   "cell_type": "code",
   "execution_count": null,
   "id": "53eb1a34",
   "metadata": {},
   "outputs": [],
   "source": []
  }
 ],
 "metadata": {
  "kernelspec": {
   "display_name": "Python 3 (ipykernel)",
   "language": "python",
   "name": "python3"
  },
  "language_info": {
   "codemirror_mode": {
    "name": "ipython",
    "version": 3
   },
   "file_extension": ".py",
   "mimetype": "text/x-python",
   "name": "python",
   "nbconvert_exporter": "python",
   "pygments_lexer": "ipython3",
   "version": "3.10.6"
  }
 },
 "nbformat": 4,
 "nbformat_minor": 5
}
