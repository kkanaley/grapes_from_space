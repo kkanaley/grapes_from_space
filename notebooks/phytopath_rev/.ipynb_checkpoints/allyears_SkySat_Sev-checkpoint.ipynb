{
 "cells": [
  {
   "cell_type": "code",
   "execution_count": 1,
   "id": "19fedb74",
   "metadata": {},
   "outputs": [],
   "source": [
    "import glob\n",
    "import os\n",
    "import matplotlib.pyplot as plt\n",
    "import pandas as pd\n",
    "import numpy as np\n",
    "import seaborn as sns\n",
    "\n",
    "import sklearn\n",
    "from sklearn.preprocessing import MinMaxScaler\n",
    "from sklearn.model_selection import train_test_split\n",
    "from sklearn.ensemble import RandomForestClassifier\n",
    "from sklearn.model_selection import cross_val_score\n",
    "from sklearn.model_selection import RepeatedStratifiedKFold\n",
    "from sklearn.metrics import classification_report \n",
    "from sklearn.metrics import accuracy_score\n",
    "from sklearn.metrics import precision_recall_fscore_support\n",
    "from sklearn.metrics import roc_auc_score\n",
    "from sklearn.metrics import confusion_matrix\n",
    "\n",
    "import imblearn as imb\n",
    "from imblearn.under_sampling import RandomUnderSampler\n",
    "\n",
    "import scipy\n",
    "import itertools\n",
    "import random\n",
    "import ast"
   ]
  },
  {
   "cell_type": "markdown",
   "id": "a010eab2",
   "metadata": {},
   "source": [
    "## Data prep"
   ]
  },
  {
   "cell_type": "code",
   "execution_count": 2,
   "id": "25c29721",
   "metadata": {},
   "outputs": [
    {
     "data": {
      "text/plain": [
       "['/Users/kathleenkanaley/Desktop/grapes_from_space/data/img_scout_dfs/2022/smr_vis_skysat_scout_2022.csv',\n",
       " '/Users/kathleenkanaley/Desktop/grapes_from_space/data/img_scout_dfs/2021/smr_vis_skysat_scout_2021.csv',\n",
       " '/Users/kathleenkanaley/Desktop/grapes_from_space/data/img_scout_dfs/2020/smr_vis_skysat_scout_2020.csv']"
      ]
     },
     "execution_count": 2,
     "metadata": {},
     "output_type": "execute_result"
    }
   ],
   "source": [
    "data_dir = '/Users/kathleenkanaley/Desktop/grapes_from_space/data/img_scout_dfs'\n",
    "\n",
    "# all three years\n",
    "yearly_data = glob.glob(data_dir+'/*/smr_vis_skysat_scout_*.csv')\n",
    "yearly_data\n",
    "\n"
   ]
  },
  {
   "cell_type": "code",
   "execution_count": 3,
   "id": "fb51216a",
   "metadata": {},
   "outputs": [],
   "source": [
    "prepped_dfs = []\n",
    "for year in yearly_data:\n",
    "    df = pd.read_csv(year)\n",
    "    df = df.rename(columns={\"green_red\": \"grvi\"})\n",
    "    # Create binary numeric label\n",
    "    # 0 = low GDM\n",
    "    # 1 = high GDM\n",
    "\n",
    "    df['GDM_sev']=0\n",
    "    df.loc[df['DM_severity'] > 10, 'GDM_sev'] =1\n",
    "    \n",
    "    df['GDM_inc']=0\n",
    "    df.loc[df['DM_inc'] > 25, 'GDM_inc'] = 1\n",
    "    prepped_dfs.append(df)"
   ]
  },
  {
   "cell_type": "code",
   "execution_count": 4,
   "id": "d4957dc2",
   "metadata": {},
   "outputs": [],
   "source": [
    "# Check columns\n",
    "#prepped_dfs[0].columns\n",
    "# prepped_dfs[0].Date.unique()\n",
    "# prepped_dfs[1].Date.unique()\n",
    "# prepped_dfs[2].Date.unique()"
   ]
  },
  {
   "cell_type": "code",
   "execution_count": 5,
   "id": "ab8bfec3",
   "metadata": {},
   "outputs": [
    {
     "data": {
      "text/plain": [
       "'2020'"
      ]
     },
     "execution_count": 5,
     "metadata": {},
     "output_type": "execute_result"
    }
   ],
   "source": [
    "prepped_dfs[2].Date[1][:4]"
   ]
  },
  {
   "cell_type": "code",
   "execution_count": 6,
   "id": "20255400",
   "metadata": {},
   "outputs": [],
   "source": [
    "# set up variables\n",
    "data_2022 = prepped_dfs[0]\n",
    "data_2021 = prepped_dfs[1]\n",
    "data_2020 = prepped_dfs[2]\n",
    "data_all = pd.concat([data_2020,data_2021,data_2022])\n",
    "sev = 'GDM_sev'\n",
    "inc = 'GDM_inc'\n",
    "vis = ['ndvi', 'evi','msavi', 'arvi', 'grvi']"
   ]
  },
  {
   "cell_type": "markdown",
   "id": "91596630",
   "metadata": {},
   "source": [
    "## Find best set of VIs"
   ]
  },
  {
   "cell_type": "code",
   "execution_count": 7,
   "id": "c0a6cd50",
   "metadata": {},
   "outputs": [],
   "source": [
    "def get_combinations(lst): # creating a user-defined method\n",
    "    combination = [] # empty list \n",
    "    for r in range(1, len(lst) + 1):\n",
    "      # to generate combination\n",
    "      combination += itertools.combinations(lst, r)\n",
    "    return combination"
   ]
  },
  {
   "cell_type": "code",
   "execution_count": 8,
   "id": "99ddb0f3",
   "metadata": {},
   "outputs": [
    {
     "name": "stdout",
     "output_type": "stream",
     "text": [
      "[('ndvi',), ('evi',), ('msavi',), ('arvi',), ('grvi',), ('ndvi', 'evi'), ('ndvi', 'msavi'), ('ndvi', 'arvi'), ('ndvi', 'grvi'), ('evi', 'msavi'), ('evi', 'arvi'), ('evi', 'grvi'), ('msavi', 'arvi'), ('msavi', 'grvi'), ('arvi', 'grvi'), ('ndvi', 'evi', 'msavi'), ('ndvi', 'evi', 'arvi'), ('ndvi', 'evi', 'grvi'), ('ndvi', 'msavi', 'arvi'), ('ndvi', 'msavi', 'grvi'), ('ndvi', 'arvi', 'grvi'), ('evi', 'msavi', 'arvi'), ('evi', 'msavi', 'grvi'), ('evi', 'arvi', 'grvi'), ('msavi', 'arvi', 'grvi'), ('ndvi', 'evi', 'msavi', 'arvi'), ('ndvi', 'evi', 'msavi', 'grvi'), ('ndvi', 'evi', 'arvi', 'grvi'), ('ndvi', 'msavi', 'arvi', 'grvi'), ('evi', 'msavi', 'arvi', 'grvi'), ('ndvi', 'evi', 'msavi', 'arvi', 'grvi')]\n"
     ]
    }
   ],
   "source": [
    "all_combinations = get_combinations(vis) # method call\n",
    "print(all_combinations)"
   ]
  },
  {
   "cell_type": "code",
   "execution_count": 9,
   "id": "2cfc6874",
   "metadata": {
    "scrolled": true
   },
   "outputs": [],
   "source": [
    "# Append all possible combinations of vis to the spectral bands\n",
    "# Result = list of potential explanatory variables\n",
    "\n",
    "exp_vars = []\n",
    "for combo in all_combinations:\n",
    "    combo = list(combo)\n",
    "    sb = ['blue', 'green', 'red', 'nir']\n",
    "    sb_plus_vi = sb + combo\n",
    "    exp_vars.append(sb_plus_vi)\n",
    "#exp_vars"
   ]
  },
  {
   "cell_type": "code",
   "execution_count": 10,
   "id": "52770b69",
   "metadata": {},
   "outputs": [],
   "source": [
    "# Prep the dataset: balance the data and scale\n",
    "## no need to split into train/test\n",
    "\n",
    "def data_prep(data, expl_vars, resp_var, state, seed):\n",
    "    X = data[expl_vars]\n",
    "    y = data[resp_var]\n",
    "\n",
    "    rus = RandomUnderSampler(random_state=state)\n",
    "    X_rus, y_rus = rus.fit_resample(X, y)\n",
    "\n",
    "    mm = MinMaxScaler()\n",
    "    X_scaled = mm.fit_transform(X_rus)\n",
    "    \n",
    "    return X_scaled, y_rus #features (scaled) and labels (unscaled)"
   ]
  },
  {
   "cell_type": "code",
   "execution_count": 11,
   "id": "c733ef90",
   "metadata": {},
   "outputs": [],
   "source": [
    "# Get a dictionary of models for each set of explanatory variables\n",
    "\n",
    "def get_models(explanatory_vars):\n",
    "    models = dict()\n",
    "    for i in exp_vars:\n",
    "        model = RandomForestClassifier()\n",
    "        models[str(i)] = model\n",
    "    return models"
   ]
  },
  {
   "cell_type": "code",
   "execution_count": 12,
   "id": "2550486f",
   "metadata": {},
   "outputs": [],
   "source": [
    "# evaluate a given model using cross-validation\n",
    "\n",
    "def evaluate_model(model, X, y,scoring):\n",
    "    cv = RepeatedStratifiedKFold(n_splits=10, n_repeats=3, random_state=1) # will get 30 (10x3) different results\n",
    "    scores = cross_val_score(model, X, y, scoring=scoring, cv=cv, n_jobs=-1, error_score='raise')\n",
    "    return scores"
   ]
  },
  {
   "cell_type": "code",
   "execution_count": 13,
   "id": "06441e19",
   "metadata": {},
   "outputs": [],
   "source": [
    "def F1_df(df, models, resp_var):\n",
    "    results = pd.DataFrame(columns=['name','F1', 'features'])\n",
    "    F1 = []\n",
    "    features = []\n",
    "    year = []\n",
    "    for name, model in models.items():\n",
    "        X,y = data_prep(df,ast.literal_eval(name),resp_var,2024,16)\n",
    "        scores = evaluate_model(model, X, y,'f1')\n",
    "        F1.append(np.mean(scores))\n",
    "        features.append(name)\n",
    "        year.append(df.Date[0][:4])\n",
    "\n",
    "    results['name'] = year\n",
    "    results['F1']=F1\n",
    "    results['features']=features\n",
    "    \n",
    "    return results"
   ]
  },
  {
   "cell_type": "code",
   "execution_count": 14,
   "id": "5b289f57",
   "metadata": {
    "scrolled": true
   },
   "outputs": [
    {
     "data": {
      "text/plain": [
       "3"
      ]
     },
     "execution_count": 14,
     "metadata": {},
     "output_type": "execute_result"
    }
   ],
   "source": [
    "# get dataframes of average F1 scores for models with different combinations of explanatory variables\n",
    "models = get_models(exp_vars)\n",
    "\n",
    "F1_dfs = []\n",
    "\n",
    "for df in [data_2020, data_2021, data_2022]:\n",
    "    F1_scores = F1_df(df, models, 'GDM_sev')\n",
    "    F1_dfs.append(F1_scores)\n",
    "\n",
    "len(F1_dfs)"
   ]
  },
  {
   "cell_type": "code",
   "execution_count": 15,
   "id": "ba6bf70d",
   "metadata": {
    "collapsed": true
   },
   "outputs": [
    {
     "data": {
      "text/plain": [
       "0     2020\n",
       "1     2020\n",
       "2     2020\n",
       "3     2020\n",
       "4     2020\n",
       "5     2020\n",
       "6     2020\n",
       "7     2020\n",
       "8     2020\n",
       "9     2020\n",
       "10    2020\n",
       "11    2020\n",
       "12    2020\n",
       "13    2020\n",
       "14    2020\n",
       "15    2020\n",
       "16    2020\n",
       "17    2020\n",
       "18    2020\n",
       "19    2020\n",
       "20    2020\n",
       "21    2020\n",
       "22    2020\n",
       "23    2020\n",
       "24    2020\n",
       "25    2020\n",
       "26    2020\n",
       "27    2020\n",
       "28    2020\n",
       "29    2020\n",
       "30    2020\n",
       "Name: name, dtype: object"
      ]
     },
     "execution_count": 15,
     "metadata": {},
     "output_type": "execute_result"
    }
   ],
   "source": [
    "F1_dfs[0].name"
   ]
  },
  {
   "cell_type": "code",
   "execution_count": 16,
   "id": "928c3b3f",
   "metadata": {},
   "outputs": [
    {
     "name": "stdout",
     "output_type": "stream",
     "text": [
      "Best feature combo for 2020: ['blue', 'green', 'red', 'nir', 'ndvi']\n",
      "Best feature combo for 2021: ['blue', 'green', 'red', 'nir', 'evi', 'grvi']\n",
      "Best feature combo for 2022: ['blue', 'green', 'red', 'nir', 'grvi']\n"
     ]
    }
   ],
   "source": [
    "# best vi combos for each year (maximizes F1)\n",
    "combo_20 = F1_dfs[0].iloc[F1_dfs[0]['F1'].idxmax()]['features']\n",
    "print(\"Best feature combo for 2020:\", combo_20)\n",
    "\n",
    "combo_21 = F1_dfs[1].iloc[F1_dfs[1]['F1'].idxmax()]['features']\n",
    "print(\"Best feature combo for 2021:\", combo_21)\n",
    "\n",
    "combo_22 = F1_dfs[2].iloc[F1_dfs[2]['F1'].idxmax()]['features']\n",
    "print(\"Best feature combo for 2022:\", combo_22)"
   ]
  },
  {
   "cell_type": "markdown",
   "id": "faa62db3",
   "metadata": {},
   "source": [
    "## Balance, split, normalize"
   ]
  },
  {
   "cell_type": "code",
   "execution_count": 17,
   "id": "a0095140",
   "metadata": {},
   "outputs": [],
   "source": [
    "def bal_split_norm(data, expl_vars, resp_var, state, seed):\n",
    "    X = data[expl_vars]\n",
    "    y = data[resp_var]\n",
    "\n",
    "    rus = RandomUnderSampler(random_state=state)\n",
    "    X_rus, y_rus = rus.fit_resample(X, y)\n",
    "\n",
    "    # Split dataset into training set and test set\n",
    "    X_train, X_test, y_train, y_test = train_test_split(X_rus, y_rus,\n",
    "                                                        test_size=0.3, \n",
    "                                                        random_state=seed,\n",
    "                                                        stratify = y_rus)  # 70% training and 30% test\n",
    "    mm = MinMaxScaler()\n",
    "    X_train_scaled = mm.fit_transform(X_train)\n",
    "    X_test_scaled = mm.transform(X_test)\n",
    "    \n",
    "    return X_train_scaled, y_train, X_test_scaled, y_test"
   ]
  },
  {
   "cell_type": "markdown",
   "id": "823eb541",
   "metadata": {},
   "source": [
    "## For 2020"
   ]
  },
  {
   "cell_type": "code",
   "execution_count": 18,
   "id": "0c9f91be",
   "metadata": {},
   "outputs": [],
   "source": [
    "# X_train, y_train, X_test, y_test = bal_split_norm(data_2020,\n",
    "#                                                   ast.literal_eval(combo_20), #convert string to list\n",
    "#                                                  sev,\n",
    "#                                                  2020,\n",
    "#                                                  14)"
   ]
  },
  {
   "cell_type": "markdown",
   "id": "075be4cc",
   "metadata": {},
   "source": [
    "## Hyperparameter tuning (training set only)"
   ]
  },
  {
   "cell_type": "code",
   "execution_count": 19,
   "id": "3f0db2b6",
   "metadata": {},
   "outputs": [],
   "source": [
    "# # Create dictionary of parameters to test with randomizedCV\n",
    "\n",
    "# from sklearn.model_selection import RandomizedSearchCV\n",
    "\n",
    "# n_estimators = [int(x) for x in np.linspace(start = 100, stop = 1000,\n",
    "# num = 10)]\n",
    "# max_features = ['log2', 'sqrt']\n",
    "# max_depth = [int(x) for x in np.linspace(start = 1, stop = 15, num =\n",
    "# 15)]\n",
    "# min_samples_split = [int(x) for x in np.linspace(start = 2, stop = 50,\n",
    "# num = 10)]\n",
    "# min_samples_leaf = [int(x) for x in np.linspace(start = 1, stop = 50,\n",
    "# num = 5)]\n",
    "# bootstrap = [True, False]\n",
    "# param_dist = {'n_estimators': n_estimators,\n",
    "# 'max_features': max_features,\n",
    "# 'max_depth': max_depth,\n",
    "# 'min_samples_split': min_samples_split,\n",
    "# 'min_samples_leaf': min_samples_leaf,\n",
    "# 'bootstrap': bootstrap}"
   ]
  },
  {
   "cell_type": "code",
   "execution_count": 20,
   "id": "34cad011",
   "metadata": {},
   "outputs": [],
   "source": [
    "# rfc = RandomForestClassifier()"
   ]
  },
  {
   "cell_type": "code",
   "execution_count": 21,
   "id": "226ec1d8",
   "metadata": {},
   "outputs": [
    {
     "name": "stdout",
     "output_type": "stream",
     "text": [
      "Fitting 3 folds for each of 100 candidates, totalling 300 fits\n"
     ]
    },
    {
     "data": {
      "text/plain": [
       "{'n_estimators': 200,\n",
       " 'min_samples_split': 12,\n",
       " 'min_samples_leaf': 1,\n",
       " 'max_features': 'log2',\n",
       " 'max_depth': 7,\n",
       " 'bootstrap': True}"
      ]
     },
     "execution_count": 21,
     "metadata": {},
     "output_type": "execute_result"
    }
   ],
   "source": [
    "# rs = RandomizedSearchCV(rfc,\n",
    "# param_dist,\n",
    "# n_iter = 100,\n",
    "# scoring = 'f1',\n",
    "# cv = 3,\n",
    "# verbose = 1,\n",
    "# n_jobs=-1,\n",
    "# random_state=0)\n",
    "\n",
    "# rs.fit(X_train, y_train)\n",
    "# rs.best_params_"
   ]
  },
  {
   "cell_type": "code",
   "execution_count": 22,
   "id": "3424dbad",
   "metadata": {},
   "outputs": [
    {
     "data": {
      "text/html": [
       "<div>\n",
       "<style scoped>\n",
       "    .dataframe tbody tr th:only-of-type {\n",
       "        vertical-align: middle;\n",
       "    }\n",
       "\n",
       "    .dataframe tbody tr th {\n",
       "        vertical-align: top;\n",
       "    }\n",
       "\n",
       "    .dataframe thead th {\n",
       "        text-align: right;\n",
       "    }\n",
       "</style>\n",
       "<table border=\"1\" class=\"dataframe\">\n",
       "  <thead>\n",
       "    <tr style=\"text-align: right;\">\n",
       "      <th></th>\n",
       "      <th>param_n_estimators</th>\n",
       "      <th>param_min_samples_split</th>\n",
       "      <th>param_min_samples_leaf</th>\n",
       "      <th>param_max_features</th>\n",
       "      <th>param_max_depth</th>\n",
       "      <th>param_bootstrap</th>\n",
       "      <th>mean_test_score</th>\n",
       "      <th>rank_test_score</th>\n",
       "    </tr>\n",
       "  </thead>\n",
       "  <tbody>\n",
       "    <tr>\n",
       "      <th>0</th>\n",
       "      <td>200</td>\n",
       "      <td>12</td>\n",
       "      <td>1</td>\n",
       "      <td>log2</td>\n",
       "      <td>7</td>\n",
       "      <td>True</td>\n",
       "      <td>0.702020</td>\n",
       "      <td>1</td>\n",
       "    </tr>\n",
       "    <tr>\n",
       "      <th>1</th>\n",
       "      <td>600</td>\n",
       "      <td>12</td>\n",
       "      <td>1</td>\n",
       "      <td>log2</td>\n",
       "      <td>4</td>\n",
       "      <td>False</td>\n",
       "      <td>0.697691</td>\n",
       "      <td>2</td>\n",
       "    </tr>\n",
       "    <tr>\n",
       "      <th>2</th>\n",
       "      <td>300</td>\n",
       "      <td>18</td>\n",
       "      <td>1</td>\n",
       "      <td>sqrt</td>\n",
       "      <td>12</td>\n",
       "      <td>False</td>\n",
       "      <td>0.659596</td>\n",
       "      <td>3</td>\n",
       "    </tr>\n",
       "    <tr>\n",
       "      <th>3</th>\n",
       "      <td>300</td>\n",
       "      <td>12</td>\n",
       "      <td>1</td>\n",
       "      <td>log2</td>\n",
       "      <td>13</td>\n",
       "      <td>False</td>\n",
       "      <td>0.658009</td>\n",
       "      <td>4</td>\n",
       "    </tr>\n",
       "    <tr>\n",
       "      <th>4</th>\n",
       "      <td>700</td>\n",
       "      <td>2</td>\n",
       "      <td>1</td>\n",
       "      <td>log2</td>\n",
       "      <td>6</td>\n",
       "      <td>False</td>\n",
       "      <td>0.643357</td>\n",
       "      <td>5</td>\n",
       "    </tr>\n",
       "    <tr>\n",
       "      <th>5</th>\n",
       "      <td>400</td>\n",
       "      <td>23</td>\n",
       "      <td>1</td>\n",
       "      <td>log2</td>\n",
       "      <td>5</td>\n",
       "      <td>False</td>\n",
       "      <td>0.596633</td>\n",
       "      <td>6</td>\n",
       "    </tr>\n",
       "    <tr>\n",
       "      <th>6</th>\n",
       "      <td>400</td>\n",
       "      <td>23</td>\n",
       "      <td>1</td>\n",
       "      <td>log2</td>\n",
       "      <td>3</td>\n",
       "      <td>False</td>\n",
       "      <td>0.596633</td>\n",
       "      <td>6</td>\n",
       "    </tr>\n",
       "    <tr>\n",
       "      <th>7</th>\n",
       "      <td>700</td>\n",
       "      <td>18</td>\n",
       "      <td>1</td>\n",
       "      <td>log2</td>\n",
       "      <td>7</td>\n",
       "      <td>True</td>\n",
       "      <td>0.590572</td>\n",
       "      <td>8</td>\n",
       "    </tr>\n",
       "    <tr>\n",
       "      <th>8</th>\n",
       "      <td>1000</td>\n",
       "      <td>50</td>\n",
       "      <td>1</td>\n",
       "      <td>sqrt</td>\n",
       "      <td>8</td>\n",
       "      <td>True</td>\n",
       "      <td>0.210526</td>\n",
       "      <td>9</td>\n",
       "    </tr>\n",
       "    <tr>\n",
       "      <th>9</th>\n",
       "      <td>800</td>\n",
       "      <td>39</td>\n",
       "      <td>37</td>\n",
       "      <td>sqrt</td>\n",
       "      <td>8</td>\n",
       "      <td>True</td>\n",
       "      <td>0.210526</td>\n",
       "      <td>9</td>\n",
       "    </tr>\n",
       "  </tbody>\n",
       "</table>\n",
       "</div>"
      ],
      "text/plain": [
       "  param_n_estimators param_min_samples_split param_min_samples_leaf  \\\n",
       "0                200                      12                      1   \n",
       "1                600                      12                      1   \n",
       "2                300                      18                      1   \n",
       "3                300                      12                      1   \n",
       "4                700                       2                      1   \n",
       "5                400                      23                      1   \n",
       "6                400                      23                      1   \n",
       "7                700                      18                      1   \n",
       "8               1000                      50                      1   \n",
       "9                800                      39                     37   \n",
       "\n",
       "  param_max_features param_max_depth param_bootstrap  mean_test_score  \\\n",
       "0               log2               7            True         0.702020   \n",
       "1               log2               4           False         0.697691   \n",
       "2               sqrt              12           False         0.659596   \n",
       "3               log2              13           False         0.658009   \n",
       "4               log2               6           False         0.643357   \n",
       "5               log2               5           False         0.596633   \n",
       "6               log2               3           False         0.596633   \n",
       "7               log2               7            True         0.590572   \n",
       "8               sqrt               8            True         0.210526   \n",
       "9               sqrt               8            True         0.210526   \n",
       "\n",
       "   rank_test_score  \n",
       "0                1  \n",
       "1                2  \n",
       "2                3  \n",
       "3                4  \n",
       "4                5  \n",
       "5                6  \n",
       "6                6  \n",
       "7                8  \n",
       "8                9  \n",
       "9                9  "
      ]
     },
     "execution_count": 22,
     "metadata": {},
     "output_type": "execute_result"
    }
   ],
   "source": [
    "# rs_df = pd.DataFrame(rs.cv_results_).sort_values('rank_test_score').reset_index(drop=True)\n",
    "# rs_df = rs_df.drop([\n",
    "# 'mean_fit_time',\n",
    "# 'std_fit_time',\n",
    "# 'mean_score_time',\n",
    "# 'std_score_time',\n",
    "# 'params',\n",
    "# 'split0_test_score',\n",
    "# 'split1_test_score',\n",
    "# 'split2_test_score',\n",
    "# 'std_test_score'],\n",
    "# axis=1)\n",
    "\n",
    "# rs_df.head(10)"
   ]
  },
  {
   "cell_type": "code",
   "execution_count": 23,
   "id": "1e5325c5",
   "metadata": {},
   "outputs": [
    {
     "name": "stdout",
     "output_type": "stream",
     "text": [
      "Fitting 3 folds for each of 480 candidates, totalling 1440 fits\n"
     ]
    },
    {
     "data": {
      "text/plain": [
       "{'bootstrap': True,\n",
       " 'max_depth': 3,\n",
       " 'max_features': 'sqrt',\n",
       " 'min_samples_leaf': 1,\n",
       " 'min_samples_split': 2,\n",
       " 'n_estimators': 300}"
      ]
     },
     "execution_count": 23,
     "metadata": {},
     "output_type": "execute_result"
    }
   ],
   "source": [
    "# from sklearn.model_selection import GridSearchCV\n",
    "# n_estimators = [100,200,300,600]\n",
    "# max_features = ['sqrt','log2']\n",
    "# max_depth = [3,4,7,12,13]\n",
    "# min_samples_split = [2,12,18]\n",
    "# min_samples_leaf = [1,37]\n",
    "# bootstrap = [True,False]\n",
    "\n",
    "# param_grid = {'n_estimators': n_estimators,\n",
    "# 'max_features': max_features,\n",
    "# 'max_depth': max_depth,\n",
    "# 'min_samples_split': min_samples_split,\n",
    "# 'min_samples_leaf': min_samples_leaf,\n",
    "# 'bootstrap': bootstrap}\n",
    "\n",
    "# gs = GridSearchCV(rfc, param_grid, cv = 3, verbose = 1, n_jobs=-1)\n",
    "# gs.fit(X_train, y_train)\n",
    "# rfc_2 = gs.best_estimator_\n",
    "# gs.best_params_"
   ]
  },
  {
   "cell_type": "code",
   "execution_count": 24,
   "id": "77d465f2",
   "metadata": {},
   "outputs": [],
   "source": [
    "# y_pred_gs = rfc_2.predict(X_test)"
   ]
  },
  {
   "cell_type": "markdown",
   "id": "1e4597a9",
   "metadata": {},
   "source": [
    "## Plot confusion matrix and get all model metrics"
   ]
  },
  {
   "cell_type": "code",
   "execution_count": 25,
   "id": "f5ebdd22",
   "metadata": {},
   "outputs": [
    {
     "name": "stdout",
     "output_type": "stream",
     "text": [
      "[[6 2]\n",
      " [3 6]]\n",
      "              precision    recall  f1-score   support\n",
      "\n",
      "           0       0.67      0.75      0.71         8\n",
      "           1       0.75      0.67      0.71         9\n",
      "\n",
      "    accuracy                           0.71        17\n",
      "   macro avg       0.71      0.71      0.71        17\n",
      "weighted avg       0.71      0.71      0.71        17\n",
      "\n"
     ]
    },
    {
     "data": {
      "image/png": "[encoded data removed]",
      "text/plain": [
       "<Figure size 640x480 with 2 Axes>"
      ]
     },
     "metadata": {},
     "output_type": "display_data"
    }
   ],
   "source": [
    "# from sklearn.metrics import confusion_matrix                            \n",
    "\n",
    "\n",
    "\n",
    "# cf_matrix = confusion_matrix(y_test, y_pred_gs)\n",
    "# print(cf_matrix)\n",
    "\n",
    "# sns.set(font_scale=1)\n",
    "# sns.heatmap(cf_matrix, annot=True,\n",
    "#            vmin=0, vmax=9, center= 0,\n",
    "#            cmap= 'coolwarm', linewidths=2, linecolor='black',\n",
    "#            xticklabels=['low','high'],\n",
    "#            yticklabels=['low','high']).set(title='Predicted vs. True GDM severity, SkySat 2020 (SB+VI)');\n",
    "\n",
    "# plt.ylabel('True')\n",
    "# plt.xlabel('Predicted')\n",
    "# plt.tight_layout()\n",
    "\n",
    "# plt.savefig('/Users/kathleenkanaley/Desktop/figs_phytopath_rev/corr_matrices_RF/SkySat/SB+VI/Sev_2020.jpg')\n",
    "# report = classification_report(y_test, y_pred_gs)\n",
    "\n",
    "# print(report)\n",
    "# # conf_matrix_tuned = pd.DataFrame(confusion_matrix(y_test, y_pred_gs),\n",
    "# #         index = [np.unique(y_pred)[0],np.unique(y_pred)[1]], columns = [np.unique(y_pred)[0],np.unique(y_pred)[1]])\n",
    "                                                         \n",
    "# # display(conf_matrix_tuned)\n",
    "# # display('Hyperparameter Tuned Random Forest accuracy score', accuracy_score(y_test, y_pred_gs))"
   ]
  },
  {
   "cell_type": "code",
   "execution_count": 83,
   "id": "a136cf1a",
   "metadata": {},
   "outputs": [
    {
     "data": {
      "text/plain": [
       "{0: 28, 1: 43}"
      ]
     },
     "execution_count": 83,
     "metadata": {},
     "output_type": "execute_result"
    }
   ],
   "source": [
    "# # Make sure axes are properly labeled\n",
    "# unique, counts = np.unique(y_pred_gs, return_counts=True)\n",
    "\n",
    "# dict(zip(unique, counts))"
   ]
  },
  {
   "cell_type": "markdown",
   "id": "6d70ac71",
   "metadata": {},
   "source": [
    "## Permutation importance plots"
   ]
  },
  {
   "cell_type": "code",
   "execution_count": 84,
   "id": "2b537187",
   "metadata": {},
   "outputs": [],
   "source": [
    "# Get permutation feature imp. scores\n",
    "# https://scikit-learn.org/stable/auto_examples/inspection/plot_permutation_importance.html#sphx-glr-auto-examples-inspection-plot-permutation-importance-py"
   ]
  },
  {
   "cell_type": "code",
   "execution_count": 26,
   "id": "19eccb8b",
   "metadata": {},
   "outputs": [
    {
     "data": {
      "image/png": "[encoded data removed]",
      "text/plain": [
       "<Figure size 640x480 with 1 Axes>"
      ]
     },
     "metadata": {},
     "output_type": "display_data"
    }
   ],
   "source": [
    "# from sklearn.inspection import permutation_importance\n",
    "\n",
    "# result = permutation_importance(\n",
    "#     rfc_2, X_test, y_test, n_repeats=10, random_state=16, n_jobs=2\n",
    "# )\n",
    "\n",
    "# sorted_importances_idx = result.importances_mean.argsort()\n",
    "\n",
    "# importances = pd.DataFrame(\n",
    "#     result.importances[sorted_importances_idx].T,\n",
    "#     columns=data_2020[ast.literal_eval(combo_20)].columns[sorted_importances_idx],\n",
    "# )\n",
    "# ax = importances.plot.box(vert=False, whis=10)\n",
    "# ax.set_title(\"Permutation Importances (test set)\",fontname=\"Arial\", fontsize=16)\n",
    "# #ax.axvline(x=0, color=\"k\", linestyle=\"--\")\n",
    "# ax.set_xlabel(\"Decrease in accuracy score\",fontname=\"Arial\", fontsize = 16)\n",
    "# ax.set_ylabel(\"Features\",fontname=\"Arial\", fontsize = 16)\n",
    "\n",
    "# ax.figure.tight_layout()\n",
    "# plt.savefig('/Users/kathleenkanaley/Desktop/figs_phytopath_rev/permimp_RF/SkySat/SB+VI/permimp_sev20.jpg')"
   ]
  },
  {
   "cell_type": "markdown",
   "id": "676c1996",
   "metadata": {},
   "source": [
    "## 2021"
   ]
  },
  {
   "cell_type": "code",
   "execution_count": 27,
   "id": "afc42202",
   "metadata": {},
   "outputs": [],
   "source": [
    "# X_train, y_train, X_test, y_test = bal_split_norm(data_2021,\n",
    "#                                                   ast.literal_eval(combo_21), #convert string to list\n",
    "#                                                  sev,\n",
    "#                                                  2020,\n",
    "#                                                  14)"
   ]
  },
  {
   "cell_type": "code",
   "execution_count": 28,
   "id": "15d2425c",
   "metadata": {},
   "outputs": [],
   "source": [
    "# # Create dictionary of parameters to test with randomizedCV\n",
    "\n",
    "# from sklearn.model_selection import RandomizedSearchCV\n",
    "\n",
    "# n_estimators = [int(x) for x in np.linspace(start = 100, stop = 1000,\n",
    "# num = 10)]\n",
    "# max_features = ['log2', 'sqrt']\n",
    "# max_depth = [int(x) for x in np.linspace(start = 1, stop = 15, num =\n",
    "# 15)]\n",
    "# min_samples_split = [int(x) for x in np.linspace(start = 2, stop = 50,\n",
    "# num = 10)]\n",
    "# min_samples_leaf = [int(x) for x in np.linspace(start = 1, stop = 50,\n",
    "# num = 5)]\n",
    "# bootstrap = [True, False]\n",
    "# param_dist = {'n_estimators': n_estimators,\n",
    "# 'max_features': max_features,\n",
    "# 'max_depth': max_depth,\n",
    "# 'min_samples_split': min_samples_split,\n",
    "# 'min_samples_leaf': min_samples_leaf,\n",
    "# 'bootstrap': bootstrap}"
   ]
  },
  {
   "cell_type": "code",
   "execution_count": 29,
   "id": "94f29df7",
   "metadata": {},
   "outputs": [
    {
     "name": "stdout",
     "output_type": "stream",
     "text": [
      "Fitting 3 folds for each of 100 candidates, totalling 300 fits\n"
     ]
    },
    {
     "data": {
      "text/plain": [
       "{'n_estimators': 200,\n",
       " 'min_samples_split': 12,\n",
       " 'min_samples_leaf': 1,\n",
       " 'max_features': 'log2',\n",
       " 'max_depth': 7,\n",
       " 'bootstrap': True}"
      ]
     },
     "execution_count": 29,
     "metadata": {},
     "output_type": "execute_result"
    }
   ],
   "source": [
    "# rfc = RandomForestClassifier()\n",
    "# rs = RandomizedSearchCV(rfc,\n",
    "# param_dist,\n",
    "# n_iter = 100,\n",
    "# scoring = 'f1',\n",
    "# cv = 3,\n",
    "# verbose = 1,\n",
    "# n_jobs=-1,\n",
    "# random_state=0)\n",
    "\n",
    "# rs.fit(X_train, y_train)\n",
    "# rs.best_params_"
   ]
  },
  {
   "cell_type": "code",
   "execution_count": 30,
   "id": "d24688c3",
   "metadata": {},
   "outputs": [
    {
     "data": {
      "text/html": [
       "<div>\n",
       "<style scoped>\n",
       "    .dataframe tbody tr th:only-of-type {\n",
       "        vertical-align: middle;\n",
       "    }\n",
       "\n",
       "    .dataframe tbody tr th {\n",
       "        vertical-align: top;\n",
       "    }\n",
       "\n",
       "    .dataframe thead th {\n",
       "        text-align: right;\n",
       "    }\n",
       "</style>\n",
       "<table border=\"1\" class=\"dataframe\">\n",
       "  <thead>\n",
       "    <tr style=\"text-align: right;\">\n",
       "      <th></th>\n",
       "      <th>param_n_estimators</th>\n",
       "      <th>param_min_samples_split</th>\n",
       "      <th>param_min_samples_leaf</th>\n",
       "      <th>param_max_features</th>\n",
       "      <th>param_max_depth</th>\n",
       "      <th>param_bootstrap</th>\n",
       "      <th>mean_test_score</th>\n",
       "      <th>rank_test_score</th>\n",
       "    </tr>\n",
       "  </thead>\n",
       "  <tbody>\n",
       "    <tr>\n",
       "      <th>0</th>\n",
       "      <td>200</td>\n",
       "      <td>12</td>\n",
       "      <td>1</td>\n",
       "      <td>log2</td>\n",
       "      <td>7</td>\n",
       "      <td>True</td>\n",
       "      <td>0.701149</td>\n",
       "      <td>1</td>\n",
       "    </tr>\n",
       "    <tr>\n",
       "      <th>1</th>\n",
       "      <td>700</td>\n",
       "      <td>2</td>\n",
       "      <td>1</td>\n",
       "      <td>log2</td>\n",
       "      <td>6</td>\n",
       "      <td>False</td>\n",
       "      <td>0.697336</td>\n",
       "      <td>2</td>\n",
       "    </tr>\n",
       "    <tr>\n",
       "      <th>2</th>\n",
       "      <td>300</td>\n",
       "      <td>12</td>\n",
       "      <td>1</td>\n",
       "      <td>log2</td>\n",
       "      <td>13</td>\n",
       "      <td>False</td>\n",
       "      <td>0.693563</td>\n",
       "      <td>3</td>\n",
       "    </tr>\n",
       "    <tr>\n",
       "      <th>3</th>\n",
       "      <td>600</td>\n",
       "      <td>12</td>\n",
       "      <td>1</td>\n",
       "      <td>log2</td>\n",
       "      <td>4</td>\n",
       "      <td>False</td>\n",
       "      <td>0.691710</td>\n",
       "      <td>4</td>\n",
       "    </tr>\n",
       "    <tr>\n",
       "      <th>4</th>\n",
       "      <td>700</td>\n",
       "      <td>18</td>\n",
       "      <td>1</td>\n",
       "      <td>log2</td>\n",
       "      <td>7</td>\n",
       "      <td>True</td>\n",
       "      <td>0.691575</td>\n",
       "      <td>5</td>\n",
       "    </tr>\n",
       "    <tr>\n",
       "      <th>5</th>\n",
       "      <td>300</td>\n",
       "      <td>18</td>\n",
       "      <td>1</td>\n",
       "      <td>sqrt</td>\n",
       "      <td>12</td>\n",
       "      <td>False</td>\n",
       "      <td>0.690626</td>\n",
       "      <td>6</td>\n",
       "    </tr>\n",
       "    <tr>\n",
       "      <th>6</th>\n",
       "      <td>600</td>\n",
       "      <td>7</td>\n",
       "      <td>13</td>\n",
       "      <td>log2</td>\n",
       "      <td>1</td>\n",
       "      <td>False</td>\n",
       "      <td>0.690159</td>\n",
       "      <td>7</td>\n",
       "    </tr>\n",
       "    <tr>\n",
       "      <th>7</th>\n",
       "      <td>700</td>\n",
       "      <td>23</td>\n",
       "      <td>25</td>\n",
       "      <td>log2</td>\n",
       "      <td>1</td>\n",
       "      <td>False</td>\n",
       "      <td>0.686212</td>\n",
       "      <td>8</td>\n",
       "    </tr>\n",
       "    <tr>\n",
       "      <th>8</th>\n",
       "      <td>700</td>\n",
       "      <td>28</td>\n",
       "      <td>1</td>\n",
       "      <td>sqrt</td>\n",
       "      <td>8</td>\n",
       "      <td>False</td>\n",
       "      <td>0.683332</td>\n",
       "      <td>9</td>\n",
       "    </tr>\n",
       "    <tr>\n",
       "      <th>9</th>\n",
       "      <td>900</td>\n",
       "      <td>50</td>\n",
       "      <td>1</td>\n",
       "      <td>log2</td>\n",
       "      <td>3</td>\n",
       "      <td>False</td>\n",
       "      <td>0.681061</td>\n",
       "      <td>10</td>\n",
       "    </tr>\n",
       "  </tbody>\n",
       "</table>\n",
       "</div>"
      ],
      "text/plain": [
       "  param_n_estimators param_min_samples_split param_min_samples_leaf  \\\n",
       "0                200                      12                      1   \n",
       "1                700                       2                      1   \n",
       "2                300                      12                      1   \n",
       "3                600                      12                      1   \n",
       "4                700                      18                      1   \n",
       "5                300                      18                      1   \n",
       "6                600                       7                     13   \n",
       "7                700                      23                     25   \n",
       "8                700                      28                      1   \n",
       "9                900                      50                      1   \n",
       "\n",
       "  param_max_features param_max_depth param_bootstrap  mean_test_score  \\\n",
       "0               log2               7            True         0.701149   \n",
       "1               log2               6           False         0.697336   \n",
       "2               log2              13           False         0.693563   \n",
       "3               log2               4           False         0.691710   \n",
       "4               log2               7            True         0.691575   \n",
       "5               sqrt              12           False         0.690626   \n",
       "6               log2               1           False         0.690159   \n",
       "7               log2               1           False         0.686212   \n",
       "8               sqrt               8           False         0.683332   \n",
       "9               log2               3           False         0.681061   \n",
       "\n",
       "   rank_test_score  \n",
       "0                1  \n",
       "1                2  \n",
       "2                3  \n",
       "3                4  \n",
       "4                5  \n",
       "5                6  \n",
       "6                7  \n",
       "7                8  \n",
       "8                9  \n",
       "9               10  "
      ]
     },
     "execution_count": 30,
     "metadata": {},
     "output_type": "execute_result"
    }
   ],
   "source": [
    "# rs_df = pd.DataFrame(rs.cv_results_).sort_values('rank_test_score').reset_index(drop=True)\n",
    "# rs_df = rs_df.drop([\n",
    "# 'mean_fit_time',\n",
    "# 'std_fit_time',\n",
    "# 'mean_score_time',\n",
    "# 'std_score_time',\n",
    "# 'params',\n",
    "# 'split0_test_score',\n",
    "# 'split1_test_score',\n",
    "# 'split2_test_score',\n",
    "# 'std_test_score'],\n",
    "# axis=1)\n",
    "\n",
    "# rs_df.head(10)"
   ]
  },
  {
   "cell_type": "code",
   "execution_count": 31,
   "id": "e108d541",
   "metadata": {},
   "outputs": [
    {
     "name": "stdout",
     "output_type": "stream",
     "text": [
      "Fitting 3 folds for each of 600 candidates, totalling 1800 fits\n"
     ]
    },
    {
     "data": {
      "text/plain": [
       "{'bootstrap': True,\n",
       " 'max_depth': 4,\n",
       " 'max_features': 'sqrt',\n",
       " 'min_samples_leaf': 1,\n",
       " 'min_samples_split': 2,\n",
       " 'n_estimators': 100}"
      ]
     },
     "execution_count": 31,
     "metadata": {},
     "output_type": "execute_result"
    }
   ],
   "source": [
    "# from sklearn.model_selection import GridSearchCV\n",
    "# n_estimators = [100,200,300,600,700]\n",
    "# max_features = ['sqrt','log2']\n",
    "# max_depth = [3,4,6,7,13]\n",
    "# min_samples_split = [2,12,18]\n",
    "# min_samples_leaf = [1,13]\n",
    "# bootstrap = [True,False]\n",
    "\n",
    "# param_grid = {'n_estimators': n_estimators,\n",
    "# 'max_features': max_features,\n",
    "# 'max_depth': max_depth,\n",
    "# 'min_samples_split': min_samples_split,\n",
    "# 'min_samples_leaf': min_samples_leaf,\n",
    "# 'bootstrap': bootstrap}\n",
    "\n",
    "# gs = GridSearchCV(rfc, param_grid, cv = 3, verbose = 1, n_jobs=-1)\n",
    "# gs.fit(X_train, y_train)\n",
    "# rfc_2 = gs.best_estimator_\n",
    "# gs.best_params_"
   ]
  },
  {
   "cell_type": "code",
   "execution_count": 32,
   "id": "553aa3d0",
   "metadata": {},
   "outputs": [],
   "source": [
    "# y_pred_gs = rfc_2.predict(X_test)"
   ]
  },
  {
   "cell_type": "code",
   "execution_count": 33,
   "id": "1c1f725b",
   "metadata": {},
   "outputs": [
    {
     "name": "stdout",
     "output_type": "stream",
     "text": [
      "[[24 12]\n",
      " [11 26]]\n",
      "              precision    recall  f1-score   support\n",
      "\n",
      "           0       0.69      0.67      0.68        36\n",
      "           1       0.68      0.70      0.69        37\n",
      "\n",
      "    accuracy                           0.68        73\n",
      "   macro avg       0.68      0.68      0.68        73\n",
      "weighted avg       0.68      0.68      0.68        73\n",
      "\n"
     ]
    },
    {
     "data": {
      "image/png": "[encoded data removed]",
      "text/plain": [
       "<Figure size 640x480 with 2 Axes>"
      ]
     },
     "metadata": {},
     "output_type": "display_data"
    }
   ],
   "source": [
    "# from sklearn.metrics import confusion_matrix                            \n",
    "\n",
    "\n",
    "# cf_matrix = confusion_matrix(y_test, y_pred_gs)\n",
    "# print(cf_matrix)\n",
    "\n",
    "# sns.set(font_scale=1)\n",
    "# sns.heatmap(cf_matrix, annot=True, fmt='.3g',\n",
    "#            vmin=0, vmax=37, center= 0,\n",
    "#            cmap= 'coolwarm', linewidths=2, linecolor='black',\n",
    "#            xticklabels=['low','high'],\n",
    "#            yticklabels=['low','high']).set(title='Predicted vs. True GDM severity, SkySat 2021 (SB+VI)');\n",
    "\n",
    "# plt.ylabel('True')\n",
    "# plt.xlabel('Predicted')\n",
    "# plt.tight_layout()\n",
    "\n",
    "# plt.savefig('/Users/kathleenkanaley/Desktop/figs_phytopath_rev/corr_matrices_RF/SkySat/SB+VI/Sev_2021.jpg')\n",
    "# report = classification_report(y_test, y_pred_gs)\n",
    "\n",
    "# print(report)\n",
    "# # conf_matrix_tuned = pd.DataFrame(confusion_matrix(y_test, y_pred_gs),\n",
    "# #         index = [np.unique(y_pred)[0],np.unique(y_pred)[1]], columns = [np.unique(y_pred)[0],np.unique(y_pred)[1]])\n",
    "                                                         \n",
    "# # display(conf_matrix_tuned)\n",
    "# # display('Hyperparameter Tuned Random Forest accuracy score', accuracy_score(y_test, y_pred_gs))"
   ]
  },
  {
   "cell_type": "code",
   "execution_count": 34,
   "id": "8542b145",
   "metadata": {},
   "outputs": [
    {
     "data": {
      "image/png": "[encoded data removed]",
      "text/plain": [
       "<Figure size 640x480 with 1 Axes>"
      ]
     },
     "metadata": {},
     "output_type": "display_data"
    }
   ],
   "source": [
    "# from sklearn.inspection import permutation_importance\n",
    "\n",
    "# result = permutation_importance(\n",
    "#     rfc_2, X_test, y_test, n_repeats=10, random_state=16, n_jobs=2\n",
    "# )\n",
    "\n",
    "# sorted_importances_idx = result.importances_mean.argsort()\n",
    "\n",
    "# importances = pd.DataFrame(\n",
    "#     result.importances[sorted_importances_idx].T,\n",
    "#     columns=data_2021[ast.literal_eval(combo_21)].columns[sorted_importances_idx],\n",
    "# )\n",
    "# ax = importances.plot.box(vert=False, whis=10)\n",
    "# ax.set_title(\"Permutation Importances (test set)\",fontname=\"Arial\", fontsize=16)\n",
    "# #ax.axvline(x=0, color=\"k\", linestyle=\"--\")\n",
    "# ax.set_xlabel(\"Decrease in accuracy score\",fontname=\"Arial\", fontsize = 16)\n",
    "# ax.set_ylabel(\"Features\",fontname=\"Arial\", fontsize = 16)\n",
    "\n",
    "# ax.figure.tight_layout()\n",
    "# plt.savefig('/Users/kathleenkanaley/Desktop/figs_phytopath_rev/permimp_RF/SkySat/SB+VI/permimp_sev21.jpg')"
   ]
  },
  {
   "cell_type": "markdown",
   "id": "b997ec2c",
   "metadata": {},
   "source": [
    "## 2022"
   ]
  },
  {
   "cell_type": "code",
   "execution_count": 35,
   "id": "960f79fc",
   "metadata": {},
   "outputs": [],
   "source": [
    "# X_train, y_train, X_test, y_test = bal_split_norm(data_2022,\n",
    "#                                                   ast.literal_eval(combo_22), #convert string to list\n",
    "#                                                  sev,\n",
    "#                                                  2020,\n",
    "#                                                  14)"
   ]
  },
  {
   "cell_type": "code",
   "execution_count": 36,
   "id": "13e25f32",
   "metadata": {},
   "outputs": [],
   "source": [
    "# # Create dictionary of parameters to test with randomizedCV\n",
    "\n",
    "# from sklearn.model_selection import RandomizedSearchCV\n",
    "\n",
    "# n_estimators = [int(x) for x in np.linspace(start = 100, stop = 1000,\n",
    "# num = 10)]\n",
    "# max_features = ['log2', 'sqrt']\n",
    "# max_depth = [int(x) for x in np.linspace(start = 1, stop = 15, num =\n",
    "# 15)]\n",
    "# min_samples_split = [int(x) for x in np.linspace(start = 2, stop = 50,\n",
    "# num = 10)]\n",
    "# min_samples_leaf = [int(x) for x in np.linspace(start = 1, stop = 50,\n",
    "# num = 5)]\n",
    "# bootstrap = [True, False]\n",
    "# param_dist = {'n_estimators': n_estimators,\n",
    "# 'max_features': max_features,\n",
    "# 'max_depth': max_depth,\n",
    "# 'min_samples_split': min_samples_split,\n",
    "# 'min_samples_leaf': min_samples_leaf,\n",
    "# 'bootstrap': bootstrap}"
   ]
  },
  {
   "cell_type": "code",
   "execution_count": 37,
   "id": "750e394e",
   "metadata": {},
   "outputs": [
    {
     "name": "stdout",
     "output_type": "stream",
     "text": [
      "Fitting 3 folds for each of 100 candidates, totalling 300 fits\n"
     ]
    },
    {
     "data": {
      "text/plain": [
       "{'n_estimators': 700,\n",
       " 'min_samples_split': 2,\n",
       " 'min_samples_leaf': 1,\n",
       " 'max_features': 'log2',\n",
       " 'max_depth': 6,\n",
       " 'bootstrap': False}"
      ]
     },
     "execution_count": 37,
     "metadata": {},
     "output_type": "execute_result"
    }
   ],
   "source": [
    "# rfc = RandomForestClassifier()\n",
    "# rs = RandomizedSearchCV(rfc,\n",
    "# param_dist,\n",
    "# n_iter = 100,\n",
    "# scoring = 'f1',\n",
    "# cv = 3,\n",
    "# verbose = 1,\n",
    "# n_jobs=-1,\n",
    "# random_state=0)\n",
    "\n",
    "# rs.fit(X_train, y_train)\n",
    "# rs.best_params_"
   ]
  },
  {
   "cell_type": "code",
   "execution_count": 38,
   "id": "ed3855f7",
   "metadata": {},
   "outputs": [
    {
     "data": {
      "text/html": [
       "<div>\n",
       "<style scoped>\n",
       "    .dataframe tbody tr th:only-of-type {\n",
       "        vertical-align: middle;\n",
       "    }\n",
       "\n",
       "    .dataframe tbody tr th {\n",
       "        vertical-align: top;\n",
       "    }\n",
       "\n",
       "    .dataframe thead th {\n",
       "        text-align: right;\n",
       "    }\n",
       "</style>\n",
       "<table border=\"1\" class=\"dataframe\">\n",
       "  <thead>\n",
       "    <tr style=\"text-align: right;\">\n",
       "      <th></th>\n",
       "      <th>param_n_estimators</th>\n",
       "      <th>param_min_samples_split</th>\n",
       "      <th>param_min_samples_leaf</th>\n",
       "      <th>param_max_features</th>\n",
       "      <th>param_max_depth</th>\n",
       "      <th>param_bootstrap</th>\n",
       "      <th>mean_test_score</th>\n",
       "      <th>rank_test_score</th>\n",
       "    </tr>\n",
       "  </thead>\n",
       "  <tbody>\n",
       "    <tr>\n",
       "      <th>0</th>\n",
       "      <td>700</td>\n",
       "      <td>2</td>\n",
       "      <td>1</td>\n",
       "      <td>log2</td>\n",
       "      <td>6</td>\n",
       "      <td>False</td>\n",
       "      <td>0.500000</td>\n",
       "      <td>1</td>\n",
       "    </tr>\n",
       "    <tr>\n",
       "      <th>1</th>\n",
       "      <td>300</td>\n",
       "      <td>18</td>\n",
       "      <td>25</td>\n",
       "      <td>sqrt</td>\n",
       "      <td>3</td>\n",
       "      <td>True</td>\n",
       "      <td>0.412698</td>\n",
       "      <td>2</td>\n",
       "    </tr>\n",
       "    <tr>\n",
       "      <th>2</th>\n",
       "      <td>800</td>\n",
       "      <td>12</td>\n",
       "      <td>13</td>\n",
       "      <td>sqrt</td>\n",
       "      <td>15</td>\n",
       "      <td>True</td>\n",
       "      <td>0.412698</td>\n",
       "      <td>2</td>\n",
       "    </tr>\n",
       "    <tr>\n",
       "      <th>3</th>\n",
       "      <td>700</td>\n",
       "      <td>7</td>\n",
       "      <td>25</td>\n",
       "      <td>log2</td>\n",
       "      <td>7</td>\n",
       "      <td>True</td>\n",
       "      <td>0.412698</td>\n",
       "      <td>2</td>\n",
       "    </tr>\n",
       "    <tr>\n",
       "      <th>4</th>\n",
       "      <td>300</td>\n",
       "      <td>12</td>\n",
       "      <td>13</td>\n",
       "      <td>log2</td>\n",
       "      <td>12</td>\n",
       "      <td>True</td>\n",
       "      <td>0.412698</td>\n",
       "      <td>2</td>\n",
       "    </tr>\n",
       "    <tr>\n",
       "      <th>5</th>\n",
       "      <td>300</td>\n",
       "      <td>39</td>\n",
       "      <td>1</td>\n",
       "      <td>log2</td>\n",
       "      <td>6</td>\n",
       "      <td>True</td>\n",
       "      <td>0.412698</td>\n",
       "      <td>2</td>\n",
       "    </tr>\n",
       "    <tr>\n",
       "      <th>6</th>\n",
       "      <td>200</td>\n",
       "      <td>28</td>\n",
       "      <td>37</td>\n",
       "      <td>sqrt</td>\n",
       "      <td>5</td>\n",
       "      <td>True</td>\n",
       "      <td>0.412698</td>\n",
       "      <td>2</td>\n",
       "    </tr>\n",
       "    <tr>\n",
       "      <th>7</th>\n",
       "      <td>800</td>\n",
       "      <td>39</td>\n",
       "      <td>37</td>\n",
       "      <td>sqrt</td>\n",
       "      <td>8</td>\n",
       "      <td>True</td>\n",
       "      <td>0.412698</td>\n",
       "      <td>2</td>\n",
       "    </tr>\n",
       "    <tr>\n",
       "      <th>8</th>\n",
       "      <td>700</td>\n",
       "      <td>39</td>\n",
       "      <td>13</td>\n",
       "      <td>sqrt</td>\n",
       "      <td>13</td>\n",
       "      <td>True</td>\n",
       "      <td>0.412698</td>\n",
       "      <td>2</td>\n",
       "    </tr>\n",
       "    <tr>\n",
       "      <th>9</th>\n",
       "      <td>700</td>\n",
       "      <td>50</td>\n",
       "      <td>50</td>\n",
       "      <td>log2</td>\n",
       "      <td>3</td>\n",
       "      <td>True</td>\n",
       "      <td>0.412698</td>\n",
       "      <td>2</td>\n",
       "    </tr>\n",
       "  </tbody>\n",
       "</table>\n",
       "</div>"
      ],
      "text/plain": [
       "  param_n_estimators param_min_samples_split param_min_samples_leaf  \\\n",
       "0                700                       2                      1   \n",
       "1                300                      18                     25   \n",
       "2                800                      12                     13   \n",
       "3                700                       7                     25   \n",
       "4                300                      12                     13   \n",
       "5                300                      39                      1   \n",
       "6                200                      28                     37   \n",
       "7                800                      39                     37   \n",
       "8                700                      39                     13   \n",
       "9                700                      50                     50   \n",
       "\n",
       "  param_max_features param_max_depth param_bootstrap  mean_test_score  \\\n",
       "0               log2               6           False         0.500000   \n",
       "1               sqrt               3            True         0.412698   \n",
       "2               sqrt              15            True         0.412698   \n",
       "3               log2               7            True         0.412698   \n",
       "4               log2              12            True         0.412698   \n",
       "5               log2               6            True         0.412698   \n",
       "6               sqrt               5            True         0.412698   \n",
       "7               sqrt               8            True         0.412698   \n",
       "8               sqrt              13            True         0.412698   \n",
       "9               log2               3            True         0.412698   \n",
       "\n",
       "   rank_test_score  \n",
       "0                1  \n",
       "1                2  \n",
       "2                2  \n",
       "3                2  \n",
       "4                2  \n",
       "5                2  \n",
       "6                2  \n",
       "7                2  \n",
       "8                2  \n",
       "9                2  "
      ]
     },
     "execution_count": 38,
     "metadata": {},
     "output_type": "execute_result"
    }
   ],
   "source": [
    "# rs_df = pd.DataFrame(rs.cv_results_).sort_values('rank_test_score').reset_index(drop=True)\n",
    "# rs_df = rs_df.drop([\n",
    "# 'mean_fit_time',\n",
    "# 'std_fit_time',\n",
    "# 'mean_score_time',\n",
    "# 'std_score_time',\n",
    "# 'params',\n",
    "# 'split0_test_score',\n",
    "# 'split1_test_score',\n",
    "# 'split2_test_score',\n",
    "# 'std_test_score'],\n",
    "# axis=1)\n",
    "\n",
    "# rs_df.head(10)"
   ]
  },
  {
   "cell_type": "code",
   "execution_count": 39,
   "id": "ed6abc8e",
   "metadata": {},
   "outputs": [
    {
     "name": "stdout",
     "output_type": "stream",
     "text": [
      "Fitting 3 folds for each of 768 candidates, totalling 2304 fits\n"
     ]
    },
    {
     "data": {
      "text/plain": [
       "{'bootstrap': False,\n",
       " 'max_depth': 3,\n",
       " 'max_features': 'sqrt',\n",
       " 'min_samples_leaf': 1,\n",
       " 'min_samples_split': 7,\n",
       " 'n_estimators': 100}"
      ]
     },
     "execution_count": 39,
     "metadata": {},
     "output_type": "execute_result"
    }
   ],
   "source": [
    "# from sklearn.model_selection import GridSearchCV\n",
    "# n_estimators = [100,300,700,800]\n",
    "# max_features = ['sqrt','log2']\n",
    "# max_depth = [3,6,7,15]\n",
    "# min_samples_split = [2,7,12,18]\n",
    "# min_samples_leaf = [1,13,25]\n",
    "# bootstrap = [True,False]\n",
    "\n",
    "# param_grid = {'n_estimators': n_estimators,\n",
    "# 'max_features': max_features,\n",
    "# 'max_depth': max_depth,\n",
    "# 'min_samples_split': min_samples_split,\n",
    "# 'min_samples_leaf': min_samples_leaf,\n",
    "# 'bootstrap': bootstrap}\n",
    "\n",
    "# gs = GridSearchCV(rfc, param_grid, cv = 3, verbose = 1, n_jobs=-1)\n",
    "# gs.fit(X_train, y_train)\n",
    "# rfc_2 = gs.best_estimator_\n",
    "# gs.best_params_"
   ]
  },
  {
   "cell_type": "code",
   "execution_count": 40,
   "id": "09754765",
   "metadata": {},
   "outputs": [],
   "source": [
    "# y_pred_gs = rfc_2.predict(X_test)"
   ]
  },
  {
   "cell_type": "code",
   "execution_count": 41,
   "id": "f4b4f285",
   "metadata": {},
   "outputs": [
    {
     "name": "stdout",
     "output_type": "stream",
     "text": [
      "[[2 1]\n",
      " [2 1]]\n",
      "              precision    recall  f1-score   support\n",
      "\n",
      "           0       0.50      0.67      0.57         3\n",
      "           1       0.50      0.33      0.40         3\n",
      "\n",
      "    accuracy                           0.50         6\n",
      "   macro avg       0.50      0.50      0.49         6\n",
      "weighted avg       0.50      0.50      0.49         6\n",
      "\n"
     ]
    },
    {
     "data": {
      "image/png": "[encoded data removed]",
      "text/plain": [
       "<Figure size 640x480 with 2 Axes>"
      ]
     },
     "metadata": {},
     "output_type": "display_data"
    }
   ],
   "source": [
    "# from sklearn.metrics import confusion_matrix                            \n",
    "\n",
    "\n",
    "# cf_matrix = confusion_matrix(y_test, y_pred_gs)\n",
    "# print(cf_matrix)\n",
    "\n",
    "# sns.set(font_scale=1)\n",
    "# sns.heatmap(cf_matrix, annot=True, fmt='.3g',\n",
    "#            vmin=0, vmax=3, center= 0,\n",
    "#            cmap= 'coolwarm', linewidths=2, linecolor='black', \n",
    "#            #cbar_kws={'ticks':[0,1,2,3]},\n",
    "#            xticklabels=['low','high'],\n",
    "#            yticklabels=['low','high']).set(title='Predicted vs. True GDM severity, SkySat 2022 (SB+VI)');\n",
    "\n",
    "# plt.ylabel('True')\n",
    "# plt.xlabel('Predicted')\n",
    "# plt.tight_layout()\n",
    "\n",
    "# plt.savefig('/Users/kathleenkanaley/Desktop/figs_phytopath_rev/corr_matrices_RF/SkySat/SB+VI/Sev_2022.jpg')\n",
    "# report = classification_report(y_test, y_pred_gs)\n",
    "\n",
    "# print(report)\n",
    "# # conf_matrix_tuned = pd.DataFrame(confusion_matrix(y_test, y_pred_gs),\n",
    "# #         index = [np.unique(y_pred)[0],np.unique(y_pred)[1]], columns = [np.unique(y_pred)[0],np.unique(y_pred)[1]])\n",
    "                                                         \n",
    "# # display(conf_matrix_tuned)\n",
    "# # display('Hyperparameter Tuned Random Forest accuracy score', accuracy_score(y_test, y_pred_gs))"
   ]
  },
  {
   "cell_type": "code",
   "execution_count": 42,
   "id": "01d64a02",
   "metadata": {},
   "outputs": [
    {
     "data": {
      "image/png": "[encoded data removed]",
      "text/plain": [
       "<Figure size 640x480 with 1 Axes>"
      ]
     },
     "metadata": {},
     "output_type": "display_data"
    }
   ],
   "source": [
    "# from sklearn.inspection import permutation_importance\n",
    "\n",
    "# result = permutation_importance(\n",
    "#     rfc_2, X_test, y_test, n_repeats=10, random_state=16, n_jobs=2\n",
    "# )\n",
    "\n",
    "# sorted_importances_idx = result.importances_mean.argsort()\n",
    "\n",
    "# importances = pd.DataFrame(\n",
    "#     result.importances[sorted_importances_idx].T,\n",
    "#     columns=data_2022[ast.literal_eval(combo_22)].columns[sorted_importances_idx],\n",
    "# )\n",
    "# ax = importances.plot.box(vert=False, whis=10)\n",
    "# ax.set_title(\"Permutation Importances (test set)\",fontname=\"Arial\", fontsize=16)\n",
    "# #ax.axvline(x=0, color=\"k\", linestyle=\"--\")\n",
    "# ax.set_xlabel(\"Decrease in accuracy score\",fontname=\"Arial\", fontsize = 16)\n",
    "# ax.set_ylabel(\"Features\",fontname=\"Arial\", fontsize = 16)\n",
    "\n",
    "# ax.figure.tight_layout()\n",
    "# plt.savefig('/Users/kathleenkanaley/Desktop/figs_phytopath_rev/permimp_RF/SkySat/SB+VI/permimp_sev22.jpg')"
   ]
  },
  {
   "cell_type": "markdown",
   "id": "95796a47",
   "metadata": {},
   "source": [
    "## All years"
   ]
  },
  {
   "cell_type": "code",
   "execution_count": 43,
   "id": "6d9642b8",
   "metadata": {},
   "outputs": [
    {
     "data": {
      "text/html": [
       "<div>\n",
       "<style scoped>\n",
       "    .dataframe tbody tr th:only-of-type {\n",
       "        vertical-align: middle;\n",
       "    }\n",
       "\n",
       "    .dataframe tbody tr th {\n",
       "        vertical-align: top;\n",
       "    }\n",
       "\n",
       "    .dataframe thead th {\n",
       "        text-align: right;\n",
       "    }\n",
       "</style>\n",
       "<table border=\"1\" class=\"dataframe\">\n",
       "  <thead>\n",
       "    <tr style=\"text-align: right;\">\n",
       "      <th></th>\n",
       "      <th>F1</th>\n",
       "      <th>features</th>\n",
       "    </tr>\n",
       "  </thead>\n",
       "  <tbody>\n",
       "    <tr>\n",
       "      <th>0</th>\n",
       "      <td>0.753211</td>\n",
       "      <td>['blue', 'green', 'red', 'nir', 'ndvi']</td>\n",
       "    </tr>\n",
       "    <tr>\n",
       "      <th>1</th>\n",
       "      <td>0.737168</td>\n",
       "      <td>['blue', 'green', 'red', 'nir', 'evi']</td>\n",
       "    </tr>\n",
       "    <tr>\n",
       "      <th>2</th>\n",
       "      <td>0.732458</td>\n",
       "      <td>['blue', 'green', 'red', 'nir', 'msavi']</td>\n",
       "    </tr>\n",
       "    <tr>\n",
       "      <th>3</th>\n",
       "      <td>0.740982</td>\n",
       "      <td>['blue', 'green', 'red', 'nir', 'arvi']</td>\n",
       "    </tr>\n",
       "    <tr>\n",
       "      <th>4</th>\n",
       "      <td>0.742042</td>\n",
       "      <td>['blue', 'green', 'red', 'nir', 'grvi']</td>\n",
       "    </tr>\n",
       "    <tr>\n",
       "      <th>5</th>\n",
       "      <td>0.738616</td>\n",
       "      <td>['blue', 'green', 'red', 'nir', 'ndvi', 'evi']</td>\n",
       "    </tr>\n",
       "    <tr>\n",
       "      <th>6</th>\n",
       "      <td>0.735867</td>\n",
       "      <td>['blue', 'green', 'red', 'nir', 'ndvi', 'msavi']</td>\n",
       "    </tr>\n",
       "    <tr>\n",
       "      <th>7</th>\n",
       "      <td>0.747654</td>\n",
       "      <td>['blue', 'green', 'red', 'nir', 'ndvi', 'arvi']</td>\n",
       "    </tr>\n",
       "    <tr>\n",
       "      <th>8</th>\n",
       "      <td>0.751569</td>\n",
       "      <td>['blue', 'green', 'red', 'nir', 'ndvi', 'grvi']</td>\n",
       "    </tr>\n",
       "    <tr>\n",
       "      <th>9</th>\n",
       "      <td>0.749819</td>\n",
       "      <td>['blue', 'green', 'red', 'nir', 'evi', 'msavi']</td>\n",
       "    </tr>\n",
       "    <tr>\n",
       "      <th>10</th>\n",
       "      <td>0.737218</td>\n",
       "      <td>['blue', 'green', 'red', 'nir', 'evi', 'arvi']</td>\n",
       "    </tr>\n",
       "    <tr>\n",
       "      <th>11</th>\n",
       "      <td>0.748652</td>\n",
       "      <td>['blue', 'green', 'red', 'nir', 'evi', 'grvi']</td>\n",
       "    </tr>\n",
       "    <tr>\n",
       "      <th>12</th>\n",
       "      <td>0.746605</td>\n",
       "      <td>['blue', 'green', 'red', 'nir', 'msavi', 'arvi']</td>\n",
       "    </tr>\n",
       "    <tr>\n",
       "      <th>13</th>\n",
       "      <td>0.747392</td>\n",
       "      <td>['blue', 'green', 'red', 'nir', 'msavi', 'grvi']</td>\n",
       "    </tr>\n",
       "    <tr>\n",
       "      <th>14</th>\n",
       "      <td>0.763326</td>\n",
       "      <td>['blue', 'green', 'red', 'nir', 'arvi', 'grvi']</td>\n",
       "    </tr>\n",
       "    <tr>\n",
       "      <th>15</th>\n",
       "      <td>0.736424</td>\n",
       "      <td>['blue', 'green', 'red', 'nir', 'ndvi', 'evi',...</td>\n",
       "    </tr>\n",
       "    <tr>\n",
       "      <th>16</th>\n",
       "      <td>0.746457</td>\n",
       "      <td>['blue', 'green', 'red', 'nir', 'ndvi', 'evi',...</td>\n",
       "    </tr>\n",
       "    <tr>\n",
       "      <th>17</th>\n",
       "      <td>0.759560</td>\n",
       "      <td>['blue', 'green', 'red', 'nir', 'ndvi', 'evi',...</td>\n",
       "    </tr>\n",
       "    <tr>\n",
       "      <th>18</th>\n",
       "      <td>0.746598</td>\n",
       "      <td>['blue', 'green', 'red', 'nir', 'ndvi', 'msavi...</td>\n",
       "    </tr>\n",
       "    <tr>\n",
       "      <th>19</th>\n",
       "      <td>0.741815</td>\n",
       "      <td>['blue', 'green', 'red', 'nir', 'ndvi', 'msavi...</td>\n",
       "    </tr>\n",
       "    <tr>\n",
       "      <th>20</th>\n",
       "      <td>0.760173</td>\n",
       "      <td>['blue', 'green', 'red', 'nir', 'ndvi', 'arvi'...</td>\n",
       "    </tr>\n",
       "    <tr>\n",
       "      <th>21</th>\n",
       "      <td>0.739854</td>\n",
       "      <td>['blue', 'green', 'red', 'nir', 'evi', 'msavi'...</td>\n",
       "    </tr>\n",
       "    <tr>\n",
       "      <th>22</th>\n",
       "      <td>0.753710</td>\n",
       "      <td>['blue', 'green', 'red', 'nir', 'evi', 'msavi'...</td>\n",
       "    </tr>\n",
       "    <tr>\n",
       "      <th>23</th>\n",
       "      <td>0.757633</td>\n",
       "      <td>['blue', 'green', 'red', 'nir', 'evi', 'arvi',...</td>\n",
       "    </tr>\n",
       "    <tr>\n",
       "      <th>24</th>\n",
       "      <td>0.761203</td>\n",
       "      <td>['blue', 'green', 'red', 'nir', 'msavi', 'arvi...</td>\n",
       "    </tr>\n",
       "    <tr>\n",
       "      <th>25</th>\n",
       "      <td>0.752371</td>\n",
       "      <td>['blue', 'green', 'red', 'nir', 'ndvi', 'evi',...</td>\n",
       "    </tr>\n",
       "    <tr>\n",
       "      <th>26</th>\n",
       "      <td>0.754539</td>\n",
       "      <td>['blue', 'green', 'red', 'nir', 'ndvi', 'evi',...</td>\n",
       "    </tr>\n",
       "    <tr>\n",
       "      <th>27</th>\n",
       "      <td>0.756586</td>\n",
       "      <td>['blue', 'green', 'red', 'nir', 'ndvi', 'evi',...</td>\n",
       "    </tr>\n",
       "    <tr>\n",
       "      <th>28</th>\n",
       "      <td>0.752919</td>\n",
       "      <td>['blue', 'green', 'red', 'nir', 'ndvi', 'msavi...</td>\n",
       "    </tr>\n",
       "    <tr>\n",
       "      <th>29</th>\n",
       "      <td>0.758173</td>\n",
       "      <td>['blue', 'green', 'red', 'nir', 'evi', 'msavi'...</td>\n",
       "    </tr>\n",
       "    <tr>\n",
       "      <th>30</th>\n",
       "      <td>0.760746</td>\n",
       "      <td>['blue', 'green', 'red', 'nir', 'ndvi', 'evi',...</td>\n",
       "    </tr>\n",
       "  </tbody>\n",
       "</table>\n",
       "</div>"
      ],
      "text/plain": [
       "          F1                                           features\n",
       "0   0.753211            ['blue', 'green', 'red', 'nir', 'ndvi']\n",
       "1   0.737168             ['blue', 'green', 'red', 'nir', 'evi']\n",
       "2   0.732458           ['blue', 'green', 'red', 'nir', 'msavi']\n",
       "3   0.740982            ['blue', 'green', 'red', 'nir', 'arvi']\n",
       "4   0.742042            ['blue', 'green', 'red', 'nir', 'grvi']\n",
       "5   0.738616     ['blue', 'green', 'red', 'nir', 'ndvi', 'evi']\n",
       "6   0.735867   ['blue', 'green', 'red', 'nir', 'ndvi', 'msavi']\n",
       "7   0.747654    ['blue', 'green', 'red', 'nir', 'ndvi', 'arvi']\n",
       "8   0.751569    ['blue', 'green', 'red', 'nir', 'ndvi', 'grvi']\n",
       "9   0.749819    ['blue', 'green', 'red', 'nir', 'evi', 'msavi']\n",
       "10  0.737218     ['blue', 'green', 'red', 'nir', 'evi', 'arvi']\n",
       "11  0.748652     ['blue', 'green', 'red', 'nir', 'evi', 'grvi']\n",
       "12  0.746605   ['blue', 'green', 'red', 'nir', 'msavi', 'arvi']\n",
       "13  0.747392   ['blue', 'green', 'red', 'nir', 'msavi', 'grvi']\n",
       "14  0.763326    ['blue', 'green', 'red', 'nir', 'arvi', 'grvi']\n",
       "15  0.736424  ['blue', 'green', 'red', 'nir', 'ndvi', 'evi',...\n",
       "16  0.746457  ['blue', 'green', 'red', 'nir', 'ndvi', 'evi',...\n",
       "17  0.759560  ['blue', 'green', 'red', 'nir', 'ndvi', 'evi',...\n",
       "18  0.746598  ['blue', 'green', 'red', 'nir', 'ndvi', 'msavi...\n",
       "19  0.741815  ['blue', 'green', 'red', 'nir', 'ndvi', 'msavi...\n",
       "20  0.760173  ['blue', 'green', 'red', 'nir', 'ndvi', 'arvi'...\n",
       "21  0.739854  ['blue', 'green', 'red', 'nir', 'evi', 'msavi'...\n",
       "22  0.753710  ['blue', 'green', 'red', 'nir', 'evi', 'msavi'...\n",
       "23  0.757633  ['blue', 'green', 'red', 'nir', 'evi', 'arvi',...\n",
       "24  0.761203  ['blue', 'green', 'red', 'nir', 'msavi', 'arvi...\n",
       "25  0.752371  ['blue', 'green', 'red', 'nir', 'ndvi', 'evi',...\n",
       "26  0.754539  ['blue', 'green', 'red', 'nir', 'ndvi', 'evi',...\n",
       "27  0.756586  ['blue', 'green', 'red', 'nir', 'ndvi', 'evi',...\n",
       "28  0.752919  ['blue', 'green', 'red', 'nir', 'ndvi', 'msavi...\n",
       "29  0.758173  ['blue', 'green', 'red', 'nir', 'evi', 'msavi'...\n",
       "30  0.760746  ['blue', 'green', 'red', 'nir', 'ndvi', 'evi',..."
      ]
     },
     "execution_count": 43,
     "metadata": {},
     "output_type": "execute_result"
    }
   ],
   "source": [
    "# get F1 scores for different VI combos\n",
    "\n",
    "models = get_models(exp_vars)\n",
    "\n",
    "F1_allyear = pd.DataFrame(columns=['F1', 'features'])\n",
    "F1 = []\n",
    "features = []\n",
    "\n",
    "for name, model in models.items():\n",
    "        X,y = data_prep(data_all,ast.literal_eval(name),sev,2024,16)\n",
    "        scores = evaluate_model(model, X, y,'f1')\n",
    "        F1.append(np.mean(scores))\n",
    "        features.append(name)\n",
    "F1_allyear['F1']=F1\n",
    "F1_allyear['features']=features\n",
    "\n",
    "F1_allyear"
   ]
  },
  {
   "cell_type": "code",
   "execution_count": 44,
   "id": "53bb557a",
   "metadata": {},
   "outputs": [
    {
     "name": "stdout",
     "output_type": "stream",
     "text": [
      "Best feature combo for all-year: ['blue', 'green', 'red', 'nir', 'arvi', 'grvi']\n"
     ]
    }
   ],
   "source": [
    "# find VI combo that maximizes F1\n",
    "\n",
    "combo_all = F1_allyear.iloc[F1_allyear['F1'].idxmax()]['features']\n",
    "print(\"Best feature combo for all-year:\", combo_all)"
   ]
  },
  {
   "cell_type": "code",
   "execution_count": 45,
   "id": "8889c2e9",
   "metadata": {},
   "outputs": [],
   "source": [
    "X_train, y_train, X_test, y_test = bal_split_norm(data_all,\n",
    "                                                  ast.literal_eval(combo_all), #convert string to list\n",
    "                                                 sev,\n",
    "                                                 2020,\n",
    "                                                 14)"
   ]
  },
  {
   "cell_type": "code",
   "execution_count": 46,
   "id": "2ba9e4da",
   "metadata": {},
   "outputs": [],
   "source": [
    "# Create dictionary of parameters to test with randomizedCV\n",
    "\n",
    "from sklearn.model_selection import RandomizedSearchCV\n",
    "\n",
    "n_estimators = [int(x) for x in np.linspace(start = 100, stop = 1000,\n",
    "num = 10)]\n",
    "max_features = ['log2', 'sqrt']\n",
    "max_depth = [int(x) for x in np.linspace(start = 1, stop = 15, num =\n",
    "15)]\n",
    "min_samples_split = [int(x) for x in np.linspace(start = 2, stop = 50,\n",
    "num = 10)]\n",
    "min_samples_leaf = [int(x) for x in np.linspace(start = 1, stop = 50,\n",
    "num = 5)]\n",
    "bootstrap = [True, False]\n",
    "param_dist = {'n_estimators': n_estimators,\n",
    "'max_features': max_features,\n",
    "'max_depth': max_depth,\n",
    "'min_samples_split': min_samples_split,\n",
    "'min_samples_leaf': min_samples_leaf,\n",
    "'bootstrap': bootstrap}"
   ]
  },
  {
   "cell_type": "code",
   "execution_count": 47,
   "id": "b7e3fc3e",
   "metadata": {},
   "outputs": [
    {
     "name": "stdout",
     "output_type": "stream",
     "text": [
      "Fitting 3 folds for each of 100 candidates, totalling 300 fits\n"
     ]
    },
    {
     "data": {
      "text/plain": [
       "{'n_estimators': 700,\n",
       " 'min_samples_split': 2,\n",
       " 'min_samples_leaf': 1,\n",
       " 'max_features': 'log2',\n",
       " 'max_depth': 6,\n",
       " 'bootstrap': False}"
      ]
     },
     "execution_count": 47,
     "metadata": {},
     "output_type": "execute_result"
    }
   ],
   "source": [
    "rfc = RandomForestClassifier()\n",
    "rs = RandomizedSearchCV(rfc,\n",
    "param_dist,\n",
    "n_iter = 100,\n",
    "scoring = 'f1',\n",
    "cv = 3,\n",
    "verbose = 1,\n",
    "n_jobs=-1,\n",
    "random_state=0)\n",
    "\n",
    "rs.fit(X_train, y_train)\n",
    "rs.best_params_"
   ]
  },
  {
   "cell_type": "code",
   "execution_count": 48,
   "id": "0d5047ed",
   "metadata": {},
   "outputs": [
    {
     "data": {
      "text/html": [
       "<div>\n",
       "<style scoped>\n",
       "    .dataframe tbody tr th:only-of-type {\n",
       "        vertical-align: middle;\n",
       "    }\n",
       "\n",
       "    .dataframe tbody tr th {\n",
       "        vertical-align: top;\n",
       "    }\n",
       "\n",
       "    .dataframe thead th {\n",
       "        text-align: right;\n",
       "    }\n",
       "</style>\n",
       "<table border=\"1\" class=\"dataframe\">\n",
       "  <thead>\n",
       "    <tr style=\"text-align: right;\">\n",
       "      <th></th>\n",
       "      <th>param_n_estimators</th>\n",
       "      <th>param_min_samples_split</th>\n",
       "      <th>param_min_samples_leaf</th>\n",
       "      <th>param_max_features</th>\n",
       "      <th>param_max_depth</th>\n",
       "      <th>param_bootstrap</th>\n",
       "      <th>mean_test_score</th>\n",
       "      <th>rank_test_score</th>\n",
       "    </tr>\n",
       "  </thead>\n",
       "  <tbody>\n",
       "    <tr>\n",
       "      <th>0</th>\n",
       "      <td>700</td>\n",
       "      <td>2</td>\n",
       "      <td>1</td>\n",
       "      <td>log2</td>\n",
       "      <td>6</td>\n",
       "      <td>False</td>\n",
       "      <td>0.773312</td>\n",
       "      <td>1</td>\n",
       "    </tr>\n",
       "    <tr>\n",
       "      <th>1</th>\n",
       "      <td>600</td>\n",
       "      <td>12</td>\n",
       "      <td>1</td>\n",
       "      <td>log2</td>\n",
       "      <td>4</td>\n",
       "      <td>False</td>\n",
       "      <td>0.765517</td>\n",
       "      <td>2</td>\n",
       "    </tr>\n",
       "    <tr>\n",
       "      <th>2</th>\n",
       "      <td>300</td>\n",
       "      <td>18</td>\n",
       "      <td>1</td>\n",
       "      <td>sqrt</td>\n",
       "      <td>12</td>\n",
       "      <td>False</td>\n",
       "      <td>0.760926</td>\n",
       "      <td>3</td>\n",
       "    </tr>\n",
       "    <tr>\n",
       "      <th>3</th>\n",
       "      <td>300</td>\n",
       "      <td>12</td>\n",
       "      <td>1</td>\n",
       "      <td>log2</td>\n",
       "      <td>13</td>\n",
       "      <td>False</td>\n",
       "      <td>0.757778</td>\n",
       "      <td>4</td>\n",
       "    </tr>\n",
       "    <tr>\n",
       "      <th>4</th>\n",
       "      <td>400</td>\n",
       "      <td>23</td>\n",
       "      <td>1</td>\n",
       "      <td>log2</td>\n",
       "      <td>5</td>\n",
       "      <td>False</td>\n",
       "      <td>0.751871</td>\n",
       "      <td>5</td>\n",
       "    </tr>\n",
       "    <tr>\n",
       "      <th>5</th>\n",
       "      <td>200</td>\n",
       "      <td>12</td>\n",
       "      <td>1</td>\n",
       "      <td>log2</td>\n",
       "      <td>7</td>\n",
       "      <td>True</td>\n",
       "      <td>0.741107</td>\n",
       "      <td>6</td>\n",
       "    </tr>\n",
       "    <tr>\n",
       "      <th>6</th>\n",
       "      <td>700</td>\n",
       "      <td>18</td>\n",
       "      <td>1</td>\n",
       "      <td>log2</td>\n",
       "      <td>7</td>\n",
       "      <td>True</td>\n",
       "      <td>0.726902</td>\n",
       "      <td>7</td>\n",
       "    </tr>\n",
       "    <tr>\n",
       "      <th>7</th>\n",
       "      <td>400</td>\n",
       "      <td>23</td>\n",
       "      <td>1</td>\n",
       "      <td>log2</td>\n",
       "      <td>3</td>\n",
       "      <td>False</td>\n",
       "      <td>0.724014</td>\n",
       "      <td>8</td>\n",
       "    </tr>\n",
       "    <tr>\n",
       "      <th>8</th>\n",
       "      <td>1000</td>\n",
       "      <td>50</td>\n",
       "      <td>1</td>\n",
       "      <td>sqrt</td>\n",
       "      <td>8</td>\n",
       "      <td>True</td>\n",
       "      <td>0.723974</td>\n",
       "      <td>9</td>\n",
       "    </tr>\n",
       "    <tr>\n",
       "      <th>9</th>\n",
       "      <td>700</td>\n",
       "      <td>28</td>\n",
       "      <td>1</td>\n",
       "      <td>sqrt</td>\n",
       "      <td>8</td>\n",
       "      <td>False</td>\n",
       "      <td>0.720082</td>\n",
       "      <td>10</td>\n",
       "    </tr>\n",
       "  </tbody>\n",
       "</table>\n",
       "</div>"
      ],
      "text/plain": [
       "  param_n_estimators param_min_samples_split param_min_samples_leaf  \\\n",
       "0                700                       2                      1   \n",
       "1                600                      12                      1   \n",
       "2                300                      18                      1   \n",
       "3                300                      12                      1   \n",
       "4                400                      23                      1   \n",
       "5                200                      12                      1   \n",
       "6                700                      18                      1   \n",
       "7                400                      23                      1   \n",
       "8               1000                      50                      1   \n",
       "9                700                      28                      1   \n",
       "\n",
       "  param_max_features param_max_depth param_bootstrap  mean_test_score  \\\n",
       "0               log2               6           False         0.773312   \n",
       "1               log2               4           False         0.765517   \n",
       "2               sqrt              12           False         0.760926   \n",
       "3               log2              13           False         0.757778   \n",
       "4               log2               5           False         0.751871   \n",
       "5               log2               7            True         0.741107   \n",
       "6               log2               7            True         0.726902   \n",
       "7               log2               3           False         0.724014   \n",
       "8               sqrt               8            True         0.723974   \n",
       "9               sqrt               8           False         0.720082   \n",
       "\n",
       "   rank_test_score  \n",
       "0                1  \n",
       "1                2  \n",
       "2                3  \n",
       "3                4  \n",
       "4                5  \n",
       "5                6  \n",
       "6                7  \n",
       "7                8  \n",
       "8                9  \n",
       "9               10  "
      ]
     },
     "execution_count": 48,
     "metadata": {},
     "output_type": "execute_result"
    }
   ],
   "source": [
    "rs_df = pd.DataFrame(rs.cv_results_).sort_values('rank_test_score').reset_index(drop=True)\n",
    "rs_df = rs_df.drop([\n",
    "'mean_fit_time',\n",
    "'std_fit_time',\n",
    "'mean_score_time',\n",
    "'std_score_time',\n",
    "'params',\n",
    "'split0_test_score',\n",
    "'split1_test_score',\n",
    "'split2_test_score',\n",
    "'std_test_score'],\n",
    "axis=1)\n",
    "\n",
    "rs_df.head(10)"
   ]
  },
  {
   "cell_type": "code",
   "execution_count": 49,
   "id": "c8da4a2f",
   "metadata": {},
   "outputs": [
    {
     "name": "stdout",
     "output_type": "stream",
     "text": [
      "Fitting 3 folds for each of 320 candidates, totalling 960 fits\n"
     ]
    },
    {
     "data": {
      "text/plain": [
       "{'bootstrap': False,\n",
       " 'max_depth': 13,\n",
       " 'max_features': 'sqrt',\n",
       " 'min_samples_leaf': 1,\n",
       " 'min_samples_split': 18,\n",
       " 'n_estimators': 100}"
      ]
     },
     "execution_count": 49,
     "metadata": {},
     "output_type": "execute_result"
    }
   ],
   "source": [
    "from sklearn.model_selection import GridSearchCV\n",
    "n_estimators = [100,300,600,700]\n",
    "max_features = ['sqrt','log2']\n",
    "max_depth = [3,4,6,12,13]\n",
    "min_samples_split = [2,12,18,23]\n",
    "min_samples_leaf = [1]\n",
    "bootstrap = [True,False]\n",
    "\n",
    "param_grid = {'n_estimators': n_estimators,\n",
    "'max_features': max_features,\n",
    "'max_depth': max_depth,\n",
    "'min_samples_split': min_samples_split,\n",
    "'min_samples_leaf': min_samples_leaf,\n",
    "'bootstrap': bootstrap}\n",
    "\n",
    "gs = GridSearchCV(rfc, param_grid, cv = 3, verbose = 1, n_jobs=-1)\n",
    "gs.fit(X_train, y_train)\n",
    "rfc_2 = gs.best_estimator_\n",
    "gs.best_params_"
   ]
  },
  {
   "cell_type": "code",
   "execution_count": 50,
   "id": "57eb87ef",
   "metadata": {},
   "outputs": [],
   "source": [
    "y_pred_gs = rfc_2.predict(X_test)"
   ]
  },
  {
   "cell_type": "code",
   "execution_count": 52,
   "id": "4a154f06",
   "metadata": {},
   "outputs": [
    {
     "name": "stdout",
     "output_type": "stream",
     "text": [
      "[[36 11]\n",
      " [18 30]]\n",
      "              precision    recall  f1-score   support\n",
      "\n",
      "           0       0.67      0.77      0.71        47\n",
      "           1       0.73      0.62      0.67        48\n",
      "\n",
      "    accuracy                           0.69        95\n",
      "   macro avg       0.70      0.70      0.69        95\n",
      "weighted avg       0.70      0.69      0.69        95\n",
      "\n"
     ]
    },
    {
     "data": {
      "image/png": "[encoded data removed]",
      "text/plain": [
       "<Figure size 640x480 with 2 Axes>"
      ]
     },
     "metadata": {},
     "output_type": "display_data"
    }
   ],
   "source": [
    "from sklearn.metrics import confusion_matrix                            \n",
    "\n",
    "\n",
    "cf_matrix = confusion_matrix(y_test, y_pred_gs)\n",
    "print(cf_matrix)\n",
    "\n",
    "sns.set(font_scale=1)\n",
    "sns.heatmap(cf_matrix, annot=True, fmt='.3g',\n",
    "           vmin=0, vmax=48, center= 0,\n",
    "           cmap= 'coolwarm', linewidths=2, linecolor='black',\n",
    "           xticklabels=['low','high'],\n",
    "           yticklabels=['low','high']).set(title='Predicted vs. True GDM severity, SkySat 2020-22 (SB+VI)');\n",
    "\n",
    "plt.ylabel('True')\n",
    "plt.xlabel('Predicted')\n",
    "plt.tight_layout()\n",
    "\n",
    "plt.savefig('/Users/kathleenkanaley/Desktop/figs_phytopath_rev/corr_matrices_RF/SkySat/SB+VI/Sev_all.jpg')\n",
    "report = classification_report(y_test, y_pred_gs)\n",
    "\n",
    "print(report)\n",
    "# conf_matrix_tuned = pd.DataFrame(confusion_matrix(y_test, y_pred_gs),\n",
    "#         index = [np.unique(y_pred)[0],np.unique(y_pred)[1]], columns = [np.unique(y_pred)[0],np.unique(y_pred)[1]])\n",
    "                                                         \n",
    "# display(conf_matrix_tuned)\n",
    "# display('Hyperparameter Tuned Random Forest accuracy score', accuracy_score(y_test, y_pred_gs))"
   ]
  },
  {
   "cell_type": "code",
   "execution_count": 53,
   "id": "2bc253a4",
   "metadata": {},
   "outputs": [
    {
     "data": {
      "image/png": "[encoded data removed]",
      "text/plain": [
       "<Figure size 640x480 with 1 Axes>"
      ]
     },
     "metadata": {},
     "output_type": "display_data"
    }
   ],
   "source": [
    "from sklearn.inspection import permutation_importance\n",
    "\n",
    "result = permutation_importance(\n",
    "    rfc_2, X_test, y_test, n_repeats=10, random_state=16, n_jobs=2\n",
    ")\n",
    "\n",
    "sorted_importances_idx = result.importances_mean.argsort()\n",
    "\n",
    "importances = pd.DataFrame(\n",
    "    result.importances[sorted_importances_idx].T,\n",
    "    columns=data_all[ast.literal_eval(combo_all)].columns[sorted_importances_idx],\n",
    ")\n",
    "ax = importances.plot.box(vert=False, whis=10)\n",
    "ax.set_title(\"Permutation Importances (test set)\",fontname=\"Arial\", fontsize=16)\n",
    "#ax.axvline(x=0, color=\"k\", linestyle=\"--\")\n",
    "ax.set_xlabel(\"Decrease in accuracy score\",fontname=\"Arial\", fontsize = 16)\n",
    "ax.set_ylabel(\"Features\",fontname=\"Arial\", fontsize = 16)\n",
    "\n",
    "ax.figure.tight_layout()\n",
    "plt.savefig('/Users/kathleenkanaley/Desktop/figs_phytopath_rev/permimp_RF/SkySat/SB+VI/permimp_sevall.jpg')"
   ]
  },
  {
   "cell_type": "code",
   "execution_count": null,
   "id": "39629a38",
   "metadata": {},
   "outputs": [],
   "source": []
  }
 ],
 "metadata": {
  "kernelspec": {
   "display_name": "Python 3 (ipykernel)",
   "language": "python",
   "name": "python3"
  },
  "language_info": {
   "codemirror_mode": {
    "name": "ipython",
    "version": 3
   },
   "file_extension": ".py",
   "mimetype": "text/x-python",
   "name": "python",
   "nbconvert_exporter": "python",
   "pygments_lexer": "ipython3",
   "version": "3.10.6"
  }
 },
 "nbformat": 4,
 "nbformat_minor": 5
}
