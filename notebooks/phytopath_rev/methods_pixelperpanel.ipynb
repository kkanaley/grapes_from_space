{
 "cells": [
  {
   "cell_type": "code",
   "execution_count": 1,
   "id": "66ad08f1",
   "metadata": {},
   "outputs": [],
   "source": [
    "import os\n",
    "import glob\n",
    "import rasterio as rio\n",
    "from rasterio.mask import raster_geometry_mask\n",
    "from rasterio import plot\n",
    "import numpy as np\n",
    "import pandas as pd\n",
    "import matplotlib.pyplot as plt\n",
    "import json\n",
    "import pyproj\n",
    "from shapely.geometry import shape, MultiPolygon\n",
    "from shapely.ops import transform"
   ]
  },
  {
   "cell_type": "code",
   "execution_count": 2,
   "id": "22051b5b",
   "metadata": {},
   "outputs": [],
   "source": [
    "# Get panel masks\n",
    "\n",
    "def get_panel_masks(geojson_path, ref_img_path):\n",
    "    '''This function generates a mask that leaves only pixels inside \n",
    "    vine panels unmasked. \n",
    "    \n",
    "    Inputs:\n",
    "    geojson_path (str): path to a geojson file with the panel geometries. \n",
    "    Must be in same CRS as image, otherwise un-comment code section starting with \"dst_crs\".\n",
    "    ref_img_path (str): path to the .tif file for the image\n",
    "    \n",
    "    Outputs:\n",
    "    A list of masks, as Boolean arrays. True values are masked pixels.\n",
    "    False values are unmasked pixels.\n",
    "    '''\n",
    "    with open(geojson_path, 'r') as f:\n",
    "        panels = json.load(f)\n",
    "        features = panels['features']\n",
    "        features_ordered = sorted(features, key= lambda feature:(feature['properties']['row'],feature['properties']['panel'])) # ground truth order.\n",
    "        panel_aois = [f['geometry'] for f in features_ordered]\n",
    "    \n",
    "    with rio.open(ref_img_path) as src:\n",
    "        dst_crs = src.crs\n",
    "        \n",
    "        # geojson features (the field block geometries)\n",
    "        # are often in WGS84\n",
    "        # project these to the image coordinates\n",
    "        wgs84 = pyproj.CRS('EPSG:4326')\n",
    "\n",
    "        project = pyproj.Transformer.from_crs(wgs84, dst_crs, always_xy=True).transform\n",
    "        proj_panel_aois = [transform(project, shape(p)) for p in panel_aois]\n",
    "\n",
    "        masks = [raster_geometry_mask(src, [p], crop=False)[0]\n",
    "                 for p in proj_panel_aois]                       \n",
    "    return masks\n"
   ]
  },
  {
   "cell_type": "code",
   "execution_count": 5,
   "id": "a9fe12ea",
   "metadata": {},
   "outputs": [
    {
     "data": {
      "text/plain": [
       "['/Users/kathleenkanaley/Desktop/grapes_from_space/data/images/2021/SkySat/smr_vis_2021/SMR_allVIs_20210707_150122_ssc19d2_0016_ar_clipped.tif',\n",
       " '/Users/kathleenkanaley/Desktop/grapes_from_space/data/images/2021/SkySat/smr_vis_2021/SMR_allVIs_20210726_160338_ssc1d2_0013_ar_clipped.tif',\n",
       " '/Users/kathleenkanaley/Desktop/grapes_from_space/data/images/2021/SkySat/smr_vis_2021/SMR_allVIs_20210802_184019_ssc10d2_0005_ar_clipped.tif',\n",
       " '/Users/kathleenkanaley/Desktop/grapes_from_space/data/images/2021/SkySat/smr_vis_2021/SMR_allVIs_20210809_185329_ssc9d2_0014_ar_clipped.tif',\n",
       " '/Users/kathleenkanaley/Desktop/grapes_from_space/data/images/2021/SkySat/smr_vis_2021/SMR_allVIs_20210816_171007_ssc18d2_0015_ar_clipped.tif']"
      ]
     },
     "execution_count": 5,
     "metadata": {},
     "output_type": "execute_result"
    }
   ],
   "source": [
    "# image directory containing co-registered SkySat scenes \n",
    "\n",
    "img_dir = '/Users/kathleenkanaley/Desktop/grapes_from_space/data/images/2021/SkySat/smr_vis_2021/'\n",
    "\n",
    "# image pathnames\n",
    "img_paths = glob.glob(img_dir+'*.tif')\n",
    "\n",
    "# geojson with panel geometries\n",
    "\n",
    "json_path = \"/Users/kathleenkanaley/Desktop/grapes_from_space/data/crit_panels_geojson.geojson\"\n",
    "#json_path\n",
    "img_paths"
   ]
  },
  {
   "cell_type": "code",
   "execution_count": 6,
   "id": "86f32a08",
   "metadata": {},
   "outputs": [
    {
     "data": {
      "text/plain": [
       "(184, 243)"
      ]
     },
     "execution_count": 6,
     "metadata": {},
     "output_type": "execute_result"
    }
   ],
   "source": [
    "panel_masks = get_panel_masks(json_path, img_paths[0])\n",
    "\n",
    "panel_masks[0].shape"
   ]
  },
  {
   "cell_type": "code",
   "execution_count": 7,
   "id": "665f40dc",
   "metadata": {},
   "outputs": [
    {
     "data": {
      "text/plain": [
       "array([[ True,  True,  True, ...,  True,  True,  True],\n",
       "       [ True,  True,  True, ...,  True,  True,  True],\n",
       "       [ True,  True,  True, ...,  True,  True,  True],\n",
       "       ...,\n",
       "       [ True,  True,  True, ...,  True,  True,  True],\n",
       "       [ True,  True,  True, ...,  True,  True,  True],\n",
       "       [ True,  True,  True, ...,  True,  True,  True]])"
      ]
     },
     "execution_count": 7,
     "metadata": {},
     "output_type": "execute_result"
    }
   ],
   "source": [
    "panel_masks[0]"
   ]
  },
  {
   "cell_type": "code",
   "execution_count": 11,
   "id": "2cecb566",
   "metadata": {},
   "outputs": [
    {
     "data": {
      "text/plain": [
       "31"
      ]
     },
     "execution_count": 11,
     "metadata": {},
     "output_type": "execute_result"
    }
   ],
   "source": [
    "np.size(panel_masks[0]) - np.count_nonzero(panel_masks[0])"
   ]
  },
  {
   "cell_type": "code",
   "execution_count": 17,
   "id": "99ca9055",
   "metadata": {},
   "outputs": [
    {
     "name": "stdout",
     "output_type": "stream",
     "text": [
      "There are, on average, 29.590625 pixels per panel\n"
     ]
    }
   ],
   "source": [
    "pix_counts = []\n",
    "for m in panel_masks:\n",
    "    panel_pix = np.size(m) - np.count_nonzero(m)\n",
    "    pix_counts.append(panel_pix)\n",
    "\n",
    "print(\"There are, on average,\", np.mean(pix_counts),\"pixels per panel.\")\n"
   ]
  },
  {
   "cell_type": "code",
   "execution_count": 19,
   "id": "52f0b9e0",
   "metadata": {},
   "outputs": [
    {
     "name": "stdout",
     "output_type": "stream",
     "text": [
      "The smallest panel has 26 pixels.\n",
      "The largest panel has 36 pixels.\n"
     ]
    }
   ],
   "source": [
    "print(\"The smallest panel has\", np.min(pix_counts), \"pixels.\")\n",
    "print(\"The largest panel has\", np.max(pix_counts), \"pixels.\")\n"
   ]
  },
  {
   "cell_type": "code",
   "execution_count": null,
   "id": "7119e601",
   "metadata": {},
   "outputs": [],
   "source": []
  }
 ],
 "metadata": {
  "kernelspec": {
   "display_name": "Python 3 (ipykernel)",
   "language": "python",
   "name": "python3"
  },
  "language_info": {
   "codemirror_mode": {
    "name": "ipython",
    "version": 3
   },
   "file_extension": ".py",
   "mimetype": "text/x-python",
   "name": "python",
   "nbconvert_exporter": "python",
   "pygments_lexer": "ipython3",
   "version": "3.10.6"
  }
 },
 "nbformat": 4,
 "nbformat_minor": 5
}
