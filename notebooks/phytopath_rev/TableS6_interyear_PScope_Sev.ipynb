{
 "cells": [
  {
   "cell_type": "code",
   "execution_count": 1,
   "id": "19fedb74",
   "metadata": {},
   "outputs": [],
   "source": [
    "import glob\n",
    "import os\n",
    "import matplotlib.pyplot as plt\n",
    "import pandas as pd\n",
    "import numpy as np\n",
    "import seaborn as sns\n",
    "import rasterio as rio\n",
    "\n",
    "import sklearn\n",
    "from sklearn.preprocessing import MinMaxScaler\n",
    "from sklearn.model_selection import train_test_split\n",
    "from sklearn.ensemble import RandomForestClassifier\n",
    "from sklearn.model_selection import cross_val_score\n",
    "from sklearn.model_selection import RepeatedStratifiedKFold\n",
    "from sklearn.metrics import classification_report \n",
    "from sklearn.metrics import accuracy_score\n",
    "from sklearn.metrics import precision_recall_fscore_support\n",
    "from sklearn.metrics import roc_auc_score\n",
    "from sklearn.metrics import confusion_matrix\n",
    "\n",
    "import imblearn as imb\n",
    "from imblearn.under_sampling import RandomUnderSampler\n",
    "\n",
    "import scipy\n",
    "import itertools\n",
    "import random\n",
    "import ast"
   ]
  },
  {
   "cell_type": "markdown",
   "id": "a010eab2",
   "metadata": {},
   "source": [
    "## Data prep"
   ]
  },
  {
   "cell_type": "code",
   "execution_count": 2,
   "id": "0510f78a",
   "metadata": {},
   "outputs": [],
   "source": [
    "def img_to_df(img_path, cols):\n",
    "    with rio.open(img_path) as src:\n",
    "        as_array = src.read()\n",
    "        band_arrs = []\n",
    "        \n",
    "        for i in np.arange(src.count):\n",
    "            band_arr = as_array[i].flatten()\n",
    "            band_arr = band_arr/10000\n",
    "            \n",
    "            band_arrs.append(band_arr)\n",
    "        \n",
    "        df = pd.DataFrame(band_arrs,cols).T\n",
    "        df['Date'] = img_path.split('/')[-1].split('_')[0]\n",
    "        \n",
    "        # Optional: drops entries with no severity rating. Comment out if unnecessary.\n",
    "#         df = df.dropna(subset=['total_dis_sev']) \n",
    "        \n",
    "        return df"
   ]
  },
  {
   "cell_type": "code",
   "execution_count": 3,
   "id": "ea08a792",
   "metadata": {},
   "outputs": [],
   "source": [
    "# def add_vis(df):\n",
    "#     df['pri']= (df['green']- df['greenI'])/(df['green']+df['greenI'])\n",
    "#     df['ndre'] = (df['nir'] - df['rede']) / (df['nir'] + df['rede'])\n",
    "#     df['tcari'] = 3 * (( (df['rede'] - df['red']) - 0.2 * (df['rede'] - df['green']) ) * (df['rede'] / df['red']))\n",
    "#     df['ndvi']= (df['nir']-df['red'])/(df['nir']+df['red'])\n",
    "#     df['evi']= 2.5*(df['nir']-df['red'])/(df['nir']+6*df['red']-7.5*df['blue']+1)\n",
    "#     df['savi']= 1.5*(df['nir']-df['red'])/(df['nir']+df['red']+0.5)\n",
    "#     df['arvi']=(df['nir']-(2*df['red']-df['blue']))/(df['nir']+(2*df['red']-df['blue']))\n",
    "#     df['grvi'] = (df['green']-df['red'])/(df['green']+df['red'])\n",
    "\n",
    "#     return df"
   ]
  },
  {
   "cell_type": "code",
   "execution_count": 4,
   "id": "196fe5df",
   "metadata": {},
   "outputs": [],
   "source": [
    "data_dir = '/Users/kathleenkanaley/Desktop/grapes_from_space/data/'\n",
    "dis_ras_20 = glob.glob(data_dir +'images/2020/PScope/dis_band_*/20*.tif')\n",
    "dis_ras_21 = glob.glob(data_dir +'images/2021/PScope/dis_band_*/20*.tif')\n",
    "dis_ras_22 = glob.glob(data_dir +'images/2022/PScope/dis_band_*/20*.tif')"
   ]
  },
  {
   "cell_type": "code",
   "execution_count": 5,
   "id": "46d77696",
   "metadata": {},
   "outputs": [],
   "source": [
    "# Get dataframes for all years\n",
    "def data_prep_ps(rasters, cols):\n",
    "    dfs = [img_to_df(rasters[i], cols) for i in np.arange(len(rasters))]\n",
    "    df = pd.concat(dfs)\n",
    "    df['total_dis_sev'] = df['total_dis_sev']*10000\n",
    "    df['dm_sev'] = df['dm_sev']*10000\n",
    "    df['dm_inc'] = df['dm_inc']*10000\n",
    "    df['inc_class'] = 0\n",
    "    df.loc[df['dm_inc']>25,'inc_class']= 1\n",
    "    df['severity_class'] = 0\n",
    "    df.loc[df['dm_sev']>10,'severity_class']= 1\n",
    "    #df = add_vis(df)\n",
    "    return df \n",
    "    \n",
    "    \n",
    "# dfs_2020 = [img_to_df(dis_ras_20[i], cols) for i in np.arange(len(dis_ras_20))]\n",
    "# df_2020 = pd.concat(dfs_2020)\n",
    "\n",
    "# df_2020['total_dis_sev'] = df_2020['total_dis_sev']*10000\n",
    "# df_2020['dm_sev'] = df_2020['dm_sev']*10000\n",
    "# df_2020['dm_inc'] = df_2020['dm_inc']*10000\n",
    "\n",
    "# df_2020['inc_class'] = 'low'\n",
    "# df_2020.loc[df_2020['dm_inc']>25,'inc_class']= 'high'\n",
    "    \n",
    "# df_2020['severity_class'] = 'low'\n",
    "# df_2020.loc[df_2020['dm_sev']>10,'severity_class']= 'high'\n",
    "\n",
    "# vis_2020 = add_vis(df_2020)\n",
    "\n",
    "# vis_2020.columns"
   ]
  },
  {
   "cell_type": "code",
   "execution_count": 6,
   "id": "9eb56d0f",
   "metadata": {},
   "outputs": [
    {
     "data": {
      "text/plain": [
       "3"
      ]
     },
     "execution_count": 6,
     "metadata": {},
     "output_type": "execute_result"
    }
   ],
   "source": [
    "cols = ['c_blue','blue','greenI', 'green', 'yellow', 'red', 'rede', 'nir','total_dis_sev','dm_sev', 'dm_inc']\n",
    "ps_dfs = []\n",
    "\n",
    "for ras in [dis_ras_20, dis_ras_21, dis_ras_22]:\n",
    "    ps_df = data_prep_ps(ras,cols)\n",
    "    ps_dfs.append(ps_df)\n",
    "    \n",
    "len(ps_dfs)"
   ]
  },
  {
   "cell_type": "code",
   "execution_count": 7,
   "id": "b29281b0",
   "metadata": {},
   "outputs": [
    {
     "data": {
      "text/plain": [
       "array(['20200801', '20200713', '20200616'], dtype=object)"
      ]
     },
     "execution_count": 7,
     "metadata": {},
     "output_type": "execute_result"
    }
   ],
   "source": [
    "ps_dfs[0].Date.unique()"
   ]
  },
  {
   "cell_type": "code",
   "execution_count": 8,
   "id": "728237aa",
   "metadata": {},
   "outputs": [
    {
     "data": {
      "text/plain": [
       "array(['20210808', '20210804', '20210726', '20210715'], dtype=object)"
      ]
     },
     "execution_count": 8,
     "metadata": {},
     "output_type": "execute_result"
    }
   ],
   "source": [
    "ps_dfs[1].Date.unique()"
   ]
  },
  {
   "cell_type": "code",
   "execution_count": 9,
   "id": "8540b139",
   "metadata": {},
   "outputs": [],
   "source": [
    "ps_dfs[1] = ps_dfs[1][ps_dfs[1].Date !='20210804']"
   ]
  },
  {
   "cell_type": "code",
   "execution_count": 10,
   "id": "42fcfb71",
   "metadata": {},
   "outputs": [
    {
     "data": {
      "text/plain": [
       "array(['20220726', '20220801', '20220828', '20220630', '20220704',\n",
       "       '20220624'], dtype=object)"
      ]
     },
     "execution_count": 10,
     "metadata": {},
     "output_type": "execute_result"
    }
   ],
   "source": [
    "ps_dfs[2].Date.unique()"
   ]
  },
  {
   "cell_type": "code",
   "execution_count": 11,
   "id": "bde91ce1",
   "metadata": {},
   "outputs": [],
   "source": [
    "ps_dfs[2] = ps_dfs[2][ps_dfs[2].Date!='20220828']"
   ]
  },
  {
   "cell_type": "code",
   "execution_count": 12,
   "id": "ab8bfec3",
   "metadata": {},
   "outputs": [
    {
     "name": "stdout",
     "output_type": "stream",
     "text": [
      "20220726\n",
      "20220801\n",
      "20220630\n",
      "20220704\n",
      "20220624\n"
     ]
    }
   ],
   "source": [
    "for date in (ps_dfs[2].Date.unique()):\n",
    "    print(date)"
   ]
  },
  {
   "cell_type": "code",
   "execution_count": 13,
   "id": "f140b46f",
   "metadata": {},
   "outputs": [
    {
     "data": {
      "text/plain": [
       "Index(['c_blue', 'blue', 'greenI', 'green', 'yellow', 'red', 'rede', 'nir',\n",
       "       'total_dis_sev', 'dm_sev', 'dm_inc', 'Date', 'inc_class',\n",
       "       'severity_class'],\n",
       "      dtype='object')"
      ]
     },
     "execution_count": 13,
     "metadata": {},
     "output_type": "execute_result"
    }
   ],
   "source": [
    "ps_dfs[0].columns"
   ]
  },
  {
   "cell_type": "code",
   "execution_count": 14,
   "id": "20255400",
   "metadata": {},
   "outputs": [],
   "source": [
    "# set up variables\n",
    "data_2022 = ps_dfs[2]\n",
    "data_2021 = ps_dfs[1]\n",
    "data_2020 = ps_dfs[0]\n",
    "#data_all = pd.concat([data_2020,data_2021,data_2022])\n",
    "sev = 'severity_class'\n",
    "#inc = 'inc_class'\n",
    "sbs = ['c_blue', 'blue', 'greenI', 'green', 'yellow', 'red', 'rede', 'nir']\n",
    "# vis = ['pri', 'ndre', 'tcari', 'ndvi', 'evi', 'savi', 'arvi','grvi']"
   ]
  },
  {
   "cell_type": "code",
   "execution_count": 15,
   "id": "64e05782",
   "metadata": {},
   "outputs": [],
   "source": [
    "def data_prep(data, expl_vars, resp_var, state, seed):\n",
    "    X = data[expl_vars]\n",
    "    y = data[resp_var]\n",
    "\n",
    "    rus = RandomUnderSampler(random_state=state)\n",
    "    X_rus, y_rus = rus.fit_resample(X, y)\n",
    "\n",
    "    mm = MinMaxScaler()\n",
    "    X_scaled = mm.fit_transform(X_rus)\n",
    "    \n",
    "    return X_scaled, y_rus #features (scaled) and labels (unscaled)"
   ]
  },
  {
   "cell_type": "code",
   "execution_count": 16,
   "id": "9b9ee2c2",
   "metadata": {},
   "outputs": [],
   "source": [
    "# def bal_split_norm(data, expl_vars, resp_var, state, seed):\n",
    "#     X = data[expl_vars]\n",
    "#     y = data[resp_var]\n",
    "\n",
    "#     rus = RandomUnderSampler(random_state=state)\n",
    "#     X_rus, y_rus = rus.fit_resample(X, y)\n",
    "\n",
    "#     # Split dataset into training set and test set\n",
    "#     X_train, X_test, y_train, y_test = train_test_split(X_rus, y_rus,\n",
    "#                                                         test_size=0.3, \n",
    "#                                                         random_state=seed,\n",
    "#                                                         stratify = y_rus)  # 70% training and 30% test\n",
    "#     mm = MinMaxScaler()\n",
    "#     X_train_scaled = mm.fit_transform(X_train)\n",
    "#     X_test_scaled = mm.transform(X_test)\n",
    "    \n",
    "#     return X_train_scaled, y_train, X_test_scaled, y_test"
   ]
  },
  {
   "cell_type": "code",
   "execution_count": 17,
   "id": "b59ff0a9",
   "metadata": {},
   "outputs": [],
   "source": [
    "# training data\n",
    "\n",
    "Xtrain_2020,ytrain_2020 = data_prep(data_2020,sbs,sev,2020,14)\n",
    "\n",
    "\n",
    "Xtrain_2021,ytrain_2021 = data_prep(data_2021,sbs,sev,2021,14)\n",
    "\n",
    "\n",
    "Xtrain_2022,ytrain_2022 = data_prep(data_2022,sbs,sev,2022,14)"
   ]
  },
  {
   "cell_type": "code",
   "execution_count": 19,
   "id": "a1c8fa31",
   "metadata": {},
   "outputs": [],
   "source": [
    "# testing data\n",
    "\n",
    "mm=MinMaxScaler()\n",
    "\n",
    "Xtest_2020all = mm.fit_transform(data_2020[sbs])\n",
    "ytest_2020all = data_2020[sev].to_numpy().reshape(-1, 1)\n",
    "\n",
    "Xtest_2021all = mm.fit_transform(data_2021[sbs])\n",
    "ytest_2021all = data_2021[sev].to_numpy().reshape(-1, 1)\n",
    "\n",
    "Xtest_2022all = mm.fit_transform(data_2022[sbs])\n",
    "ytest_2022all = data_2022[sev].to_numpy().reshape(-1, 1)"
   ]
  },
  {
   "cell_type": "code",
   "execution_count": 22,
   "id": "2ad66f27",
   "metadata": {},
   "outputs": [],
   "source": [
    "# hyperparams\n",
    "\n",
    "hp_2020 = {'bootstrap': True,\n",
    " 'max_depth': 3,\n",
    " 'max_features': 'sqrt',\n",
    " 'min_samples_leaf': 1,\n",
    " 'min_samples_split': 2,\n",
    " 'n_estimators': 200}\n",
    "\n",
    "hp_2021 = {'bootstrap': True,\n",
    " 'max_depth': 7,\n",
    " 'max_features': 'log2',\n",
    " 'min_samples_leaf': 1,\n",
    " 'min_samples_split': 12,\n",
    " 'n_estimators': 100}\n",
    "\n",
    "hp_2022 = {'bootstrap': False,\n",
    " 'max_depth': 7,\n",
    " 'max_features': 'log2',\n",
    " 'min_samples_leaf': 37,\n",
    " 'min_samples_split': 23,\n",
    " 'n_estimators': 900}\n",
    "\n",
    "hp_all = {'bootstrap': False,\n",
    " 'max_depth': 8,\n",
    " 'max_features': 'sqrt',\n",
    " 'min_samples_leaf': 1,\n",
    " 'min_samples_split': 2,\n",
    " 'n_estimators': 700}"
   ]
  },
  {
   "cell_type": "code",
   "execution_count": 23,
   "id": "2c06dbc4",
   "metadata": {},
   "outputs": [],
   "source": [
    "# Create RF classifiers\n",
    "rfc_2020 = RandomForestClassifier().set_params(**hp_2020)\n",
    "rfc_2021 = RandomForestClassifier().set_params(**hp_2021)\n",
    "rfc_2022 = RandomForestClassifier().set_params(**hp_2022)"
   ]
  },
  {
   "cell_type": "code",
   "execution_count": 24,
   "id": "b98be9bd",
   "metadata": {},
   "outputs": [
    {
     "data": {
      "text/html": [
       "<style>#sk-container-id-1 {color: black;background-color: white;}#sk-container-id-1 pre{padding: 0;}#sk-container-id-1 div.sk-toggleable {background-color: white;}#sk-container-id-1 label.sk-toggleable__label {cursor: pointer;display: block;width: 100%;margin-bottom: 0;padding: 0.3em;box-sizing: border-box;text-align: center;}#sk-container-id-1 label.sk-toggleable__label-arrow:before {content: \"▸\";float: left;margin-right: 0.25em;color: #696969;}#sk-container-id-1 label.sk-toggleable__label-arrow:hover:before {color: black;}#sk-container-id-1 div.sk-estimator:hover label.sk-toggleable__label-arrow:before {color: black;}#sk-container-id-1 div.sk-toggleable__content {max-height: 0;max-width: 0;overflow: hidden;text-align: left;background-color: #f0f8ff;}#sk-container-id-1 div.sk-toggleable__content pre {margin: 0.2em;color: black;border-radius: 0.25em;background-color: #f0f8ff;}#sk-container-id-1 input.sk-toggleable__control:checked~div.sk-toggleable__content {max-height: 200px;max-width: 100%;overflow: auto;}#sk-container-id-1 input.sk-toggleable__control:checked~label.sk-toggleable__label-arrow:before {content: \"▾\";}#sk-container-id-1 div.sk-estimator input.sk-toggleable__control:checked~label.sk-toggleable__label {background-color: #d4ebff;}#sk-container-id-1 div.sk-label input.sk-toggleable__control:checked~label.sk-toggleable__label {background-color: #d4ebff;}#sk-container-id-1 input.sk-hidden--visually {border: 0;clip: rect(1px 1px 1px 1px);clip: rect(1px, 1px, 1px, 1px);height: 1px;margin: -1px;overflow: hidden;padding: 0;position: absolute;width: 1px;}#sk-container-id-1 div.sk-estimator {font-family: monospace;background-color: #f0f8ff;border: 1px dotted black;border-radius: 0.25em;box-sizing: border-box;margin-bottom: 0.5em;}#sk-container-id-1 div.sk-estimator:hover {background-color: #d4ebff;}#sk-container-id-1 div.sk-parallel-item::after {content: \"\";width: 100%;border-bottom: 1px solid gray;flex-grow: 1;}#sk-container-id-1 div.sk-label:hover label.sk-toggleable__label {background-color: #d4ebff;}#sk-container-id-1 div.sk-serial::before {content: \"\";position: absolute;border-left: 1px solid gray;box-sizing: border-box;top: 0;bottom: 0;left: 50%;z-index: 0;}#sk-container-id-1 div.sk-serial {display: flex;flex-direction: column;align-items: center;background-color: white;padding-right: 0.2em;padding-left: 0.2em;position: relative;}#sk-container-id-1 div.sk-item {position: relative;z-index: 1;}#sk-container-id-1 div.sk-parallel {display: flex;align-items: stretch;justify-content: center;background-color: white;position: relative;}#sk-container-id-1 div.sk-item::before, #sk-container-id-1 div.sk-parallel-item::before {content: \"\";position: absolute;border-left: 1px solid gray;box-sizing: border-box;top: 0;bottom: 0;left: 50%;z-index: -1;}#sk-container-id-1 div.sk-parallel-item {display: flex;flex-direction: column;z-index: 1;position: relative;background-color: white;}#sk-container-id-1 div.sk-parallel-item:first-child::after {align-self: flex-end;width: 50%;}#sk-container-id-1 div.sk-parallel-item:last-child::after {align-self: flex-start;width: 50%;}#sk-container-id-1 div.sk-parallel-item:only-child::after {width: 0;}#sk-container-id-1 div.sk-dashed-wrapped {border: 1px dashed gray;margin: 0 0.4em 0.5em 0.4em;box-sizing: border-box;padding-bottom: 0.4em;background-color: white;}#sk-container-id-1 div.sk-label label {font-family: monospace;font-weight: bold;display: inline-block;line-height: 1.2em;}#sk-container-id-1 div.sk-label-container {text-align: center;}#sk-container-id-1 div.sk-container {/* jupyter's `normalize.less` sets `[hidden] { display: none; }` but bootstrap.min.css set `[hidden] { display: none !important; }` so we also need the `!important` here to be able to override the default hidden behavior on the sphinx rendered scikit-learn.org. See: https://github.com/scikit-learn/scikit-learn/issues/21755 */display: inline-block !important;position: relative;}#sk-container-id-1 div.sk-text-repr-fallback {display: none;}</style><div id=\"sk-container-id-1\" class=\"sk-top-container\"><div class=\"sk-text-repr-fallback\"><pre>RandomForestClassifier(bootstrap=False, max_depth=7, max_features=&#x27;log2&#x27;,\n",
       "                       min_samples_leaf=37, min_samples_split=23,\n",
       "                       n_estimators=900)</pre><b>In a Jupyter environment, please rerun this cell to show the HTML representation or trust the notebook. <br />On GitHub, the HTML representation is unable to render, please try loading this page with nbviewer.org.</b></div><div class=\"sk-container\" hidden><div class=\"sk-item\"><div class=\"sk-estimator sk-toggleable\"><input class=\"sk-toggleable__control sk-hidden--visually\" id=\"sk-estimator-id-1\" type=\"checkbox\" checked><label for=\"sk-estimator-id-1\" class=\"sk-toggleable__label sk-toggleable__label-arrow\">RandomForestClassifier</label><div class=\"sk-toggleable__content\"><pre>RandomForestClassifier(bootstrap=False, max_depth=7, max_features=&#x27;log2&#x27;,\n",
       "                       min_samples_leaf=37, min_samples_split=23,\n",
       "                       n_estimators=900)</pre></div></div></div></div></div>"
      ],
      "text/plain": [
       "RandomForestClassifier(bootstrap=False, max_depth=7, max_features='log2',\n",
       "                       min_samples_leaf=37, min_samples_split=23,\n",
       "                       n_estimators=900)"
      ]
     },
     "execution_count": 24,
     "metadata": {},
     "output_type": "execute_result"
    }
   ],
   "source": [
    "# Fit RF classifiers\n",
    "rfc_2020.fit(Xtrain_2020, ytrain_2020)\n",
    "rfc_2021.fit(Xtrain_2021, ytrain_2021)\n",
    "rfc_2022.fit(Xtrain_2022, ytrain_2022)"
   ]
  },
  {
   "cell_type": "code",
   "execution_count": 25,
   "id": "fa821242",
   "metadata": {},
   "outputs": [
    {
     "name": "stdout",
     "output_type": "stream",
     "text": [
      "Classification metrics\n",
      " train = 2020, test=2021\n",
      "\n",
      "[[3759   29]\n",
      " [ 115    3]]\n",
      "              precision    recall  f1-score   support\n",
      "\n",
      "           0       0.97      0.99      0.98      3788\n",
      "           1       0.09      0.03      0.04       118\n",
      "\n",
      "    accuracy                           0.96      3906\n",
      "   macro avg       0.53      0.51      0.51      3906\n",
      "weighted avg       0.94      0.96      0.95      3906\n",
      "\n",
      "Classification metrics\n",
      " train = 2020, test=2022\n",
      "\n",
      "[[6315   31]\n",
      " [ 164    0]]\n",
      "              precision    recall  f1-score   support\n",
      "\n",
      "           0       0.97      1.00      0.98      6346\n",
      "           1       0.00      0.00      0.00       164\n",
      "\n",
      "    accuracy                           0.97      6510\n",
      "   macro avg       0.49      0.50      0.49      6510\n",
      "weighted avg       0.95      0.97      0.96      6510\n",
      "\n"
     ]
    }
   ],
   "source": [
    "# 2020 applied to 2021\n",
    "ypredict_20on21 = rfc_2020.predict(Xtest_2021all)\n",
    "cf_matrix = confusion_matrix(ytest_2021all, ypredict_20on21)\n",
    "print('Classification metrics\\n train = 2020, test=2021\\n')\n",
    "print(cf_matrix)\n",
    "report = classification_report(ytest_2021all, ypredict_20on21)\n",
    "print(report)\n",
    "\n",
    "# 2020 applied to 2022\n",
    "ypredict_20on22 = rfc_2020.predict(Xtest_2022all)\n",
    "cf_matrix = confusion_matrix(ytest_2022all, ypredict_20on22)\n",
    "print('Classification metrics\\n train = 2020, test=2022\\n')\n",
    "print(cf_matrix)\n",
    "report = classification_report(ytest_2022all, ypredict_20on22)\n",
    "print(report)"
   ]
  },
  {
   "cell_type": "code",
   "execution_count": 26,
   "id": "d966fe24",
   "metadata": {},
   "outputs": [
    {
     "name": "stdout",
     "output_type": "stream",
     "text": [
      "Classification metrics\n",
      " train = 2021, test=2020\n",
      "\n",
      "[[2668   18]\n",
      " [  20    0]]\n",
      "              precision    recall  f1-score   support\n",
      "\n",
      "           0       0.99      0.99      0.99      2686\n",
      "           1       0.00      0.00      0.00        20\n",
      "\n",
      "    accuracy                           0.99      2706\n",
      "   macro avg       0.50      0.50      0.50      2706\n",
      "weighted avg       0.99      0.99      0.99      2706\n",
      "\n",
      "Classification metrics\n",
      " train = 2021, test=2022\n",
      "\n",
      "[[6249   97]\n",
      " [ 164    0]]\n",
      "              precision    recall  f1-score   support\n",
      "\n",
      "           0       0.97      0.98      0.98      6346\n",
      "           1       0.00      0.00      0.00       164\n",
      "\n",
      "    accuracy                           0.96      6510\n",
      "   macro avg       0.49      0.49      0.49      6510\n",
      "weighted avg       0.95      0.96      0.95      6510\n",
      "\n"
     ]
    }
   ],
   "source": [
    "## 2021 applied to 2020\n",
    "ypredict_21on20 = rfc_2021.predict(Xtest_2020all)\n",
    "cf_matrix = confusion_matrix(ytest_2020all, ypredict_21on20)\n",
    "print('Classification metrics\\n train = 2021, test=2020\\n')\n",
    "print(cf_matrix)\n",
    "report = classification_report(ytest_2020all, ypredict_21on20)\n",
    "print(report)\n",
    "\n",
    "## 2021 applied to 2022\n",
    "ypredict_21on22 = rfc_2021.predict(Xtest_2022all)\n",
    "cf_matrix = confusion_matrix(ytest_2022all, ypredict_21on22)\n",
    "print('Classification metrics\\n train = 2021, test=2022\\n')\n",
    "print(cf_matrix)\n",
    "report = classification_report(ytest_2022all, ypredict_21on22)\n",
    "print(report)"
   ]
  },
  {
   "cell_type": "code",
   "execution_count": 27,
   "id": "089c916e",
   "metadata": {},
   "outputs": [
    {
     "name": "stdout",
     "output_type": "stream",
     "text": [
      "Classification metrics\n",
      " train = 2022, test=2020\n",
      "\n",
      "[[2311  375]\n",
      " [   0   20]]\n",
      "              precision    recall  f1-score   support\n",
      "\n",
      "           0       1.00      0.86      0.92      2686\n",
      "           1       0.05      1.00      0.10        20\n",
      "\n",
      "    accuracy                           0.86      2706\n",
      "   macro avg       0.53      0.93      0.51      2706\n",
      "weighted avg       0.99      0.86      0.92      2706\n",
      "\n",
      "Classification metrics\n",
      " train = 2022, test=2021\n",
      "\n",
      "[[3199  589]\n",
      " [ 107   11]]\n",
      "              precision    recall  f1-score   support\n",
      "\n",
      "           0       0.97      0.84      0.90      3788\n",
      "           1       0.02      0.09      0.03       118\n",
      "\n",
      "    accuracy                           0.82      3906\n",
      "   macro avg       0.49      0.47      0.47      3906\n",
      "weighted avg       0.94      0.82      0.88      3906\n",
      "\n"
     ]
    }
   ],
   "source": [
    "## 2022 applied to 2020\n",
    "ypredict_22on20 = rfc_2022.predict(Xtest_2020all)\n",
    "cf_matrix = confusion_matrix(ytest_2020all, ypredict_22on20)\n",
    "print('Classification metrics\\n train = 2022, test=2020\\n')\n",
    "print(cf_matrix)\n",
    "report = classification_report(ytest_2020all, ypredict_22on20)\n",
    "print(report)\n",
    "\n",
    "## 2022 applied to 2021\n",
    "ypredict_22on21 = rfc_2022.predict(Xtest_2021all)\n",
    "cf_matrix = confusion_matrix(ytest_2021all, ypredict_22on21)\n",
    "print('Classification metrics\\n train = 2022, test=2021\\n')\n",
    "print(cf_matrix)\n",
    "report = classification_report(ytest_2021all, ypredict_22on21)\n",
    "print(report)"
   ]
  },
  {
   "cell_type": "code",
   "execution_count": null,
   "id": "53eb1a34",
   "metadata": {},
   "outputs": [],
   "source": []
  }
 ],
 "metadata": {
  "kernelspec": {
   "display_name": "Python 3 (ipykernel)",
   "language": "python",
   "name": "python3"
  },
  "language_info": {
   "codemirror_mode": {
    "name": "ipython",
    "version": 3
   },
   "file_extension": ".py",
   "mimetype": "text/x-python",
   "name": "python",
   "nbconvert_exporter": "python",
   "pygments_lexer": "ipython3",
   "version": "3.10.6"
  }
 },
 "nbformat": 4,
 "nbformat_minor": 5
}
