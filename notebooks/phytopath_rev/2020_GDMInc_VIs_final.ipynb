{
 "cells": [
  {
   "cell_type": "code",
   "execution_count": 1,
   "id": "19fedb74",
   "metadata": {},
   "outputs": [],
   "source": [
    "import glob\n",
    "import os\n",
    "import matplotlib.pyplot as plt\n",
    "import pandas as pd\n",
    "import numpy as np\n",
    "import seaborn as sns\n",
    "\n",
    "import sklearn\n",
    "from sklearn.preprocessing import MinMaxScaler\n",
    "from sklearn.model_selection import train_test_split\n",
    "from sklearn.ensemble import RandomForestClassifier\n",
    "from sklearn.model_selection import cross_val_score\n",
    "from sklearn.model_selection import RepeatedStratifiedKFold\n",
    "from sklearn.metrics import classification_report \n",
    "from sklearn.metrics import accuracy_score\n",
    "from sklearn.metrics import precision_recall_fscore_support\n",
    "from sklearn.metrics import roc_auc_score\n",
    "\n",
    "import imblearn as imb\n",
    "from imblearn.under_sampling import RandomUnderSampler\n",
    "\n",
    "import scipy\n",
    "import itertools\n",
    "import random"
   ]
  },
  {
   "cell_type": "markdown",
   "id": "a010eab2",
   "metadata": {},
   "source": [
    "## Data prep"
   ]
  },
  {
   "cell_type": "code",
   "execution_count": 2,
   "id": "25c29721",
   "metadata": {},
   "outputs": [],
   "source": [
    "data_dir = '/Users/kathleenkanaley/Desktop/grapes_from_space/data/'\n",
    "\n",
    "data_2020 = pd.read_csv(data_dir + 'img_scout_dfs/2020/smr_vis_skysat_scout_2020.csv')\n",
    "data_2020 = data_2020.rename(columns={\"green_red\": \"grvi\"})\n"
   ]
  },
  {
   "cell_type": "code",
   "execution_count": 3,
   "id": "fb51216a",
   "metadata": {},
   "outputs": [],
   "source": [
    "# Create binary numeric label\n",
    "# 0 = low GDM\n",
    "# 1 = high GDM\n",
    "\n",
    "data_2020['GDM_sev']=0\n",
    "data_2020.loc[data_2020['DM_severity'] > 10, 'GDM_sev'] =1\n",
    "    \n",
    "data_2020['GDM_inc']=0\n",
    "data_2020.loc[data_2020['DM_inc'] > 25, 'GDM_inc'] = 1"
   ]
  },
  {
   "cell_type": "code",
   "execution_count": 4,
   "id": "d4957dc2",
   "metadata": {},
   "outputs": [
    {
     "data": {
      "text/plain": [
       "Index(['acquired', 'plot', 'blue', 'green', 'red', 'nir', 'veg_smr',\n",
       "       'savi_exp', 'savi', 'msavi', 'evi', 'arvi', 'gri', 'ndvi', 'nir_blue',\n",
       "       'nir_green', 'red_blue', 'grvi', 'green_blue', 'row', 'panel', 'Date',\n",
       "       'Treatment', 'Block', 'PM_severity', 'DM_severity', 'total_dis',\n",
       "       'geometry', 'centroid', 'PM_inc', 'DM_inc', 'GDM_sev', 'GDM_inc'],\n",
       "      dtype='object')"
      ]
     },
     "execution_count": 4,
     "metadata": {},
     "output_type": "execute_result"
    }
   ],
   "source": [
    "data_2020.columns"
   ]
  },
  {
   "cell_type": "code",
   "execution_count": 5,
   "id": "20255400",
   "metadata": {},
   "outputs": [],
   "source": [
    "resp_var = 'GDM_inc'\n",
    "vis = ['ndvi', 'evi','msavi', 'arvi', 'grvi']"
   ]
  },
  {
   "cell_type": "markdown",
   "id": "91596630",
   "metadata": {},
   "source": [
    "## Find best set of VIs"
   ]
  },
  {
   "cell_type": "code",
   "execution_count": 6,
   "id": "c0a6cd50",
   "metadata": {},
   "outputs": [],
   "source": [
    "def get_combinations(lst): # creating a user-defined method\n",
    "    combination = [] # empty list \n",
    "    for r in range(1, len(lst) + 1):\n",
    "      # to generate combination\n",
    "      combination += itertools.combinations(lst, r)\n",
    "    return combination"
   ]
  },
  {
   "cell_type": "code",
   "execution_count": 7,
   "id": "99ddb0f3",
   "metadata": {},
   "outputs": [
    {
     "name": "stdout",
     "output_type": "stream",
     "text": [
      "[('ndvi',), ('evi',), ('msavi',), ('arvi',), ('grvi',), ('ndvi', 'evi'), ('ndvi', 'msavi'), ('ndvi', 'arvi'), ('ndvi', 'grvi'), ('evi', 'msavi'), ('evi', 'arvi'), ('evi', 'grvi'), ('msavi', 'arvi'), ('msavi', 'grvi'), ('arvi', 'grvi'), ('ndvi', 'evi', 'msavi'), ('ndvi', 'evi', 'arvi'), ('ndvi', 'evi', 'grvi'), ('ndvi', 'msavi', 'arvi'), ('ndvi', 'msavi', 'grvi'), ('ndvi', 'arvi', 'grvi'), ('evi', 'msavi', 'arvi'), ('evi', 'msavi', 'grvi'), ('evi', 'arvi', 'grvi'), ('msavi', 'arvi', 'grvi'), ('ndvi', 'evi', 'msavi', 'arvi'), ('ndvi', 'evi', 'msavi', 'grvi'), ('ndvi', 'evi', 'arvi', 'grvi'), ('ndvi', 'msavi', 'arvi', 'grvi'), ('evi', 'msavi', 'arvi', 'grvi'), ('ndvi', 'evi', 'msavi', 'arvi', 'grvi')]\n"
     ]
    }
   ],
   "source": [
    "all_combinations = get_combinations(vis) # method call\n",
    "print(all_combinations)"
   ]
  },
  {
   "cell_type": "code",
   "execution_count": 8,
   "id": "2cfc6874",
   "metadata": {},
   "outputs": [
    {
     "data": {
      "text/plain": [
       "[['blue', 'green', 'red', 'nir', 'ndvi'],\n",
       " ['blue', 'green', 'red', 'nir', 'evi'],\n",
       " ['blue', 'green', 'red', 'nir', 'msavi'],\n",
       " ['blue', 'green', 'red', 'nir', 'arvi'],\n",
       " ['blue', 'green', 'red', 'nir', 'grvi'],\n",
       " ['blue', 'green', 'red', 'nir', 'ndvi', 'evi'],\n",
       " ['blue', 'green', 'red', 'nir', 'ndvi', 'msavi'],\n",
       " ['blue', 'green', 'red', 'nir', 'ndvi', 'arvi'],\n",
       " ['blue', 'green', 'red', 'nir', 'ndvi', 'grvi'],\n",
       " ['blue', 'green', 'red', 'nir', 'evi', 'msavi'],\n",
       " ['blue', 'green', 'red', 'nir', 'evi', 'arvi'],\n",
       " ['blue', 'green', 'red', 'nir', 'evi', 'grvi'],\n",
       " ['blue', 'green', 'red', 'nir', 'msavi', 'arvi'],\n",
       " ['blue', 'green', 'red', 'nir', 'msavi', 'grvi'],\n",
       " ['blue', 'green', 'red', 'nir', 'arvi', 'grvi'],\n",
       " ['blue', 'green', 'red', 'nir', 'ndvi', 'evi', 'msavi'],\n",
       " ['blue', 'green', 'red', 'nir', 'ndvi', 'evi', 'arvi'],\n",
       " ['blue', 'green', 'red', 'nir', 'ndvi', 'evi', 'grvi'],\n",
       " ['blue', 'green', 'red', 'nir', 'ndvi', 'msavi', 'arvi'],\n",
       " ['blue', 'green', 'red', 'nir', 'ndvi', 'msavi', 'grvi'],\n",
       " ['blue', 'green', 'red', 'nir', 'ndvi', 'arvi', 'grvi'],\n",
       " ['blue', 'green', 'red', 'nir', 'evi', 'msavi', 'arvi'],\n",
       " ['blue', 'green', 'red', 'nir', 'evi', 'msavi', 'grvi'],\n",
       " ['blue', 'green', 'red', 'nir', 'evi', 'arvi', 'grvi'],\n",
       " ['blue', 'green', 'red', 'nir', 'msavi', 'arvi', 'grvi'],\n",
       " ['blue', 'green', 'red', 'nir', 'ndvi', 'evi', 'msavi', 'arvi'],\n",
       " ['blue', 'green', 'red', 'nir', 'ndvi', 'evi', 'msavi', 'grvi'],\n",
       " ['blue', 'green', 'red', 'nir', 'ndvi', 'evi', 'arvi', 'grvi'],\n",
       " ['blue', 'green', 'red', 'nir', 'ndvi', 'msavi', 'arvi', 'grvi'],\n",
       " ['blue', 'green', 'red', 'nir', 'evi', 'msavi', 'arvi', 'grvi'],\n",
       " ['blue', 'green', 'red', 'nir', 'ndvi', 'evi', 'msavi', 'arvi', 'grvi']]"
      ]
     },
     "execution_count": 8,
     "metadata": {},
     "output_type": "execute_result"
    }
   ],
   "source": [
    "# Append all possible combinations of vis to the spectral bands\n",
    "# Result = list of potential explanatory variables\n",
    "\n",
    "exp_vars = []\n",
    "for combo in all_combinations:\n",
    "    combo = list(combo)\n",
    "    sb = ['blue', 'green', 'red', 'nir']\n",
    "    sb_plus_vi = sb + combo\n",
    "    exp_vars.append(sb_plus_vi)\n",
    "exp_vars"
   ]
  },
  {
   "cell_type": "code",
   "execution_count": 9,
   "id": "52770b69",
   "metadata": {},
   "outputs": [],
   "source": [
    "# Prep the dataset: balance the data and scale\n",
    "## no need to split into train/test\n",
    "def data_prep(data, expl_vars, resp_vars, state, seed):\n",
    "    X = data[expl_vars]\n",
    "    y = data[resp_var]\n",
    "\n",
    "    rus = RandomUnderSampler(random_state=state)\n",
    "    X_rus, y_rus = rus.fit_resample(X, y)\n",
    "\n",
    "    mm = MinMaxScaler()\n",
    "    X_scaled = mm.fit_transform(X_rus)\n",
    "    \n",
    "    return X_scaled, y_rus #features (scaled) and labels (unscaled)"
   ]
  },
  {
   "cell_type": "code",
   "execution_count": 10,
   "id": "c733ef90",
   "metadata": {},
   "outputs": [],
   "source": [
    "# Get a dictionary of models for each set of explanatory variables\n",
    "def get_models(explanatory_vars):\n",
    "    models = dict()\n",
    "    for i in exp_vars:\n",
    "        model = RandomForestClassifier()\n",
    "        models[str(i)] = model\n",
    "    return models"
   ]
  },
  {
   "cell_type": "code",
   "execution_count": 11,
   "id": "2550486f",
   "metadata": {},
   "outputs": [],
   "source": [
    "# evaluate a given model using cross-validation\n",
    "def evaluate_model(model, X, y,scoring):\n",
    "    cv = RepeatedStratifiedKFold(n_splits=10, n_repeats=3, random_state=1) # will get 30 (10x3) different results\n",
    "    scores = cross_val_score(model, X, y, scoring=scoring, cv=cv, n_jobs=-1, error_score='raise')\n",
    "    return scores"
   ]
  },
  {
   "cell_type": "code",
   "execution_count": 12,
   "id": "9a190c9b",
   "metadata": {},
   "outputs": [
    {
     "data": {
      "text/plain": [
       "array([0.95652174, 0.92307692, 0.88      , 0.81818182, 0.84615385,\n",
       "       0.85714286, 0.91666667, 0.7826087 , 0.96      , 0.72727273,\n",
       "       0.91666667, 0.76923077, 0.83333333, 0.88888889, 0.83333333,\n",
       "       0.96      , 0.95652174, 0.88      , 0.86956522, 0.88      ,\n",
       "       0.86956522, 0.92307692, 0.78571429, 0.88      , 0.95652174,\n",
       "       0.96      , 0.8       , 0.95652174, 0.88      , 0.83333333])"
      ]
     },
     "execution_count": 12,
     "metadata": {},
     "output_type": "execute_result"
    }
   ],
   "source": [
    "# Test with the first set of exp. vars(just SB + NDVI)\n",
    "X,y = data_prep(data_2020, exp_vars[0], resp_var, 2020, 123)\n",
    "rfm = RandomForestClassifier()\n",
    "\n",
    "evaluate_model(rfm,X,y,'f1')"
   ]
  },
  {
   "cell_type": "code",
   "execution_count": 13,
   "id": "5b289f57",
   "metadata": {
    "scrolled": true
   },
   "outputs": [
    {
     "data": {
      "text/html": [
       "<div>\n",
       "<style scoped>\n",
       "    .dataframe tbody tr th:only-of-type {\n",
       "        vertical-align: middle;\n",
       "    }\n",
       "\n",
       "    .dataframe tbody tr th {\n",
       "        vertical-align: top;\n",
       "    }\n",
       "\n",
       "    .dataframe thead th {\n",
       "        text-align: right;\n",
       "    }\n",
       "</style>\n",
       "<table border=\"1\" class=\"dataframe\">\n",
       "  <thead>\n",
       "    <tr style=\"text-align: right;\">\n",
       "      <th></th>\n",
       "      <th>F1</th>\n",
       "      <th>features</th>\n",
       "    </tr>\n",
       "  </thead>\n",
       "  <tbody>\n",
       "    <tr>\n",
       "      <th>0</th>\n",
       "      <td>0.872783</td>\n",
       "      <td>['blue', 'green', 'red', 'nir', 'ndvi']</td>\n",
       "    </tr>\n",
       "    <tr>\n",
       "      <th>1</th>\n",
       "      <td>0.883738</td>\n",
       "      <td>['blue', 'green', 'red', 'nir', 'evi']</td>\n",
       "    </tr>\n",
       "    <tr>\n",
       "      <th>2</th>\n",
       "      <td>0.879444</td>\n",
       "      <td>['blue', 'green', 'red', 'nir', 'msavi']</td>\n",
       "    </tr>\n",
       "    <tr>\n",
       "      <th>3</th>\n",
       "      <td>0.883365</td>\n",
       "      <td>['blue', 'green', 'red', 'nir', 'arvi']</td>\n",
       "    </tr>\n",
       "    <tr>\n",
       "      <th>4</th>\n",
       "      <td>0.878817</td>\n",
       "      <td>['blue', 'green', 'red', 'nir', 'grvi']</td>\n",
       "    </tr>\n",
       "    <tr>\n",
       "      <th>5</th>\n",
       "      <td>0.876114</td>\n",
       "      <td>['blue', 'green', 'red', 'nir', 'ndvi', 'evi']</td>\n",
       "    </tr>\n",
       "    <tr>\n",
       "      <th>6</th>\n",
       "      <td>0.878704</td>\n",
       "      <td>['blue', 'green', 'red', 'nir', 'ndvi', 'msavi']</td>\n",
       "    </tr>\n",
       "    <tr>\n",
       "      <th>7</th>\n",
       "      <td>0.872326</td>\n",
       "      <td>['blue', 'green', 'red', 'nir', 'ndvi', 'arvi']</td>\n",
       "    </tr>\n",
       "    <tr>\n",
       "      <th>8</th>\n",
       "      <td>0.878882</td>\n",
       "      <td>['blue', 'green', 'red', 'nir', 'ndvi', 'grvi']</td>\n",
       "    </tr>\n",
       "    <tr>\n",
       "      <th>9</th>\n",
       "      <td>0.877078</td>\n",
       "      <td>['blue', 'green', 'red', 'nir', 'evi', 'msavi']</td>\n",
       "    </tr>\n",
       "    <tr>\n",
       "      <th>10</th>\n",
       "      <td>0.878738</td>\n",
       "      <td>['blue', 'green', 'red', 'nir', 'evi', 'arvi']</td>\n",
       "    </tr>\n",
       "    <tr>\n",
       "      <th>11</th>\n",
       "      <td>0.882938</td>\n",
       "      <td>['blue', 'green', 'red', 'nir', 'evi', 'grvi']</td>\n",
       "    </tr>\n",
       "    <tr>\n",
       "      <th>12</th>\n",
       "      <td>0.876916</td>\n",
       "      <td>['blue', 'green', 'red', 'nir', 'msavi', 'arvi']</td>\n",
       "    </tr>\n",
       "    <tr>\n",
       "      <th>13</th>\n",
       "      <td>0.880672</td>\n",
       "      <td>['blue', 'green', 'red', 'nir', 'msavi', 'grvi']</td>\n",
       "    </tr>\n",
       "    <tr>\n",
       "      <th>14</th>\n",
       "      <td>0.878902</td>\n",
       "      <td>['blue', 'green', 'red', 'nir', 'arvi', 'grvi']</td>\n",
       "    </tr>\n",
       "    <tr>\n",
       "      <th>15</th>\n",
       "      <td>0.878902</td>\n",
       "      <td>['blue', 'green', 'red', 'nir', 'ndvi', 'evi',...</td>\n",
       "    </tr>\n",
       "    <tr>\n",
       "      <th>16</th>\n",
       "      <td>0.881103</td>\n",
       "      <td>['blue', 'green', 'red', 'nir', 'ndvi', 'evi',...</td>\n",
       "    </tr>\n",
       "    <tr>\n",
       "      <th>17</th>\n",
       "      <td>0.882024</td>\n",
       "      <td>['blue', 'green', 'red', 'nir', 'ndvi', 'evi',...</td>\n",
       "    </tr>\n",
       "    <tr>\n",
       "      <th>18</th>\n",
       "      <td>0.879826</td>\n",
       "      <td>['blue', 'green', 'red', 'nir', 'ndvi', 'msavi...</td>\n",
       "    </tr>\n",
       "    <tr>\n",
       "      <th>19</th>\n",
       "      <td>0.876823</td>\n",
       "      <td>['blue', 'green', 'red', 'nir', 'ndvi', 'msavi...</td>\n",
       "    </tr>\n",
       "    <tr>\n",
       "      <th>20</th>\n",
       "      <td>0.882063</td>\n",
       "      <td>['blue', 'green', 'red', 'nir', 'ndvi', 'arvi'...</td>\n",
       "    </tr>\n",
       "    <tr>\n",
       "      <th>21</th>\n",
       "      <td>0.878556</td>\n",
       "      <td>['blue', 'green', 'red', 'nir', 'evi', 'msavi'...</td>\n",
       "    </tr>\n",
       "    <tr>\n",
       "      <th>22</th>\n",
       "      <td>0.876597</td>\n",
       "      <td>['blue', 'green', 'red', 'nir', 'evi', 'msavi'...</td>\n",
       "    </tr>\n",
       "    <tr>\n",
       "      <th>23</th>\n",
       "      <td>0.876879</td>\n",
       "      <td>['blue', 'green', 'red', 'nir', 'evi', 'arvi',...</td>\n",
       "    </tr>\n",
       "    <tr>\n",
       "      <th>24</th>\n",
       "      <td>0.877908</td>\n",
       "      <td>['blue', 'green', 'red', 'nir', 'msavi', 'arvi...</td>\n",
       "    </tr>\n",
       "    <tr>\n",
       "      <th>25</th>\n",
       "      <td>0.876041</td>\n",
       "      <td>['blue', 'green', 'red', 'nir', 'ndvi', 'evi',...</td>\n",
       "    </tr>\n",
       "    <tr>\n",
       "      <th>26</th>\n",
       "      <td>0.875692</td>\n",
       "      <td>['blue', 'green', 'red', 'nir', 'ndvi', 'evi',...</td>\n",
       "    </tr>\n",
       "    <tr>\n",
       "      <th>27</th>\n",
       "      <td>0.882301</td>\n",
       "      <td>['blue', 'green', 'red', 'nir', 'ndvi', 'evi',...</td>\n",
       "    </tr>\n",
       "    <tr>\n",
       "      <th>28</th>\n",
       "      <td>0.881833</td>\n",
       "      <td>['blue', 'green', 'red', 'nir', 'ndvi', 'msavi...</td>\n",
       "    </tr>\n",
       "    <tr>\n",
       "      <th>29</th>\n",
       "      <td>0.880476</td>\n",
       "      <td>['blue', 'green', 'red', 'nir', 'evi', 'msavi'...</td>\n",
       "    </tr>\n",
       "    <tr>\n",
       "      <th>30</th>\n",
       "      <td>0.872522</td>\n",
       "      <td>['blue', 'green', 'red', 'nir', 'ndvi', 'evi',...</td>\n",
       "    </tr>\n",
       "  </tbody>\n",
       "</table>\n",
       "</div>"
      ],
      "text/plain": [
       "          F1                                           features\n",
       "0   0.872783            ['blue', 'green', 'red', 'nir', 'ndvi']\n",
       "1   0.883738             ['blue', 'green', 'red', 'nir', 'evi']\n",
       "2   0.879444           ['blue', 'green', 'red', 'nir', 'msavi']\n",
       "3   0.883365            ['blue', 'green', 'red', 'nir', 'arvi']\n",
       "4   0.878817            ['blue', 'green', 'red', 'nir', 'grvi']\n",
       "5   0.876114     ['blue', 'green', 'red', 'nir', 'ndvi', 'evi']\n",
       "6   0.878704   ['blue', 'green', 'red', 'nir', 'ndvi', 'msavi']\n",
       "7   0.872326    ['blue', 'green', 'red', 'nir', 'ndvi', 'arvi']\n",
       "8   0.878882    ['blue', 'green', 'red', 'nir', 'ndvi', 'grvi']\n",
       "9   0.877078    ['blue', 'green', 'red', 'nir', 'evi', 'msavi']\n",
       "10  0.878738     ['blue', 'green', 'red', 'nir', 'evi', 'arvi']\n",
       "11  0.882938     ['blue', 'green', 'red', 'nir', 'evi', 'grvi']\n",
       "12  0.876916   ['blue', 'green', 'red', 'nir', 'msavi', 'arvi']\n",
       "13  0.880672   ['blue', 'green', 'red', 'nir', 'msavi', 'grvi']\n",
       "14  0.878902    ['blue', 'green', 'red', 'nir', 'arvi', 'grvi']\n",
       "15  0.878902  ['blue', 'green', 'red', 'nir', 'ndvi', 'evi',...\n",
       "16  0.881103  ['blue', 'green', 'red', 'nir', 'ndvi', 'evi',...\n",
       "17  0.882024  ['blue', 'green', 'red', 'nir', 'ndvi', 'evi',...\n",
       "18  0.879826  ['blue', 'green', 'red', 'nir', 'ndvi', 'msavi...\n",
       "19  0.876823  ['blue', 'green', 'red', 'nir', 'ndvi', 'msavi...\n",
       "20  0.882063  ['blue', 'green', 'red', 'nir', 'ndvi', 'arvi'...\n",
       "21  0.878556  ['blue', 'green', 'red', 'nir', 'evi', 'msavi'...\n",
       "22  0.876597  ['blue', 'green', 'red', 'nir', 'evi', 'msavi'...\n",
       "23  0.876879  ['blue', 'green', 'red', 'nir', 'evi', 'arvi',...\n",
       "24  0.877908  ['blue', 'green', 'red', 'nir', 'msavi', 'arvi...\n",
       "25  0.876041  ['blue', 'green', 'red', 'nir', 'ndvi', 'evi',...\n",
       "26  0.875692  ['blue', 'green', 'red', 'nir', 'ndvi', 'evi',...\n",
       "27  0.882301  ['blue', 'green', 'red', 'nir', 'ndvi', 'evi',...\n",
       "28  0.881833  ['blue', 'green', 'red', 'nir', 'ndvi', 'msavi...\n",
       "29  0.880476  ['blue', 'green', 'red', 'nir', 'evi', 'msavi'...\n",
       "30  0.872522  ['blue', 'green', 'red', 'nir', 'ndvi', 'evi',..."
      ]
     },
     "execution_count": 13,
     "metadata": {},
     "output_type": "execute_result"
    }
   ],
   "source": [
    "# get dataframe of average F1 scores for models with different combinations of explanatory variables\n",
    "models = get_models(exp_vars)\n",
    "\n",
    "F1 = []\n",
    "features = []\n",
    "for name, model in models.items():\n",
    "    scores = evaluate_model(model, X, y,'f1')\n",
    "    F1.append(np.mean(scores))\n",
    "    features.append(name)\n",
    "\n",
    "results = pd.DataFrame(columns=['F1', 'features'])\n",
    "results['F1']=F1\n",
    "results['features']=features\n",
    "results"
   ]
  },
  {
   "cell_type": "code",
   "execution_count": 14,
   "id": "928c3b3f",
   "metadata": {},
   "outputs": [
    {
     "data": {
      "text/plain": [
       "\"['blue', 'green', 'red', 'nir', 'evi']\""
      ]
     },
     "execution_count": 14,
     "metadata": {},
     "output_type": "execute_result"
    }
   ],
   "source": [
    "# best vi combo (maximizes F1)\n",
    "results.iloc[results['F1'].idxmax()]['features']"
   ]
  },
  {
   "cell_type": "markdown",
   "id": "faa62db3",
   "metadata": {},
   "source": [
    "## Split, balance, normalize"
   ]
  },
  {
   "cell_type": "code",
   "execution_count": 15,
   "id": "a0095140",
   "metadata": {},
   "outputs": [],
   "source": [
    "def split_bal_norm(data, expl_vars, resp_vars, state, seed):\n",
    "    X = data[expl_vars]\n",
    "    y = data[resp_var]\n",
    "\n",
    "    rus = RandomUnderSampler(random_state=state)\n",
    "    X_rus, y_rus = rus.fit_resample(X, y)\n",
    "\n",
    "    # Split dataset into training set and test set\n",
    "    X_train, X_test, y_train, y_test = train_test_split(X_rus, y_rus,\n",
    "                                                        test_size=0.3, \n",
    "                                                        random_state=seed,\n",
    "                                                        stratify = y_rus)  # 70% training and 30% test\n",
    "    mm = MinMaxScaler()\n",
    "    X_train_scaled = mm.fit_transform(X_train)\n",
    "    X_test_scaled = mm.transform(X_test)\n",
    "    \n",
    "    return X_train_scaled, y_train, X_test_scaled, y_test"
   ]
  },
  {
   "cell_type": "code",
   "execution_count": 16,
   "id": "0c9f91be",
   "metadata": {},
   "outputs": [],
   "source": [
    "X_train, y_train, X_test, y_test = split_bal_norm(data_2020,\n",
    "                                                  ['blue', 'green', 'red', 'nir', 'ndvi'],\n",
    "                                                 resp_var,\n",
    "                                                 2020,\n",
    "                                                 14)"
   ]
  },
  {
   "cell_type": "markdown",
   "id": "075be4cc",
   "metadata": {},
   "source": [
    "## Hyperparameter tuning (training set only)"
   ]
  },
  {
   "cell_type": "code",
   "execution_count": 17,
   "id": "3f0db2b6",
   "metadata": {},
   "outputs": [],
   "source": [
    "# Create dictionary of parameters to test with randomizedCV\n",
    "\n",
    "from sklearn.model_selection import RandomizedSearchCV\n",
    "n_estimators = [int(x) for x in np.linspace(start = 100, stop = 1000,\n",
    "num = 10)]\n",
    "max_features = ['log2', 'sqrt']\n",
    "max_depth = [int(x) for x in np.linspace(start = 1, stop = 15, num =\n",
    "15)]\n",
    "min_samples_split = [int(x) for x in np.linspace(start = 2, stop = 50,\n",
    "num = 10)]\n",
    "min_samples_leaf = [int(x) for x in np.linspace(start = 1, stop = 50,\n",
    "num = 5)]\n",
    "bootstrap = [True, False]\n",
    "param_dist = {'n_estimators': n_estimators,\n",
    "'max_features': max_features,\n",
    "'max_depth': max_depth,\n",
    "'min_samples_split': min_samples_split,\n",
    "'min_samples_leaf': min_samples_leaf,\n",
    "'bootstrap': bootstrap}"
   ]
  },
  {
   "cell_type": "code",
   "execution_count": 18,
   "id": "34cad011",
   "metadata": {},
   "outputs": [],
   "source": [
    "rfc = RandomForestClassifier()"
   ]
  },
  {
   "cell_type": "code",
   "execution_count": 19,
   "id": "226ec1d8",
   "metadata": {},
   "outputs": [
    {
     "name": "stdout",
     "output_type": "stream",
     "text": [
      "Fitting 3 folds for each of 100 candidates, totalling 300 fits\n"
     ]
    },
    {
     "data": {
      "text/plain": [
       "{'n_estimators': 700,\n",
       " 'min_samples_split': 7,\n",
       " 'min_samples_leaf': 13,\n",
       " 'max_features': 'log2',\n",
       " 'max_depth': 15,\n",
       " 'bootstrap': True}"
      ]
     },
     "execution_count": 19,
     "metadata": {},
     "output_type": "execute_result"
    }
   ],
   "source": [
    "rs = RandomizedSearchCV(rfc,\n",
    "param_dist,\n",
    "n_iter = 100,\n",
    "scoring = 'f1',\n",
    "cv = 3,\n",
    "verbose = 1,\n",
    "n_jobs=-1,\n",
    "random_state=0)\n",
    "\n",
    "rs.fit(X_train, y_train)\n",
    "rs.best_params_"
   ]
  },
  {
   "cell_type": "code",
   "execution_count": 20,
   "id": "3424dbad",
   "metadata": {},
   "outputs": [
    {
     "data": {
      "text/html": [
       "<div>\n",
       "<style scoped>\n",
       "    .dataframe tbody tr th:only-of-type {\n",
       "        vertical-align: middle;\n",
       "    }\n",
       "\n",
       "    .dataframe tbody tr th {\n",
       "        vertical-align: top;\n",
       "    }\n",
       "\n",
       "    .dataframe thead th {\n",
       "        text-align: right;\n",
       "    }\n",
       "</style>\n",
       "<table border=\"1\" class=\"dataframe\">\n",
       "  <thead>\n",
       "    <tr style=\"text-align: right;\">\n",
       "      <th></th>\n",
       "      <th>param_n_estimators</th>\n",
       "      <th>param_min_samples_split</th>\n",
       "      <th>param_min_samples_leaf</th>\n",
       "      <th>param_max_features</th>\n",
       "      <th>param_max_depth</th>\n",
       "      <th>param_bootstrap</th>\n",
       "      <th>mean_test_score</th>\n",
       "      <th>rank_test_score</th>\n",
       "    </tr>\n",
       "  </thead>\n",
       "  <tbody>\n",
       "    <tr>\n",
       "      <th>0</th>\n",
       "      <td>300</td>\n",
       "      <td>12</td>\n",
       "      <td>13</td>\n",
       "      <td>sqrt</td>\n",
       "      <td>9</td>\n",
       "      <td>True</td>\n",
       "      <td>0.919883</td>\n",
       "      <td>1</td>\n",
       "    </tr>\n",
       "    <tr>\n",
       "      <th>1</th>\n",
       "      <td>800</td>\n",
       "      <td>12</td>\n",
       "      <td>13</td>\n",
       "      <td>sqrt</td>\n",
       "      <td>15</td>\n",
       "      <td>True</td>\n",
       "      <td>0.919883</td>\n",
       "      <td>1</td>\n",
       "    </tr>\n",
       "    <tr>\n",
       "      <th>2</th>\n",
       "      <td>900</td>\n",
       "      <td>2</td>\n",
       "      <td>13</td>\n",
       "      <td>log2</td>\n",
       "      <td>8</td>\n",
       "      <td>True</td>\n",
       "      <td>0.919883</td>\n",
       "      <td>1</td>\n",
       "    </tr>\n",
       "    <tr>\n",
       "      <th>3</th>\n",
       "      <td>700</td>\n",
       "      <td>7</td>\n",
       "      <td>13</td>\n",
       "      <td>log2</td>\n",
       "      <td>15</td>\n",
       "      <td>True</td>\n",
       "      <td>0.919883</td>\n",
       "      <td>1</td>\n",
       "    </tr>\n",
       "    <tr>\n",
       "      <th>4</th>\n",
       "      <td>400</td>\n",
       "      <td>34</td>\n",
       "      <td>13</td>\n",
       "      <td>log2</td>\n",
       "      <td>3</td>\n",
       "      <td>True</td>\n",
       "      <td>0.919883</td>\n",
       "      <td>1</td>\n",
       "    </tr>\n",
       "    <tr>\n",
       "      <th>5</th>\n",
       "      <td>700</td>\n",
       "      <td>18</td>\n",
       "      <td>1</td>\n",
       "      <td>log2</td>\n",
       "      <td>7</td>\n",
       "      <td>True</td>\n",
       "      <td>0.907143</td>\n",
       "      <td>6</td>\n",
       "    </tr>\n",
       "    <tr>\n",
       "      <th>6</th>\n",
       "      <td>300</td>\n",
       "      <td>39</td>\n",
       "      <td>1</td>\n",
       "      <td>log2</td>\n",
       "      <td>6</td>\n",
       "      <td>True</td>\n",
       "      <td>0.906699</td>\n",
       "      <td>7</td>\n",
       "    </tr>\n",
       "    <tr>\n",
       "      <th>7</th>\n",
       "      <td>1000</td>\n",
       "      <td>50</td>\n",
       "      <td>1</td>\n",
       "      <td>sqrt</td>\n",
       "      <td>8</td>\n",
       "      <td>True</td>\n",
       "      <td>0.906699</td>\n",
       "      <td>7</td>\n",
       "    </tr>\n",
       "    <tr>\n",
       "      <th>8</th>\n",
       "      <td>600</td>\n",
       "      <td>39</td>\n",
       "      <td>13</td>\n",
       "      <td>sqrt</td>\n",
       "      <td>10</td>\n",
       "      <td>False</td>\n",
       "      <td>0.906699</td>\n",
       "      <td>7</td>\n",
       "    </tr>\n",
       "    <tr>\n",
       "      <th>9</th>\n",
       "      <td>600</td>\n",
       "      <td>28</td>\n",
       "      <td>25</td>\n",
       "      <td>sqrt</td>\n",
       "      <td>1</td>\n",
       "      <td>True</td>\n",
       "      <td>0.906699</td>\n",
       "      <td>7</td>\n",
       "    </tr>\n",
       "  </tbody>\n",
       "</table>\n",
       "</div>"
      ],
      "text/plain": [
       "  param_n_estimators param_min_samples_split param_min_samples_leaf  \\\n",
       "0                300                      12                     13   \n",
       "1                800                      12                     13   \n",
       "2                900                       2                     13   \n",
       "3                700                       7                     13   \n",
       "4                400                      34                     13   \n",
       "5                700                      18                      1   \n",
       "6                300                      39                      1   \n",
       "7               1000                      50                      1   \n",
       "8                600                      39                     13   \n",
       "9                600                      28                     25   \n",
       "\n",
       "  param_max_features param_max_depth param_bootstrap  mean_test_score  \\\n",
       "0               sqrt               9            True         0.919883   \n",
       "1               sqrt              15            True         0.919883   \n",
       "2               log2               8            True         0.919883   \n",
       "3               log2              15            True         0.919883   \n",
       "4               log2               3            True         0.919883   \n",
       "5               log2               7            True         0.907143   \n",
       "6               log2               6            True         0.906699   \n",
       "7               sqrt               8            True         0.906699   \n",
       "8               sqrt              10           False         0.906699   \n",
       "9               sqrt               1            True         0.906699   \n",
       "\n",
       "   rank_test_score  \n",
       "0                1  \n",
       "1                1  \n",
       "2                1  \n",
       "3                1  \n",
       "4                1  \n",
       "5                6  \n",
       "6                7  \n",
       "7                7  \n",
       "8                7  \n",
       "9                7  "
      ]
     },
     "execution_count": 20,
     "metadata": {},
     "output_type": "execute_result"
    }
   ],
   "source": [
    "rs_df = pd.DataFrame(rs.cv_results_).sort_values('rank_test_score').reset_index(drop=True)\n",
    "rs_df = rs_df.drop([\n",
    "'mean_fit_time',\n",
    "'std_fit_time',\n",
    "'mean_score_time',\n",
    "'std_score_time',\n",
    "'params',\n",
    "'split0_test_score',\n",
    "'split1_test_score',\n",
    "'split2_test_score',\n",
    "'std_test_score'],\n",
    "axis=1)\n",
    "\n",
    "rs_df.head(10)"
   ]
  },
  {
   "cell_type": "code",
   "execution_count": 21,
   "id": "4ccda75e",
   "metadata": {},
   "outputs": [
    {
     "data": {
      "image/png": "[encoded data removed]",
      "text/plain": [
       "<Figure size 3000x2500 with 6 Axes>"
      ]
     },
     "metadata": {},
     "output_type": "display_data"
    }
   ],
   "source": [
    "fig, axs = plt.subplots(ncols=3, nrows=2)\n",
    "sns.set(style=\"whitegrid\", color_codes=True, font_scale = 2)\n",
    "fig.set_size_inches(30,25)\n",
    "sns.barplot(x='param_n_estimators', y='mean_test_score', data=rs_df,\n",
    "ax=axs[0,0], color='lightgrey')\n",
    "axs[0,0].set_ylim([.0,1])\n",
    "axs[0,0].set_title(label = 'n_estimators',\n",
    "size=30, weight='bold')\n",
    "\n",
    "sns.barplot(x='param_min_samples_split', y='mean_test_score',\n",
    "data=rs_df, ax=axs[0,1], color='coral')\n",
    "axs[0,1].set_ylim([.0,1])\n",
    "axs[0,1].set_title(label =\n",
    "'min_samples_split', size=30, weight='bold')\n",
    "\n",
    "sns.barplot(x='param_min_samples_leaf', y='mean_test_score',\n",
    "data=rs_df, ax=axs[0,2], color='lightgreen')\n",
    "axs[0,2].set_ylim([.0,1])\n",
    "axs[0,2].set_title(label =\n",
    "'min_samples_leaf', size=30, weight='bold')\n",
    "\n",
    "sns.barplot(x='param_max_features', y='mean_test_score', data=rs_df,\n",
    "ax=axs[1,0], color='wheat')\n",
    "axs[1,0].set_ylim([.0,1])\n",
    "axs[1,0].set_title(label = 'max_features',\n",
    "size=30, weight='bold')\n",
    "\n",
    "sns.barplot(x='param_max_depth', y='mean_test_score', data=rs_df,\n",
    "ax=axs[1,1], color='lightpink')\n",
    "axs[1,1].set_ylim([.0,1])\n",
    "axs[1,1].set_title(label = 'max_depth',\n",
    "size=30, weight='bold')\n",
    "\n",
    "sns.barplot(x='param_bootstrap',y='mean_test_score', data=rs_df,\n",
    "ax=axs[1,2], color='skyblue')\n",
    "axs[1,2].set_ylim([.0,1])\n",
    "axs[1,2].set_title(label = 'bootstrap', size=30, weight='bold')\n",
    "\n",
    "plt.show()"
   ]
  },
  {
   "cell_type": "code",
   "execution_count": 22,
   "id": "1e5325c5",
   "metadata": {},
   "outputs": [
    {
     "name": "stdout",
     "output_type": "stream",
     "text": [
      "Fitting 3 folds for each of 1600 candidates, totalling 4800 fits\n"
     ]
    },
    {
     "data": {
      "text/plain": [
       "{'bootstrap': True,\n",
       " 'max_depth': 3,\n",
       " 'max_features': 'sqrt',\n",
       " 'min_samples_leaf': 1,\n",
       " 'min_samples_split': 34,\n",
       " 'n_estimators': 300}"
      ]
     },
     "execution_count": 22,
     "metadata": {},
     "output_type": "execute_result"
    }
   ],
   "source": [
    "from sklearn.model_selection import GridSearchCV\n",
    "n_estimators = [100,300,400,500]\n",
    "max_features = ['sqrt','log2']\n",
    "max_depth = [3,8,13,14,15]\n",
    "min_samples_split = [2,7,12,18,34]\n",
    "min_samples_leaf = [1,2,7,13]\n",
    "bootstrap = [True,False]\n",
    "\n",
    "param_grid = {'n_estimators': n_estimators,\n",
    "'max_features': max_features,\n",
    "'max_depth': max_depth,\n",
    "'min_samples_split': min_samples_split,\n",
    "'min_samples_leaf': min_samples_leaf,\n",
    "'bootstrap': bootstrap}\n",
    "\n",
    "gs = GridSearchCV(rfc, param_grid, cv = 3, verbose = 1, n_jobs=-1)\n",
    "gs.fit(X_train, y_train)\n",
    "rfc_2 = gs.best_estimator_\n",
    "gs.best_params_"
   ]
  },
  {
   "cell_type": "code",
   "execution_count": 26,
   "id": "77d465f2",
   "metadata": {},
   "outputs": [],
   "source": [
    "y_pred_gs = rfc_2.predict(X_test)"
   ]
  },
  {
   "cell_type": "code",
   "execution_count": 27,
   "id": "37028eaf",
   "metadata": {},
   "outputs": [],
   "source": [
    "## Plot confusion matrix and get all model metrics"
   ]
  },
  {
   "cell_type": "code",
   "execution_count": 39,
   "id": "f5ebdd22",
   "metadata": {},
   "outputs": [
    {
     "name": "stdout",
     "output_type": "stream",
     "text": [
      "[[26  9]\n",
      " [ 2 34]]\n",
      "              precision    recall  f1-score   support\n",
      "\n",
      "           0       0.93      0.74      0.83        35\n",
      "           1       0.79      0.94      0.86        36\n",
      "\n",
      "    accuracy                           0.85        71\n",
      "   macro avg       0.86      0.84      0.84        71\n",
      "weighted avg       0.86      0.85      0.84        71\n",
      "\n"
     ]
    },
    {
     "data": {
      "image/png": "[encoded data removed]",
      "text/plain": [
       "<Figure size 640x480 with 2 Axes>"
      ]
     },
     "metadata": {},
     "output_type": "display_data"
    }
   ],
   "source": [
    "from sklearn.metrics import confusion_matrix                            \n",
    "\n",
    "\n",
    "\n",
    "cf_matrix = confusion_matrix(y_test, y_pred_gs)\n",
    "print(cf_matrix)\n",
    "\n",
    "sns.set(font_scale=1)\n",
    "sns.heatmap(cf_matrix, annot=True,\n",
    "           vmin=0, vmax=40, center= 0,\n",
    "           cmap= 'coolwarm', linewidths=2, linecolor='black',\n",
    "           xticklabels=['low','high'],\n",
    "           yticklabels=['low','high']).set(title='Predicted vs. True GDM incidence 2020');\n",
    "\n",
    "plt.ylabel('True')\n",
    "plt.xlabel('Predicted')\n",
    "plt.tight_layout()\n",
    "\n",
    "report = classification_report(y_test, y_pred_gs)\n",
    "\n",
    "print(report)\n",
    "# conf_matrix_tuned = pd.DataFrame(confusion_matrix(y_test, y_pred_gs),\n",
    "#         index = [np.unique(y_pred)[0],np.unique(y_pred)[1]], columns = [np.unique(y_pred)[0],np.unique(y_pred)[1]])\n",
    "                                                         \n",
    "# display(conf_matrix_tuned)\n",
    "# display('Hyperparameter Tuned Random Forest accuracy score', accuracy_score(y_test, y_pred_gs))"
   ]
  },
  {
   "cell_type": "code",
   "execution_count": 29,
   "id": "a136cf1a",
   "metadata": {},
   "outputs": [
    {
     "data": {
      "text/plain": [
       "{0: 28, 1: 43}"
      ]
     },
     "execution_count": 29,
     "metadata": {},
     "output_type": "execute_result"
    }
   ],
   "source": [
    "# Make sure axes are properly labeled\n",
    "unique, counts = np.unique(y_pred, return_counts=True)\n",
    "\n",
    "dict(zip(unique, counts))"
   ]
  },
  {
   "cell_type": "markdown",
   "id": "6d70ac71",
   "metadata": {},
   "source": [
    "## Permutation importance plots"
   ]
  },
  {
   "cell_type": "code",
   "execution_count": 30,
   "id": "2b537187",
   "metadata": {},
   "outputs": [],
   "source": [
    "# Get permutation feature imp. scores\n",
    "# https://scikit-learn.org/stable/auto_examples/inspection/plot_permutation_importance.html#sphx-glr-auto-examples-inspection-plot-permutation-importance-py"
   ]
  },
  {
   "cell_type": "code",
   "execution_count": 40,
   "id": "19eccb8b",
   "metadata": {},
   "outputs": [
    {
     "data": {
      "image/png": "[encoded data removed]",
      "text/plain": [
       "<Figure size 640x480 with 1 Axes>"
      ]
     },
     "metadata": {},
     "output_type": "display_data"
    }
   ],
   "source": [
    "from sklearn.inspection import permutation_importance\n",
    "\n",
    "result = permutation_importance(\n",
    "    rfc_2, X_test, y_test, n_repeats=10, random_state=16, n_jobs=2\n",
    ")\n",
    "\n",
    "sorted_importances_idx = result.importances_mean.argsort()\n",
    "\n",
    "importances = pd.DataFrame(\n",
    "    result.importances[sorted_importances_idx].T,\n",
    "    columns=data_2020[['blue', 'green', 'red', 'nir', 'ndvi']].columns[sorted_importances_idx],\n",
    ")\n",
    "ax = importances.plot.box(vert=False, whis=10)\n",
    "ax.set_title(\"Permutation Importances (test set)\",fontname=\"Arial\", fontsize=16)\n",
    "ax.axvline(x=0, color=\"k\", linestyle=\"--\")\n",
    "ax.set_xlabel(\"Decrease in accuracy score\",fontname=\"Arial\", fontsize = 16)\n",
    "ax.set_ylabel(\"Features\",fontname=\"Arial\", fontsize = 16)\n",
    "\n",
    "ax.figure.tight_layout()"
   ]
  },
  {
   "cell_type": "code",
   "execution_count": null,
   "id": "870fd7a5",
   "metadata": {},
   "outputs": [],
   "source": []
  }
 ],
 "metadata": {
  "kernelspec": {
   "display_name": "Python 3 (ipykernel)",
   "language": "python",
   "name": "python3"
  },
  "language_info": {
   "codemirror_mode": {
    "name": "ipython",
    "version": 3
   },
   "file_extension": ".py",
   "mimetype": "text/x-python",
   "name": "python",
   "nbconvert_exporter": "python",
   "pygments_lexer": "ipython3",
   "version": "3.10.6"
  }
 },
 "nbformat": 4,
 "nbformat_minor": 5
}
