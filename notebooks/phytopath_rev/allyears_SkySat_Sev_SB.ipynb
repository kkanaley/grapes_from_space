{
 "cells": [
  {
   "cell_type": "code",
   "execution_count": 1,
   "id": "19fedb74",
   "metadata": {},
   "outputs": [],
   "source": [
    "import glob\n",
    "import os\n",
    "import matplotlib.pyplot as plt\n",
    "import pandas as pd\n",
    "import numpy as np\n",
    "import seaborn as sns\n",
    "\n",
    "import sklearn\n",
    "from sklearn.preprocessing import MinMaxScaler\n",
    "from sklearn.model_selection import train_test_split\n",
    "from sklearn.ensemble import RandomForestClassifier\n",
    "from sklearn.model_selection import cross_val_score\n",
    "from sklearn.model_selection import RepeatedStratifiedKFold\n",
    "from sklearn.metrics import classification_report \n",
    "from sklearn.metrics import accuracy_score\n",
    "from sklearn.metrics import precision_recall_fscore_support\n",
    "from sklearn.metrics import roc_auc_score\n",
    "from sklearn.metrics import confusion_matrix\n",
    "\n",
    "import imblearn as imb\n",
    "from imblearn.under_sampling import RandomUnderSampler\n",
    "\n",
    "import scipy\n",
    "import itertools\n",
    "import random\n",
    "import ast"
   ]
  },
  {
   "cell_type": "markdown",
   "id": "a010eab2",
   "metadata": {},
   "source": [
    "## Data prep"
   ]
  },
  {
   "cell_type": "code",
   "execution_count": 2,
   "id": "25c29721",
   "metadata": {},
   "outputs": [
    {
     "data": {
      "text/plain": [
       "['/Users/kathleenkanaley/Desktop/grapes_from_space/data/img_scout_dfs/2022/smr_vis_skysat_scout_2022.csv',\n",
       " '/Users/kathleenkanaley/Desktop/grapes_from_space/data/img_scout_dfs/2021/smr_vis_skysat_scout_2021.csv',\n",
       " '/Users/kathleenkanaley/Desktop/grapes_from_space/data/img_scout_dfs/2020/smr_vis_skysat_scout_2020.csv']"
      ]
     },
     "execution_count": 2,
     "metadata": {},
     "output_type": "execute_result"
    }
   ],
   "source": [
    "data_dir = '/Users/kathleenkanaley/Desktop/grapes_from_space/data/img_scout_dfs'\n",
    "\n",
    "# all three years\n",
    "yearly_data = glob.glob(data_dir+'/*/smr_vis_skysat_scout_*.csv')\n",
    "yearly_data\n",
    "\n"
   ]
  },
  {
   "cell_type": "code",
   "execution_count": 3,
   "id": "fb51216a",
   "metadata": {},
   "outputs": [],
   "source": [
    "prepped_dfs = []\n",
    "for year in yearly_data:\n",
    "    df = pd.read_csv(year)\n",
    "    df = df.rename(columns={\"green_red\": \"grvi\"})\n",
    "    # Create binary numeric label\n",
    "    # 0 = low GDM\n",
    "    # 1 = high GDM\n",
    "\n",
    "    df['GDM_sev']=0\n",
    "    df.loc[df['DM_severity'] > 10, 'GDM_sev'] =1\n",
    "    \n",
    "    df['GDM_inc']=0\n",
    "    df.loc[df['DM_inc'] > 25, 'GDM_inc'] = 1\n",
    "    prepped_dfs.append(df)"
   ]
  },
  {
   "cell_type": "code",
   "execution_count": 4,
   "id": "d4957dc2",
   "metadata": {},
   "outputs": [],
   "source": [
    "# Check columns\n",
    "#prepped_dfs[0].columns\n",
    "# prepped_dfs[0].Date.unique()\n",
    "# prepped_dfs[1].Date.unique()\n",
    "# prepped_dfs[2].Date.unique()"
   ]
  },
  {
   "cell_type": "code",
   "execution_count": 5,
   "id": "ab8bfec3",
   "metadata": {},
   "outputs": [
    {
     "data": {
      "text/plain": [
       "'2020'"
      ]
     },
     "execution_count": 5,
     "metadata": {},
     "output_type": "execute_result"
    }
   ],
   "source": [
    "prepped_dfs[2].Date[1][:4]"
   ]
  },
  {
   "cell_type": "code",
   "execution_count": 6,
   "id": "20255400",
   "metadata": {},
   "outputs": [],
   "source": [
    "# set up variables\n",
    "data_2022 = prepped_dfs[0]\n",
    "data_2021 = prepped_dfs[1]\n",
    "data_2020 = prepped_dfs[2]\n",
    "data_all = pd.concat([data_2020,data_2021,data_2022])\n",
    "sev = 'GDM_sev'\n",
    "inc = 'GDM_inc'\n",
    "sbs = ['blue', 'green','red', 'nir']"
   ]
  },
  {
   "cell_type": "markdown",
   "id": "faa62db3",
   "metadata": {},
   "source": [
    "## Balance, split, normalize"
   ]
  },
  {
   "cell_type": "code",
   "execution_count": 7,
   "id": "a0095140",
   "metadata": {},
   "outputs": [],
   "source": [
    "def bal_split_norm(data, expl_vars, resp_var, state, seed):\n",
    "    X = data[expl_vars]\n",
    "    y = data[resp_var]\n",
    "\n",
    "    rus = RandomUnderSampler(random_state=state)\n",
    "    X_rus, y_rus = rus.fit_resample(X, y)\n",
    "\n",
    "    # Split dataset into training set and test set\n",
    "    X_train, X_test, y_train, y_test = train_test_split(X_rus, y_rus,\n",
    "                                                        test_size=0.3, \n",
    "                                                        random_state=seed,\n",
    "                                                        stratify = y_rus)  # 70% training and 30% test\n",
    "    mm = MinMaxScaler()\n",
    "    X_train_scaled = mm.fit_transform(X_train)\n",
    "    X_test_scaled = mm.transform(X_test)\n",
    "    \n",
    "    return X_train_scaled, y_train, X_test_scaled, y_test"
   ]
  },
  {
   "cell_type": "markdown",
   "id": "823eb541",
   "metadata": {},
   "source": [
    "## For 2020"
   ]
  },
  {
   "cell_type": "code",
   "execution_count": 8,
   "id": "0c9f91be",
   "metadata": {},
   "outputs": [],
   "source": [
    "# X_train, y_train, X_test, y_test = bal_split_norm(data_2020,\n",
    "#                                                   sbs, #convert string to list\n",
    "#                                                  sev,\n",
    "#                                                  2020,\n",
    "#                                                  14)"
   ]
  },
  {
   "cell_type": "markdown",
   "id": "075be4cc",
   "metadata": {},
   "source": [
    "## Hyperparameter tuning (training set only)"
   ]
  },
  {
   "cell_type": "code",
   "execution_count": 9,
   "id": "3f0db2b6",
   "metadata": {},
   "outputs": [],
   "source": [
    "# # Create dictionary of parameters to test with randomizedCV\n",
    "\n",
    "# from sklearn.model_selection import RandomizedSearchCV\n",
    "\n",
    "# n_estimators = [int(x) for x in np.linspace(start = 100, stop = 1000,\n",
    "# num = 10)]\n",
    "# max_features = ['log2', 'sqrt']\n",
    "# max_depth = [int(x) for x in np.linspace(start = 1, stop = 15, num =\n",
    "# 15)]\n",
    "# min_samples_split = [int(x) for x in np.linspace(start = 2, stop = 50,\n",
    "# num = 10)]\n",
    "# min_samples_leaf = [int(x) for x in np.linspace(start = 1, stop = 50,\n",
    "# num = 5)]\n",
    "# bootstrap = [True, False]\n",
    "# param_dist = {'n_estimators': n_estimators,\n",
    "# 'max_features': max_features,\n",
    "# 'max_depth': max_depth,\n",
    "# 'min_samples_split': min_samples_split,\n",
    "# 'min_samples_leaf': min_samples_leaf,\n",
    "# 'bootstrap': bootstrap}"
   ]
  },
  {
   "cell_type": "code",
   "execution_count": 10,
   "id": "34cad011",
   "metadata": {},
   "outputs": [],
   "source": [
    "# rfc = RandomForestClassifier()"
   ]
  },
  {
   "cell_type": "code",
   "execution_count": 11,
   "id": "226ec1d8",
   "metadata": {},
   "outputs": [
    {
     "name": "stdout",
     "output_type": "stream",
     "text": [
      "Fitting 3 folds for each of 100 candidates, totalling 300 fits\n"
     ]
    },
    {
     "data": {
      "text/plain": [
       "{'n_estimators': 600,\n",
       " 'min_samples_split': 12,\n",
       " 'min_samples_leaf': 1,\n",
       " 'max_features': 'log2',\n",
       " 'max_depth': 4,\n",
       " 'bootstrap': False}"
      ]
     },
     "execution_count": 11,
     "metadata": {},
     "output_type": "execute_result"
    }
   ],
   "source": [
    "# rs = RandomizedSearchCV(rfc,\n",
    "# param_dist,\n",
    "# n_iter = 100,\n",
    "# scoring = 'f1',\n",
    "# cv = 3,\n",
    "# verbose = 1,\n",
    "# n_jobs=-1,\n",
    "# random_state=0)\n",
    "\n",
    "# rs.fit(X_train, y_train)\n",
    "# rs.best_params_"
   ]
  },
  {
   "cell_type": "code",
   "execution_count": 12,
   "id": "3424dbad",
   "metadata": {},
   "outputs": [
    {
     "data": {
      "text/html": [
       "<div>\n",
       "<style scoped>\n",
       "    .dataframe tbody tr th:only-of-type {\n",
       "        vertical-align: middle;\n",
       "    }\n",
       "\n",
       "    .dataframe tbody tr th {\n",
       "        vertical-align: top;\n",
       "    }\n",
       "\n",
       "    .dataframe thead th {\n",
       "        text-align: right;\n",
       "    }\n",
       "</style>\n",
       "<table border=\"1\" class=\"dataframe\">\n",
       "  <thead>\n",
       "    <tr style=\"text-align: right;\">\n",
       "      <th></th>\n",
       "      <th>param_n_estimators</th>\n",
       "      <th>param_min_samples_split</th>\n",
       "      <th>param_min_samples_leaf</th>\n",
       "      <th>param_max_features</th>\n",
       "      <th>param_max_depth</th>\n",
       "      <th>param_bootstrap</th>\n",
       "      <th>mean_test_score</th>\n",
       "      <th>rank_test_score</th>\n",
       "    </tr>\n",
       "  </thead>\n",
       "  <tbody>\n",
       "    <tr>\n",
       "      <th>0</th>\n",
       "      <td>600</td>\n",
       "      <td>12</td>\n",
       "      <td>1</td>\n",
       "      <td>log2</td>\n",
       "      <td>4</td>\n",
       "      <td>False</td>\n",
       "      <td>0.669913</td>\n",
       "      <td>1</td>\n",
       "    </tr>\n",
       "    <tr>\n",
       "      <th>1</th>\n",
       "      <td>300</td>\n",
       "      <td>12</td>\n",
       "      <td>1</td>\n",
       "      <td>log2</td>\n",
       "      <td>13</td>\n",
       "      <td>False</td>\n",
       "      <td>0.669913</td>\n",
       "      <td>1</td>\n",
       "    </tr>\n",
       "    <tr>\n",
       "      <th>2</th>\n",
       "      <td>200</td>\n",
       "      <td>12</td>\n",
       "      <td>1</td>\n",
       "      <td>log2</td>\n",
       "      <td>7</td>\n",
       "      <td>True</td>\n",
       "      <td>0.638095</td>\n",
       "      <td>3</td>\n",
       "    </tr>\n",
       "    <tr>\n",
       "      <th>3</th>\n",
       "      <td>700</td>\n",
       "      <td>18</td>\n",
       "      <td>1</td>\n",
       "      <td>log2</td>\n",
       "      <td>7</td>\n",
       "      <td>True</td>\n",
       "      <td>0.586243</td>\n",
       "      <td>4</td>\n",
       "    </tr>\n",
       "    <tr>\n",
       "      <th>4</th>\n",
       "      <td>300</td>\n",
       "      <td>18</td>\n",
       "      <td>1</td>\n",
       "      <td>sqrt</td>\n",
       "      <td>12</td>\n",
       "      <td>False</td>\n",
       "      <td>0.552189</td>\n",
       "      <td>5</td>\n",
       "    </tr>\n",
       "    <tr>\n",
       "      <th>5</th>\n",
       "      <td>700</td>\n",
       "      <td>2</td>\n",
       "      <td>1</td>\n",
       "      <td>log2</td>\n",
       "      <td>6</td>\n",
       "      <td>False</td>\n",
       "      <td>0.546032</td>\n",
       "      <td>6</td>\n",
       "    </tr>\n",
       "    <tr>\n",
       "      <th>6</th>\n",
       "      <td>400</td>\n",
       "      <td>23</td>\n",
       "      <td>1</td>\n",
       "      <td>log2</td>\n",
       "      <td>3</td>\n",
       "      <td>False</td>\n",
       "      <td>0.534392</td>\n",
       "      <td>7</td>\n",
       "    </tr>\n",
       "    <tr>\n",
       "      <th>7</th>\n",
       "      <td>400</td>\n",
       "      <td>23</td>\n",
       "      <td>1</td>\n",
       "      <td>log2</td>\n",
       "      <td>5</td>\n",
       "      <td>False</td>\n",
       "      <td>0.534392</td>\n",
       "      <td>7</td>\n",
       "    </tr>\n",
       "    <tr>\n",
       "      <th>8</th>\n",
       "      <td>300</td>\n",
       "      <td>12</td>\n",
       "      <td>13</td>\n",
       "      <td>log2</td>\n",
       "      <td>12</td>\n",
       "      <td>True</td>\n",
       "      <td>0.210526</td>\n",
       "      <td>9</td>\n",
       "    </tr>\n",
       "    <tr>\n",
       "      <th>9</th>\n",
       "      <td>600</td>\n",
       "      <td>28</td>\n",
       "      <td>25</td>\n",
       "      <td>sqrt</td>\n",
       "      <td>1</td>\n",
       "      <td>True</td>\n",
       "      <td>0.210526</td>\n",
       "      <td>9</td>\n",
       "    </tr>\n",
       "  </tbody>\n",
       "</table>\n",
       "</div>"
      ],
      "text/plain": [
       "  param_n_estimators param_min_samples_split param_min_samples_leaf  \\\n",
       "0                600                      12                      1   \n",
       "1                300                      12                      1   \n",
       "2                200                      12                      1   \n",
       "3                700                      18                      1   \n",
       "4                300                      18                      1   \n",
       "5                700                       2                      1   \n",
       "6                400                      23                      1   \n",
       "7                400                      23                      1   \n",
       "8                300                      12                     13   \n",
       "9                600                      28                     25   \n",
       "\n",
       "  param_max_features param_max_depth param_bootstrap  mean_test_score  \\\n",
       "0               log2               4           False         0.669913   \n",
       "1               log2              13           False         0.669913   \n",
       "2               log2               7            True         0.638095   \n",
       "3               log2               7            True         0.586243   \n",
       "4               sqrt              12           False         0.552189   \n",
       "5               log2               6           False         0.546032   \n",
       "6               log2               3           False         0.534392   \n",
       "7               log2               5           False         0.534392   \n",
       "8               log2              12            True         0.210526   \n",
       "9               sqrt               1            True         0.210526   \n",
       "\n",
       "   rank_test_score  \n",
       "0                1  \n",
       "1                1  \n",
       "2                3  \n",
       "3                4  \n",
       "4                5  \n",
       "5                6  \n",
       "6                7  \n",
       "7                7  \n",
       "8                9  \n",
       "9                9  "
      ]
     },
     "execution_count": 12,
     "metadata": {},
     "output_type": "execute_result"
    }
   ],
   "source": [
    "# rs_df = pd.DataFrame(rs.cv_results_).sort_values('rank_test_score').reset_index(drop=True)\n",
    "# rs_df = rs_df.drop([\n",
    "# 'mean_fit_time',\n",
    "# 'std_fit_time',\n",
    "# 'mean_score_time',\n",
    "# 'std_score_time',\n",
    "# 'params',\n",
    "# 'split0_test_score',\n",
    "# 'split1_test_score',\n",
    "# 'split2_test_score',\n",
    "# 'std_test_score'],\n",
    "# axis=1)\n",
    "\n",
    "# rs_df.head(10)"
   ]
  },
  {
   "cell_type": "code",
   "execution_count": 13,
   "id": "1e5325c5",
   "metadata": {},
   "outputs": [
    {
     "name": "stdout",
     "output_type": "stream",
     "text": [
      "Fitting 3 folds for each of 192 candidates, totalling 576 fits\n"
     ]
    },
    {
     "data": {
      "text/plain": [
       "{'bootstrap': True,\n",
       " 'max_depth': 13,\n",
       " 'max_features': 'sqrt',\n",
       " 'min_samples_leaf': 1,\n",
       " 'min_samples_split': 12,\n",
       " 'n_estimators': 100}"
      ]
     },
     "execution_count": 13,
     "metadata": {},
     "output_type": "execute_result"
    }
   ],
   "source": [
    "# from sklearn.model_selection import GridSearchCV\n",
    "# n_estimators = [100,200,300,600]\n",
    "# max_features = ['sqrt','log2']\n",
    "# max_depth = [3,4,7,13]\n",
    "# min_samples_split = [2,12,18]\n",
    "# min_samples_leaf = [1]\n",
    "# bootstrap = [True,False]\n",
    "\n",
    "# param_grid = {'n_estimators': n_estimators,\n",
    "# 'max_features': max_features,\n",
    "# 'max_depth': max_depth,\n",
    "# 'min_samples_split': min_samples_split,\n",
    "# 'min_samples_leaf': min_samples_leaf,\n",
    "# 'bootstrap': bootstrap}\n",
    "\n",
    "# gs = GridSearchCV(rfc, param_grid, cv = 3, verbose = 1, n_jobs=-1)\n",
    "# gs.fit(X_train, y_train)\n",
    "# rfc_2 = gs.best_estimator_\n",
    "# gs.best_params_"
   ]
  },
  {
   "cell_type": "code",
   "execution_count": 15,
   "id": "77d465f2",
   "metadata": {},
   "outputs": [],
   "source": [
    "# y_pred_gs = rfc_2.predict(X_test)"
   ]
  },
  {
   "cell_type": "markdown",
   "id": "1e4597a9",
   "metadata": {},
   "source": [
    "## Plot confusion matrix and get all model metrics"
   ]
  },
  {
   "cell_type": "code",
   "execution_count": 16,
   "id": "f5ebdd22",
   "metadata": {},
   "outputs": [
    {
     "name": "stdout",
     "output_type": "stream",
     "text": [
      "[[5 3]\n",
      " [2 7]]\n",
      "              precision    recall  f1-score   support\n",
      "\n",
      "           0       0.71      0.62      0.67         8\n",
      "           1       0.70      0.78      0.74         9\n",
      "\n",
      "    accuracy                           0.71        17\n",
      "   macro avg       0.71      0.70      0.70        17\n",
      "weighted avg       0.71      0.71      0.70        17\n",
      "\n"
     ]
    },
    {
     "data": {
      "image/png": "[encoded data removed]",
      "text/plain": [
       "<Figure size 640x480 with 2 Axes>"
      ]
     },
     "metadata": {},
     "output_type": "display_data"
    }
   ],
   "source": [
    "# from sklearn.metrics import confusion_matrix                            \n",
    "\n",
    "\n",
    "\n",
    "# cf_matrix = confusion_matrix(y_test, y_pred_gs)\n",
    "# print(cf_matrix)\n",
    "\n",
    "# sns.set(font_scale=1)\n",
    "# sns.heatmap(cf_matrix, annot=True,\n",
    "#            vmin=0, vmax=9, center= 0,\n",
    "#            cmap= 'coolwarm', linewidths=2, linecolor='black',\n",
    "#            xticklabels=['low','high'],\n",
    "#            yticklabels=['low','high']).set(title='Predicted vs. True GDM severity, SkySat 2020 (SB)');\n",
    "\n",
    "# plt.ylabel('True')\n",
    "# plt.xlabel('Predicted')\n",
    "# plt.tight_layout()\n",
    "\n",
    "# plt.savefig('/Users/kathleenkanaley/Desktop/figs_phytopath_rev/corr_matrices_RF/SkySat/SB/Sev_2020.jpg')\n",
    "# report = classification_report(y_test, y_pred_gs)\n",
    "\n",
    "# print(report)\n",
    "# # conf_matrix_tuned = pd.DataFrame(confusion_matrix(y_test, y_pred_gs),\n",
    "# #         index = [np.unique(y_pred)[0],np.unique(y_pred)[1]], columns = [np.unique(y_pred)[0],np.unique(y_pred)[1]])\n",
    "                                                         \n",
    "# # display(conf_matrix_tuned)\n",
    "# # display('Hyperparameter Tuned Random Forest accuracy score', accuracy_score(y_test, y_pred_gs))"
   ]
  },
  {
   "cell_type": "code",
   "execution_count": 83,
   "id": "a136cf1a",
   "metadata": {},
   "outputs": [
    {
     "data": {
      "text/plain": [
       "{0: 28, 1: 43}"
      ]
     },
     "execution_count": 83,
     "metadata": {},
     "output_type": "execute_result"
    }
   ],
   "source": [
    "# # Make sure axes are properly labeled\n",
    "# unique, counts = np.unique(y_pred_gs, return_counts=True)\n",
    "\n",
    "# dict(zip(unique, counts))"
   ]
  },
  {
   "cell_type": "markdown",
   "id": "6d70ac71",
   "metadata": {},
   "source": [
    "## Permutation importance plots"
   ]
  },
  {
   "cell_type": "code",
   "execution_count": 84,
   "id": "2b537187",
   "metadata": {},
   "outputs": [],
   "source": [
    "# Get permutation feature imp. scores\n",
    "# https://scikit-learn.org/stable/auto_examples/inspection/plot_permutation_importance.html#sphx-glr-auto-examples-inspection-plot-permutation-importance-py"
   ]
  },
  {
   "cell_type": "code",
   "execution_count": 17,
   "id": "19eccb8b",
   "metadata": {},
   "outputs": [
    {
     "data": {
      "image/png": "[encoded data removed]",
      "text/plain": [
       "<Figure size 640x480 with 1 Axes>"
      ]
     },
     "metadata": {},
     "output_type": "display_data"
    }
   ],
   "source": [
    "# from sklearn.inspection import permutation_importance\n",
    "\n",
    "# result = permutation_importance(\n",
    "#     rfc_2, X_test, y_test, n_repeats=10, random_state=16, n_jobs=2\n",
    "# )\n",
    "\n",
    "# sorted_importances_idx = result.importances_mean.argsort()\n",
    "\n",
    "# importances = pd.DataFrame(\n",
    "#     result.importances[sorted_importances_idx].T,\n",
    "#     columns=data_2020[sbs].columns[sorted_importances_idx],\n",
    "# )\n",
    "# ax = importances.plot.box(vert=False, whis=10)\n",
    "# ax.set_title(\"Permutation Importances (test set)\",fontname=\"Arial\", fontsize=16)\n",
    "# #ax.axvline(x=0, color=\"k\", linestyle=\"--\")\n",
    "# ax.set_xlabel(\"Decrease in accuracy score\",fontname=\"Arial\", fontsize = 16)\n",
    "# ax.set_ylabel(\"Features\",fontname=\"Arial\", fontsize = 16)\n",
    "\n",
    "# ax.figure.tight_layout()\n",
    "# plt.savefig('/Users/kathleenkanaley/Desktop/figs_phytopath_rev/permimp_RF/SkySat/SB/permimp_sev20.jpg')"
   ]
  },
  {
   "cell_type": "markdown",
   "id": "676c1996",
   "metadata": {},
   "source": [
    "## 2021"
   ]
  },
  {
   "cell_type": "code",
   "execution_count": 18,
   "id": "afc42202",
   "metadata": {},
   "outputs": [],
   "source": [
    "# X_train, y_train, X_test, y_test = bal_split_norm(data_2021,\n",
    "#                                                   sbs, #convert string to list\n",
    "#                                                  sev,\n",
    "#                                                  2020,\n",
    "#                                                  14)"
   ]
  },
  {
   "cell_type": "code",
   "execution_count": 19,
   "id": "15d2425c",
   "metadata": {},
   "outputs": [],
   "source": [
    "# # Create dictionary of parameters to test with randomizedCV\n",
    "\n",
    "# from sklearn.model_selection import RandomizedSearchCV\n",
    "\n",
    "# n_estimators = [int(x) for x in np.linspace(start = 100, stop = 1000,\n",
    "# num = 10)]\n",
    "# max_features = ['log2', 'sqrt']\n",
    "# max_depth = [int(x) for x in np.linspace(start = 1, stop = 15, num =\n",
    "# 15)]\n",
    "# min_samples_split = [int(x) for x in np.linspace(start = 2, stop = 50,\n",
    "# num = 10)]\n",
    "# min_samples_leaf = [int(x) for x in np.linspace(start = 1, stop = 50,\n",
    "# num = 5)]\n",
    "# bootstrap = [True, False]\n",
    "# param_dist = {'n_estimators': n_estimators,\n",
    "# 'max_features': max_features,\n",
    "# 'max_depth': max_depth,\n",
    "# 'min_samples_split': min_samples_split,\n",
    "# 'min_samples_leaf': min_samples_leaf,\n",
    "# 'bootstrap': bootstrap}"
   ]
  },
  {
   "cell_type": "code",
   "execution_count": 20,
   "id": "94f29df7",
   "metadata": {},
   "outputs": [
    {
     "name": "stdout",
     "output_type": "stream",
     "text": [
      "Fitting 3 folds for each of 100 candidates, totalling 300 fits\n"
     ]
    },
    {
     "data": {
      "text/plain": [
       "{'n_estimators': 200,\n",
       " 'min_samples_split': 12,\n",
       " 'min_samples_leaf': 1,\n",
       " 'max_features': 'log2',\n",
       " 'max_depth': 7,\n",
       " 'bootstrap': True}"
      ]
     },
     "execution_count": 20,
     "metadata": {},
     "output_type": "execute_result"
    }
   ],
   "source": [
    "# rfc = RandomForestClassifier()\n",
    "# rs = RandomizedSearchCV(rfc,\n",
    "# param_dist,\n",
    "# n_iter = 100,\n",
    "# scoring = 'f1',\n",
    "# cv = 3,\n",
    "# verbose = 1,\n",
    "# n_jobs=-1,\n",
    "# random_state=0)\n",
    "\n",
    "# rs.fit(X_train, y_train)\n",
    "# rs.best_params_"
   ]
  },
  {
   "cell_type": "code",
   "execution_count": 21,
   "id": "d24688c3",
   "metadata": {},
   "outputs": [
    {
     "data": {
      "text/html": [
       "<div>\n",
       "<style scoped>\n",
       "    .dataframe tbody tr th:only-of-type {\n",
       "        vertical-align: middle;\n",
       "    }\n",
       "\n",
       "    .dataframe tbody tr th {\n",
       "        vertical-align: top;\n",
       "    }\n",
       "\n",
       "    .dataframe thead th {\n",
       "        text-align: right;\n",
       "    }\n",
       "</style>\n",
       "<table border=\"1\" class=\"dataframe\">\n",
       "  <thead>\n",
       "    <tr style=\"text-align: right;\">\n",
       "      <th></th>\n",
       "      <th>param_n_estimators</th>\n",
       "      <th>param_min_samples_split</th>\n",
       "      <th>param_min_samples_leaf</th>\n",
       "      <th>param_max_features</th>\n",
       "      <th>param_max_depth</th>\n",
       "      <th>param_bootstrap</th>\n",
       "      <th>mean_test_score</th>\n",
       "      <th>rank_test_score</th>\n",
       "    </tr>\n",
       "  </thead>\n",
       "  <tbody>\n",
       "    <tr>\n",
       "      <th>0</th>\n",
       "      <td>200</td>\n",
       "      <td>12</td>\n",
       "      <td>1</td>\n",
       "      <td>log2</td>\n",
       "      <td>7</td>\n",
       "      <td>True</td>\n",
       "      <td>0.719462</td>\n",
       "      <td>1</td>\n",
       "    </tr>\n",
       "    <tr>\n",
       "      <th>1</th>\n",
       "      <td>600</td>\n",
       "      <td>12</td>\n",
       "      <td>1</td>\n",
       "      <td>log2</td>\n",
       "      <td>4</td>\n",
       "      <td>False</td>\n",
       "      <td>0.714771</td>\n",
       "      <td>2</td>\n",
       "    </tr>\n",
       "    <tr>\n",
       "      <th>2</th>\n",
       "      <td>700</td>\n",
       "      <td>18</td>\n",
       "      <td>1</td>\n",
       "      <td>log2</td>\n",
       "      <td>7</td>\n",
       "      <td>True</td>\n",
       "      <td>0.703935</td>\n",
       "      <td>3</td>\n",
       "    </tr>\n",
       "    <tr>\n",
       "      <th>3</th>\n",
       "      <td>700</td>\n",
       "      <td>23</td>\n",
       "      <td>25</td>\n",
       "      <td>log2</td>\n",
       "      <td>1</td>\n",
       "      <td>False</td>\n",
       "      <td>0.702712</td>\n",
       "      <td>4</td>\n",
       "    </tr>\n",
       "    <tr>\n",
       "      <th>4</th>\n",
       "      <td>700</td>\n",
       "      <td>44</td>\n",
       "      <td>13</td>\n",
       "      <td>log2</td>\n",
       "      <td>1</td>\n",
       "      <td>False</td>\n",
       "      <td>0.702712</td>\n",
       "      <td>4</td>\n",
       "    </tr>\n",
       "    <tr>\n",
       "      <th>5</th>\n",
       "      <td>600</td>\n",
       "      <td>7</td>\n",
       "      <td>13</td>\n",
       "      <td>log2</td>\n",
       "      <td>1</td>\n",
       "      <td>False</td>\n",
       "      <td>0.702712</td>\n",
       "      <td>4</td>\n",
       "    </tr>\n",
       "    <tr>\n",
       "      <th>6</th>\n",
       "      <td>700</td>\n",
       "      <td>2</td>\n",
       "      <td>1</td>\n",
       "      <td>log2</td>\n",
       "      <td>6</td>\n",
       "      <td>False</td>\n",
       "      <td>0.700786</td>\n",
       "      <td>7</td>\n",
       "    </tr>\n",
       "    <tr>\n",
       "      <th>7</th>\n",
       "      <td>700</td>\n",
       "      <td>28</td>\n",
       "      <td>1</td>\n",
       "      <td>sqrt</td>\n",
       "      <td>8</td>\n",
       "      <td>False</td>\n",
       "      <td>0.694805</td>\n",
       "      <td>8</td>\n",
       "    </tr>\n",
       "    <tr>\n",
       "      <th>8</th>\n",
       "      <td>300</td>\n",
       "      <td>12</td>\n",
       "      <td>1</td>\n",
       "      <td>log2</td>\n",
       "      <td>13</td>\n",
       "      <td>False</td>\n",
       "      <td>0.694050</td>\n",
       "      <td>9</td>\n",
       "    </tr>\n",
       "    <tr>\n",
       "      <th>9</th>\n",
       "      <td>400</td>\n",
       "      <td>23</td>\n",
       "      <td>1</td>\n",
       "      <td>log2</td>\n",
       "      <td>5</td>\n",
       "      <td>False</td>\n",
       "      <td>0.690680</td>\n",
       "      <td>10</td>\n",
       "    </tr>\n",
       "  </tbody>\n",
       "</table>\n",
       "</div>"
      ],
      "text/plain": [
       "  param_n_estimators param_min_samples_split param_min_samples_leaf  \\\n",
       "0                200                      12                      1   \n",
       "1                600                      12                      1   \n",
       "2                700                      18                      1   \n",
       "3                700                      23                     25   \n",
       "4                700                      44                     13   \n",
       "5                600                       7                     13   \n",
       "6                700                       2                      1   \n",
       "7                700                      28                      1   \n",
       "8                300                      12                      1   \n",
       "9                400                      23                      1   \n",
       "\n",
       "  param_max_features param_max_depth param_bootstrap  mean_test_score  \\\n",
       "0               log2               7            True         0.719462   \n",
       "1               log2               4           False         0.714771   \n",
       "2               log2               7            True         0.703935   \n",
       "3               log2               1           False         0.702712   \n",
       "4               log2               1           False         0.702712   \n",
       "5               log2               1           False         0.702712   \n",
       "6               log2               6           False         0.700786   \n",
       "7               sqrt               8           False         0.694805   \n",
       "8               log2              13           False         0.694050   \n",
       "9               log2               5           False         0.690680   \n",
       "\n",
       "   rank_test_score  \n",
       "0                1  \n",
       "1                2  \n",
       "2                3  \n",
       "3                4  \n",
       "4                4  \n",
       "5                4  \n",
       "6                7  \n",
       "7                8  \n",
       "8                9  \n",
       "9               10  "
      ]
     },
     "execution_count": 21,
     "metadata": {},
     "output_type": "execute_result"
    }
   ],
   "source": [
    "# rs_df = pd.DataFrame(rs.cv_results_).sort_values('rank_test_score').reset_index(drop=True)\n",
    "# rs_df = rs_df.drop([\n",
    "# 'mean_fit_time',\n",
    "# 'std_fit_time',\n",
    "# 'mean_score_time',\n",
    "# 'std_score_time',\n",
    "# 'params',\n",
    "# 'split0_test_score',\n",
    "# 'split1_test_score',\n",
    "# 'split2_test_score',\n",
    "# 'std_test_score'],\n",
    "# axis=1)\n",
    "\n",
    "# rs_df.head(10)"
   ]
  },
  {
   "cell_type": "code",
   "execution_count": 22,
   "id": "e108d541",
   "metadata": {},
   "outputs": [
    {
     "name": "stdout",
     "output_type": "stream",
     "text": [
      "Fitting 3 folds for each of 192 candidates, totalling 576 fits\n"
     ]
    },
    {
     "data": {
      "text/plain": [
       "{'bootstrap': True,\n",
       " 'max_depth': 7,\n",
       " 'max_features': 'log2',\n",
       " 'min_samples_leaf': 1,\n",
       " 'min_samples_split': 2,\n",
       " 'n_estimators': 700}"
      ]
     },
     "execution_count": 22,
     "metadata": {},
     "output_type": "execute_result"
    }
   ],
   "source": [
    "# from sklearn.model_selection import GridSearchCV\n",
    "# n_estimators = [100,200,600,700]\n",
    "# max_features = ['sqrt','log2']\n",
    "# max_depth = [1,3,4,7]\n",
    "# min_samples_split = [2,12,18]\n",
    "# min_samples_leaf = [1]\n",
    "# bootstrap = [True,False]\n",
    "\n",
    "# param_grid = {'n_estimators': n_estimators,\n",
    "# 'max_features': max_features,\n",
    "# 'max_depth': max_depth,\n",
    "# 'min_samples_split': min_samples_split,\n",
    "# 'min_samples_leaf': min_samples_leaf,\n",
    "# 'bootstrap': bootstrap}\n",
    "\n",
    "# gs = GridSearchCV(rfc, param_grid, cv = 3, verbose = 1, n_jobs=-1)\n",
    "# gs.fit(X_train, y_train)\n",
    "# rfc_2 = gs.best_estimator_\n",
    "# gs.best_params_"
   ]
  },
  {
   "cell_type": "code",
   "execution_count": 23,
   "id": "553aa3d0",
   "metadata": {},
   "outputs": [],
   "source": [
    "# y_pred_gs = rfc_2.predict(X_test)"
   ]
  },
  {
   "cell_type": "code",
   "execution_count": 24,
   "id": "1c1f725b",
   "metadata": {},
   "outputs": [
    {
     "name": "stdout",
     "output_type": "stream",
     "text": [
      "[[26 10]\n",
      " [10 27]]\n",
      "              precision    recall  f1-score   support\n",
      "\n",
      "           0       0.72      0.72      0.72        36\n",
      "           1       0.73      0.73      0.73        37\n",
      "\n",
      "    accuracy                           0.73        73\n",
      "   macro avg       0.73      0.73      0.73        73\n",
      "weighted avg       0.73      0.73      0.73        73\n",
      "\n"
     ]
    },
    {
     "data": {
      "image/png": "[encoded data removed]",
      "text/plain": [
       "<Figure size 640x480 with 2 Axes>"
      ]
     },
     "metadata": {},
     "output_type": "display_data"
    }
   ],
   "source": [
    "# from sklearn.metrics import confusion_matrix                            \n",
    "\n",
    "\n",
    "# cf_matrix = confusion_matrix(y_test, y_pred_gs)\n",
    "# print(cf_matrix)\n",
    "\n",
    "# sns.set(font_scale=1)\n",
    "# sns.heatmap(cf_matrix, annot=True, fmt='.3g',\n",
    "#            vmin=0, vmax=37, center= 0,\n",
    "#            cmap= 'coolwarm', linewidths=2, linecolor='black',\n",
    "#            xticklabels=['low','high'],\n",
    "#            yticklabels=['low','high']).set(title='Predicted vs. True GDM severity, SkySat 2021 (SB)');\n",
    "\n",
    "# plt.ylabel('True')\n",
    "# plt.xlabel('Predicted')\n",
    "# plt.tight_layout()\n",
    "\n",
    "# plt.savefig('/Users/kathleenkanaley/Desktop/figs_phytopath_rev/corr_matrices_RF/SkySat/SB/Sev_2021.jpg')\n",
    "# report = classification_report(y_test, y_pred_gs)\n",
    "\n",
    "# print(report)\n",
    "# # conf_matrix_tuned = pd.DataFrame(confusion_matrix(y_test, y_pred_gs),\n",
    "# #         index = [np.unique(y_pred)[0],np.unique(y_pred)[1]], columns = [np.unique(y_pred)[0],np.unique(y_pred)[1]])\n",
    "                                                         \n",
    "# # display(conf_matrix_tuned)\n",
    "# # display('Hyperparameter Tuned Random Forest accuracy score', accuracy_score(y_test, y_pred_gs))"
   ]
  },
  {
   "cell_type": "code",
   "execution_count": 25,
   "id": "8542b145",
   "metadata": {},
   "outputs": [
    {
     "data": {
      "image/png": "[encoded data removed]",
      "text/plain": [
       "<Figure size 640x480 with 1 Axes>"
      ]
     },
     "metadata": {},
     "output_type": "display_data"
    }
   ],
   "source": [
    "# from sklearn.inspection import permutation_importance\n",
    "\n",
    "# result = permutation_importance(\n",
    "#     rfc_2, X_test, y_test, n_repeats=10, random_state=16, n_jobs=2\n",
    "# )\n",
    "\n",
    "# sorted_importances_idx = result.importances_mean.argsort()\n",
    "\n",
    "# importances = pd.DataFrame(\n",
    "#     result.importances[sorted_importances_idx].T,\n",
    "#     columns=data_2021[sbs].columns[sorted_importances_idx],\n",
    "# )\n",
    "# ax = importances.plot.box(vert=False, whis=10)\n",
    "# ax.set_title(\"Permutation Importances (test set)\",fontname=\"Arial\", fontsize=16)\n",
    "# #ax.axvline(x=0, color=\"k\", linestyle=\"--\")\n",
    "# ax.set_xlabel(\"Decrease in accuracy score\",fontname=\"Arial\", fontsize = 16)\n",
    "# ax.set_ylabel(\"Features\",fontname=\"Arial\", fontsize = 16)\n",
    "\n",
    "# ax.figure.tight_layout()\n",
    "# plt.savefig('/Users/kathleenkanaley/Desktop/figs_phytopath_rev/permimp_RF/SkySat/SB/permimp_sev21.jpg')"
   ]
  },
  {
   "cell_type": "markdown",
   "id": "b997ec2c",
   "metadata": {},
   "source": [
    "## 2022"
   ]
  },
  {
   "cell_type": "code",
   "execution_count": 26,
   "id": "960f79fc",
   "metadata": {},
   "outputs": [],
   "source": [
    "# X_train, y_train, X_test, y_test = bal_split_norm(data_2022,\n",
    "#                                                   sbs, #convert string to list\n",
    "#                                                  sev,\n",
    "#                                                  2020,\n",
    "#                                                  14)"
   ]
  },
  {
   "cell_type": "code",
   "execution_count": 27,
   "id": "13e25f32",
   "metadata": {},
   "outputs": [],
   "source": [
    "# # Create dictionary of parameters to test with randomizedCV\n",
    "\n",
    "# from sklearn.model_selection import RandomizedSearchCV\n",
    "\n",
    "# n_estimators = [int(x) for x in np.linspace(start = 100, stop = 1000,\n",
    "# num = 10)]\n",
    "# max_features = ['log2', 'sqrt']\n",
    "# max_depth = [int(x) for x in np.linspace(start = 1, stop = 15, num =\n",
    "# 15)]\n",
    "# min_samples_split = [int(x) for x in np.linspace(start = 2, stop = 50,\n",
    "# num = 10)]\n",
    "# min_samples_leaf = [int(x) for x in np.linspace(start = 1, stop = 50,\n",
    "# num = 5)]\n",
    "# bootstrap = [True, False]\n",
    "# param_dist = {'n_estimators': n_estimators,\n",
    "# 'max_features': max_features,\n",
    "# 'max_depth': max_depth,\n",
    "# 'min_samples_split': min_samples_split,\n",
    "# 'min_samples_leaf': min_samples_leaf,\n",
    "# 'bootstrap': bootstrap}"
   ]
  },
  {
   "cell_type": "code",
   "execution_count": 28,
   "id": "750e394e",
   "metadata": {},
   "outputs": [
    {
     "name": "stdout",
     "output_type": "stream",
     "text": [
      "Fitting 3 folds for each of 100 candidates, totalling 300 fits\n"
     ]
    },
    {
     "data": {
      "text/plain": [
       "{'n_estimators': 700,\n",
       " 'min_samples_split': 2,\n",
       " 'min_samples_leaf': 1,\n",
       " 'max_features': 'log2',\n",
       " 'max_depth': 6,\n",
       " 'bootstrap': False}"
      ]
     },
     "execution_count": 28,
     "metadata": {},
     "output_type": "execute_result"
    }
   ],
   "source": [
    "# rfc = RandomForestClassifier()\n",
    "# rs = RandomizedSearchCV(rfc,\n",
    "# param_dist,\n",
    "# n_iter = 100,\n",
    "# scoring = 'f1',\n",
    "# cv = 3,\n",
    "# verbose = 1,\n",
    "# n_jobs=-1,\n",
    "# random_state=0)\n",
    "\n",
    "# rs.fit(X_train, y_train)\n",
    "# rs.best_params_"
   ]
  },
  {
   "cell_type": "code",
   "execution_count": 29,
   "id": "ed3855f7",
   "metadata": {},
   "outputs": [
    {
     "data": {
      "text/html": [
       "<div>\n",
       "<style scoped>\n",
       "    .dataframe tbody tr th:only-of-type {\n",
       "        vertical-align: middle;\n",
       "    }\n",
       "\n",
       "    .dataframe tbody tr th {\n",
       "        vertical-align: top;\n",
       "    }\n",
       "\n",
       "    .dataframe thead th {\n",
       "        text-align: right;\n",
       "    }\n",
       "</style>\n",
       "<table border=\"1\" class=\"dataframe\">\n",
       "  <thead>\n",
       "    <tr style=\"text-align: right;\">\n",
       "      <th></th>\n",
       "      <th>param_n_estimators</th>\n",
       "      <th>param_min_samples_split</th>\n",
       "      <th>param_min_samples_leaf</th>\n",
       "      <th>param_max_features</th>\n",
       "      <th>param_max_depth</th>\n",
       "      <th>param_bootstrap</th>\n",
       "      <th>mean_test_score</th>\n",
       "      <th>rank_test_score</th>\n",
       "    </tr>\n",
       "  </thead>\n",
       "  <tbody>\n",
       "    <tr>\n",
       "      <th>0</th>\n",
       "      <td>700</td>\n",
       "      <td>2</td>\n",
       "      <td>1</td>\n",
       "      <td>log2</td>\n",
       "      <td>6</td>\n",
       "      <td>False</td>\n",
       "      <td>0.722222</td>\n",
       "      <td>1</td>\n",
       "    </tr>\n",
       "    <tr>\n",
       "      <th>1</th>\n",
       "      <td>300</td>\n",
       "      <td>18</td>\n",
       "      <td>25</td>\n",
       "      <td>sqrt</td>\n",
       "      <td>3</td>\n",
       "      <td>True</td>\n",
       "      <td>0.412698</td>\n",
       "      <td>2</td>\n",
       "    </tr>\n",
       "    <tr>\n",
       "      <th>2</th>\n",
       "      <td>900</td>\n",
       "      <td>2</td>\n",
       "      <td>13</td>\n",
       "      <td>log2</td>\n",
       "      <td>8</td>\n",
       "      <td>True</td>\n",
       "      <td>0.412698</td>\n",
       "      <td>2</td>\n",
       "    </tr>\n",
       "    <tr>\n",
       "      <th>3</th>\n",
       "      <td>900</td>\n",
       "      <td>34</td>\n",
       "      <td>37</td>\n",
       "      <td>log2</td>\n",
       "      <td>11</td>\n",
       "      <td>True</td>\n",
       "      <td>0.412698</td>\n",
       "      <td>2</td>\n",
       "    </tr>\n",
       "    <tr>\n",
       "      <th>4</th>\n",
       "      <td>1000</td>\n",
       "      <td>7</td>\n",
       "      <td>25</td>\n",
       "      <td>log2</td>\n",
       "      <td>4</td>\n",
       "      <td>True</td>\n",
       "      <td>0.412698</td>\n",
       "      <td>2</td>\n",
       "    </tr>\n",
       "    <tr>\n",
       "      <th>5</th>\n",
       "      <td>200</td>\n",
       "      <td>12</td>\n",
       "      <td>1</td>\n",
       "      <td>log2</td>\n",
       "      <td>7</td>\n",
       "      <td>True</td>\n",
       "      <td>0.412698</td>\n",
       "      <td>2</td>\n",
       "    </tr>\n",
       "    <tr>\n",
       "      <th>6</th>\n",
       "      <td>100</td>\n",
       "      <td>34</td>\n",
       "      <td>1</td>\n",
       "      <td>sqrt</td>\n",
       "      <td>4</td>\n",
       "      <td>True</td>\n",
       "      <td>0.412698</td>\n",
       "      <td>2</td>\n",
       "    </tr>\n",
       "    <tr>\n",
       "      <th>7</th>\n",
       "      <td>100</td>\n",
       "      <td>2</td>\n",
       "      <td>25</td>\n",
       "      <td>log2</td>\n",
       "      <td>11</td>\n",
       "      <td>True</td>\n",
       "      <td>0.412698</td>\n",
       "      <td>2</td>\n",
       "    </tr>\n",
       "    <tr>\n",
       "      <th>8</th>\n",
       "      <td>700</td>\n",
       "      <td>50</td>\n",
       "      <td>50</td>\n",
       "      <td>log2</td>\n",
       "      <td>3</td>\n",
       "      <td>True</td>\n",
       "      <td>0.412698</td>\n",
       "      <td>2</td>\n",
       "    </tr>\n",
       "    <tr>\n",
       "      <th>9</th>\n",
       "      <td>200</td>\n",
       "      <td>39</td>\n",
       "      <td>37</td>\n",
       "      <td>sqrt</td>\n",
       "      <td>2</td>\n",
       "      <td>True</td>\n",
       "      <td>0.412698</td>\n",
       "      <td>2</td>\n",
       "    </tr>\n",
       "  </tbody>\n",
       "</table>\n",
       "</div>"
      ],
      "text/plain": [
       "  param_n_estimators param_min_samples_split param_min_samples_leaf  \\\n",
       "0                700                       2                      1   \n",
       "1                300                      18                     25   \n",
       "2                900                       2                     13   \n",
       "3                900                      34                     37   \n",
       "4               1000                       7                     25   \n",
       "5                200                      12                      1   \n",
       "6                100                      34                      1   \n",
       "7                100                       2                     25   \n",
       "8                700                      50                     50   \n",
       "9                200                      39                     37   \n",
       "\n",
       "  param_max_features param_max_depth param_bootstrap  mean_test_score  \\\n",
       "0               log2               6           False         0.722222   \n",
       "1               sqrt               3            True         0.412698   \n",
       "2               log2               8            True         0.412698   \n",
       "3               log2              11            True         0.412698   \n",
       "4               log2               4            True         0.412698   \n",
       "5               log2               7            True         0.412698   \n",
       "6               sqrt               4            True         0.412698   \n",
       "7               log2              11            True         0.412698   \n",
       "8               log2               3            True         0.412698   \n",
       "9               sqrt               2            True         0.412698   \n",
       "\n",
       "   rank_test_score  \n",
       "0                1  \n",
       "1                2  \n",
       "2                2  \n",
       "3                2  \n",
       "4                2  \n",
       "5                2  \n",
       "6                2  \n",
       "7                2  \n",
       "8                2  \n",
       "9                2  "
      ]
     },
     "execution_count": 29,
     "metadata": {},
     "output_type": "execute_result"
    }
   ],
   "source": [
    "# rs_df = pd.DataFrame(rs.cv_results_).sort_values('rank_test_score').reset_index(drop=True)\n",
    "# rs_df = rs_df.drop([\n",
    "# 'mean_fit_time',\n",
    "# 'std_fit_time',\n",
    "# 'mean_score_time',\n",
    "# 'std_score_time',\n",
    "# 'params',\n",
    "# 'split0_test_score',\n",
    "# 'split1_test_score',\n",
    "# 'split2_test_score',\n",
    "# 'std_test_score'],\n",
    "# axis=1)\n",
    "\n",
    "# rs_df.head(10)"
   ]
  },
  {
   "cell_type": "code",
   "execution_count": 30,
   "id": "ed6abc8e",
   "metadata": {},
   "outputs": [
    {
     "name": "stdout",
     "output_type": "stream",
     "text": [
      "Fitting 3 folds for each of 1024 candidates, totalling 3072 fits\n"
     ]
    },
    {
     "data": {
      "text/plain": [
       "{'bootstrap': False,\n",
       " 'max_depth': 3,\n",
       " 'max_features': 'sqrt',\n",
       " 'min_samples_leaf': 1,\n",
       " 'min_samples_split': 2,\n",
       " 'n_estimators': 100}"
      ]
     },
     "execution_count": 30,
     "metadata": {},
     "output_type": "execute_result"
    }
   ],
   "source": [
    "# from sklearn.model_selection import GridSearchCV\n",
    "# n_estimators = [100,300,700,900]\n",
    "# max_features = ['sqrt','log2']\n",
    "# max_depth = [3,6,8,11]\n",
    "# min_samples_split = [2,7,12,18]\n",
    "# min_samples_leaf = [1,13,25,37]\n",
    "# bootstrap = [True,False]\n",
    "\n",
    "# param_grid = {'n_estimators': n_estimators,\n",
    "# 'max_features': max_features,\n",
    "# 'max_depth': max_depth,\n",
    "# 'min_samples_split': min_samples_split,\n",
    "# 'min_samples_leaf': min_samples_leaf,\n",
    "# 'bootstrap': bootstrap}\n",
    "\n",
    "# gs = GridSearchCV(rfc, param_grid, cv = 3, verbose = 1, n_jobs=-1)\n",
    "# gs.fit(X_train, y_train)\n",
    "# rfc_2 = gs.best_estimator_\n",
    "# gs.best_params_"
   ]
  },
  {
   "cell_type": "code",
   "execution_count": 31,
   "id": "09754765",
   "metadata": {},
   "outputs": [],
   "source": [
    "# y_pred_gs = rfc_2.predict(X_test)"
   ]
  },
  {
   "cell_type": "code",
   "execution_count": 33,
   "id": "f4b4f285",
   "metadata": {},
   "outputs": [
    {
     "name": "stdout",
     "output_type": "stream",
     "text": [
      "[[3 0]\n",
      " [2 1]]\n",
      "              precision    recall  f1-score   support\n",
      "\n",
      "           0       0.60      1.00      0.75         3\n",
      "           1       1.00      0.33      0.50         3\n",
      "\n",
      "    accuracy                           0.67         6\n",
      "   macro avg       0.80      0.67      0.62         6\n",
      "weighted avg       0.80      0.67      0.62         6\n",
      "\n"
     ]
    },
    {
     "data": {
      "image/png": "[encoded data removed]",
      "text/plain": [
       "<Figure size 640x480 with 2 Axes>"
      ]
     },
     "metadata": {},
     "output_type": "display_data"
    }
   ],
   "source": [
    "# from sklearn.metrics import confusion_matrix                            \n",
    "\n",
    "\n",
    "# cf_matrix = confusion_matrix(y_test, y_pred_gs)\n",
    "# print(cf_matrix)\n",
    "\n",
    "# sns.set(font_scale=1)\n",
    "# sns.heatmap(cf_matrix, annot=True, fmt='.3g',\n",
    "#            vmin=0, vmax=3, center= 0,\n",
    "#            cmap= 'coolwarm', linewidths=2, linecolor='black', \n",
    "#            cbar_kws={'ticks':[0,1,2,3]},\n",
    "#            xticklabels=['low','high'],\n",
    "#            yticklabels=['low','high']).set(title='Predicted vs. True GDM severity, SkySat 2022 (SB)');\n",
    "\n",
    "# plt.ylabel('True')\n",
    "# plt.xlabel('Predicted')\n",
    "# plt.tight_layout()\n",
    "\n",
    "# plt.savefig('/Users/kathleenkanaley/Desktop/figs_phytopath_rev/corr_matrices_RF/SkySat/SB/Sev_2022.jpg')\n",
    "# report = classification_report(y_test, y_pred_gs)\n",
    "\n",
    "# print(report)\n",
    "# # conf_matrix_tuned = pd.DataFrame(confusion_matrix(y_test, y_pred_gs),\n",
    "# #         index = [np.unique(y_pred)[0],np.unique(y_pred)[1]], columns = [np.unique(y_pred)[0],np.unique(y_pred)[1]])\n",
    "                                                         \n",
    "# # display(conf_matrix_tuned)\n",
    "# # display('Hyperparameter Tuned Random Forest accuracy score', accuracy_score(y_test, y_pred_gs))"
   ]
  },
  {
   "cell_type": "code",
   "execution_count": 34,
   "id": "01d64a02",
   "metadata": {},
   "outputs": [
    {
     "data": {
      "image/png": "[encoded data removed]",
      "text/plain": [
       "<Figure size 640x480 with 1 Axes>"
      ]
     },
     "metadata": {},
     "output_type": "display_data"
    }
   ],
   "source": [
    "# from sklearn.inspection import permutation_importance\n",
    "\n",
    "# result = permutation_importance(\n",
    "#     rfc_2, X_test, y_test, n_repeats=10, random_state=16, n_jobs=2\n",
    "# )\n",
    "\n",
    "# sorted_importances_idx = result.importances_mean.argsort()\n",
    "\n",
    "# importances = pd.DataFrame(\n",
    "#     result.importances[sorted_importances_idx].T,\n",
    "#     columns=data_2022[sbs].columns[sorted_importances_idx],\n",
    "# )\n",
    "# ax = importances.plot.box(vert=False, whis=10)\n",
    "# ax.set_title(\"Permutation Importances (test set)\",fontname=\"Arial\", fontsize=16)\n",
    "# #ax.axvline(x=0, color=\"k\", linestyle=\"--\")\n",
    "# ax.set_xlabel(\"Decrease in accuracy score\",fontname=\"Arial\", fontsize = 16)\n",
    "# ax.set_ylabel(\"Features\",fontname=\"Arial\", fontsize = 16)\n",
    "\n",
    "# ax.figure.tight_layout()\n",
    "# plt.savefig('/Users/kathleenkanaley/Desktop/figs_phytopath_rev/permimp_RF/SkySat/SB/permimp_sev22.jpg')"
   ]
  },
  {
   "cell_type": "markdown",
   "id": "95796a47",
   "metadata": {},
   "source": [
    "## All years"
   ]
  },
  {
   "cell_type": "code",
   "execution_count": 35,
   "id": "8889c2e9",
   "metadata": {},
   "outputs": [],
   "source": [
    "X_train, y_train, X_test, y_test = bal_split_norm(data_all,\n",
    "                                                  sbs, #convert string to list\n",
    "                                                 sev,\n",
    "                                                 2020,\n",
    "                                                 14)"
   ]
  },
  {
   "cell_type": "code",
   "execution_count": 36,
   "id": "2ba9e4da",
   "metadata": {},
   "outputs": [],
   "source": [
    "# Create dictionary of parameters to test with randomizedCV\n",
    "\n",
    "from sklearn.model_selection import RandomizedSearchCV\n",
    "\n",
    "n_estimators = [int(x) for x in np.linspace(start = 100, stop = 1000,\n",
    "num = 10)]\n",
    "max_features = ['log2', 'sqrt']\n",
    "max_depth = [int(x) for x in np.linspace(start = 1, stop = 15, num =\n",
    "15)]\n",
    "min_samples_split = [int(x) for x in np.linspace(start = 2, stop = 50,\n",
    "num = 10)]\n",
    "min_samples_leaf = [int(x) for x in np.linspace(start = 1, stop = 50,\n",
    "num = 5)]\n",
    "bootstrap = [True, False]\n",
    "param_dist = {'n_estimators': n_estimators,\n",
    "'max_features': max_features,\n",
    "'max_depth': max_depth,\n",
    "'min_samples_split': min_samples_split,\n",
    "'min_samples_leaf': min_samples_leaf,\n",
    "'bootstrap': bootstrap}"
   ]
  },
  {
   "cell_type": "code",
   "execution_count": 37,
   "id": "b7e3fc3e",
   "metadata": {},
   "outputs": [
    {
     "name": "stdout",
     "output_type": "stream",
     "text": [
      "Fitting 3 folds for each of 100 candidates, totalling 300 fits\n"
     ]
    },
    {
     "data": {
      "text/plain": [
       "{'n_estimators': 700,\n",
       " 'min_samples_split': 2,\n",
       " 'min_samples_leaf': 1,\n",
       " 'max_features': 'log2',\n",
       " 'max_depth': 6,\n",
       " 'bootstrap': False}"
      ]
     },
     "execution_count": 37,
     "metadata": {},
     "output_type": "execute_result"
    }
   ],
   "source": [
    "rfc = RandomForestClassifier()\n",
    "rs = RandomizedSearchCV(rfc,\n",
    "param_dist,\n",
    "n_iter = 100,\n",
    "scoring = 'f1',\n",
    "cv = 3,\n",
    "verbose = 1,\n",
    "n_jobs=-1,\n",
    "random_state=0)\n",
    "\n",
    "rs.fit(X_train, y_train)\n",
    "rs.best_params_"
   ]
  },
  {
   "cell_type": "code",
   "execution_count": 38,
   "id": "0d5047ed",
   "metadata": {},
   "outputs": [
    {
     "data": {
      "text/html": [
       "<div>\n",
       "<style scoped>\n",
       "    .dataframe tbody tr th:only-of-type {\n",
       "        vertical-align: middle;\n",
       "    }\n",
       "\n",
       "    .dataframe tbody tr th {\n",
       "        vertical-align: top;\n",
       "    }\n",
       "\n",
       "    .dataframe thead th {\n",
       "        text-align: right;\n",
       "    }\n",
       "</style>\n",
       "<table border=\"1\" class=\"dataframe\">\n",
       "  <thead>\n",
       "    <tr style=\"text-align: right;\">\n",
       "      <th></th>\n",
       "      <th>param_n_estimators</th>\n",
       "      <th>param_min_samples_split</th>\n",
       "      <th>param_min_samples_leaf</th>\n",
       "      <th>param_max_features</th>\n",
       "      <th>param_max_depth</th>\n",
       "      <th>param_bootstrap</th>\n",
       "      <th>mean_test_score</th>\n",
       "      <th>rank_test_score</th>\n",
       "    </tr>\n",
       "  </thead>\n",
       "  <tbody>\n",
       "    <tr>\n",
       "      <th>0</th>\n",
       "      <td>700</td>\n",
       "      <td>2</td>\n",
       "      <td>1</td>\n",
       "      <td>log2</td>\n",
       "      <td>6</td>\n",
       "      <td>False</td>\n",
       "      <td>0.736976</td>\n",
       "      <td>1</td>\n",
       "    </tr>\n",
       "    <tr>\n",
       "      <th>1</th>\n",
       "      <td>300</td>\n",
       "      <td>12</td>\n",
       "      <td>1</td>\n",
       "      <td>log2</td>\n",
       "      <td>13</td>\n",
       "      <td>False</td>\n",
       "      <td>0.727014</td>\n",
       "      <td>2</td>\n",
       "    </tr>\n",
       "    <tr>\n",
       "      <th>2</th>\n",
       "      <td>300</td>\n",
       "      <td>18</td>\n",
       "      <td>1</td>\n",
       "      <td>sqrt</td>\n",
       "      <td>12</td>\n",
       "      <td>False</td>\n",
       "      <td>0.707494</td>\n",
       "      <td>3</td>\n",
       "    </tr>\n",
       "    <tr>\n",
       "      <th>3</th>\n",
       "      <td>200</td>\n",
       "      <td>12</td>\n",
       "      <td>1</td>\n",
       "      <td>log2</td>\n",
       "      <td>7</td>\n",
       "      <td>True</td>\n",
       "      <td>0.704220</td>\n",
       "      <td>4</td>\n",
       "    </tr>\n",
       "    <tr>\n",
       "      <th>4</th>\n",
       "      <td>600</td>\n",
       "      <td>12</td>\n",
       "      <td>1</td>\n",
       "      <td>log2</td>\n",
       "      <td>4</td>\n",
       "      <td>False</td>\n",
       "      <td>0.698211</td>\n",
       "      <td>5</td>\n",
       "    </tr>\n",
       "    <tr>\n",
       "      <th>5</th>\n",
       "      <td>400</td>\n",
       "      <td>23</td>\n",
       "      <td>1</td>\n",
       "      <td>log2</td>\n",
       "      <td>5</td>\n",
       "      <td>False</td>\n",
       "      <td>0.697825</td>\n",
       "      <td>6</td>\n",
       "    </tr>\n",
       "    <tr>\n",
       "      <th>6</th>\n",
       "      <td>700</td>\n",
       "      <td>28</td>\n",
       "      <td>1</td>\n",
       "      <td>sqrt</td>\n",
       "      <td>8</td>\n",
       "      <td>False</td>\n",
       "      <td>0.693549</td>\n",
       "      <td>7</td>\n",
       "    </tr>\n",
       "    <tr>\n",
       "      <th>7</th>\n",
       "      <td>1000</td>\n",
       "      <td>12</td>\n",
       "      <td>13</td>\n",
       "      <td>log2</td>\n",
       "      <td>5</td>\n",
       "      <td>False</td>\n",
       "      <td>0.684887</td>\n",
       "      <td>8</td>\n",
       "    </tr>\n",
       "    <tr>\n",
       "      <th>8</th>\n",
       "      <td>600</td>\n",
       "      <td>2</td>\n",
       "      <td>13</td>\n",
       "      <td>sqrt</td>\n",
       "      <td>9</td>\n",
       "      <td>False</td>\n",
       "      <td>0.678761</td>\n",
       "      <td>9</td>\n",
       "    </tr>\n",
       "    <tr>\n",
       "      <th>9</th>\n",
       "      <td>800</td>\n",
       "      <td>23</td>\n",
       "      <td>13</td>\n",
       "      <td>sqrt</td>\n",
       "      <td>14</td>\n",
       "      <td>False</td>\n",
       "      <td>0.678318</td>\n",
       "      <td>10</td>\n",
       "    </tr>\n",
       "  </tbody>\n",
       "</table>\n",
       "</div>"
      ],
      "text/plain": [
       "  param_n_estimators param_min_samples_split param_min_samples_leaf  \\\n",
       "0                700                       2                      1   \n",
       "1                300                      12                      1   \n",
       "2                300                      18                      1   \n",
       "3                200                      12                      1   \n",
       "4                600                      12                      1   \n",
       "5                400                      23                      1   \n",
       "6                700                      28                      1   \n",
       "7               1000                      12                     13   \n",
       "8                600                       2                     13   \n",
       "9                800                      23                     13   \n",
       "\n",
       "  param_max_features param_max_depth param_bootstrap  mean_test_score  \\\n",
       "0               log2               6           False         0.736976   \n",
       "1               log2              13           False         0.727014   \n",
       "2               sqrt              12           False         0.707494   \n",
       "3               log2               7            True         0.704220   \n",
       "4               log2               4           False         0.698211   \n",
       "5               log2               5           False         0.697825   \n",
       "6               sqrt               8           False         0.693549   \n",
       "7               log2               5           False         0.684887   \n",
       "8               sqrt               9           False         0.678761   \n",
       "9               sqrt              14           False         0.678318   \n",
       "\n",
       "   rank_test_score  \n",
       "0                1  \n",
       "1                2  \n",
       "2                3  \n",
       "3                4  \n",
       "4                5  \n",
       "5                6  \n",
       "6                7  \n",
       "7                8  \n",
       "8                9  \n",
       "9               10  "
      ]
     },
     "execution_count": 38,
     "metadata": {},
     "output_type": "execute_result"
    }
   ],
   "source": [
    "rs_df = pd.DataFrame(rs.cv_results_).sort_values('rank_test_score').reset_index(drop=True)\n",
    "rs_df = rs_df.drop([\n",
    "'mean_fit_time',\n",
    "'std_fit_time',\n",
    "'mean_score_time',\n",
    "'std_score_time',\n",
    "'params',\n",
    "'split0_test_score',\n",
    "'split1_test_score',\n",
    "'split2_test_score',\n",
    "'std_test_score'],\n",
    "axis=1)\n",
    "\n",
    "rs_df.head(10)"
   ]
  },
  {
   "cell_type": "code",
   "execution_count": 39,
   "id": "c8da4a2f",
   "metadata": {},
   "outputs": [
    {
     "name": "stdout",
     "output_type": "stream",
     "text": [
      "Fitting 3 folds for each of 192 candidates, totalling 576 fits\n"
     ]
    },
    {
     "data": {
      "text/plain": [
       "{'bootstrap': True,\n",
       " 'max_depth': 12,\n",
       " 'max_features': 'sqrt',\n",
       " 'min_samples_leaf': 1,\n",
       " 'min_samples_split': 12,\n",
       " 'n_estimators': 100}"
      ]
     },
     "execution_count": 39,
     "metadata": {},
     "output_type": "execute_result"
    }
   ],
   "source": [
    "from sklearn.model_selection import GridSearchCV\n",
    "n_estimators = [100,200,300,700]\n",
    "max_features = ['sqrt','log2']\n",
    "max_depth = [3,6,12,13]\n",
    "min_samples_split = [2,12,18]\n",
    "min_samples_leaf = [1]\n",
    "bootstrap = [True,False]\n",
    "\n",
    "param_grid = {'n_estimators': n_estimators,\n",
    "'max_features': max_features,\n",
    "'max_depth': max_depth,\n",
    "'min_samples_split': min_samples_split,\n",
    "'min_samples_leaf': min_samples_leaf,\n",
    "'bootstrap': bootstrap}\n",
    "\n",
    "gs = GridSearchCV(rfc, param_grid, cv = 3, verbose = 1, n_jobs=-1)\n",
    "gs.fit(X_train, y_train)\n",
    "rfc_2 = gs.best_estimator_\n",
    "gs.best_params_"
   ]
  },
  {
   "cell_type": "code",
   "execution_count": 40,
   "id": "57eb87ef",
   "metadata": {},
   "outputs": [],
   "source": [
    "y_pred_gs = rfc_2.predict(X_test)"
   ]
  },
  {
   "cell_type": "code",
   "execution_count": 41,
   "id": "4a154f06",
   "metadata": {},
   "outputs": [
    {
     "name": "stdout",
     "output_type": "stream",
     "text": [
      "[[35 12]\n",
      " [15 33]]\n",
      "              precision    recall  f1-score   support\n",
      "\n",
      "           0       0.70      0.74      0.72        47\n",
      "           1       0.73      0.69      0.71        48\n",
      "\n",
      "    accuracy                           0.72        95\n",
      "   macro avg       0.72      0.72      0.72        95\n",
      "weighted avg       0.72      0.72      0.72        95\n",
      "\n"
     ]
    },
    {
     "data": {
      "image/png": "[encoded data removed]",
      "text/plain": [
       "<Figure size 640x480 with 2 Axes>"
      ]
     },
     "metadata": {},
     "output_type": "display_data"
    }
   ],
   "source": [
    "from sklearn.metrics import confusion_matrix                            \n",
    "\n",
    "\n",
    "cf_matrix = confusion_matrix(y_test, y_pred_gs)\n",
    "print(cf_matrix)\n",
    "\n",
    "sns.set(font_scale=1)\n",
    "sns.heatmap(cf_matrix, annot=True, fmt='.3g',\n",
    "           vmin=0, vmax=48, center= 0,\n",
    "           cmap= 'coolwarm', linewidths=2, linecolor='black',\n",
    "           xticklabels=['low','high'],\n",
    "           yticklabels=['low','high']).set(title='Predicted vs. True GDM severity, SkySat 2020-22 (SB)');\n",
    "\n",
    "plt.ylabel('True')\n",
    "plt.xlabel('Predicted')\n",
    "plt.tight_layout()\n",
    "\n",
    "plt.savefig('/Users/kathleenkanaley/Desktop/figs_phytopath_rev/corr_matrices_RF/SkySat/SB/Sev_all.jpg')\n",
    "report = classification_report(y_test, y_pred_gs)\n",
    "\n",
    "print(report)\n",
    "# conf_matrix_tuned = pd.DataFrame(confusion_matrix(y_test, y_pred_gs),\n",
    "#         index = [np.unique(y_pred)[0],np.unique(y_pred)[1]], columns = [np.unique(y_pred)[0],np.unique(y_pred)[1]])\n",
    "                                                         \n",
    "# display(conf_matrix_tuned)\n",
    "# display('Hyperparameter Tuned Random Forest accuracy score', accuracy_score(y_test, y_pred_gs))"
   ]
  },
  {
   "cell_type": "code",
   "execution_count": 42,
   "id": "2bc253a4",
   "metadata": {},
   "outputs": [
    {
     "data": {
      "image/png": "[encoded data removed]",
      "text/plain": [
       "<Figure size 640x480 with 1 Axes>"
      ]
     },
     "metadata": {},
     "output_type": "display_data"
    }
   ],
   "source": [
    "from sklearn.inspection import permutation_importance\n",
    "\n",
    "result = permutation_importance(\n",
    "    rfc_2, X_test, y_test, n_repeats=10, random_state=16, n_jobs=2\n",
    ")\n",
    "\n",
    "sorted_importances_idx = result.importances_mean.argsort()\n",
    "\n",
    "importances = pd.DataFrame(\n",
    "    result.importances[sorted_importances_idx].T,\n",
    "    columns=data_all[sbs].columns[sorted_importances_idx],\n",
    ")\n",
    "ax = importances.plot.box(vert=False, whis=10)\n",
    "ax.set_title(\"Permutation Importances (test set)\",fontname=\"Arial\", fontsize=16)\n",
    "#ax.axvline(x=0, color=\"k\", linestyle=\"--\")\n",
    "ax.set_xlabel(\"Decrease in accuracy score\",fontname=\"Arial\", fontsize = 16)\n",
    "ax.set_ylabel(\"Features\",fontname=\"Arial\", fontsize = 16)\n",
    "\n",
    "ax.figure.tight_layout()\n",
    "plt.savefig('/Users/kathleenkanaley/Desktop/figs_phytopath_rev/permimp_RF/SkySat/SB/permimp_sevall.jpg')"
   ]
  },
  {
   "cell_type": "code",
   "execution_count": null,
   "id": "39629a38",
   "metadata": {},
   "outputs": [],
   "source": []
  }
 ],
 "metadata": {
  "kernelspec": {
   "display_name": "Python 3 (ipykernel)",
   "language": "python",
   "name": "python3"
  },
  "language_info": {
   "codemirror_mode": {
    "name": "ipython",
    "version": 3
   },
   "file_extension": ".py",
   "mimetype": "text/x-python",
   "name": "python",
   "nbconvert_exporter": "python",
   "pygments_lexer": "ipython3",
   "version": "3.10.6"
  }
 },
 "nbformat": 4,
 "nbformat_minor": 5
}
