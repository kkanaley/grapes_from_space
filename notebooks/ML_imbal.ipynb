{
 "cells": [
  {
   "cell_type": "code",
   "execution_count": 1,
   "id": "7c50ac74",
   "metadata": {},
   "outputs": [],
   "source": [
    "# Apply ML models to the reflectance + VI data in order to classify/predict disease status\n"
   ]
  },
  {
   "cell_type": "code",
   "execution_count": 2,
   "id": "a7766645",
   "metadata": {},
   "outputs": [],
   "source": [
    "import glob\n",
    "import os\n",
    "import matplotlib.pyplot as plt\n",
    "import pandas as pd\n",
    "import numpy as np\n",
    "import seaborn as sns\n",
    "import sklearn\n",
    "import scipy"
   ]
  },
  {
   "cell_type": "code",
   "execution_count": 3,
   "id": "9c71e6a4",
   "metadata": {},
   "outputs": [],
   "source": [
    "# Try with 2021 data first\n",
    "\n",
    "data_2021 = pd.read_csv('../data/img_scout_dfs/2021/INC_skysat_scout_2021.csv')"
   ]
  },
  {
   "cell_type": "code",
   "execution_count": 4,
   "id": "45275bfe",
   "metadata": {},
   "outputs": [
    {
     "data": {
      "text/html": [
       "<div>\n",
       "<style scoped>\n",
       "    .dataframe tbody tr th:only-of-type {\n",
       "        vertical-align: middle;\n",
       "    }\n",
       "\n",
       "    .dataframe tbody tr th {\n",
       "        vertical-align: top;\n",
       "    }\n",
       "\n",
       "    .dataframe thead th {\n",
       "        text-align: right;\n",
       "    }\n",
       "</style>\n",
       "<table border=\"1\" class=\"dataframe\">\n",
       "  <thead>\n",
       "    <tr style=\"text-align: right;\">\n",
       "      <th></th>\n",
       "      <th>acquired</th>\n",
       "      <th>plot</th>\n",
       "      <th>blue</th>\n",
       "      <th>green</th>\n",
       "      <th>red</th>\n",
       "      <th>nir</th>\n",
       "      <th>row</th>\n",
       "      <th>panel</th>\n",
       "      <th>Date</th>\n",
       "      <th>Treatment</th>\n",
       "      <th>Block</th>\n",
       "      <th>PM_severity</th>\n",
       "      <th>DM_severity</th>\n",
       "      <th>total_dis</th>\n",
       "      <th>geometry</th>\n",
       "      <th>centroid</th>\n",
       "      <th>PM_inc</th>\n",
       "      <th>DM_inc</th>\n",
       "    </tr>\n",
       "  </thead>\n",
       "  <tbody>\n",
       "    <tr>\n",
       "      <th>0</th>\n",
       "      <td>20210707</td>\n",
       "      <td>1</td>\n",
       "      <td>0.032006</td>\n",
       "      <td>0.066432</td>\n",
       "      <td>0.040084</td>\n",
       "      <td>0.290003</td>\n",
       "      <td>1</td>\n",
       "      <td>1</td>\n",
       "      <td>2021-07-07</td>\n",
       "      <td>5.0</td>\n",
       "      <td>DM</td>\n",
       "      <td>0.0</td>\n",
       "      <td>0.0</td>\n",
       "      <td>0.05</td>\n",
       "      <td>POLYGON ((-77.0152645742787 42.878300949250196...</td>\n",
       "      <td>POINT (-77.0153084903025 42.8783140936145)</td>\n",
       "      <td>0.0</td>\n",
       "      <td>0.0</td>\n",
       "    </tr>\n",
       "    <tr>\n",
       "      <th>1</th>\n",
       "      <td>20210707</td>\n",
       "      <td>2</td>\n",
       "      <td>0.033528</td>\n",
       "      <td>0.067879</td>\n",
       "      <td>0.043324</td>\n",
       "      <td>0.270290</td>\n",
       "      <td>1</td>\n",
       "      <td>2</td>\n",
       "      <td>2021-07-07</td>\n",
       "      <td>7.0</td>\n",
       "      <td>DM</td>\n",
       "      <td>0.0</td>\n",
       "      <td>0.0</td>\n",
       "      <td>0.10</td>\n",
       "      <td>POLYGON ((-77.01535545427274 42.87831851925121...</td>\n",
       "      <td>POINT (-77.0153965503027 42.87833067861654)</td>\n",
       "      <td>0.0</td>\n",
       "      <td>0.0</td>\n",
       "    </tr>\n",
       "    <tr>\n",
       "      <th>2</th>\n",
       "      <td>20210707</td>\n",
       "      <td>3</td>\n",
       "      <td>0.033903</td>\n",
       "      <td>0.067897</td>\n",
       "      <td>0.042947</td>\n",
       "      <td>0.273817</td>\n",
       "      <td>1</td>\n",
       "      <td>3</td>\n",
       "      <td>2021-07-07</td>\n",
       "      <td>9.0</td>\n",
       "      <td>DM</td>\n",
       "      <td>0.0</td>\n",
       "      <td>0.0</td>\n",
       "      <td>0.10</td>\n",
       "      <td>POLYGON ((-77.01544069426711 42.87833411925217...</td>\n",
       "      <td>POINT (-77.01548247530272 42.87834674861851)</td>\n",
       "      <td>0.0</td>\n",
       "      <td>0.0</td>\n",
       "    </tr>\n",
       "    <tr>\n",
       "      <th>3</th>\n",
       "      <td>20210707</td>\n",
       "      <td>4</td>\n",
       "      <td>0.032868</td>\n",
       "      <td>0.067358</td>\n",
       "      <td>0.042055</td>\n",
       "      <td>0.280455</td>\n",
       "      <td>1</td>\n",
       "      <td>4</td>\n",
       "      <td>2021-07-07</td>\n",
       "      <td>15.0</td>\n",
       "      <td>DM</td>\n",
       "      <td>0.0</td>\n",
       "      <td>0.0</td>\n",
       "      <td>0.60</td>\n",
       "      <td>POLYGON ((-77.01552730426143 42.87835065925314...</td>\n",
       "      <td>POINT (-77.01557007030289 42.87836309362055)</td>\n",
       "      <td>0.0</td>\n",
       "      <td>0.0</td>\n",
       "    </tr>\n",
       "    <tr>\n",
       "      <th>4</th>\n",
       "      <td>20210707</td>\n",
       "      <td>5</td>\n",
       "      <td>0.032104</td>\n",
       "      <td>0.066636</td>\n",
       "      <td>0.038836</td>\n",
       "      <td>0.292664</td>\n",
       "      <td>1</td>\n",
       "      <td>5</td>\n",
       "      <td>2021-07-07</td>\n",
       "      <td>3.0</td>\n",
       "      <td>DM</td>\n",
       "      <td>0.0</td>\n",
       "      <td>0.0</td>\n",
       "      <td>0.10</td>\n",
       "      <td>POLYGON ((-77.01561588425558 42.87836680925413...</td>\n",
       "      <td>POINT (-77.01565649030296 42.878378758622546)</td>\n",
       "      <td>0.0</td>\n",
       "      <td>0.0</td>\n",
       "    </tr>\n",
       "  </tbody>\n",
       "</table>\n",
       "</div>"
      ],
      "text/plain": [
       "   acquired  plot      blue     green       red       nir  row  panel  \\\n",
       "0  20210707     1  0.032006  0.066432  0.040084  0.290003    1      1   \n",
       "1  20210707     2  0.033528  0.067879  0.043324  0.270290    1      2   \n",
       "2  20210707     3  0.033903  0.067897  0.042947  0.273817    1      3   \n",
       "3  20210707     4  0.032868  0.067358  0.042055  0.280455    1      4   \n",
       "4  20210707     5  0.032104  0.066636  0.038836  0.292664    1      5   \n",
       "\n",
       "         Date  Treatment Block  PM_severity  DM_severity  total_dis  \\\n",
       "0  2021-07-07        5.0    DM          0.0          0.0       0.05   \n",
       "1  2021-07-07        7.0    DM          0.0          0.0       0.10   \n",
       "2  2021-07-07        9.0    DM          0.0          0.0       0.10   \n",
       "3  2021-07-07       15.0    DM          0.0          0.0       0.60   \n",
       "4  2021-07-07        3.0    DM          0.0          0.0       0.10   \n",
       "\n",
       "                                            geometry  \\\n",
       "0  POLYGON ((-77.0152645742787 42.878300949250196...   \n",
       "1  POLYGON ((-77.01535545427274 42.87831851925121...   \n",
       "2  POLYGON ((-77.01544069426711 42.87833411925217...   \n",
       "3  POLYGON ((-77.01552730426143 42.87835065925314...   \n",
       "4  POLYGON ((-77.01561588425558 42.87836680925413...   \n",
       "\n",
       "                                        centroid  PM_inc  DM_inc  \n",
       "0     POINT (-77.0153084903025 42.8783140936145)     0.0     0.0  \n",
       "1    POINT (-77.0153965503027 42.87833067861654)     0.0     0.0  \n",
       "2   POINT (-77.01548247530272 42.87834674861851)     0.0     0.0  \n",
       "3   POINT (-77.01557007030289 42.87836309362055)     0.0     0.0  \n",
       "4  POINT (-77.01565649030296 42.878378758622546)     0.0     0.0  "
      ]
     },
     "execution_count": 4,
     "metadata": {},
     "output_type": "execute_result"
    }
   ],
   "source": [
    "data_2021.head()"
   ]
  },
  {
   "cell_type": "code",
   "execution_count": 5,
   "id": "647e0b90",
   "metadata": {},
   "outputs": [],
   "source": [
    "def add_vis(df):\n",
    "    df['ndvi']= (df['nir']-df['red'])/(df['nir']+df['red'])\n",
    "    df['evi']= 2.5*(df['nir']-df['red'])/(df['nir']+6*df['red']-7.5*df['blue']+1)\n",
    "    df['savi']= 1.5*(df['nir']-df['red'])/(df['nir']+df['red']+0.5)\n",
    "    df['arvi']=(df['nir']-(2*df['red']-df['blue']))/(df['nir']+(2*df['red']-df['blue']))\n",
    "    df['gcc']=df['green']/(df['green']+df['red']+df['blue'])\n",
    "    df['gri']= df['green']/df['red']\n",
    "    df['grvi']=(df['green']-df['red'])/(df['green']+df['red'])\n",
    "    df['bgvi'] = df['blue']-df['green']/df['blue']+df['green']\n",
    "    \n",
    "    return df"
   ]
  },
  {
   "cell_type": "code",
   "execution_count": 6,
   "id": "5893f72e",
   "metadata": {},
   "outputs": [
    {
     "data": {
      "text/html": [
       "<div>\n",
       "<style scoped>\n",
       "    .dataframe tbody tr th:only-of-type {\n",
       "        vertical-align: middle;\n",
       "    }\n",
       "\n",
       "    .dataframe tbody tr th {\n",
       "        vertical-align: top;\n",
       "    }\n",
       "\n",
       "    .dataframe thead th {\n",
       "        text-align: right;\n",
       "    }\n",
       "</style>\n",
       "<table border=\"1\" class=\"dataframe\">\n",
       "  <thead>\n",
       "    <tr style=\"text-align: right;\">\n",
       "      <th></th>\n",
       "      <th>acquired</th>\n",
       "      <th>plot</th>\n",
       "      <th>blue</th>\n",
       "      <th>green</th>\n",
       "      <th>red</th>\n",
       "      <th>nir</th>\n",
       "      <th>row</th>\n",
       "      <th>panel</th>\n",
       "      <th>Date</th>\n",
       "      <th>Treatment</th>\n",
       "      <th>...</th>\n",
       "      <th>PM_inc</th>\n",
       "      <th>DM_inc</th>\n",
       "      <th>ndvi</th>\n",
       "      <th>evi</th>\n",
       "      <th>savi</th>\n",
       "      <th>arvi</th>\n",
       "      <th>gcc</th>\n",
       "      <th>gri</th>\n",
       "      <th>grvi</th>\n",
       "      <th>bgvi</th>\n",
       "    </tr>\n",
       "  </thead>\n",
       "  <tbody>\n",
       "    <tr>\n",
       "      <th>0</th>\n",
       "      <td>20210707</td>\n",
       "      <td>1</td>\n",
       "      <td>0.032006</td>\n",
       "      <td>0.066432</td>\n",
       "      <td>0.040084</td>\n",
       "      <td>0.290003</td>\n",
       "      <td>1</td>\n",
       "      <td>1</td>\n",
       "      <td>2021-07-07</td>\n",
       "      <td>5.0</td>\n",
       "      <td>...</td>\n",
       "      <td>0.0</td>\n",
       "      <td>0.0</td>\n",
       "      <td>0.757132</td>\n",
       "      <td>0.484168</td>\n",
       "      <td>0.451614</td>\n",
       "      <td>0.715161</td>\n",
       "      <td>0.479577</td>\n",
       "      <td>1.657331</td>\n",
       "      <td>0.247365</td>\n",
       "      <td>-1.977151</td>\n",
       "    </tr>\n",
       "    <tr>\n",
       "      <th>1</th>\n",
       "      <td>20210707</td>\n",
       "      <td>2</td>\n",
       "      <td>0.033528</td>\n",
       "      <td>0.067879</td>\n",
       "      <td>0.043324</td>\n",
       "      <td>0.270290</td>\n",
       "      <td>1</td>\n",
       "      <td>2</td>\n",
       "      <td>2021-07-07</td>\n",
       "      <td>7.0</td>\n",
       "      <td>...</td>\n",
       "      <td>0.0</td>\n",
       "      <td>0.0</td>\n",
       "      <td>0.723710</td>\n",
       "      <td>0.443716</td>\n",
       "      <td>0.418440</td>\n",
       "      <td>0.671497</td>\n",
       "      <td>0.469003</td>\n",
       "      <td>1.566778</td>\n",
       "      <td>0.220813</td>\n",
       "      <td>-1.923174</td>\n",
       "    </tr>\n",
       "    <tr>\n",
       "      <th>2</th>\n",
       "      <td>20210707</td>\n",
       "      <td>3</td>\n",
       "      <td>0.033903</td>\n",
       "      <td>0.067897</td>\n",
       "      <td>0.042947</td>\n",
       "      <td>0.273817</td>\n",
       "      <td>1</td>\n",
       "      <td>3</td>\n",
       "      <td>2021-07-07</td>\n",
       "      <td>9.0</td>\n",
       "      <td>...</td>\n",
       "      <td>0.0</td>\n",
       "      <td>0.0</td>\n",
       "      <td>0.728841</td>\n",
       "      <td>0.451899</td>\n",
       "      <td>0.423997</td>\n",
       "      <td>0.680854</td>\n",
       "      <td>0.469072</td>\n",
       "      <td>1.580953</td>\n",
       "      <td>0.225092</td>\n",
       "      <td>-1.900855</td>\n",
       "    </tr>\n",
       "    <tr>\n",
       "      <th>3</th>\n",
       "      <td>20210707</td>\n",
       "      <td>4</td>\n",
       "      <td>0.032868</td>\n",
       "      <td>0.067358</td>\n",
       "      <td>0.042055</td>\n",
       "      <td>0.280455</td>\n",
       "      <td>1</td>\n",
       "      <td>4</td>\n",
       "      <td>2021-07-07</td>\n",
       "      <td>15.0</td>\n",
       "      <td>...</td>\n",
       "      <td>0.0</td>\n",
       "      <td>0.0</td>\n",
       "      <td>0.739203</td>\n",
       "      <td>0.463353</td>\n",
       "      <td>0.434767</td>\n",
       "      <td>0.691031</td>\n",
       "      <td>0.473417</td>\n",
       "      <td>1.601672</td>\n",
       "      <td>0.231264</td>\n",
       "      <td>-1.949141</td>\n",
       "    </tr>\n",
       "    <tr>\n",
       "      <th>4</th>\n",
       "      <td>20210707</td>\n",
       "      <td>5</td>\n",
       "      <td>0.032104</td>\n",
       "      <td>0.066636</td>\n",
       "      <td>0.038836</td>\n",
       "      <td>0.292664</td>\n",
       "      <td>1</td>\n",
       "      <td>5</td>\n",
       "      <td>2021-07-07</td>\n",
       "      <td>3.0</td>\n",
       "      <td>...</td>\n",
       "      <td>0.0</td>\n",
       "      <td>0.0</td>\n",
       "      <td>0.765697</td>\n",
       "      <td>0.493868</td>\n",
       "      <td>0.457899</td>\n",
       "      <td>0.730553</td>\n",
       "      <td>0.484359</td>\n",
       "      <td>1.715836</td>\n",
       "      <td>0.263578</td>\n",
       "      <td>-1.976909</td>\n",
       "    </tr>\n",
       "    <tr>\n",
       "      <th>...</th>\n",
       "      <td>...</td>\n",
       "      <td>...</td>\n",
       "      <td>...</td>\n",
       "      <td>...</td>\n",
       "      <td>...</td>\n",
       "      <td>...</td>\n",
       "      <td>...</td>\n",
       "      <td>...</td>\n",
       "      <td>...</td>\n",
       "      <td>...</td>\n",
       "      <td>...</td>\n",
       "      <td>...</td>\n",
       "      <td>...</td>\n",
       "      <td>...</td>\n",
       "      <td>...</td>\n",
       "      <td>...</td>\n",
       "      <td>...</td>\n",
       "      <td>...</td>\n",
       "      <td>...</td>\n",
       "      <td>...</td>\n",
       "      <td>...</td>\n",
       "    </tr>\n",
       "    <tr>\n",
       "      <th>1190</th>\n",
       "      <td>20210816</td>\n",
       "      <td>303</td>\n",
       "      <td>0.017663</td>\n",
       "      <td>0.065519</td>\n",
       "      <td>0.048503</td>\n",
       "      <td>0.248441</td>\n",
       "      <td>19</td>\n",
       "      <td>15</td>\n",
       "      <td>2021-08-17</td>\n",
       "      <td>18.0</td>\n",
       "      <td>...</td>\n",
       "      <td>90.0</td>\n",
       "      <td>5.0</td>\n",
       "      <td>0.673318</td>\n",
       "      <td>0.355257</td>\n",
       "      <td>0.376320</td>\n",
       "      <td>0.515878</td>\n",
       "      <td>0.497544</td>\n",
       "      <td>1.350815</td>\n",
       "      <td>0.149231</td>\n",
       "      <td>-3.626302</td>\n",
       "    </tr>\n",
       "    <tr>\n",
       "      <th>1191</th>\n",
       "      <td>20210816</td>\n",
       "      <td>305</td>\n",
       "      <td>0.009077</td>\n",
       "      <td>0.061277</td>\n",
       "      <td>0.038242</td>\n",
       "      <td>0.256381</td>\n",
       "      <td>20</td>\n",
       "      <td>1</td>\n",
       "      <td>2021-08-17</td>\n",
       "      <td>31.0</td>\n",
       "      <td>...</td>\n",
       "      <td>20.0</td>\n",
       "      <td>0.0</td>\n",
       "      <td>0.740401</td>\n",
       "      <td>0.384656</td>\n",
       "      <td>0.411778</td>\n",
       "      <td>0.583637</td>\n",
       "      <td>0.564266</td>\n",
       "      <td>1.602362</td>\n",
       "      <td>0.231467</td>\n",
       "      <td>-6.680178</td>\n",
       "    </tr>\n",
       "    <tr>\n",
       "      <th>1192</th>\n",
       "      <td>20210816</td>\n",
       "      <td>307</td>\n",
       "      <td>0.009167</td>\n",
       "      <td>0.060350</td>\n",
       "      <td>0.038300</td>\n",
       "      <td>0.249923</td>\n",
       "      <td>20</td>\n",
       "      <td>3</td>\n",
       "      <td>2021-08-17</td>\n",
       "      <td>40.0</td>\n",
       "      <td>...</td>\n",
       "      <td>85.0</td>\n",
       "      <td>0.0</td>\n",
       "      <td>0.734234</td>\n",
       "      <td>0.374960</td>\n",
       "      <td>0.402722</td>\n",
       "      <td>0.575031</td>\n",
       "      <td>0.559746</td>\n",
       "      <td>1.575718</td>\n",
       "      <td>0.223517</td>\n",
       "      <td>-6.514120</td>\n",
       "    </tr>\n",
       "    <tr>\n",
       "      <th>1193</th>\n",
       "      <td>20210816</td>\n",
       "      <td>309</td>\n",
       "      <td>0.011672</td>\n",
       "      <td>0.062224</td>\n",
       "      <td>0.041776</td>\n",
       "      <td>0.253272</td>\n",
       "      <td>20</td>\n",
       "      <td>5</td>\n",
       "      <td>2021-08-17</td>\n",
       "      <td>14.0</td>\n",
       "      <td>...</td>\n",
       "      <td>0.0</td>\n",
       "      <td>0.0</td>\n",
       "      <td>0.716820</td>\n",
       "      <td>0.373304</td>\n",
       "      <td>0.399026</td>\n",
       "      <td>0.557872</td>\n",
       "      <td>0.537934</td>\n",
       "      <td>1.489476</td>\n",
       "      <td>0.196618</td>\n",
       "      <td>-5.256975</td>\n",
       "    </tr>\n",
       "    <tr>\n",
       "      <th>1194</th>\n",
       "      <td>20210816</td>\n",
       "      <td>311</td>\n",
       "      <td>0.010876</td>\n",
       "      <td>0.061076</td>\n",
       "      <td>0.039593</td>\n",
       "      <td>0.260190</td>\n",
       "      <td>20</td>\n",
       "      <td>7</td>\n",
       "      <td>2021-08-17</td>\n",
       "      <td>35.0</td>\n",
       "      <td>...</td>\n",
       "      <td>95.0</td>\n",
       "      <td>0.0</td>\n",
       "      <td>0.735855</td>\n",
       "      <td>0.389422</td>\n",
       "      <td>0.413731</td>\n",
       "      <td>0.584107</td>\n",
       "      <td>0.547545</td>\n",
       "      <td>1.542588</td>\n",
       "      <td>0.213400</td>\n",
       "      <td>-5.543774</td>\n",
       "    </tr>\n",
       "  </tbody>\n",
       "</table>\n",
       "<p>1195 rows × 26 columns</p>\n",
       "</div>"
      ],
      "text/plain": [
       "      acquired  plot      blue     green       red       nir  row  panel  \\\n",
       "0     20210707     1  0.032006  0.066432  0.040084  0.290003    1      1   \n",
       "1     20210707     2  0.033528  0.067879  0.043324  0.270290    1      2   \n",
       "2     20210707     3  0.033903  0.067897  0.042947  0.273817    1      3   \n",
       "3     20210707     4  0.032868  0.067358  0.042055  0.280455    1      4   \n",
       "4     20210707     5  0.032104  0.066636  0.038836  0.292664    1      5   \n",
       "...        ...   ...       ...       ...       ...       ...  ...    ...   \n",
       "1190  20210816   303  0.017663  0.065519  0.048503  0.248441   19     15   \n",
       "1191  20210816   305  0.009077  0.061277  0.038242  0.256381   20      1   \n",
       "1192  20210816   307  0.009167  0.060350  0.038300  0.249923   20      3   \n",
       "1193  20210816   309  0.011672  0.062224  0.041776  0.253272   20      5   \n",
       "1194  20210816   311  0.010876  0.061076  0.039593  0.260190   20      7   \n",
       "\n",
       "            Date  Treatment  ... PM_inc  DM_inc      ndvi       evi      savi  \\\n",
       "0     2021-07-07        5.0  ...    0.0     0.0  0.757132  0.484168  0.451614   \n",
       "1     2021-07-07        7.0  ...    0.0     0.0  0.723710  0.443716  0.418440   \n",
       "2     2021-07-07        9.0  ...    0.0     0.0  0.728841  0.451899  0.423997   \n",
       "3     2021-07-07       15.0  ...    0.0     0.0  0.739203  0.463353  0.434767   \n",
       "4     2021-07-07        3.0  ...    0.0     0.0  0.765697  0.493868  0.457899   \n",
       "...          ...        ...  ...    ...     ...       ...       ...       ...   \n",
       "1190  2021-08-17       18.0  ...   90.0     5.0  0.673318  0.355257  0.376320   \n",
       "1191  2021-08-17       31.0  ...   20.0     0.0  0.740401  0.384656  0.411778   \n",
       "1192  2021-08-17       40.0  ...   85.0     0.0  0.734234  0.374960  0.402722   \n",
       "1193  2021-08-17       14.0  ...    0.0     0.0  0.716820  0.373304  0.399026   \n",
       "1194  2021-08-17       35.0  ...   95.0     0.0  0.735855  0.389422  0.413731   \n",
       "\n",
       "          arvi       gcc       gri      grvi      bgvi  \n",
       "0     0.715161  0.479577  1.657331  0.247365 -1.977151  \n",
       "1     0.671497  0.469003  1.566778  0.220813 -1.923174  \n",
       "2     0.680854  0.469072  1.580953  0.225092 -1.900855  \n",
       "3     0.691031  0.473417  1.601672  0.231264 -1.949141  \n",
       "4     0.730553  0.484359  1.715836  0.263578 -1.976909  \n",
       "...        ...       ...       ...       ...       ...  \n",
       "1190  0.515878  0.497544  1.350815  0.149231 -3.626302  \n",
       "1191  0.583637  0.564266  1.602362  0.231467 -6.680178  \n",
       "1192  0.575031  0.559746  1.575718  0.223517 -6.514120  \n",
       "1193  0.557872  0.537934  1.489476  0.196618 -5.256975  \n",
       "1194  0.584107  0.547545  1.542588  0.213400 -5.543774  \n",
       "\n",
       "[1195 rows x 26 columns]"
      ]
     },
     "execution_count": 6,
     "metadata": {},
     "output_type": "execute_result"
    }
   ],
   "source": [
    "add_vis(data_2021)"
   ]
  },
  {
   "cell_type": "code",
   "execution_count": 8,
   "id": "f313f9c4",
   "metadata": {},
   "outputs": [
    {
     "data": {
      "text/plain": [
       "array(['low', 'high'], dtype=object)"
      ]
     },
     "execution_count": 8,
     "metadata": {},
     "output_type": "execute_result"
    }
   ],
   "source": [
    "# Label data by disease severity and incidence level\n",
    "\n",
    "data_2021['sev_class']='high'\n",
    "data_2021.loc[data_2021['DM_severity'] < 10, 'sev_class'] = 'low'\n",
    "\n",
    "data_2021['inc_class']='high'\n",
    "data_2021.loc[data_2021['DM_inc'] < 25, 'inc_class'] = 'low'\n",
    "\n",
    "data_2021['sev_class'].unique()"
   ]
  },
  {
   "cell_type": "code",
   "execution_count": 13,
   "id": "d18dca10",
   "metadata": {},
   "outputs": [
    {
     "data": {
      "text/plain": [
       "array([100.])"
      ]
     },
     "execution_count": 13,
     "metadata": {},
     "output_type": "execute_result"
    }
   ],
   "source": [
    "data_2021[data_2021['Date']=='2021-08-03']['DM_inc'].unique()"
   ]
  },
  {
   "cell_type": "code",
   "execution_count": 14,
   "id": "1f361ff0",
   "metadata": {},
   "outputs": [
    {
     "data": {
      "text/plain": [
       "array([ 20.,  30.,  35.,  75.,  50.,  15.,  25.,  65.,  45.,  70.,  60.,\n",
       "        40.,  90.,  95.,  80., 100.,  85.,  10.,  55.,   5.,   0.])"
      ]
     },
     "execution_count": 14,
     "metadata": {},
     "output_type": "execute_result"
    }
   ],
   "source": [
    "data_2021[data_2021['Date']=='2021-08-17']['DM_inc'].unique()"
   ]
  },
  {
   "cell_type": "code",
   "execution_count": 15,
   "id": "2c90e8d9",
   "metadata": {},
   "outputs": [],
   "source": [
    "data_2021= data_2021[data_2021.Date != '2021-08-03']"
   ]
  },
  {
   "cell_type": "markdown",
   "id": "d9fe09e3",
   "metadata": {},
   "source": [
    "## Resample"
   ]
  },
  {
   "cell_type": "code",
   "execution_count": 16,
   "id": "f5d4d2fb",
   "metadata": {},
   "outputs": [
    {
     "name": "stdout",
     "output_type": "stream",
     "text": [
      "Low severity: 860\n",
      "High severity: 96\n",
      "Proportion: 8.96 : 1\n"
     ]
    },
    {
     "data": {
      "image/png": "[encoded data removed]",
      "text/plain": [
       "<Figure size 640x480 with 1 Axes>"
      ]
     },
     "metadata": {},
     "output_type": "display_data"
    }
   ],
   "source": [
    "# Visualize data imbalance\n",
    "\n",
    "target_count = data_2021.sev_class.value_counts()\n",
    "print('Low severity:', target_count[0])\n",
    "print('High severity:', target_count[1])\n",
    "print('Proportion:', round(target_count[0] / target_count[1], 2), ': 1')\n",
    "\n",
    "target_count.plot(kind='bar', title='Count (GDM severity)');"
   ]
  },
  {
   "cell_type": "code",
   "execution_count": 17,
   "id": "2fe629a3",
   "metadata": {},
   "outputs": [
    {
     "name": "stdout",
     "output_type": "stream",
     "text": [
      "Low incidence: 756\n",
      "High incidence: 200\n",
      "Proportion: 3.78 : 1\n"
     ]
    },
    {
     "data": {
      "image/png": "[encoded data removed]",
      "text/plain": [
       "<Figure size 640x480 with 1 Axes>"
      ]
     },
     "metadata": {},
     "output_type": "display_data"
    }
   ],
   "source": [
    "# Visualize data imbalance - incidence\n",
    "\n",
    "target_count = data_2021.inc_class.value_counts()\n",
    "print('Low incidence:', target_count[0])\n",
    "print('High incidence:', target_count[1])\n",
    "print('Proportion:', round(target_count[0] / target_count[1], 2), ': 1')\n",
    "\n",
    "target_count.plot(kind='bar', title='Count (GDM incidence)');"
   ]
  },
  {
   "cell_type": "code",
   "execution_count": 18,
   "id": "43ebf721",
   "metadata": {},
   "outputs": [
    {
     "data": {
      "text/plain": [
       "Index(['acquired', 'plot', 'blue', 'green', 'red', 'nir', 'row', 'panel',\n",
       "       'Date', 'Treatment', 'Block', 'PM_severity', 'DM_severity', 'total_dis',\n",
       "       'geometry', 'centroid', 'PM_inc', 'DM_inc', 'ndvi', 'evi', 'savi',\n",
       "       'arvi', 'gcc', 'gri', 'grvi', 'bgvi', 'sev_class', 'inc_class'],\n",
       "      dtype='object')"
      ]
     },
     "execution_count": 18,
     "metadata": {},
     "output_type": "execute_result"
    }
   ],
   "source": [
    "# All possible features\n",
    "\n",
    "data_2021.columns"
   ]
  },
  {
   "cell_type": "code",
   "execution_count": 21,
   "id": "8dbf2bb3",
   "metadata": {},
   "outputs": [],
   "source": [
    "from sklearn import tree\n",
    "\n",
    "from sklearn.model_selection import train_test_split\n",
    "from sklearn.metrics import accuracy_score\n",
    "\n",
    "# set features\n",
    "features = ['blue','green', 'red', 'nir', 'ndvi','evi', 'arvi', 'savi','gcc', 'gri', 'grvi', 'bgvi']\n",
    "\n",
    "# split into features and class labels\n",
    "X = data_2021[features]\n",
    "y = data_2021['sev_class']\n",
    "\n",
    "# 70/30 train/test split\n",
    "X_train, X_test, y_train, y_test = train_test_split(X, y, test_size=0.3, random_state=1)\n"
   ]
  },
  {
   "cell_type": "code",
   "execution_count": 22,
   "id": "1fc21af8",
   "metadata": {},
   "outputs": [
    {
     "name": "stdout",
     "output_type": "stream",
     "text": [
      "Accuracy: 86.06%\n"
     ]
    }
   ],
   "source": [
    "model_all = tree.DecisionTreeClassifier()\n",
    "model_all.fit(X_train, y_train)\n",
    "y_pred_all = model_all.predict(X_test)\n",
    "\n",
    "accuracy = accuracy_score(y_test, y_pred_all)\n",
    "print(\"Accuracy: %.2f%%\" % (accuracy * 100.0))"
   ]
  },
  {
   "cell_type": "code",
   "execution_count": 23,
   "id": "9d675afb",
   "metadata": {},
   "outputs": [
    {
     "name": "stdout",
     "output_type": "stream",
     "text": [
      "Accuracy: 87.46%\n"
     ]
    }
   ],
   "source": [
    "#Try with just one feature\n",
    "model_nir = tree.DecisionTreeClassifier()\n",
    "model_nir.fit(X_train[['nir']], y_train)\n",
    "y_pred_nir = model_nir.predict(X_test[['nir']])\n",
    "\n",
    "accuracy = accuracy_score(y_test, y_pred_nir)\n",
    "print(\"Accuracy: %.2f%%\" % (accuracy * 100.0))"
   ]
  },
  {
   "cell_type": "code",
   "execution_count": 24,
   "id": "221a8e15",
   "metadata": {},
   "outputs": [
    {
     "name": "stdout",
     "output_type": "stream",
     "text": [
      "Confusion matrix:\n",
      " [[  3  21]\n",
      " [ 15 248]]\n"
     ]
    },
    {
     "name": "stderr",
     "output_type": "stream",
     "text": [
      "/var/folders/hg/02pmwyy14wvgdv7n1gzwlx1w0000gn/T/ipykernel_4526/1276672954.py:14: UserWarning: FixedFormatter should only be used together with FixedLocator\n",
      "  ax.set_xticklabels([''] + labels)\n",
      "/var/folders/hg/02pmwyy14wvgdv7n1gzwlx1w0000gn/T/ipykernel_4526/1276672954.py:15: UserWarning: FixedFormatter should only be used together with FixedLocator\n",
      "  ax.set_yticklabels([''] + labels)\n"
     ]
    },
    {
     "data": {
      "image/png": "[encoded data removed]",
      "text/plain": [
       "<Figure size 640x480 with 2 Axes>"
      ]
     },
     "metadata": {},
     "output_type": "display_data"
    }
   ],
   "source": [
    "# Plot confusion matrix for the single-feature model (just NIR)\n",
    "\n",
    "from sklearn.metrics import confusion_matrix\n",
    "\n",
    "\n",
    "conf_mat = confusion_matrix(y_true=y_test, y_pred=y_pred_nir)\n",
    "print('Confusion matrix:\\n', conf_mat)\n",
    "\n",
    "labels = ['High Severity', 'Low Severity']\n",
    "fig = plt.figure()\n",
    "ax = fig.add_subplot(111)\n",
    "cax = ax.matshow(conf_mat, cmap=plt.cm.Blues)\n",
    "fig.colorbar(cax)\n",
    "ax.set_xticklabels([''] + labels)\n",
    "ax.set_yticklabels([''] + labels)\n",
    "plt.xlabel('Predicted')\n",
    "plt.ylabel('Expected')\n",
    "plt.show()"
   ]
  },
  {
   "cell_type": "code",
   "execution_count": 25,
   "id": "cef032dc",
   "metadata": {},
   "outputs": [],
   "source": [
    "# Resample to balance the dataset and see if accuracy improves\n",
    "import imblearn as imb\n"
   ]
  },
  {
   "cell_type": "code",
   "execution_count": 26,
   "id": "fbe0020a",
   "metadata": {},
   "outputs": [],
   "source": [
    "# First try naive random undersampling (samples from majority class with replacement)\n",
    "from imblearn.under_sampling import RandomUnderSampler\n",
    "\n",
    "rus = RandomUnderSampler(random_state=0)\n",
    "X_resampled, y_resampled = rus.fit_resample(X, y)\n"
   ]
  },
  {
   "cell_type": "code",
   "execution_count": 27,
   "id": "0431be8f",
   "metadata": {},
   "outputs": [
    {
     "data": {
      "text/html": [
       "<div>\n",
       "<style scoped>\n",
       "    .dataframe tbody tr th:only-of-type {\n",
       "        vertical-align: middle;\n",
       "    }\n",
       "\n",
       "    .dataframe tbody tr th {\n",
       "        vertical-align: top;\n",
       "    }\n",
       "\n",
       "    .dataframe thead th {\n",
       "        text-align: right;\n",
       "    }\n",
       "</style>\n",
       "<table border=\"1\" class=\"dataframe\">\n",
       "  <thead>\n",
       "    <tr style=\"text-align: right;\">\n",
       "      <th></th>\n",
       "      <th>blue</th>\n",
       "      <th>green</th>\n",
       "      <th>red</th>\n",
       "      <th>nir</th>\n",
       "      <th>ndvi</th>\n",
       "      <th>evi</th>\n",
       "      <th>arvi</th>\n",
       "      <th>savi</th>\n",
       "      <th>gcc</th>\n",
       "      <th>gri</th>\n",
       "      <th>grvi</th>\n",
       "      <th>bgvi</th>\n",
       "    </tr>\n",
       "  </thead>\n",
       "  <tbody>\n",
       "    <tr>\n",
       "      <th>0</th>\n",
       "      <td>0.039979</td>\n",
       "      <td>0.076186</td>\n",
       "      <td>0.058634</td>\n",
       "      <td>0.357662</td>\n",
       "      <td>0.718304</td>\n",
       "      <td>0.530332</td>\n",
       "      <td>0.644606</td>\n",
       "      <td>0.489516</td>\n",
       "      <td>0.435848</td>\n",
       "      <td>1.299341</td>\n",
       "      <td>0.130186</td>\n",
       "      <td>-1.789475</td>\n",
       "    </tr>\n",
       "    <tr>\n",
       "      <th>1</th>\n",
       "      <td>0.041257</td>\n",
       "      <td>0.076057</td>\n",
       "      <td>0.054167</td>\n",
       "      <td>0.355180</td>\n",
       "      <td>0.735351</td>\n",
       "      <td>0.548992</td>\n",
       "      <td>0.682294</td>\n",
       "      <td>0.496532</td>\n",
       "      <td>0.443531</td>\n",
       "      <td>1.404123</td>\n",
       "      <td>0.168096</td>\n",
       "      <td>-1.726187</td>\n",
       "    </tr>\n",
       "    <tr>\n",
       "      <th>2</th>\n",
       "      <td>0.041457</td>\n",
       "      <td>0.077332</td>\n",
       "      <td>0.058714</td>\n",
       "      <td>0.357157</td>\n",
       "      <td>0.717633</td>\n",
       "      <td>0.533500</td>\n",
       "      <td>0.649197</td>\n",
       "      <td>0.488785</td>\n",
       "      <td>0.435665</td>\n",
       "      <td>1.317092</td>\n",
       "      <td>0.136849</td>\n",
       "      <td>-1.746562</td>\n",
       "    </tr>\n",
       "    <tr>\n",
       "      <th>3</th>\n",
       "      <td>0.043690</td>\n",
       "      <td>0.078921</td>\n",
       "      <td>0.062028</td>\n",
       "      <td>0.346786</td>\n",
       "      <td>0.696548</td>\n",
       "      <td>0.511685</td>\n",
       "      <td>0.623714</td>\n",
       "      <td>0.469995</td>\n",
       "      <td>0.427435</td>\n",
       "      <td>1.272348</td>\n",
       "      <td>0.119853</td>\n",
       "      <td>-1.683783</td>\n",
       "    </tr>\n",
       "    <tr>\n",
       "      <th>4</th>\n",
       "      <td>0.041176</td>\n",
       "      <td>0.079490</td>\n",
       "      <td>0.061128</td>\n",
       "      <td>0.347045</td>\n",
       "      <td>0.700482</td>\n",
       "      <td>0.508753</td>\n",
       "      <td>0.621235</td>\n",
       "      <td>0.472241</td>\n",
       "      <td>0.437253</td>\n",
       "      <td>1.300389</td>\n",
       "      <td>0.130582</td>\n",
       "      <td>-1.809826</td>\n",
       "    </tr>\n",
       "    <tr>\n",
       "      <th>...</th>\n",
       "      <td>...</td>\n",
       "      <td>...</td>\n",
       "      <td>...</td>\n",
       "      <td>...</td>\n",
       "      <td>...</td>\n",
       "      <td>...</td>\n",
       "      <td>...</td>\n",
       "      <td>...</td>\n",
       "      <td>...</td>\n",
       "      <td>...</td>\n",
       "      <td>...</td>\n",
       "      <td>...</td>\n",
       "    </tr>\n",
       "    <tr>\n",
       "      <th>187</th>\n",
       "      <td>0.017704</td>\n",
       "      <td>0.070221</td>\n",
       "      <td>0.049225</td>\n",
       "      <td>0.269561</td>\n",
       "      <td>0.691172</td>\n",
       "      <td>0.384628</td>\n",
       "      <td>0.538996</td>\n",
       "      <td>0.403651</td>\n",
       "      <td>0.512005</td>\n",
       "      <td>1.426540</td>\n",
       "      <td>0.175781</td>\n",
       "      <td>-3.878587</td>\n",
       "    </tr>\n",
       "    <tr>\n",
       "      <th>188</th>\n",
       "      <td>0.015727</td>\n",
       "      <td>0.065397</td>\n",
       "      <td>0.045630</td>\n",
       "      <td>0.267518</td>\n",
       "      <td>0.708571</td>\n",
       "      <td>0.389729</td>\n",
       "      <td>0.559639</td>\n",
       "      <td>0.409312</td>\n",
       "      <td>0.515934</td>\n",
       "      <td>1.433192</td>\n",
       "      <td>0.178034</td>\n",
       "      <td>-4.077065</td>\n",
       "    </tr>\n",
       "    <tr>\n",
       "      <th>189</th>\n",
       "      <td>0.035957</td>\n",
       "      <td>0.070357</td>\n",
       "      <td>0.049737</td>\n",
       "      <td>0.359267</td>\n",
       "      <td>0.756791</td>\n",
       "      <td>0.557506</td>\n",
       "      <td>0.699531</td>\n",
       "      <td>0.510774</td>\n",
       "      <td>0.450860</td>\n",
       "      <td>1.414583</td>\n",
       "      <td>0.171700</td>\n",
       "      <td>-1.850394</td>\n",
       "    </tr>\n",
       "    <tr>\n",
       "      <th>190</th>\n",
       "      <td>0.015221</td>\n",
       "      <td>0.064307</td>\n",
       "      <td>0.045014</td>\n",
       "      <td>0.260679</td>\n",
       "      <td>0.705493</td>\n",
       "      <td>0.380601</td>\n",
       "      <td>0.554037</td>\n",
       "      <td>0.401513</td>\n",
       "      <td>0.516345</td>\n",
       "      <td>1.428594</td>\n",
       "      <td>0.176478</td>\n",
       "      <td>-4.145249</td>\n",
       "    </tr>\n",
       "    <tr>\n",
       "      <th>191</th>\n",
       "      <td>0.035107</td>\n",
       "      <td>0.069245</td>\n",
       "      <td>0.041459</td>\n",
       "      <td>0.305155</td>\n",
       "      <td>0.760779</td>\n",
       "      <td>0.510800</td>\n",
       "      <td>0.729093</td>\n",
       "      <td>0.467208</td>\n",
       "      <td>0.474897</td>\n",
       "      <td>1.670215</td>\n",
       "      <td>0.250997</td>\n",
       "      <td>-1.868048</td>\n",
       "    </tr>\n",
       "  </tbody>\n",
       "</table>\n",
       "<p>192 rows × 12 columns</p>\n",
       "</div>"
      ],
      "text/plain": [
       "         blue     green       red       nir      ndvi       evi      arvi  \\\n",
       "0    0.039979  0.076186  0.058634  0.357662  0.718304  0.530332  0.644606   \n",
       "1    0.041257  0.076057  0.054167  0.355180  0.735351  0.548992  0.682294   \n",
       "2    0.041457  0.077332  0.058714  0.357157  0.717633  0.533500  0.649197   \n",
       "3    0.043690  0.078921  0.062028  0.346786  0.696548  0.511685  0.623714   \n",
       "4    0.041176  0.079490  0.061128  0.347045  0.700482  0.508753  0.621235   \n",
       "..        ...       ...       ...       ...       ...       ...       ...   \n",
       "187  0.017704  0.070221  0.049225  0.269561  0.691172  0.384628  0.538996   \n",
       "188  0.015727  0.065397  0.045630  0.267518  0.708571  0.389729  0.559639   \n",
       "189  0.035957  0.070357  0.049737  0.359267  0.756791  0.557506  0.699531   \n",
       "190  0.015221  0.064307  0.045014  0.260679  0.705493  0.380601  0.554037   \n",
       "191  0.035107  0.069245  0.041459  0.305155  0.760779  0.510800  0.729093   \n",
       "\n",
       "         savi       gcc       gri      grvi      bgvi  \n",
       "0    0.489516  0.435848  1.299341  0.130186 -1.789475  \n",
       "1    0.496532  0.443531  1.404123  0.168096 -1.726187  \n",
       "2    0.488785  0.435665  1.317092  0.136849 -1.746562  \n",
       "3    0.469995  0.427435  1.272348  0.119853 -1.683783  \n",
       "4    0.472241  0.437253  1.300389  0.130582 -1.809826  \n",
       "..        ...       ...       ...       ...       ...  \n",
       "187  0.403651  0.512005  1.426540  0.175781 -3.878587  \n",
       "188  0.409312  0.515934  1.433192  0.178034 -4.077065  \n",
       "189  0.510774  0.450860  1.414583  0.171700 -1.850394  \n",
       "190  0.401513  0.516345  1.428594  0.176478 -4.145249  \n",
       "191  0.467208  0.474897  1.670215  0.250997 -1.868048  \n",
       "\n",
       "[192 rows x 12 columns]"
      ]
     },
     "execution_count": 27,
     "metadata": {},
     "output_type": "execute_result"
    }
   ],
   "source": [
    "X_resampled"
   ]
  },
  {
   "cell_type": "code",
   "execution_count": 28,
   "id": "d3944893",
   "metadata": {},
   "outputs": [
    {
     "data": {
      "text/plain": [
       "high    96\n",
       "low     96\n",
       "Name: sev_class, dtype: int64"
      ]
     },
     "execution_count": 28,
     "metadata": {},
     "output_type": "execute_result"
    }
   ],
   "source": [
    "# Check number of high dis/low dis samples in resampled set\n",
    "y_resampled.value_counts()"
   ]
  },
  {
   "cell_type": "code",
   "execution_count": 29,
   "id": "31c3834f",
   "metadata": {},
   "outputs": [
    {
     "data": {
      "text/plain": [
       "low     860\n",
       "high     96\n",
       "Name: sev_class, dtype: int64"
      ]
     },
     "execution_count": 29,
     "metadata": {},
     "output_type": "execute_result"
    }
   ],
   "source": [
    "# Compare to original dataset\n",
    "y.value_counts()"
   ]
  },
  {
   "cell_type": "code",
   "execution_count": 30,
   "id": "c3244f8f",
   "metadata": {},
   "outputs": [
    {
     "name": "stderr",
     "output_type": "stream",
     "text": [
      "/Users/kathleenkanaley/miniconda3/envs/planetenv/lib/python3.10/site-packages/sklearn/experimental/enable_hist_gradient_boosting.py:16: UserWarning: Since version 1.0, it is not needed to import enable_hist_gradient_boosting anymore. HistGradientBoostingClassifier and HistGradientBoostingRegressor are now stable and can be normally imported from sklearn.ensemble.\n",
      "  warnings.warn(\n"
     ]
    }
   ],
   "source": [
    "# Now, set up a pipeline to resample then model the data\n",
    "\n",
    "from sklearn.experimental import enable_hist_gradient_boosting\n",
    "from sklearn.ensemble import HistGradientBoostingClassifier\n",
    "from sklearn.model_selection import cross_validate\n",
    "from imblearn.pipeline import make_pipeline\n",
    "from sklearn.metrics import balanced_accuracy_score\n"
   ]
  },
  {
   "cell_type": "code",
   "execution_count": 31,
   "id": "77452de1",
   "metadata": {},
   "outputs": [],
   "source": [
    "# Leave some data out for testing later\n",
    "\n",
    "X, X_left_out, y, y_left_out = train_test_split(\n",
    "    X, y, stratify=y, random_state=0)"
   ]
  },
  {
   "cell_type": "code",
   "execution_count": 32,
   "id": "bebc434c",
   "metadata": {},
   "outputs": [
    {
     "data": {
      "text/plain": [
       "low     215\n",
       "high     24\n",
       "Name: sev_class, dtype: int64"
      ]
     },
     "execution_count": 32,
     "metadata": {},
     "output_type": "execute_result"
    }
   ],
   "source": [
    "y_left_out.value_counts()"
   ]
  },
  {
   "cell_type": "code",
   "execution_count": 33,
   "id": "9977c847",
   "metadata": {},
   "outputs": [
    {
     "name": "stdout",
     "output_type": "stream",
     "text": [
      "Balanced accuracy mean (undersampling) +/- std. dev.: 0.689 +/- 0.078\n"
     ]
    }
   ],
   "source": [
    "model = make_pipeline(\n",
    "    RandomUnderSampler(random_state=0),\n",
    "    HistGradientBoostingClassifier(random_state=1)\n",
    ")\n",
    "cv_results = cross_validate(\n",
    "    model, X, y, scoring=\"balanced_accuracy\",\n",
    "    return_train_score=True, return_estimator=True,\n",
    "    n_jobs=-1\n",
    ")\n",
    "print(\n",
    "    f\"Balanced accuracy mean (undersampling) +/- std. dev.: \"\n",
    "    f\"{cv_results['test_score'].mean():.3f} +/- \"\n",
    "    f\"{cv_results['test_score'].std():.3f}\"\n",
    ")"
   ]
  },
  {
   "cell_type": "code",
   "execution_count": 34,
   "id": "ee3f0050",
   "metadata": {},
   "outputs": [
    {
     "name": "stdout",
     "output_type": "stream",
     "text": [
      "Balanced accuracy mean (undersampling) +/- std. dev.: 0.788 +/- 0.017\n"
     ]
    }
   ],
   "source": [
    "scores = []\n",
    "for fold_id, cv_model in enumerate(cv_results[\"estimator\"]):\n",
    "    scores.append(\n",
    "        balanced_accuracy_score(\n",
    "            y_left_out, cv_model.predict(X_left_out)\n",
    "       )\n",
    "    )\n",
    "print(\n",
    "    f\"Balanced accuracy mean (undersampling) +/- std. dev.: \"\n",
    "    f\"{np.mean(scores):.3f} +/- {np.std(scores):.3f}\"\n",
    ")"
   ]
  },
  {
   "cell_type": "code",
   "execution_count": 35,
   "id": "6c46130b",
   "metadata": {},
   "outputs": [
    {
     "name": "stdout",
     "output_type": "stream",
     "text": [
      "Balanced accuracy mean (oversampling) +/- std. dev.: 0.539 +/- 0.028\n"
     ]
    }
   ],
   "source": [
    "# Repeat with oversampling\n",
    "\n",
    "from imblearn.over_sampling import RandomOverSampler\n",
    "\n",
    "model_os = make_pipeline(\n",
    "    RandomOverSampler(random_state=1),\n",
    "    HistGradientBoostingClassifier(random_state=1)\n",
    ")\n",
    "cv_results_os = cross_validate(\n",
    "    model_os, X, y, scoring=\"balanced_accuracy\",\n",
    "    return_train_score=True, return_estimator=True,\n",
    "    n_jobs=-1\n",
    ")\n",
    "print(\n",
    "    f\"Balanced accuracy mean (oversampling) +/- std. dev.: \"\n",
    "    f\"{cv_results_os['test_score'].mean():.3f} +/- \"\n",
    "    f\"{cv_results_os['test_score'].std():.3f}\"\n",
    ")"
   ]
  },
  {
   "cell_type": "code",
   "execution_count": 36,
   "id": "a99d3405",
   "metadata": {},
   "outputs": [
    {
     "name": "stdout",
     "output_type": "stream",
     "text": [
      "Balanced accuracy mean (oversampling) +/- std. dev.: 0.622 +/- 0.033\n"
     ]
    }
   ],
   "source": [
    "scores_os = []\n",
    "for fold_id, cv_model in enumerate(cv_results_os[\"estimator\"]):\n",
    "    scores_os.append(\n",
    "        balanced_accuracy_score(\n",
    "            y_left_out, cv_model.predict(X_left_out)\n",
    "       )\n",
    "    )\n",
    "print(\n",
    "    f\"Balanced accuracy mean (oversampling) +/- std. dev.: \"\n",
    "    f\"{np.mean(scores_os):.3f} +/- {np.std(scores_os):.3f}\"\n",
    ")"
   ]
  },
  {
   "cell_type": "code",
   "execution_count": 37,
   "id": "28d2470d",
   "metadata": {},
   "outputs": [
    {
     "name": "stdout",
     "output_type": "stream",
     "text": [
      "Balanced accuracy mean (os/shrinkage) +/- std. dev.: 0.530 +/- 0.053\n"
     ]
    }
   ],
   "source": [
    "# Add shrinkage parameter to oversampler\n",
    "# https://imbalanced-learn.org/stable/auto_examples/over-sampling/plot_shrinkage_effect.html#sphx-glr-auto-examples-over-sampling-plot-shrinkage-effect-py\n",
    "\n",
    "model_shrink = make_pipeline(\n",
    "    RandomOverSampler(random_state=1, shrinkage=1),\n",
    "    HistGradientBoostingClassifier(random_state=42)\n",
    ")\n",
    "cv_results_shrink = cross_validate(\n",
    "    model_shrink, X, y, scoring=\"balanced_accuracy\",\n",
    "    return_train_score=True, return_estimator=True,\n",
    "    n_jobs=-1\n",
    ")\n",
    "print(\n",
    "    f\"Balanced accuracy mean (os/shrinkage) +/- std. dev.: \"\n",
    "    f\"{cv_results_shrink['test_score'].mean():.3f} +/- \"\n",
    "    f\"{cv_results_shrink['test_score'].std():.3f}\"\n",
    ")"
   ]
  },
  {
   "cell_type": "code",
   "execution_count": 38,
   "id": "1d626d71",
   "metadata": {},
   "outputs": [
    {
     "name": "stdout",
     "output_type": "stream",
     "text": [
      "Balanced accuracy mean (os/shrinkage) +/- std. dev.: 0.641 +/- 0.023\n"
     ]
    }
   ],
   "source": [
    "scores_shrink = []\n",
    "for fold_id, cv_model in enumerate(cv_results_shrink[\"estimator\"]):\n",
    "    scores_shrink.append(\n",
    "        balanced_accuracy_score(\n",
    "            y_left_out, cv_model.predict(X_left_out)\n",
    "       )\n",
    "    )\n",
    "print(\n",
    "    f\"Balanced accuracy mean (os/shrinkage) +/- std. dev.: \"\n",
    "    f\"{np.mean(scores_shrink):.3f} +/- {np.std(scores_shrink):.3f}\"\n",
    ")"
   ]
  },
  {
   "cell_type": "code",
   "execution_count": null,
   "id": "68e47497",
   "metadata": {},
   "outputs": [],
   "source": [
    "# To do: compare diff. under/oversampling and model combos\n",
    "# https://imbalanced-learn.org/stable/auto_examples/applications/plot_impact_imbalanced_classes.html\n"
   ]
  }
 ],
 "metadata": {
  "kernelspec": {
   "display_name": "Python 3 (ipykernel)",
   "language": "python",
   "name": "python3"
  },
  "language_info": {
   "codemirror_mode": {
    "name": "ipython",
    "version": 3
   },
   "file_extension": ".py",
   "mimetype": "text/x-python",
   "name": "python",
   "nbconvert_exporter": "python",
   "pygments_lexer": "ipython3",
   "version": "3.10.6"
  }
 },
 "nbformat": 4,
 "nbformat_minor": 5
}
