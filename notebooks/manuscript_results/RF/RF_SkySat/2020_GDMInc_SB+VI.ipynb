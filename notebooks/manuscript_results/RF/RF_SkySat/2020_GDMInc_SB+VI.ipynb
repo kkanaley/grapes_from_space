{
 "cells": [
  {
   "cell_type": "code",
   "execution_count": 1,
   "id": "19fedb74",
   "metadata": {},
   "outputs": [],
   "source": [
    "import glob\n",
    "import os\n",
    "import matplotlib.pyplot as plt\n",
    "import pandas as pd\n",
    "import numpy as np\n",
    "import seaborn as sns\n",
    "\n",
    "import sklearn\n",
    "from sklearn.preprocessing import MinMaxScaler\n",
    "from sklearn.model_selection import train_test_split \n",
    "from sklearn.metrics import classification_report \n",
    "from sklearn.metrics import accuracy_score\n",
    "from sklearn.metrics import precision_recall_fscore_support\n",
    "from sklearn.metrics import roc_auc_score\n",
    "\n",
    "import imblearn as imb\n",
    "from imblearn.under_sampling import RandomUnderSampler\n",
    "\n",
    "import scipy\n"
   ]
  },
  {
   "cell_type": "code",
   "execution_count": 2,
   "id": "25c29721",
   "metadata": {},
   "outputs": [],
   "source": [
    "data_dir = data_dir = '/Users/kathleenkanaley/Desktop/grapes_from_space/data/'\n",
    "\n",
    "data_2020 = pd.read_csv(data_dir + 'img_scout_dfs/2020/smr_vis_skysat_scout_2020.csv')"
   ]
  },
  {
   "cell_type": "code",
   "execution_count": 3,
   "id": "fb51216a",
   "metadata": {},
   "outputs": [],
   "source": [
    "data_2020['GDM_sev']='low'\n",
    "data_2020.loc[data_2020['DM_severity'] > 10, 'GDM_sev'] = 'high'\n",
    "    \n",
    "data_2020['GDM_inc']='low'\n",
    "data_2020.loc[data_2020['DM_inc'] > 25, 'GDM_inc'] = 'high'"
   ]
  },
  {
   "cell_type": "code",
   "execution_count": 4,
   "id": "d4957dc2",
   "metadata": {},
   "outputs": [
    {
     "data": {
      "text/plain": [
       "Index(['acquired', 'plot', 'blue', 'green', 'red', 'nir', 'veg_smr',\n",
       "       'savi_exp', 'savi', 'msavi', 'evi', 'arvi', 'gri', 'ndvi', 'nir_blue',\n",
       "       'nir_green', 'red_blue', 'green_red', 'green_blue', 'row', 'panel',\n",
       "       'Date', 'Treatment', 'Block', 'PM_severity', 'DM_severity', 'total_dis',\n",
       "       'geometry', 'centroid', 'PM_inc', 'DM_inc', 'GDM_sev', 'GDM_inc'],\n",
       "      dtype='object')"
      ]
     },
     "execution_count": 4,
     "metadata": {},
     "output_type": "execute_result"
    }
   ],
   "source": [
    "data_2020.columns"
   ]
  },
  {
   "cell_type": "code",
   "execution_count": 5,
   "id": "20255400",
   "metadata": {},
   "outputs": [],
   "source": [
    "# SB + VIs \n",
    "expl_vars = ['blue', 'green', 'red', 'nir','ndvi', 'evi','msavi', 'arvi', 'green_red']\n",
    "resp_var = 'GDM_inc'"
   ]
  },
  {
   "cell_type": "code",
   "execution_count": 6,
   "id": "3f9c7658",
   "metadata": {},
   "outputs": [],
   "source": [
    "# X = data_2020[expl_vars]\n",
    "# y = data_2020[resp_var]\n",
    "\n",
    "# rus = RandomUnderSampler(random_state=2020)\n",
    "# X_rus, y_rus = rus.fit_resample(X, y)\n",
    "\n",
    "# # Split dataset into training set and test set\n",
    "# SPLIT_RND_SEED = 456\n",
    "# X_train, X_test, y_train, y_test = train_test_split(X_rus, y_rus,\n",
    "#                                                     test_size=0.3, \n",
    "#                                                     random_state=SPLIT_RND_SEED,\n",
    "#                                                     stratify = y_rus)  # 70% training and 30% test"
   ]
  },
  {
   "cell_type": "code",
   "execution_count": 7,
   "id": "4107bc5f",
   "metadata": {},
   "outputs": [],
   "source": [
    "# mm = MinMaxScaler()\n",
    "# X_train_scaled = mm.fit_transform(X_train)\n",
    "# X_test_scaled = mm.transform(X_test)\n",
    "# #y_train = np.array(y_train)"
   ]
  },
  {
   "cell_type": "code",
   "execution_count": 8,
   "id": "5f7fb547",
   "metadata": {},
   "outputs": [],
   "source": [
    "# from sklearn.ensemble import RandomForestClassifier\n",
    "# rfc = RandomForestClassifier()\n",
    "# rfc.fit(X_train_scaled, y_train)\n",
    "# display(rfc.score(X_train_scaled, y_train))"
   ]
  },
  {
   "cell_type": "code",
   "execution_count": 9,
   "id": "6d08f899",
   "metadata": {},
   "outputs": [],
   "source": [
    "# # Prediction on test data\n",
    "# y_pred = rfc.predict(X_test_scaled)"
   ]
  },
  {
   "cell_type": "code",
   "execution_count": 10,
   "id": "d0d7eeef",
   "metadata": {},
   "outputs": [],
   "source": [
    "# # Classification report\n",
    "# stats = classification_report(y_test, y_pred,\n",
    "#                               labels=None,\n",
    "# #                               target_names=[\"low\", \"high\"],\n",
    "#                               sample_weight=None,\n",
    "#                               digits=2,\n",
    "#                               output_dict=False)\n",
    "  \n",
    "# print(\"Classification report:\\n\")\n",
    "# print(stats)"
   ]
  },
  {
   "cell_type": "code",
   "execution_count": 11,
   "id": "9217f99d",
   "metadata": {
    "scrolled": true
   },
   "outputs": [],
   "source": [
    "# view the feature scores\n",
    "# feature_scores_20 = pd.Series(rfc.feature_importances_, index=X_train.columns).sort_values(ascending=False)\n",
    "# feature_scores_20\n",
    "\n",
    "# # display the predictions\n",
    "\n",
    "# sns.set(font=\"Arial\", font_scale=2)\n",
    "# plt.rcParams['figure.figsize'] = [10, 10]\n",
    "\n",
    "# #palette = sns.color_palette(\"Greens\")\n",
    "\n",
    "# order = ['blue', 'green', 'red', 'nir', 'arvi','evi', 'green_red','ndvi','msavi']\n",
    "# cols = ['blue', 'green', 'red', 'orange','purple','pink', 'yellow','brown','black']\n",
    "# # Creating a seaborn bar plot\n",
    "# sns.barplot(x=feature_scores_20.index, y=feature_scores_20, \n",
    "#             order = ['blue', 'green', 'red', 'nir', 'arvi','evi', 'green_red','ndvi','msavi'],\n",
    "#             palette=cols\n",
    "#            )\n",
    "# plt.title(\"Feature Importances\\n SkySat SB +VI to classify GDM Incidence, 2020\")\n",
    "# plt.ylabel('Feature Importance Score')\n",
    "# plt.xlabel('Features')\n",
    "# plt.xticks(np.arange(len(order)), labels=['blue', 'green', 'red', 'nir', 'ARVI','EVI', 'GRVI','NDVI','MSAVI'])\n",
    "# plt.ylim(0, 0.4)\n",
    "\n",
    "# # plt.savefig(\"feature_imp20.svg\")\n",
    "# plt.show()\n"
   ]
  },
  {
   "cell_type": "code",
   "execution_count": 12,
   "id": "3f0db2b6",
   "metadata": {},
   "outputs": [],
   "source": [
    "# from sklearn.model_selection import RandomizedSearchCV\n",
    "# n_estimators = [int(x) for x in np.linspace(start = 100, stop = 1000,\n",
    "# num = 10)]\n",
    "# max_features = ['log2', 'sqrt']\n",
    "# max_depth = [int(x) for x in np.linspace(start = 1, stop = 15, num =\n",
    "# 15)]\n",
    "# min_samples_split = [int(x) for x in np.linspace(start = 2, stop = 50,\n",
    "# num = 10)]\n",
    "# min_samples_leaf = [int(x) for x in np.linspace(start = 2, stop = 50,\n",
    "# num = 10)]\n",
    "# bootstrap = [True, False]\n",
    "# param_dist = {'n_estimators': n_estimators,\n",
    "# 'max_features': max_features,\n",
    "# 'max_depth': max_depth,\n",
    "# 'min_samples_split': min_samples_split,\n",
    "# 'min_samples_leaf': min_samples_leaf,\n",
    "# 'bootstrap': bootstrap}"
   ]
  },
  {
   "cell_type": "code",
   "execution_count": 13,
   "id": "226ec1d8",
   "metadata": {},
   "outputs": [],
   "source": [
    "# rs = RandomizedSearchCV(rfc,\n",
    "# param_dist,\n",
    "# n_iter = 100,\n",
    "# cv = 3,\n",
    "# verbose = 1,\n",
    "# n_jobs=-1,\n",
    "# random_state=0)\n",
    "\n",
    "# rs.fit(X_train_scaled, y_train)\n",
    "# rs.best_params_"
   ]
  },
  {
   "cell_type": "code",
   "execution_count": 14,
   "id": "3424dbad",
   "metadata": {},
   "outputs": [],
   "source": [
    "# rs_df = pd.DataFrame(rs.cv_results_).sort_values('rank_test_score').reset_index(drop=True)\n",
    "# rs_df = rs_df.drop([\n",
    "# 'mean_fit_time',\n",
    "# 'std_fit_time',\n",
    "# 'mean_score_time',\n",
    "# 'std_score_time',\n",
    "# 'params',\n",
    "# 'split0_test_score',\n",
    "# 'split1_test_score',\n",
    "# 'split2_test_score',\n",
    "# 'std_test_score'],\n",
    "# axis=1)\n",
    "\n",
    "# rs_df.head(10)"
   ]
  },
  {
   "cell_type": "code",
   "execution_count": 15,
   "id": "4ccda75e",
   "metadata": {},
   "outputs": [],
   "source": [
    "# fig, axs = plt.subplots(ncols=3, nrows=2)\n",
    "# sns.set(style=\"whitegrid\", color_codes=True, font_scale = 2)\n",
    "# fig.set_size_inches(30,25)\n",
    "# sns.barplot(x='param_n_estimators', y='mean_test_score', data=rs_df,\n",
    "# ax=axs[0,0], color='lightgrey')\n",
    "# axs[0,0].set_ylim([.0,1])\n",
    "# axs[0,0].set_title(label = 'n_estimators',\n",
    "# size=30, weight='bold')\n",
    "\n",
    "# sns.barplot(x='param_min_samples_split', y='mean_test_score',\n",
    "# data=rs_df, ax=axs[0,1], color='coral')\n",
    "# axs[0,1].set_ylim([.0,1])\n",
    "# axs[0,1].set_title(label =\n",
    "# 'min_samples_split', size=30, weight='bold')\n",
    "\n",
    "# sns.barplot(x='param_min_samples_leaf', y='mean_test_score',\n",
    "# data=rs_df, ax=axs[0,2], color='lightgreen')\n",
    "# axs[0,2].set_ylim([.0,1])\n",
    "# axs[0,2].set_title(label =\n",
    "# 'min_samples_leaf', size=30, weight='bold')\n",
    "\n",
    "# sns.barplot(x='param_max_features', y='mean_test_score', data=rs_df,\n",
    "# ax=axs[1,0], color='wheat')\n",
    "# axs[1,0].set_ylim([.0,1])\n",
    "# axs[1,0].set_title(label = 'max_features',\n",
    "# size=30, weight='bold')\n",
    "\n",
    "# sns.barplot(x='param_max_depth', y='mean_test_score', data=rs_df,\n",
    "# ax=axs[1,1], color='lightpink')\n",
    "# axs[1,1].set_ylim([.0,1])\n",
    "# axs[1,1].set_title(label = 'max_depth',\n",
    "# size=30, weight='bold')\n",
    "\n",
    "# sns.barplot(x='param_bootstrap',y='mean_test_score', data=rs_df,\n",
    "# ax=axs[1,2], color='skyblue')\n",
    "# axs[1,2].set_ylim([.0,1])\n",
    "# axs[1,2].set_title(label = 'bootstrap', size=30, weight='bold')\n",
    "\n",
    "# plt.show()"
   ]
  },
  {
   "cell_type": "code",
   "execution_count": 16,
   "id": "1e5325c5",
   "metadata": {},
   "outputs": [],
   "source": [
    "# from sklearn.model_selection import GridSearchCV\n",
    "# n_estimators = [100,500,700,900]\n",
    "# max_features = ['sqrt']\n",
    "# max_depth = [3,7,12,15]\n",
    "# min_samples_split = [2,7,23]\n",
    "# min_samples_leaf = [2,7]\n",
    "# bootstrap = [True,False]\n",
    "\n",
    "# param_grid = {'n_estimators': n_estimators,\n",
    "# 'max_features': max_features,\n",
    "# 'max_depth': max_depth,\n",
    "# 'min_samples_split': min_samples_split,\n",
    "# 'min_samples_leaf': min_samples_leaf,\n",
    "# 'bootstrap': bootstrap}\n",
    "\n",
    "# gs = GridSearchCV(rfc, param_grid, cv = 3, verbose = 1, n_jobs=-1)\n",
    "# gs.fit(X_train_scaled, y_train)\n",
    "# rfc_2 = gs.best_estimator_\n",
    "# gs.best_params_"
   ]
  },
  {
   "cell_type": "code",
   "execution_count": 17,
   "id": "77d465f2",
   "metadata": {},
   "outputs": [],
   "source": [
    "# y_pred = rfc.predict(X_test_scaled)\n",
    "\n",
    "# y_pred_gs = gs.best_estimator_.predict(X_test_scaled)"
   ]
  },
  {
   "cell_type": "code",
   "execution_count": 18,
   "id": "f5ebdd22",
   "metadata": {},
   "outputs": [],
   "source": [
    "# from sklearn.metrics import confusion_matrix\n",
    "\n",
    "# conf_matrix_baseline = pd.DataFrame(confusion_matrix(y_test, y_pred),\n",
    "# index = [np.unique(y_pred)[0],np.unique(y_pred)[1]], columns = [np.unique(y_pred)[0],np.unique(y_pred)[1]])\n",
    "                                   \n",
    "                                             \n",
    "\n",
    "# conf_matrix_tuned = pd.DataFrame(confusion_matrix(y_test, y_pred_gs),\n",
    "#         index = [np.unique(y_pred)[0],np.unique(y_pred)[1]], columns = [np.unique(y_pred)[0],np.unique(y_pred)[1]])\n",
    "                                                         \n",
    "# display(conf_matrix_baseline)\n",
    "# display('Baseline Random Forest accuracy score', accuracy_score(y_test, y_pred))\n",
    "                                                         \n",
    "\n",
    "# display(conf_matrix_tuned)\n",
    "# display('Hyperparameter Tuned Random Forest accuracy score', accuracy_score(y_test, y_pred_gs))"
   ]
  },
  {
   "cell_type": "code",
   "execution_count": 19,
   "id": "22a9d79e",
   "metadata": {},
   "outputs": [],
   "source": [
    "# Repeat with best performing model"
   ]
  },
  {
   "cell_type": "code",
   "execution_count": 20,
   "id": "caf393ac",
   "metadata": {},
   "outputs": [],
   "source": [
    "# def run_rf(df, expl_vars, resp_var, SPLIT_RND_SEED):\n",
    "#     X = df[expl_vars]\n",
    "#     y = df[resp_var]\n",
    "    \n",
    "#     rus = RandomUnderSampler(random_state=2020)\n",
    "#     X_rus, y_rus = rus.fit_resample(X, y)\n",
    "\n",
    "# # Split dataset into training set and test set\n",
    "\n",
    "#     X_train, X_test, y_train, y_test = train_test_split(X_rus, y_rus,\n",
    "#                                                     test_size=0.3, \n",
    "#                                                     random_state=SPLIT_RND_SEED,\n",
    "#                                                     stratify = y_rus)  # 70% training and 30% test\n",
    "#     mm = MinMaxScaler()\n",
    "#     X_train_scaled = mm.fit_transform(X_train)\n",
    "#     X_test_scaled = mm.transform(X_test)\n",
    "    \n",
    "    \n",
    "#     from sklearn.ensemble import RandomForestClassifier\n",
    "    \n",
    "#     # Modify with best parameters  \n",
    "#     rf = RandomForestClassifier()\n",
    "        \n",
    "        \n",
    "# #                                 n_estimators = 500, \n",
    "# #                                 oob_score=True, \n",
    "# #                                 #random_state=rand_state, # random number to be used, needed to reproduce the same result\n",
    "# #                                 verbose=False)\n",
    "    \n",
    "#     rf_model = rf.fit(X_train_scaled, y_train)\n",
    "    \n",
    "#     y_pred = rf_model.predict(X_test_scaled)\n",
    "    \n",
    "#     from sklearn.metrics import accuracy_score\n",
    "#     accuracy = accuracy_score(y_test, y_pred)\n",
    "    \n",
    "#     from sklearn.metrics import precision_recall_fscore_support\n",
    "    \n",
    "#     prec, recall, fscore, support = precision_recall_fscore_support(y_test, y_pred)\n",
    "  \n",
    "    \n",
    "#     from sklearn.metrics import cohen_kappa_score\n",
    "        \n",
    "#     cohen_score = cohen_kappa_score(y_test, y_pred)\n",
    "    \n",
    "# #     from sklearn.metrics import roc_auc_score\n",
    "    \n",
    "# #     roc_auc_label0 = roc_auc_score(y_test, rf_model.predict_proba(X_test_scaled)[:,0])\n",
    "# #     roc_auc_label1 = roc_auc_score(y_test, rf_model.predict_proba(X_test_scaled)[:,1])\n",
    "\n",
    "#     label_0 = np.unique(y_pred)[0]\n",
    "#     label_1 = np.unique(y_pred)[1]\n",
    "    \n",
    "#     metrics = {\n",
    "#         'cohen_kappa': [cohen_score], \n",
    "#         'accuracy_score': [accuracy],\n",
    "#         'precision {}'.format(label_0): [prec[0]],\n",
    "#         'precision {}'.format(label_1): [prec[1]],\n",
    "#         'recall {}'.format(label_0): [recall[0]],\n",
    "#         'recall {}'.format(label_1): [recall[1]],\n",
    "#         'fscore {}'.format(label_0): [fscore[0]],\n",
    "#         'fscore {}'.format(label_1): [fscore[1]],\n",
    "\n",
    "# #         'ROC-AUC {}'.format(label_0): [roc_auc_label0],\n",
    "# #         'ROC-AUC {}'.format(label_1): [roc_auc_label1]\n",
    "#     }\n",
    "#     metrics_df = pd.DataFrame(data=metrics)\n",
    "    \n",
    "#     return metrics_df\n"
   ]
  },
  {
   "cell_type": "code",
   "execution_count": 21,
   "id": "3455640a",
   "metadata": {},
   "outputs": [],
   "source": [
    "# run_rf(data_2020, expl_vars, resp_var, 456)"
   ]
  },
  {
   "cell_type": "code",
   "execution_count": 22,
   "id": "ccfbaf21",
   "metadata": {},
   "outputs": [],
   "source": [
    "# import random\n",
    " \n",
    "# rand_list=[]\n",
    "# n=100\n",
    "# for i in range(n):\n",
    "#     rand_list.append(random.randint(100,999))"
   ]
  },
  {
   "cell_type": "code",
   "execution_count": 23,
   "id": "3f62f706",
   "metadata": {},
   "outputs": [],
   "source": [
    "# # RF model, GDM Inc 2020 SB + VI\n",
    "# expl_vars = ['blue', 'green', 'red', 'nir','ndvi', 'evi','msavi', 'arvi', 'green_red']\n",
    "# resp_var = 'GDM_inc'\n",
    "\n",
    "# results_alldata = []\n",
    "# for r in rand_list:\n",
    "#     res_df = run_rf(data_2020, expl_vars, resp_var, r)\n",
    "    \n",
    "#     results_alldata.append(res_df)"
   ]
  },
  {
   "cell_type": "code",
   "execution_count": 24,
   "id": "1ab83482",
   "metadata": {},
   "outputs": [],
   "source": [
    "# results_alldata_df = pd.concat(results_alldata)\n",
    "# results_alldata_df.mean()"
   ]
  },
  {
   "cell_type": "code",
   "execution_count": 25,
   "id": "2b537187",
   "metadata": {},
   "outputs": [],
   "source": [
    "# Get permutation feature imp. scores\n",
    "# https://scikit-learn.org/stable/auto_examples/inspection/plot_permutation_importance.html#sphx-glr-auto-examples-inspection-plot-permutation-importance-py"
   ]
  },
  {
   "cell_type": "code",
   "execution_count": 29,
   "id": "231d5951",
   "metadata": {},
   "outputs": [
    {
     "data": {
      "text/plain": [
       "Index(['acquired', 'plot', 'blue', 'green', 'red', 'nir', 'veg_smr',\n",
       "       'savi_exp', 'savi', 'msavi', 'evi', 'arvi', 'gri', 'ndvi', 'nir_blue',\n",
       "       'nir_green', 'red_blue', 'grvi', 'green_blue', 'row', 'panel', 'Date',\n",
       "       'Treatment', 'Block', 'PM_severity', 'DM_severity', 'total_dis',\n",
       "       'geometry', 'centroid', 'PM_inc', 'DM_inc', 'GDM_sev', 'GDM_inc'],\n",
       "      dtype='object')"
      ]
     },
     "execution_count": 29,
     "metadata": {},
     "output_type": "execute_result"
    }
   ],
   "source": [
    "data_2020 = data_2020.rename(columns={\"green_red\": \"grvi\"})\n",
    "data_2020.columns"
   ]
  },
  {
   "cell_type": "code",
   "execution_count": 32,
   "id": "61c2cf19",
   "metadata": {},
   "outputs": [],
   "source": [
    "df = data_2020\n",
    "expl_vars = ['blue', 'green', 'red', 'nir','ndvi', 'evi','msavi', 'arvi', 'grvi']\n",
    "resp_var = 'GDM_inc'\n",
    "\n",
    "\n",
    "X = df[expl_vars]\n",
    "y = df[resp_var]\n",
    "    \n",
    "rus = RandomUnderSampler(random_state=2020)\n",
    "X_rus, y_rus = rus.fit_resample(X, y)\n",
    "\n",
    "# Split dataset into training set and test set\n",
    "\n",
    "X_train, X_test, y_train, y_test = train_test_split(X_rus, y_rus,\n",
    "                                                    test_size=0.3, \n",
    "                                                    random_state=123,\n",
    "                                                    stratify = y_rus)  # 70% training and 30% test\n",
    "mm = MinMaxScaler()\n",
    "X_train_scaled = mm.fit_transform(X_train)\n",
    "X_test_scaled = mm.transform(X_test)\n",
    "    \n",
    "    \n",
    "from sklearn.ensemble import RandomForestClassifier\n",
    "    \n",
    "# Modify with best parameters  \n",
    "rf = RandomForestClassifier(random_state= 456)\n",
    "        \n",
    "        \n",
    "#                                 n_estimators = 500, \n",
    "#                                 oob_score=True, \n",
    "#                                 #random_state=rand_state, # random number to be used, needed to reproduce the same result\n",
    "#                                 verbose=False)\n",
    "    \n",
    "rf_model = rf.fit(X_train_scaled, y_train)\n",
    "    \n",
    "#y_pred = rf_model.predict(X_test_scaled)"
   ]
  },
  {
   "cell_type": "code",
   "execution_count": 40,
   "id": "19eccb8b",
   "metadata": {},
   "outputs": [
    {
     "data": {
      "image/png": "[encoded data removed]",
      "text/plain": [
       "<Figure size 640x480 with 1 Axes>"
      ]
     },
     "metadata": {},
     "output_type": "display_data"
    }
   ],
   "source": [
    "from sklearn.inspection import permutation_importance\n",
    "\n",
    "result = permutation_importance(\n",
    "    rf_model, X_test_scaled, y_test, n_repeats=10, random_state=16, n_jobs=2\n",
    ")\n",
    "\n",
    "sorted_importances_idx = result.importances_mean.argsort()\n",
    "importances = pd.DataFrame(\n",
    "    result.importances[sorted_importances_idx].T,\n",
    "    columns=X.columns[sorted_importances_idx],\n",
    ")\n",
    "ax = importances.plot.box(vert=False, whis=10)\n",
    "ax.set_title(\"Permutation Importances (test set)\",fontname=\"Arial\")\n",
    "ax.axvline(x=0, color=\"k\", linestyle=\"--\")\n",
    "ax.set_xlabel(\"Decrease in accuracy score\",fontname=\"Arial\", fontsize = 12)\n",
    "ax.set_ylabel(\"Features\",fontname=\"Arial\", fontsize = 12)\n",
    "\n",
    "ax.figure.tight_layout()"
   ]
  },
  {
   "cell_type": "code",
   "execution_count": null,
   "id": "870fd7a5",
   "metadata": {},
   "outputs": [],
   "source": []
  }
 ],
 "metadata": {
  "kernelspec": {
   "display_name": "Python 3 (ipykernel)",
   "language": "python",
   "name": "python3"
  },
  "language_info": {
   "codemirror_mode": {
    "name": "ipython",
    "version": 3
   },
   "file_extension": ".py",
   "mimetype": "text/x-python",
   "name": "python",
   "nbconvert_exporter": "python",
   "pygments_lexer": "ipython3",
   "version": "3.10.6"
  }
 },
 "nbformat": 4,
 "nbformat_minor": 5
}
