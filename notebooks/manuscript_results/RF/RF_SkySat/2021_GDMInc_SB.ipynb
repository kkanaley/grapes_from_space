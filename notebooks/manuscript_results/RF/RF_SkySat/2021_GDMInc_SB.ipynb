{
 "cells": [
  {
   "cell_type": "code",
   "execution_count": 1,
   "id": "19fedb74",
   "metadata": {},
   "outputs": [],
   "source": [
    "import glob\n",
    "import os\n",
    "import matplotlib.pyplot as plt\n",
    "import pandas as pd\n",
    "import numpy as np\n",
    "import seaborn as sns\n",
    "\n",
    "import sklearn\n",
    "from sklearn.preprocessing import MinMaxScaler\n",
    "from sklearn.model_selection import train_test_split \n",
    "from sklearn.metrics import classification_report \n",
    "from sklearn.metrics import accuracy_score\n",
    "from sklearn.metrics import precision_recall_fscore_support\n",
    "import imblearn as imb\n",
    "from imblearn.under_sampling import RandomUnderSampler\n",
    "\n",
    "import scipy\n"
   ]
  },
  {
   "cell_type": "code",
   "execution_count": 2,
   "id": "25c29721",
   "metadata": {},
   "outputs": [
    {
     "data": {
      "text/plain": [
       "array(['2021-07-07', '2021-07-27', '2021-08-10', '2021-08-17'],\n",
       "      dtype=object)"
      ]
     },
     "execution_count": 2,
     "metadata": {},
     "output_type": "execute_result"
    }
   ],
   "source": [
    "data_dir = data_dir = '/Users/kathleenkanaley/Desktop/grapes_from_space/data/'\n",
    "\n",
    "data_2021 = pd.read_csv(data_dir + 'img_scout_dfs/2021/smr_vis_skysat_scout_2021.csv')\n",
    "data_2021 = data_2021[data_2021['Date']!='2021-08-03']\n",
    "\n",
    "data_2021.Date.unique()"
   ]
  },
  {
   "cell_type": "code",
   "execution_count": 3,
   "id": "fb51216a",
   "metadata": {},
   "outputs": [],
   "source": [
    "data_2021['GDM_sev']='low'\n",
    "data_2021.loc[data_2021['DM_severity'] > 10, 'GDM_sev'] = 'high'\n",
    "    \n",
    "data_2021['GDM_inc']='low'\n",
    "data_2021.loc[data_2021['DM_inc'] > 25, 'GDM_inc'] = 'high'"
   ]
  },
  {
   "cell_type": "code",
   "execution_count": 4,
   "id": "d4957dc2",
   "metadata": {},
   "outputs": [
    {
     "data": {
      "text/plain": [
       "Index(['acquired', 'plot', 'blue', 'green', 'red', 'nir', 'veg_smr',\n",
       "       'savi_exp', 'savi', 'msavi', 'evi', 'arvi', 'gri', 'ndvi', 'nir_blue',\n",
       "       'nir_green', 'red_blue', 'green_red', 'green_blue', 'row', 'panel',\n",
       "       'Date', 'Treatment', 'Block', 'PM_severity', 'DM_severity', 'total_dis',\n",
       "       'geometry', 'centroid', 'PM_inc', 'DM_inc', 'GDM_sev', 'GDM_inc'],\n",
       "      dtype='object')"
      ]
     },
     "execution_count": 4,
     "metadata": {},
     "output_type": "execute_result"
    }
   ],
   "source": [
    "data_2021.columns"
   ]
  },
  {
   "cell_type": "code",
   "execution_count": 5,
   "id": "20255400",
   "metadata": {},
   "outputs": [],
   "source": [
    "# Start with just spectral bands \n",
    "expl_vars = ['blue', 'green', 'red', 'nir']#,'savi', 'msavi', evi', 'arvi', 'green_red', 'ndvi']\n",
    "resp_var = 'GDM_inc'"
   ]
  },
  {
   "cell_type": "code",
   "execution_count": 6,
   "id": "3f9c7658",
   "metadata": {},
   "outputs": [],
   "source": [
    "X = data_2021[expl_vars]\n",
    "y = data_2021[resp_var]\n",
    "\n",
    "rus = RandomUnderSampler(random_state=2021)\n",
    "X_rus, y_rus = rus.fit_resample(X, y)\n",
    "\n",
    "# Split dataset into training set and test set\n",
    "SPLIT_RND_SEED = 456\n",
    "X_train, X_test, y_train, y_test = train_test_split(X_rus, y_rus,\n",
    "                                                    test_size=0.3, \n",
    "                                                    random_state=SPLIT_RND_SEED,\n",
    "                                                    stratify = y_rus)  # 70% training and 30% test"
   ]
  },
  {
   "cell_type": "code",
   "execution_count": 7,
   "id": "4107bc5f",
   "metadata": {},
   "outputs": [],
   "source": [
    "mm = MinMaxScaler()\n",
    "X_train_scaled = mm.fit_transform(X_train)\n",
    "X_test_scaled = mm.transform(X_test)\n",
    "#y_train = np.array(y_train)"
   ]
  },
  {
   "cell_type": "code",
   "execution_count": 8,
   "id": "d686840b",
   "metadata": {
    "scrolled": true
   },
   "outputs": [
    {
     "data": {
      "text/plain": [
       "array([[0.13704027, 0.11136107, 0.13075769, 0.26598286],\n",
       "       [0.24655563, 0.71280104, 0.50575029, 0.29349781],\n",
       "       [0.22045422, 0.77928106, 0.57196295, 0.37738009],\n",
       "       [0.10595906, 0.64562942, 0.50334476, 0.22835443],\n",
       "       [0.65438058, 0.63022245, 0.3004716 , 0.36305449],\n",
       "       [0.71042213, 0.70615952, 0.33747927, 0.41610771],\n",
       "       [0.07626983, 0.09240865, 0.08706233, 0.25186303],\n",
       "       [0.11298943, 0.59262845, 0.41090508, 0.10550473],\n",
       "       [0.67232686, 0.64206897, 0.28563607, 0.39225454],\n",
       "       [0.13902707, 0.11638967, 0.16325564, 0.264937  ],\n",
       "       [0.28548942, 0.71378704, 0.64815586, 0.07757276],\n",
       "       [0.11188473, 0.10109545, 0.14154033, 0.16611586],\n",
       "       [0.84758891, 0.82315416, 0.67905608, 0.7872095 ],\n",
       "       [0.69788151, 0.70143442, 0.20567246, 0.60885468],\n",
       "       [0.34811881, 0.25114124, 0.49070548, 0.13303845],\n",
       "       [0.78185992, 0.75279189, 0.61169322, 0.81920372],\n",
       "       [0.1820737 , 0.20394832, 0.2386097 , 0.40710946],\n",
       "       [0.04054   , 0.62074633, 0.32839068, 0.2765667 ],\n",
       "       [0.19095591, 0.6773104 , 0.45898012, 0.2352195 ],\n",
       "       [0.24601129, 0.68218638, 0.67183413, 0.10371249],\n",
       "       [0.27144774, 0.69243936, 0.52793597, 0.20913986],\n",
       "       [0.07943705, 0.08083527, 0.07491941, 0.31960468],\n",
       "       [0.2164179 , 0.61473494, 0.51525692, 0.07498742],\n",
       "       [0.14911517, 0.63247509, 0.45249699, 0.23309275],\n",
       "       [0.2057873 , 0.13716318, 0.22148428, 0.2555722 ],\n",
       "       [0.63399785, 0.66558538, 0.18840678, 0.62245226],\n",
       "       [0.22287598, 0.16131013, 0.26782254, 0.12797514],\n",
       "       [0.25915296, 0.76161798, 0.6489047 , 0.14891681],\n",
       "       [0.11210177, 0.08423108, 0.10162857, 0.31660379],\n",
       "       [0.61634133, 0.60375647, 0.21498354, 0.36138971],\n",
       "       [0.15660529, 0.13822617, 0.3085338 , 0.1879118 ],\n",
       "       [0.89221652, 0.79489126, 0.66380264, 0.81389961],\n",
       "       [0.17298125, 0.07816321, 0.13947138, 0.18727361],\n",
       "       [0.93764597, 0.89439143, 0.80225084, 0.87519915],\n",
       "       [0.14599394, 0.11716442, 0.16321163, 0.23861317],\n",
       "       [0.16504018, 0.67133268, 0.53644229, 0.19912017],\n",
       "       [0.1173938 , 0.1129811 , 0.1491496 , 0.28767834],\n",
       "       [0.68785871, 0.66726753, 0.21866748, 0.56368223],\n",
       "       [0.26549943, 0.73748248, 0.63071713, 0.10881949],\n",
       "       [0.16588077, 0.20316325, 0.27085526, 0.28888223],\n",
       "       [0.84357063, 0.77237032, 0.69994439, 0.79152731],\n",
       "       [0.64982777, 0.67149746, 0.34654798, 0.37530728],\n",
       "       [0.20503582, 0.67170042, 0.49944311, 0.18070618],\n",
       "       [0.19642854, 0.67426632, 0.49040085, 0.16905394],\n",
       "       [0.90456372, 0.8482652 , 0.74647523, 0.86253831],\n",
       "       [0.64745233, 0.68979838, 0.23354214, 0.49337944],\n",
       "       [0.62772672, 0.63874604, 0.28153051, 0.43619172],\n",
       "       [0.14510288, 0.13418231, 0.27112192, 0.16626572],\n",
       "       [0.15653823, 0.18421922, 0.15944174, 0.5007905 ],\n",
       "       [0.15019682, 0.64948837, 0.45980114, 0.22280992],\n",
       "       [0.67422489, 0.64570745, 0.20222879, 0.5822448 ],\n",
       "       [0.92349249, 0.80312458, 0.8653558 , 0.72162359],\n",
       "       [0.10601526, 0.61602213, 0.42058596, 0.18947277],\n",
       "       [0.10578228, 0.08586287, 0.10337458, 0.14865439],\n",
       "       [0.70731735, 0.71049165, 0.35326426, 0.45253313],\n",
       "       [0.2729621 , 0.72043819, 0.68450936, 0.0697447 ],\n",
       "       [0.12265596, 0.08897542, 0.14381536, 0.22913444],\n",
       "       [0.11841891, 0.13783952, 0.14885246, 0.41425417],\n",
       "       [0.67380831, 0.66953568, 0.30316718, 0.4903364 ],\n",
       "       [0.66725432, 0.6979181 , 0.23104593, 0.59762163],\n",
       "       [0.20028501, 0.69904163, 0.55394281, 0.26913139],\n",
       "       [0.09740448, 0.10823466, 0.10914218, 0.27528666],\n",
       "       [0.62456947, 0.5959477 , 0.20832895, 0.42176968],\n",
       "       [0.113181  , 0.65878155, 0.36488422, 0.30337156],\n",
       "       [0.15305948, 0.0757605 , 0.08109899, 0.26535316],\n",
       "       [0.1022771 , 0.08920071, 0.10277804, 0.13478365],\n",
       "       [0.90298507, 0.86137211, 0.74255303, 0.87893847],\n",
       "       [0.12873597, 0.0698507 , 0.11139765, 0.24575501],\n",
       "       [0.6103847 , 0.64388558, 0.25924984, 0.45811817],\n",
       "       [0.20305632, 0.75248114, 0.53386396, 0.40839322],\n",
       "       [0.12476742, 0.60855164, 0.44991534, 0.0770468 ],\n",
       "       [0.20052896, 0.69413709, 0.51525692, 0.25401488],\n",
       "       [0.15872564, 0.11195141, 0.17071137, 0.1889359 ],\n",
       "       [0.0880761 , 0.10541899, 0.10349764, 0.30009513],\n",
       "       [0.89835302, 0.88654627, 0.80272898, 0.9177283 ],\n",
       "       [0.83906014, 0.84521818, 0.81164828, 0.77541996],\n",
       "       [0.76592496, 0.72397482, 0.37820522, 0.37242745],\n",
       "       [0.91646543, 0.90394533, 0.91545712, 0.74763527],\n",
       "       [0.14963644, 0.12261333, 0.18503751, 0.31892024],\n",
       "       [0.05437102, 0.04257304, 0.00666786, 0.18474164],\n",
       "       [0.5803475 , 0.61585281, 0.18324945, 0.50858913],\n",
       "       [0.88242161, 0.81062558, 0.92632295, 0.57823134],\n",
       "       [0.046881  , 0.54421432, 0.35713534, 0.04232914],\n",
       "       [0.69020267, 0.71285454, 0.24751771, 0.56624594],\n",
       "       [0.67628792, 0.68094372, 0.28220629, 0.48321774],\n",
       "       [0.18919988, 0.14879989, 0.20782219, 0.26995482],\n",
       "       [0.09002732, 0.0767962 , 0.0832379 , 0.15600239],\n",
       "       [0.66061596, 0.68638072, 0.17072406, 0.6897507 ],\n",
       "       [0.65705293, 0.65896183, 0.26050516, 0.4081269 ],\n",
       "       [0.11843305, 0.08347615, 0.14223138, 0.10681263],\n",
       "       [0.19521497, 0.7285375 , 0.60897914, 0.29997295],\n",
       "       [0.0234952 , 0.64763824, 0.41444613, 0.1501403 ],\n",
       "       [0.73900388, 0.7157415 , 0.35497129, 0.48066429],\n",
       "       [0.03331486, 0.55573325, 0.29406546, 0.13105631],\n",
       "       [0.11914789, 0.05073227, 0.10759447, 0.17141839],\n",
       "       [0.11407816, 0.61958122, 0.45364431, 0.20160754],\n",
       "       [0.09955713, 0.56485728, 0.38107376, 0.0984664 ],\n",
       "       [0.81908063, 0.86296337, 0.62329034, 0.91809898],\n",
       "       [0.18731934, 0.70401275, 0.50307634, 0.22677143]])"
      ]
     },
     "execution_count": 8,
     "metadata": {},
     "output_type": "execute_result"
    }
   ],
   "source": [
    "X_test_scaled"
   ]
  },
  {
   "cell_type": "code",
   "execution_count": 9,
   "id": "5f7fb547",
   "metadata": {},
   "outputs": [
    {
     "data": {
      "text/plain": [
       "1.0"
      ]
     },
     "metadata": {},
     "output_type": "display_data"
    }
   ],
   "source": [
    "from sklearn.ensemble import RandomForestClassifier\n",
    "rfc = RandomForestClassifier()\n",
    "rfc.fit(X_train_scaled, y_train)\n",
    "display(rfc.score(X_train_scaled, y_train))"
   ]
  },
  {
   "cell_type": "code",
   "execution_count": 10,
   "id": "6d08f899",
   "metadata": {},
   "outputs": [],
   "source": [
    "# Prediction on test data\n",
    "y_pred = rfc.predict(X_test_scaled)"
   ]
  },
  {
   "cell_type": "code",
   "execution_count": 11,
   "id": "d0d7eeef",
   "metadata": {},
   "outputs": [
    {
     "name": "stdout",
     "output_type": "stream",
     "text": [
      "Classification report:\n",
      "\n",
      "              precision    recall  f1-score   support\n",
      "\n",
      "        high       0.83      0.88      0.85        49\n",
      "         low       0.87      0.82      0.85        50\n",
      "\n",
      "    accuracy                           0.85        99\n",
      "   macro avg       0.85      0.85      0.85        99\n",
      "weighted avg       0.85      0.85      0.85        99\n",
      "\n"
     ]
    }
   ],
   "source": [
    "# Classification report\n",
    "stats = classification_report(y_test, y_pred,\n",
    "                              labels=None,\n",
    "#                               target_names=[\"low\", \"high\"],\n",
    "                              sample_weight=None,\n",
    "                              digits=2,\n",
    "                              output_dict=False)\n",
    "  \n",
    "print(\"Classification report:\\n\")\n",
    "print(stats)"
   ]
  },
  {
   "cell_type": "code",
   "execution_count": 12,
   "id": "9217f99d",
   "metadata": {},
   "outputs": [
    {
     "name": "stderr",
     "output_type": "stream",
     "text": [
      "/var/folders/hg/02pmwyy14wvgdv7n1gzwlx1w0000gn/T/ipykernel_63198/2000841081.py:15: MatplotlibDeprecationWarning: Passing the emit parameter of set_ylim() positionally is deprecated since Matplotlib 3.6; the parameter will become keyword-only two minor releases later.\n",
      "  plt.ylim(0, 0.5, 0.02)\n"
     ]
    },
    {
     "data": {
      "image/png": "[encoded data removed]",
      "text/plain": [
       "<Figure size 1000x1000 with 1 Axes>"
      ]
     },
     "metadata": {},
     "output_type": "display_data"
    }
   ],
   "source": [
    "# view the feature scores\n",
    "feature_scores_21 = pd.Series(rfc.feature_importances_, index=X_train.columns).sort_values(ascending=False)\n",
    "feature_scores_21\n",
    "\n",
    "# display the predictions\n",
    "plt.rcParams['figure.figsize'] = [10, 10]\n",
    "\n",
    "#palette = sns.color_palette(\"Greens\")\n",
    "\n",
    "# Creating a seaborn bar plot\n",
    "sns.barplot(x=feature_scores_21.index, y=feature_scores_21)\n",
    "plt.title(\"Feature Importance\\n SkySat incidence 2021\")\n",
    "plt.xlabel('Feature Importance Score')\n",
    "plt.ylabel('Features')\n",
    "plt.ylim(0, 0.5, 0.02)\n",
    "\n",
    "# plt.savefig(\"feature_imp20.svg\")\n",
    "plt.show()\n"
   ]
  },
  {
   "cell_type": "code",
   "execution_count": 13,
   "id": "3f0db2b6",
   "metadata": {},
   "outputs": [],
   "source": [
    "from sklearn.model_selection import RandomizedSearchCV\n",
    "n_estimators = [int(x) for x in np.linspace(start = 100, stop = 1000,\n",
    "num = 10)]\n",
    "max_features = ['log2', 'sqrt']\n",
    "max_depth = [int(x) for x in np.linspace(start = 1, stop = 15, num =\n",
    "15)]\n",
    "min_samples_split = [int(x) for x in np.linspace(start = 2, stop = 50,\n",
    "num = 10)]\n",
    "min_samples_leaf = [int(x) for x in np.linspace(start = 2, stop = 50,\n",
    "num = 10)]\n",
    "bootstrap = [True, False]\n",
    "param_dist = {'n_estimators': n_estimators,\n",
    "'max_features': max_features,\n",
    "'max_depth': max_depth,\n",
    "'min_samples_split': min_samples_split,\n",
    "'min_samples_leaf': min_samples_leaf,\n",
    "'bootstrap': bootstrap}"
   ]
  },
  {
   "cell_type": "code",
   "execution_count": 14,
   "id": "226ec1d8",
   "metadata": {},
   "outputs": [
    {
     "name": "stdout",
     "output_type": "stream",
     "text": [
      "Fitting 3 folds for each of 100 candidates, totalling 300 fits\n"
     ]
    },
    {
     "data": {
      "text/plain": [
       "{'n_estimators': 700,\n",
       " 'min_samples_split': 12,\n",
       " 'min_samples_leaf': 2,\n",
       " 'max_features': 'sqrt',\n",
       " 'max_depth': 13,\n",
       " 'bootstrap': False}"
      ]
     },
     "execution_count": 14,
     "metadata": {},
     "output_type": "execute_result"
    }
   ],
   "source": [
    "rs = RandomizedSearchCV(rfc,\n",
    "param_dist,\n",
    "n_iter = 100,\n",
    "cv = 3,\n",
    "verbose = 1,\n",
    "n_jobs=-1,\n",
    "random_state=0)\n",
    "\n",
    "rs.fit(X_train_scaled, y_train)\n",
    "rs.best_params_"
   ]
  },
  {
   "cell_type": "code",
   "execution_count": 15,
   "id": "3424dbad",
   "metadata": {},
   "outputs": [
    {
     "data": {
      "text/html": [
       "<div>\n",
       "<style scoped>\n",
       "    .dataframe tbody tr th:only-of-type {\n",
       "        vertical-align: middle;\n",
       "    }\n",
       "\n",
       "    .dataframe tbody tr th {\n",
       "        vertical-align: top;\n",
       "    }\n",
       "\n",
       "    .dataframe thead th {\n",
       "        text-align: right;\n",
       "    }\n",
       "</style>\n",
       "<table border=\"1\" class=\"dataframe\">\n",
       "  <thead>\n",
       "    <tr style=\"text-align: right;\">\n",
       "      <th></th>\n",
       "      <th>param_n_estimators</th>\n",
       "      <th>param_min_samples_split</th>\n",
       "      <th>param_min_samples_leaf</th>\n",
       "      <th>param_max_features</th>\n",
       "      <th>param_max_depth</th>\n",
       "      <th>param_bootstrap</th>\n",
       "      <th>mean_test_score</th>\n",
       "      <th>rank_test_score</th>\n",
       "    </tr>\n",
       "  </thead>\n",
       "  <tbody>\n",
       "    <tr>\n",
       "      <th>0</th>\n",
       "      <td>700</td>\n",
       "      <td>12</td>\n",
       "      <td>2</td>\n",
       "      <td>sqrt</td>\n",
       "      <td>13</td>\n",
       "      <td>False</td>\n",
       "      <td>0.714286</td>\n",
       "      <td>1</td>\n",
       "    </tr>\n",
       "    <tr>\n",
       "      <th>1</th>\n",
       "      <td>600</td>\n",
       "      <td>23</td>\n",
       "      <td>2</td>\n",
       "      <td>sqrt</td>\n",
       "      <td>15</td>\n",
       "      <td>False</td>\n",
       "      <td>0.696970</td>\n",
       "      <td>2</td>\n",
       "    </tr>\n",
       "    <tr>\n",
       "      <th>2</th>\n",
       "      <td>1000</td>\n",
       "      <td>12</td>\n",
       "      <td>7</td>\n",
       "      <td>sqrt</td>\n",
       "      <td>10</td>\n",
       "      <td>True</td>\n",
       "      <td>0.692641</td>\n",
       "      <td>3</td>\n",
       "    </tr>\n",
       "    <tr>\n",
       "      <th>3</th>\n",
       "      <td>400</td>\n",
       "      <td>23</td>\n",
       "      <td>2</td>\n",
       "      <td>sqrt</td>\n",
       "      <td>14</td>\n",
       "      <td>False</td>\n",
       "      <td>0.688312</td>\n",
       "      <td>4</td>\n",
       "    </tr>\n",
       "    <tr>\n",
       "      <th>4</th>\n",
       "      <td>700</td>\n",
       "      <td>2</td>\n",
       "      <td>2</td>\n",
       "      <td>log2</td>\n",
       "      <td>11</td>\n",
       "      <td>True</td>\n",
       "      <td>0.688312</td>\n",
       "      <td>4</td>\n",
       "    </tr>\n",
       "    <tr>\n",
       "      <th>5</th>\n",
       "      <td>800</td>\n",
       "      <td>28</td>\n",
       "      <td>12</td>\n",
       "      <td>sqrt</td>\n",
       "      <td>14</td>\n",
       "      <td>True</td>\n",
       "      <td>0.688312</td>\n",
       "      <td>6</td>\n",
       "    </tr>\n",
       "    <tr>\n",
       "      <th>6</th>\n",
       "      <td>500</td>\n",
       "      <td>18</td>\n",
       "      <td>7</td>\n",
       "      <td>log2</td>\n",
       "      <td>7</td>\n",
       "      <td>True</td>\n",
       "      <td>0.683983</td>\n",
       "      <td>7</td>\n",
       "    </tr>\n",
       "    <tr>\n",
       "      <th>7</th>\n",
       "      <td>400</td>\n",
       "      <td>23</td>\n",
       "      <td>12</td>\n",
       "      <td>sqrt</td>\n",
       "      <td>11</td>\n",
       "      <td>True</td>\n",
       "      <td>0.679654</td>\n",
       "      <td>8</td>\n",
       "    </tr>\n",
       "    <tr>\n",
       "      <th>8</th>\n",
       "      <td>700</td>\n",
       "      <td>23</td>\n",
       "      <td>12</td>\n",
       "      <td>sqrt</td>\n",
       "      <td>8</td>\n",
       "      <td>True</td>\n",
       "      <td>0.679654</td>\n",
       "      <td>8</td>\n",
       "    </tr>\n",
       "    <tr>\n",
       "      <th>9</th>\n",
       "      <td>200</td>\n",
       "      <td>12</td>\n",
       "      <td>2</td>\n",
       "      <td>log2</td>\n",
       "      <td>4</td>\n",
       "      <td>True</td>\n",
       "      <td>0.679654</td>\n",
       "      <td>10</td>\n",
       "    </tr>\n",
       "  </tbody>\n",
       "</table>\n",
       "</div>"
      ],
      "text/plain": [
       "  param_n_estimators param_min_samples_split param_min_samples_leaf  \\\n",
       "0                700                      12                      2   \n",
       "1                600                      23                      2   \n",
       "2               1000                      12                      7   \n",
       "3                400                      23                      2   \n",
       "4                700                       2                      2   \n",
       "5                800                      28                     12   \n",
       "6                500                      18                      7   \n",
       "7                400                      23                     12   \n",
       "8                700                      23                     12   \n",
       "9                200                      12                      2   \n",
       "\n",
       "  param_max_features param_max_depth param_bootstrap  mean_test_score  \\\n",
       "0               sqrt              13           False         0.714286   \n",
       "1               sqrt              15           False         0.696970   \n",
       "2               sqrt              10            True         0.692641   \n",
       "3               sqrt              14           False         0.688312   \n",
       "4               log2              11            True         0.688312   \n",
       "5               sqrt              14            True         0.688312   \n",
       "6               log2               7            True         0.683983   \n",
       "7               sqrt              11            True         0.679654   \n",
       "8               sqrt               8            True         0.679654   \n",
       "9               log2               4            True         0.679654   \n",
       "\n",
       "   rank_test_score  \n",
       "0                1  \n",
       "1                2  \n",
       "2                3  \n",
       "3                4  \n",
       "4                4  \n",
       "5                6  \n",
       "6                7  \n",
       "7                8  \n",
       "8                8  \n",
       "9               10  "
      ]
     },
     "execution_count": 15,
     "metadata": {},
     "output_type": "execute_result"
    }
   ],
   "source": [
    "rs_df = pd.DataFrame(rs.cv_results_).sort_values('rank_test_score').reset_index(drop=True)\n",
    "rs_df = rs_df.drop([\n",
    "'mean_fit_time',\n",
    "'std_fit_time',\n",
    "'mean_score_time',\n",
    "'std_score_time',\n",
    "'params',\n",
    "'split0_test_score',\n",
    "'split1_test_score',\n",
    "'split2_test_score',\n",
    "'std_test_score'],\n",
    "axis=1)\n",
    "\n",
    "rs_df.head(10)"
   ]
  },
  {
   "cell_type": "code",
   "execution_count": 16,
   "id": "4ccda75e",
   "metadata": {},
   "outputs": [
    {
     "data": {
      "image/png": "[encoded data removed]",
      "text/plain": [
       "<Figure size 3000x2500 with 6 Axes>"
      ]
     },
     "metadata": {},
     "output_type": "display_data"
    }
   ],
   "source": [
    "fig, axs = plt.subplots(ncols=3, nrows=2)\n",
    "sns.set(style=\"whitegrid\", color_codes=True, font_scale = 2)\n",
    "fig.set_size_inches(30,25)\n",
    "sns.barplot(x='param_n_estimators', y='mean_test_score', data=rs_df,\n",
    "ax=axs[0,0], color='lightgrey')\n",
    "axs[0,0].set_ylim([.0,.8])\n",
    "axs[0,0].set_title(label = 'n_estimators',\n",
    "size=30, weight='bold')\n",
    "\n",
    "sns.barplot(x='param_min_samples_split', y='mean_test_score',\n",
    "data=rs_df, ax=axs[0,1], color='coral')\n",
    "axs[0,1].set_ylim([.0,.8])\n",
    "axs[0,1].set_title(label =\n",
    "'min_samples_split', size=30, weight='bold')\n",
    "\n",
    "sns.barplot(x='param_min_samples_leaf', y='mean_test_score',\n",
    "data=rs_df, ax=axs[0,2], color='lightgreen')\n",
    "axs[0,2].set_ylim([.0,.8])\n",
    "axs[0,2].set_title(label =\n",
    "'min_samples_leaf', size=30, weight='bold')\n",
    "\n",
    "sns.barplot(x='param_max_features', y='mean_test_score', data=rs_df,\n",
    "ax=axs[1,0], color='wheat')\n",
    "axs[1,0].set_ylim([.0,.8])\n",
    "axs[1,0].set_title(label = 'max_features',\n",
    "size=30, weight='bold')\n",
    "\n",
    "sns.barplot(x='param_max_depth', y='mean_test_score', data=rs_df,\n",
    "ax=axs[1,1], color='lightpink')\n",
    "axs[1,1].set_ylim([.0,.8])\n",
    "axs[1,1].set_title(label = 'max_depth',\n",
    "size=30, weight='bold')\n",
    "\n",
    "sns.barplot(x='param_bootstrap',y='mean_test_score', data=rs_df,\n",
    "ax=axs[1,2], color='skyblue')\n",
    "axs[1,2].set_ylim([.0,.8])\n",
    "axs[1,2].set_title(label = 'bootstrap', size=30, weight='bold')\n",
    "\n",
    "plt.show()"
   ]
  },
  {
   "cell_type": "code",
   "execution_count": 17,
   "id": "1e5325c5",
   "metadata": {},
   "outputs": [
    {
     "name": "stdout",
     "output_type": "stream",
     "text": [
      "Fitting 3 folds for each of 192 candidates, totalling 576 fits\n"
     ]
    },
    {
     "data": {
      "text/plain": [
       "{'bootstrap': True,\n",
       " 'max_depth': 7,\n",
       " 'max_features': 'sqrt',\n",
       " 'min_samples_leaf': 2,\n",
       " 'min_samples_split': 23,\n",
       " 'n_estimators': 300}"
      ]
     },
     "execution_count": 17,
     "metadata": {},
     "output_type": "execute_result"
    }
   ],
   "source": [
    "from sklearn.model_selection import GridSearchCV\n",
    "n_estimators = [300,700]\n",
    "max_features = ['sqrt','log2']\n",
    "max_depth = [3,7,12,13,14,15]\n",
    "min_samples_split = [2,7,12,23]\n",
    "min_samples_leaf = [2,7]\n",
    "bootstrap = [True]\n",
    "\n",
    "param_grid = {'n_estimators': n_estimators,\n",
    "'max_features': max_features,\n",
    "'max_depth': max_depth,\n",
    "'min_samples_split': min_samples_split,\n",
    "'min_samples_leaf': min_samples_leaf,\n",
    "'bootstrap': bootstrap}\n",
    "\n",
    "gs = GridSearchCV(rfc, param_grid, cv = 3, verbose = 1, n_jobs=-1)\n",
    "gs.fit(X_train_scaled, y_train)\n",
    "rfc_2 = gs.best_estimator_\n",
    "gs.best_params_"
   ]
  },
  {
   "cell_type": "code",
   "execution_count": 18,
   "id": "77d465f2",
   "metadata": {},
   "outputs": [],
   "source": [
    "y_pred = rfc.predict(X_test_scaled)\n",
    "\n",
    "y_pred_gs = gs.best_estimator_.predict(X_test_scaled)"
   ]
  },
  {
   "cell_type": "code",
   "execution_count": 19,
   "id": "f5ebdd22",
   "metadata": {},
   "outputs": [
    {
     "data": {
      "text/html": [
       "<div>\n",
       "<style scoped>\n",
       "    .dataframe tbody tr th:only-of-type {\n",
       "        vertical-align: middle;\n",
       "    }\n",
       "\n",
       "    .dataframe tbody tr th {\n",
       "        vertical-align: top;\n",
       "    }\n",
       "\n",
       "    .dataframe thead th {\n",
       "        text-align: right;\n",
       "    }\n",
       "</style>\n",
       "<table border=\"1\" class=\"dataframe\">\n",
       "  <thead>\n",
       "    <tr style=\"text-align: right;\">\n",
       "      <th></th>\n",
       "      <th>high</th>\n",
       "      <th>low</th>\n",
       "    </tr>\n",
       "  </thead>\n",
       "  <tbody>\n",
       "    <tr>\n",
       "      <th>high</th>\n",
       "      <td>43</td>\n",
       "      <td>6</td>\n",
       "    </tr>\n",
       "    <tr>\n",
       "      <th>low</th>\n",
       "      <td>9</td>\n",
       "      <td>41</td>\n",
       "    </tr>\n",
       "  </tbody>\n",
       "</table>\n",
       "</div>"
      ],
      "text/plain": [
       "      high  low\n",
       "high    43    6\n",
       "low      9   41"
      ]
     },
     "metadata": {},
     "output_type": "display_data"
    },
    {
     "data": {
      "text/plain": [
       "'Baseline Random Forest accuracy score'"
      ]
     },
     "metadata": {},
     "output_type": "display_data"
    },
    {
     "data": {
      "text/plain": [
       "0.8484848484848485"
      ]
     },
     "metadata": {},
     "output_type": "display_data"
    },
    {
     "data": {
      "text/html": [
       "<div>\n",
       "<style scoped>\n",
       "    .dataframe tbody tr th:only-of-type {\n",
       "        vertical-align: middle;\n",
       "    }\n",
       "\n",
       "    .dataframe tbody tr th {\n",
       "        vertical-align: top;\n",
       "    }\n",
       "\n",
       "    .dataframe thead th {\n",
       "        text-align: right;\n",
       "    }\n",
       "</style>\n",
       "<table border=\"1\" class=\"dataframe\">\n",
       "  <thead>\n",
       "    <tr style=\"text-align: right;\">\n",
       "      <th></th>\n",
       "      <th>high</th>\n",
       "      <th>low</th>\n",
       "    </tr>\n",
       "  </thead>\n",
       "  <tbody>\n",
       "    <tr>\n",
       "      <th>high</th>\n",
       "      <td>48</td>\n",
       "      <td>1</td>\n",
       "    </tr>\n",
       "    <tr>\n",
       "      <th>low</th>\n",
       "      <td>11</td>\n",
       "      <td>39</td>\n",
       "    </tr>\n",
       "  </tbody>\n",
       "</table>\n",
       "</div>"
      ],
      "text/plain": [
       "      high  low\n",
       "high    48    1\n",
       "low     11   39"
      ]
     },
     "metadata": {},
     "output_type": "display_data"
    },
    {
     "data": {
      "text/plain": [
       "'Hyperparameter Tuned Random Forest accuracy score'"
      ]
     },
     "metadata": {},
     "output_type": "display_data"
    },
    {
     "data": {
      "text/plain": [
       "0.8787878787878788"
      ]
     },
     "metadata": {},
     "output_type": "display_data"
    }
   ],
   "source": [
    "from sklearn.metrics import confusion_matrix\n",
    "\n",
    "conf_matrix_baseline = pd.DataFrame(confusion_matrix(y_test, y_pred),\n",
    "index = [np.unique(y_pred)[0],np.unique(y_pred)[1]], columns = [np.unique(y_pred)[0],np.unique(y_pred)[1]])\n",
    "                                   \n",
    "                                             \n",
    "\n",
    "conf_matrix_tuned = pd.DataFrame(confusion_matrix(y_test, y_pred_gs),\n",
    "        index = [np.unique(y_pred)[0],np.unique(y_pred)[1]], columns = [np.unique(y_pred)[0],np.unique(y_pred)[1]])\n",
    "                                                         \n",
    "display(conf_matrix_baseline)\n",
    "display('Baseline Random Forest accuracy score', accuracy_score(y_test, y_pred))\n",
    "                                                         \n",
    "\n",
    "display(conf_matrix_tuned)\n",
    "display('Hyperparameter Tuned Random Forest accuracy score', accuracy_score(y_test, y_pred_gs))"
   ]
  },
  {
   "cell_type": "code",
   "execution_count": 20,
   "id": "22a9d79e",
   "metadata": {},
   "outputs": [],
   "source": [
    "# Repeat with best performing model"
   ]
  },
  {
   "cell_type": "code",
   "execution_count": 21,
   "id": "caf393ac",
   "metadata": {},
   "outputs": [],
   "source": [
    "def run_rf(df, expl_vars, resp_var, SPLIT_RND_SEED):\n",
    "    X = df[expl_vars]\n",
    "    y = df[resp_var]\n",
    "    \n",
    "    rus = RandomUnderSampler(random_state=2020)\n",
    "    X_rus, y_rus = rus.fit_resample(X, y)\n",
    "\n",
    "# Split dataset into training set and test set\n",
    "\n",
    "    X_train, X_test, y_train, y_test = train_test_split(X_rus, y_rus,\n",
    "                                                    test_size=0.3, \n",
    "                                                    random_state=SPLIT_RND_SEED,\n",
    "                                                    stratify = y_rus)  # 70% training and 30% test\n",
    "    mm = MinMaxScaler()\n",
    "    X_train_scaled = mm.fit_transform(X_train)\n",
    "    X_test_scaled = mm.transform(X_test)\n",
    "    \n",
    "    \n",
    "    from sklearn.ensemble import RandomForestClassifier\n",
    "    \n",
    "    # Modify with best parameters  \n",
    "    rf = RandomForestClassifier(bootstrap=True,\n",
    "                                max_depth=12,\n",
    "                                max_features='sqrt',\n",
    "                                min_samples_leaf=7,\n",
    "                                min_samples_split=2,\n",
    "                                n_estimators=300)\n",
    "        \n",
    "        \n",
    "#                                 n_estimators = 500, \n",
    "#                                 oob_score=True, \n",
    "#                                 #random_state=rand_state, # random number to be used, needed to reproduce the same result\n",
    "#                                 verbose=False)\n",
    "    \n",
    "    rf_model = rf.fit(X_train_scaled, y_train)\n",
    "    \n",
    "    y_pred = rf.predict(X_test_scaled)\n",
    "    \n",
    "    from sklearn.metrics import accuracy_score\n",
    "    accuracy = accuracy_score(y_test, y_pred)\n",
    "    \n",
    "    from sklearn.metrics import precision_recall_fscore_support\n",
    "    \n",
    "    prec, recall, fscore, support = precision_recall_fscore_support(y_test, y_pred)\n",
    "  \n",
    "    \n",
    "    from sklearn.metrics import cohen_kappa_score\n",
    "        \n",
    "    cohen_score = cohen_kappa_score(y_test, y_pred)    \n",
    "\n",
    "    label_0 = np.unique(y_pred)[0]\n",
    "    label_1 = np.unique(y_pred)[1]\n",
    "    \n",
    "    metrics = {\n",
    "        'cohen_kappa': [cohen_score], \n",
    "        'accuracy_score': [accuracy],\n",
    "        'precision {}'.format(label_0): [prec[0]],\n",
    "        'precision {}'.format(label_1): [prec[1]],\n",
    "        'recall {}'.format(label_0): [recall[0]],\n",
    "        'recall {}'.format(label_1): [recall[1]],\n",
    "        'fscore {}'.format(label_0): [fscore[0]],\n",
    "        'fscore {}'.format(label_1): [fscore[1]],\n",
    "\n",
    "    }\n",
    "    metrics_df = pd.DataFrame(data=metrics)\n",
    "    \n",
    "    return metrics_df\n"
   ]
  },
  {
   "cell_type": "code",
   "execution_count": 22,
   "id": "3455640a",
   "metadata": {},
   "outputs": [
    {
     "data": {
      "text/html": [
       "<div>\n",
       "<style scoped>\n",
       "    .dataframe tbody tr th:only-of-type {\n",
       "        vertical-align: middle;\n",
       "    }\n",
       "\n",
       "    .dataframe tbody tr th {\n",
       "        vertical-align: top;\n",
       "    }\n",
       "\n",
       "    .dataframe thead th {\n",
       "        text-align: right;\n",
       "    }\n",
       "</style>\n",
       "<table border=\"1\" class=\"dataframe\">\n",
       "  <thead>\n",
       "    <tr style=\"text-align: right;\">\n",
       "      <th></th>\n",
       "      <th>cohen_kappa</th>\n",
       "      <th>accuracy_score</th>\n",
       "      <th>precision high</th>\n",
       "      <th>precision low</th>\n",
       "      <th>recall high</th>\n",
       "      <th>recall low</th>\n",
       "      <th>fscore high</th>\n",
       "      <th>fscore low</th>\n",
       "    </tr>\n",
       "  </thead>\n",
       "  <tbody>\n",
       "    <tr>\n",
       "      <th>0</th>\n",
       "      <td>0.515892</td>\n",
       "      <td>0.757576</td>\n",
       "      <td>0.719298</td>\n",
       "      <td>0.809524</td>\n",
       "      <td>0.836735</td>\n",
       "      <td>0.68</td>\n",
       "      <td>0.773585</td>\n",
       "      <td>0.73913</td>\n",
       "    </tr>\n",
       "  </tbody>\n",
       "</table>\n",
       "</div>"
      ],
      "text/plain": [
       "   cohen_kappa  accuracy_score  precision high  precision low  recall high  \\\n",
       "0     0.515892        0.757576        0.719298       0.809524     0.836735   \n",
       "\n",
       "   recall low  fscore high  fscore low  \n",
       "0        0.68     0.773585     0.73913  "
      ]
     },
     "execution_count": 22,
     "metadata": {},
     "output_type": "execute_result"
    }
   ],
   "source": [
    "run_rf(data_2021, expl_vars, resp_var, 456)"
   ]
  },
  {
   "cell_type": "code",
   "execution_count": 23,
   "id": "ccfbaf21",
   "metadata": {},
   "outputs": [],
   "source": [
    "import random\n",
    " \n",
    "rand_list=[]\n",
    "n=100\n",
    "for i in range(n):\n",
    "    rand_list.append(random.randint(100,999))"
   ]
  },
  {
   "cell_type": "code",
   "execution_count": 24,
   "id": "3f62f706",
   "metadata": {},
   "outputs": [],
   "source": [
    "# RF model, GDM Severity 2021 SB\n",
    "expl_vars = ['blue', 'green', 'red', 'nir']\n",
    "resp_var = 'GDM_inc'\n",
    "\n",
    "results_alldata = []\n",
    "for r in rand_list:\n",
    "    res_df = run_rf(data_2021, expl_vars, resp_var, r)\n",
    "    \n",
    "    results_alldata.append(res_df)"
   ]
  },
  {
   "cell_type": "code",
   "execution_count": 25,
   "id": "1ab83482",
   "metadata": {},
   "outputs": [
    {
     "data": {
      "text/plain": [
       "cohen_kappa       0.476061\n",
       "accuracy_score    0.737980\n",
       "precision high    0.721097\n",
       "precision low     0.763797\n",
       "recall high       0.781053\n",
       "recall low        0.695127\n",
       "fscore high       0.747989\n",
       "fscore low        0.725467\n",
       "dtype: float64"
      ]
     },
     "execution_count": 25,
     "metadata": {},
     "output_type": "execute_result"
    }
   ],
   "source": [
    "results_alldata_df = pd.concat(results_alldata)\n",
    "results_alldata_df.mean()"
   ]
  },
  {
   "cell_type": "code",
   "execution_count": 26,
   "id": "d7f012ce",
   "metadata": {},
   "outputs": [],
   "source": [
    "# # RF model, GDM Severity 2020 SB + VI\n",
    "# expl_vars = ['blue', 'green', 'red', 'nir','ndvi', 'evi','msavi', 'arvi', 'green_red']\n",
    "# resp_var = 'GDM_sev'\n",
    "\n",
    "# results_2020sbvi = []\n",
    "# for r in rand_list:\n",
    "#     res_df = run_rf(data_2020, expl_vars, resp_var, r)\n",
    "    \n",
    "#     results_2020sbvi.append(res_df)"
   ]
  }
 ],
 "metadata": {
  "kernelspec": {
   "display_name": "Python 3 (ipykernel)",
   "language": "python",
   "name": "python3"
  },
  "language_info": {
   "codemirror_mode": {
    "name": "ipython",
    "version": 3
   },
   "file_extension": ".py",
   "mimetype": "text/x-python",
   "name": "python",
   "nbconvert_exporter": "python",
   "pygments_lexer": "ipython3",
   "version": "3.10.6"
  }
 },
 "nbformat": 4,
 "nbformat_minor": 5
}
