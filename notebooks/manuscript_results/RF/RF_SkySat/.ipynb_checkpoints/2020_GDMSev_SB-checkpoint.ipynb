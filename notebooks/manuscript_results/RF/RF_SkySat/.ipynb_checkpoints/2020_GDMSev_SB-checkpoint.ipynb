{
 "cells": [
  {
   "cell_type": "code",
   "execution_count": 1,
   "id": "19fedb74",
   "metadata": {},
   "outputs": [],
   "source": [
    "import glob\n",
    "import os\n",
    "import matplotlib.pyplot as plt\n",
    "import pandas as pd\n",
    "import numpy as np\n",
    "import seaborn as sns\n",
    "\n",
    "import sklearn\n",
    "from sklearn.preprocessing import MinMaxScaler\n",
    "from sklearn.model_selection import train_test_split \n",
    "from sklearn.metrics import classification_report \n",
    "from sklearn.metrics import accuracy_score\n",
    "from sklearn.metrics import precision_recall_fscore_support\n",
    "import imblearn as imb\n",
    "from imblearn.under_sampling import RandomUnderSampler\n",
    "\n",
    "import scipy\n"
   ]
  },
  {
   "cell_type": "code",
   "execution_count": 2,
   "id": "25c29721",
   "metadata": {},
   "outputs": [],
   "source": [
    "data_dir = data_dir = '/Users/kathleenkanaley/Desktop/grapes_from_space/data/'\n",
    "\n",
    "data_2020 = pd.read_csv(data_dir + 'img_scout_dfs/2020/smr_vis_skysat_scout_2020.csv')"
   ]
  },
  {
   "cell_type": "code",
   "execution_count": 3,
   "id": "fb51216a",
   "metadata": {},
   "outputs": [],
   "source": [
    "data_2020['GDM_sev']='low'\n",
    "data_2020.loc[data_2020['DM_severity'] > 10, 'GDM_sev'] = 'high'\n",
    "    \n",
    "data_2020['GDM_inc']='low'\n",
    "data_2020.loc[data_2020['DM_inc'] > 25, 'GDM_inc'] = 'high'"
   ]
  },
  {
   "cell_type": "code",
   "execution_count": 4,
   "id": "d4957dc2",
   "metadata": {},
   "outputs": [
    {
     "data": {
      "text/plain": [
       "Index(['acquired', 'plot', 'blue', 'green', 'red', 'nir', 'veg_smr',\n",
       "       'savi_exp', 'savi', 'msavi', 'evi', 'arvi', 'gri', 'ndvi', 'nir_blue',\n",
       "       'nir_green', 'red_blue', 'green_red', 'green_blue', 'row', 'panel',\n",
       "       'Date', 'Treatment', 'Block', 'PM_severity', 'DM_severity', 'total_dis',\n",
       "       'geometry', 'centroid', 'PM_inc', 'DM_inc', 'GDM_sev', 'GDM_inc'],\n",
       "      dtype='object')"
      ]
     },
     "execution_count": 4,
     "metadata": {},
     "output_type": "execute_result"
    }
   ],
   "source": [
    "data_2020.columns"
   ]
  },
  {
   "cell_type": "code",
   "execution_count": 5,
   "id": "20255400",
   "metadata": {},
   "outputs": [],
   "source": [
    "# Start with just spectral bands \n",
    "expl_vars = ['blue', 'green', 'red', 'nir']#,'savi', 'msavi', evi', 'arvi', 'green_red', 'ndvi']\n",
    "resp_var = 'GDM_sev'"
   ]
  },
  {
   "cell_type": "code",
   "execution_count": 6,
   "id": "3f9c7658",
   "metadata": {},
   "outputs": [],
   "source": [
    "X = data_2020[expl_vars]\n",
    "y = data_2020[resp_var]\n",
    "\n",
    "rus = RandomUnderSampler(random_state=2020)\n",
    "X_rus, y_rus = rus.fit_resample(X, y)\n",
    "\n",
    "# Split dataset into training set and test set\n",
    "SPLIT_RND_SEED = 456\n",
    "X_train, X_test, y_train, y_test = train_test_split(X_rus, y_rus,\n",
    "                                                    test_size=0.3, \n",
    "                                                    random_state=SPLIT_RND_SEED,\n",
    "                                                    stratify = y_rus)  # 70% training and 30% test"
   ]
  },
  {
   "cell_type": "code",
   "execution_count": 7,
   "id": "4107bc5f",
   "metadata": {},
   "outputs": [],
   "source": [
    "mm = MinMaxScaler()\n",
    "X_train_scaled = mm.fit_transform(X_train)\n",
    "X_test_scaled = mm.transform(X_test)\n",
    "#y_train = np.array(y_train)"
   ]
  },
  {
   "cell_type": "code",
   "execution_count": 8,
   "id": "d686840b",
   "metadata": {},
   "outputs": [
    {
     "data": {
      "text/plain": [
       "array([[0.94175026, 0.95031068, 0.4600326 , 0.97282862],\n",
       "       [0.04794694, 0.12893357, 0.0873783 , 0.43594427],\n",
       "       [0.90370404, 0.8999566 , 0.44228187, 0.86723527],\n",
       "       [0.4346446 , 0.34652155, 0.42010536, 0.02769705],\n",
       "       [0.20814638, 0.48097733, 0.36139858, 0.61687372],\n",
       "       [0.06341219, 0.0840704 , 0.08949747, 0.43624553],\n",
       "       [0.11889789, 0.1653349 , 0.13568241, 0.40659467],\n",
       "       [0.92697128, 0.92894573, 0.48127576, 0.81823181],\n",
       "       [0.07244369, 0.12604885, 0.06636725, 0.46749948],\n",
       "       [0.11555439, 0.16057734, 0.15351144, 0.4410177 ],\n",
       "       [0.90323969, 0.92896814, 0.49810697, 0.83389558],\n",
       "       [0.03938898, 0.1283339 , 0.17294787, 0.43238694],\n",
       "       [0.21731379, 0.5799014 , 0.6983435 , 0.40460394],\n",
       "       [0.53359125, 0.66254558, 0.67361993, 0.12609002],\n",
       "       [0.87836211, 0.82457528, 0.46324232, 0.80184235],\n",
       "       [0.21385667, 0.66890408, 0.66765162, 0.50771077],\n",
       "       [0.07868884, 0.08242994, 0.13281005, 0.32883672]])"
      ]
     },
     "execution_count": 8,
     "metadata": {},
     "output_type": "execute_result"
    }
   ],
   "source": [
    "X_test_scaled"
   ]
  },
  {
   "cell_type": "code",
   "execution_count": 9,
   "id": "5f7fb547",
   "metadata": {},
   "outputs": [
    {
     "data": {
      "text/plain": [
       "1.0"
      ]
     },
     "metadata": {},
     "output_type": "display_data"
    }
   ],
   "source": [
    "from sklearn.ensemble import RandomForestClassifier\n",
    "rfc = RandomForestClassifier()\n",
    "rfc.fit(X_train_scaled, y_train)\n",
    "display(rfc.score(X_train_scaled, y_train))"
   ]
  },
  {
   "cell_type": "code",
   "execution_count": 10,
   "id": "6d08f899",
   "metadata": {},
   "outputs": [],
   "source": [
    "# Prediction on test data\n",
    "y_pred = rfc.predict(X_test_scaled)"
   ]
  },
  {
   "cell_type": "code",
   "execution_count": 11,
   "id": "397637b1",
   "metadata": {},
   "outputs": [],
   "source": [
    "# # Confusion (error) Matrix of Prediction\n",
    "# from sklearn.metrics import confusion_matrix\n",
    "\n",
    "# cm = pd.DataFrame(confusion_matrix(y_pred, y_test))#, labels=rfc.classes_))\n",
    "  \n",
    "# # use seaborn to plot matrix as heatmap    \n",
    "# plt.rc('font', size=16)\n",
    "# p = sns.heatmap(cm,\n",
    "#                 annot=True,\n",
    "#                 cbar=False,\n",
    "# #                 cmap=\"Greens\",\n",
    "# #                xticklabels=['>10%', '<= 10%'],\n",
    "# #                yticklabels=['>10%', '<= 10%']\n",
    "#                )\n",
    "# plt.xlabel('Ground Truth GDM Severity')\n",
    "# plt.ylabel('Predicted GDM Severity')\n",
    "# plt.title('RF-UnderSampled 2020 GDM Severity')"
   ]
  },
  {
   "cell_type": "code",
   "execution_count": 12,
   "id": "35151715",
   "metadata": {},
   "outputs": [
    {
     "data": {
      "text/plain": [
       "array(['high', 'high', 'low', 'low', 'high', 'high', 'high', 'high',\n",
       "       'high', 'high', 'high', 'high', 'high', 'low', 'low', 'low',\n",
       "       'high'], dtype=object)"
      ]
     },
     "execution_count": 12,
     "metadata": {},
     "output_type": "execute_result"
    }
   ],
   "source": [
    "#cm\n",
    "y_pred"
   ]
  },
  {
   "cell_type": "code",
   "execution_count": 13,
   "id": "d0d7eeef",
   "metadata": {},
   "outputs": [
    {
     "name": "stdout",
     "output_type": "stream",
     "text": [
      "Classification report:\n",
      "\n",
      "              precision    recall  f1-score   support\n",
      "\n",
      "        high       0.67      1.00      0.80         8\n",
      "         low       1.00      0.56      0.71         9\n",
      "\n",
      "    accuracy                           0.76        17\n",
      "   macro avg       0.83      0.78      0.76        17\n",
      "weighted avg       0.84      0.76      0.75        17\n",
      "\n"
     ]
    }
   ],
   "source": [
    "# Classification report\n",
    "stats = classification_report(y_test, y_pred,\n",
    "                              labels=None,\n",
    "#                               target_names=[\"low\", \"high\"],\n",
    "                              sample_weight=None,\n",
    "                              digits=2,\n",
    "                              output_dict=False)\n",
    "  \n",
    "print(\"Classification report:\\n\")\n",
    "print(stats)"
   ]
  },
  {
   "cell_type": "code",
   "execution_count": 14,
   "id": "9217f99d",
   "metadata": {},
   "outputs": [
    {
     "name": "stderr",
     "output_type": "stream",
     "text": [
      "/var/folders/hg/02pmwyy14wvgdv7n1gzwlx1w0000gn/T/ipykernel_2964/2914734643.py:15: MatplotlibDeprecationWarning: Passing the emit parameter of set_ylim() positionally is deprecated since Matplotlib 3.6; the parameter will become keyword-only two minor releases later.\n",
      "  plt.ylim(0, 0.5, 0.02)\n"
     ]
    },
    {
     "data": {
      "image/png": "[encoded data removed]",
      "text/plain": [
       "<Figure size 1000x1000 with 1 Axes>"
      ]
     },
     "metadata": {},
     "output_type": "display_data"
    }
   ],
   "source": [
    "# view the feature scores\n",
    "feature_scores_20 = pd.Series(rfc.feature_importances_, index=X_train.columns).sort_values(ascending=False)\n",
    "feature_scores_20\n",
    "\n",
    "# display the predictions\n",
    "plt.rcParams['figure.figsize'] = [10, 10]\n",
    "\n",
    "palette = sns.color_palette(\"Greens\")\n",
    "\n",
    "# Creating a seaborn bar plot\n",
    "sns.barplot(x=feature_scores_20.index, y=feature_scores_20, palette=palette)\n",
    "plt.title(\"Feature Importance\\n SkySat 2020\")\n",
    "plt.xlabel('Feature Importance Score')\n",
    "plt.ylabel('Features')\n",
    "plt.ylim(0, 0.5, 0.02)\n",
    "\n",
    "# plt.savefig(\"feature_imp20.svg\")\n",
    "plt.show()\n"
   ]
  },
  {
   "cell_type": "code",
   "execution_count": 15,
   "id": "3f0db2b6",
   "metadata": {},
   "outputs": [],
   "source": [
    "from sklearn.model_selection import RandomizedSearchCV\n",
    "n_estimators = [int(x) for x in np.linspace(start = 100, stop = 1000,\n",
    "num = 10)]\n",
    "max_features = ['log2', 'sqrt']\n",
    "max_depth = [int(x) for x in np.linspace(start = 1, stop = 15, num =\n",
    "15)]\n",
    "min_samples_split = [int(x) for x in np.linspace(start = 2, stop = 50,\n",
    "num = 10)]\n",
    "min_samples_leaf = [int(x) for x in np.linspace(start = 2, stop = 50,\n",
    "num = 10)]\n",
    "bootstrap = [True, False]\n",
    "param_dist = {'n_estimators': n_estimators,\n",
    "'max_features': max_features,\n",
    "'max_depth': max_depth,\n",
    "'min_samples_split': min_samples_split,\n",
    "'min_samples_leaf': min_samples_leaf,\n",
    "'bootstrap': bootstrap}"
   ]
  },
  {
   "cell_type": "code",
   "execution_count": 16,
   "id": "226ec1d8",
   "metadata": {},
   "outputs": [
    {
     "name": "stdout",
     "output_type": "stream",
     "text": [
      "Fitting 3 folds for each of 100 candidates, totalling 300 fits\n"
     ]
    },
    {
     "data": {
      "text/plain": [
       "{'n_estimators': 700,\n",
       " 'min_samples_split': 2,\n",
       " 'min_samples_leaf': 2,\n",
       " 'max_features': 'log2',\n",
       " 'max_depth': 11,\n",
       " 'bootstrap': True}"
      ]
     },
     "execution_count": 16,
     "metadata": {},
     "output_type": "execute_result"
    }
   ],
   "source": [
    "rs = RandomizedSearchCV(rfc,\n",
    "param_dist,\n",
    "n_iter = 100,\n",
    "cv = 3,\n",
    "verbose = 1,\n",
    "n_jobs=-1,\n",
    "random_state=0)\n",
    "\n",
    "rs.fit(X_train_scaled, y_train)\n",
    "rs.best_params_"
   ]
  },
  {
   "cell_type": "code",
   "execution_count": 17,
   "id": "3424dbad",
   "metadata": {},
   "outputs": [
    {
     "data": {
      "text/html": [
       "<div>\n",
       "<style scoped>\n",
       "    .dataframe tbody tr th:only-of-type {\n",
       "        vertical-align: middle;\n",
       "    }\n",
       "\n",
       "    .dataframe tbody tr th {\n",
       "        vertical-align: top;\n",
       "    }\n",
       "\n",
       "    .dataframe thead th {\n",
       "        text-align: right;\n",
       "    }\n",
       "</style>\n",
       "<table border=\"1\" class=\"dataframe\">\n",
       "  <thead>\n",
       "    <tr style=\"text-align: right;\">\n",
       "      <th></th>\n",
       "      <th>param_n_estimators</th>\n",
       "      <th>param_min_samples_split</th>\n",
       "      <th>param_min_samples_leaf</th>\n",
       "      <th>param_max_features</th>\n",
       "      <th>param_max_depth</th>\n",
       "      <th>param_bootstrap</th>\n",
       "      <th>mean_test_score</th>\n",
       "      <th>rank_test_score</th>\n",
       "    </tr>\n",
       "  </thead>\n",
       "  <tbody>\n",
       "    <tr>\n",
       "      <th>0</th>\n",
       "      <td>700</td>\n",
       "      <td>2</td>\n",
       "      <td>2</td>\n",
       "      <td>log2</td>\n",
       "      <td>11</td>\n",
       "      <td>True</td>\n",
       "      <td>0.670940</td>\n",
       "      <td>1</td>\n",
       "    </tr>\n",
       "    <tr>\n",
       "      <th>1</th>\n",
       "      <td>200</td>\n",
       "      <td>12</td>\n",
       "      <td>2</td>\n",
       "      <td>log2</td>\n",
       "      <td>4</td>\n",
       "      <td>True</td>\n",
       "      <td>0.619658</td>\n",
       "      <td>2</td>\n",
       "    </tr>\n",
       "    <tr>\n",
       "      <th>2</th>\n",
       "      <td>500</td>\n",
       "      <td>18</td>\n",
       "      <td>7</td>\n",
       "      <td>log2</td>\n",
       "      <td>7</td>\n",
       "      <td>True</td>\n",
       "      <td>0.619658</td>\n",
       "      <td>2</td>\n",
       "    </tr>\n",
       "    <tr>\n",
       "      <th>3</th>\n",
       "      <td>400</td>\n",
       "      <td>2</td>\n",
       "      <td>7</td>\n",
       "      <td>log2</td>\n",
       "      <td>2</td>\n",
       "      <td>False</td>\n",
       "      <td>0.589744</td>\n",
       "      <td>4</td>\n",
       "    </tr>\n",
       "    <tr>\n",
       "      <th>4</th>\n",
       "      <td>700</td>\n",
       "      <td>12</td>\n",
       "      <td>2</td>\n",
       "      <td>sqrt</td>\n",
       "      <td>13</td>\n",
       "      <td>False</td>\n",
       "      <td>0.589744</td>\n",
       "      <td>4</td>\n",
       "    </tr>\n",
       "    <tr>\n",
       "      <th>5</th>\n",
       "      <td>700</td>\n",
       "      <td>18</td>\n",
       "      <td>7</td>\n",
       "      <td>sqrt</td>\n",
       "      <td>7</td>\n",
       "      <td>False</td>\n",
       "      <td>0.564103</td>\n",
       "      <td>6</td>\n",
       "    </tr>\n",
       "    <tr>\n",
       "      <th>6</th>\n",
       "      <td>600</td>\n",
       "      <td>23</td>\n",
       "      <td>2</td>\n",
       "      <td>sqrt</td>\n",
       "      <td>15</td>\n",
       "      <td>False</td>\n",
       "      <td>0.564103</td>\n",
       "      <td>6</td>\n",
       "    </tr>\n",
       "    <tr>\n",
       "      <th>7</th>\n",
       "      <td>400</td>\n",
       "      <td>23</td>\n",
       "      <td>2</td>\n",
       "      <td>sqrt</td>\n",
       "      <td>14</td>\n",
       "      <td>False</td>\n",
       "      <td>0.564103</td>\n",
       "      <td>6</td>\n",
       "    </tr>\n",
       "    <tr>\n",
       "      <th>8</th>\n",
       "      <td>700</td>\n",
       "      <td>23</td>\n",
       "      <td>7</td>\n",
       "      <td>log2</td>\n",
       "      <td>15</td>\n",
       "      <td>False</td>\n",
       "      <td>0.564103</td>\n",
       "      <td>6</td>\n",
       "    </tr>\n",
       "    <tr>\n",
       "      <th>9</th>\n",
       "      <td>1000</td>\n",
       "      <td>12</td>\n",
       "      <td>7</td>\n",
       "      <td>sqrt</td>\n",
       "      <td>10</td>\n",
       "      <td>True</td>\n",
       "      <td>0.517094</td>\n",
       "      <td>10</td>\n",
       "    </tr>\n",
       "  </tbody>\n",
       "</table>\n",
       "</div>"
      ],
      "text/plain": [
       "  param_n_estimators param_min_samples_split param_min_samples_leaf  \\\n",
       "0                700                       2                      2   \n",
       "1                200                      12                      2   \n",
       "2                500                      18                      7   \n",
       "3                400                       2                      7   \n",
       "4                700                      12                      2   \n",
       "5                700                      18                      7   \n",
       "6                600                      23                      2   \n",
       "7                400                      23                      2   \n",
       "8                700                      23                      7   \n",
       "9               1000                      12                      7   \n",
       "\n",
       "  param_max_features param_max_depth param_bootstrap  mean_test_score  \\\n",
       "0               log2              11            True         0.670940   \n",
       "1               log2               4            True         0.619658   \n",
       "2               log2               7            True         0.619658   \n",
       "3               log2               2           False         0.589744   \n",
       "4               sqrt              13           False         0.589744   \n",
       "5               sqrt               7           False         0.564103   \n",
       "6               sqrt              15           False         0.564103   \n",
       "7               sqrt              14           False         0.564103   \n",
       "8               log2              15           False         0.564103   \n",
       "9               sqrt              10            True         0.517094   \n",
       "\n",
       "   rank_test_score  \n",
       "0                1  \n",
       "1                2  \n",
       "2                2  \n",
       "3                4  \n",
       "4                4  \n",
       "5                6  \n",
       "6                6  \n",
       "7                6  \n",
       "8                6  \n",
       "9               10  "
      ]
     },
     "execution_count": 17,
     "metadata": {},
     "output_type": "execute_result"
    }
   ],
   "source": [
    "rs_df = pd.DataFrame(rs.cv_results_).sort_values('rank_test_score').reset_index(drop=True)\n",
    "rs_df = rs_df.drop([\n",
    "'mean_fit_time',\n",
    "'std_fit_time',\n",
    "'mean_score_time',\n",
    "'std_score_time',\n",
    "'params',\n",
    "'split0_test_score',\n",
    "'split1_test_score',\n",
    "'split2_test_score',\n",
    "'std_test_score'],\n",
    "axis=1)\n",
    "\n",
    "rs_df.head(10)"
   ]
  },
  {
   "cell_type": "code",
   "execution_count": 18,
   "id": "4ccda75e",
   "metadata": {},
   "outputs": [],
   "source": [
    "# fig, axs = plt.subplots(ncols=3, nrows=2)\n",
    "# sns.set(style=\"whitegrid\", color_codes=True, font_scale = 2)\n",
    "# fig.set_size_inches(30,25)\n",
    "# sns.barplot(x='param_n_estimators', y='mean_test_score', data=rs_df,\n",
    "# ax=axs[0,0], color='lightgrey')\n",
    "# axs[0,0].set_ylim([.0,.8])\n",
    "# axs[0,0].set_title(label = 'n_estimators',\n",
    "# size=30, weight='bold')\n",
    "\n",
    "# sns.barplot(x='param_min_samples_split', y='mean_test_score',\n",
    "# data=rs_df, ax=axs[0,1], color='coral')\n",
    "# axs[0,1].set_ylim([.0,.8])\n",
    "# axs[0,1].set_title(label =\n",
    "# 'min_samples_split', size=30, weight='bold')\n",
    "\n",
    "# sns.barplot(x='param_min_samples_leaf', y='mean_test_score',\n",
    "# data=rs_df, ax=axs[0,2], color='lightgreen')\n",
    "# axs[0,2].set_ylim([.0,.8])\n",
    "# axs[0,2].set_title(label =\n",
    "# 'min_samples_leaf', size=30, weight='bold')\n",
    "\n",
    "# sns.barplot(x='param_max_features', y='mean_test_score', data=rs_df,\n",
    "# ax=axs[1,0], color='wheat')\n",
    "# axs[1,0].set_ylim([.0,.8])\n",
    "# axs[1,0].set_title(label = 'max_features',\n",
    "# size=30, weight='bold')\n",
    "\n",
    "# sns.barplot(x='param_max_depth', y='mean_test_score', data=rs_df,\n",
    "# ax=axs[1,1], color='lightpink')\n",
    "# axs[1,1].set_ylim([.0,.8])\n",
    "# axs[1,1].set_title(label = 'max_depth',\n",
    "# size=30, weight='bold')\n",
    "\n",
    "# sns.barplot(x='param_bootstrap',y='mean_test_score', data=rs_df,\n",
    "# ax=axs[1,2], color='skyblue')\n",
    "# axs[1,2].set_ylim([.0,.8])\n",
    "# axs[1,2].set_title(label = 'bootstrap', size=30, weight='bold')\n",
    "\n",
    "# plt.show()"
   ]
  },
  {
   "cell_type": "code",
   "execution_count": 19,
   "id": "1e5325c5",
   "metadata": {},
   "outputs": [
    {
     "name": "stdout",
     "output_type": "stream",
     "text": [
      "Fitting 3 folds for each of 96 candidates, totalling 288 fits\n"
     ]
    },
    {
     "data": {
      "text/plain": [
       "{'bootstrap': True,\n",
       " 'max_depth': 4,\n",
       " 'max_features': 'log2',\n",
       " 'min_samples_leaf': 2,\n",
       " 'min_samples_split': 2,\n",
       " 'n_estimators': 400}"
      ]
     },
     "execution_count": 19,
     "metadata": {},
     "output_type": "execute_result"
    }
   ],
   "source": [
    "from sklearn.model_selection import GridSearchCV\n",
    "n_estimators = [400,500,700]\n",
    "max_features = ['log2']\n",
    "max_depth = [4,7,11,15]\n",
    "min_samples_split = [2,12,18,23]\n",
    "min_samples_leaf = [2,7]\n",
    "bootstrap = [True]\n",
    "\n",
    "param_grid = {'n_estimators': n_estimators,\n",
    "'max_features': max_features,\n",
    "'max_depth': max_depth,\n",
    "'min_samples_split': min_samples_split,\n",
    "'min_samples_leaf': min_samples_leaf,\n",
    "'bootstrap': bootstrap}\n",
    "\n",
    "gs = GridSearchCV(rfc, param_grid, cv = 3, verbose = 1, n_jobs=-1)\n",
    "gs.fit(X_train_scaled, y_train)\n",
    "rfc_2 = gs.best_estimator_\n",
    "gs.best_params_"
   ]
  },
  {
   "cell_type": "code",
   "execution_count": 32,
   "id": "64bcd054",
   "metadata": {},
   "outputs": [
    {
     "data": {
      "image/png": "[encoded data removed]",
      "text/plain": [
       "<Figure size 1000x1000 with 1 Axes>"
      ]
     },
     "metadata": {},
     "output_type": "display_data"
    }
   ],
   "source": [
    "# view the feature scores\n",
    "feature_scores_20 = pd.Series(rfc_2.feature_importances_, index=X_train.columns).sort_values(ascending=False)\n",
    "feature_scores_20\n",
    "\n",
    "# display the predictions\n",
    "plt.rcParams['figure.figsize'] = [10, 10]\n",
    "sns.set(font=\"Arial\", font_scale=2)\n",
    "\n",
    "#palette = sns.color_palette(\"Greens\")\n",
    "\n",
    "order = ['blue', 'green', 'red', 'nir']#, 'arvi','evi', 'green_red','ndvi','msavi']\n",
    "cols = ['blue', 'green', 'red', 'orange']#,'purple','pink', 'yellow','brown','black']\n",
    "# Creating a seaborn bar plot\n",
    "sns.barplot(x=feature_scores_20.index, y=feature_scores_20, \n",
    "            order = ['blue', 'green', 'red', 'nir'],#, 'arvi','evi', 'green_red','ndvi','msavi'],\n",
    "            palette=cols\n",
    "           )\n",
    "plt.title(\"Feature Importances\\n SkySat SB to classify GDM Severity, 2020\")\n",
    "plt.ylabel('Feature Importance Score')\n",
    "plt.xlabel('Features')\n",
    "plt.xticks(np.arange(len(order)), labels=['blue', 'green', 'red', 'nir'])#, 'ARVI','EVI', 'GRVI','NDVI','MSAVI'])\n",
    "plt.ylim(0, 0.4)\n",
    "\n",
    "# plt.savefig(\"feature_imp20.svg\")\n",
    "plt.show()\n"
   ]
  },
  {
   "cell_type": "code",
   "execution_count": 37,
   "id": "77d465f2",
   "metadata": {},
   "outputs": [],
   "source": [
    "y_pred = rfc.predict(X_test_scaled)\n",
    "\n",
    "y_pred_gs = gs.best_estimator_.predict(X_test_scaled)"
   ]
  },
  {
   "cell_type": "code",
   "execution_count": 49,
   "id": "f5ebdd22",
   "metadata": {},
   "outputs": [
    {
     "data": {
      "text/html": [
       "<div>\n",
       "<style scoped>\n",
       "    .dataframe tbody tr th:only-of-type {\n",
       "        vertical-align: middle;\n",
       "    }\n",
       "\n",
       "    .dataframe tbody tr th {\n",
       "        vertical-align: top;\n",
       "    }\n",
       "\n",
       "    .dataframe thead th {\n",
       "        text-align: right;\n",
       "    }\n",
       "</style>\n",
       "<table border=\"1\" class=\"dataframe\">\n",
       "  <thead>\n",
       "    <tr style=\"text-align: right;\">\n",
       "      <th></th>\n",
       "      <th>high</th>\n",
       "      <th>low</th>\n",
       "    </tr>\n",
       "  </thead>\n",
       "  <tbody>\n",
       "    <tr>\n",
       "      <th>high</th>\n",
       "      <td>8</td>\n",
       "      <td>0</td>\n",
       "    </tr>\n",
       "    <tr>\n",
       "      <th>low</th>\n",
       "      <td>5</td>\n",
       "      <td>4</td>\n",
       "    </tr>\n",
       "  </tbody>\n",
       "</table>\n",
       "</div>"
      ],
      "text/plain": [
       "      high  low\n",
       "high     8    0\n",
       "low      5    4"
      ]
     },
     "metadata": {},
     "output_type": "display_data"
    },
    {
     "data": {
      "text/plain": [
       "'Baseline Random Forest accuracy score'"
      ]
     },
     "metadata": {},
     "output_type": "display_data"
    },
    {
     "data": {
      "text/plain": [
       "0.7058823529411765"
      ]
     },
     "metadata": {},
     "output_type": "display_data"
    },
    {
     "data": {
      "text/html": [
       "<div>\n",
       "<style scoped>\n",
       "    .dataframe tbody tr th:only-of-type {\n",
       "        vertical-align: middle;\n",
       "    }\n",
       "\n",
       "    .dataframe tbody tr th {\n",
       "        vertical-align: top;\n",
       "    }\n",
       "\n",
       "    .dataframe thead th {\n",
       "        text-align: right;\n",
       "    }\n",
       "</style>\n",
       "<table border=\"1\" class=\"dataframe\">\n",
       "  <thead>\n",
       "    <tr style=\"text-align: right;\">\n",
       "      <th></th>\n",
       "      <th>high</th>\n",
       "      <th>low</th>\n",
       "    </tr>\n",
       "  </thead>\n",
       "  <tbody>\n",
       "    <tr>\n",
       "      <th>high</th>\n",
       "      <td>7</td>\n",
       "      <td>1</td>\n",
       "    </tr>\n",
       "    <tr>\n",
       "      <th>low</th>\n",
       "      <td>3</td>\n",
       "      <td>6</td>\n",
       "    </tr>\n",
       "  </tbody>\n",
       "</table>\n",
       "</div>"
      ],
      "text/plain": [
       "      high  low\n",
       "high     7    1\n",
       "low      3    6"
      ]
     },
     "metadata": {},
     "output_type": "display_data"
    },
    {
     "data": {
      "text/plain": [
       "'Hyperparameter Tuned Random Forest accuracy score'"
      ]
     },
     "metadata": {},
     "output_type": "display_data"
    },
    {
     "data": {
      "text/plain": [
       "0.7647058823529411"
      ]
     },
     "metadata": {},
     "output_type": "display_data"
    }
   ],
   "source": [
    "from sklearn.metrics import confusion_matrix\n",
    "\n",
    "conf_matrix_baseline = pd.DataFrame(confusion_matrix(y_test, y_pred),\n",
    "index = [np.unique(y_pred)[0],np.unique(y_pred)[1]], columns = [np.unique(y_pred)[0],np.unique(y_pred)[1]])\n",
    "                                   \n",
    "                                             \n",
    "\n",
    "conf_matrix_tuned = pd.DataFrame(confusion_matrix(y_test, y_pred_gs),\n",
    "        index = [np.unique(y_pred)[0],np.unique(y_pred)[1]], columns = [np.unique(y_pred)[0],np.unique(y_pred)[1]])\n",
    "                                                         \n",
    "display(conf_matrix_baseline)\n",
    "display('Baseline Random Forest accuracy score', accuracy_score(y_test, y_pred))\n",
    "                                                         \n",
    "\n",
    "display(conf_matrix_tuned)\n",
    "display('Hyperparameter Tuned Random Forest accuracy score', accuracy_score(y_test, y_pred_gs))"
   ]
  },
  {
   "cell_type": "code",
   "execution_count": null,
   "id": "22a9d79e",
   "metadata": {},
   "outputs": [],
   "source": [
    "# Repeat with best performing model"
   ]
  },
  {
   "cell_type": "code",
   "execution_count": 57,
   "id": "6f6a13a4",
   "metadata": {},
   "outputs": [],
   "source": [
    "def run_rf(df, expl_vars, resp_var, SPLIT_RND_SEED):\n",
    "    X = df[expl_vars]\n",
    "    y = df[resp_var]\n",
    "    \n",
    "    rus = RandomUnderSampler(random_state=2020)\n",
    "    X_rus, y_rus = rus.fit_resample(X, y)\n",
    "\n",
    "# Split dataset into training set and test set\n",
    "\n",
    "    X_train, X_test, y_train, y_test = train_test_split(X_rus, y_rus,\n",
    "                                                    test_size=0.3, \n",
    "                                                    random_state=SPLIT_RND_SEED,\n",
    "                                                    stratify = y_rus)  # 70% training and 30% test\n",
    "    mm = MinMaxScaler()\n",
    "    X_train_scaled = mm.fit_transform(X_train)\n",
    "    X_test_scaled = mm.transform(X_test)\n",
    "    \n",
    "    \n",
    "    from sklearn.ensemble import RandomForestClassifier\n",
    "    \n",
    "    # Modify with best parameters  \n",
    "    rf = RandomForestClassifier(bootstrap=True,\n",
    "                                max_depth=4,\n",
    "                                max_features='log2',\n",
    "                                min_samples_leaf=2,\n",
    "                                min_samples_split=2,\n",
    "                                n_estimators=400)\n",
    "        \n",
    "        \n",
    "#                                 n_estimators = 500, \n",
    "#                                 oob_score=True, \n",
    "#                                 #random_state=rand_state, # random number to be used, needed to reproduce the same result\n",
    "#                                 verbose=False)\n",
    "    \n",
    "    rf_model = rf.fit(X_train_scaled, y_train)\n",
    "    \n",
    "    y_pred = rf.predict(X_test_scaled)\n",
    "    \n",
    "    from sklearn.metrics import accuracy_score\n",
    "    accuracy = accuracy_score(y_test, y_pred)\n",
    "    \n",
    "    from sklearn.metrics import precision_recall_fscore_support\n",
    "    \n",
    "    prec, recall, fscore, support = precision_recall_fscore_support(y_test, y_pred)\n",
    "  \n",
    "    \n",
    "    from sklearn.metrics import cohen_kappa_score\n",
    "        \n",
    "    cohen_score = cohen_kappa_score(y_test, y_pred)    \n",
    "\n",
    "    label_0 = np.unique(y_pred)[0]\n",
    "    label_1 = np.unique(y_pred)[1]\n",
    "    \n",
    "    metrics = {\n",
    "        'cohen_kappa': [cohen_score], \n",
    "        'accuracy_score': [accuracy],\n",
    "        'precision {}'.format(label_0): [prec[0]],\n",
    "        'precision {}'.format(label_1): [prec[1]],\n",
    "        'recall {}'.format(label_0): [recall[0]],\n",
    "        'recall {}'.format(label_1): [recall[1]]\n",
    "    }\n",
    "    metrics_df = pd.DataFrame(data=metrics)\n",
    "    \n",
    "    return metrics_df\n"
   ]
  },
  {
   "cell_type": "code",
   "execution_count": 58,
   "id": "e55c1c37",
   "metadata": {},
   "outputs": [
    {
     "data": {
      "text/html": [
       "<div>\n",
       "<style scoped>\n",
       "    .dataframe tbody tr th:only-of-type {\n",
       "        vertical-align: middle;\n",
       "    }\n",
       "\n",
       "    .dataframe tbody tr th {\n",
       "        vertical-align: top;\n",
       "    }\n",
       "\n",
       "    .dataframe thead th {\n",
       "        text-align: right;\n",
       "    }\n",
       "</style>\n",
       "<table border=\"1\" class=\"dataframe\">\n",
       "  <thead>\n",
       "    <tr style=\"text-align: right;\">\n",
       "      <th></th>\n",
       "      <th>cohen_kappa</th>\n",
       "      <th>accuracy_score</th>\n",
       "      <th>precision high</th>\n",
       "      <th>precision low</th>\n",
       "      <th>recall high</th>\n",
       "      <th>recall low</th>\n",
       "    </tr>\n",
       "  </thead>\n",
       "  <tbody>\n",
       "    <tr>\n",
       "      <th>0</th>\n",
       "      <td>0.534247</td>\n",
       "      <td>0.764706</td>\n",
       "      <td>0.7</td>\n",
       "      <td>0.857143</td>\n",
       "      <td>0.875</td>\n",
       "      <td>0.666667</td>\n",
       "    </tr>\n",
       "  </tbody>\n",
       "</table>\n",
       "</div>"
      ],
      "text/plain": [
       "   cohen_kappa  accuracy_score  precision high  precision low  recall high  \\\n",
       "0     0.534247        0.764706             0.7       0.857143        0.875   \n",
       "\n",
       "   recall low  \n",
       "0    0.666667  "
      ]
     },
     "execution_count": 58,
     "metadata": {},
     "output_type": "execute_result"
    }
   ],
   "source": [
    "run_rf(data_2020, expl_vars, resp_var, 456)"
   ]
  },
  {
   "cell_type": "code",
   "execution_count": 59,
   "id": "4b81ce3c",
   "metadata": {},
   "outputs": [],
   "source": [
    "import random\n",
    " \n",
    "rand_list=[]\n",
    "n=100\n",
    "for i in range(n):\n",
    "    rand_list.append(random.randint(100,999))"
   ]
  },
  {
   "cell_type": "code",
   "execution_count": 60,
   "id": "13fcd906",
   "metadata": {},
   "outputs": [],
   "source": [
    "# RF model, GDM Severity 2020 SB\n",
    "expl_vars = ['blue', 'green', 'red', 'nir']\n",
    "resp_var = 'GDM_sev'\n",
    "\n",
    "results_alldata = []\n",
    "for r in rand_list:\n",
    "    res_df = run_rf(data_2020, expl_vars, resp_var, r)\n",
    "    \n",
    "    results_alldata.append(res_df)"
   ]
  },
  {
   "cell_type": "code",
   "execution_count": 61,
   "id": "67f6c839",
   "metadata": {},
   "outputs": [
    {
     "data": {
      "text/plain": [
       "cohen_kappa       0.406408\n",
       "accuracy_score    0.702941\n",
       "precision high    0.732441\n",
       "precision low     0.701210\n",
       "recall high       0.669167\n",
       "recall low        0.738472\n",
       "dtype: float64"
      ]
     },
     "execution_count": 61,
     "metadata": {},
     "output_type": "execute_result"
    }
   ],
   "source": [
    "results_alldata_df = pd.concat(results_alldata)\n",
    "results_alldata_df.mean()"
   ]
  },
  {
   "cell_type": "code",
   "execution_count": null,
   "id": "0fc6e518",
   "metadata": {},
   "outputs": [],
   "source": [
    "# # RF model, GDM Severity 2020 SB + VI\n",
    "# expl_vars = ['blue', 'green', 'red', 'nir','ndvi', 'evi','msavi', 'arvi', 'green_red']\n",
    "# resp_var = 'GDM_sev'\n",
    "\n",
    "# results_2020sbvi = []\n",
    "# for r in rand_list:\n",
    "#     res_df = run_rf(data_2020, expl_vars, resp_var, r)\n",
    "    \n",
    "#     results_2020sbvi.append(res_df)"
   ]
  }
 ],
 "metadata": {
  "kernelspec": {
   "display_name": "Python 3 (ipykernel)",
   "language": "python",
   "name": "python3"
  },
  "language_info": {
   "codemirror_mode": {
    "name": "ipython",
    "version": 3
   },
   "file_extension": ".py",
   "mimetype": "text/x-python",
   "name": "python",
   "nbconvert_exporter": "python",
   "pygments_lexer": "ipython3",
   "version": "3.10.6"
  }
 },
 "nbformat": 4,
 "nbformat_minor": 5
}
