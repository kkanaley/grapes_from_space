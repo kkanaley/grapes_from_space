{
 "cells": [
  {
   "cell_type": "code",
   "execution_count": 1,
   "id": "b09ab2f3",
   "metadata": {},
   "outputs": [],
   "source": [
    "import os\n",
    "import glob\n",
    "\n",
    "import pandas as pd\n",
    "import numpy as np\n",
    "import rasterio as rio\n",
    "\n",
    "import matplotlib.pyplot as plt\n",
    "import matplotlib.patches as mpatches\n",
    "import seaborn as sns\n",
    "\n",
    "from scipy import stats\n",
    "#import statannotations\n",
    "from statannot import add_stat_annotation\n",
    "\n",
    "import sklearn\n",
    "from sklearn.preprocessing import MinMaxScaler\n",
    "from sklearn.model_selection import train_test_split \n",
    "from sklearn.metrics import classification_report \n",
    "from sklearn.metrics import accuracy_score\n",
    "from sklearn.metrics import precision_recall_fscore_support\n",
    "import imblearn as imb\n",
    "from imblearn.under_sampling import RandomUnderSampler\n",
    "\n",
    "import scipy"
   ]
  },
  {
   "cell_type": "code",
   "execution_count": 2,
   "id": "db4c93dc",
   "metadata": {},
   "outputs": [],
   "source": [
    "def img_to_df(img_path, cols):\n",
    "    with rio.open(img_path) as src:\n",
    "        as_array = src.read()\n",
    "        band_arrs = []\n",
    "        \n",
    "        for i in np.arange(src.count):\n",
    "            band_arr = as_array[i].flatten()\n",
    "            band_arr = band_arr/10000\n",
    "            \n",
    "            band_arrs.append(band_arr)\n",
    "        \n",
    "        df = pd.DataFrame(band_arrs,cols).T\n",
    "        df['Date'] = img_path.split('/')[-1].split('_')[0]\n",
    "        \n",
    "        # Optional: drops entries with no severity rating. Comment out if unnecessary.\n",
    "        no_nans = df.dropna(subset=['total_dis_sev']) \n",
    "        \n",
    "        return no_nans"
   ]
  },
  {
   "cell_type": "code",
   "execution_count": 3,
   "id": "64f1be9b",
   "metadata": {},
   "outputs": [],
   "source": [
    "def add_vis(df):\n",
    "    df['pri']= (df['green']- df['greenI'])/(df['green']+df['greenI'])\n",
    "    df['ndre'] = (df['nir'] - df['rede']) / (df['nir'] + df['rede'])\n",
    "    df['tcari'] = 3 * (( (df['rede'] - df['red']) - 0.2 * (df['rede'] - df['green']) ) * (df['rede'] / df['red']))\n",
    "    df['ndvi']= (df['nir']-df['red'])/(df['nir']+df['red'])\n",
    "    df['evi']= 2.5*(df['nir']-df['red'])/(df['nir']+6*df['red']-7.5*df['blue']+1)\n",
    "    df['savi']= 1.5*(df['nir']-df['red'])/(df['nir']+df['red']+0.5)\n",
    "    df['arvi']=(df['nir']-(2*df['red']-df['blue']))/(df['nir']+(2*df['red']-df['blue']))\n",
    "    df['green_red'] = (df['green']-df['red'])/(df['green']+df['red'])\n",
    "\n",
    "    return df"
   ]
  },
  {
   "cell_type": "code",
   "execution_count": 4,
   "id": "6d64909e",
   "metadata": {},
   "outputs": [],
   "source": [
    "data_dir = '/Users/kathleenkanaley/Desktop/grapes_from_space/data/'\n",
    "dis_ras_20 = glob.glob(data_dir +'images/2020/PScope/dis_band_*/*.tif')\n",
    "dis_ras_21 = glob.glob(data_dir +'images/2021/PScope/dis_band_*/*.tif')\n",
    "dis_ras_22 = glob.glob(data_dir +'images/2022/PScope/dis_band_*/*.tif')"
   ]
  },
  {
   "cell_type": "code",
   "execution_count": 5,
   "id": "501fa20b",
   "metadata": {},
   "outputs": [
    {
     "data": {
      "text/plain": [
       "Index(['c_blue', 'blue', 'greenI', 'green', 'yellow', 'red', 'rede', 'nir',\n",
       "       'total_dis_sev', 'dm_sev', 'dm_inc', 'Date', 'inc_class',\n",
       "       'severity_class', 'pri', 'ndre', 'tcari', 'ndvi', 'evi', 'savi', 'arvi',\n",
       "       'green_red'],\n",
       "      dtype='object')"
      ]
     },
     "execution_count": 5,
     "metadata": {},
     "output_type": "execute_result"
    }
   ],
   "source": [
    "cols = ['c_blue','blue','greenI', 'green', 'yellow', 'red', 'rede', 'nir','total_dis_sev','dm_sev', 'dm_inc']\n",
    "\n",
    "# 2020\n",
    "\n",
    "dfs_2020 = [img_to_df(dis_ras_20[i], cols) for i in np.arange(len(dis_ras_20))]\n",
    "df_2020 = pd.concat(dfs_2020)\n",
    "\n",
    "df_2020['total_dis_sev'] = df_2020['total_dis_sev']*10000\n",
    "df_2020['dm_sev'] = df_2020['dm_sev']*10000\n",
    "df_2020['dm_inc'] = df_2020['dm_inc']*10000\n",
    "\n",
    "df_2020['inc_class'] = 'low'\n",
    "df_2020.loc[df_2020['dm_inc']>25,'inc_class']= 'high'\n",
    "    \n",
    "df_2020['severity_class'] = 'low'\n",
    "df_2020.loc[df_2020['dm_sev']>10,'severity_class']= 'high'\n",
    "\n",
    "vis_2020 = add_vis(df_2020)\n",
    "\n",
    "\n",
    "#2021\n",
    "dfs_2021 = [img_to_df(dis_ras_21[i], cols) for i in np.arange(len(dis_ras_21))]\n",
    "df_2021 = pd.concat(dfs_2021)\n",
    "\n",
    "df_2021['total_dis_sev'] = df_2021['total_dis_sev']*10000\n",
    "df_2021['dm_sev'] = df_2021['dm_sev']*10000\n",
    "df_2021['dm_inc'] = df_2021['dm_inc']*10000\n",
    "\n",
    "df_2021['inc_class'] = 'low'\n",
    "df_2021.loc[df_2021['dm_inc']>25,'inc_class']= 'high'\n",
    "    \n",
    "df_2021['severity_class'] = 'low'\n",
    "df_2021.loc[df_2021['dm_sev']>10,'severity_class']= 'high'\n",
    "\n",
    "vis_2021 = add_vis(df_2021)\n",
    "vis_2021 = vis_2021[vis_2021['Date']!='20210804']\n",
    "\n",
    "#2022\n",
    "dfs_2022 = [img_to_df(dis_ras_22[i], cols) for i in np.arange(len(dis_ras_22))]\n",
    "df_2022 = pd.concat(dfs_2022)\n",
    "\n",
    "df_2022['total_dis_sev'] = df_2022['total_dis_sev']*10000\n",
    "df_2022['dm_sev'] = df_2022['dm_sev']*10000\n",
    "df_2022['dm_inc'] = df_2022['dm_inc']*10000\n",
    "\n",
    "df_2022['inc_class'] = 'low'\n",
    "df_2022.loc[df_2022['dm_inc']>25,'inc_class']= 'high'\n",
    "    \n",
    "df_2022['severity_class'] = 'low'\n",
    "df_2022.loc[df_2022['dm_sev']>10,'severity_class']= 'high'\n",
    "\n",
    "vis_2022 = add_vis(df_2022)\n",
    "vis_2022.columns"
   ]
  },
  {
   "cell_type": "code",
   "execution_count": 6,
   "id": "12bbc06e",
   "metadata": {},
   "outputs": [
    {
     "name": "stdout",
     "output_type": "stream",
     "text": [
      "['20220726' '20220801' '20220630' '20220704' '20220624']\n",
      "['20210808' '20210726' '20210715']\n",
      "['20200801' '20200713' '20200616']\n"
     ]
    }
   ],
   "source": [
    "print(vis_2022.Date.unique())\n",
    "print(vis_2021.Date.unique())\n",
    "print(vis_2020.Date.unique())\n"
   ]
  },
  {
   "cell_type": "code",
   "execution_count": 7,
   "id": "c1b55f1e",
   "metadata": {},
   "outputs": [],
   "source": [
    "vis_allyears = pd.concat([vis_2020,vis_2021,vis_2022])"
   ]
  },
  {
   "cell_type": "code",
   "execution_count": 8,
   "id": "089328c3",
   "metadata": {},
   "outputs": [],
   "source": [
    "# SB + VIs \n",
    "expl_vars = ['c_blue', 'blue', 'greenI', 'green', 'yellow', 'red', 'rede', 'nir']#,\n",
    "             #'pri', 'ndre', 'tcari', 'ndvi', 'evi', 'savi', 'arvi','green_red']\n",
    "resp_var = 'severity_class'"
   ]
  },
  {
   "cell_type": "code",
   "execution_count": 9,
   "id": "ace027e0",
   "metadata": {},
   "outputs": [],
   "source": [
    "X = vis_allyears[expl_vars]\n",
    "y = vis_allyears[resp_var]\n",
    "\n",
    "rus = RandomUnderSampler(random_state=2022)\n",
    "X_rus, y_rus = rus.fit_resample(X, y)\n",
    "\n",
    "# Split dataset into training set and test set\n",
    "SPLIT_RND_SEED = 456\n",
    "X_train, X_test, y_train, y_test = train_test_split(X_rus, y_rus,\n",
    "                                                    test_size=0.3, \n",
    "                                                    random_state=SPLIT_RND_SEED,\n",
    "                                                    stratify = y_rus)  # 70% training and 30% test"
   ]
  },
  {
   "cell_type": "code",
   "execution_count": 10,
   "id": "90ee8d17",
   "metadata": {},
   "outputs": [],
   "source": [
    "mm = MinMaxScaler()\n",
    "X_train_scaled = mm.fit_transform(X_train)\n",
    "X_test_scaled = mm.transform(X_test)\n",
    "#y_train = np.array(y_train)"
   ]
  },
  {
   "cell_type": "code",
   "execution_count": 11,
   "id": "b8aec496",
   "metadata": {},
   "outputs": [
    {
     "data": {
      "text/plain": [
       "1.0"
      ]
     },
     "metadata": {},
     "output_type": "display_data"
    }
   ],
   "source": [
    "from sklearn.ensemble import RandomForestClassifier\n",
    "rfc = RandomForestClassifier()\n",
    "rfc.fit(X_train_scaled, y_train)\n",
    "display(rfc.score(X_train_scaled, y_train))"
   ]
  },
  {
   "cell_type": "code",
   "execution_count": 12,
   "id": "bb770c94",
   "metadata": {},
   "outputs": [],
   "source": [
    "# Prediction on test data\n",
    "y_pred = rfc.predict(X_test_scaled)"
   ]
  },
  {
   "cell_type": "code",
   "execution_count": 13,
   "id": "c35a075e",
   "metadata": {},
   "outputs": [
    {
     "name": "stdout",
     "output_type": "stream",
     "text": [
      "Classification report:\n",
      "\n",
      "              precision    recall  f1-score   support\n",
      "\n",
      "        high       0.83      0.81      0.82        91\n",
      "         low       0.82      0.84      0.83        91\n",
      "\n",
      "    accuracy                           0.82       182\n",
      "   macro avg       0.82      0.82      0.82       182\n",
      "weighted avg       0.82      0.82      0.82       182\n",
      "\n"
     ]
    }
   ],
   "source": [
    "# Classification report\n",
    "stats = classification_report(y_test, y_pred,\n",
    "                              labels=None,\n",
    "#                               target_names=[\"low\", \"high\"],\n",
    "                              sample_weight=None,\n",
    "                              digits=2,\n",
    "                              output_dict=False)\n",
    "  \n",
    "print(\"Classification report:\\n\")\n",
    "print(stats)"
   ]
  },
  {
   "cell_type": "code",
   "execution_count": 14,
   "id": "4cc8ee4b",
   "metadata": {},
   "outputs": [],
   "source": [
    "from sklearn.model_selection import RandomizedSearchCV\n",
    "n_estimators = [int(x) for x in np.linspace(start = 100, stop = 1000,\n",
    "num = 10)]\n",
    "max_features = ['log2', 'sqrt']\n",
    "max_depth = [int(x) for x in np.linspace(start = 1, stop = 15, num =\n",
    "15)]\n",
    "min_samples_split = [int(x) for x in np.linspace(start = 2, stop = 50,\n",
    "num = 10)]\n",
    "min_samples_leaf = [int(x) for x in np.linspace(start = 2, stop = 50,\n",
    "num = 10)]\n",
    "bootstrap = [True, False]\n",
    "param_dist = {'n_estimators': n_estimators,\n",
    "'max_features': max_features,\n",
    "'max_depth': max_depth,\n",
    "'min_samples_split': min_samples_split,\n",
    "'min_samples_leaf': min_samples_leaf,\n",
    "'bootstrap': bootstrap}"
   ]
  },
  {
   "cell_type": "code",
   "execution_count": 15,
   "id": "2def24b5",
   "metadata": {},
   "outputs": [
    {
     "name": "stdout",
     "output_type": "stream",
     "text": [
      "Fitting 3 folds for each of 100 candidates, totalling 300 fits\n"
     ]
    },
    {
     "data": {
      "text/plain": [
       "{'n_estimators': 700,\n",
       " 'min_samples_split': 23,\n",
       " 'min_samples_leaf': 7,\n",
       " 'max_features': 'log2',\n",
       " 'max_depth': 15,\n",
       " 'bootstrap': False}"
      ]
     },
     "execution_count": 15,
     "metadata": {},
     "output_type": "execute_result"
    }
   ],
   "source": [
    "rs = RandomizedSearchCV(rfc,\n",
    "param_dist,\n",
    "n_iter = 100,\n",
    "cv = 3,\n",
    "verbose = 1,\n",
    "n_jobs=-1,\n",
    "random_state=0)\n",
    "\n",
    "rs.fit(X_train_scaled, y_train)\n",
    "rs.best_params_"
   ]
  },
  {
   "cell_type": "code",
   "execution_count": 16,
   "id": "a2c785cf",
   "metadata": {},
   "outputs": [
    {
     "data": {
      "text/html": [
       "<div>\n",
       "<style scoped>\n",
       "    .dataframe tbody tr th:only-of-type {\n",
       "        vertical-align: middle;\n",
       "    }\n",
       "\n",
       "    .dataframe tbody tr th {\n",
       "        vertical-align: top;\n",
       "    }\n",
       "\n",
       "    .dataframe thead th {\n",
       "        text-align: right;\n",
       "    }\n",
       "</style>\n",
       "<table border=\"1\" class=\"dataframe\">\n",
       "  <thead>\n",
       "    <tr style=\"text-align: right;\">\n",
       "      <th></th>\n",
       "      <th>param_n_estimators</th>\n",
       "      <th>param_min_samples_split</th>\n",
       "      <th>param_min_samples_leaf</th>\n",
       "      <th>param_max_features</th>\n",
       "      <th>param_max_depth</th>\n",
       "      <th>param_bootstrap</th>\n",
       "      <th>mean_test_score</th>\n",
       "      <th>rank_test_score</th>\n",
       "    </tr>\n",
       "  </thead>\n",
       "  <tbody>\n",
       "    <tr>\n",
       "      <th>0</th>\n",
       "      <td>700</td>\n",
       "      <td>23</td>\n",
       "      <td>7</td>\n",
       "      <td>log2</td>\n",
       "      <td>15</td>\n",
       "      <td>False</td>\n",
       "      <td>0.815147</td>\n",
       "      <td>1</td>\n",
       "    </tr>\n",
       "    <tr>\n",
       "      <th>1</th>\n",
       "      <td>700</td>\n",
       "      <td>2</td>\n",
       "      <td>2</td>\n",
       "      <td>log2</td>\n",
       "      <td>11</td>\n",
       "      <td>True</td>\n",
       "      <td>0.812783</td>\n",
       "      <td>2</td>\n",
       "    </tr>\n",
       "    <tr>\n",
       "      <th>2</th>\n",
       "      <td>700</td>\n",
       "      <td>18</td>\n",
       "      <td>7</td>\n",
       "      <td>sqrt</td>\n",
       "      <td>7</td>\n",
       "      <td>False</td>\n",
       "      <td>0.810419</td>\n",
       "      <td>3</td>\n",
       "    </tr>\n",
       "    <tr>\n",
       "      <th>3</th>\n",
       "      <td>400</td>\n",
       "      <td>23</td>\n",
       "      <td>2</td>\n",
       "      <td>sqrt</td>\n",
       "      <td>14</td>\n",
       "      <td>False</td>\n",
       "      <td>0.803293</td>\n",
       "      <td>4</td>\n",
       "    </tr>\n",
       "    <tr>\n",
       "      <th>4</th>\n",
       "      <td>1000</td>\n",
       "      <td>12</td>\n",
       "      <td>7</td>\n",
       "      <td>sqrt</td>\n",
       "      <td>10</td>\n",
       "      <td>True</td>\n",
       "      <td>0.800946</td>\n",
       "      <td>5</td>\n",
       "    </tr>\n",
       "    <tr>\n",
       "      <th>5</th>\n",
       "      <td>100</td>\n",
       "      <td>2</td>\n",
       "      <td>18</td>\n",
       "      <td>sqrt</td>\n",
       "      <td>15</td>\n",
       "      <td>False</td>\n",
       "      <td>0.798565</td>\n",
       "      <td>6</td>\n",
       "    </tr>\n",
       "    <tr>\n",
       "      <th>6</th>\n",
       "      <td>700</td>\n",
       "      <td>12</td>\n",
       "      <td>2</td>\n",
       "      <td>sqrt</td>\n",
       "      <td>13</td>\n",
       "      <td>False</td>\n",
       "      <td>0.798548</td>\n",
       "      <td>7</td>\n",
       "    </tr>\n",
       "    <tr>\n",
       "      <th>7</th>\n",
       "      <td>600</td>\n",
       "      <td>23</td>\n",
       "      <td>2</td>\n",
       "      <td>sqrt</td>\n",
       "      <td>15</td>\n",
       "      <td>False</td>\n",
       "      <td>0.796184</td>\n",
       "      <td>8</td>\n",
       "    </tr>\n",
       "    <tr>\n",
       "      <th>8</th>\n",
       "      <td>500</td>\n",
       "      <td>18</td>\n",
       "      <td>7</td>\n",
       "      <td>log2</td>\n",
       "      <td>7</td>\n",
       "      <td>True</td>\n",
       "      <td>0.793853</td>\n",
       "      <td>9</td>\n",
       "    </tr>\n",
       "    <tr>\n",
       "      <th>9</th>\n",
       "      <td>300</td>\n",
       "      <td>12</td>\n",
       "      <td>28</td>\n",
       "      <td>log2</td>\n",
       "      <td>9</td>\n",
       "      <td>False</td>\n",
       "      <td>0.793820</td>\n",
       "      <td>10</td>\n",
       "    </tr>\n",
       "  </tbody>\n",
       "</table>\n",
       "</div>"
      ],
      "text/plain": [
       "  param_n_estimators param_min_samples_split param_min_samples_leaf  \\\n",
       "0                700                      23                      7   \n",
       "1                700                       2                      2   \n",
       "2                700                      18                      7   \n",
       "3                400                      23                      2   \n",
       "4               1000                      12                      7   \n",
       "5                100                       2                     18   \n",
       "6                700                      12                      2   \n",
       "7                600                      23                      2   \n",
       "8                500                      18                      7   \n",
       "9                300                      12                     28   \n",
       "\n",
       "  param_max_features param_max_depth param_bootstrap  mean_test_score  \\\n",
       "0               log2              15           False         0.815147   \n",
       "1               log2              11            True         0.812783   \n",
       "2               sqrt               7           False         0.810419   \n",
       "3               sqrt              14           False         0.803293   \n",
       "4               sqrt              10            True         0.800946   \n",
       "5               sqrt              15           False         0.798565   \n",
       "6               sqrt              13           False         0.798548   \n",
       "7               sqrt              15           False         0.796184   \n",
       "8               log2               7            True         0.793853   \n",
       "9               log2               9           False         0.793820   \n",
       "\n",
       "   rank_test_score  \n",
       "0                1  \n",
       "1                2  \n",
       "2                3  \n",
       "3                4  \n",
       "4                5  \n",
       "5                6  \n",
       "6                7  \n",
       "7                8  \n",
       "8                9  \n",
       "9               10  "
      ]
     },
     "execution_count": 16,
     "metadata": {},
     "output_type": "execute_result"
    }
   ],
   "source": [
    "rs_df = pd.DataFrame(rs.cv_results_).sort_values('rank_test_score').reset_index(drop=True)\n",
    "rs_df = rs_df.drop([\n",
    "'mean_fit_time',\n",
    "'std_fit_time',\n",
    "'mean_score_time',\n",
    "'std_score_time',\n",
    "'params',\n",
    "'split0_test_score',\n",
    "'split1_test_score',\n",
    "'split2_test_score',\n",
    "'std_test_score'],\n",
    "axis=1)\n",
    "\n",
    "rs_df.head(10)"
   ]
  },
  {
   "cell_type": "code",
   "execution_count": 17,
   "id": "93f8f071",
   "metadata": {},
   "outputs": [
    {
     "data": {
      "image/png": "[encoded data removed]",
      "text/plain": [
       "<Figure size 3000x2500 with 6 Axes>"
      ]
     },
     "metadata": {},
     "output_type": "display_data"
    }
   ],
   "source": [
    "fig, axs = plt.subplots(ncols=3, nrows=2)\n",
    "sns.set(style=\"whitegrid\", color_codes=True, font_scale = 2)\n",
    "fig.set_size_inches(30,25)\n",
    "sns.barplot(x='param_n_estimators', y='mean_test_score', data=rs_df,\n",
    "ax=axs[0,0], color='lightgrey')\n",
    "axs[0,0].set_ylim([.0,1])\n",
    "axs[0,0].set_title(label = 'n_estimators',\n",
    "size=30, weight='bold')\n",
    "\n",
    "sns.barplot(x='param_min_samples_split', y='mean_test_score',\n",
    "data=rs_df, ax=axs[0,1], color='coral')\n",
    "axs[0,1].set_ylim([.0,1])\n",
    "axs[0,1].set_title(label =\n",
    "'min_samples_split', size=30, weight='bold')\n",
    "\n",
    "sns.barplot(x='param_min_samples_leaf', y='mean_test_score',\n",
    "data=rs_df, ax=axs[0,2], color='lightgreen')\n",
    "axs[0,2].set_ylim([.0,1])\n",
    "axs[0,2].set_title(label =\n",
    "'min_samples_leaf', size=30, weight='bold')\n",
    "\n",
    "sns.barplot(x='param_max_features', y='mean_test_score', data=rs_df,\n",
    "ax=axs[1,0], color='wheat')\n",
    "axs[1,0].set_ylim([.0,1])\n",
    "axs[1,0].set_title(label = 'max_features',\n",
    "size=30, weight='bold')\n",
    "\n",
    "sns.barplot(x='param_max_depth', y='mean_test_score', data=rs_df,\n",
    "ax=axs[1,1], color='lightpink')\n",
    "axs[1,1].set_ylim([.0,1])\n",
    "axs[1,1].set_title(label = 'max_depth',\n",
    "size=30, weight='bold')\n",
    "\n",
    "sns.barplot(x='param_bootstrap',y='mean_test_score', data=rs_df,\n",
    "ax=axs[1,2], color='skyblue')\n",
    "axs[1,2].set_ylim([.0,1])\n",
    "axs[1,2].set_title(label = 'bootstrap', size=30, weight='bold')\n",
    "\n",
    "plt.show()"
   ]
  },
  {
   "cell_type": "code",
   "execution_count": 18,
   "id": "334ed13f",
   "metadata": {},
   "outputs": [
    {
     "name": "stdout",
     "output_type": "stream",
     "text": [
      "Fitting 3 folds for each of 180 candidates, totalling 540 fits\n"
     ]
    },
    {
     "data": {
      "text/plain": [
       "{'bootstrap': False,\n",
       " 'max_depth': 14,\n",
       " 'max_features': 'sqrt',\n",
       " 'min_samples_leaf': 2,\n",
       " 'min_samples_split': 2,\n",
       " 'n_estimators': 300}"
      ]
     },
     "execution_count": 18,
     "metadata": {},
     "output_type": "execute_result"
    }
   ],
   "source": [
    "from sklearn.model_selection import GridSearchCV\n",
    "n_estimators = [300,500,700]\n",
    "max_features = ['sqrt']\n",
    "max_depth = [7,10,11,14,15]\n",
    "min_samples_split = [2,7,23]\n",
    "min_samples_leaf = [2,7]\n",
    "bootstrap = [True,False]\n",
    "\n",
    "param_grid = {'n_estimators': n_estimators,\n",
    "'max_features': max_features,\n",
    "'max_depth': max_depth,\n",
    "'min_samples_split': min_samples_split,\n",
    "'min_samples_leaf': min_samples_leaf,\n",
    "'bootstrap': bootstrap}\n",
    "\n",
    "gs = GridSearchCV(rfc, param_grid, cv = 3, verbose = 1, n_jobs=-1)\n",
    "gs.fit(X_train_scaled, y_train)\n",
    "rfc_2 = gs.best_estimator_\n",
    "gs.best_params_"
   ]
  },
  {
   "cell_type": "code",
   "execution_count": 19,
   "id": "3dd7f4bb",
   "metadata": {},
   "outputs": [],
   "source": [
    "y_pred = rfc.predict(X_test_scaled)\n",
    "\n",
    "y_pred_gs = gs.best_estimator_.predict(X_test_scaled)"
   ]
  },
  {
   "cell_type": "code",
   "execution_count": 20,
   "id": "95ca83c8",
   "metadata": {},
   "outputs": [
    {
     "data": {
      "text/html": [
       "<div>\n",
       "<style scoped>\n",
       "    .dataframe tbody tr th:only-of-type {\n",
       "        vertical-align: middle;\n",
       "    }\n",
       "\n",
       "    .dataframe tbody tr th {\n",
       "        vertical-align: top;\n",
       "    }\n",
       "\n",
       "    .dataframe thead th {\n",
       "        text-align: right;\n",
       "    }\n",
       "</style>\n",
       "<table border=\"1\" class=\"dataframe\">\n",
       "  <thead>\n",
       "    <tr style=\"text-align: right;\">\n",
       "      <th></th>\n",
       "      <th>high</th>\n",
       "      <th>low</th>\n",
       "    </tr>\n",
       "  </thead>\n",
       "  <tbody>\n",
       "    <tr>\n",
       "      <th>high</th>\n",
       "      <td>74</td>\n",
       "      <td>17</td>\n",
       "    </tr>\n",
       "    <tr>\n",
       "      <th>low</th>\n",
       "      <td>15</td>\n",
       "      <td>76</td>\n",
       "    </tr>\n",
       "  </tbody>\n",
       "</table>\n",
       "</div>"
      ],
      "text/plain": [
       "      high  low\n",
       "high    74   17\n",
       "low     15   76"
      ]
     },
     "metadata": {},
     "output_type": "display_data"
    },
    {
     "data": {
      "text/plain": [
       "'Baseline Random Forest accuracy score'"
      ]
     },
     "metadata": {},
     "output_type": "display_data"
    },
    {
     "data": {
      "text/plain": [
       "0.8241758241758241"
      ]
     },
     "metadata": {},
     "output_type": "display_data"
    },
    {
     "data": {
      "text/html": [
       "<div>\n",
       "<style scoped>\n",
       "    .dataframe tbody tr th:only-of-type {\n",
       "        vertical-align: middle;\n",
       "    }\n",
       "\n",
       "    .dataframe tbody tr th {\n",
       "        vertical-align: top;\n",
       "    }\n",
       "\n",
       "    .dataframe thead th {\n",
       "        text-align: right;\n",
       "    }\n",
       "</style>\n",
       "<table border=\"1\" class=\"dataframe\">\n",
       "  <thead>\n",
       "    <tr style=\"text-align: right;\">\n",
       "      <th></th>\n",
       "      <th>high</th>\n",
       "      <th>low</th>\n",
       "    </tr>\n",
       "  </thead>\n",
       "  <tbody>\n",
       "    <tr>\n",
       "      <th>high</th>\n",
       "      <td>73</td>\n",
       "      <td>18</td>\n",
       "    </tr>\n",
       "    <tr>\n",
       "      <th>low</th>\n",
       "      <td>13</td>\n",
       "      <td>78</td>\n",
       "    </tr>\n",
       "  </tbody>\n",
       "</table>\n",
       "</div>"
      ],
      "text/plain": [
       "      high  low\n",
       "high    73   18\n",
       "low     13   78"
      ]
     },
     "metadata": {},
     "output_type": "display_data"
    },
    {
     "data": {
      "text/plain": [
       "'Hyperparameter Tuned Random Forest accuracy score'"
      ]
     },
     "metadata": {},
     "output_type": "display_data"
    },
    {
     "data": {
      "text/plain": [
       "0.8296703296703297"
      ]
     },
     "metadata": {},
     "output_type": "display_data"
    }
   ],
   "source": [
    "from sklearn.metrics import confusion_matrix\n",
    "\n",
    "conf_matrix_baseline = pd.DataFrame(confusion_matrix(y_test, y_pred),\n",
    "index = [np.unique(y_pred)[0],np.unique(y_pred)[1]], columns = [np.unique(y_pred)[0],np.unique(y_pred)[1]])\n",
    "                                   \n",
    "                                             \n",
    "\n",
    "conf_matrix_tuned = pd.DataFrame(confusion_matrix(y_test, y_pred_gs),\n",
    "        index = [np.unique(y_pred)[0],np.unique(y_pred)[1]], columns = [np.unique(y_pred)[0],np.unique(y_pred)[1]])\n",
    "                                                         \n",
    "display(conf_matrix_baseline)\n",
    "display('Baseline Random Forest accuracy score', accuracy_score(y_test, y_pred))\n",
    "                                                         \n",
    "\n",
    "display(conf_matrix_tuned)\n",
    "display('Hyperparameter Tuned Random Forest accuracy score', accuracy_score(y_test, y_pred_gs))"
   ]
  },
  {
   "cell_type": "code",
   "execution_count": 21,
   "id": "8707d160",
   "metadata": {},
   "outputs": [],
   "source": [
    "def run_rf(df, expl_vars, resp_var, SPLIT_RND_SEED):\n",
    "    X = df[expl_vars]\n",
    "    y = df[resp_var]\n",
    "    \n",
    "    rus = RandomUnderSampler(random_state=2020)\n",
    "    X_rus, y_rus = rus.fit_resample(X, y)\n",
    "\n",
    "# Split dataset into training set and test set\n",
    "\n",
    "    X_train, X_test, y_train, y_test = train_test_split(X_rus, y_rus,\n",
    "                                                    test_size=0.3, \n",
    "                                                    random_state=SPLIT_RND_SEED,\n",
    "                                                    stratify = y_rus)  # 70% training and 30% test\n",
    "    mm = MinMaxScaler()\n",
    "    X_train_scaled = mm.fit_transform(X_train)\n",
    "    X_test_scaled = mm.transform(X_test)\n",
    "    \n",
    "    \n",
    "    from sklearn.ensemble import RandomForestClassifier\n",
    "    \n",
    "    # Modify with best parameters  \n",
    "    rf = RandomForestClassifier(bootstrap= False,\n",
    "                                max_depth= 14,\n",
    "                                max_features='sqrt',\n",
    "                                min_samples_leaf= 2,\n",
    "                                min_samples_split= 2,\n",
    "                                n_estimators= 300)\n",
    "        \n",
    "        \n",
    "#                                 n_estimators = 500, \n",
    "#                                 oob_score=True, \n",
    "#                                 #random_state=rand_state, # random number to be used, needed to reproduce the same result\n",
    "#                                 verbose=False)\n",
    "    \n",
    "    rf_model = rf.fit(X_train_scaled, y_train)\n",
    "    \n",
    "    y_pred = rf.predict(X_test_scaled)\n",
    "    \n",
    "    from sklearn.metrics import accuracy_score\n",
    "    accuracy = accuracy_score(y_test, y_pred)\n",
    "    \n",
    "    from sklearn.metrics import precision_recall_fscore_support\n",
    "    \n",
    "    prec, recall, fscore, support = precision_recall_fscore_support(y_test, y_pred)\n",
    "  \n",
    "    \n",
    "    from sklearn.metrics import cohen_kappa_score\n",
    "        \n",
    "    cohen_score = cohen_kappa_score(y_test, y_pred)    \n",
    "\n",
    "    label_0 = np.unique(y_pred)[0]\n",
    "    label_1 = np.unique(y_pred)[1]\n",
    "    \n",
    "    metrics = {\n",
    "        'cohen_kappa': [cohen_score], \n",
    "        'accuracy_score': [accuracy],\n",
    "        'precision {}'.format(label_0): [prec[0]],\n",
    "        'precision {}'.format(label_1): [prec[1]],\n",
    "        'recall {}'.format(label_0): [recall[0]],\n",
    "        'recall {}'.format(label_1): [recall[1]]\n",
    "    }\n",
    "    metrics_df = pd.DataFrame(data=metrics)\n",
    "    \n",
    "    return metrics_df\n"
   ]
  },
  {
   "cell_type": "code",
   "execution_count": 22,
   "id": "7d8b5893",
   "metadata": {},
   "outputs": [],
   "source": [
    "import random\n",
    " \n",
    "rand_list=[]\n",
    "n=100\n",
    "for i in range(n):\n",
    "    rand_list.append(random.randint(100,999))"
   ]
  },
  {
   "cell_type": "code",
   "execution_count": 23,
   "id": "df846891",
   "metadata": {},
   "outputs": [],
   "source": [
    "# RF model, GDM Inc 2020 SB + VI\n",
    "# expl_vars = ['blue', 'green', 'red', 'nir','ndvi', 'evi','msavi', 'arvi', 'green_red']\n",
    "# resp_var = 'GDM_inc'\n",
    "\n",
    "results_alldata = []\n",
    "for r in rand_list:\n",
    "    res_df = run_rf(vis_allyears, expl_vars, resp_var, r)\n",
    "    \n",
    "    results_alldata.append(res_df)"
   ]
  },
  {
   "cell_type": "code",
   "execution_count": 24,
   "id": "9503002b",
   "metadata": {},
   "outputs": [
    {
     "data": {
      "text/plain": [
       "cohen_kappa       0.669670\n",
       "accuracy_score    0.834835\n",
       "precision high    0.810940\n",
       "precision low     0.865666\n",
       "recall high       0.875165\n",
       "recall low        0.794505\n",
       "dtype: float64"
      ]
     },
     "execution_count": 24,
     "metadata": {},
     "output_type": "execute_result"
    }
   ],
   "source": [
    "results_alldata_df = pd.concat(results_alldata)\n",
    "results_alldata_df.mean()"
   ]
  },
  {
   "cell_type": "code",
   "execution_count": null,
   "id": "fc4f84d5",
   "metadata": {},
   "outputs": [],
   "source": []
  }
 ],
 "metadata": {
  "kernelspec": {
   "display_name": "Python 3 (ipykernel)",
   "language": "python",
   "name": "python3"
  },
  "language_info": {
   "codemirror_mode": {
    "name": "ipython",
    "version": 3
   },
   "file_extension": ".py",
   "mimetype": "text/x-python",
   "name": "python",
   "nbconvert_exporter": "python",
   "pygments_lexer": "ipython3",
   "version": "3.10.6"
  }
 },
 "nbformat": 4,
 "nbformat_minor": 5
}
