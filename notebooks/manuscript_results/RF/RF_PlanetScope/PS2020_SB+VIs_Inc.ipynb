{
 "cells": [
  {
   "cell_type": "code",
   "execution_count": 1,
   "id": "93826888",
   "metadata": {},
   "outputs": [],
   "source": [
    "import os\n",
    "import glob\n",
    "\n",
    "import pandas as pd\n",
    "import numpy as np\n",
    "import rasterio as rio\n",
    "\n",
    "import matplotlib.pyplot as plt\n",
    "import matplotlib.patches as mpatches\n",
    "import seaborn as sns\n",
    "\n",
    "from scipy import stats\n",
    "#import statannotations\n",
    "from statannot import add_stat_annotation\n",
    "\n",
    "import sklearn\n",
    "from sklearn.preprocessing import MinMaxScaler\n",
    "from sklearn.model_selection import train_test_split \n",
    "from sklearn.metrics import classification_report \n",
    "from sklearn.metrics import accuracy_score\n",
    "from sklearn.metrics import precision_recall_fscore_support\n",
    "import imblearn as imb\n",
    "from imblearn.under_sampling import RandomUnderSampler\n",
    "\n",
    "import scipy"
   ]
  },
  {
   "cell_type": "code",
   "execution_count": 2,
   "id": "6a38b509",
   "metadata": {},
   "outputs": [],
   "source": [
    "def img_to_df(img_path, cols):\n",
    "    with rio.open(img_path) as src:\n",
    "        as_array = src.read()\n",
    "        band_arrs = []\n",
    "        \n",
    "        for i in np.arange(src.count):\n",
    "            band_arr = as_array[i].flatten()\n",
    "            band_arr = band_arr/10000\n",
    "            \n",
    "            band_arrs.append(band_arr)\n",
    "        \n",
    "        df = pd.DataFrame(band_arrs,cols).T\n",
    "        df['Date'] = img_path.split('/')[-1].split('_')[0]\n",
    "        \n",
    "        # Optional: drops entries with no severity rating. Comment out if unnecessary.\n",
    "        no_nans = df.dropna(subset=['total_dis_sev']) \n",
    "        \n",
    "        return no_nans"
   ]
  },
  {
   "cell_type": "code",
   "execution_count": 3,
   "id": "71fd57ce",
   "metadata": {},
   "outputs": [],
   "source": [
    "def add_vis(df):\n",
    "    df['pri']= (df['green']- df['greenI'])/(df['green']+df['greenI'])\n",
    "    df['ndre'] = (df['nir'] - df['rede']) / (df['nir'] + df['rede'])\n",
    "    df['tcari'] = 3 * (( (df['rede'] - df['red']) - 0.2 * (df['rede'] - df['green']) ) * (df['rede'] / df['red']))\n",
    "    df['ndvi']= (df['nir']-df['red'])/(df['nir']+df['red'])\n",
    "    df['evi']= 2.5*(df['nir']-df['red'])/(df['nir']+6*df['red']-7.5*df['blue']+1)\n",
    "    df['savi']= 1.5*(df['nir']-df['red'])/(df['nir']+df['red']+0.5)\n",
    "    df['arvi']=(df['nir']-(2*df['red']-df['blue']))/(df['nir']+(2*df['red']-df['blue']))\n",
    "    df['green_red'] = (df['green']-df['red'])/(df['green']+df['red'])\n",
    "\n",
    "    return df"
   ]
  },
  {
   "cell_type": "code",
   "execution_count": 4,
   "id": "abb00dd1",
   "metadata": {},
   "outputs": [],
   "source": [
    "data_dir = '/Users/kathleenkanaley/Desktop/grapes_from_space/data/'\n",
    "dis_ras_20 = glob.glob(data_dir +'images/2020/PScope/dis_band_*/20*.tif')\n",
    "# dis_ras_21 = glob.glob(data_dir +'images/2021/PScope/dis_band_*/*.tif')\n",
    "# dis_ras_22 = glob.glob(data_dir +'images/2022/PScope/dis_band_*/*.tif')"
   ]
  },
  {
   "cell_type": "code",
   "execution_count": 5,
   "id": "bc64eea1",
   "metadata": {},
   "outputs": [
    {
     "data": {
      "text/plain": [
       "Index(['c_blue', 'blue', 'greenI', 'green', 'yellow', 'red', 'rede', 'nir',\n",
       "       'total_dis_sev', 'dm_sev', 'dm_inc', 'Date', 'inc_class',\n",
       "       'severity_class', 'pri', 'ndre', 'tcari', 'ndvi', 'evi', 'savi', 'arvi',\n",
       "       'green_red'],\n",
       "      dtype='object')"
      ]
     },
     "execution_count": 5,
     "metadata": {},
     "output_type": "execute_result"
    }
   ],
   "source": [
    "cols = ['c_blue','blue','greenI', 'green', 'yellow', 'red', 'rede', 'nir','total_dis_sev','dm_sev', 'dm_inc']\n",
    "\n",
    "# Get a dataframe for all 2020 images\n",
    "\n",
    "dfs_2020 = [img_to_df(dis_ras_20[i], cols) for i in np.arange(len(dis_ras_20))]\n",
    "df_2020 = pd.concat(dfs_2020)\n",
    "\n",
    "df_2020['total_dis_sev'] = df_2020['total_dis_sev']*10000\n",
    "df_2020['dm_sev'] = df_2020['dm_sev']*10000\n",
    "df_2020['dm_inc'] = df_2020['dm_inc']*10000\n",
    "\n",
    "df_2020['inc_class'] = 'low'\n",
    "df_2020.loc[df_2020['dm_inc']>25,'inc_class']= 'high'\n",
    "    \n",
    "df_2020['severity_class'] = 'low'\n",
    "df_2020.loc[df_2020['dm_sev']>10,'severity_class']= 'high'\n",
    "\n",
    "vis_2020 = add_vis(df_2020)\n",
    "\n",
    "vis_2020.columns"
   ]
  },
  {
   "cell_type": "code",
   "execution_count": 6,
   "id": "76ea0856",
   "metadata": {},
   "outputs": [
    {
     "data": {
      "text/plain": [
       "array(['20200801', '20200713', '20200616'], dtype=object)"
      ]
     },
     "execution_count": 6,
     "metadata": {},
     "output_type": "execute_result"
    }
   ],
   "source": [
    "vis_2020.Date.unique()"
   ]
  },
  {
   "cell_type": "code",
   "execution_count": 7,
   "id": "ab170d3c",
   "metadata": {},
   "outputs": [],
   "source": [
    "# # SB + VIs \n",
    "# expl_vars = ['c_blue', 'blue', 'greenI', 'green', 'yellow', 'red', 'rede', 'nir',\n",
    "#              'pri', 'ndre', 'tcari', 'ndvi', 'evi', 'savi', 'arvi','green_red']\n",
    "# resp_var = 'inc_class'"
   ]
  },
  {
   "cell_type": "code",
   "execution_count": 8,
   "id": "b687e7af",
   "metadata": {},
   "outputs": [],
   "source": [
    "# X = vis_2020[expl_vars]\n",
    "# y = vis_2020[resp_var]\n",
    "\n",
    "# rus = RandomUnderSampler(random_state=2020)\n",
    "# X_rus, y_rus = rus.fit_resample(X, y)\n",
    "\n",
    "# # Split dataset into training set and test set\n",
    "# SPLIT_RND_SEED = 456\n",
    "# X_train, X_test, y_train, y_test = train_test_split(X_rus, y_rus,\n",
    "#                                                     test_size=0.3, \n",
    "#                                                     random_state=SPLIT_RND_SEED,\n",
    "#                                                     stratify = y_rus)  # 70% training and 30% test"
   ]
  },
  {
   "cell_type": "code",
   "execution_count": 9,
   "id": "e4704e1b",
   "metadata": {},
   "outputs": [],
   "source": [
    "# mm = MinMaxScaler()\n",
    "# X_train_scaled = mm.fit_transform(X_train)\n",
    "# X_test_scaled = mm.transform(X_test)\n",
    "# #y_train = np.array(y_train)"
   ]
  },
  {
   "cell_type": "code",
   "execution_count": 10,
   "id": "e04dd82a",
   "metadata": {},
   "outputs": [],
   "source": [
    "# from sklearn.ensemble import RandomForestClassifier\n",
    "# rfc = RandomForestClassifier()\n",
    "# rfc.fit(X_train_scaled, y_train)\n",
    "# display(rfc.score(X_train_scaled, y_train))"
   ]
  },
  {
   "cell_type": "code",
   "execution_count": 11,
   "id": "3950c9dd",
   "metadata": {},
   "outputs": [],
   "source": [
    "# Prediction on test data\n",
    "# y_pred = rfc.predict(X_test_scaled)"
   ]
  },
  {
   "cell_type": "code",
   "execution_count": 12,
   "id": "e299e28e",
   "metadata": {},
   "outputs": [],
   "source": [
    "# # Classification report\n",
    "# stats = classification_report(y_test, y_pred,\n",
    "#                               labels=None,\n",
    "# #                               target_names=[\"low\", \"high\"],\n",
    "#                               sample_weight=None,\n",
    "#                               digits=2,\n",
    "#                               output_dict=False)\n",
    "  \n",
    "# print(\"Classification report:\\n\")\n",
    "# print(stats)"
   ]
  },
  {
   "cell_type": "code",
   "execution_count": 13,
   "id": "168de64d",
   "metadata": {},
   "outputs": [],
   "source": [
    "# from sklearn.model_selection import RandomizedSearchCV\n",
    "# n_estimators = [int(x) for x in np.linspace(start = 100, stop = 1000,\n",
    "# num = 10)]\n",
    "# max_features = ['log2', 'sqrt']\n",
    "# max_depth = [int(x) for x in np.linspace(start = 1, stop = 15, num =\n",
    "# 15)]\n",
    "# min_samples_split = [int(x) for x in np.linspace(start = 2, stop = 50,\n",
    "# num = 10)]\n",
    "# min_samples_leaf = [int(x) for x in np.linspace(start = 2, stop = 50,\n",
    "# num = 10)]\n",
    "# bootstrap = [True, False]\n",
    "# param_dist = {'n_estimators': n_estimators,\n",
    "# 'max_features': max_features,\n",
    "# 'max_depth': max_depth,\n",
    "# 'min_samples_split': min_samples_split,\n",
    "# 'min_samples_leaf': min_samples_leaf,\n",
    "# 'bootstrap': bootstrap}"
   ]
  },
  {
   "cell_type": "code",
   "execution_count": 14,
   "id": "8c56469e",
   "metadata": {},
   "outputs": [],
   "source": [
    "# rs = RandomizedSearchCV(rfc,\n",
    "# param_dist,\n",
    "# n_iter = 100,\n",
    "# cv = 3,\n",
    "# verbose = 1,\n",
    "# n_jobs=-1,\n",
    "# random_state=0)\n",
    "\n",
    "# rs.fit(X_train_scaled, y_train)\n",
    "# rs.best_params_"
   ]
  },
  {
   "cell_type": "code",
   "execution_count": 15,
   "id": "a9746b9e",
   "metadata": {},
   "outputs": [],
   "source": [
    "# rs_df = pd.DataFrame(rs.cv_results_).sort_values('rank_test_score').reset_index(drop=True)\n",
    "# rs_df = rs_df.drop([\n",
    "# 'mean_fit_time',\n",
    "# 'std_fit_time',\n",
    "# 'mean_score_time',\n",
    "# 'std_score_time',\n",
    "# 'params',\n",
    "# 'split0_test_score',\n",
    "# 'split1_test_score',\n",
    "# 'split2_test_score',\n",
    "# 'std_test_score'],\n",
    "# axis=1)\n",
    "\n",
    "# rs_df.head(10)"
   ]
  },
  {
   "cell_type": "code",
   "execution_count": 16,
   "id": "83bc559f",
   "metadata": {},
   "outputs": [],
   "source": [
    "# fig, axs = plt.subplots(ncols=3, nrows=2)\n",
    "# sns.set(style=\"whitegrid\", color_codes=True, font_scale = 2)\n",
    "# fig.set_size_inches(30,25)\n",
    "# sns.barplot(x='param_n_estimators', y='mean_test_score', data=rs_df,\n",
    "# ax=axs[0,0], color='lightgrey')\n",
    "# axs[0,0].set_ylim([.0,1])\n",
    "# axs[0,0].set_title(label = 'n_estimators',\n",
    "# size=30, weight='bold')\n",
    "\n",
    "# sns.barplot(x='param_min_samples_split', y='mean_test_score',\n",
    "# data=rs_df, ax=axs[0,1], color='coral')\n",
    "# axs[0,1].set_ylim([.0,1])\n",
    "# axs[0,1].set_title(label =\n",
    "# 'min_samples_split', size=30, weight='bold')\n",
    "\n",
    "# sns.barplot(x='param_min_samples_leaf', y='mean_test_score',\n",
    "# data=rs_df, ax=axs[0,2], color='lightgreen')\n",
    "# axs[0,2].set_ylim([.0,1])\n",
    "# axs[0,2].set_title(label =\n",
    "# 'min_samples_leaf', size=30, weight='bold')\n",
    "\n",
    "# sns.barplot(x='param_max_features', y='mean_test_score', data=rs_df,\n",
    "# ax=axs[1,0], color='wheat')\n",
    "# axs[1,0].set_ylim([.0,1])\n",
    "# axs[1,0].set_title(label = 'max_features',\n",
    "# size=30, weight='bold')\n",
    "\n",
    "# sns.barplot(x='param_max_depth', y='mean_test_score', data=rs_df,\n",
    "# ax=axs[1,1], color='lightpink')\n",
    "# axs[1,1].set_ylim([.0,1])\n",
    "# axs[1,1].set_title(label = 'max_depth',\n",
    "# size=30, weight='bold')\n",
    "\n",
    "# sns.barplot(x='param_bootstrap',y='mean_test_score', data=rs_df,\n",
    "# ax=axs[1,2], color='skyblue')\n",
    "# axs[1,2].set_ylim([.0,1])\n",
    "# axs[1,2].set_title(label = 'bootstrap', size=30, weight='bold')\n",
    "\n",
    "# plt.show()"
   ]
  },
  {
   "cell_type": "code",
   "execution_count": 17,
   "id": "841c22e7",
   "metadata": {},
   "outputs": [],
   "source": [
    "# from sklearn.metrics import confusion_matrix\n",
    "\n",
    "# conf_matrix_baseline = pd.DataFrame(confusion_matrix(y_test, y_pred),\n",
    "# index = [np.unique(y_pred)[0],np.unique(y_pred)[1]], columns = [np.unique(y_pred)[0],np.unique(y_pred)[1]])\n",
    "                                   \n",
    "                                                         \n",
    "# display(conf_matrix_baseline)\n",
    "# display('Baseline Random Forest accuracy score', accuracy_score(y_test, y_pred))"
   ]
  },
  {
   "cell_type": "code",
   "execution_count": 18,
   "id": "4ea7c0ac",
   "metadata": {},
   "outputs": [],
   "source": [
    "# def run_rf(df, expl_vars, resp_var, SPLIT_RND_SEED):\n",
    "#     X = df[expl_vars]\n",
    "#     y = df[resp_var]\n",
    "    \n",
    "#     rus = RandomUnderSampler(random_state=2020)\n",
    "#     X_rus, y_rus = rus.fit_resample(X, y)\n",
    "\n",
    "# # Split dataset into training set and test set\n",
    "\n",
    "#     X_train, X_test, y_train, y_test = train_test_split(X_rus, y_rus,\n",
    "#                                                     test_size=0.3, \n",
    "#                                                     random_state=SPLIT_RND_SEED,\n",
    "#                                                     stratify = y_rus)  # 70% training and 30% test\n",
    "#     mm = MinMaxScaler()\n",
    "#     X_train_scaled = mm.fit_transform(X_train)\n",
    "#     X_test_scaled = mm.transform(X_test)\n",
    "    \n",
    "    \n",
    "#     from sklearn.ensemble import RandomForestClassifier\n",
    "    \n",
    "#     # Modify with best parameters  \n",
    "#     rf = RandomForestClassifier()\n",
    "        \n",
    "        \n",
    "# #                                 n_estimators = 500, \n",
    "# #                                 oob_score=True, \n",
    "# #                                 #random_state=rand_state, # random number to be used, needed to reproduce the same result\n",
    "# #                                 verbose=False)\n",
    "    \n",
    "#     rf_model = rf.fit(X_train_scaled, y_train)\n",
    "    \n",
    "#     y_pred = rf_model.predict(X_test_scaled)\n",
    "    \n",
    "#     # calculate class probability to derive AUC\n",
    "#     yproba = rf_model.predict_proba(X_test_scaled)[::,1]\n",
    "    \n",
    "#     from sklearn.metrics import accuracy_score\n",
    "#     accuracy = accuracy_score(y_test, y_pred)\n",
    "    \n",
    "#     from sklearn.metrics import precision_recall_fscore_support\n",
    "    \n",
    "#     prec, recall, fscore, support = precision_recall_fscore_support(y_test, y_pred)\n",
    "  \n",
    "    \n",
    "#     from sklearn.metrics import cohen_kappa_score\n",
    "        \n",
    "#     cohen_score = cohen_kappa_score(y_test, y_pred)    \n",
    "    \n",
    "#     from sklearn.metrics import roc_auc_score\n",
    "#     auc = roc_auc_score(y_test, yproba)\n",
    "\n",
    "#     label_0 = np.unique(y_pred)[0]\n",
    "#     label_1 = np.unique(y_pred)[1]\n",
    "    \n",
    "#     metrics = {\n",
    "#         'cohen_kappa': [cohen_score], \n",
    "#         'accuracy_score': [accuracy],\n",
    "#         'auc': [auc],\n",
    "#         'precision {}'.format(label_0): [prec[0]],\n",
    "#         'precision {}'.format(label_1): [prec[1]],\n",
    "#         'recall {}'.format(label_0): [recall[0]],\n",
    "#         'recall {}'.format(label_1): [recall[1]],\n",
    "#         'fscore {}'.format(label_0): [fscore[0]],\n",
    "#         'fscore {}'.format(label_1): [fscore[1]],\n",
    "\n",
    "#     }\n",
    "#     metrics_df = pd.DataFrame(data=metrics)\n",
    "    \n",
    "#     return metrics_df\n"
   ]
  },
  {
   "cell_type": "code",
   "execution_count": 19,
   "id": "eed8310b",
   "metadata": {},
   "outputs": [],
   "source": [
    "# import random\n",
    " \n",
    "# rand_list=[]\n",
    "# n=100\n",
    "# for i in range(n):\n",
    "#     rand_list.append(random.randint(100,999))"
   ]
  },
  {
   "cell_type": "code",
   "execution_count": 20,
   "id": "091a362a",
   "metadata": {},
   "outputs": [],
   "source": [
    "# # RF model, GDM Inc 2020 SB + VI\n",
    "# # expl_vars = ['blue', 'green', 'red', 'nir','ndvi', 'evi','msavi', 'arvi', 'green_red']\n",
    "# # resp_var = 'GDM_inc'\n",
    "\n",
    "# results_alldata = []\n",
    "# for r in rand_list:\n",
    "#     res_df = run_rf(vis_2020, expl_vars, resp_var, r)\n",
    "    \n",
    "#     results_alldata.append(res_df)"
   ]
  },
  {
   "cell_type": "code",
   "execution_count": 21,
   "id": "17a94f62",
   "metadata": {},
   "outputs": [],
   "source": [
    "# results_alldata_df = pd.concat(results_alldata)\n",
    "# results_alldata_df.mean()"
   ]
  },
  {
   "cell_type": "code",
   "execution_count": 22,
   "id": "99e33f7b",
   "metadata": {},
   "outputs": [],
   "source": [
    "# # AUC\n",
    "# df = vis_2020 \n",
    "\n",
    "# X = df[expl_vars]\n",
    "# y = df[resp_var]\n",
    "    \n",
    "# rus = RandomUnderSampler(random_state=2020)\n",
    "# X_rus, y_rus = rus.fit_resample(X, y)\n",
    "\n",
    "# # Split dataset into training set and test set\n",
    "\n",
    "# X_train, X_test, y_train, y_test = train_test_split(X_rus, y_rus,\n",
    "#                                                     test_size=0.3, \n",
    "#                                                     random_state=456,\n",
    "#                                                     stratify = y_rus)  # 70% training and 30% test\n",
    "# mm = MinMaxScaler()\n",
    "# X_train_scaled = mm.fit_transform(X_train)\n",
    "# X_test_scaled = mm.transform(X_test)\n",
    "    \n",
    "    \n",
    "# from sklearn.ensemble import RandomForestClassifier\n",
    "    \n",
    "#     # Modify with best parameters  \n",
    "# rf = RandomForestClassifier()\n",
    "        \n",
    "# rf_model = rf.fit(X_train_scaled, y_train)\n",
    "    \n",
    "# y_pred = rf_model.predict(X_test_scaled)\n",
    "    \n",
    "\n",
    "# label_0 = np.unique(y_pred)[0]\n",
    "# label_1 = np.unique(y_pred)[1]\n",
    "\n",
    "# from sklearn.metrics import RocCurveDisplay\n",
    "\n",
    "\n",
    "# sns.set(style=\"whitegrid\", color_codes=True, font_scale = 1)\n",
    "# fig.set_size_inches(30,25)\n",
    "# RocCurveDisplay.from_estimator(rf_model, X_test_scaled, y_test, pos_label=\"high\")\n",
    "# RocCurveDisplay.from_estimator(rf_model, X_test_scaled, y_test, pos_label=\"low\")\n",
    "\n",
    "\n",
    "# plt.show()"
   ]
  },
  {
   "cell_type": "code",
   "execution_count": 23,
   "id": "2e35a204",
   "metadata": {},
   "outputs": [],
   "source": [
    "# # https://www.imranabdullah.com/2019-06-01/Drawing-multiple-ROC-Curves-in-a-single-plot\n",
    "# from sklearn.metrics import roc_curve, roc_auc_score\n",
    "\n",
    "# # Instantiate the classfiers and make a list\n",
    "# classifiers = [RandomForestClassifier(random_state=1234)]\n",
    "\n",
    "# # Define a result table as a DataFrame\n",
    "# result_table = pd.DataFrame(columns=['classifiers', 'fpr','tpr','auc'])\n",
    "\n",
    "# # Train the models and record the results\n",
    "# for cls in classifiers:\n",
    "#     model = cls.fit(X_train_scaled, y_train)\n",
    "#     yproba = model.predict_proba(X_test_scaled)[::,1]\n",
    "    \n",
    "#     fpr, tpr, _ = roc_curve(y_test,  yproba, pos_label='high')\n",
    "#     auc = roc_auc_score(y_test, yproba)\n",
    "    \n",
    "#     result_table = result_table.append({'classifiers':cls.__class__.__name__,\n",
    "#                                         'fpr':fpr, \n",
    "#                                         'tpr':tpr, \n",
    "#                                         'auc':auc}, ignore_index=True)\n",
    "\n",
    "# # Set name of the classifiers as index labels\n",
    "# result_table.set_index('classifiers', inplace=True)"
   ]
  },
  {
   "cell_type": "code",
   "execution_count": 24,
   "id": "b5ee44ce",
   "metadata": {},
   "outputs": [],
   "source": [
    "# fig = plt.figure(figsize=(8,6))\n",
    "\n",
    "# for i in result_table.index:\n",
    "#     plt.plot(result_table.loc[i]['fpr'], \n",
    "#              result_table.loc[i]['tpr'], \n",
    "#              label=\"{}, AUC={:.3f}\".format(i, result_table.loc[i]['auc']))\n",
    "    \n",
    "# plt.plot([0,1], [0,1], color='orange', linestyle='--')\n",
    "\n",
    "# plt.xticks(np.arange(0.0, 1.1, step=0.1))\n",
    "# plt.xlabel(\"False Positive Rate\", fontsize=15)\n",
    "\n",
    "# plt.yticks(np.arange(0.0, 1.1, step=0.1))\n",
    "# plt.ylabel(\"True Positive Rate\", fontsize=15)\n",
    "\n",
    "# plt.title('ROC Curve Analysis', fontweight='bold', fontsize=15)\n",
    "# plt.legend(prop={'size':13}, loc='lower right')\n",
    "\n",
    "# plt.show()"
   ]
  },
  {
   "cell_type": "code",
   "execution_count": 25,
   "id": "f27f08a3",
   "metadata": {},
   "outputs": [
    {
     "data": {
      "text/plain": [
       "Index(['c_blue', 'blue', 'greenI', 'green', 'yellow', 'red', 'rede', 'nir',\n",
       "       'total_dis_sev', 'dm_sev', 'dm_inc', 'Date', 'inc_class',\n",
       "       'severity_class', 'pri', 'ndre', 'tcari', 'ndvi', 'evi', 'savi', 'arvi',\n",
       "       'grvi'],\n",
       "      dtype='object')"
      ]
     },
     "execution_count": 25,
     "metadata": {},
     "output_type": "execute_result"
    }
   ],
   "source": [
    "# Permutation feat. imp.\n",
    "vis_2020 = vis_2020.rename(columns={\"green_red\": \"grvi\"})\n",
    "vis_2020.columns"
   ]
  },
  {
   "cell_type": "code",
   "execution_count": 27,
   "id": "37b8c580",
   "metadata": {},
   "outputs": [],
   "source": [
    "df = vis_2020\n",
    "expl_vars = ['c_blue', 'blue', 'greenI', 'green', 'yellow', 'red', 'rede', 'nir',\n",
    "             'savi','ndvi', 'evi','pri', 'ndre', 'tcari', 'arvi', 'grvi']\n",
    "resp_var = 'inc_class'\n",
    "\n",
    "\n",
    "X = df[expl_vars]\n",
    "y = df[resp_var]\n",
    "    \n",
    "rus = RandomUnderSampler(random_state=2020)\n",
    "X_rus, y_rus = rus.fit_resample(X, y)\n",
    "\n",
    "# Split dataset into training set and test set\n",
    "\n",
    "X_train, X_test, y_train, y_test = train_test_split(X_rus, y_rus,\n",
    "                                                    test_size=0.3, \n",
    "                                                    random_state=123,\n",
    "                                                    stratify = y_rus)  # 70% training and 30% test\n",
    "mm = MinMaxScaler()\n",
    "X_train_scaled = mm.fit_transform(X_train)\n",
    "X_test_scaled = mm.transform(X_test)\n",
    "    \n",
    "    \n",
    "from sklearn.ensemble import RandomForestClassifier\n",
    "    \n",
    "# Modify with best parameters  \n",
    "rf = RandomForestClassifier(\n",
    "                                random_state= 456)\n",
    "        \n",
    "        \n",
    "#                                 n_estimators = 500, \n",
    "#                                 oob_score=True, \n",
    "#                                 #random_state=rand_state, # random number to be used, needed to reproduce the same result\n",
    "#                                 verbose=False)\n",
    "    \n",
    "rf_model = rf.fit(X_train_scaled, y_train)\n",
    "    \n",
    "#y_pred = rf_model.predict(X_test_scaled)"
   ]
  },
  {
   "cell_type": "code",
   "execution_count": 28,
   "id": "42b09bf8",
   "metadata": {},
   "outputs": [
    {
     "data": {
      "image/png": "[encoded data removed]",
      "text/plain": [
       "<Figure size 640x480 with 1 Axes>"
      ]
     },
     "metadata": {},
     "output_type": "display_data"
    }
   ],
   "source": [
    "from sklearn.inspection import permutation_importance\n",
    "\n",
    "result = permutation_importance(\n",
    "    rf_model, X_test_scaled, y_test, n_repeats=10, random_state=16, n_jobs=2\n",
    ")\n",
    "\n",
    "sorted_importances_idx = result.importances_mean.argsort()\n",
    "importances = pd.DataFrame(\n",
    "    result.importances[sorted_importances_idx].T,\n",
    "    columns=X.columns[sorted_importances_idx],\n",
    ")\n",
    "ax = importances.plot.box(vert=False, whis=10)\n",
    "ax.set_title(\"Permutation Importances (test set)\",fontname=\"Arial\")\n",
    "ax.axvline(x=0, color=\"k\", linestyle=\"--\")\n",
    "ax.set_xlabel(\"Decrease in accuracy score\",fontname=\"Arial\", fontsize = 12)\n",
    "ax.set_ylabel(\"Features\",fontname=\"Arial\", fontsize = 12)\n",
    "\n",
    "ax.figure.tight_layout()"
   ]
  },
  {
   "cell_type": "code",
   "execution_count": null,
   "id": "51538bde",
   "metadata": {},
   "outputs": [],
   "source": []
  }
 ],
 "metadata": {
  "kernelspec": {
   "display_name": "Python 3 (ipykernel)",
   "language": "python",
   "name": "python3"
  },
  "language_info": {
   "codemirror_mode": {
    "name": "ipython",
    "version": 3
   },
   "file_extension": ".py",
   "mimetype": "text/x-python",
   "name": "python",
   "nbconvert_exporter": "python",
   "pygments_lexer": "ipython3",
   "version": "3.10.6"
  }
 },
 "nbformat": 4,
 "nbformat_minor": 5
}
