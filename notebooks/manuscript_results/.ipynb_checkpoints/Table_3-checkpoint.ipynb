{
 "cells": [
  {
   "cell_type": "code",
   "execution_count": 69,
   "id": "07729c51",
   "metadata": {},
   "outputs": [],
   "source": [
    "import os\n",
    "import glob\n",
    "\n",
    "import pandas as pd\n",
    "import numpy as np\n",
    "import rasterio as rio\n",
    "\n",
    "import matplotlib.pyplot as plt\n",
    "import matplotlib.patches as mpatches\n",
    "import seaborn as sns\n",
    "\n",
    "import scipy\n",
    "from scipy import stats\n",
    "#import statannotations\n",
    "from statannot import add_stat_annotation\n"
   ]
  },
  {
   "cell_type": "code",
   "execution_count": 70,
   "id": "a8d7b33e",
   "metadata": {},
   "outputs": [],
   "source": [
    "def img_to_df(img_path, cols):\n",
    "    with rio.open(img_path) as src:\n",
    "        as_array = src.read()\n",
    "        band_arrs = []\n",
    "        \n",
    "        for i in np.arange(src.count):\n",
    "            band_arr = as_array[i].flatten()\n",
    "            band_arr = band_arr/10000\n",
    "            \n",
    "            band_arrs.append(band_arr)\n",
    "        \n",
    "        df = pd.DataFrame(band_arrs,cols).T\n",
    "        df['Date'] = img_path.split('/')[-1].split('_')[0]\n",
    "        \n",
    "        # Optional: drops entries with no severity rating. Comment out if unnecessary.\n",
    "        no_nans = df.dropna(subset=['total_dis_sev', 'dm_sev', 'dm_inc']) \n",
    "        \n",
    "        return no_nans"
   ]
  },
  {
   "cell_type": "code",
   "execution_count": 71,
   "id": "3a4c819e",
   "metadata": {},
   "outputs": [],
   "source": [
    "def add_vis(df):\n",
    "    df['pri']= (df['green']- df['greenI'])/(df['green']+df['greenI'])\n",
    "    df['clre'] = (df['nir']/df['rede'])-1\n",
    "    df['ndre'] = (df['nir'] - df['rede']) / (df['nir'] + df['rede'])\n",
    "    df['tcari'] = 3 * (( (df['rede'] - df['red']) - 0.2 * (df['rede'] - df['green']) ) * (df['rede'] / df['red']))\n",
    "    df['ndvi']= (df['nir']-df['red'])/(df['nir']+df['red'])\n",
    "    df['evi']= 2.5*(df['nir']-df['red'])/(df['nir']+6*df['red']-7.5*df['blue']+1)\n",
    "    df['savi']= 1.5*(df['nir']-df['red'])/(df['nir']+df['red']+0.5)\n",
    "    df['msavi']=((2*(df['nir']) + 1 - np.sqrt((2*df['nir'] + 1)*2 - 8*(df['nir'] - df['red'])))/2)\n",
    "    df['sr']= df['nir']/df['red']\n",
    "    df['msr']= ((df['nir']/df['red'])-1)/(np.sqrt((df['nir']/df['red'])+1))\n",
    "    df['gri']=df['green']/df['red']\n",
    "    df['arvi']=(df['nir']-(2*df['red']-df['blue']))/(df['nir']+(2*df['red']-df['blue']))\n",
    "    df['cblue_blue'] = (df['c_blue']-df['blue'])/(df['c_blue']+df['blue'])\n",
    "    df['greenI_cblue'] = (df['greenI']-df['c_blue'])/(df['c_blue']+df['greenI'])\n",
    "    df['green_cblue'] = (df['green']-df['c_blue'])/(df['c_blue']+df['green'])\n",
    "    df['yellow_cblue'] = (df['yellow']-df['c_blue'])/(df['c_blue']+df['yellow'])\n",
    "    df['cblue_red'] = (df['c_blue']-df['red'])/(df['c_blue']+df['red'])\n",
    "    df['rede_cblue'] = (df['rede']-df['c_blue'])/(df['c_blue']+df['rede'])\n",
    "    df['nir_cblue'] = (df['nir']-df['c_blue'])/(df['c_blue']+df['nir'])\n",
    "    df['greenI_blue'] = (df['greenI']-df['blue'])/(df['blue']+df['greenI'])\n",
    "    df['green_blue'] = (df['green']-df['blue'])/(df['blue']+df['green'])\n",
    "    df['yellow_blue'] = (df['yellow']-df['blue'])/(df['blue']+df['yellow'])\n",
    "    df['blue_red'] = (df['blue']-df['red'])/(df['blue']+df['red'])\n",
    "    df['rede_blue'] = (df['rede']-df['blue'])/(df['blue']+df['rede'])\n",
    "    df['nir_blue'] = (df['nir']-df['blue'])/(df['nir']+df['blue'])\n",
    "    df['greenI_yellow'] = (df['greenI']-df['yellow'])/(df['greenI']+df['yellow'])\n",
    "    df['greenI_red'] = (df['greenI']-df['red'])/(df['greenI']+df['red'])\n",
    "    df['rede_greenI'] = (df['rede']-df['greenI'])/(df['greenI']+df['rede'])\n",
    "    df['nir_greenI'] = (df['nir']-df['greenI'])/(df['greenI']+df['nir'])\n",
    "    df['green_yellow'] = (df['green']-df['yellow'])/(df['green']+df['yellow'])\n",
    "    df['green_red'] = (df['green']-df['red'])/(df['green']+df['red'])\n",
    "    df['rede_green'] = (df['rede']-df['green'])/(df['green']+df['rede'])\n",
    "    df['nir_green'] = (df['nir']-df['green'])/(df['green']+df['nir'])\n",
    "    df['yellow_red'] = (df['yellow']-df['red'])/(df['yellow']+df['red'])\n",
    "    df['rede_yellow'] = (df['rede']-df['yellow'])/(df['yellow']+df['rede'])\n",
    "    df['nir_yellow'] = (df['nir']-df['yellow'])/(df['yellow']+df['nir'])\n",
    "    df['rede_red']= (df['rede']-df['red'])/(df['rede']+df['red'])\n",
    "\n",
    "\n",
    "    \n",
    "    return df"
   ]
  },
  {
   "cell_type": "code",
   "execution_count": 72,
   "id": "2f6e82cb",
   "metadata": {},
   "outputs": [],
   "source": [
    "data_dir = ('/Users/kathleenkanaley/Desktop/grapes_from_space/data/')\n",
    "dis_ras_20 = glob.glob(data_dir+'images/2020/PScope/dis_band_*/*.tif')\n",
    "dis_ras_21 = glob.glob(data_dir+'images/2021/PScope/dis_band_*/*.tif')\n",
    "dis_ras_22 = glob.glob(data_dir+'images/2022/PScope/dis_band_*/*.tif')"
   ]
  },
  {
   "cell_type": "code",
   "execution_count": 73,
   "id": "b70d6b17",
   "metadata": {},
   "outputs": [
    {
     "data": {
      "text/plain": [
       "['/Users/kathleenkanaley/Desktop/grapes_from_space/data/images/2020/PScope/dis_band_2020/20200801_151354_03_2212_3B_AnalyticMS_SR_8b_harmonized_clip_clipped.tif_disease.tif',\n",
       " '/Users/kathleenkanaley/Desktop/grapes_from_space/data/images/2020/PScope/dis_band_2020/20200713_151457_44_2278_3B_AnalyticMS_SR_8b_harmonized_clip_clipped.tif_disease.tif',\n",
       " '/Users/kathleenkanaley/Desktop/grapes_from_space/data/images/2020/PScope/dis_band_2020/20200616_151605_21_2304_3B_AnalyticMS_SR_8b_harmonized_clip_clipped.tif_disease.tif']"
      ]
     },
     "execution_count": 73,
     "metadata": {},
     "output_type": "execute_result"
    }
   ],
   "source": [
    "dis_ras_20"
   ]
  },
  {
   "cell_type": "code",
   "execution_count": 74,
   "id": "12e13093",
   "metadata": {},
   "outputs": [
    {
     "data": {
      "text/plain": [
       "Index(['c_blue', 'blue', 'greenI', 'green', 'yellow', 'red', 'rede', 'nir',\n",
       "       'total_dis_sev', 'dm_sev', 'dm_inc', 'Date', 'inc_class',\n",
       "       'severity_class', 'pri', 'clre', 'ndre', 'tcari', 'ndvi', 'evi', 'savi',\n",
       "       'msavi', 'sr', 'msr', 'gri', 'arvi', 'cblue_blue', 'greenI_cblue',\n",
       "       'green_cblue', 'yellow_cblue', 'cblue_red', 'rede_cblue', 'nir_cblue',\n",
       "       'greenI_blue', 'green_blue', 'yellow_blue', 'blue_red', 'rede_blue',\n",
       "       'nir_blue', 'greenI_yellow', 'greenI_red', 'rede_greenI', 'nir_greenI',\n",
       "       'green_yellow', 'green_red', 'rede_green', 'nir_green', 'yellow_red',\n",
       "       'rede_yellow', 'nir_yellow', 'rede_red'],\n",
       "      dtype='object')"
      ]
     },
     "execution_count": 74,
     "metadata": {},
     "output_type": "execute_result"
    }
   ],
   "source": [
    "cols = ['c_blue','blue','greenI', 'green', 'yellow', 'red', 'rede', 'nir','total_dis_sev','dm_sev', 'dm_inc']\n",
    "\n",
    "# Get a dataframe for all 2020 images\n",
    "\n",
    "dfs_2020 = [img_to_df(dis_ras_20[i], cols) for i in np.arange(len(dis_ras_20))]\n",
    "df_2020 = pd.concat(dfs_2020)\n",
    "\n",
    "df_2020['total_dis_sev'] = df_2020['total_dis_sev']*10000\n",
    "df_2020['dm_sev'] = df_2020['dm_sev']*10000\n",
    "df_2020['dm_inc'] = df_2020['dm_inc']*10000\n",
    "\n",
    "df_2020['inc_class'] = 'low'\n",
    "df_2020.loc[df_2020['dm_inc']>25,'inc_class']= 'high'\n",
    "    \n",
    "df_2020['severity_class'] = 'low'\n",
    "df_2020.loc[df_2020['dm_sev']>10,'severity_class']= 'high'\n",
    "\n",
    "vis_2020 = add_vis(df_2020)\n",
    "\n",
    "vis_2020.columns"
   ]
  },
  {
   "cell_type": "code",
   "execution_count": 75,
   "id": "76a1d3e9",
   "metadata": {},
   "outputs": [
    {
     "data": {
      "text/plain": [
       "array(['20200801'], dtype=object)"
      ]
     },
     "execution_count": 75,
     "metadata": {},
     "output_type": "execute_result"
    }
   ],
   "source": [
    "vis_2020.Date.unique()"
   ]
  },
  {
   "cell_type": "code",
   "execution_count": 77,
   "id": "977354f2",
   "metadata": {},
   "outputs": [],
   "source": [
    "# Get df for 2021 and 2022\n",
    "\n",
    "#2021\n",
    "\n",
    "dfs_2021 = [img_to_df(dis_ras_21[i], cols) for i in np.arange(len(dis_ras_21))]\n",
    "df_2021 = pd.concat(dfs_2021)\n",
    "\n",
    "df_2021['total_dis_sev'] = df_2021['total_dis_sev']*10000\n",
    "df_2021['dm_sev'] = df_2021['dm_sev']*10000\n",
    "df_2021['dm_inc'] = df_2021['dm_inc']*10000\n",
    "\n",
    "df_2021['inc_class'] = 'low'\n",
    "df_2021.loc[df_2021['dm_inc']>25,'inc_class']= 'high'\n",
    "    \n",
    "df_2021['severity_class'] = 'low'\n",
    "df_2021.loc[df_2021['dm_sev']>10,'severity_class']= 'high'\n",
    "\n",
    "vis_2021 = add_vis(df_2021)\n",
    "vis_2021 = vis_2021[vis_2021['Date']!='20210804']\n",
    "#vis_2021.columns\n",
    "\n"
   ]
  },
  {
   "cell_type": "code",
   "execution_count": 78,
   "id": "587651fb",
   "metadata": {},
   "outputs": [
    {
     "name": "stdout",
     "output_type": "stream",
     "text": [
      "['20220726' '20220801' '20220630' '20220704' '20220624']\n",
      "['20210808' '20210726' '20210715']\n"
     ]
    }
   ],
   "source": [
    "#2022 df\n",
    "\n",
    "dfs_2022 = [img_to_df(dis_ras_22[i], cols) for i in np.arange(len(dis_ras_22))]\n",
    "df_2022 = pd.concat(dfs_2022)\n",
    "\n",
    "df_2022['total_dis_sev'] = df_2022['total_dis_sev']*10000\n",
    "df_2022['dm_sev'] = df_2022['dm_sev']*10000\n",
    "df_2022['dm_inc'] = df_2022['dm_inc']*10000\n",
    "\n",
    "df_2022['inc_class'] = 'low'\n",
    "df_2022.loc[df_2022['dm_inc']>25,'inc_class']= 'high'\n",
    "    \n",
    "df_2022['severity_class'] = 'low'\n",
    "df_2022.loc[df_2022['dm_sev']>10,'severity_class']= 'high'\n",
    "\n",
    "vis_2022 = add_vis(df_2022)\n",
    "\n",
    "print(vis_2022.Date.unique())\n",
    "print(vis_2021.Date.unique())"
   ]
  },
  {
   "cell_type": "code",
   "execution_count": 79,
   "id": "8ac11dda",
   "metadata": {},
   "outputs": [],
   "source": [
    "def spearman_df(veg_inds, df, var_name):\n",
    "    corr_coeffs = []\n",
    "    p_vals = []\n",
    "    vi_list = []\n",
    "    \n",
    "    for vi in veg_inds:\n",
    "        sp_r, p = scipy.stats.spearmanr(df[var_name], df[vi])\n",
    "        corr_coeffs.append(sp_r)\n",
    "        p_vals.append(p)\n",
    "        vi_list.append(vi)\n",
    "        dictionary = {'vi':vi_list,'spearmans_r':corr_coeffs, 'p_value':p_vals}\n",
    "        corr_df = pd.DataFrame(dictionary).sort_values(by='spearmans_r')\n",
    "        \n",
    "    return corr_df"
   ]
  },
  {
   "cell_type": "code",
   "execution_count": 80,
   "id": "e4280c39",
   "metadata": {},
   "outputs": [
    {
     "name": "stdout",
     "output_type": "stream",
     "text": [
      "Spearman's rank correlation, GDM Severity 2020\n",
      "\n",
      "                vi  spearmans_r       p_value\n",
      "27   green_yellow    -0.503692  2.962258e-20\n",
      "32    rede_yellow    -0.500112  6.000367e-20\n",
      "33     nir_yellow    -0.484095  1.277959e-18\n",
      "23  greenI_yellow    -0.472495  1.061624e-17\n",
      "10     cblue_blue    -0.331055  6.357033e-09\n",
      "14      cblue_red    -0.326211  1.083527e-08\n",
      "26     nir_greenI    -0.313708  4.111972e-08\n",
      "0             pri    -0.275252  1.717229e-06\n",
      "18     green_blue    -0.247175  1.873557e-05\n",
      "25    rede_greenI    -0.247097  1.885279e-05\n",
      "7           msavi    -0.222834  1.198293e-04\n",
      "6            savi    -0.202566  4.852101e-04\n",
      "22       nir_blue    -0.200643  5.503399e-04\n",
      "21      rede_blue    -0.190648  1.039703e-03\n",
      "8             gri    -0.180504  1.921913e-03\n",
      "28      green_red    -0.180504  1.921913e-03\n",
      "5             evi    -0.174062  2.793554e-03\n",
      "3           tcari    -0.160685  5.839375e-03\n",
      "4            ndvi    -0.150299  9.984706e-03\n",
      "34       rede_red    -0.140399  1.617743e-02\n",
      "9            arvi    -0.111129  5.743571e-02\n",
      "2            ndre    -0.052411  3.713707e-01\n",
      "1            clre    -0.052396  3.715058e-01\n",
      "30      nir_green    -0.048595  4.072457e-01\n",
      "17    greenI_blue     0.014248  8.081168e-01\n",
      "24     greenI_red     0.023769  6.853447e-01\n",
      "29     rede_green     0.033577  5.670222e-01\n",
      "20       blue_red     0.034369  5.578967e-01\n",
      "16      nir_cblue     0.179717  2.013055e-03\n",
      "15     rede_cblue     0.217101  1.803618e-04\n",
      "12    green_cblue     0.223762  1.120473e-04\n",
      "11   greenI_cblue     0.289786  4.467983e-07\n",
      "19    yellow_blue     0.460214  9.164906e-17\n",
      "31     yellow_red     0.490445  3.874922e-19\n",
      "13   yellow_cblue     0.501804  4.303063e-20\n"
     ]
    }
   ],
   "source": [
    "vis = ['pri', 'clre', 'ndre', 'tcari', 'ndvi', 'evi', 'savi','msavi',\n",
    "       'gri', 'arvi', 'cblue_blue', 'greenI_cblue', 'green_cblue',\n",
    "       'yellow_cblue', 'cblue_red', 'rede_cblue', 'nir_cblue', 'greenI_blue',\n",
    "       'green_blue', 'yellow_blue', 'blue_red', 'rede_blue', 'nir_blue',\n",
    "       'greenI_yellow', 'greenI_red', 'rede_greenI', 'nir_greenI',\n",
    "       'green_yellow', 'green_red', 'rede_green', 'nir_green', 'yellow_red',\n",
    "       'rede_yellow', 'nir_yellow', 'rede_red']\n",
    "\n",
    "spear_20 = spearman_df(vis, vis_2020, 'dm_sev')\n",
    "print(\"Spearman's rank correlation, GDM Severity 2020\\n\\n\", spear_20)"
   ]
  },
  {
   "cell_type": "code",
   "execution_count": 81,
   "id": "22b0d2de",
   "metadata": {},
   "outputs": [
    {
     "name": "stdout",
     "output_type": "stream",
     "text": [
      "Spearman's rank correlation, GDM Incidence 2020\n",
      "\n",
      "                vi  spearmans_r       p_value\n",
      "27   green_yellow    -0.613601  1.065020e-31\n",
      "33     nir_yellow    -0.603138  2.051225e-30\n",
      "32    rede_yellow    -0.600202  4.612876e-30\n",
      "23  greenI_yellow    -0.574182  4.277639e-27\n",
      "26     nir_greenI    -0.402588  7.649366e-13\n",
      "0             pri    -0.347595  9.583293e-10\n",
      "28      green_red    -0.340891  2.091288e-09\n",
      "8             gri    -0.340891  2.091288e-09\n",
      "5             evi    -0.308234  7.234150e-08\n",
      "6            savi    -0.305653  9.405077e-08\n",
      "7           msavi    -0.302689  1.267369e-07\n",
      "14      cblue_red    -0.296168  2.414306e-07\n",
      "4            ndvi    -0.292749  3.363781e-07\n",
      "18     green_blue    -0.282201  9.106873e-07\n",
      "9            arvi    -0.279272  1.192325e-06\n",
      "25    rede_greenI    -0.276899  1.479832e-06\n",
      "3           tcari    -0.275005  1.755828e-06\n",
      "34       rede_red    -0.269809  2.788160e-06\n",
      "22       nir_blue    -0.250738  1.404421e-05\n",
      "10     cblue_blue    -0.245767  2.097022e-05\n",
      "21      rede_blue    -0.209005  3.155908e-04\n",
      "1            clre    -0.123316  3.487009e-02\n",
      "2            ndre    -0.123314  3.487330e-02\n",
      "20       blue_red    -0.118324  4.298675e-02\n",
      "30      nir_green    -0.111416  5.679025e-02\n",
      "24     greenI_red    -0.064484  2.712352e-01\n",
      "17    greenI_blue     0.051780  3.771593e-01\n",
      "29     rede_green     0.059259  3.120667e-01\n",
      "16      nir_cblue     0.087181  1.365496e-01\n",
      "15     rede_cblue     0.129779  2.632626e-02\n",
      "12    green_cblue     0.139025  1.725985e-02\n",
      "11   greenI_cblue     0.236641  4.284133e-05\n",
      "13   yellow_cblue     0.515926  2.490626e-21\n",
      "31     yellow_red     0.556982  2.832360e-25\n",
      "19    yellow_blue     0.572872  5.938313e-27\n"
     ]
    }
   ],
   "source": [
    "spear_20inc = spearman_df(vis, vis_2020, 'dm_inc')\n",
    "print(\"Spearman's rank correlation, GDM Incidence 2020\\n\\n\", spear_20inc)"
   ]
  },
  {
   "cell_type": "code",
   "execution_count": 65,
   "id": "ffd6c9a3",
   "metadata": {},
   "outputs": [
    {
     "name": "stdout",
     "output_type": "stream",
     "text": [
      "Spearman's rank correlation, GDM Severity 2021\n",
      "\n",
      "                vi  spearmans_r       p_value\n",
      "26     nir_greenI    -0.355209  5.325332e-75\n",
      "16      nir_cblue    -0.348831  3.203404e-72\n",
      "34       rede_red    -0.348602  4.020223e-72\n",
      "13   yellow_cblue    -0.344582  2.098018e-70\n",
      "25    rede_greenI    -0.341231  5.421637e-69\n",
      "12    green_cblue    -0.331593  5.015191e-65\n",
      "15     rede_cblue    -0.330683  1.168327e-64\n",
      "8             gri    -0.330253  1.739398e-64\n",
      "28      green_red    -0.330252  1.742504e-64\n",
      "11   greenI_cblue    -0.322900  1.436525e-61\n",
      "3           tcari    -0.306772  1.882962e-55\n",
      "27   green_yellow    -0.300955  2.448335e-53\n",
      "4            ndvi    -0.297656  3.686241e-52\n",
      "32    rede_yellow    -0.289971  1.779936e-49\n",
      "6            savi    -0.288685  4.914734e-49\n",
      "33     nir_yellow    -0.287165  1.620405e-48\n",
      "7           msavi    -0.276103  7.691230e-45\n",
      "5             evi    -0.275123  1.598471e-44\n",
      "30      nir_green    -0.264711  3.148208e-41\n",
      "0             pri    -0.261427  3.215262e-40\n",
      "22       nir_blue    -0.255672  1.742504e-38\n",
      "9            arvi    -0.248660  1.972287e-36\n",
      "29     rede_green    -0.209967  3.157049e-26\n",
      "2            ndre    -0.207924  9.688241e-26\n",
      "1            clre    -0.207924  9.688420e-26\n",
      "20       blue_red    -0.111089  2.698128e-08\n",
      "21      rede_blue    -0.085894  1.757777e-05\n",
      "23  greenI_yellow    -0.064099  1.367107e-03\n",
      "18     green_blue    -0.003652  8.554293e-01\n",
      "24     greenI_red     0.018554  3.545238e-01\n",
      "31     yellow_red     0.120818  1.444968e-09\n",
      "19    yellow_blue     0.221767  3.860004e-29\n",
      "17    greenI_blue     0.265773  1.475492e-41\n",
      "14      cblue_red     0.307933  7.031861e-56\n",
      "10     cblue_blue     0.326467  5.653819e-63\n"
     ]
    }
   ],
   "source": [
    "spear_21sev = spearman_df(vis, vis_2021, 'dm_sev')\n",
    "print(\"Spearman's rank correlation, GDM Severity 2021\\n\\n\", spear_21sev)"
   ]
  },
  {
   "cell_type": "code",
   "execution_count": 82,
   "id": "7b76c699",
   "metadata": {},
   "outputs": [
    {
     "name": "stdout",
     "output_type": "stream",
     "text": [
      "Spearman's rank correlation, GDM Incidence 2021\n",
      "\n",
      "                vi  spearmans_r       p_value\n",
      "33     nir_yellow    -0.417722  8.010474e-80\n",
      "27   green_yellow    -0.415896  4.491561e-79\n",
      "32    rede_yellow    -0.415199  8.652909e-79\n",
      "26     nir_greenI    -0.413345  4.907176e-78\n",
      "16      nir_cblue    -0.408234  5.551498e-76\n",
      "12    green_cblue    -0.406267  3.348592e-75\n",
      "25    rede_greenI    -0.405804  5.106781e-75\n",
      "0             pri    -0.405315  7.958952e-75\n",
      "15     rede_cblue    -0.402330  1.179819e-73\n",
      "11   greenI_cblue    -0.400639  5.372584e-73\n",
      "4            ndvi    -0.390413  4.255700e-69\n",
      "13   yellow_cblue    -0.389079  1.341363e-68\n",
      "34       rede_red    -0.379211  5.554691e-65\n",
      "3           tcari    -0.365295  4.333714e-60\n",
      "6            savi    -0.355672  7.607914e-57\n",
      "30      nir_green    -0.353790  3.184268e-56\n",
      "5             evi    -0.348783  1.368081e-54\n",
      "8             gri    -0.342975  9.847448e-53\n",
      "28      green_red    -0.342973  9.866586e-53\n",
      "7           msavi    -0.329129  1.838680e-48\n",
      "9            arvi    -0.290077  1.467577e-37\n",
      "29     rede_green    -0.263715  4.159025e-31\n",
      "22       nir_blue    -0.248139  1.270755e-27\n",
      "1            clre    -0.236129  4.267131e-25\n",
      "2            ndre    -0.236128  4.267556e-25\n",
      "21      rede_blue    -0.168474  2.283884e-13\n",
      "18     green_blue    -0.106523  3.926293e-06\n",
      "23  greenI_yellow    -0.018819  4.161483e-01\n",
      "20       blue_red     0.003490  8.801381e-01\n",
      "24     greenI_red     0.195410  1.533224e-17\n",
      "31     yellow_red     0.255724  2.732765e-29\n",
      "19    yellow_blue     0.320720  5.655652e-46\n",
      "17    greenI_blue     0.333932  6.420459e-50\n",
      "14      cblue_red     0.394778  9.587565e-71\n",
      "10     cblue_blue     0.419654  1.278142e-80\n"
     ]
    }
   ],
   "source": [
    "spear_21inc = spearman_df(vis, vis_2021, 'dm_inc')\n",
    "print(\"Spearman's rank correlation, GDM Incidence 2021\\n\\n\", spear_21inc)"
   ]
  },
  {
   "cell_type": "code",
   "execution_count": 67,
   "id": "99ee0336",
   "metadata": {},
   "outputs": [
    {
     "name": "stdout",
     "output_type": "stream",
     "text": [
      "Spearman's rank correlation, GDM Severity 2022\n",
      "\n",
      "                vi  spearmans_r       p_value\n",
      "29     rede_green    -0.061533  5.900345e-04\n",
      "10     cblue_blue    -0.051544  4.007949e-03\n",
      "25    rede_greenI    -0.045921  1.036885e-02\n",
      "14      cblue_red    -0.019283  2.819667e-01\n",
      "20       blue_red     0.001819  9.191758e-01\n",
      "19    yellow_blue     0.008902  6.194191e-01\n",
      "0             pri     0.018420  3.040865e-01\n",
      "3           tcari     0.019405  2.789349e-01\n",
      "31     yellow_red     0.022200  2.154602e-01\n",
      "34       rede_red     0.029428  1.005586e-01\n",
      "32    rede_yellow     0.032559  6.923009e-02\n",
      "24     greenI_red     0.038046  3.372608e-02\n",
      "13   yellow_cblue     0.039989  2.562291e-02\n",
      "21      rede_blue     0.042093  1.880467e-02\n",
      "23  greenI_yellow     0.062223  5.113291e-04\n",
      "5             evi     0.067280  1.714286e-04\n",
      "30      nir_green     0.068262  1.374296e-04\n",
      "17    greenI_blue     0.068894  1.190193e-04\n",
      "9            arvi     0.072200  5.500706e-05\n",
      "15     rede_cblue     0.076564  1.887586e-05\n",
      "6            savi     0.077303  1.566077e-05\n",
      "7           msavi     0.078257  1.227628e-05\n",
      "4            ndvi     0.081880  4.745050e-06\n",
      "28      green_red     0.083190  3.332104e-06\n",
      "8             gri     0.083191  3.331263e-06\n",
      "33     nir_yellow     0.097716  4.638238e-08\n",
      "11   greenI_cblue     0.100764  1.741187e-08\n",
      "12    green_cblue     0.108149  1.436008e-09\n",
      "22       nir_blue     0.117854  4.166354e-11\n",
      "27   green_yellow     0.119728  2.031712e-11\n",
      "18     green_blue     0.123066  5.498904e-12\n",
      "26     nir_greenI     0.134589  4.591558e-14\n",
      "2            ndre     0.136803  1.743032e-14\n",
      "1            clre     0.136805  1.741784e-14\n",
      "16      nir_cblue     0.164375  2.623910e-20\n"
     ]
    }
   ],
   "source": [
    "spear_22sev = spearman_df(vis, vis_2022, 'dm_sev')\n",
    "print(\"Spearman's rank correlation, GDM Severity 2022\\n\\n\", spear_22sev)"
   ]
  },
  {
   "cell_type": "code",
   "execution_count": 68,
   "id": "e8dc6fc0",
   "metadata": {},
   "outputs": [
    {
     "name": "stdout",
     "output_type": "stream",
     "text": [
      "Spearman's rank correlation, GDM Incidence 2022\n",
      "\n",
      "                vi  spearmans_r   p_value\n",
      "19    yellow_blue    -0.059091  0.000968\n",
      "18     green_blue    -0.032474  0.069953\n",
      "13   yellow_cblue    -0.025489  0.154958\n",
      "0             pri    -0.024934  0.164143\n",
      "31     yellow_red    -0.015675  0.381824\n",
      "17    greenI_blue    -0.013481  0.451963\n",
      "12    green_cblue    -0.011829  0.509286\n",
      "21      rede_blue    -0.004263  0.812007\n",
      "11   greenI_cblue    -0.002108  0.906386\n",
      "10     cblue_blue     0.000075  0.996651\n",
      "15     rede_cblue     0.001758  0.921891\n",
      "14      cblue_red     0.017345  0.333176\n",
      "25    rede_greenI     0.021657  0.226903\n",
      "8             gri     0.023050  0.198398\n",
      "28      green_red     0.023051  0.198372\n",
      "27   green_yellow     0.027796  0.120895\n",
      "29     rede_green     0.030581  0.087914\n",
      "3           tcari     0.031842  0.075584\n",
      "24     greenI_red     0.032127  0.073004\n",
      "34       rede_red     0.037098  0.038416\n",
      "20       blue_red     0.046830  0.008948\n",
      "32    rede_yellow     0.052012  0.003688\n",
      "23  greenI_yellow     0.057126  0.001424\n",
      "9            arvi     0.064994  0.000284\n",
      "4            ndvi     0.065330  0.000264\n",
      "22       nir_blue     0.072263  0.000054\n",
      "7           msavi     0.072405  0.000052\n",
      "33     nir_yellow     0.073072  0.000045\n",
      "5             evi     0.073249  0.000043\n",
      "6            savi     0.073528  0.000040\n",
      "16      nir_cblue     0.076433  0.000020\n",
      "30      nir_green     0.079482  0.000009\n",
      "26     nir_greenI     0.081983  0.000005\n",
      "1            clre     0.085990  0.000002\n",
      "2            ndre     0.085990  0.000002\n"
     ]
    }
   ],
   "source": [
    "spear_22inc = spearman_df(vis, vis_2022, 'dm_inc')\n",
    "print(\"Spearman's rank correlation, GDM Incidence 2022\\n\\n\", spear_22inc)"
   ]
  },
  {
   "cell_type": "code",
   "execution_count": null,
   "id": "3ebe206a",
   "metadata": {},
   "outputs": [],
   "source": []
  }
 ],
 "metadata": {
  "kernelspec": {
   "display_name": "Python 3 (ipykernel)",
   "language": "python",
   "name": "python3"
  },
  "language_info": {
   "codemirror_mode": {
    "name": "ipython",
    "version": 3
   },
   "file_extension": ".py",
   "mimetype": "text/x-python",
   "name": "python",
   "nbconvert_exporter": "python",
   "pygments_lexer": "ipython3",
   "version": "3.10.6"
  }
 },
 "nbformat": 4,
 "nbformat_minor": 5
}
