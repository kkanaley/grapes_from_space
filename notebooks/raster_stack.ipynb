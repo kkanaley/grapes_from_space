{
 "cells": [
  {
   "cell_type": "code",
   "execution_count": 1,
   "id": "296169d1",
   "metadata": {},
   "outputs": [],
   "source": [
    "import os\n",
    "import glob\n",
    "import rasterio as rio\n",
    "import numpy as np\n",
    "import pandas as pd\n",
    "import matplotlib.pyplot as plt\n",
    "\n",
    "import scipy.stats"
   ]
  },
  {
   "cell_type": "markdown",
   "id": "5be7dccf",
   "metadata": {},
   "source": [
    "# 1. Stack interpolated disease intensity rasters with DORA anomaly rasters"
   ]
  },
  {
   "cell_type": "code",
   "execution_count": 2,
   "id": "61a127a0",
   "metadata": {},
   "outputs": [
    {
     "data": {
      "text/plain": [
       "['../data/images/2020/PScope/dis_band_2020/20200801_151354_03_2212_3B_AnalyticMS_SR_8b_harmonized_clip_clipped.tif_disease.tif',\n",
       " '../data/images/2020/PScope/dis_band_2020/20200713_151457_44_2278_3B_AnalyticMS_SR_8b_harmonized_clip_clipped.tif_disease.tif',\n",
       " '../data/images/2020/PScope/dis_band_2020/20200616_151605_21_2304_3B_AnalyticMS_SR_8b_harmonized_clip_clipped.tif_disease.tif']"
      ]
     },
     "execution_count": 2,
     "metadata": {},
     "output_type": "execute_result"
    }
   ],
   "source": [
    "# Get list of interpolated dis. intensity rasters for 2020\n",
    "\n",
    "dis_ras = glob.glob('../data/images/2020/PScope/dis_band_*/*.tif')\n",
    "dis_ras"
   ]
  },
  {
   "cell_type": "code",
   "execution_count": 3,
   "id": "007d3194",
   "metadata": {},
   "outputs": [
    {
     "data": {
      "text/plain": [
       "['/Users/kathleenkanaley/Desktop/dora/dora/sample_data/grapes/results/raster_patches_test/PS_2020/20200616/lrx-inner_window=2-outer_window=5-bands=8/scores_raster_lrx.tif',\n",
       " '/Users/kathleenkanaley/Desktop/dora/dora/sample_data/grapes/results/raster_patches_test/PS_2020/20200713/lrx-inner_window=2-outer_window=5-bands=8/scores_raster_lrx.tif',\n",
       " '/Users/kathleenkanaley/Desktop/dora/dora/sample_data/grapes/results/raster_patches_test/PS_2020/20200801/lrx-inner_window=2-outer_window=5-bands=8/scores_raster_lrx.tif']"
      ]
     },
     "execution_count": 3,
     "metadata": {},
     "output_type": "execute_result"
    }
   ],
   "source": [
    "# Get list of anomaly rasters 2020\n",
    "\n",
    "anom_ras = glob.glob('/Users/kathleenkanaley/Desktop/dora/dora/sample_data/grapes/results/raster_patches_test/PS_2020/*/lrx-inner_window=2-outer_window=5-bands=8/scores_raster_lrx.tif')\n",
    "anom_ras"
   ]
  },
  {
   "cell_type": "code",
   "execution_count": 4,
   "id": "10d2523e",
   "metadata": {},
   "outputs": [
    {
     "name": "stdout",
     "output_type": "stream",
     "text": [
      "Disease raster CRS: EPSG:32618\n",
      "Anomaly raster CRS: EPSG:32618\n"
     ]
    },
    {
     "data": {
      "text/plain": [
       "<matplotlib.image.AxesImage at 0x154028d60>"
      ]
     },
     "execution_count": 4,
     "metadata": {},
     "output_type": "execute_result"
    },
    {
     "data": {
      "image/png": "[encoded data removed]",
      "text/plain": [
       "<Figure size 640x480 with 1 Axes>"
      ]
     },
     "metadata": {},
     "output_type": "display_data"
    }
   ],
   "source": [
    "# Test with 2020-06-16 first\n",
    "\n",
    "june_dis = dis_ras[2]\n",
    "june_anom = anom_ras[0]\n",
    "\n",
    "# july_dis = dis_ras[1]\n",
    "# july_anom = anom_ras[1]\n",
    "\n",
    "# aug_dis = dis_ras[1]\n",
    "# aug_anom = anom_ras[2]\n",
    "\n",
    "# dis_ras = [june_dis, july_dis, aug_dis]\n",
    "# anom_ras = [june_anom, july_anom, aug_anom]\n",
    "\n",
    "with rio.open(june_dis) as src:\n",
    "    june_dis_arr = src.read()\n",
    "    print('Disease raster CRS:',src.crs)\n",
    "\n",
    "with rio.open(june_anom) as src:\n",
    "    june_anom_arr = src.read()\n",
    "    print('Anomaly raster CRS:',src.crs)\n",
    "\n",
    "# Plot the total disease severity band\n",
    "plt.imshow(june_dis_arr[8])"
   ]
  },
  {
   "cell_type": "code",
   "execution_count": 5,
   "id": "5d5fd4d7",
   "metadata": {},
   "outputs": [
    {
     "data": {
      "text/plain": [
       "<matplotlib.image.AxesImage at 0x154150670>"
      ]
     },
     "execution_count": 5,
     "metadata": {},
     "output_type": "execute_result"
    },
    {
     "data": {
      "image/png": "[encoded data removed]",
      "text/plain": [
       "<Figure size 640x480 with 1 Axes>"
      ]
     },
     "metadata": {},
     "output_type": "display_data"
    }
   ],
   "source": [
    "# Plot the anomaly scores\n",
    "plt.imshow(june_anom_arr[0])"
   ]
  },
  {
   "cell_type": "code",
   "execution_count": 6,
   "id": "757d4a45",
   "metadata": {},
   "outputs": [
    {
     "data": {
      "text/plain": [
       "(1, 22, 41)"
      ]
     },
     "execution_count": 6,
     "metadata": {},
     "output_type": "execute_result"
    }
   ],
   "source": [
    "june_anom_arr.shape"
   ]
  },
  {
   "cell_type": "code",
   "execution_count": 7,
   "id": "863a25ef",
   "metadata": {},
   "outputs": [
    {
     "data": {
      "text/plain": [
       "(11, 22, 41)"
      ]
     },
     "execution_count": 7,
     "metadata": {},
     "output_type": "execute_result"
    }
   ],
   "source": [
    "june_dis_arr.shape"
   ]
  },
  {
   "cell_type": "markdown",
   "id": "f2effed4",
   "metadata": {},
   "source": [
    "# Band definitions\n",
    "\n",
    "Band 9 = total disease severity\n",
    "<br>\n",
    "Band 10 = DM severity\n",
    "<br>\n",
    "Band 11 = DM incidence\n",
    "<br>"
   ]
  },
  {
   "cell_type": "code",
   "execution_count": 8,
   "id": "5222753b",
   "metadata": {},
   "outputs": [
    {
     "data": {
      "text/plain": [
       "(12, 22, 41)"
      ]
     },
     "execution_count": 8,
     "metadata": {},
     "output_type": "execute_result"
    }
   ],
   "source": [
    "stacked = np.vstack([june_dis_arr, june_anom_arr])\n",
    "\n",
    "stacked.shape"
   ]
  },
  {
   "cell_type": "markdown",
   "id": "fa9984fc",
   "metadata": {},
   "source": [
    "# Anomaly scores do not cover full extent of raster\n",
    "\n",
    "This means that we must restrict correlation analysis to pixels that have both an interpolated disease rating AND an anomaly score."
   ]
  },
  {
   "cell_type": "code",
   "execution_count": 9,
   "id": "17fd9fce",
   "metadata": {},
   "outputs": [
    {
     "data": {
      "text/plain": [
       "['/Users/kathleenkanaley/Desktop/dora/dora/sample_data/grapes/results/raster_patches_test/PS_2020/20200616/rx/scores_raster_rx.tif',\n",
       " '/Users/kathleenkanaley/Desktop/dora/dora/sample_data/grapes/results/raster_patches_test/PS_2020/20200713/rx/scores_raster_rx.tif',\n",
       " '/Users/kathleenkanaley/Desktop/dora/dora/sample_data/grapes/results/raster_patches_test/PS_2020/20200801/rx/scores_raster_rx.tif']"
      ]
     },
     "execution_count": 9,
     "metadata": {},
     "output_type": "execute_result"
    }
   ],
   "source": [
    "# Try with the RX rasters (not local rx)\n",
    "\n",
    "rx_ras = glob.glob('/Users/kathleenkanaley/Desktop/dora/dora/sample_data/grapes/results/raster_patches_test/PS_2020/*/rx/scores_raster_rx.tif')\n",
    "rx_ras"
   ]
  },
  {
   "cell_type": "code",
   "execution_count": 10,
   "id": "cccf3268",
   "metadata": {},
   "outputs": [],
   "source": [
    "june_dis = dis_ras[2]\n",
    "june_anom = anom_ras[0]\n",
    "june_rx = rx_ras[0]\n",
    "\n",
    "\n",
    "july_dis = dis_ras[1]\n",
    "july_anom = anom_ras[1]\n",
    "july_rx = rx_ras[1]\n",
    "\n",
    "aug_dis = dis_ras[0]\n",
    "aug_anom = anom_ras[2]\n",
    "aug_rx = rx_ras[2]\n",
    "\n",
    "dis_ras = [june_dis, july_dis, aug_dis]\n",
    "anom_ras = [june_anom, july_anom, aug_anom]\n",
    "rx_ras = [june_rx, july_rx, aug_rx]"
   ]
  },
  {
   "cell_type": "code",
   "execution_count": 11,
   "id": "c547925c",
   "metadata": {},
   "outputs": [
    {
     "data": {
      "text/plain": [
       "3"
      ]
     },
     "execution_count": 11,
     "metadata": {},
     "output_type": "execute_result"
    }
   ],
   "source": [
    "len(dis_ras)"
   ]
  },
  {
   "cell_type": "code",
   "execution_count": 12,
   "id": "8dd531e9",
   "metadata": {},
   "outputs": [
    {
     "data": {
      "text/plain": [
       "array([0, 1, 2])"
      ]
     },
     "execution_count": 12,
     "metadata": {},
     "output_type": "execute_result"
    }
   ],
   "source": [
    "np.arange(len(dis_ras))"
   ]
  },
  {
   "cell_type": "code",
   "execution_count": 13,
   "id": "7fe3f018",
   "metadata": {},
   "outputs": [
    {
     "data": {
      "text/plain": [
       "3"
      ]
     },
     "execution_count": 13,
     "metadata": {},
     "output_type": "execute_result"
    }
   ],
   "source": [
    "stacked_arrays = []\n",
    "\n",
    "for i in np.arange(len(dis_ras)):\n",
    "    with rio.open(dis_ras[i]) as src1:\n",
    "        dis_arr = src1.read()\n",
    "    with rio.open(anom_ras[i]) as src2:\n",
    "        anom_arr = src2.read()\n",
    "    with rio.open(rx_ras[i]) as src3:\n",
    "        rx_arr = src3.read()\n",
    "    \n",
    "    stacked_arr = np.vstack([dis_arr, anom_arr, rx_arr])\n",
    "    \n",
    "    stacked_arrays.append(stacked_arr)\n",
    "len(stacked_arrays)"
   ]
  },
  {
   "cell_type": "code",
   "execution_count": 14,
   "id": "537b54bd",
   "metadata": {},
   "outputs": [
    {
     "data": {
      "text/plain": [
       "(13, 22, 41)"
      ]
     },
     "execution_count": 14,
     "metadata": {},
     "output_type": "execute_result"
    }
   ],
   "source": [
    "stacked_arrays[2].shape"
   ]
  },
  {
   "cell_type": "code",
   "execution_count": 26,
   "id": "e9b260b7",
   "metadata": {},
   "outputs": [],
   "source": [
    "dataframes = []\n",
    "for arr in stacked_arrays:\n",
    "    total_sev = arr[8].flatten()\n",
    "    dm_sev = arr[9].flatten()\n",
    "    dm_inc = arr[10].flatten()\n",
    "    lrx = arr[11].flatten()\n",
    "    rx = arr[12].flatten()\n",
    "    df = pd.DataFrame(data={'total_dis_sev':total_sev, \n",
    "                            'dm_sev':dm_sev,\n",
    "                            'dm_inc':dm_inc,\n",
    "                            'lrx_score':lrx,\n",
    "                            'rx_score': rx})\n",
    "    df_nonan = df[df['total_dis_sev']>=0]\n",
    "    dataframes.append(df_nonan)\n"
   ]
  },
  {
   "cell_type": "code",
   "execution_count": 27,
   "id": "066435ad",
   "metadata": {},
   "outputs": [
    {
     "name": "stdout",
     "output_type": "stream",
     "text": [
      "<class 'pandas.core.frame.DataFrame'>\n",
      "Int64Index: 258 entries, 127 to 858\n",
      "Data columns (total 5 columns):\n",
      " #   Column         Non-Null Count  Dtype  \n",
      "---  ------         --------------  -----  \n",
      " 0   total_dis_sev  258 non-null    float64\n",
      " 1   dm_sev         258 non-null    float64\n",
      " 2   dm_inc         0 non-null      float64\n",
      " 3   lrx_score      258 non-null    float64\n",
      " 4   rx_score       258 non-null    float64\n",
      "dtypes: float64(5)\n",
      "memory usage: 12.1 KB\n"
     ]
    }
   ],
   "source": [
    "dataframes[0].info()"
   ]
  },
  {
   "cell_type": "code",
   "execution_count": 28,
   "id": "d2fbde0e",
   "metadata": {},
   "outputs": [
    {
     "name": "stdout",
     "output_type": "stream",
     "text": [
      "<class 'pandas.core.frame.DataFrame'>\n",
      "Int64Index: 255 entries, 126 to 816\n",
      "Data columns (total 5 columns):\n",
      " #   Column         Non-Null Count  Dtype  \n",
      "---  ------         --------------  -----  \n",
      " 0   total_dis_sev  255 non-null    float64\n",
      " 1   dm_sev         255 non-null    float64\n",
      " 2   dm_inc         0 non-null      float64\n",
      " 3   lrx_score      255 non-null    float64\n",
      " 4   rx_score       255 non-null    float64\n",
      "dtypes: float64(5)\n",
      "memory usage: 12.0 KB\n"
     ]
    }
   ],
   "source": [
    "dataframes[1].info()"
   ]
  },
  {
   "cell_type": "code",
   "execution_count": 29,
   "id": "849c2305",
   "metadata": {},
   "outputs": [
    {
     "name": "stdout",
     "output_type": "stream",
     "text": [
      "<class 'pandas.core.frame.DataFrame'>\n",
      "Int64Index: 269 entries, 127 to 817\n",
      "Data columns (total 5 columns):\n",
      " #   Column         Non-Null Count  Dtype  \n",
      "---  ------         --------------  -----  \n",
      " 0   total_dis_sev  269 non-null    float64\n",
      " 1   dm_sev         269 non-null    float64\n",
      " 2   dm_inc         269 non-null    float64\n",
      " 3   lrx_score      269 non-null    float64\n",
      " 4   rx_score       269 non-null    float64\n",
      "dtypes: float64(5)\n",
      "memory usage: 12.6 KB\n"
     ]
    }
   ],
   "source": [
    "dataframes[2].info()"
   ]
  },
  {
   "cell_type": "code",
   "execution_count": 35,
   "id": "fd62472c",
   "metadata": {},
   "outputs": [
    {
     "name": "stdout",
     "output_type": "stream",
     "text": [
      "Spearman r: 0.0639263319273266 \n",
      "p-value: 0.30636952835486736\n",
      "Spearman r: -0.11082601347355842 \n",
      "p-value: 0.07731196741721263\n",
      "Spearman r: -0.1119090819754106 \n",
      "p-value: 0.06685331557750286\n"
     ]
    }
   ],
   "source": [
    "for df in dataframes:\n",
    "    res = scipy.stats.spearmanr(np.sqrt(df['total_dis_sev']), np.sqrt(df['lrx_score']))\n",
    "    print('Spearman r:', res[0], '\\np-value:', res[1])"
   ]
  },
  {
   "cell_type": "code",
   "execution_count": 36,
   "id": "c7d54936",
   "metadata": {},
   "outputs": [
    {
     "name": "stdout",
     "output_type": "stream",
     "text": [
      "Spearman r: -0.10995194746914082 \n",
      "p-value: 0.07792365653755406\n",
      "Spearman r: -0.17224529346452458 \n",
      "p-value: 0.005821604307402325\n",
      "Spearman r: -0.09745684314459678 \n",
      "p-value: 0.11076457024464013\n"
     ]
    }
   ],
   "source": [
    "for df in dataframes:\n",
    "    res = scipy.stats.spearmanr(df['dm_sev'], df['lrx_score'])\n",
    "    print('Spearman r:', res[0], '\\np-value:', res[1])"
   ]
  },
  {
   "cell_type": "code",
   "execution_count": 37,
   "id": "1d8e8459",
   "metadata": {},
   "outputs": [
    {
     "name": "stdout",
     "output_type": "stream",
     "text": [
      "Spearman r: 0.04569163986481138 \n",
      "p-value: 0.46494139543131263\n",
      "Spearman r: 0.04984150648448355 \n",
      "p-value: 0.42807653970535786\n",
      "Spearman r: 0.04129291584210299 \n",
      "p-value: 0.5000646451574615\n"
     ]
    }
   ],
   "source": [
    "for df in dataframes:\n",
    "    res = scipy.stats.spearmanr(df['dm_sev'], df['rx_score'])\n",
    "    print('Spearman r:', res[0], '\\np-value:', res[1])"
   ]
  },
  {
   "cell_type": "code",
   "execution_count": 38,
   "id": "c6f47230",
   "metadata": {},
   "outputs": [
    {
     "name": "stdout",
     "output_type": "stream",
     "text": [
      "Spearman r: -0.20429818442646963 \n",
      "p-value: 0.0009652681057892253\n",
      "Spearman r: 0.05069187123668365 \n",
      "p-value: 0.42022809502857494\n",
      "Spearman r: 0.026405148976308048 \n",
      "p-value: 0.6663701574666576\n"
     ]
    }
   ],
   "source": [
    "for df in dataframes:\n",
    "    res = scipy.stats.spearmanr(df['total_dis_sev'], df['rx_score'])\n",
    "    print('Spearman r:', res[0], '\\np-value:', res[1])"
   ]
  },
  {
   "cell_type": "code",
   "execution_count": 39,
   "id": "8fb13543",
   "metadata": {},
   "outputs": [
    {
     "name": "stdout",
     "output_type": "stream",
     "text": [
      "Spearman r: 0.11726990820371498 \n",
      "p-value: 0.054725888138106644\n"
     ]
    }
   ],
   "source": [
    "res = scipy.stats.spearmanr(dataframes[2]['dm_inc'], dataframes[2]['rx_score'])\n",
    "print('Spearman r:', res[0], '\\np-value:', res[1])"
   ]
  },
  {
   "cell_type": "code",
   "execution_count": 40,
   "id": "0b7f1813",
   "metadata": {},
   "outputs": [
    {
     "name": "stdout",
     "output_type": "stream",
     "text": [
      "               total_dis_sev    dm_sev  dm_inc  lrx_score  rx_score\n",
      "total_dis_sev       1.000000  0.111405     NaN   0.099228 -0.165065\n",
      "dm_sev              0.111405  1.000000     NaN  -0.064198  0.028384\n",
      "dm_inc                   NaN       NaN     NaN        NaN       NaN\n",
      "lrx_score           0.099228 -0.064198     NaN   1.000000 -0.150976\n",
      "rx_score           -0.165065  0.028384     NaN  -0.150976  1.000000\n",
      "               total_dis_sev    dm_sev  dm_inc  lrx_score  rx_score\n",
      "total_dis_sev       1.000000  0.256359     NaN  -0.119063  0.085597\n",
      "dm_sev              0.256359  1.000000     NaN  -0.057386  0.216716\n",
      "dm_inc                   NaN       NaN     NaN        NaN       NaN\n",
      "lrx_score          -0.119063 -0.057386     NaN   1.000000 -0.062187\n",
      "rx_score            0.085597  0.216716     NaN  -0.062187  1.000000\n",
      "               total_dis_sev    dm_sev    dm_inc  lrx_score  rx_score\n",
      "total_dis_sev       1.000000  0.810633  0.511674  -0.107064  0.068061\n",
      "dm_sev              0.810633  1.000000  0.717853  -0.070679  0.042575\n",
      "dm_inc              0.511674  0.717853  1.000000  -0.004515  0.084247\n",
      "lrx_score          -0.107064 -0.070679 -0.004515   1.000000 -0.237309\n",
      "rx_score            0.068061  0.042575  0.084247  -0.237309  1.000000\n"
     ]
    }
   ],
   "source": [
    "for df in dataframes:\n",
    "    print(df.corr())"
   ]
  },
  {
   "cell_type": "code",
   "execution_count": 47,
   "id": "8000fcf0",
   "metadata": {},
   "outputs": [
    {
     "data": {
      "text/plain": [
       "<AxesSubplot: >"
      ]
     },
     "execution_count": 47,
     "metadata": {},
     "output_type": "execute_result"
    },
    {
     "data": {
      "image/png": "[encoded data removed]",
      "text/plain": [
       "<Figure size 640x480 with 1 Axes>"
      ]
     },
     "metadata": {},
     "output_type": "display_data"
    }
   ],
   "source": [
    "%matplotlib inline\n",
    "\n",
    "dataframes[0]['dm_inc'].hist(bins=8)"
   ]
  },
  {
   "cell_type": "code",
   "execution_count": null,
   "id": "b5d445b4",
   "metadata": {},
   "outputs": [],
   "source": []
  }
 ],
 "metadata": {
  "kernelspec": {
   "display_name": "Python 3 (ipykernel)",
   "language": "python",
   "name": "python3"
  },
  "language_info": {
   "codemirror_mode": {
    "name": "ipython",
    "version": 3
   },
   "file_extension": ".py",
   "mimetype": "text/x-python",
   "name": "python",
   "nbconvert_exporter": "python",
   "pygments_lexer": "ipython3",
   "version": "3.10.6"
  }
 },
 "nbformat": 4,
 "nbformat_minor": 5
}
