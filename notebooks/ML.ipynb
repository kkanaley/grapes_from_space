{
 "cells": [
  {
   "cell_type": "code",
   "execution_count": 1,
   "id": "7c50ac74",
   "metadata": {},
   "outputs": [],
   "source": [
    "# Apply ML models to the reflectance + VI data in order to classify/predict disease status\n"
   ]
  },
  {
   "cell_type": "code",
   "execution_count": 2,
   "id": "a7766645",
   "metadata": {},
   "outputs": [],
   "source": [
    "import glob\n",
    "import os\n",
    "import matplotlib.pyplot as plt\n",
    "import pandas as pd\n",
    "import numpy as np\n",
    "import seaborn as sns\n",
    "import sklearn\n",
    "import scipy"
   ]
  },
  {
   "cell_type": "code",
   "execution_count": 3,
   "id": "9c71e6a4",
   "metadata": {},
   "outputs": [],
   "source": [
    "# Try with 2021 data first\n",
    "\n",
    "data_2021 = pd.read_csv('../data/img_scout_dfs/2021/INC_skysat_scout_2021.csv')"
   ]
  },
  {
   "cell_type": "code",
   "execution_count": 4,
   "id": "45275bfe",
   "metadata": {},
   "outputs": [
    {
     "data": {
      "text/html": [
       "<div>\n",
       "<style scoped>\n",
       "    .dataframe tbody tr th:only-of-type {\n",
       "        vertical-align: middle;\n",
       "    }\n",
       "\n",
       "    .dataframe tbody tr th {\n",
       "        vertical-align: top;\n",
       "    }\n",
       "\n",
       "    .dataframe thead th {\n",
       "        text-align: right;\n",
       "    }\n",
       "</style>\n",
       "<table border=\"1\" class=\"dataframe\">\n",
       "  <thead>\n",
       "    <tr style=\"text-align: right;\">\n",
       "      <th></th>\n",
       "      <th>acquired</th>\n",
       "      <th>plot</th>\n",
       "      <th>blue</th>\n",
       "      <th>green</th>\n",
       "      <th>red</th>\n",
       "      <th>nir</th>\n",
       "      <th>row</th>\n",
       "      <th>panel</th>\n",
       "      <th>Date</th>\n",
       "      <th>Treatment</th>\n",
       "      <th>Block</th>\n",
       "      <th>PM_severity</th>\n",
       "      <th>DM_severity</th>\n",
       "      <th>total_dis</th>\n",
       "      <th>geometry</th>\n",
       "      <th>centroid</th>\n",
       "      <th>PM_inc</th>\n",
       "      <th>DM_inc</th>\n",
       "    </tr>\n",
       "  </thead>\n",
       "  <tbody>\n",
       "    <tr>\n",
       "      <th>0</th>\n",
       "      <td>20210707</td>\n",
       "      <td>1</td>\n",
       "      <td>0.032006</td>\n",
       "      <td>0.066432</td>\n",
       "      <td>0.040084</td>\n",
       "      <td>0.290003</td>\n",
       "      <td>1</td>\n",
       "      <td>1</td>\n",
       "      <td>2021-07-07</td>\n",
       "      <td>5.0</td>\n",
       "      <td>DM</td>\n",
       "      <td>0.0</td>\n",
       "      <td>0.0</td>\n",
       "      <td>0.05</td>\n",
       "      <td>POLYGON ((-77.0152645742787 42.878300949250196...</td>\n",
       "      <td>POINT (-77.0153084903025 42.8783140936145)</td>\n",
       "      <td>0.0</td>\n",
       "      <td>0.0</td>\n",
       "    </tr>\n",
       "    <tr>\n",
       "      <th>1</th>\n",
       "      <td>20210707</td>\n",
       "      <td>2</td>\n",
       "      <td>0.033528</td>\n",
       "      <td>0.067879</td>\n",
       "      <td>0.043324</td>\n",
       "      <td>0.270290</td>\n",
       "      <td>1</td>\n",
       "      <td>2</td>\n",
       "      <td>2021-07-07</td>\n",
       "      <td>7.0</td>\n",
       "      <td>DM</td>\n",
       "      <td>0.0</td>\n",
       "      <td>0.0</td>\n",
       "      <td>0.10</td>\n",
       "      <td>POLYGON ((-77.01535545427274 42.87831851925121...</td>\n",
       "      <td>POINT (-77.0153965503027 42.87833067861654)</td>\n",
       "      <td>0.0</td>\n",
       "      <td>0.0</td>\n",
       "    </tr>\n",
       "    <tr>\n",
       "      <th>2</th>\n",
       "      <td>20210707</td>\n",
       "      <td>3</td>\n",
       "      <td>0.033903</td>\n",
       "      <td>0.067897</td>\n",
       "      <td>0.042947</td>\n",
       "      <td>0.273817</td>\n",
       "      <td>1</td>\n",
       "      <td>3</td>\n",
       "      <td>2021-07-07</td>\n",
       "      <td>9.0</td>\n",
       "      <td>DM</td>\n",
       "      <td>0.0</td>\n",
       "      <td>0.0</td>\n",
       "      <td>0.10</td>\n",
       "      <td>POLYGON ((-77.01544069426711 42.87833411925217...</td>\n",
       "      <td>POINT (-77.01548247530272 42.87834674861851)</td>\n",
       "      <td>0.0</td>\n",
       "      <td>0.0</td>\n",
       "    </tr>\n",
       "    <tr>\n",
       "      <th>3</th>\n",
       "      <td>20210707</td>\n",
       "      <td>4</td>\n",
       "      <td>0.032868</td>\n",
       "      <td>0.067358</td>\n",
       "      <td>0.042055</td>\n",
       "      <td>0.280455</td>\n",
       "      <td>1</td>\n",
       "      <td>4</td>\n",
       "      <td>2021-07-07</td>\n",
       "      <td>15.0</td>\n",
       "      <td>DM</td>\n",
       "      <td>0.0</td>\n",
       "      <td>0.0</td>\n",
       "      <td>0.60</td>\n",
       "      <td>POLYGON ((-77.01552730426143 42.87835065925314...</td>\n",
       "      <td>POINT (-77.01557007030289 42.87836309362055)</td>\n",
       "      <td>0.0</td>\n",
       "      <td>0.0</td>\n",
       "    </tr>\n",
       "    <tr>\n",
       "      <th>4</th>\n",
       "      <td>20210707</td>\n",
       "      <td>5</td>\n",
       "      <td>0.032104</td>\n",
       "      <td>0.066636</td>\n",
       "      <td>0.038836</td>\n",
       "      <td>0.292664</td>\n",
       "      <td>1</td>\n",
       "      <td>5</td>\n",
       "      <td>2021-07-07</td>\n",
       "      <td>3.0</td>\n",
       "      <td>DM</td>\n",
       "      <td>0.0</td>\n",
       "      <td>0.0</td>\n",
       "      <td>0.10</td>\n",
       "      <td>POLYGON ((-77.01561588425558 42.87836680925413...</td>\n",
       "      <td>POINT (-77.01565649030296 42.878378758622546)</td>\n",
       "      <td>0.0</td>\n",
       "      <td>0.0</td>\n",
       "    </tr>\n",
       "  </tbody>\n",
       "</table>\n",
       "</div>"
      ],
      "text/plain": [
       "   acquired  plot      blue     green       red       nir  row  panel  \\\n",
       "0  20210707     1  0.032006  0.066432  0.040084  0.290003    1      1   \n",
       "1  20210707     2  0.033528  0.067879  0.043324  0.270290    1      2   \n",
       "2  20210707     3  0.033903  0.067897  0.042947  0.273817    1      3   \n",
       "3  20210707     4  0.032868  0.067358  0.042055  0.280455    1      4   \n",
       "4  20210707     5  0.032104  0.066636  0.038836  0.292664    1      5   \n",
       "\n",
       "         Date  Treatment Block  PM_severity  DM_severity  total_dis  \\\n",
       "0  2021-07-07        5.0    DM          0.0          0.0       0.05   \n",
       "1  2021-07-07        7.0    DM          0.0          0.0       0.10   \n",
       "2  2021-07-07        9.0    DM          0.0          0.0       0.10   \n",
       "3  2021-07-07       15.0    DM          0.0          0.0       0.60   \n",
       "4  2021-07-07        3.0    DM          0.0          0.0       0.10   \n",
       "\n",
       "                                            geometry  \\\n",
       "0  POLYGON ((-77.0152645742787 42.878300949250196...   \n",
       "1  POLYGON ((-77.01535545427274 42.87831851925121...   \n",
       "2  POLYGON ((-77.01544069426711 42.87833411925217...   \n",
       "3  POLYGON ((-77.01552730426143 42.87835065925314...   \n",
       "4  POLYGON ((-77.01561588425558 42.87836680925413...   \n",
       "\n",
       "                                        centroid  PM_inc  DM_inc  \n",
       "0     POINT (-77.0153084903025 42.8783140936145)     0.0     0.0  \n",
       "1    POINT (-77.0153965503027 42.87833067861654)     0.0     0.0  \n",
       "2   POINT (-77.01548247530272 42.87834674861851)     0.0     0.0  \n",
       "3   POINT (-77.01557007030289 42.87836309362055)     0.0     0.0  \n",
       "4  POINT (-77.01565649030296 42.878378758622546)     0.0     0.0  "
      ]
     },
     "execution_count": 4,
     "metadata": {},
     "output_type": "execute_result"
    }
   ],
   "source": [
    "data_2021.head()"
   ]
  },
  {
   "cell_type": "code",
   "execution_count": 6,
   "id": "647e0b90",
   "metadata": {},
   "outputs": [],
   "source": [
    "def add_vis(df):\n",
    "    df['ndvi']= (df['nir']-df['red'])/(df['nir']+df['red'])\n",
    "    df['evi']= 2.5*(df['nir']-df['red'])/(df['nir']+6*df['red']-7.5*df['blue']+1)\n",
    "    df['savi']= 1.5*(df['nir']-df['red'])/(df['nir']+df['red']+0.5)\n",
    "    #df['sr']= df['nir']/df['red']\n",
    "    #df['msr']= ((df['nir']/df['red'])-1)/(np.sqrt((df['nir']/df['red'])+1))\n",
    "    #df['dvi']= df['nir']-df['red']\n",
    "    #df['nirv']= df['ndvi']*df['nir']\n",
    "    #df['gcc']=df['green']/(df['green']+df['red']+df['blue'])\n",
    "    #df['tvi']=0.5*(120*(df['nir']-df['green'])-200*(df['red']-df['green']))\n",
    "    df['arvi']=(df['nir']-(2*df['red']-df['blue']))/(df['nir']+(2*df['red']-df['blue']))\n",
    "    df['gri']=df['green']/df['red']\n",
    "    \n",
    "    return df"
   ]
  },
  {
   "cell_type": "code",
   "execution_count": 7,
   "id": "5893f72e",
   "metadata": {},
   "outputs": [
    {
     "data": {
      "text/html": [
       "<div>\n",
       "<style scoped>\n",
       "    .dataframe tbody tr th:only-of-type {\n",
       "        vertical-align: middle;\n",
       "    }\n",
       "\n",
       "    .dataframe tbody tr th {\n",
       "        vertical-align: top;\n",
       "    }\n",
       "\n",
       "    .dataframe thead th {\n",
       "        text-align: right;\n",
       "    }\n",
       "</style>\n",
       "<table border=\"1\" class=\"dataframe\">\n",
       "  <thead>\n",
       "    <tr style=\"text-align: right;\">\n",
       "      <th></th>\n",
       "      <th>acquired</th>\n",
       "      <th>plot</th>\n",
       "      <th>blue</th>\n",
       "      <th>green</th>\n",
       "      <th>red</th>\n",
       "      <th>nir</th>\n",
       "      <th>row</th>\n",
       "      <th>panel</th>\n",
       "      <th>Date</th>\n",
       "      <th>Treatment</th>\n",
       "      <th>...</th>\n",
       "      <th>total_dis</th>\n",
       "      <th>geometry</th>\n",
       "      <th>centroid</th>\n",
       "      <th>PM_inc</th>\n",
       "      <th>DM_inc</th>\n",
       "      <th>ndvi</th>\n",
       "      <th>evi</th>\n",
       "      <th>savi</th>\n",
       "      <th>arvi</th>\n",
       "      <th>gri</th>\n",
       "    </tr>\n",
       "  </thead>\n",
       "  <tbody>\n",
       "    <tr>\n",
       "      <th>0</th>\n",
       "      <td>20210707</td>\n",
       "      <td>1</td>\n",
       "      <td>0.032006</td>\n",
       "      <td>0.066432</td>\n",
       "      <td>0.040084</td>\n",
       "      <td>0.290003</td>\n",
       "      <td>1</td>\n",
       "      <td>1</td>\n",
       "      <td>2021-07-07</td>\n",
       "      <td>5.0</td>\n",
       "      <td>...</td>\n",
       "      <td>0.05</td>\n",
       "      <td>POLYGON ((-77.0152645742787 42.878300949250196...</td>\n",
       "      <td>POINT (-77.0153084903025 42.8783140936145)</td>\n",
       "      <td>0.0</td>\n",
       "      <td>0.0</td>\n",
       "      <td>0.757132</td>\n",
       "      <td>0.484168</td>\n",
       "      <td>0.451614</td>\n",
       "      <td>0.715161</td>\n",
       "      <td>1.657331</td>\n",
       "    </tr>\n",
       "    <tr>\n",
       "      <th>1</th>\n",
       "      <td>20210707</td>\n",
       "      <td>2</td>\n",
       "      <td>0.033528</td>\n",
       "      <td>0.067879</td>\n",
       "      <td>0.043324</td>\n",
       "      <td>0.270290</td>\n",
       "      <td>1</td>\n",
       "      <td>2</td>\n",
       "      <td>2021-07-07</td>\n",
       "      <td>7.0</td>\n",
       "      <td>...</td>\n",
       "      <td>0.10</td>\n",
       "      <td>POLYGON ((-77.01535545427274 42.87831851925121...</td>\n",
       "      <td>POINT (-77.0153965503027 42.87833067861654)</td>\n",
       "      <td>0.0</td>\n",
       "      <td>0.0</td>\n",
       "      <td>0.723710</td>\n",
       "      <td>0.443716</td>\n",
       "      <td>0.418440</td>\n",
       "      <td>0.671497</td>\n",
       "      <td>1.566778</td>\n",
       "    </tr>\n",
       "    <tr>\n",
       "      <th>2</th>\n",
       "      <td>20210707</td>\n",
       "      <td>3</td>\n",
       "      <td>0.033903</td>\n",
       "      <td>0.067897</td>\n",
       "      <td>0.042947</td>\n",
       "      <td>0.273817</td>\n",
       "      <td>1</td>\n",
       "      <td>3</td>\n",
       "      <td>2021-07-07</td>\n",
       "      <td>9.0</td>\n",
       "      <td>...</td>\n",
       "      <td>0.10</td>\n",
       "      <td>POLYGON ((-77.01544069426711 42.87833411925217...</td>\n",
       "      <td>POINT (-77.01548247530272 42.87834674861851)</td>\n",
       "      <td>0.0</td>\n",
       "      <td>0.0</td>\n",
       "      <td>0.728841</td>\n",
       "      <td>0.451899</td>\n",
       "      <td>0.423997</td>\n",
       "      <td>0.680854</td>\n",
       "      <td>1.580953</td>\n",
       "    </tr>\n",
       "    <tr>\n",
       "      <th>3</th>\n",
       "      <td>20210707</td>\n",
       "      <td>4</td>\n",
       "      <td>0.032868</td>\n",
       "      <td>0.067358</td>\n",
       "      <td>0.042055</td>\n",
       "      <td>0.280455</td>\n",
       "      <td>1</td>\n",
       "      <td>4</td>\n",
       "      <td>2021-07-07</td>\n",
       "      <td>15.0</td>\n",
       "      <td>...</td>\n",
       "      <td>0.60</td>\n",
       "      <td>POLYGON ((-77.01552730426143 42.87835065925314...</td>\n",
       "      <td>POINT (-77.01557007030289 42.87836309362055)</td>\n",
       "      <td>0.0</td>\n",
       "      <td>0.0</td>\n",
       "      <td>0.739203</td>\n",
       "      <td>0.463353</td>\n",
       "      <td>0.434767</td>\n",
       "      <td>0.691031</td>\n",
       "      <td>1.601672</td>\n",
       "    </tr>\n",
       "    <tr>\n",
       "      <th>4</th>\n",
       "      <td>20210707</td>\n",
       "      <td>5</td>\n",
       "      <td>0.032104</td>\n",
       "      <td>0.066636</td>\n",
       "      <td>0.038836</td>\n",
       "      <td>0.292664</td>\n",
       "      <td>1</td>\n",
       "      <td>5</td>\n",
       "      <td>2021-07-07</td>\n",
       "      <td>3.0</td>\n",
       "      <td>...</td>\n",
       "      <td>0.10</td>\n",
       "      <td>POLYGON ((-77.01561588425558 42.87836680925413...</td>\n",
       "      <td>POINT (-77.01565649030296 42.878378758622546)</td>\n",
       "      <td>0.0</td>\n",
       "      <td>0.0</td>\n",
       "      <td>0.765697</td>\n",
       "      <td>0.493868</td>\n",
       "      <td>0.457899</td>\n",
       "      <td>0.730553</td>\n",
       "      <td>1.715836</td>\n",
       "    </tr>\n",
       "    <tr>\n",
       "      <th>...</th>\n",
       "      <td>...</td>\n",
       "      <td>...</td>\n",
       "      <td>...</td>\n",
       "      <td>...</td>\n",
       "      <td>...</td>\n",
       "      <td>...</td>\n",
       "      <td>...</td>\n",
       "      <td>...</td>\n",
       "      <td>...</td>\n",
       "      <td>...</td>\n",
       "      <td>...</td>\n",
       "      <td>...</td>\n",
       "      <td>...</td>\n",
       "      <td>...</td>\n",
       "      <td>...</td>\n",
       "      <td>...</td>\n",
       "      <td>...</td>\n",
       "      <td>...</td>\n",
       "      <td>...</td>\n",
       "      <td>...</td>\n",
       "      <td>...</td>\n",
       "    </tr>\n",
       "    <tr>\n",
       "      <th>1190</th>\n",
       "      <td>20210816</td>\n",
       "      <td>303</td>\n",
       "      <td>0.017663</td>\n",
       "      <td>0.065519</td>\n",
       "      <td>0.048503</td>\n",
       "      <td>0.248441</td>\n",
       "      <td>19</td>\n",
       "      <td>15</td>\n",
       "      <td>2021-08-17</td>\n",
       "      <td>18.0</td>\n",
       "      <td>...</td>\n",
       "      <td>13.20</td>\n",
       "      <td>POLYGON ((-77.01536426393243 42.87876078918534...</td>\n",
       "      <td>POINT (-77.01540822030267 42.878773523616815)</td>\n",
       "      <td>90.0</td>\n",
       "      <td>5.0</td>\n",
       "      <td>0.673318</td>\n",
       "      <td>0.355257</td>\n",
       "      <td>0.376320</td>\n",
       "      <td>0.515878</td>\n",
       "      <td>1.350815</td>\n",
       "    </tr>\n",
       "    <tr>\n",
       "      <th>1191</th>\n",
       "      <td>20210816</td>\n",
       "      <td>305</td>\n",
       "      <td>0.009077</td>\n",
       "      <td>0.061277</td>\n",
       "      <td>0.038242</td>\n",
       "      <td>0.256381</td>\n",
       "      <td>20</td>\n",
       "      <td>1</td>\n",
       "      <td>2021-08-17</td>\n",
       "      <td>31.0</td>\n",
       "      <td>...</td>\n",
       "      <td>0.90</td>\n",
       "      <td>POLYGON ((-77.01658187329902 42.87901510909438...</td>\n",
       "      <td>POINT (-77.01662629530372 42.8790284536449)</td>\n",
       "      <td>20.0</td>\n",
       "      <td>0.0</td>\n",
       "      <td>0.740401</td>\n",
       "      <td>0.384656</td>\n",
       "      <td>0.411778</td>\n",
       "      <td>0.583637</td>\n",
       "      <td>1.602362</td>\n",
       "    </tr>\n",
       "    <tr>\n",
       "      <th>1192</th>\n",
       "      <td>20210816</td>\n",
       "      <td>307</td>\n",
       "      <td>0.009167</td>\n",
       "      <td>0.060350</td>\n",
       "      <td>0.038300</td>\n",
       "      <td>0.249923</td>\n",
       "      <td>20</td>\n",
       "      <td>3</td>\n",
       "      <td>2021-08-17</td>\n",
       "      <td>40.0</td>\n",
       "      <td>...</td>\n",
       "      <td>17.05</td>\n",
       "      <td>POLYGON ((-77.0164079733105 42.878982759092416...</td>\n",
       "      <td>POINT (-77.01645016030366 42.87899534864085)</td>\n",
       "      <td>85.0</td>\n",
       "      <td>0.0</td>\n",
       "      <td>0.734234</td>\n",
       "      <td>0.374960</td>\n",
       "      <td>0.402722</td>\n",
       "      <td>0.575031</td>\n",
       "      <td>1.575718</td>\n",
       "    </tr>\n",
       "    <tr>\n",
       "      <th>1193</th>\n",
       "      <td>20210816</td>\n",
       "      <td>309</td>\n",
       "      <td>0.011672</td>\n",
       "      <td>0.062224</td>\n",
       "      <td>0.041776</td>\n",
       "      <td>0.253272</td>\n",
       "      <td>20</td>\n",
       "      <td>5</td>\n",
       "      <td>2021-08-17</td>\n",
       "      <td>14.0</td>\n",
       "      <td>...</td>\n",
       "      <td>0.05</td>\n",
       "      <td>POLYGON ((-77.01623108332213 42.87894828909042...</td>\n",
       "      <td>POINT (-77.01627422530342 42.878961353636775)</td>\n",
       "      <td>0.0</td>\n",
       "      <td>0.0</td>\n",
       "      <td>0.716820</td>\n",
       "      <td>0.373304</td>\n",
       "      <td>0.399026</td>\n",
       "      <td>0.557872</td>\n",
       "      <td>1.489476</td>\n",
       "    </tr>\n",
       "    <tr>\n",
       "      <th>1194</th>\n",
       "      <td>20210816</td>\n",
       "      <td>311</td>\n",
       "      <td>0.010876</td>\n",
       "      <td>0.061076</td>\n",
       "      <td>0.039593</td>\n",
       "      <td>0.260190</td>\n",
       "      <td>20</td>\n",
       "      <td>7</td>\n",
       "      <td>2021-08-17</td>\n",
       "      <td>35.0</td>\n",
       "      <td>...</td>\n",
       "      <td>20.45</td>\n",
       "      <td>POLYGON ((-77.01605814333348 42.87891530908846...</td>\n",
       "      <td>POINT (-77.01609963030329 42.87892805863273)</td>\n",
       "      <td>95.0</td>\n",
       "      <td>0.0</td>\n",
       "      <td>0.735855</td>\n",
       "      <td>0.389422</td>\n",
       "      <td>0.413731</td>\n",
       "      <td>0.584107</td>\n",
       "      <td>1.542588</td>\n",
       "    </tr>\n",
       "  </tbody>\n",
       "</table>\n",
       "<p>1195 rows × 23 columns</p>\n",
       "</div>"
      ],
      "text/plain": [
       "      acquired  plot      blue     green       red       nir  row  panel  \\\n",
       "0     20210707     1  0.032006  0.066432  0.040084  0.290003    1      1   \n",
       "1     20210707     2  0.033528  0.067879  0.043324  0.270290    1      2   \n",
       "2     20210707     3  0.033903  0.067897  0.042947  0.273817    1      3   \n",
       "3     20210707     4  0.032868  0.067358  0.042055  0.280455    1      4   \n",
       "4     20210707     5  0.032104  0.066636  0.038836  0.292664    1      5   \n",
       "...        ...   ...       ...       ...       ...       ...  ...    ...   \n",
       "1190  20210816   303  0.017663  0.065519  0.048503  0.248441   19     15   \n",
       "1191  20210816   305  0.009077  0.061277  0.038242  0.256381   20      1   \n",
       "1192  20210816   307  0.009167  0.060350  0.038300  0.249923   20      3   \n",
       "1193  20210816   309  0.011672  0.062224  0.041776  0.253272   20      5   \n",
       "1194  20210816   311  0.010876  0.061076  0.039593  0.260190   20      7   \n",
       "\n",
       "            Date  Treatment  ... total_dis  \\\n",
       "0     2021-07-07        5.0  ...      0.05   \n",
       "1     2021-07-07        7.0  ...      0.10   \n",
       "2     2021-07-07        9.0  ...      0.10   \n",
       "3     2021-07-07       15.0  ...      0.60   \n",
       "4     2021-07-07        3.0  ...      0.10   \n",
       "...          ...        ...  ...       ...   \n",
       "1190  2021-08-17       18.0  ...     13.20   \n",
       "1191  2021-08-17       31.0  ...      0.90   \n",
       "1192  2021-08-17       40.0  ...     17.05   \n",
       "1193  2021-08-17       14.0  ...      0.05   \n",
       "1194  2021-08-17       35.0  ...     20.45   \n",
       "\n",
       "                                               geometry  \\\n",
       "0     POLYGON ((-77.0152645742787 42.878300949250196...   \n",
       "1     POLYGON ((-77.01535545427274 42.87831851925121...   \n",
       "2     POLYGON ((-77.01544069426711 42.87833411925217...   \n",
       "3     POLYGON ((-77.01552730426143 42.87835065925314...   \n",
       "4     POLYGON ((-77.01561588425558 42.87836680925413...   \n",
       "...                                                 ...   \n",
       "1190  POLYGON ((-77.01536426393243 42.87876078918534...   \n",
       "1191  POLYGON ((-77.01658187329902 42.87901510909438...   \n",
       "1192  POLYGON ((-77.0164079733105 42.878982759092416...   \n",
       "1193  POLYGON ((-77.01623108332213 42.87894828909042...   \n",
       "1194  POLYGON ((-77.01605814333348 42.87891530908846...   \n",
       "\n",
       "                                           centroid  PM_inc DM_inc      ndvi  \\\n",
       "0        POINT (-77.0153084903025 42.8783140936145)     0.0    0.0  0.757132   \n",
       "1       POINT (-77.0153965503027 42.87833067861654)     0.0    0.0  0.723710   \n",
       "2      POINT (-77.01548247530272 42.87834674861851)     0.0    0.0  0.728841   \n",
       "3      POINT (-77.01557007030289 42.87836309362055)     0.0    0.0  0.739203   \n",
       "4     POINT (-77.01565649030296 42.878378758622546)     0.0    0.0  0.765697   \n",
       "...                                             ...     ...    ...       ...   \n",
       "1190  POINT (-77.01540822030267 42.878773523616815)    90.0    5.0  0.673318   \n",
       "1191    POINT (-77.01662629530372 42.8790284536449)    20.0    0.0  0.740401   \n",
       "1192   POINT (-77.01645016030366 42.87899534864085)    85.0    0.0  0.734234   \n",
       "1193  POINT (-77.01627422530342 42.878961353636775)     0.0    0.0  0.716820   \n",
       "1194   POINT (-77.01609963030329 42.87892805863273)    95.0    0.0  0.735855   \n",
       "\n",
       "           evi      savi      arvi       gri  \n",
       "0     0.484168  0.451614  0.715161  1.657331  \n",
       "1     0.443716  0.418440  0.671497  1.566778  \n",
       "2     0.451899  0.423997  0.680854  1.580953  \n",
       "3     0.463353  0.434767  0.691031  1.601672  \n",
       "4     0.493868  0.457899  0.730553  1.715836  \n",
       "...        ...       ...       ...       ...  \n",
       "1190  0.355257  0.376320  0.515878  1.350815  \n",
       "1191  0.384656  0.411778  0.583637  1.602362  \n",
       "1192  0.374960  0.402722  0.575031  1.575718  \n",
       "1193  0.373304  0.399026  0.557872  1.489476  \n",
       "1194  0.389422  0.413731  0.584107  1.542588  \n",
       "\n",
       "[1195 rows x 23 columns]"
      ]
     },
     "execution_count": 7,
     "metadata": {},
     "output_type": "execute_result"
    }
   ],
   "source": [
    "add_vis(data_2021)"
   ]
  },
  {
   "cell_type": "code",
   "execution_count": 8,
   "id": "f313f9c4",
   "metadata": {},
   "outputs": [],
   "source": [
    "# Label data by disease severity\n",
    "\n",
    "data_2021['disease_sev']='low'\n",
    "data_2021.loc[data_2021['DM_severity'] > 10, 'disease_sev'] = 'high'\n",
    "\n",
    "data_2021['disease_inc']='low'\n",
    "data_2021.loc[data_2021['DM_inc'] > 25, 'disease_inc'] = 'high'"
   ]
  },
  {
   "cell_type": "markdown",
   "id": "d9fe09e3",
   "metadata": {},
   "source": [
    "## Resample"
   ]
  },
  {
   "cell_type": "code",
   "execution_count": 13,
   "id": "f5d4d2fb",
   "metadata": {},
   "outputs": [
    {
     "name": "stdout",
     "output_type": "stream",
     "text": [
      "Low disease: 1074\n",
      "High disease: 121\n",
      "Proportion: 8.88 : 1\n",
      "Low inc: 791\n",
      "High inc: 404\n",
      "Proportion: 1.96 : 1\n"
     ]
    },
    {
     "data": {
      "image/png": "[encoded data removed]",
      "text/plain": [
       "<Figure size 640x480 with 1 Axes>"
      ]
     },
     "metadata": {},
     "output_type": "display_data"
    }
   ],
   "source": [
    "# Visualize data imbalance\n",
    "\n",
    "target_count = data_2021.disease_sev.value_counts()\n",
    "print('Low disease:', target_count[0])\n",
    "print('High disease:', target_count[1])\n",
    "print('Proportion:', round(target_count[0] / target_count[1], 2), ': 1')\n",
    "\n",
    "target_count.plot(kind='bar', title='Count (severity)');\n",
    "\n",
    "inc_count = data_2021.disease_inc.value_counts()\n",
    "print('Low inc:', inc_count[0])\n",
    "print('High inc:', inc_count[1])\n",
    "print('Proportion:', round(inc_count[0] / inc_count[1], 2), ': 1')\n",
    "\n",
    "inc_count.plot(kind='bar', title='Count (incidence)');"
   ]
  },
  {
   "cell_type": "code",
   "execution_count": 32,
   "id": "8dbf2bb3",
   "metadata": {},
   "outputs": [],
   "source": [
    "from sklearn import tree\n",
    "\n",
    "from sklearn.model_selection import train_test_split\n",
    "from sklearn.metrics import accuracy_score\n",
    "\n",
    "# set features\n",
    "features = ['blue','green', 'red', 'nir', 'evi', 'arvi', 'savi', 'gri']\n",
    "\n",
    "# split into features and class labels\n",
    "X = data_2021[features]\n",
    "y = data_2021['disease_sev']\n",
    "\n",
    "# 70/30 train/test split\n",
    "X_train, X_test, y_train, y_test = train_test_split(X, y, stratify=y, test_size=0.3, random_state=1)\n"
   ]
  },
  {
   "cell_type": "code",
   "execution_count": 19,
   "id": "54c20bdf",
   "metadata": {},
   "outputs": [],
   "source": [
    "from sklearn import ensemble\n",
    "\n",
    "# maxdepths = [2,3,4,5,6,7,8,9,10,15,20,25,30,35,40,45,50]\n",
    "\n",
    "# trainAcc = np.zeros(len(maxdepths))\n",
    "# testAcc = np.zeros(len(maxdepths))\n",
    "\n",
    "# index = 0\n",
    "# for depth in maxdepths:\n",
    "#     clf = ensemble.RandomForestClassifier(max_depth=depth)\n",
    "#     clf = clf.fit(X_train, y_train)\n",
    "#     y_predTrain = clf.predict(X_train)\n",
    "#     y_predTest = clf.predict(X_test)\n",
    "#     trainAcc[index] = accuracy_score(y_train, y_predTrain)\n",
    "#     testAcc[index] = accuracy_score(y_test, y_predTest)\n",
    "#     index += 1"
   ]
  },
  {
   "cell_type": "code",
   "execution_count": 20,
   "id": "491a9a47",
   "metadata": {},
   "outputs": [
    {
     "data": {
      "text/plain": [
       "Text(0, 0.5, 'Accuracy')"
      ]
     },
     "execution_count": 20,
     "metadata": {},
     "output_type": "execute_result"
    },
    {
     "data": {
      "image/png": "[encoded data removed]",
      "text/plain": [
       "<Figure size 640x480 with 1 Axes>"
      ]
     },
     "metadata": {},
     "output_type": "display_data"
    }
   ],
   "source": [
    "# plt.plot(maxdepths,trainAcc,'ro-',maxdepths,testAcc,'bv--')\n",
    "# plt.legend(['Training Accuracy','Test Accuracy'])\n",
    "# plt.xlabel('Max depth')\n",
    "# plt.ylabel('Accuracy')"
   ]
  },
  {
   "cell_type": "code",
   "execution_count": 30,
   "id": "4d7cf8fa",
   "metadata": {},
   "outputs": [
    {
     "data": {
      "text/plain": [
       "Text(0, 0.5, 'Accuracy')"
      ]
     },
     "execution_count": 30,
     "metadata": {},
     "output_type": "execute_result"
    },
    {
     "data": {
      "image/png": "[encoded data removed]",
      "text/plain": [
       "<Figure size 640x480 with 1 Axes>"
      ]
     },
     "metadata": {},
     "output_type": "display_data"
    }
   ],
   "source": [
    "# maxdepth = 2\n",
    "# n_trees = range(1, 101, 5)\n",
    "\n",
    "# trainAcc = []\n",
    "# testAcc = []\n",
    "\n",
    "# for n in n_trees:\n",
    "#     clf = ensemble.RandomForestClassifier(n_estimators=n)\n",
    "#     clf.fit(X_train, y_train)\n",
    "#     Y_predTrain = clf.predict(X_train)\n",
    "#     Y_predTest = clf.predict(X_test)\n",
    "#     trainAcc.append(accuracy_score(y_train, Y_predTrain))\n",
    "#     testAcc.append(accuracy_score(y_test, Y_predTest))\n",
    "\n",
    "# plt.plot(n_trees, trainAcc, 'ro-', n_trees, testAcc,'bv--')\n",
    "# plt.legend(['Training Accuracy','Test Accuracy'])\n",
    "# plt.xlabel('Number of trees')\n",
    "# plt.ylabel('Accuracy')"
   ]
  },
  {
   "cell_type": "code",
   "execution_count": 38,
   "id": "622bdade",
   "metadata": {},
   "outputs": [
    {
     "name": "stdout",
     "output_type": "stream",
     "text": [
      "Accuracy: 89.14%\n"
     ]
    }
   ],
   "source": [
    "clf = ensemble.RandomForestClassifier(n_estimators=100)\n",
    "clf.fit(X_train, y_train)\n",
    "Y_predTrain = clf.predict(X_train)\n",
    "Y_predTest = clf.predict(X_test)\n",
    "\n",
    "accuracy = accuracy_score(y_test, Y_predTest)\n",
    "print(\"Accuracy: %.2f%%\" % (accuracy * 100.0))"
   ]
  },
  {
   "cell_type": "code",
   "execution_count": 39,
   "id": "4b67c767",
   "metadata": {},
   "outputs": [
    {
     "name": "stdout",
     "output_type": "stream",
     "text": [
      "Confusion matrix:\n",
      " [[  4  32]\n",
      " [  7 316]]\n"
     ]
    }
   ],
   "source": [
    "#Y_predTest\n",
    "from sklearn.metrics import confusion_matrix\n",
    "\n",
    "\n",
    "conf_mat = confusion_matrix(y_true=y_test, y_pred=Y_predTest)\n",
    "print('Confusion matrix:\\n', conf_mat)\n"
   ]
  },
  {
   "cell_type": "code",
   "execution_count": 40,
   "id": "4e6b776f",
   "metadata": {},
   "outputs": [
    {
     "data": {
      "image/png": "[encoded data removed]",
      "text/plain": [
       "<Figure size 640x480 with 2 Axes>"
      ]
     },
     "metadata": {},
     "output_type": "display_data"
    }
   ],
   "source": [
    "import seaborn as sns\n",
    "import matplotlib.pyplot as plt     \n",
    "\n",
    "ax= plt.subplot()\n",
    "sns.heatmap(conf_mat, annot=True, fmt='g', ax=ax);  #annot=True to annotate cells, ftm='g' to disable scientific notation\n",
    "\n",
    "# labels, title and ticks\n",
    "ax.set_xlabel('Predicted labels');ax.set_ylabel('True labels'); \n",
    "ax.set_title('Confusion Matrix'); \n",
    "ax.xaxis.set_ticklabels(['> 10%', '<= 10%']); ax.yaxis.set_ticklabels(['> 10%','<= 10%']);"
   ]
  },
  {
   "cell_type": "code",
   "execution_count": 41,
   "id": "ee222874",
   "metadata": {},
   "outputs": [],
   "source": [
    "# Feature importances\n",
    "\n",
    "importances = clf.feature_importances_"
   ]
  },
  {
   "cell_type": "code",
   "execution_count": 42,
   "id": "92722dfa",
   "metadata": {},
   "outputs": [
    {
     "data": {
      "image/png": "[encoded data removed]",
      "text/plain": [
       "<Figure size 640x480 with 1 Axes>"
      ]
     },
     "metadata": {},
     "output_type": "display_data"
    }
   ],
   "source": [
    "forest_importances = pd.Series(importances, index=features)\n",
    "\n",
    "fig, ax = plt.subplots()\n",
    "forest_importances.plot.bar(ax=ax)\n",
    "ax.set_title(\"Feature importances using MDI\")\n",
    "ax.set_ylabel(\"Mean decrease in impurity\")\n",
    "fig.tight_layout()"
   ]
  },
  {
   "cell_type": "code",
   "execution_count": 27,
   "id": "c5206a1c",
   "metadata": {},
   "outputs": [
    {
     "data": {
      "text/plain": [
       "[0.8189415041782729,\n",
       " 0.8662952646239555,\n",
       " 0.8885793871866295,\n",
       " 0.8969359331476323,\n",
       " 0.9080779944289693,\n",
       " 0.8941504178272981,\n",
       " 0.8913649025069638,\n",
       " 0.8913649025069638,\n",
       " 0.8941504178272981,\n",
       " 0.8997214484679665,\n",
       " 0.8997214484679665,\n",
       " 0.9025069637883009,\n",
       " 0.8997214484679665,\n",
       " 0.9025069637883009,\n",
       " 0.9025069637883009,\n",
       " 0.8997214484679665,\n",
       " 0.8969359331476323,\n",
       " 0.9052924791086351,\n",
       " 0.9052924791086351,\n",
       " 0.9025069637883009]"
      ]
     },
     "execution_count": 27,
     "metadata": {},
     "output_type": "execute_result"
    }
   ],
   "source": [
    "testAcc"
   ]
  },
  {
   "cell_type": "code",
   "execution_count": 20,
   "id": "1fc21af8",
   "metadata": {},
   "outputs": [
    {
     "name": "stdout",
     "output_type": "stream",
     "text": [
      "Accuracy: 83.57%\n"
     ]
    }
   ],
   "source": [
    "model_all = tree.DecisionTreeClassifier()\n",
    "model_all.fit(X_train, y_train)\n",
    "y_pred_all = model_all.predict(X_test)\n",
    "\n",
    "accuracy = accuracy_score(y_test, y_pred_all)\n",
    "print(\"Accuracy: %.2f%%\" % (accuracy * 100.0))"
   ]
  },
  {
   "cell_type": "code",
   "execution_count": 21,
   "id": "9d675afb",
   "metadata": {},
   "outputs": [
    {
     "name": "stdout",
     "output_type": "stream",
     "text": [
      "Accuracy: 81.34%\n"
     ]
    }
   ],
   "source": [
    "#Try with just one feature\n",
    "model_nir = tree.DecisionTreeClassifier()\n",
    "model_nir.fit(X_train[['nir']], y_train)\n",
    "y_pred_nir = model_nir.predict(X_test[['nir']])\n",
    "\n",
    "accuracy = accuracy_score(y_test, y_pred_nir)\n",
    "print(\"Accuracy: %.2f%%\" % (accuracy * 100.0))"
   ]
  },
  {
   "cell_type": "code",
   "execution_count": 22,
   "id": "221a8e15",
   "metadata": {},
   "outputs": [
    {
     "name": "stdout",
     "output_type": "stream",
     "text": [
      "Confusion matrix:\n",
      " [[  5  28]\n",
      " [ 39 287]]\n"
     ]
    },
    {
     "name": "stderr",
     "output_type": "stream",
     "text": [
      "/var/folders/hg/02pmwyy14wvgdv7n1gzwlx1w0000gn/T/ipykernel_13538/2583314570.py:14: UserWarning: FixedFormatter should only be used together with FixedLocator\n",
      "  ax.set_xticklabels([''] + labels)\n",
      "/var/folders/hg/02pmwyy14wvgdv7n1gzwlx1w0000gn/T/ipykernel_13538/2583314570.py:15: UserWarning: FixedFormatter should only be used together with FixedLocator\n",
      "  ax.set_yticklabels([''] + labels)\n"
     ]
    },
    {
     "data": {
      "image/png": "[encoded data removed]",
      "text/plain": [
       "<Figure size 640x480 with 2 Axes>"
      ]
     },
     "metadata": {},
     "output_type": "display_data"
    }
   ],
   "source": [
    "# Plot confusion matrix for the single-feature model (just NIR)\n",
    "\n",
    "from sklearn.metrics import confusion_matrix\n",
    "\n",
    "\n",
    "conf_mat = confusion_matrix(y_true=y_test, y_pred=y_pred_nir)\n",
    "print('Confusion matrix:\\n', conf_mat)\n",
    "\n",
    "labels = ['High Disease', 'Low Disease']\n",
    "fig = plt.figure()\n",
    "ax = fig.add_subplot(111)\n",
    "cax = ax.matshow(conf_mat, cmap=plt.cm.Blues)\n",
    "fig.colorbar(cax)\n",
    "ax.set_xticklabels([''] + labels)\n",
    "ax.set_yticklabels([''] + labels)\n",
    "plt.xlabel('Predicted')\n",
    "plt.ylabel('Expected')\n",
    "plt.show()"
   ]
  },
  {
   "cell_type": "code",
   "execution_count": 23,
   "id": "cef032dc",
   "metadata": {},
   "outputs": [],
   "source": [
    "# Resample to balance the dataset and see if accuracy improves\n",
    "import imblearn as imb\n"
   ]
  },
  {
   "cell_type": "code",
   "execution_count": 24,
   "id": "fbe0020a",
   "metadata": {},
   "outputs": [],
   "source": [
    "# First try naive random undersampling (samples from majority class with replacement)\n",
    "from imblearn.under_sampling import RandomUnderSampler\n",
    "\n",
    "rus = RandomUnderSampler(random_state=0)\n",
    "X_resampled, y_resampled = rus.fit_resample(X, y)\n"
   ]
  },
  {
   "cell_type": "code",
   "execution_count": 25,
   "id": "0431be8f",
   "metadata": {},
   "outputs": [
    {
     "data": {
      "text/html": [
       "<div>\n",
       "<style scoped>\n",
       "    .dataframe tbody tr th:only-of-type {\n",
       "        vertical-align: middle;\n",
       "    }\n",
       "\n",
       "    .dataframe tbody tr th {\n",
       "        vertical-align: top;\n",
       "    }\n",
       "\n",
       "    .dataframe thead th {\n",
       "        text-align: right;\n",
       "    }\n",
       "</style>\n",
       "<table border=\"1\" class=\"dataframe\">\n",
       "  <thead>\n",
       "    <tr style=\"text-align: right;\">\n",
       "      <th></th>\n",
       "      <th>blue</th>\n",
       "      <th>green</th>\n",
       "      <th>red</th>\n",
       "      <th>nir</th>\n",
       "      <th>ndvi</th>\n",
       "      <th>evi</th>\n",
       "      <th>arvi</th>\n",
       "      <th>savi</th>\n",
       "    </tr>\n",
       "  </thead>\n",
       "  <tbody>\n",
       "    <tr>\n",
       "      <th>0</th>\n",
       "      <td>0.039979</td>\n",
       "      <td>0.076186</td>\n",
       "      <td>0.058634</td>\n",
       "      <td>0.357662</td>\n",
       "      <td>0.718304</td>\n",
       "      <td>0.530332</td>\n",
       "      <td>0.644606</td>\n",
       "      <td>0.489516</td>\n",
       "    </tr>\n",
       "    <tr>\n",
       "      <th>1</th>\n",
       "      <td>0.041257</td>\n",
       "      <td>0.076057</td>\n",
       "      <td>0.054167</td>\n",
       "      <td>0.355180</td>\n",
       "      <td>0.735351</td>\n",
       "      <td>0.548992</td>\n",
       "      <td>0.682294</td>\n",
       "      <td>0.496532</td>\n",
       "    </tr>\n",
       "    <tr>\n",
       "      <th>2</th>\n",
       "      <td>0.041457</td>\n",
       "      <td>0.077332</td>\n",
       "      <td>0.058714</td>\n",
       "      <td>0.357157</td>\n",
       "      <td>0.717633</td>\n",
       "      <td>0.533500</td>\n",
       "      <td>0.649197</td>\n",
       "      <td>0.488785</td>\n",
       "    </tr>\n",
       "    <tr>\n",
       "      <th>3</th>\n",
       "      <td>0.043690</td>\n",
       "      <td>0.078921</td>\n",
       "      <td>0.062028</td>\n",
       "      <td>0.346786</td>\n",
       "      <td>0.696548</td>\n",
       "      <td>0.511685</td>\n",
       "      <td>0.623714</td>\n",
       "      <td>0.469995</td>\n",
       "    </tr>\n",
       "    <tr>\n",
       "      <th>4</th>\n",
       "      <td>0.041176</td>\n",
       "      <td>0.079490</td>\n",
       "      <td>0.061128</td>\n",
       "      <td>0.347045</td>\n",
       "      <td>0.700482</td>\n",
       "      <td>0.508753</td>\n",
       "      <td>0.621235</td>\n",
       "      <td>0.472241</td>\n",
       "    </tr>\n",
       "    <tr>\n",
       "      <th>...</th>\n",
       "      <td>...</td>\n",
       "      <td>...</td>\n",
       "      <td>...</td>\n",
       "      <td>...</td>\n",
       "      <td>...</td>\n",
       "      <td>...</td>\n",
       "      <td>...</td>\n",
       "      <td>...</td>\n",
       "    </tr>\n",
       "    <tr>\n",
       "      <th>237</th>\n",
       "      <td>0.016346</td>\n",
       "      <td>0.068286</td>\n",
       "      <td>0.047239</td>\n",
       "      <td>0.272886</td>\n",
       "      <td>0.704870</td>\n",
       "      <td>0.393462</td>\n",
       "      <td>0.554825</td>\n",
       "      <td>0.412705</td>\n",
       "    </tr>\n",
       "    <tr>\n",
       "      <th>238</th>\n",
       "      <td>0.004661</td>\n",
       "      <td>0.030714</td>\n",
       "      <td>0.025907</td>\n",
       "      <td>0.225668</td>\n",
       "      <td>0.794040</td>\n",
       "      <td>0.370984</td>\n",
       "      <td>0.654326</td>\n",
       "      <td>0.398684</td>\n",
       "    </tr>\n",
       "    <tr>\n",
       "      <th>239</th>\n",
       "      <td>0.011239</td>\n",
       "      <td>0.066016</td>\n",
       "      <td>0.042787</td>\n",
       "      <td>0.265568</td>\n",
       "      <td>0.722481</td>\n",
       "      <td>0.387310</td>\n",
       "      <td>0.562608</td>\n",
       "      <td>0.413396</td>\n",
       "    </tr>\n",
       "    <tr>\n",
       "      <th>240</th>\n",
       "      <td>0.038972</td>\n",
       "      <td>0.073183</td>\n",
       "      <td>0.054155</td>\n",
       "      <td>0.356100</td>\n",
       "      <td>0.735993</td>\n",
       "      <td>0.543560</td>\n",
       "      <td>0.674040</td>\n",
       "      <td>0.497572</td>\n",
       "    </tr>\n",
       "    <tr>\n",
       "      <th>241</th>\n",
       "      <td>0.009531</td>\n",
       "      <td>0.060558</td>\n",
       "      <td>0.041773</td>\n",
       "      <td>0.258788</td>\n",
       "      <td>0.722033</td>\n",
       "      <td>0.377301</td>\n",
       "      <td>0.555201</td>\n",
       "      <td>0.406618</td>\n",
       "    </tr>\n",
       "  </tbody>\n",
       "</table>\n",
       "<p>242 rows × 8 columns</p>\n",
       "</div>"
      ],
      "text/plain": [
       "         blue     green       red       nir      ndvi       evi      arvi  \\\n",
       "0    0.039979  0.076186  0.058634  0.357662  0.718304  0.530332  0.644606   \n",
       "1    0.041257  0.076057  0.054167  0.355180  0.735351  0.548992  0.682294   \n",
       "2    0.041457  0.077332  0.058714  0.357157  0.717633  0.533500  0.649197   \n",
       "3    0.043690  0.078921  0.062028  0.346786  0.696548  0.511685  0.623714   \n",
       "4    0.041176  0.079490  0.061128  0.347045  0.700482  0.508753  0.621235   \n",
       "..        ...       ...       ...       ...       ...       ...       ...   \n",
       "237  0.016346  0.068286  0.047239  0.272886  0.704870  0.393462  0.554825   \n",
       "238  0.004661  0.030714  0.025907  0.225668  0.794040  0.370984  0.654326   \n",
       "239  0.011239  0.066016  0.042787  0.265568  0.722481  0.387310  0.562608   \n",
       "240  0.038972  0.073183  0.054155  0.356100  0.735993  0.543560  0.674040   \n",
       "241  0.009531  0.060558  0.041773  0.258788  0.722033  0.377301  0.555201   \n",
       "\n",
       "         savi  \n",
       "0    0.489516  \n",
       "1    0.496532  \n",
       "2    0.488785  \n",
       "3    0.469995  \n",
       "4    0.472241  \n",
       "..        ...  \n",
       "237  0.412705  \n",
       "238  0.398684  \n",
       "239  0.413396  \n",
       "240  0.497572  \n",
       "241  0.406618  \n",
       "\n",
       "[242 rows x 8 columns]"
      ]
     },
     "execution_count": 25,
     "metadata": {},
     "output_type": "execute_result"
    }
   ],
   "source": [
    "X_resampled"
   ]
  },
  {
   "cell_type": "code",
   "execution_count": 26,
   "id": "d3944893",
   "metadata": {},
   "outputs": [
    {
     "data": {
      "text/plain": [
       "high    121\n",
       "low     121\n",
       "Name: disease_sev, dtype: int64"
      ]
     },
     "execution_count": 26,
     "metadata": {},
     "output_type": "execute_result"
    }
   ],
   "source": [
    "# Check number of high dis/low dis samples in resampled set\n",
    "y_resampled.value_counts()"
   ]
  },
  {
   "cell_type": "code",
   "execution_count": 27,
   "id": "31c3834f",
   "metadata": {},
   "outputs": [
    {
     "data": {
      "text/plain": [
       "low     1074\n",
       "high     121\n",
       "Name: disease_sev, dtype: int64"
      ]
     },
     "execution_count": 27,
     "metadata": {},
     "output_type": "execute_result"
    }
   ],
   "source": [
    "# Compare to original dataset\n",
    "y.value_counts()"
   ]
  },
  {
   "cell_type": "code",
   "execution_count": 28,
   "id": "c3244f8f",
   "metadata": {},
   "outputs": [
    {
     "name": "stderr",
     "output_type": "stream",
     "text": [
      "/Users/kathleenkanaley/miniconda3/envs/planetenv/lib/python3.10/site-packages/sklearn/experimental/enable_hist_gradient_boosting.py:16: UserWarning: Since version 1.0, it is not needed to import enable_hist_gradient_boosting anymore. HistGradientBoostingClassifier and HistGradientBoostingRegressor are now stable and can be normally imported from sklearn.ensemble.\n",
      "  warnings.warn(\n"
     ]
    }
   ],
   "source": [
    "# Now, set up a pipeline to resample then model the data\n",
    "\n",
    "from sklearn.experimental import enable_hist_gradient_boosting\n",
    "from sklearn.ensemble import HistGradientBoostingClassifier\n",
    "from sklearn.model_selection import cross_validate\n",
    "from imblearn.pipeline import make_pipeline\n",
    "from sklearn.metrics import balanced_accuracy_score\n"
   ]
  },
  {
   "cell_type": "code",
   "execution_count": 50,
   "id": "77452de1",
   "metadata": {},
   "outputs": [],
   "source": [
    "# Leave some data out for testing later\n",
    "\n",
    "X, X_left_out, y, y_left_out = train_test_split(\n",
    "    X, y, stratify=y, random_state=0)"
   ]
  },
  {
   "cell_type": "code",
   "execution_count": 51,
   "id": "bebc434c",
   "metadata": {},
   "outputs": [
    {
     "data": {
      "text/plain": [
       "low     269\n",
       "high     30\n",
       "Name: disease_sev, dtype: int64"
      ]
     },
     "execution_count": 51,
     "metadata": {},
     "output_type": "execute_result"
    }
   ],
   "source": [
    "y_left_out.value_counts()"
   ]
  },
  {
   "cell_type": "code",
   "execution_count": 62,
   "id": "9977c847",
   "metadata": {},
   "outputs": [
    {
     "name": "stdout",
     "output_type": "stream",
     "text": [
      "Balanced accuracy mean (undersampling) +/- std. dev.: 0.637 +/- 0.044\n"
     ]
    }
   ],
   "source": [
    "model = make_pipeline(\n",
    "    RandomUnderSampler(random_state=0),\n",
    "    HistGradientBoostingClassifier(random_state=1)\n",
    ")\n",
    "cv_results = cross_validate(\n",
    "    model, X, y, scoring=\"balanced_accuracy\",\n",
    "    return_train_score=True, return_estimator=True,\n",
    "    n_jobs=-1\n",
    ")\n",
    "print(\n",
    "    f\"Balanced accuracy mean (undersampling) +/- std. dev.: \"\n",
    "    f\"{cv_results['test_score'].mean():.3f} +/- \"\n",
    "    f\"{cv_results['test_score'].std():.3f}\"\n",
    ")"
   ]
  },
  {
   "cell_type": "code",
   "execution_count": 63,
   "id": "ee3f0050",
   "metadata": {},
   "outputs": [
    {
     "name": "stdout",
     "output_type": "stream",
     "text": [
      "Balanced accuracy mean (undersampling) +/- std. dev.: 0.727 +/- 0.037\n"
     ]
    }
   ],
   "source": [
    "scores = []\n",
    "for fold_id, cv_model in enumerate(cv_results[\"estimator\"]):\n",
    "    scores.append(\n",
    "        balanced_accuracy_score(\n",
    "            y_left_out, cv_model.predict(X_left_out)\n",
    "       )\n",
    "    )\n",
    "print(\n",
    "    f\"Balanced accuracy mean (undersampling) +/- std. dev.: \"\n",
    "    f\"{np.mean(scores):.3f} +/- {np.std(scores):.3f}\"\n",
    ")"
   ]
  },
  {
   "cell_type": "code",
   "execution_count": 64,
   "id": "6c46130b",
   "metadata": {},
   "outputs": [
    {
     "name": "stdout",
     "output_type": "stream",
     "text": [
      "Balanced accuracy mean (oversampling) +/- std. dev.: 0.562 +/- 0.026\n"
     ]
    }
   ],
   "source": [
    "# Repeat with oversampling\n",
    "\n",
    "from imblearn.over_sampling import RandomOverSampler\n",
    "\n",
    "model_os = make_pipeline(\n",
    "    RandomOverSampler(random_state=1),\n",
    "    HistGradientBoostingClassifier(random_state=1)\n",
    ")\n",
    "cv_results_os = cross_validate(\n",
    "    model_os, X, y, scoring=\"balanced_accuracy\",\n",
    "    return_train_score=True, return_estimator=True,\n",
    "    n_jobs=-1\n",
    ")\n",
    "print(\n",
    "    f\"Balanced accuracy mean (oversampling) +/- std. dev.: \"\n",
    "    f\"{cv_results_os['test_score'].mean():.3f} +/- \"\n",
    "    f\"{cv_results_os['test_score'].std():.3f}\"\n",
    ")"
   ]
  },
  {
   "cell_type": "code",
   "execution_count": 65,
   "id": "a99d3405",
   "metadata": {},
   "outputs": [
    {
     "name": "stdout",
     "output_type": "stream",
     "text": [
      "Balanced accuracy mean (oversampling) +/- std. dev.: 0.591 +/- 0.042\n"
     ]
    }
   ],
   "source": [
    "scores_os = []\n",
    "for fold_id, cv_model in enumerate(cv_results_os[\"estimator\"]):\n",
    "    scores_os.append(\n",
    "        balanced_accuracy_score(\n",
    "            y_left_out, cv_model.predict(X_left_out)\n",
    "       )\n",
    "    )\n",
    "print(\n",
    "    f\"Balanced accuracy mean (oversampling) +/- std. dev.: \"\n",
    "    f\"{np.mean(scores_os):.3f} +/- {np.std(scores_os):.3f}\"\n",
    ")"
   ]
  },
  {
   "cell_type": "code",
   "execution_count": 66,
   "id": "28d2470d",
   "metadata": {},
   "outputs": [
    {
     "name": "stdout",
     "output_type": "stream",
     "text": [
      "Balanced accuracy mean (os/shrinkage) +/- std. dev.: 0.519 +/- 0.020\n"
     ]
    }
   ],
   "source": [
    "# Add shrinkage parameter to oversampler\n",
    "# https://imbalanced-learn.org/stable/auto_examples/over-sampling/plot_shrinkage_effect.html#sphx-glr-auto-examples-over-sampling-plot-shrinkage-effect-py\n",
    "\n",
    "model_shrink = make_pipeline(\n",
    "    RandomOverSampler(random_state=1, shrinkage=1),\n",
    "    HistGradientBoostingClassifier(random_state=42)\n",
    ")\n",
    "cv_results_shrink = cross_validate(\n",
    "    model_shrink, X, y, scoring=\"balanced_accuracy\",\n",
    "    return_train_score=True, return_estimator=True,\n",
    "    n_jobs=-1\n",
    ")\n",
    "print(\n",
    "    f\"Balanced accuracy mean (os/shrinkage) +/- std. dev.: \"\n",
    "    f\"{cv_results_shrink['test_score'].mean():.3f} +/- \"\n",
    "    f\"{cv_results_shrink['test_score'].std():.3f}\"\n",
    ")"
   ]
  },
  {
   "cell_type": "code",
   "execution_count": 67,
   "id": "1d626d71",
   "metadata": {},
   "outputs": [
    {
     "name": "stdout",
     "output_type": "stream",
     "text": [
      "Balanced accuracy mean (os/shrinkage) +/- std. dev.: 0.591 +/- 0.032\n"
     ]
    }
   ],
   "source": [
    "scores_shrink = []\n",
    "for fold_id, cv_model in enumerate(cv_results_shrink[\"estimator\"]):\n",
    "    scores_shrink.append(\n",
    "        balanced_accuracy_score(\n",
    "            y_left_out, cv_model.predict(X_left_out)\n",
    "       )\n",
    "    )\n",
    "print(\n",
    "    f\"Balanced accuracy mean (os/shrinkage) +/- std. dev.: \"\n",
    "    f\"{np.mean(scores_shrink):.3f} +/- {np.std(scores_shrink):.3f}\"\n",
    ")"
   ]
  },
  {
   "cell_type": "code",
   "execution_count": null,
   "id": "68e47497",
   "metadata": {},
   "outputs": [],
   "source": [
    "# To do: compare diff. under/oversampling and model combos\n",
    "# https://imbalanced-learn.org/stable/auto_examples/applications/plot_impact_imbalanced_classes.html\n"
   ]
  }
 ],
 "metadata": {
  "kernelspec": {
   "display_name": "Python 3 (ipykernel)",
   "language": "python",
   "name": "python3"
  },
  "language_info": {
   "codemirror_mode": {
    "name": "ipython",
    "version": 3
   },
   "file_extension": ".py",
   "mimetype": "text/x-python",
   "name": "python",
   "nbconvert_exporter": "python",
   "pygments_lexer": "ipython3",
   "version": "3.10.6"
  }
 },
 "nbformat": 4,
 "nbformat_minor": 5
}
