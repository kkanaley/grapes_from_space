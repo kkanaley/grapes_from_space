{
 "cells": [
  {
   "cell_type": "code",
   "execution_count": 3,
   "id": "81e0e7e7",
   "metadata": {},
   "outputs": [],
   "source": [
    "import glob\n",
    "import os\n",
    "import matplotlib.pyplot as plt\n",
    "import pandas as pd\n",
    "import numpy as np\n",
    "import seaborn as sns\n",
    "\n",
    "import sklearn\n",
    "from sklearn.model_selection import train_test_split \n",
    "from sklearn.metrics import classification_report \n",
    "from sklearn.metrics import accuracy_score\n",
    "from sklearn.metrics import precision_recall_fscore_support\n",
    "\n",
    "\n",
    "import imblearn as imb\n",
    "from imblearn.under_sampling import RandomUnderSampler\n",
    "\n",
    "import scipy\n"
   ]
  },
  {
   "cell_type": "code",
   "execution_count": 4,
   "id": "ff8c0af3",
   "metadata": {},
   "outputs": [],
   "source": [
    "data_2021 = pd.read_csv('../data/img_scout_dfs/2021/smr_vis_skysat_scout_2021.csv')"
   ]
  },
  {
   "cell_type": "code",
   "execution_count": 5,
   "id": "c3dd54c4",
   "metadata": {},
   "outputs": [
    {
     "data": {
      "text/plain": [
       "array(['2021-07-07', '2021-07-27', '2021-08-03', '2021-08-10',\n",
       "       '2021-08-17'], dtype=object)"
      ]
     },
     "execution_count": 5,
     "metadata": {},
     "output_type": "execute_result"
    }
   ],
   "source": [
    "data_2021.Date.unique()"
   ]
  },
  {
   "cell_type": "code",
   "execution_count": 6,
   "id": "8ce1cf88",
   "metadata": {},
   "outputs": [],
   "source": [
    "#2021\n",
    "data_2021['DMCast_events'] = 0\n",
    "data_2021.loc[data_2021['Date'] == '2021-07-07', 'DMCast_events'] = 45\n",
    "data_2021.loc[data_2021['Date'] == '2021-07-27', 'DMCast_events'] = 78\n",
    "data_2021.loc[data_2021['Date'] == '2021-08-03', 'DMCast_events'] = 49\n",
    "data_2021.loc[data_2021['Date'] == '2021-08-10', 'DMCast_events'] = 78\n",
    "data_2021.loc[data_2021['Date'] == '2021-08-17', 'DMCast_events'] = 74"
   ]
  },
  {
   "cell_type": "code",
   "execution_count": 7,
   "id": "2335318f",
   "metadata": {},
   "outputs": [],
   "source": [
    "data_2021['GDM_sev']='low'\n",
    "data_2021.loc[data_2021['DM_severity'] > 10, 'GDM_sev'] = 'high'\n",
    "    \n",
    "data_2021['GDM_inc']='low'\n",
    "data_2021.loc[data_2021['DM_inc'] > 25, 'GDM_inc'] = 'high'"
   ]
  },
  {
   "cell_type": "code",
   "execution_count": 9,
   "id": "fac0ad56",
   "metadata": {},
   "outputs": [
    {
     "name": "stdout",
     "output_type": "stream",
     "text": [
      "Low severity: 791\n",
      "High severity: 404\n",
      "Proportion: 1.96 : 1\n"
     ]
    },
    {
     "data": {
      "image/png": "[encoded data removed]",
      "text/plain": [
       "<Figure size 640x480 with 1 Axes>"
      ]
     },
     "metadata": {},
     "output_type": "display_data"
    }
   ],
   "source": [
    "target_count = data_2021.GDM_inc.value_counts()\n",
    "print('Low severity:', target_count[0])\n",
    "print('High severity:', target_count[1])\n",
    "print('Proportion:', round(target_count[0] / target_count[1], 2), ': 1')\n",
    "\n",
    "target_count.plot(kind='bar', title='Count (incidence)');"
   ]
  },
  {
   "cell_type": "code",
   "execution_count": 10,
   "id": "4e4eb823",
   "metadata": {},
   "outputs": [],
   "source": [
    "# All high severity panels are clustered on later image dates\n",
    "# leaving one of these images out will make test set too small\n",
    "\n",
    "# Better idea: random forest for 2020, report accuracy metrics and kappa score\n",
    "\n",
    "# Later test global model on hold-out image from 2020\n",
    "\n",
    "# data_2020[data_2020['GDM_sev']=='high'].Date.unique()"
   ]
  },
  {
   "cell_type": "code",
   "execution_count": 11,
   "id": "7911647b",
   "metadata": {},
   "outputs": [
    {
     "data": {
      "text/plain": [
       "Index(['acquired', 'plot', 'blue', 'green', 'red', 'nir', 'veg_smr',\n",
       "       'savi_exp', 'savi', 'msavi', 'evi', 'arvi', 'gri', 'ndvi', 'nir_blue',\n",
       "       'nir_green', 'red_blue', 'green_red', 'green_blue', 'row', 'panel',\n",
       "       'Date', 'Treatment', 'Block', 'PM_severity', 'DM_severity', 'total_dis',\n",
       "       'geometry', 'centroid', 'PM_inc', 'DM_inc', 'DMCast_events', 'GDM_sev',\n",
       "       'GDM_inc'],\n",
       "      dtype='object')"
      ]
     },
     "execution_count": 11,
     "metadata": {},
     "output_type": "execute_result"
    }
   ],
   "source": [
    "data_2021.columns"
   ]
  },
  {
   "cell_type": "code",
   "execution_count": 12,
   "id": "d8c1ba52",
   "metadata": {},
   "outputs": [],
   "source": [
    "# First with no DMCast\n",
    "expl_vars = ['blue', 'green', 'red', 'nir','savi', 'evi', 'arvi', 'gri', 'ndvi']\n",
    "resp_var = 'GDM_sev'"
   ]
  },
  {
   "cell_type": "code",
   "execution_count": 13,
   "id": "948c9b52",
   "metadata": {},
   "outputs": [],
   "source": [
    "def run_rf_us(df, expl_vars, resp_var, SPLIT_RND_SEED, rand_state):\n",
    "    X = df[expl_vars]\n",
    "    y = df[resp_var]\n",
    "    \n",
    "    rus = RandomUnderSampler(random_state=2020)\n",
    "    X_rus, y_rus = rus.fit_resample(X, y)\n",
    "\n",
    "# Split dataset into training set and test set\n",
    "\n",
    "    X_train, X_test, y_train, y_test = train_test_split(X_rus, y_rus,\n",
    "                                                    test_size=0.3, \n",
    "                                                    random_state=SPLIT_RND_SEED,\n",
    "                                                    stratify = y_rus)  # 70% training and 30% test\n",
    "    from sklearn.ensemble import RandomForestClassifier\n",
    "    # Create a Gaussian Classifier with 500 trees \n",
    "    rf = RandomForestClassifier(n_estimators = 500, \n",
    "                                oob_score=True, \n",
    "                                random_state=rand_state, # random number to be used, needed to reproduce the same result\n",
    "                                verbose=False)\n",
    "    \n",
    "    rf_model = rf.fit(X_train, y_train)\n",
    "    \n",
    "    y_pred = rf.predict(X_test)\n",
    "    \n",
    "    from sklearn.metrics import accuracy_score\n",
    "    accuracy = accuracy_score(y_test, y_pred)\n",
    "    \n",
    "    from sklearn.metrics import precision_recall_fscore_support\n",
    "    \n",
    "    prec, recall, fscore, support = precision_recall_fscore_support(y_test, y_pred, average='weighted')\n",
    "  \n",
    "    \n",
    "    from sklearn.metrics import cohen_kappa_score\n",
    "        \n",
    "    cohen_score = cohen_kappa_score(y_test, y_pred)    \n",
    "\n",
    "    \n",
    "    metrics = {\n",
    "        'cohen_kappa': [cohen_score], \n",
    "        'accuracy_score': [accuracy],\n",
    "        'precision': [prec],\n",
    "        'recall': [recall]\n",
    "    }\n",
    "    metrics_df = pd.DataFrame(data=metrics)\n",
    "    \n",
    "    return metrics_df\n"
   ]
  },
  {
   "cell_type": "code",
   "execution_count": 14,
   "id": "e0542390",
   "metadata": {},
   "outputs": [],
   "source": [
    "import random\n",
    " \n",
    "rand_list=[]\n",
    "n=100\n",
    "for i in range(n):\n",
    "    rand_list.append(random.randint(100,999))"
   ]
  },
  {
   "cell_type": "code",
   "execution_count": 16,
   "id": "18de93f0",
   "metadata": {},
   "outputs": [],
   "source": [
    "results = []\n",
    "for r in rand_list:\n",
    "    res_df = run_rf_us(data_2021, expl_vars, resp_var, r, 2021)\n",
    "    \n",
    "    results.append(res_df)"
   ]
  },
  {
   "cell_type": "code",
   "execution_count": 17,
   "id": "f04bd3e5",
   "metadata": {},
   "outputs": [
    {
     "data": {
      "text/plain": [
       "cohen_kappa       0.371880\n",
       "accuracy_score    0.686027\n",
       "precision         0.689440\n",
       "recall            0.686027\n",
       "dtype: float64"
      ]
     },
     "execution_count": 17,
     "metadata": {},
     "output_type": "execute_result"
    }
   ],
   "source": [
    "results_df = pd.concat(results)\n",
    "\n",
    "results_df.mean()\n"
   ]
  },
  {
   "cell_type": "code",
   "execution_count": 19,
   "id": "4370ac51",
   "metadata": {},
   "outputs": [],
   "source": [
    "# For incidence\n",
    " \n",
    "rand_list=[]\n",
    "n=100\n",
    "for i in range(n):\n",
    "    rand_list.append(random.randint(100,999))"
   ]
  },
  {
   "cell_type": "code",
   "execution_count": 20,
   "id": "576337e3",
   "metadata": {},
   "outputs": [],
   "source": [
    "results_inc = []\n",
    "for r in rand_list:\n",
    "    res_df = run_rf_us(data_2021, expl_vars, 'GDM_inc', r, 4040)\n",
    "    \n",
    "    results_inc.append(res_df)"
   ]
  },
  {
   "cell_type": "code",
   "execution_count": 21,
   "id": "f313602d",
   "metadata": {},
   "outputs": [
    {
     "data": {
      "text/plain": [
       "cohen_kappa       0.657374\n",
       "accuracy_score    0.828683\n",
       "precision         0.830858\n",
       "recall            0.828683\n",
       "dtype: float64"
      ]
     },
     "execution_count": 21,
     "metadata": {},
     "output_type": "execute_result"
    }
   ],
   "source": [
    "results_inc_df = pd.concat(results_inc)\n",
    "\n",
    "results_inc_df.mean()"
   ]
  },
  {
   "cell_type": "code",
   "execution_count": null,
   "id": "e32168d9",
   "metadata": {},
   "outputs": [],
   "source": []
  }
 ],
 "metadata": {
  "kernelspec": {
   "display_name": "Python 3 (ipykernel)",
   "language": "python",
   "name": "python3"
  },
  "language_info": {
   "codemirror_mode": {
    "name": "ipython",
    "version": 3
   },
   "file_extension": ".py",
   "mimetype": "text/x-python",
   "name": "python",
   "nbconvert_exporter": "python",
   "pygments_lexer": "ipython3",
   "version": "3.10.6"
  }
 },
 "nbformat": 4,
 "nbformat_minor": 5
}
