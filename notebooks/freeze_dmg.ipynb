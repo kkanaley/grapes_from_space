{
 "cells": [
  {
   "cell_type": "code",
   "execution_count": 1,
   "id": "5197efc0",
   "metadata": {},
   "outputs": [],
   "source": [
    "import os\n",
    "import glob\n",
    "import rasterio as rio\n",
    "from rasterio.mask import raster_geometry_mask\n",
    "from rasterio import plot\n",
    "from rasterio.plot import show\n",
    "import numpy as np\n",
    "import pandas as pd\n",
    "import matplotlib.pyplot as plt\n",
    "import json\n",
    "import copy\n",
    "import seaborn as sns\n",
    "\n",
    "import pyproj\n",
    "#from scipy.interpolate import griddata\n",
    "from shapely.geometry import shape, MultiPolygon\n",
    "from shapely.ops import transform\n",
    "import geopandas as gpd"
   ]
  },
  {
   "cell_type": "code",
   "execution_count": 2,
   "id": "8f06f5af",
   "metadata": {},
   "outputs": [],
   "source": [
    "# Open the test image of keuka and south Seneca Lake\n",
    "\n",
    "img_file = \"/Users/kathleenkanaley/Downloads/keuka_southseneca_may14_psscene_analytic_8b_sr_udm2/composite.tif\"\n",
    "\n",
    "# Load the geojson with the vineyard geometries\n",
    "\n",
    "vineyards = '/Users/kathleenkanaley/Downloads/Finger_Lakes_Mega_Farm.geojson'\n",
    "\n"
   ]
  },
  {
   "cell_type": "code",
   "execution_count": 17,
   "id": "3f8ddc68",
   "metadata": {},
   "outputs": [],
   "source": [
    "# Functions\n",
    "\n",
    "# Get vineyard masks\n",
    "\n",
    "def get_vineyard_masks(geojson_path, ref_img_path):\n",
    "    '''This function generates a mask that leaves only pixels inside \n",
    "    vine panels unmasked. \n",
    "    \n",
    "    Inputs:\n",
    "    geojson_path (str): path to a geojson file with the panel geometries. \n",
    "    Must be in same CRS as image, otherwise un-comment code section starting with \"dst_crs\".\n",
    "    ref_img_path (str): path to the .tif file for the image\n",
    "    \n",
    "    Outputs:\n",
    "    A list of masks, as Boolean arrays. True values are masked pixels.\n",
    "    False values are unmasked pixels.\n",
    "    '''\n",
    "    with open(geojson_path, 'r') as f:\n",
    "        vineyards = json.load(f)\n",
    "        features = vineyards['features']\n",
    "        #features_ordered = sorted(features, key= lambda feature:(feature['properties']['row'],feature['properties']['panel'])) # ground truth order.\n",
    "        vineyard_aois = [f['geometry'] for f in features]\n",
    "    \n",
    "    with rio.open(ref_img_path) as src:\n",
    "        dst_crs = src.crs\n",
    "        \n",
    "        # geojson features (the field block geometries)\n",
    "        # are often in WGS84\n",
    "        # project these to the image coordinates\n",
    "        wgs84 = pyproj.CRS('EPSG:4326')\n",
    "\n",
    "        project = pyproj.Transformer.from_crs(wgs84, dst_crs, always_xy=True).transform\n",
    "        proj_vineyard_aois = [transform(project, shape(p)) for p in vineyard_aois]\n",
    "\n",
    "        masks = [raster_geometry_mask(src, [p], crop=False)[0]\n",
    "                 for p in proj_vineyard_aois]                       \n",
    "    return masks\n",
    "\n",
    "# Get reflectance df\n",
    "\n",
    "# def get_rfl(img_path, masks):\n",
    "#     '''\n",
    "#     Function to extract per-panel reflectance values for 4-band SkySat images.\n",
    "#     Calculates the mean reflectance values for the pixels in each panel.\n",
    "#     The output is formatted as a pandas dataframe.\n",
    "    \n",
    "#     Inputs:\n",
    "#     img_path - abs. path to the image       \n",
    "#     masks - a list of masks that correspond to the panel aois. \n",
    "#     '''\n",
    "    \n",
    "#     with rio.open(img_path,'r') as img:\n",
    "#         def _get_stats(mask, panel_number):\n",
    "#             panel_blue = np.ma.mean(np.ma.array(img.read(1), mask=mask))/10000\n",
    "#             panel_green = np.ma.mean(np.ma.array(img.read(2), mask=mask))/10000\n",
    "#             panel_red = np.ma.mean(np.ma.array(img.read(3), mask=mask))/10000\n",
    "#             panel_nir = np.ma.mean(np.ma.array(img.read(4), mask=mask))/10000\n",
    "            \n",
    "#             return {'acquired': img_path.split('/')[-1].split('_')[-5], # date from image filename\n",
    "#                     'plot': panel_number + 1,    #add one - panels are numbered starting at 1 in the 'real world'\n",
    "#                     'blue': panel_blue,\n",
    "#                     'green': panel_green,\n",
    "#                     'red': panel_red,\n",
    "#                     'nir': panel_nir}\n",
    "#         data = [_get_stats(m, i) for i, m in enumerate(masks)]  # sets the parameters for the nested function as the mask (m) and corresponding panel number (i). \n",
    "#         df = pd.DataFrame(data)\n",
    "    \n",
    "#     return df"
   ]
  },
  {
   "cell_type": "code",
   "execution_count": 10,
   "id": "632f7bfb",
   "metadata": {
    "collapsed": true
   },
   "outputs": [
    {
     "name": "stdout",
     "output_type": "stream",
     "text": [
      "                blockId                       name description  \\\n",
      "0  01qrClnDL4tOk8B0fhqa       White Pine Vineyards               \n",
      "1  02pMzI3RCGavxXwLTZJx                   Bob Ruis               \n",
      "2  047Irkig673Hr4YHge78  Hermann J Wiemer Vineyard               \n",
      "3  06A3W08XdHRWa8wkfFUh              Phillip Davis               \n",
      "4  07COojX7HwxinOeU2J3P                      Knapp               \n",
      "\n",
      "                                           updatedOn  hectares     acres  \\\n",
      "0  {'_seconds': 1681499142, '_nanoseconds': 82500...  0.237605  0.587114   \n",
      "1  {'_seconds': 1681499142, '_nanoseconds': 73800...  0.299662  0.740455   \n",
      "2  {'_seconds': 1681499142, '_nanoseconds': 86500...  0.250326  0.618548   \n",
      "3  {'_seconds': 1681499142, '_nanoseconds': 81100...  0.417132  1.030719   \n",
      "4  {'_seconds': 1681499142, '_nanoseconds': 72200...  0.496531  1.226911   \n",
      "\n",
      "                       Owner Rtstck_Cln Est_Year           Notes  ...  \\\n",
      "0       White Pine Vineyards          0     2009  6x9 ft spacing  ...   \n",
      "1                   Bob Ruis          0     2000          8 Rows  ...   \n",
      "2  Hermann J Wiemer Vineyard          0        0               0  ...   \n",
      "3              Phillip Davis          0     1997               0  ...   \n",
      "4                      Knapp          0        0               0  ...   \n",
      "\n",
      "  Block_ID                  Variety     Acres  Welchs    County Rows  \\\n",
      "0                    Cabernet Franc  0.586888       0     Wayne    8   \n",
      "1        4                   Merlot  0.740065       0    Seneca    0   \n",
      "2           Lemberger/Blaufrankisch  0.618232       0     Yates    0   \n",
      "3      ec3               Pinot Noir  1.030140       0  Schuyler    0   \n",
      "4       26                 Vignoles  1.226299       0    Seneca    0   \n",
      "\n",
      "  Rootstock Clone    Verified  \\\n",
      "0         0     0   2/28/2020   \n",
      "1         0     0   3/20/2020   \n",
      "2         0     0  11/25/2019   \n",
      "3         0     0               \n",
      "4         0     0   1/15/2020   \n",
      "\n",
      "                                            geometry  \n",
      "0  POLYGON ((-77.32156 43.26014, -77.32307 43.260...  \n",
      "1  POLYGON ((-76.72505 42.64218, -76.72505 42.642...  \n",
      "2  POLYGON ((-76.97602 42.71667, -76.97559 42.716...  \n",
      "3  POLYGON ((-76.88195 42.49530, -76.88193 42.494...  \n",
      "4  POLYGON ((-76.77970 42.76110, -76.78001 42.761...  \n",
      "\n",
      "[5 rows x 21 columns]\n"
     ]
    }
   ],
   "source": [
    "vineyard_data = gpd.read_file('/Users/kathleenkanaley/Downloads/Finger_Lakes_Mega_Farm.geojson')\n",
    "#len(vineyard_data)\n",
    "print(vineyard_data.head())"
   ]
  },
  {
   "cell_type": "code",
   "execution_count": 11,
   "id": "1923c36c",
   "metadata": {},
   "outputs": [
    {
     "data": {
      "text/plain": [
       "array(['Wayne', 'Seneca', 'Yates', 'Schuyler', 'Ontario', 'Steuben',\n",
       "       'Tompkins', 'Cayuga', 'Onandaga', ''], dtype=object)"
      ]
     },
     "execution_count": 11,
     "metadata": {},
     "output_type": "execute_result"
    }
   ],
   "source": [
    "vineyard_data.County.unique()"
   ]
  },
  {
   "cell_type": "code",
   "execution_count": 16,
   "id": "4c16bf1e",
   "metadata": {},
   "outputs": [],
   "source": [
    "vineyards_south = vineyard_data[vineyard_data['County'].isin(['Schuyler','Steuben', 'Yates'])]\n",
    "#len(vineyards_south)\n",
    "#vineyards_south[vineyards_south['Acres']>=10]\n",
    "doyle_simmons = vineyards_south[vineyards_south['name'].isin(['Mike Doyle','Neil Simmons'])]"
   ]
  },
  {
   "cell_type": "code",
   "execution_count": 20,
   "id": "055abb6e",
   "metadata": {},
   "outputs": [],
   "source": [
    "geometries = doyle_simmons['geometry']"
   ]
  },
  {
   "cell_type": "code",
   "execution_count": 21,
   "id": "b454bde1",
   "metadata": {
    "scrolled": true
   },
   "outputs": [
    {
     "name": "stderr",
     "output_type": "stream",
     "text": [
      "/Users/kathleenkanaley/miniconda3/envs/planetenv/lib/python3.10/site-packages/rasterio/mask.py:88: UserWarning: shapes are outside bounds of raster. Are they in different coordinate reference systems?\n",
      "  warnings.warn('shapes are outside bounds of raster. '\n",
      "/Users/kathleenkanaley/miniconda3/envs/planetenv/lib/python3.10/site-packages/rasterio/mask.py:88: UserWarning: shapes are outside bounds of raster. Are they in different coordinate reference systems?\n",
      "  warnings.warn('shapes are outside bounds of raster. '\n",
      "/Users/kathleenkanaley/miniconda3/envs/planetenv/lib/python3.10/site-packages/rasterio/mask.py:88: UserWarning: shapes are outside bounds of raster. Are they in different coordinate reference systems?\n",
      "  warnings.warn('shapes are outside bounds of raster. '\n",
      "/Users/kathleenkanaley/miniconda3/envs/planetenv/lib/python3.10/site-packages/rasterio/mask.py:88: UserWarning: shapes are outside bounds of raster. Are they in different coordinate reference systems?\n",
      "  warnings.warn('shapes are outside bounds of raster. '\n",
      "/Users/kathleenkanaley/miniconda3/envs/planetenv/lib/python3.10/site-packages/rasterio/mask.py:88: UserWarning: shapes are outside bounds of raster. Are they in different coordinate reference systems?\n",
      "  warnings.warn('shapes are outside bounds of raster. '\n",
      "/Users/kathleenkanaley/miniconda3/envs/planetenv/lib/python3.10/site-packages/rasterio/mask.py:88: UserWarning: shapes are outside bounds of raster. Are they in different coordinate reference systems?\n",
      "  warnings.warn('shapes are outside bounds of raster. '\n",
      "/Users/kathleenkanaley/miniconda3/envs/planetenv/lib/python3.10/site-packages/rasterio/mask.py:88: UserWarning: shapes are outside bounds of raster. Are they in different coordinate reference systems?\n",
      "  warnings.warn('shapes are outside bounds of raster. '\n",
      "/Users/kathleenkanaley/miniconda3/envs/planetenv/lib/python3.10/site-packages/rasterio/mask.py:88: UserWarning: shapes are outside bounds of raster. Are they in different coordinate reference systems?\n",
      "  warnings.warn('shapes are outside bounds of raster. '\n",
      "/Users/kathleenkanaley/miniconda3/envs/planetenv/lib/python3.10/site-packages/rasterio/mask.py:88: UserWarning: shapes are outside bounds of raster. Are they in different coordinate reference systems?\n",
      "  warnings.warn('shapes are outside bounds of raster. '\n",
      "/Users/kathleenkanaley/miniconda3/envs/planetenv/lib/python3.10/site-packages/rasterio/mask.py:88: UserWarning: shapes are outside bounds of raster. Are they in different coordinate reference systems?\n",
      "  warnings.warn('shapes are outside bounds of raster. '\n",
      "/Users/kathleenkanaley/miniconda3/envs/planetenv/lib/python3.10/site-packages/rasterio/mask.py:88: UserWarning: shapes are outside bounds of raster. Are they in different coordinate reference systems?\n",
      "  warnings.warn('shapes are outside bounds of raster. '\n",
      "/Users/kathleenkanaley/miniconda3/envs/planetenv/lib/python3.10/site-packages/rasterio/mask.py:88: UserWarning: shapes are outside bounds of raster. Are they in different coordinate reference systems?\n",
      "  warnings.warn('shapes are outside bounds of raster. '\n",
      "/Users/kathleenkanaley/miniconda3/envs/planetenv/lib/python3.10/site-packages/rasterio/mask.py:88: UserWarning: shapes are outside bounds of raster. Are they in different coordinate reference systems?\n",
      "  warnings.warn('shapes are outside bounds of raster. '\n",
      "/Users/kathleenkanaley/miniconda3/envs/planetenv/lib/python3.10/site-packages/rasterio/mask.py:88: UserWarning: shapes are outside bounds of raster. Are they in different coordinate reference systems?\n",
      "  warnings.warn('shapes are outside bounds of raster. '\n",
      "/Users/kathleenkanaley/miniconda3/envs/planetenv/lib/python3.10/site-packages/rasterio/mask.py:88: UserWarning: shapes are outside bounds of raster. Are they in different coordinate reference systems?\n",
      "  warnings.warn('shapes are outside bounds of raster. '\n",
      "/Users/kathleenkanaley/miniconda3/envs/planetenv/lib/python3.10/site-packages/rasterio/mask.py:88: UserWarning: shapes are outside bounds of raster. Are they in different coordinate reference systems?\n",
      "  warnings.warn('shapes are outside bounds of raster. '\n",
      "/Users/kathleenkanaley/miniconda3/envs/planetenv/lib/python3.10/site-packages/rasterio/mask.py:88: UserWarning: shapes are outside bounds of raster. Are they in different coordinate reference systems?\n",
      "  warnings.warn('shapes are outside bounds of raster. '\n",
      "/Users/kathleenkanaley/miniconda3/envs/planetenv/lib/python3.10/site-packages/rasterio/mask.py:88: UserWarning: shapes are outside bounds of raster. Are they in different coordinate reference systems?\n",
      "  warnings.warn('shapes are outside bounds of raster. '\n",
      "/Users/kathleenkanaley/miniconda3/envs/planetenv/lib/python3.10/site-packages/rasterio/mask.py:88: UserWarning: shapes are outside bounds of raster. Are they in different coordinate reference systems?\n",
      "  warnings.warn('shapes are outside bounds of raster. '\n"
     ]
    },
    {
     "data": {
      "text/plain": [
       "99"
      ]
     },
     "execution_count": 21,
     "metadata": {},
     "output_type": "execute_result"
    }
   ],
   "source": [
    "with rio.open(img_file) as src:\n",
    "        dst_crs = src.crs\n",
    "        \n",
    "        # geojson features (the field block geometries)\n",
    "        # are often in WGS84\n",
    "        # project these to the image coordinates\n",
    "        wgs84 = pyproj.CRS('EPSG:4326')\n",
    "\n",
    "        project = pyproj.Transformer.from_crs(wgs84, dst_crs, always_xy=True).transform\n",
    "        proj_vineyard_aois = [transform(project, shape(g)) for g in geometries]\n",
    "\n",
    "        masks = [raster_geometry_mask(src, [p], crop=False)[0]\n",
    "                 for p in proj_vineyard_aois]                       \n",
    "len(masks)"
   ]
  },
  {
   "cell_type": "code",
   "execution_count": null,
   "id": "b04ec06e",
   "metadata": {},
   "outputs": [],
   "source": [
    "with rio.open(img_file,'r') as img:\n",
    "    def _get_stats(mask, vineyard_number):\n",
    "\n",
    "        red = np.ma.array(img.read(6), mask=mask)\n",
    "        nir = np.ma.array(img.read(8), mask=mask)\n",
    "            \n",
    "        np.seterr(divide='ignore', invalid='ignore')\n",
    "            \n",
    "        ndvi = (nir - red)/(nir + red)\n",
    "            \n",
    "        mean_ndvi = np.ma.mean(ndvi)\n",
    "            \n",
    "        return {'acquired': img_file.split('/')[-2].split('_')[-6], # date from image filename\n",
    "                    'vineyard_num': vineyard_number,\n",
    "                    'ndvi': mean_ndvi}\n",
    "        \n",
    "    data = [_get_stats(m, i) for i, m in enumerate(masks)]  # sets the parameters for the nested function as the mask (m) and corresponding vineyard number (i). \n",
    "    df = pd.DataFrame(data)\n",
    "\n",
    "df"
   ]
  },
  {
   "cell_type": "markdown",
   "id": "b7bdd27e",
   "metadata": {},
   "source": [
    "# First, clip the image to the vineyard of interest\n"
   ]
  },
  {
   "cell_type": "code",
   "execution_count": 2,
   "id": "128f4620",
   "metadata": {},
   "outputs": [],
   "source": [
    "# Clip all images to the desired aoi.\n",
    "\n",
    "# def clip_to_aoi(path_to_aoi, img_path):\n",
    "#     '''This function clips an image to an area of interest (aoi).\n",
    "#     Inputs:\n",
    "#     path_to_aoi: the absolute path to a geojson file for the aoi - this needs to be in EPSG 4326\n",
    "#     img_path: absolute path name for the image to clip.\n",
    "    \n",
    "#     Output: saves the clipped image as a .tif file to the same directory where the original image is stored'''\n",
    "    \n",
    "#     with open(path_to_aoi, 'r') as f:\n",
    "#         aoi = json.load(f)\n",
    "#     aoi_geom = aoi['features'][0]['geometry']\n",
    "    \n",
    "#     # find the coordinate reference system of the image\n",
    "#     with rio.open(img_path) as src:\n",
    "#         dst_crs = src.crs\n",
    "#         wgs84 = pyproj.CRS('EPSG:4326')\n",
    "#         project = pyproj.Transformer.from_crs(wgs84, dst_crs, always_xy=True).transform\n",
    "#         proj_aoi = transform(project, shape(aoi_geom))\n",
    "        \n",
    "#         mask, mask_transform = rio.mask.mask(src, [proj_aoi], crop=True)\n",
    "#         mask_meta = src.meta\n",
    "#         mask_meta.update({\"driver\": \"GTiff\",\n",
    "#                           \"height\": mask.shape[1],\n",
    "#                           \"width\": mask.shape[2],\n",
    "#                           \"transform\": mask_transform})\n",
    "        \n",
    "#         with rio.open(str(os.path.abspath(img_path).split('.tif')[0])+\"_clipped.tif\", \"w\", **mask_meta) as dest:\n",
    "#             dest.write(mask)   "
   ]
  },
  {
   "cell_type": "code",
   "execution_count": 4,
   "id": "3f921cb5",
   "metadata": {},
   "outputs": [],
   "source": [
    "# Open the image and read as an array\n",
    "\n",
    "img_path ='/Users/kathleenkanaley/Desktop/frost_dmg/20220828_151645_10_2262_3B_AnalyticMS_SR_8b_harmonized_clip.tif'\n",
    "with rio.open(img_path) as src:\n",
    "    image_arr = src.read()"
   ]
  },
  {
   "cell_type": "code",
   "execution_count": 5,
   "id": "6e638557",
   "metadata": {},
   "outputs": [
    {
     "data": {
      "text/plain": [
       "<matplotlib.image.AxesImage at 0x1528c0b80>"
      ]
     },
     "execution_count": 5,
     "metadata": {},
     "output_type": "execute_result"
    },
    {
     "data": {
      "image/png": "[encoded data removed]",
      "text/plain": [
       "<Figure size 640x480 with 1 Axes>"
      ]
     },
     "metadata": {},
     "output_type": "display_data"
    }
   ],
   "source": [
    "# Plot the first band of the image \n",
    "\n",
    "plt.imshow(image_arr[1]) # replace '1' with any band number to visualize other bands"
   ]
  },
  {
   "cell_type": "code",
   "execution_count": 6,
   "id": "1e3348b5",
   "metadata": {},
   "outputs": [],
   "source": [
    "# # Clip the image to the area of interest\n",
    "# path_to_aoi = '/Users/kathleenkanaley/Desktop/frost_dmg/chardonnay_2020.geojson'\n",
    "\n",
    "# clip_to_aoi(path_to_aoi, img_path)\n"
   ]
  },
  {
   "cell_type": "code",
   "execution_count": 7,
   "id": "6004b0db",
   "metadata": {},
   "outputs": [
    {
     "data": {
      "text/plain": [
       "<matplotlib.image.AxesImage at 0x152cb8070>"
      ]
     },
     "execution_count": 7,
     "metadata": {},
     "output_type": "execute_result"
    },
    {
     "data": {
      "image/png": "[encoded data removed]",
      "text/plain": [
       "<Figure size 640x480 with 1 Axes>"
      ]
     },
     "metadata": {},
     "output_type": "display_data"
    }
   ],
   "source": [
    "# # Take a look at clipped image\n",
    "\n",
    "# with rio.open('/Users/kathleenkanaley/Desktop/frost_dmg/20220828_151645_10_2262_3B_AnalyticMS_SR_8b_harmonized_clip_clipped.tif') as src:\n",
    "#     clipped_arr = src.read()\n",
    "\n",
    "# plt.imshow(clipped_arr[1])"
   ]
  },
  {
   "cell_type": "markdown",
   "id": "e19439b3",
   "metadata": {},
   "source": [
    "## Extract NDVI for the clipped image and store in a dataframe with the associated vineyard name and geometry"
   ]
  },
  {
   "cell_type": "code",
   "execution_count": 8,
   "id": "8c0f9331",
   "metadata": {},
   "outputs": [],
   "source": [
    "# # Extract NDVI\n",
    "\n",
    "# def add_ndvi(image) :\n",
    "#     '''Calculates the normalized difference vegetation index for each pixel\n",
    "#     in an image and adds it as a band.\n",
    "    \n",
    "#     image: (string) path to raster\n",
    "    \n",
    "#     returns: image with an ndvi band'''\n",
    "    \n",
    "    \n",
    "#     with rio.open(image) as src:\n",
    "#         raster_arr = src.read()\n",
    "    \n",
    "#     # modify with appropriate band numbers\n",
    "    \n",
    "#     red = raster_arr[6]\n",
    "#     nir = raster_arr[8]\n",
    " \n",
    "    \n",
    "#     np.seterr(divide='ignore', invalid='ignore')\n",
    "    \n",
    "\n",
    "#     ndvi = ((nir - red)/(nir + red)).reshape(1,raster_arr.shape[1], raster_arr.shape[2])\n",
    "\n",
    "    \n",
    "#     stacked_arr = np.vstack([raster_arr, ndvi])\n",
    "\n",
    "    \n",
    "#     # Save stacked array as raster\n",
    "#     with rio.open(image) as src:\n",
    "#         kwargs = src.meta\n",
    "#         band_ct = stacked_arr.shape[0]\n",
    "#         kwargs.update(dtype=rio.float32, count=band_ct)\n",
    "        \n",
    "#         with rio.open(str(os.path.split(image)[0])+'/NDVI_'+str(os.path.basename(image)), 'w', **kwargs) as dst:\n",
    "#             for b in range(stacked_arr.shape[0]):\n",
    "#                 dst.write_band(b+1, stacked_arr[b].astype(rio.float32))\n"
   ]
  },
  {
   "cell_type": "markdown",
   "id": "da3b2433",
   "metadata": {},
   "source": [
    "## Get NDVI just for vineyards - geojsons to mask"
   ]
  },
  {
   "cell_type": "code",
   "execution_count": 43,
   "id": "ced39d5c",
   "metadata": {},
   "outputs": [],
   "source": [
    "# Get vineyard masks\n",
    "\n",
    "def get_vineyard_masks(geojson_paths, ref_img_path):\n",
    "    '''This function generates a mask that leaves only pixels inside \n",
    "    vine panels unmasked. \n",
    "    \n",
    "    Inputs:\n",
    "    geojson_paths (list): list of paths to geojson files with the vineyard geometries. \n",
    "    Must be in same CRS as image, otherwise un-comment code section starting with \"dst_crs\".\n",
    "    ref_img_path (str): path to the .tif file for the image\n",
    "    \n",
    "    Outputs:\n",
    "    A list of masks, as Boolean arrays. True values are masked pixels.\n",
    "    False values are unmasked pixels.\n",
    "    '''\n",
    "    \n",
    "    masks = []\n",
    "    \n",
    "    for path in geojson_paths:\n",
    "        with open(path, 'r') as v:\n",
    "            vineyard = json.load(v)\n",
    "            features = vineyard['features']\n",
    "            vineyard_aois = [f['geometry'] for f in features]\n",
    "            \n",
    "        with rio.open(ref_img_path) as src:\n",
    "            dst_crs = src.crs\n",
    "            # geojson features (the vineyard block geometries)\n",
    "            # are often in WGS84\n",
    "            # project these to the image coordinates\n",
    "            \n",
    "            wgs84 = pyproj.CRS('EPSG:4326')\n",
    "            project = pyproj.Transformer.from_crs(wgs84, dst_crs, always_xy=True).transform\n",
    "            proj_vineyard_aois = [transform(project, shape(v)) for v in vineyard_aois]\n",
    "            \n",
    "            masks.append([raster_geometry_mask(src, [v], crop=False)[0] for v in proj_vineyard_aois])\n",
    "            \n",
    "    return masks\n",
    "\n",
    "# Get ndvi df\n",
    "\n",
    "def get_ndvi_df(img_path, masks):\n",
    "    '''\n",
    "    Function to extract per-vineyard mean NDVI from satellite images.\n",
    "    The output is formatted as a pandas dataframe.\n",
    "    \n",
    "    Inputs:\n",
    "    img_path - abs. path to the image       \n",
    "    masks - a list of masks that correspond to the vineyard aois. \n",
    "    \n",
    "    Output:\n",
    "    pandas df with date of image acquisition, vineyard number, and mean ndvi.\n",
    "    \n",
    "    '''\n",
    "    \n",
    "    with rio.open(img_path,'r') as img:\n",
    "        def _get_stats(mask, vineyard_number):\n",
    "\n",
    "            red = np.ma.array(img.read(6), mask=mask)\n",
    "            nir = np.ma.array(img.read(8), mask=mask)\n",
    "            \n",
    "            np.seterr(divide='ignore', invalid='ignore')\n",
    "            \n",
    "            ndvi = (nir - red)/(nir + red)\n",
    "            \n",
    "            mean_ndvi = np.ma.mean(ndvi)\n",
    "            \n",
    "            return {'acquired': img_path.split('/')[-1].split('_')[-10], # date from image filename\n",
    "                    'vineyard_num': vineyard_number,\n",
    "                    'ndvi': mean_ndvi}\n",
    "        \n",
    "        data = [_get_stats(m, i) for i, m in enumerate(masks)]  # sets the parameters for the nested function as the mask (m) and corresponding vineyard number (i). \n",
    "        df = pd.DataFrame(data)\n",
    "    \n",
    "    return df"
   ]
  },
  {
   "cell_type": "code",
   "execution_count": 41,
   "id": "6c52b52d",
   "metadata": {},
   "outputs": [],
   "source": [
    "geojsons = ['/Users/kathleenkanaley/Desktop/frost_dmg/chardonnay_2020.geojson',\n",
    "            '/Users/kathleenkanaley/Desktop/frost_dmg/pm_trial.geojson']\n",
    "\n",
    "# Test \n",
    "\n",
    "masks = get_vineyard_masks(geojsons, img_path)"
   ]
  },
  {
   "cell_type": "code",
   "execution_count": 42,
   "id": "9d2d0104",
   "metadata": {},
   "outputs": [
    {
     "data": {
      "text/plain": [
       "2"
      ]
     },
     "execution_count": 42,
     "metadata": {},
     "output_type": "execute_result"
    }
   ],
   "source": [
    "len(masks)"
   ]
  },
  {
   "cell_type": "code",
   "execution_count": 39,
   "id": "8069ac33",
   "metadata": {},
   "outputs": [
    {
     "data": {
      "text/html": [
       "<div>\n",
       "<style scoped>\n",
       "    .dataframe tbody tr th:only-of-type {\n",
       "        vertical-align: middle;\n",
       "    }\n",
       "\n",
       "    .dataframe tbody tr th {\n",
       "        vertical-align: top;\n",
       "    }\n",
       "\n",
       "    .dataframe thead th {\n",
       "        text-align: right;\n",
       "    }\n",
       "</style>\n",
       "<table border=\"1\" class=\"dataframe\">\n",
       "  <thead>\n",
       "    <tr style=\"text-align: right;\">\n",
       "      <th></th>\n",
       "      <th>acquired</th>\n",
       "      <th>vineyard_num</th>\n",
       "      <th>ndvi</th>\n",
       "    </tr>\n",
       "  </thead>\n",
       "  <tbody>\n",
       "    <tr>\n",
       "      <th>0</th>\n",
       "      <td>20220828</td>\n",
       "      <td>0</td>\n",
       "      <td>0.731443</td>\n",
       "    </tr>\n",
       "    <tr>\n",
       "      <th>1</th>\n",
       "      <td>20220828</td>\n",
       "      <td>1</td>\n",
       "      <td>0.754770</td>\n",
       "    </tr>\n",
       "  </tbody>\n",
       "</table>\n",
       "</div>"
      ],
      "text/plain": [
       "   acquired  vineyard_num      ndvi\n",
       "0  20220828             0  0.731443\n",
       "1  20220828             1  0.754770"
      ]
     },
     "execution_count": 39,
     "metadata": {},
     "output_type": "execute_result"
    }
   ],
   "source": [
    "get_ndvi_df(img_path, masks)"
   ]
  },
  {
   "cell_type": "code",
   "execution_count": 59,
   "id": "3d9758d3",
   "metadata": {},
   "outputs": [
    {
     "name": "stdout",
     "output_type": "stream",
     "text": [
      "[{'type': 'MultiPolygon', 'coordinates': [[[[-77.0166863002458, 42.878546829802836], [-77.01668601092757, 42.87881557045253], [-77.01521716887808, 42.87853811895566], [-77.01521574330846, 42.878272069225204], [-77.0166863002458, 42.878546829802836]]]]}]\n",
      "{'c': None, 'h': None, 'a': None, 'r': None, 'd': None, 'o': None, 'n': None, 'y': None, '_': None, '2': None, '0': None, '.': None, 'g': None, 'e': None, 'j': None, 's': None}\n",
      "[{'type': 'MultiPolygon', 'coordinates': [[[[-77.01667925810412, 42.87883468145494], [-77.01668573646914, 42.879135712975746], [-77.0152447014364, 42.87884281307181], [-77.01522880640238, 42.87855908562627], [-77.01667925810412, 42.87883468145494]]]]}]\n",
      "{'p': None, 'm': None, '_': None, 't': None, 'r': None, 'i': None, 'a': None, 'l': None, '.': None, 'g': None, 'e': None, 'o': None, 'j': None, 's': None, 'n': None}\n"
     ]
    }
   ],
   "source": [
    "# Try getting masks with coords\n",
    "\n",
    "\n",
    "for path in geojsons:\n",
    "    with open(path, 'r') as v:\n",
    "        vineyard = json.load(v)\n",
    "        features = vineyard['features']\n",
    "        vineyard_aois = [f['geometry'] for f in features]\n",
    "        vineyard_names = os.path.split(path)[-1]#.split('_')[-10]\n",
    "        mask_dict = dict.fromkeys(vineyard_names)\n",
    "    print(vineyard_aois)\n",
    "    print(mask_dict)\n",
    "\n",
    "#         with rio.open(ref_img_path) as src:\n",
    "#             dst_crs = src.crs\n",
    "#             # geojson features (the vineyard block geometries)\n",
    "#             # are often in WGS84\n",
    "#             # project these to the image coordinates\n",
    "            \n",
    "#             wgs84 = pyproj.CRS('EPSG:4326')\n",
    "#             project = pyproj.Transformer.from_crs(wgs84, dst_crs, always_xy=True).transform\n",
    "#             proj_vineyard_aois = [transform(project, shape(v)) for v in vineyard_aois]\n",
    "            \n",
    "#             masks.append([raster_geometry_mask(src, [v], crop=False)[0] for v in proj_vineyard_aois])\n",
    "            \n",
    "#     return masks\n",
    "    "
   ]
  },
  {
   "cell_type": "code",
   "execution_count": 50,
   "id": "94ee9ef2",
   "metadata": {},
   "outputs": [
    {
     "data": {
      "text/plain": [
       "list"
      ]
     },
     "execution_count": 50,
     "metadata": {},
     "output_type": "execute_result"
    }
   ],
   "source": [
    "type(vineyard_aois)"
   ]
  },
  {
   "cell_type": "code",
   "execution_count": null,
   "id": "9debc479",
   "metadata": {},
   "outputs": [],
   "source": []
  }
 ],
 "metadata": {
  "kernelspec": {
   "display_name": "Python 3 (ipykernel)",
   "language": "python",
   "name": "python3"
  },
  "language_info": {
   "codemirror_mode": {
    "name": "ipython",
    "version": 3
   },
   "file_extension": ".py",
   "mimetype": "text/x-python",
   "name": "python",
   "nbconvert_exporter": "python",
   "pygments_lexer": "ipython3",
   "version": "3.10.6"
  }
 },
 "nbformat": 4,
 "nbformat_minor": 5
}
