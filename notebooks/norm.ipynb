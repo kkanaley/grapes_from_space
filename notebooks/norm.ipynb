{
 "cells": [
  {
   "cell_type": "code",
   "execution_count": 1,
   "id": "a99b8b94",
   "metadata": {},
   "outputs": [],
   "source": [
    "import os\n",
    "import glob\n",
    "import rasterio as rio\n",
    "from rasterio.mask import raster_geometry_mask\n",
    "from rasterio import plot\n",
    "import numpy as np\n",
    "import pandas as pd\n",
    "import matplotlib.pyplot as plt\n",
    "import json"
   ]
  },
  {
   "cell_type": "code",
   "execution_count": 2,
   "id": "111f546e",
   "metadata": {},
   "outputs": [],
   "source": [
    "data_dir = '../data/'"
   ]
  },
  {
   "cell_type": "code",
   "execution_count": 3,
   "id": "1d3f61e0",
   "metadata": {},
   "outputs": [
    {
     "data": {
      "text/plain": [
       "['../data/images/2022/SkySat/20220720_153112_ssc4d2_0013_analytic_SR_clipped.tif',\n",
       " '../data/images/2022/SkySat/20220707_151445_ssc4d2_0006_analytic_SR_clipped.tif',\n",
       " '../data/images/2022/SkySat/20220622_160829_ssc15d2_0014_analytic_SR_clipped.tif',\n",
       " '../data/images/2021/SkySat/20210726_160338_ssc1d2_0013_ar.tif',\n",
       " '../data/images/2021/SkySat/20210802_184019_ssc10d2_0005_ar.tif',\n",
       " '../data/images/2021/SkySat/20210707_150122_ssc19d2_0016_ar.tif',\n",
       " '../data/images/2021/SkySat/20210816_171007_ssc18d2_0015_ar.tif',\n",
       " '../data/images/2021/SkySat/20210809_185329_ssc9d2_0014_ar.tif',\n",
       " '../data/images/2020/SkySat/20200710_155028_ssc3d2_0012_ar.tif',\n",
       " '../data/images/2020/SkySat/20200812_153924_ssc3d2_0013_ar.tif',\n",
       " '../data/images/2020/SkySat/20200625_154704_ssc12d2_0013_ar.tif']"
      ]
     },
     "execution_count": 3,
     "metadata": {},
     "output_type": "execute_result"
    }
   ],
   "source": [
    "# Batch process\n",
    "\n",
    "orig_imgs = glob.glob(data_dir +'images/*/SkySat/202*.tif')\n",
    "orig_imgs"
   ]
  },
  {
   "cell_type": "code",
   "execution_count": 9,
   "id": "b339185a",
   "metadata": {},
   "outputs": [
    {
     "data": {
      "text/plain": [
       "['../data/images/2022/PScope/20220613_154958_91_240c_3B_AnalyticMS_SR_8b_clipped.tif',\n",
       " '../data/images/2022/PScope/20220630_150422_85_241d_3B_AnalyticMS_SR_8b_clipped.tif',\n",
       " '../data/images/2022/PScope/20220704_155057_15_240a_3B_AnalyticMS_SR_8b_clipped.tif',\n",
       " '../data/images/2022/PScope/20220726_155410_80_2407_3B_AnalyticMS_SR_8b_clipped.tif',\n",
       " '../data/images/2022/PScope/20220624_150204_01_241b_3B_AnalyticMS_SR_8b_clipped.tif',\n",
       " '../data/images/2022/PScope/20220731_153552_40_2461_3B_AnalyticMS_SR_8b_clipped.tif',\n",
       " '../data/images/2022/PScope/20220709_155032_68_240a_3B_AnalyticMS_SR_8b_clipped.tif',\n",
       " '../data/images/2021/PScope/20210808_150651_57_2460_3B_AnalyticMS_SR_8b_harmonized_clip.tif',\n",
       " '../data/images/2021/PScope/20210804_152058_95_222f_3B_AnalyticMS_SR_8b_harmonized_clip.tif',\n",
       " '../data/images/2021/PScope/20210624_160110_56_225b_3B_AnalyticMS_SR_8b_harmonized_clip.tif',\n",
       " '../data/images/2021/PScope/20210715_151038_58_2450_3B_AnalyticMS_SR_8b_harmonized_clip.tif',\n",
       " '../data/images/2021/PScope/20210726_155527_27_227a_3B_AnalyticMS_SR_8b_harmonized_clip.tif',\n",
       " '../data/images/2020/PScope/20200616_151605_21_2304_3B_AnalyticMS_SR_8b_harmonized_clip.tif',\n",
       " '../data/images/2020/PScope/20200801_151354_03_2212_3B_AnalyticMS_SR_8b_harmonized_clip.tif',\n",
       " '../data/images/2020/PScope/20200713_151457_44_2278_3B_AnalyticMS_SR_8b_harmonized_clip.tif']"
      ]
     },
     "execution_count": 9,
     "metadata": {},
     "output_type": "execute_result"
    }
   ],
   "source": [
    "orig_imgs_ps = glob.glob(data_dir +'images/*/PScope/202*.tif')\n",
    "orig_imgs_ps"
   ]
  },
  {
   "cell_type": "code",
   "execution_count": 10,
   "id": "a2208509",
   "metadata": {},
   "outputs": [],
   "source": [
    "# Try normalizing by min/max values for each band\n",
    "# test_img = orig_imgs[1]\n",
    "\n",
    "# with rio.open(test_img) as src:\n",
    "#     as_arr = src.read()\n",
    "#     arr_min = as_arr.min(axis=(1, 2), keepdims=True)  # set axis to (1,2) to normalize for each band separately\n",
    "#     arr_max = as_arr.max(axis=(1, 2), keepdims=True)\n",
    "    \n",
    "#     normalized = (as_arr - arr_min)/(arr_max-arr_min)\n",
    "#     print(normalized.shape)"
   ]
  },
  {
   "cell_type": "code",
   "execution_count": 7,
   "id": "7362e53d",
   "metadata": {},
   "outputs": [],
   "source": [
    "def minmax_norm(img_paths):\n",
    "    '''\n",
    "    Returns a normalized image for each input raster.\n",
    "    Normalization scales reflectance values to 0-1.\n",
    "    Each band is normalized separately.\n",
    "    \n",
    "    Input:\n",
    "    img_paths - list of abs. paths to input images\n",
    "    \n",
    "    '''\n",
    "    for i in img_paths:\n",
    "        \n",
    "        with rio.open(i) as src:\n",
    "            as_arr = src.read()\n",
    "            arr_min = as_arr.min(axis=(1, 2), keepdims=True)\n",
    "            arr_max = as_arr.max(axis=(1, 2), keepdims=True)\n",
    "            \n",
    "            normalized = (as_arr - arr_min)/(arr_max-arr_min)\n",
    "            \n",
    "            kwargs = src.meta\n",
    "            kwargs.update(dtype=rio.float32, count =4)\n",
    "            \n",
    "            with rio.open(str(os.path.split(i)[0])+'/NORM_minmax_'+str(os.path.basename(i)), \n",
    "                          'w', **kwargs) as dst:\n",
    "                \n",
    "                dst.write_band(1, normalized[0].astype(rio.float32))\n",
    "                dst.write_band(2, normalized[1].astype(rio.float32))\n",
    "                dst.write_band(3, normalized[2].astype(rio.float32))\n",
    "                dst.write_band(4, normalized[3].astype(rio.float32))\n"
   ]
  },
  {
   "cell_type": "code",
   "execution_count": 11,
   "id": "b67da2f7",
   "metadata": {},
   "outputs": [],
   "source": [
    "def minmax_norm_ps(img_paths):\n",
    "    '''\n",
    "    Returns a normalized image for each input raster.\n",
    "    Normalization scales reflectance values to 0-1.\n",
    "    Each band is normalized separately.\n",
    "    \n",
    "    Input:\n",
    "    img_paths - list of abs. paths to input images\n",
    "    \n",
    "    '''\n",
    "    for i in img_paths:\n",
    "        \n",
    "        with rio.open(i) as src:\n",
    "            as_arr = src.read()\n",
    "            arr_min = as_arr.min(axis=(1, 2), keepdims=True)\n",
    "            arr_max = as_arr.max(axis=(1, 2), keepdims=True)\n",
    "            \n",
    "            normalized = (as_arr - arr_min)/(arr_max-arr_min)\n",
    "            \n",
    "            kwargs = src.meta\n",
    "            kwargs.update(dtype=rio.float32, count =8)\n",
    "            \n",
    "            with rio.open(str(os.path.split(i)[0])+'/NORM_minmax_'+str(os.path.basename(i)), \n",
    "                          'w', **kwargs) as dst:\n",
    "                \n",
    "                dst.write_band(1, normalized[0].astype(rio.float32))\n",
    "                dst.write_band(2, normalized[1].astype(rio.float32))\n",
    "                dst.write_band(3, normalized[2].astype(rio.float32))\n",
    "                dst.write_band(4, normalized[3].astype(rio.float32))\n",
    "                dst.write_band(5, normalized[4].astype(rio.float32))\n",
    "                dst.write_band(6, normalized[5].astype(rio.float32))\n",
    "                dst.write_band(7, normalized[6].astype(rio.float32))\n",
    "                dst.write_band(8, normalized[7].astype(rio.float32))\n"
   ]
  },
  {
   "cell_type": "code",
   "execution_count": 12,
   "id": "b9973ddd",
   "metadata": {},
   "outputs": [],
   "source": [
    "minmax_norm_ps(orig_imgs_ps)"
   ]
  },
  {
   "cell_type": "code",
   "execution_count": 22,
   "id": "769074cd",
   "metadata": {},
   "outputs": [],
   "source": [
    "# Alternative normalization function using np.linalg.norm()\n",
    "\n",
    "\n",
    "def get_norm_img(img_paths):\n",
    "    '''\n",
    "    Returns a normalized image for each input raster.\n",
    "    Normalization is performed using the numpy.linalg.norm() function.\n",
    "    The function calculates the Frobenius norm of each pixel in the input image\n",
    "    and divides the pixel by the norm to return a unit vector.\n",
    "    \n",
    "    Input:\n",
    "    img_paths - list of abs. paths to input images\n",
    "    output_dir - directory to store normalized images\n",
    "    \n",
    "    '''\n",
    "    for i in img_paths:\n",
    "        with rio.open(i) as src:\n",
    "            as_array = src.read()\n",
    "            normalized = as_array/np.linalg.norm(as_array)\n",
    "           \n",
    "            \n",
    "            kwargs = src.meta\n",
    "            kwargs.update(dtype=rio.float32, count =4)\n",
    "            \n",
    "            with rio.open(str(os.path.split(i)[0])+'/NORM_'+str(os.path.basename(i)), 'w', **kwargs) as dst:\n",
    "                dst.write_band(1, normalized[0].astype(rio.float32))\n",
    "                dst.write_band(2, normalized[1].astype(rio.float32))\n",
    "                dst.write_band(3, normalized[2].astype(rio.float32))\n",
    "                dst.write_band(4, normalized[3].astype(rio.float32))"
   ]
  },
  {
   "cell_type": "code",
   "execution_count": 1,
   "id": "dcad6cf1",
   "metadata": {},
   "outputs": [],
   "source": [
    "def get_norm_img_8band(img_paths):\n",
    "    '''\n",
    "    Returns a normalized image for each input raster.\n",
    "    Normalization is performed using the numpy.linalg.norm() function.\n",
    "    The function calculates the Frobenius norm of each pixel in the input image\n",
    "    and divides the pixel by the norm to return a unit vector.\n",
    "    \n",
    "    Input:\n",
    "    img_paths - list of abs. paths to input images\n",
    "    output_dir - directory to store normalized images\n",
    "    \n",
    "    '''\n",
    "    for i in img_paths:\n",
    "        with rio.open(i) as src:\n",
    "            as_array = src.read()\n",
    "            normalized = as_array/np.linalg.norm(as_array)\n",
    "            \n",
    "            kwargs = src.meta\n",
    "            kwargs.update(dtype=rio.float32, count =8)\n",
    "            \n",
    "            with rio.open(str(os.path.split(i)[0])+'/NORM_'+str(os.path.basename(i)), 'w', **kwargs) as dst:\n",
    "                dst.write_band(1, normalized[0].astype(rio.float32))\n",
    "                dst.write_band(2, normalized[1].astype(rio.float32))\n",
    "                dst.write_band(3, normalized[2].astype(rio.float32))\n",
    "                dst.write_band(4, normalized[3].astype(rio.float32))\n",
    "                dst.write_band(5, normalized[4].astype(rio.float32))\n",
    "                dst.write_band(6, normalized[5].astype(rio.float32))\n",
    "                dst.write_band(7, normalized[6].astype(rio.float32))\n",
    "                dst.write_band(8, normalized[7].astype(rio.float32))"
   ]
  },
  {
   "cell_type": "code",
   "execution_count": 23,
   "id": "86c86713",
   "metadata": {},
   "outputs": [],
   "source": [
    "#get_norm_img(orig_imgs)"
   ]
  },
  {
   "cell_type": "code",
   "execution_count": null,
   "id": "1741ad64",
   "metadata": {},
   "outputs": [],
   "source": []
  }
 ],
 "metadata": {
  "kernelspec": {
   "display_name": "Python 3 (ipykernel)",
   "language": "python",
   "name": "python3"
  },
  "language_info": {
   "codemirror_mode": {
    "name": "ipython",
    "version": 3
   },
   "file_extension": ".py",
   "mimetype": "text/x-python",
   "name": "python",
   "nbconvert_exporter": "python",
   "pygments_lexer": "ipython3",
   "version": "3.10.6"
  }
 },
 "nbformat": 4,
 "nbformat_minor": 5
}
