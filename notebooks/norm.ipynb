{
 "cells": [
  {
   "cell_type": "code",
   "execution_count": 1,
   "id": "a99b8b94",
   "metadata": {},
   "outputs": [],
   "source": [
    "import os\n",
    "import glob\n",
    "import rasterio as rio\n",
    "from rasterio.mask import raster_geometry_mask\n",
    "from rasterio import plot\n",
    "import numpy as np\n",
    "import pandas as pd\n",
    "import matplotlib.pyplot as plt\n",
    "import json"
   ]
  },
  {
   "cell_type": "code",
   "execution_count": 2,
   "id": "111f546e",
   "metadata": {},
   "outputs": [],
   "source": [
    "home= '/Users/kathleenkanaley/Desktop/grapes_in_space/'"
   ]
  },
  {
   "cell_type": "code",
   "execution_count": 16,
   "id": "1d3f61e0",
   "metadata": {},
   "outputs": [],
   "source": [
    "# Batch process\n",
    "\n",
    "orig_imgs = glob.glob(home +'images_work/images_analysis_ready/*/SkySat/2020*.tif')"
   ]
  },
  {
   "cell_type": "code",
   "execution_count": 17,
   "id": "da067840",
   "metadata": {},
   "outputs": [
    {
     "name": "stdout",
     "output_type": "stream",
     "text": [
      "['/Users/kathleenkanaley/Desktop/grapes_in_space/images_work/images_analysis_ready/2020/SkySat/20200710_155028_ssc3d2_0012_ar.tif', '/Users/kathleenkanaley/Desktop/grapes_in_space/images_work/images_analysis_ready/2020/SkySat/20200812_153924_ssc3d2_0013_ar.tif', '/Users/kathleenkanaley/Desktop/grapes_in_space/images_work/images_analysis_ready/2020/SkySat/20200625_154704_ssc12d2_0013_ar.tif']\n",
      "3\n"
     ]
    }
   ],
   "source": [
    "print(orig_imgs)\n",
    "print(len(orig_imgs))"
   ]
  },
  {
   "cell_type": "code",
   "execution_count": 22,
   "id": "769074cd",
   "metadata": {},
   "outputs": [],
   "source": [
    "def get_norm_img(img_paths):\n",
    "    '''\n",
    "    Returns a normalized image for each input raster.\n",
    "    Normalization is performed using the numpy.linalg.norm() function.\n",
    "    The function calculates the Frobenius norm of each pixel in the input image\n",
    "    and divides the pixel by the norm to return a unit vector.\n",
    "    \n",
    "    Input:\n",
    "    img_paths - list of abs. paths to input images\n",
    "    output_dir - directory to store normalized images\n",
    "    \n",
    "    '''\n",
    "    for i in img_paths:\n",
    "        with rio.open(i) as src:\n",
    "            as_array = src.read()\n",
    "            normalized = as_array/np.linalg.norm(as_array)\n",
    "           \n",
    "            \n",
    "            kwargs = src.meta\n",
    "            kwargs.update(dtype=rio.float32, count =4)\n",
    "            \n",
    "            with rio.open(str(os.path.split(i)[0])+'/NORM_'+str(os.path.basename(i)), 'w', **kwargs) as dst:\n",
    "                dst.write_band(1, normalized[0].astype(rio.float32))\n",
    "                dst.write_band(2, normalized[1].astype(rio.float32))\n",
    "                dst.write_band(3, normalized[2].astype(rio.float32))\n",
    "                dst.write_band(4, normalized[3].astype(rio.float32))"
   ]
  },
  {
   "cell_type": "code",
   "execution_count": 1,
   "id": "dcad6cf1",
   "metadata": {},
   "outputs": [],
   "source": [
    "def get_norm_img_8band(img_paths):\n",
    "    '''\n",
    "    Returns a normalized image for each input raster.\n",
    "    Normalization is performed using the numpy.linalg.norm() function.\n",
    "    The function calculates the Frobenius norm of each pixel in the input image\n",
    "    and divides the pixel by the norm to return a unit vector.\n",
    "    \n",
    "    Input:\n",
    "    img_paths - list of abs. paths to input images\n",
    "    output_dir - directory to store normalized images\n",
    "    \n",
    "    '''\n",
    "    for i in img_paths:\n",
    "        with rio.open(i) as src:\n",
    "            as_array = src.read()\n",
    "            normalized = as_array/np.linalg.norm(as_array)\n",
    "            \n",
    "            kwargs = src.meta\n",
    "            kwargs.update(dtype=rio.float32, count =8)\n",
    "            \n",
    "            with rio.open(str(os.path.split(i)[0])+'/NORM_'+str(os.path.basename(i)), 'w', **kwargs) as dst:\n",
    "                dst.write_band(1, normalized[0].astype(rio.float32))\n",
    "                dst.write_band(2, normalized[1].astype(rio.float32))\n",
    "                dst.write_band(3, normalized[2].astype(rio.float32))\n",
    "                dst.write_band(4, normalized[3].astype(rio.float32))\n",
    "                dst.write_band(5, normalized[4].astype(rio.float32))\n",
    "                dst.write_band(6, normalized[5].astype(rio.float32))\n",
    "                dst.write_band(7, normalized[6].astype(rio.float32))\n",
    "                dst.write_band(8, normalized[7].astype(rio.float32))"
   ]
  },
  {
   "cell_type": "code",
   "execution_count": 23,
   "id": "86c86713",
   "metadata": {},
   "outputs": [],
   "source": [
    "#get_norm_img(orig_imgs)"
   ]
  },
  {
   "cell_type": "code",
   "execution_count": null,
   "id": "1741ad64",
   "metadata": {},
   "outputs": [],
   "source": []
  }
 ],
 "metadata": {
  "kernelspec": {
   "display_name": "Python 3 (ipykernel)",
   "language": "python",
   "name": "python3"
  },
  "language_info": {
   "codemirror_mode": {
    "name": "ipython",
    "version": 3
   },
   "file_extension": ".py",
   "mimetype": "text/x-python",
   "name": "python",
   "nbconvert_exporter": "python",
   "pygments_lexer": "ipython3",
   "version": "3.10.6"
  }
 },
 "nbformat": 4,
 "nbformat_minor": 5
}
